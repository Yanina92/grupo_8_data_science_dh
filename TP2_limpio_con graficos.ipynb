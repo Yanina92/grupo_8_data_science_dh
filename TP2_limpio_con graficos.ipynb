{
 "cells": [
  {
   "cell_type": "code",
   "execution_count": 10,
   "id": "3806166d",
   "metadata": {},
   "outputs": [],
   "source": [
    "import numpy as np\n",
    "import pandas as pd\n",
    "import matplotlib.pyplot as plt\n",
    "import seaborn  as sbn\n",
    "import re\n",
    "import seaborn as sns\n",
    "from sklearn import metrics\n",
    "from sklearn.preprocessing import StandardScaler\n",
    "from sklearn import linear_model\n",
    "from sklearn.metrics import r2_score\n",
    "\n",
    "from sklearn.model_selection import train_test_split"
   ]
  },
  {
   "cell_type": "code",
   "execution_count": 34,
   "id": "7d5dd6cc",
   "metadata": {},
   "outputs": [
    {
     "data": {
      "text/plain": [
       "(120381, 12)"
      ]
     },
     "execution_count": 34,
     "metadata": {},
     "output_type": "execute_result"
    }
   ],
   "source": [
    "data_model = pd.read_csv('properatti_model_data.csv')\n",
    "data_model.shape"
   ]
  },
  {
   "cell_type": "code",
   "execution_count": 35,
   "id": "80a68d34",
   "metadata": {},
   "outputs": [
    {
     "data": {
      "text/plain": [
       "Unnamed: 0                          int64\n",
       "place_name_new                     object\n",
       "state_name_new                     object\n",
       "description_new                    object\n",
       "rooms_new                         float64\n",
       "title_new                          object\n",
       "property_type_new                  object\n",
       "surface_total_in_m2_new           float64\n",
       "currency_new                       object\n",
       "price_new                         float64\n",
       "price_aprox_local_currency_new    float64\n",
       "price_usd_per_m2_new              float64\n",
       "dtype: object"
      ]
     },
     "execution_count": 35,
     "metadata": {},
     "output_type": "execute_result"
    }
   ],
   "source": [
    "data_model.dtypes"
   ]
  },
  {
   "cell_type": "code",
   "execution_count": 36,
   "id": "dc4b9c50",
   "metadata": {},
   "outputs": [
    {
     "data": {
      "text/plain": [
       "Index(['Unnamed: 0', 'place_name_new', 'state_name_new', 'description_new',\n",
       "       'rooms_new', 'title_new', 'property_type_new',\n",
       "       'surface_total_in_m2_new', 'currency_new', 'price_new',\n",
       "       'price_aprox_local_currency_new', 'price_usd_per_m2_new'],\n",
       "      dtype='object')"
      ]
     },
     "execution_count": 36,
     "metadata": {},
     "output_type": "execute_result"
    }
   ],
   "source": [
    "data_model.columns"
   ]
  },
  {
   "cell_type": "markdown",
   "id": "17368621",
   "metadata": {},
   "source": [
    "## SECCIÓN 5 - ANÁLISIS DE CORRELACIÓN"
   ]
  },
  {
   "cell_type": "markdown",
   "id": "db1d44d3",
   "metadata": {},
   "source": [
    "En este caso no podemos usar la covarianza para estimar la relación entre variables, ya que tenemos diferentes unidaeddes de medida (m2, dolares, cantidad de rooms, etc). \n",
    "\n",
    "Con lo cual estimamos una matriz de correlación."
   ]
  },
  {
   "cell_type": "markdown",
   "id": "db92bcb0",
   "metadata": {},
   "source": [
    "Para cacular correlaciones no puede haber nulos en las columnas. Seleccionamos solamente las columnas numéricas."
   ]
  },
  {
   "cell_type": "code",
   "execution_count": 37,
   "id": "b3a60ceb",
   "metadata": {},
   "outputs": [
    {
     "data": {
      "text/html": [
       "<div>\n",
       "<style scoped>\n",
       "    .dataframe tbody tr th:only-of-type {\n",
       "        vertical-align: middle;\n",
       "    }\n",
       "\n",
       "    .dataframe tbody tr th {\n",
       "        vertical-align: top;\n",
       "    }\n",
       "\n",
       "    .dataframe thead th {\n",
       "        text-align: right;\n",
       "    }\n",
       "</style>\n",
       "<table border=\"1\" class=\"dataframe\">\n",
       "  <thead>\n",
       "    <tr style=\"text-align: right;\">\n",
       "      <th></th>\n",
       "      <th>rooms_new</th>\n",
       "      <th>price_new</th>\n",
       "      <th>surface_total_in_m2_new</th>\n",
       "      <th>price_usd_per_m2_new</th>\n",
       "    </tr>\n",
       "  </thead>\n",
       "  <tbody>\n",
       "    <tr>\n",
       "      <th>rooms_new</th>\n",
       "      <td>1.000</td>\n",
       "      <td>0.173</td>\n",
       "      <td>0.194</td>\n",
       "      <td>-0.094</td>\n",
       "    </tr>\n",
       "    <tr>\n",
       "      <th>price_new</th>\n",
       "      <td>0.173</td>\n",
       "      <td>1.000</td>\n",
       "      <td>0.070</td>\n",
       "      <td>0.251</td>\n",
       "    </tr>\n",
       "    <tr>\n",
       "      <th>surface_total_in_m2_new</th>\n",
       "      <td>0.194</td>\n",
       "      <td>0.070</td>\n",
       "      <td>1.000</td>\n",
       "      <td>-0.042</td>\n",
       "    </tr>\n",
       "    <tr>\n",
       "      <th>price_usd_per_m2_new</th>\n",
       "      <td>-0.094</td>\n",
       "      <td>0.251</td>\n",
       "      <td>-0.042</td>\n",
       "      <td>1.000</td>\n",
       "    </tr>\n",
       "  </tbody>\n",
       "</table>\n",
       "</div>"
      ],
      "text/plain": [
       "                         rooms_new  price_new  surface_total_in_m2_new  \\\n",
       "rooms_new                    1.000      0.173                    0.194   \n",
       "price_new                    0.173      1.000                    0.070   \n",
       "surface_total_in_m2_new      0.194      0.070                    1.000   \n",
       "price_usd_per_m2_new        -0.094      0.251                   -0.042   \n",
       "\n",
       "                         price_usd_per_m2_new  \n",
       "rooms_new                              -0.094  \n",
       "price_new                               0.251  \n",
       "surface_total_in_m2_new                -0.042  \n",
       "price_usd_per_m2_new                    1.000  "
      ]
     },
     "execution_count": 37,
     "metadata": {},
     "output_type": "execute_result"
    }
   ],
   "source": [
    "matrix_corr = data_model[['rooms_new','price_new','surface_total_in_m2_new','price_usd_per_m2_new']].corr().round(3)\n",
    "matrix_corr"
   ]
  },
  {
   "cell_type": "markdown",
   "id": "c864c87a",
   "metadata": {},
   "source": [
    "Le cambiamos los nombres a las columnas para que se vean mejor en el gráfico heatmap."
   ]
  },
  {
   "cell_type": "code",
   "execution_count": 38,
   "id": "c6b955c1",
   "metadata": {},
   "outputs": [],
   "source": [
    "data_model_graph = data_model.rename(columns={'rooms_new':'Ambientes',\n",
    "                                   'price_new':'Precio',\n",
    "                                   'surface_total_in_m2_new':'Superficie total en m2',\n",
    "                                   'price_usd_per_m2_new':'Precio en dólares por m2'})"
   ]
  },
  {
   "cell_type": "code",
   "execution_count": 39,
   "id": "7b0b3a58",
   "metadata": {},
   "outputs": [
    {
     "data": {
      "text/plain": [
       "Index(['Unnamed: 0', 'place_name_new', 'state_name_new', 'description_new',\n",
       "       'Ambientes', 'title_new', 'property_type_new', 'Superficie total en m2',\n",
       "       'currency_new', 'Precio', 'price_aprox_local_currency_new',\n",
       "       'Precio en dólares por m2'],\n",
       "      dtype='object')"
      ]
     },
     "execution_count": 39,
     "metadata": {},
     "output_type": "execute_result"
    }
   ],
   "source": [
    "data_model_graph.columns"
   ]
  },
  {
   "cell_type": "code",
   "execution_count": 40,
   "id": "32d6b130",
   "metadata": {},
   "outputs": [
    {
     "data": {
      "text/html": [
       "<div>\n",
       "<style scoped>\n",
       "    .dataframe tbody tr th:only-of-type {\n",
       "        vertical-align: middle;\n",
       "    }\n",
       "\n",
       "    .dataframe tbody tr th {\n",
       "        vertical-align: top;\n",
       "    }\n",
       "\n",
       "    .dataframe thead th {\n",
       "        text-align: right;\n",
       "    }\n",
       "</style>\n",
       "<table border=\"1\" class=\"dataframe\">\n",
       "  <thead>\n",
       "    <tr style=\"text-align: right;\">\n",
       "      <th></th>\n",
       "      <th>Ambientes</th>\n",
       "      <th>Precio</th>\n",
       "      <th>Superficie total en m2</th>\n",
       "      <th>Precio en dólares por m2</th>\n",
       "    </tr>\n",
       "  </thead>\n",
       "  <tbody>\n",
       "    <tr>\n",
       "      <th>Ambientes</th>\n",
       "      <td>1.000</td>\n",
       "      <td>0.173</td>\n",
       "      <td>0.194</td>\n",
       "      <td>-0.094</td>\n",
       "    </tr>\n",
       "    <tr>\n",
       "      <th>Precio</th>\n",
       "      <td>0.173</td>\n",
       "      <td>1.000</td>\n",
       "      <td>0.070</td>\n",
       "      <td>0.251</td>\n",
       "    </tr>\n",
       "    <tr>\n",
       "      <th>Superficie total en m2</th>\n",
       "      <td>0.194</td>\n",
       "      <td>0.070</td>\n",
       "      <td>1.000</td>\n",
       "      <td>-0.042</td>\n",
       "    </tr>\n",
       "    <tr>\n",
       "      <th>Precio en dólares por m2</th>\n",
       "      <td>-0.094</td>\n",
       "      <td>0.251</td>\n",
       "      <td>-0.042</td>\n",
       "      <td>1.000</td>\n",
       "    </tr>\n",
       "  </tbody>\n",
       "</table>\n",
       "</div>"
      ],
      "text/plain": [
       "                          Ambientes  Precio  Superficie total en m2  \\\n",
       "Ambientes                     1.000   0.173                   0.194   \n",
       "Precio                        0.173   1.000                   0.070   \n",
       "Superficie total en m2        0.194   0.070                   1.000   \n",
       "Precio en dólares por m2     -0.094   0.251                  -0.042   \n",
       "\n",
       "                          Precio en dólares por m2  \n",
       "Ambientes                                   -0.094  \n",
       "Precio                                       0.251  \n",
       "Superficie total en m2                      -0.042  \n",
       "Precio en dólares por m2                     1.000  "
      ]
     },
     "execution_count": 40,
     "metadata": {},
     "output_type": "execute_result"
    }
   ],
   "source": [
    "matrix_corr_graph = data_model_graph[[\"Ambientes\",\"Precio\",\"Superficie total en m2\",\"Precio en dólares por m2\"]].corr().round(3)\n",
    "matrix_corr_graph"
   ]
  },
  {
   "cell_type": "markdown",
   "id": "aaaebd68",
   "metadata": {},
   "source": [
    "Vemos que hay una correlaciones bajas por lo general, la correlacion mas alta obtenidad se da entre 'rooms_new' y 'surface_total_in_m2_new'"
   ]
  },
  {
   "cell_type": "markdown",
   "id": "d38b6c1e",
   "metadata": {},
   "source": [
    "* Se realiza un grafico para poder verlo con mayor claridad"
   ]
  },
  {
   "cell_type": "code",
   "execution_count": 41,
   "id": "402e5dd2",
   "metadata": {},
   "outputs": [
    {
     "data": {
      "image/png": "[encoded data removed]",
      "text/plain": [
       "<Figure size 1000x800 with 2 Axes>"
      ]
     },
     "metadata": {},
     "output_type": "display_data"
    }
   ],
   "source": [
    "plt.figure(figsize=(10, 8))\n",
    "sns.heatmap(matrix_corr_graph, annot=True, cmap='RdYlGn', fmt='.2f', linewidths=.5)\n",
    "plt.title('Correlación entre columnas categóricas')\n",
    "plt.show()"
   ]
  },
  {
   "cell_type": "code",
   "execution_count": 42,
   "id": "051ddf39",
   "metadata": {},
   "outputs": [
    {
     "data": {
      "text/html": [
       "<div>\n",
       "<style scoped>\n",
       "    .dataframe tbody tr th:only-of-type {\n",
       "        vertical-align: middle;\n",
       "    }\n",
       "\n",
       "    .dataframe tbody tr th {\n",
       "        vertical-align: top;\n",
       "    }\n",
       "\n",
       "    .dataframe thead th {\n",
       "        text-align: right;\n",
       "    }\n",
       "</style>\n",
       "<table border=\"1\" class=\"dataframe\">\n",
       "  <thead>\n",
       "    <tr style=\"text-align: right;\">\n",
       "      <th></th>\n",
       "      <th>Unnamed: 0</th>\n",
       "      <th>rooms_new</th>\n",
       "      <th>surface_total_in_m2_new</th>\n",
       "      <th>price_new</th>\n",
       "      <th>price_aprox_local_currency_new</th>\n",
       "      <th>price_usd_per_m2_new</th>\n",
       "    </tr>\n",
       "  </thead>\n",
       "  <tbody>\n",
       "    <tr>\n",
       "      <th>count</th>\n",
       "      <td>120381.000000</td>\n",
       "      <td>120381.000000</td>\n",
       "      <td>120381.000000</td>\n",
       "      <td>1.203810e+05</td>\n",
       "      <td>1.203810e+05</td>\n",
       "      <td>120381.000000</td>\n",
       "    </tr>\n",
       "    <tr>\n",
       "      <th>mean</th>\n",
       "      <td>60661.105224</td>\n",
       "      <td>2.670347</td>\n",
       "      <td>252.554786</td>\n",
       "      <td>2.361797e+05</td>\n",
       "      <td>4.167273e+06</td>\n",
       "      <td>2060.800612</td>\n",
       "    </tr>\n",
       "    <tr>\n",
       "      <th>std</th>\n",
       "      <td>34967.529435</td>\n",
       "      <td>1.297204</td>\n",
       "      <td>1698.128341</td>\n",
       "      <td>3.548722e+05</td>\n",
       "      <td>6.261543e+06</td>\n",
       "      <td>3954.544246</td>\n",
       "    </tr>\n",
       "    <tr>\n",
       "      <th>min</th>\n",
       "      <td>0.000000</td>\n",
       "      <td>1.000000</td>\n",
       "      <td>1.000000</td>\n",
       "      <td>4.666620e+03</td>\n",
       "      <td>8.234017e+04</td>\n",
       "      <td>0.600000</td>\n",
       "    </tr>\n",
       "    <tr>\n",
       "      <th>25%</th>\n",
       "      <td>30366.000000</td>\n",
       "      <td>2.000000</td>\n",
       "      <td>55.000000</td>\n",
       "      <td>9.556658e+04</td>\n",
       "      <td>1.686225e+06</td>\n",
       "      <td>838.709677</td>\n",
       "    </tr>\n",
       "    <tr>\n",
       "      <th>50%</th>\n",
       "      <td>60771.000000</td>\n",
       "      <td>2.000000</td>\n",
       "      <td>95.000000</td>\n",
       "      <td>1.506127e+05</td>\n",
       "      <td>2.657486e+06</td>\n",
       "      <td>1560.000000</td>\n",
       "    </tr>\n",
       "    <tr>\n",
       "      <th>75%</th>\n",
       "      <td>90922.000000</td>\n",
       "      <td>3.000000</td>\n",
       "      <td>264.000000</td>\n",
       "      <td>2.650000e+05</td>\n",
       "      <td>4.675792e+06</td>\n",
       "      <td>2360.000000</td>\n",
       "    </tr>\n",
       "    <tr>\n",
       "      <th>max</th>\n",
       "      <td>121219.000000</td>\n",
       "      <td>32.000000</td>\n",
       "      <td>110000.000000</td>\n",
       "      <td>4.654544e+07</td>\n",
       "      <td>8.212711e+08</td>\n",
       "      <td>600000.000000</td>\n",
       "    </tr>\n",
       "  </tbody>\n",
       "</table>\n",
       "</div>"
      ],
      "text/plain": [
       "          Unnamed: 0      rooms_new  surface_total_in_m2_new     price_new  \\\n",
       "count  120381.000000  120381.000000            120381.000000  1.203810e+05   \n",
       "mean    60661.105224       2.670347               252.554786  2.361797e+05   \n",
       "std     34967.529435       1.297204              1698.128341  3.548722e+05   \n",
       "min         0.000000       1.000000                 1.000000  4.666620e+03   \n",
       "25%     30366.000000       2.000000                55.000000  9.556658e+04   \n",
       "50%     60771.000000       2.000000                95.000000  1.506127e+05   \n",
       "75%     90922.000000       3.000000               264.000000  2.650000e+05   \n",
       "max    121219.000000      32.000000            110000.000000  4.654544e+07   \n",
       "\n",
       "       price_aprox_local_currency_new  price_usd_per_m2_new  \n",
       "count                    1.203810e+05         120381.000000  \n",
       "mean                     4.167273e+06           2060.800612  \n",
       "std                      6.261543e+06           3954.544246  \n",
       "min                      8.234017e+04              0.600000  \n",
       "25%                      1.686225e+06            838.709677  \n",
       "50%                      2.657486e+06           1560.000000  \n",
       "75%                      4.675792e+06           2360.000000  \n",
       "max                      8.212711e+08         600000.000000  "
      ]
     },
     "execution_count": 42,
     "metadata": {},
     "output_type": "execute_result"
    }
   ],
   "source": [
    "data_model.describe()"
   ]
  },
  {
   "cell_type": "markdown",
   "id": "4c421918",
   "metadata": {},
   "source": [
    "## Sección gráfica"
   ]
  },
  {
   "cell_type": "markdown",
   "id": "65dc2b63",
   "metadata": {},
   "source": [
    "#### A continuación se puede ver la correlación para las dos variables númericas que utilizaremos para nuestro modelo. A medida que aumenta la sup. cubierta y la cantidad de cuartos, disminuye el precio por m2."
   ]
  },
  {
   "cell_type": "code",
   "execution_count": 54,
   "id": "fc6febbd",
   "metadata": {},
   "outputs": [
    {
     "data": {
      "image/png": "[encoded data removed]",
      "text/plain": [
       "<Figure size 640x480 with 1 Axes>"
      ]
     },
     "metadata": {},
     "output_type": "display_data"
    }
   ],
   "source": [
    "sns.regplot(data=data_model,x=\"surface_total_in_m2_new\",y=\"price_usd_per_m2_new\",line_kws=dict(color=\"m\"), scatter_kws=dict(color=\"c\"))\n",
    "plt.xlabel(\"Superficie total m2\")\n",
    "plt.ylabel(\"Precio promedio m2\")\n",
    "plt.show()"
   ]
  },
  {
   "cell_type": "code",
   "execution_count": 55,
   "id": "58850b04",
   "metadata": {},
   "outputs": [
    {
     "data": {
      "image/png": "[encoded data removed]",
      "text/plain": [
       "<Figure size 640x480 with 1 Axes>"
      ]
     },
     "metadata": {},
     "output_type": "display_data"
    }
   ],
   "source": [
    "sns.regplot(data=data_model,x=\"rooms_new\",y=\"price_usd_per_m2_new\",line_kws=dict(color=\"r\"), scatter_kws=dict(color=\"y\"))\n",
    "plt.xlabel(\"Ambientes\")\n",
    "plt.ylabel(\"Precio promedio m2\")\n",
    "plt.show()"
   ]
  },
  {
   "cell_type": "markdown",
   "id": "ae76598c",
   "metadata": {},
   "source": [
    "### Análisis de variables categoricas"
   ]
  },
  {
   "cell_type": "code",
   "execution_count": 53,
   "id": "71b0a7b9",
   "metadata": {},
   "outputs": [
    {
     "data": {
      "image/png": "[encoded data removed]",
      "text/plain": [
       "<Figure size 640x480 with 1 Axes>"
      ]
     },
     "metadata": {},
     "output_type": "display_data"
    }
   ],
   "source": [
    "df_group_property = data_model.groupby('property_type_new')\n",
    "df_resume = df_group_property ['price_usd_per_m2_new'].mean()\n",
    "colors = sns.color_palette(\"Set3\", len(df_resume))\n",
    "plt.bar(data_model[\"property_type_new\"].value_counts().index,df_resume, color=colors)\n",
    "plt.xlabel(\"Tipo de propiedad\")\n",
    "plt.ylabel(\"Precio promedio m2\")\n",
    "plt.show()"
   ]
  },
  {
   "cell_type": "code",
   "execution_count": 70,
   "id": "e2bca0aa",
   "metadata": {},
   "outputs": [
    {
     "data": {
      "image/png": "[encoded data removed]",
      "text/plain": [
       "<Figure size 2200x2200 with 1 Axes>"
      ]
     },
     "metadata": {},
     "output_type": "display_data"
    }
   ],
   "source": [
    "df_group_place_name = data_model.groupby('place_name_new')\n",
    "df_resume = df_group_place_name ['price_usd_per_m2_new'].mean().sort_values(ascending=False).head(10)\n",
    "plt.figure(figsize=(22,22))\n",
    "colors = sns.color_palette(\"husl\", len(df_resume))\n",
    "plt.bar(df_resume.index,df_resume, color=colors, alpha=0.5, width=0.5)\n",
    "plt.rcParams[\"figure.figsize\"] = (22,10)\n",
    "plt.xlabel(\"Localidad\")\n",
    "plt.ylabel(\"Precio promedio por m2\")\n",
    "plt.show()"
   ]
  },
  {
   "cell_type": "code",
   "execution_count": 74,
   "id": "7b152019",
   "metadata": {},
   "outputs": [
    {
     "data": {
      "text/plain": [
       "place_name_new\n",
       "Lomas de Benavidez          35807.139340\n",
       "Alejandro Roca              24038.461538\n",
       "San Francisco del Monte     15833.333333\n",
       "Capilla del Señor           12363.287037\n",
       "Manantiales                 11117.339143\n",
       "Boedo                       10077.383485\n",
       "San Cristobal                8151.043872\n",
       "St. Patrick Country          8048.309179\n",
       "Club de Campo La Martona     7876.814516\n",
       "Puerto Madero                6401.267839\n",
       "Name: price_usd_per_m2_new, dtype: float64"
      ]
     },
     "execution_count": 74,
     "metadata": {},
     "output_type": "execute_result"
    }
   ],
   "source": [
    "df_resume = df_group_place_name ['price_usd_per_m2_new'].mean().sort_values(ascending=False).head(10)\n",
    "df_resume"
   ]
  },
  {
   "cell_type": "code",
   "execution_count": null,
   "id": "8b52aafc",
   "metadata": {},
   "outputs": [],
   "source": []
  },
  {
   "cell_type": "code",
   "execution_count": null,
   "id": "fadcd0ad",
   "metadata": {},
   "outputs": [],
   "source": []
  },
  {
   "cell_type": "markdown",
   "id": "1dad8653",
   "metadata": {},
   "source": [
    "### LIMPIEZA DE OUTLIERS. Se vuelven a limpiar porque al probar el modelo con el data set del TP1, las predicciones arrojan valores inconsistentes."
   ]
  },
  {
   "cell_type": "code",
   "execution_count": 99,
   "id": "d1ff8875",
   "metadata": {},
   "outputs": [
    {
     "name": "stdout",
     "output_type": "stream",
     "text": [
      "Limite sup surface_total_in_m2_new 381.5\n",
      "Limite inf surface_total_in_m2_new 0\n",
      "Limite sup price_new 358011.70225202426\n",
      "Limite inf price_new 0\n",
      "Limite sup price_usd_per_m2_new 4060.1611990950223\n",
      "Limite inf price_usd_per_m2_new 0\n",
      "(81709, 12)\n"
     ]
    }
   ],
   "source": [
    "columnas = 'surface_total_in_m2_new', 'price_new', 'price_usd_per_m2_new'\n",
    "\n",
    "for columna in columnas:\n",
    "    columna_limpia = data_model[columna]\n",
    "\n",
    "    q1 = columna_limpia.quantile(0.25)\n",
    "    #print(q1)\n",
    "    q3 = columna_limpia.quantile(0.75)\n",
    "    #print(q3)\n",
    "    iqr = (q3 - q1) * 1.5\n",
    "\n",
    "    limite_sup = q3 + iqr\n",
    "    limite_inf = 0\n",
    "    \n",
    "    print(\"Limite sup\", columna, limite_sup)\n",
    "    print(\"Limite inf\", columna, limite_inf)\n",
    "    \n",
    "    outlier_mask_up = columna_limpia < limite_sup\n",
    "    outlier_mask_down = columna_limpia > limite_inf\n",
    "    outlier_mask = np.logical_and(outlier_mask_up, outlier_mask_down)\n",
    "    \n",
    "    data_model = data_model.loc[outlier_mask,:]\n",
    "\n",
    "print(data_model.shape)\n",
    "    "
   ]
  },
  {
   "cell_type": "code",
   "execution_count": 100,
   "id": "908b2571",
   "metadata": {},
   "outputs": [
    {
     "name": "stdout",
     "output_type": "stream",
     "text": [
      "rooms_new: 0\n",
      "surface_total_in_m2_new: 0\n",
      "price_new: 0\n",
      "price_usd_per_m2_new: 0\n"
     ]
    }
   ],
   "source": [
    "cols = 'rooms_new', 'surface_total_in_m2_new', 'price_new', 'price_usd_per_m2_new'\n",
    "\n",
    "for x in cols:\n",
    "    missing_values = data_model[x].isna().sum()\n",
    "    print(f\"{x}: {missing_values}\")    "
   ]
  },
  {
   "cell_type": "markdown",
   "id": "9ca6fead",
   "metadata": {},
   "source": [
    "### SE AGREGAN NUEVAS FEATURES AL MODELO DE DATOS"
   ]
  },
  {
   "cell_type": "code",
   "execution_count": 101,
   "id": "c49c7bb0",
   "metadata": {},
   "outputs": [],
   "source": [
    "dummies_prop_type = pd.get_dummies(data_model.property_type_new, drop_first=True)\n",
    "data_model_ml = pd.concat([data_model, dummies_prop_type], axis=1)"
   ]
  },
  {
   "cell_type": "code",
   "execution_count": 102,
   "id": "d15b72a2",
   "metadata": {},
   "outputs": [
    {
     "data": {
      "text/html": [
       "<div>\n",
       "<style scoped>\n",
       "    .dataframe tbody tr th:only-of-type {\n",
       "        vertical-align: middle;\n",
       "    }\n",
       "\n",
       "    .dataframe tbody tr th {\n",
       "        vertical-align: top;\n",
       "    }\n",
       "\n",
       "    .dataframe thead th {\n",
       "        text-align: right;\n",
       "    }\n",
       "</style>\n",
       "<table border=\"1\" class=\"dataframe\">\n",
       "  <thead>\n",
       "    <tr style=\"text-align: right;\">\n",
       "      <th></th>\n",
       "      <th>Unnamed: 0</th>\n",
       "      <th>place_name_new</th>\n",
       "      <th>state_name_new</th>\n",
       "      <th>description_new</th>\n",
       "      <th>rooms_new</th>\n",
       "      <th>title_new</th>\n",
       "      <th>property_type_new</th>\n",
       "      <th>surface_total_in_m2_new</th>\n",
       "      <th>currency_new</th>\n",
       "      <th>price_new</th>\n",
       "      <th>price_aprox_local_currency_new</th>\n",
       "      <th>price_usd_per_m2_new</th>\n",
       "      <th>apartment</th>\n",
       "      <th>house</th>\n",
       "      <th>store</th>\n",
       "    </tr>\n",
       "  </thead>\n",
       "  <tbody>\n",
       "    <tr>\n",
       "      <th>0</th>\n",
       "      <td>0</td>\n",
       "      <td>Mataderos</td>\n",
       "      <td>Capital Federal</td>\n",
       "      <td>2 ambientes tipo casa planta baja por pasillo,...</td>\n",
       "      <td>2.0</td>\n",
       "      <td>2 amb tipo casa sin expensas en pb</td>\n",
       "      <td>PH</td>\n",
       "      <td>55.000000</td>\n",
       "      <td>USD</td>\n",
       "      <td>62000.0</td>\n",
       "      <td>1093959.0</td>\n",
       "      <td>1127.272727</td>\n",
       "      <td>0</td>\n",
       "      <td>0</td>\n",
       "      <td>0</td>\n",
       "    </tr>\n",
       "    <tr>\n",
       "      <th>1</th>\n",
       "      <td>1</td>\n",
       "      <td>La Plata</td>\n",
       "      <td>Bs.As. G.B.A. Zona Sur</td>\n",
       "      <td>venta de departamento en 10 piso al frente, a ...</td>\n",
       "      <td>2.0</td>\n",
       "      <td>venta depto 2 dorm. a estrenar 7 e/ 36 y 37   ...</td>\n",
       "      <td>apartment</td>\n",
       "      <td>86.640712</td>\n",
       "      <td>USD</td>\n",
       "      <td>150000.0</td>\n",
       "      <td>2646675.0</td>\n",
       "      <td>1731.287716</td>\n",
       "      <td>1</td>\n",
       "      <td>0</td>\n",
       "      <td>0</td>\n",
       "    </tr>\n",
       "    <tr>\n",
       "      <th>2</th>\n",
       "      <td>2</td>\n",
       "      <td>Mataderos</td>\n",
       "      <td>Capital Federal</td>\n",
       "      <td>2 ambientes 3 piso lateral living comedor ampl...</td>\n",
       "      <td>2.0</td>\n",
       "      <td>2 amb 3 piso con ascensor apto credito</td>\n",
       "      <td>apartment</td>\n",
       "      <td>55.000000</td>\n",
       "      <td>USD</td>\n",
       "      <td>72000.0</td>\n",
       "      <td>1270404.0</td>\n",
       "      <td>1309.090909</td>\n",
       "      <td>1</td>\n",
       "      <td>0</td>\n",
       "      <td>0</td>\n",
       "    </tr>\n",
       "    <tr>\n",
       "      <th>3</th>\n",
       "      <td>3</td>\n",
       "      <td>Liniers</td>\n",
       "      <td>Capital Federal</td>\n",
       "      <td>ph 3 ambientes con patio. hay 3 deptos en lote...</td>\n",
       "      <td>3.0</td>\n",
       "      <td>ph 3 amb. cfte. reciclado</td>\n",
       "      <td>PH</td>\n",
       "      <td>137.729153</td>\n",
       "      <td>USD</td>\n",
       "      <td>95000.0</td>\n",
       "      <td>1676227.5</td>\n",
       "      <td>689.759561</td>\n",
       "      <td>0</td>\n",
       "      <td>0</td>\n",
       "      <td>0</td>\n",
       "    </tr>\n",
       "    <tr>\n",
       "      <th>4</th>\n",
       "      <td>4</td>\n",
       "      <td>Centro</td>\n",
       "      <td>Buenos Aires Costa Atlántica</td>\n",
       "      <td>departamento con fantastica iluminacion natura...</td>\n",
       "      <td>1.0</td>\n",
       "      <td>depto 2 amb al contrafrente zona centro/plaza ...</td>\n",
       "      <td>apartment</td>\n",
       "      <td>35.000000</td>\n",
       "      <td>USD</td>\n",
       "      <td>64000.0</td>\n",
       "      <td>1129248.0</td>\n",
       "      <td>1828.571429</td>\n",
       "      <td>1</td>\n",
       "      <td>0</td>\n",
       "      <td>0</td>\n",
       "    </tr>\n",
       "  </tbody>\n",
       "</table>\n",
       "</div>"
      ],
      "text/plain": [
       "   Unnamed: 0 place_name_new                state_name_new  \\\n",
       "0           0      Mataderos               Capital Federal   \n",
       "1           1       La Plata        Bs.As. G.B.A. Zona Sur   \n",
       "2           2      Mataderos               Capital Federal   \n",
       "3           3        Liniers               Capital Federal   \n",
       "4           4         Centro  Buenos Aires Costa Atlántica   \n",
       "\n",
       "                                     description_new  rooms_new  \\\n",
       "0  2 ambientes tipo casa planta baja por pasillo,...        2.0   \n",
       "1  venta de departamento en 10 piso al frente, a ...        2.0   \n",
       "2  2 ambientes 3 piso lateral living comedor ampl...        2.0   \n",
       "3  ph 3 ambientes con patio. hay 3 deptos en lote...        3.0   \n",
       "4  departamento con fantastica iluminacion natura...        1.0   \n",
       "\n",
       "                                           title_new property_type_new  \\\n",
       "0                 2 amb tipo casa sin expensas en pb                PH   \n",
       "1  venta depto 2 dorm. a estrenar 7 e/ 36 y 37   ...         apartment   \n",
       "2             2 amb 3 piso con ascensor apto credito         apartment   \n",
       "3                       ph 3 amb. cfte. reciclado                   PH   \n",
       "4  depto 2 amb al contrafrente zona centro/plaza ...         apartment   \n",
       "\n",
       "   surface_total_in_m2_new currency_new  price_new  \\\n",
       "0                55.000000          USD    62000.0   \n",
       "1                86.640712          USD   150000.0   \n",
       "2                55.000000          USD    72000.0   \n",
       "3               137.729153          USD    95000.0   \n",
       "4                35.000000          USD    64000.0   \n",
       "\n",
       "   price_aprox_local_currency_new  price_usd_per_m2_new  apartment  house  \\\n",
       "0                       1093959.0           1127.272727          0      0   \n",
       "1                       2646675.0           1731.287716          1      0   \n",
       "2                       1270404.0           1309.090909          1      0   \n",
       "3                       1676227.5            689.759561          0      0   \n",
       "4                       1129248.0           1828.571429          1      0   \n",
       "\n",
       "   store  \n",
       "0      0  \n",
       "1      0  \n",
       "2      0  \n",
       "3      0  \n",
       "4      0  "
      ]
     },
     "execution_count": 102,
     "metadata": {},
     "output_type": "execute_result"
    }
   ],
   "source": [
    "data_model_ml.head()"
   ]
  },
  {
   "cell_type": "markdown",
   "id": "c4ebf5be",
   "metadata": {},
   "source": [
    "### Se verifican las dummies agregadas, para sumar a los features"
   ]
  },
  {
   "cell_type": "code",
   "execution_count": 103,
   "id": "eb7d7d6c",
   "metadata": {},
   "outputs": [
    {
     "data": {
      "text/plain": [
       "Index(['Unnamed: 0', 'place_name_new', 'state_name_new', 'description_new',\n",
       "       'rooms_new', 'title_new', 'property_type_new',\n",
       "       'surface_total_in_m2_new', 'currency_new', 'price_new',\n",
       "       'price_aprox_local_currency_new', 'price_usd_per_m2_new', 'apartment',\n",
       "       'house', 'store'],\n",
       "      dtype='object')"
      ]
     },
     "execution_count": 103,
     "metadata": {},
     "output_type": "execute_result"
    }
   ],
   "source": [
    "data_model_ml.columns"
   ]
  },
  {
   "cell_type": "code",
   "execution_count": 104,
   "id": "1a178aa5",
   "metadata": {},
   "outputs": [
    {
     "data": {
      "text/plain": [
       "Unnamed: 0                        0\n",
       "place_name_new                    0\n",
       "state_name_new                    0\n",
       "description_new                   0\n",
       "rooms_new                         0\n",
       "title_new                         0\n",
       "property_type_new                 0\n",
       "surface_total_in_m2_new           0\n",
       "currency_new                      0\n",
       "price_new                         0\n",
       "price_aprox_local_currency_new    0\n",
       "price_usd_per_m2_new              0\n",
       "apartment                         0\n",
       "house                             0\n",
       "store                             0\n",
       "dtype: int64"
      ]
     },
     "execution_count": 104,
     "metadata": {},
     "output_type": "execute_result"
    }
   ],
   "source": [
    "data_model_ml.isnull().sum()"
   ]
  },
  {
   "cell_type": "code",
   "execution_count": 105,
   "id": "eb7cb37a",
   "metadata": {},
   "outputs": [
    {
     "data": {
      "text/html": [
       "<div>\n",
       "<style scoped>\n",
       "    .dataframe tbody tr th:only-of-type {\n",
       "        vertical-align: middle;\n",
       "    }\n",
       "\n",
       "    .dataframe tbody tr th {\n",
       "        vertical-align: top;\n",
       "    }\n",
       "\n",
       "    .dataframe thead th {\n",
       "        text-align: right;\n",
       "    }\n",
       "</style>\n",
       "<table border=\"1\" class=\"dataframe\">\n",
       "  <thead>\n",
       "    <tr style=\"text-align: right;\">\n",
       "      <th></th>\n",
       "      <th>Unnamed: 0</th>\n",
       "      <th>place_name_new</th>\n",
       "      <th>state_name_new</th>\n",
       "      <th>description_new</th>\n",
       "      <th>rooms_new</th>\n",
       "      <th>title_new</th>\n",
       "      <th>property_type_new</th>\n",
       "      <th>surface_total_in_m2_new</th>\n",
       "      <th>currency_new</th>\n",
       "      <th>price_new</th>\n",
       "      <th>price_aprox_local_currency_new</th>\n",
       "      <th>price_usd_per_m2_new</th>\n",
       "      <th>apartment</th>\n",
       "      <th>house</th>\n",
       "      <th>store</th>\n",
       "    </tr>\n",
       "  </thead>\n",
       "  <tbody>\n",
       "    <tr>\n",
       "      <th>0</th>\n",
       "      <td>0</td>\n",
       "      <td>Mataderos</td>\n",
       "      <td>Capital Federal</td>\n",
       "      <td>2 ambientes tipo casa planta baja por pasillo,...</td>\n",
       "      <td>2.0</td>\n",
       "      <td>2 amb tipo casa sin expensas en pb</td>\n",
       "      <td>PH</td>\n",
       "      <td>55.000000</td>\n",
       "      <td>USD</td>\n",
       "      <td>62000.0</td>\n",
       "      <td>1093959.00</td>\n",
       "      <td>1127.272727</td>\n",
       "      <td>0</td>\n",
       "      <td>0</td>\n",
       "      <td>0</td>\n",
       "    </tr>\n",
       "    <tr>\n",
       "      <th>1</th>\n",
       "      <td>1</td>\n",
       "      <td>La Plata</td>\n",
       "      <td>Bs.As. G.B.A. Zona Sur</td>\n",
       "      <td>venta de departamento en 10 piso al frente, a ...</td>\n",
       "      <td>2.0</td>\n",
       "      <td>venta depto 2 dorm. a estrenar 7 e/ 36 y 37   ...</td>\n",
       "      <td>apartment</td>\n",
       "      <td>86.640712</td>\n",
       "      <td>USD</td>\n",
       "      <td>150000.0</td>\n",
       "      <td>2646675.00</td>\n",
       "      <td>1731.287716</td>\n",
       "      <td>1</td>\n",
       "      <td>0</td>\n",
       "      <td>0</td>\n",
       "    </tr>\n",
       "    <tr>\n",
       "      <th>2</th>\n",
       "      <td>2</td>\n",
       "      <td>Mataderos</td>\n",
       "      <td>Capital Federal</td>\n",
       "      <td>2 ambientes 3 piso lateral living comedor ampl...</td>\n",
       "      <td>2.0</td>\n",
       "      <td>2 amb 3 piso con ascensor apto credito</td>\n",
       "      <td>apartment</td>\n",
       "      <td>55.000000</td>\n",
       "      <td>USD</td>\n",
       "      <td>72000.0</td>\n",
       "      <td>1270404.00</td>\n",
       "      <td>1309.090909</td>\n",
       "      <td>1</td>\n",
       "      <td>0</td>\n",
       "      <td>0</td>\n",
       "    </tr>\n",
       "    <tr>\n",
       "      <th>3</th>\n",
       "      <td>3</td>\n",
       "      <td>Liniers</td>\n",
       "      <td>Capital Federal</td>\n",
       "      <td>ph 3 ambientes con patio. hay 3 deptos en lote...</td>\n",
       "      <td>3.0</td>\n",
       "      <td>ph 3 amb. cfte. reciclado</td>\n",
       "      <td>PH</td>\n",
       "      <td>137.729153</td>\n",
       "      <td>USD</td>\n",
       "      <td>95000.0</td>\n",
       "      <td>1676227.50</td>\n",
       "      <td>689.759561</td>\n",
       "      <td>0</td>\n",
       "      <td>0</td>\n",
       "      <td>0</td>\n",
       "    </tr>\n",
       "    <tr>\n",
       "      <th>4</th>\n",
       "      <td>4</td>\n",
       "      <td>Centro</td>\n",
       "      <td>Buenos Aires Costa Atlántica</td>\n",
       "      <td>departamento con fantastica iluminacion natura...</td>\n",
       "      <td>1.0</td>\n",
       "      <td>depto 2 amb al contrafrente zona centro/plaza ...</td>\n",
       "      <td>apartment</td>\n",
       "      <td>35.000000</td>\n",
       "      <td>USD</td>\n",
       "      <td>64000.0</td>\n",
       "      <td>1129248.00</td>\n",
       "      <td>1828.571429</td>\n",
       "      <td>1</td>\n",
       "      <td>0</td>\n",
       "      <td>0</td>\n",
       "    </tr>\n",
       "    <tr>\n",
       "      <th>...</th>\n",
       "      <td>...</td>\n",
       "      <td>...</td>\n",
       "      <td>...</td>\n",
       "      <td>...</td>\n",
       "      <td>...</td>\n",
       "      <td>...</td>\n",
       "      <td>...</td>\n",
       "      <td>...</td>\n",
       "      <td>...</td>\n",
       "      <td>...</td>\n",
       "      <td>...</td>\n",
       "      <td>...</td>\n",
       "      <td>...</td>\n",
       "      <td>...</td>\n",
       "      <td>...</td>\n",
       "    </tr>\n",
       "    <tr>\n",
       "      <th>120366</th>\n",
       "      <td>121205</td>\n",
       "      <td>Córdoba</td>\n",
       "      <td>Córdoba</td>\n",
       "      <td>ubicacionestrategicamente ubicado en calle obi...</td>\n",
       "      <td>2.0</td>\n",
       "      <td>departamento - nueva cordoba</td>\n",
       "      <td>apartment</td>\n",
       "      <td>50.000000</td>\n",
       "      <td>USD</td>\n",
       "      <td>84518.1</td>\n",
       "      <td>1491279.61</td>\n",
       "      <td>1690.362000</td>\n",
       "      <td>1</td>\n",
       "      <td>0</td>\n",
       "      <td>0</td>\n",
       "    </tr>\n",
       "    <tr>\n",
       "      <th>120367</th>\n",
       "      <td>121206</td>\n",
       "      <td>Córdoba</td>\n",
       "      <td>Córdoba</td>\n",
       "      <td>ubicacionestrategicamente ubicado en calle obi...</td>\n",
       "      <td>2.0</td>\n",
       "      <td>departamento - nueva cordoba</td>\n",
       "      <td>apartment</td>\n",
       "      <td>50.000000</td>\n",
       "      <td>USD</td>\n",
       "      <td>84518.1</td>\n",
       "      <td>1491279.61</td>\n",
       "      <td>1690.362000</td>\n",
       "      <td>1</td>\n",
       "      <td>0</td>\n",
       "      <td>0</td>\n",
       "    </tr>\n",
       "    <tr>\n",
       "      <th>120378</th>\n",
       "      <td>121217</td>\n",
       "      <td>Villa Urquiza</td>\n",
       "      <td>Capital Federal</td>\n",
       "      <td>venta departamento ambiente divisible a estren...</td>\n",
       "      <td>1.0</td>\n",
       "      <td>venta departamento ambiente divisible a estren...</td>\n",
       "      <td>apartment</td>\n",
       "      <td>46.000000</td>\n",
       "      <td>USD</td>\n",
       "      <td>131500.0</td>\n",
       "      <td>2320251.75</td>\n",
       "      <td>2858.695652</td>\n",
       "      <td>1</td>\n",
       "      <td>0</td>\n",
       "      <td>0</td>\n",
       "    </tr>\n",
       "    <tr>\n",
       "      <th>120379</th>\n",
       "      <td>121218</td>\n",
       "      <td>Plaza Colón</td>\n",
       "      <td>Buenos Aires Costa Atlántica</td>\n",
       "      <td>2 amb al contrafrente,  luminoso. el departame...</td>\n",
       "      <td>2.0</td>\n",
       "      <td>2 amb. c/ dep. de servicio al contrafrente| re...</td>\n",
       "      <td>apartment</td>\n",
       "      <td>48.000000</td>\n",
       "      <td>USD</td>\n",
       "      <td>95900.0</td>\n",
       "      <td>1692107.55</td>\n",
       "      <td>1997.916667</td>\n",
       "      <td>1</td>\n",
       "      <td>0</td>\n",
       "      <td>0</td>\n",
       "    </tr>\n",
       "    <tr>\n",
       "      <th>120380</th>\n",
       "      <td>121219</td>\n",
       "      <td>Capital Federal</td>\n",
       "      <td>Capital Federal</td>\n",
       "      <td>departamento de 77 m2 apto profesional. edific...</td>\n",
       "      <td>2.0</td>\n",
       "      <td>departamento apto profesional en el centro</td>\n",
       "      <td>apartment</td>\n",
       "      <td>77.000000</td>\n",
       "      <td>USD</td>\n",
       "      <td>129000.0</td>\n",
       "      <td>2276140.50</td>\n",
       "      <td>1675.324675</td>\n",
       "      <td>1</td>\n",
       "      <td>0</td>\n",
       "      <td>0</td>\n",
       "    </tr>\n",
       "  </tbody>\n",
       "</table>\n",
       "<p>81709 rows × 15 columns</p>\n",
       "</div>"
      ],
      "text/plain": [
       "        Unnamed: 0   place_name_new                state_name_new  \\\n",
       "0                0        Mataderos               Capital Federal   \n",
       "1                1         La Plata        Bs.As. G.B.A. Zona Sur   \n",
       "2                2        Mataderos               Capital Federal   \n",
       "3                3          Liniers               Capital Federal   \n",
       "4                4           Centro  Buenos Aires Costa Atlántica   \n",
       "...            ...              ...                           ...   \n",
       "120366      121205          Córdoba                       Córdoba   \n",
       "120367      121206          Córdoba                       Córdoba   \n",
       "120378      121217    Villa Urquiza               Capital Federal   \n",
       "120379      121218      Plaza Colón  Buenos Aires Costa Atlántica   \n",
       "120380      121219  Capital Federal               Capital Federal   \n",
       "\n",
       "                                          description_new  rooms_new  \\\n",
       "0       2 ambientes tipo casa planta baja por pasillo,...        2.0   \n",
       "1       venta de departamento en 10 piso al frente, a ...        2.0   \n",
       "2       2 ambientes 3 piso lateral living comedor ampl...        2.0   \n",
       "3       ph 3 ambientes con patio. hay 3 deptos en lote...        3.0   \n",
       "4       departamento con fantastica iluminacion natura...        1.0   \n",
       "...                                                   ...        ...   \n",
       "120366  ubicacionestrategicamente ubicado en calle obi...        2.0   \n",
       "120367  ubicacionestrategicamente ubicado en calle obi...        2.0   \n",
       "120378  venta departamento ambiente divisible a estren...        1.0   \n",
       "120379  2 amb al contrafrente,  luminoso. el departame...        2.0   \n",
       "120380  departamento de 77 m2 apto profesional. edific...        2.0   \n",
       "\n",
       "                                                title_new property_type_new  \\\n",
       "0                      2 amb tipo casa sin expensas en pb                PH   \n",
       "1       venta depto 2 dorm. a estrenar 7 e/ 36 y 37   ...         apartment   \n",
       "2                  2 amb 3 piso con ascensor apto credito         apartment   \n",
       "3                            ph 3 amb. cfte. reciclado                   PH   \n",
       "4       depto 2 amb al contrafrente zona centro/plaza ...         apartment   \n",
       "...                                                   ...               ...   \n",
       "120366                       departamento - nueva cordoba         apartment   \n",
       "120367                       departamento - nueva cordoba         apartment   \n",
       "120378  venta departamento ambiente divisible a estren...         apartment   \n",
       "120379  2 amb. c/ dep. de servicio al contrafrente| re...         apartment   \n",
       "120380         departamento apto profesional en el centro         apartment   \n",
       "\n",
       "        surface_total_in_m2_new currency_new  price_new  \\\n",
       "0                     55.000000          USD    62000.0   \n",
       "1                     86.640712          USD   150000.0   \n",
       "2                     55.000000          USD    72000.0   \n",
       "3                    137.729153          USD    95000.0   \n",
       "4                     35.000000          USD    64000.0   \n",
       "...                         ...          ...        ...   \n",
       "120366                50.000000          USD    84518.1   \n",
       "120367                50.000000          USD    84518.1   \n",
       "120378                46.000000          USD   131500.0   \n",
       "120379                48.000000          USD    95900.0   \n",
       "120380                77.000000          USD   129000.0   \n",
       "\n",
       "        price_aprox_local_currency_new  price_usd_per_m2_new  apartment  \\\n",
       "0                           1093959.00           1127.272727          0   \n",
       "1                           2646675.00           1731.287716          1   \n",
       "2                           1270404.00           1309.090909          1   \n",
       "3                           1676227.50            689.759561          0   \n",
       "4                           1129248.00           1828.571429          1   \n",
       "...                                ...                   ...        ...   \n",
       "120366                      1491279.61           1690.362000          1   \n",
       "120367                      1491279.61           1690.362000          1   \n",
       "120378                      2320251.75           2858.695652          1   \n",
       "120379                      1692107.55           1997.916667          1   \n",
       "120380                      2276140.50           1675.324675          1   \n",
       "\n",
       "        house  store  \n",
       "0           0      0  \n",
       "1           0      0  \n",
       "2           0      0  \n",
       "3           0      0  \n",
       "4           0      0  \n",
       "...       ...    ...  \n",
       "120366      0      0  \n",
       "120367      0      0  \n",
       "120378      0      0  \n",
       "120379      0      0  \n",
       "120380      0      0  \n",
       "\n",
       "[81709 rows x 15 columns]"
      ]
     },
     "execution_count": 105,
     "metadata": {},
     "output_type": "execute_result"
    }
   ],
   "source": [
    "data_model_ml"
   ]
  },
  {
   "cell_type": "markdown",
   "id": "0deecfa1",
   "metadata": {},
   "source": [
    "### SE CREA EL MODELO DE REGRESION LINEAL MULTIPLE"
   ]
  },
  {
   "cell_type": "code",
   "execution_count": 106,
   "id": "9da55551",
   "metadata": {},
   "outputs": [],
   "source": [
    "import statsmodels.api as sm\n",
    "from sklearn.linear_model import LinearRegression\n",
    "from sklearn.preprocessing import MinMaxScaler\n",
    "from sklearn import datasets"
   ]
  },
  {
   "cell_type": "code",
   "execution_count": 107,
   "id": "d5c3a7b8",
   "metadata": {},
   "outputs": [],
   "source": [
    "# defino features y variable de estudio/target\n",
    "features = ['rooms_new', 'surface_total_in_m2_new', 'price_new', 'apartment', 'house', 'store']\n",
    "\n",
    "X = data_model_ml[features]\n",
    "y = data_model_ml.price_usd_per_m2_new"
   ]
  },
  {
   "cell_type": "code",
   "execution_count": 108,
   "id": "784fd91f",
   "metadata": {},
   "outputs": [
    {
     "data": {
      "text/html": [
       "<div>\n",
       "<style scoped>\n",
       "    .dataframe tbody tr th:only-of-type {\n",
       "        vertical-align: middle;\n",
       "    }\n",
       "\n",
       "    .dataframe tbody tr th {\n",
       "        vertical-align: top;\n",
       "    }\n",
       "\n",
       "    .dataframe thead th {\n",
       "        text-align: right;\n",
       "    }\n",
       "</style>\n",
       "<table border=\"1\" class=\"dataframe\">\n",
       "  <thead>\n",
       "    <tr style=\"text-align: right;\">\n",
       "      <th></th>\n",
       "      <th>rooms_new</th>\n",
       "      <th>surface_total_in_m2_new</th>\n",
       "      <th>price_new</th>\n",
       "      <th>apartment</th>\n",
       "      <th>house</th>\n",
       "      <th>store</th>\n",
       "    </tr>\n",
       "  </thead>\n",
       "  <tbody>\n",
       "    <tr>\n",
       "      <th>27888</th>\n",
       "      <td>3.0</td>\n",
       "      <td>111.000000</td>\n",
       "      <td>325000.000000</td>\n",
       "      <td>1</td>\n",
       "      <td>0</td>\n",
       "      <td>0</td>\n",
       "    </tr>\n",
       "    <tr>\n",
       "      <th>98155</th>\n",
       "      <td>2.0</td>\n",
       "      <td>81.208401</td>\n",
       "      <td>100000.000000</td>\n",
       "      <td>0</td>\n",
       "      <td>0</td>\n",
       "      <td>0</td>\n",
       "    </tr>\n",
       "    <tr>\n",
       "      <th>78327</th>\n",
       "      <td>3.0</td>\n",
       "      <td>250.000000</td>\n",
       "      <td>332000.000000</td>\n",
       "      <td>0</td>\n",
       "      <td>1</td>\n",
       "      <td>0</td>\n",
       "    </tr>\n",
       "    <tr>\n",
       "      <th>99306</th>\n",
       "      <td>2.0</td>\n",
       "      <td>27.000000</td>\n",
       "      <td>37576.060000</td>\n",
       "      <td>1</td>\n",
       "      <td>0</td>\n",
       "      <td>0</td>\n",
       "    </tr>\n",
       "    <tr>\n",
       "      <th>96712</th>\n",
       "      <td>2.0</td>\n",
       "      <td>61.000000</td>\n",
       "      <td>180316.515782</td>\n",
       "      <td>1</td>\n",
       "      <td>0</td>\n",
       "      <td>0</td>\n",
       "    </tr>\n",
       "    <tr>\n",
       "      <th>...</th>\n",
       "      <td>...</td>\n",
       "      <td>...</td>\n",
       "      <td>...</td>\n",
       "      <td>...</td>\n",
       "      <td>...</td>\n",
       "      <td>...</td>\n",
       "    </tr>\n",
       "    <tr>\n",
       "      <th>33456</th>\n",
       "      <td>1.0</td>\n",
       "      <td>35.000000</td>\n",
       "      <td>106000.000000</td>\n",
       "      <td>1</td>\n",
       "      <td>0</td>\n",
       "      <td>0</td>\n",
       "    </tr>\n",
       "    <tr>\n",
       "      <th>108164</th>\n",
       "      <td>2.0</td>\n",
       "      <td>108.000000</td>\n",
       "      <td>142913.135016</td>\n",
       "      <td>1</td>\n",
       "      <td>0</td>\n",
       "      <td>0</td>\n",
       "    </tr>\n",
       "    <tr>\n",
       "      <th>75668</th>\n",
       "      <td>2.0</td>\n",
       "      <td>51.000000</td>\n",
       "      <td>98000.000000</td>\n",
       "      <td>1</td>\n",
       "      <td>0</td>\n",
       "      <td>0</td>\n",
       "    </tr>\n",
       "    <tr>\n",
       "      <th>8640</th>\n",
       "      <td>2.0</td>\n",
       "      <td>200.000000</td>\n",
       "      <td>144795.929403</td>\n",
       "      <td>0</td>\n",
       "      <td>1</td>\n",
       "      <td>0</td>\n",
       "    </tr>\n",
       "    <tr>\n",
       "      <th>114273</th>\n",
       "      <td>3.0</td>\n",
       "      <td>190.000000</td>\n",
       "      <td>84125.510000</td>\n",
       "      <td>0</td>\n",
       "      <td>1</td>\n",
       "      <td>0</td>\n",
       "    </tr>\n",
       "  </tbody>\n",
       "</table>\n",
       "<p>61281 rows × 6 columns</p>\n",
       "</div>"
      ],
      "text/plain": [
       "        rooms_new  surface_total_in_m2_new      price_new  apartment  house  \\\n",
       "27888         3.0               111.000000  325000.000000          1      0   \n",
       "98155         2.0                81.208401  100000.000000          0      0   \n",
       "78327         3.0               250.000000  332000.000000          0      1   \n",
       "99306         2.0                27.000000   37576.060000          1      0   \n",
       "96712         2.0                61.000000  180316.515782          1      0   \n",
       "...           ...                      ...            ...        ...    ...   \n",
       "33456         1.0                35.000000  106000.000000          1      0   \n",
       "108164        2.0               108.000000  142913.135016          1      0   \n",
       "75668         2.0                51.000000   98000.000000          1      0   \n",
       "8640          2.0               200.000000  144795.929403          0      1   \n",
       "114273        3.0               190.000000   84125.510000          0      1   \n",
       "\n",
       "        store  \n",
       "27888       0  \n",
       "98155       0  \n",
       "78327       0  \n",
       "99306       0  \n",
       "96712       0  \n",
       "...       ...  \n",
       "33456       0  \n",
       "108164      0  \n",
       "75668       0  \n",
       "8640        0  \n",
       "114273      0  \n",
       "\n",
       "[61281 rows x 6 columns]"
      ]
     },
     "execution_count": 108,
     "metadata": {},
     "output_type": "execute_result"
    }
   ],
   "source": [
    "# dividimos en conjuntos de datos para train y test del modelo\n",
    "x_train, x_test, y_train, y_test = train_test_split(X, y, random_state = 1)\n",
    "x_train"
   ]
  },
  {
   "cell_type": "code",
   "execution_count": 109,
   "id": "41380d37",
   "metadata": {},
   "outputs": [
    {
     "data": {
      "text/plain": [
       "20428"
      ]
     },
     "execution_count": 109,
     "metadata": {},
     "output_type": "execute_result"
    }
   ],
   "source": [
    "len(y_test)"
   ]
  },
  {
   "cell_type": "markdown",
   "id": "76edaacd",
   "metadata": {},
   "source": [
    "### Primero se escalan las features y se ajusta el modelo con statsmodels"
   ]
  },
  {
   "cell_type": "code",
   "execution_count": 110,
   "id": "ace73492",
   "metadata": {},
   "outputs": [],
   "source": [
    "# se escalan las features\n",
    "scaler = MinMaxScaler()\n",
    "scaler.fit(x_train)\n",
    "\n",
    "std_numerical_data = scaler.transform(x_train)\n",
    "x_train_s = pd.DataFrame(std_numerical_data)\n"
   ]
  },
  {
   "cell_type": "code",
   "execution_count": 111,
   "id": "3ebc6f7a",
   "metadata": {},
   "outputs": [],
   "source": [
    "# Restablecer los índices de X e y para asegurar que estén alineados\n",
    "x_train.reset_index(drop=True, inplace=True)\n",
    "y_train.reset_index(drop=True, inplace=True)"
   ]
  },
  {
   "cell_type": "code",
   "execution_count": 112,
   "id": "11c1ca1b",
   "metadata": {},
   "outputs": [],
   "source": [
    "# Tenemos que agregar explícitamente a una constante:\n",
    "x_train_c = sm.add_constant(x_train_s)\n",
    "\n",
    "# creamos el modelo y lo ajustamos\n",
    "model = sm.OLS(y_train, x_train_c).fit()"
   ]
  },
  {
   "cell_type": "code",
   "execution_count": 207,
   "id": "71e8088e",
   "metadata": {},
   "outputs": [
    {
     "data": {
      "text/html": [
       "<table class=\"simpletable\">\n",
       "<caption>OLS Regression Results</caption>\n",
       "<tr>\n",
       "  <th>Dep. Variable:</th>    <td>price_usd_per_m2_new</td> <th>  R-squared:         </th>  <td>   0.666</td>  \n",
       "</tr>\n",
       "<tr>\n",
       "  <th>Model:</th>                     <td>OLS</td>         <th>  Adj. R-squared:    </th>  <td>   0.666</td>  \n",
       "</tr>\n",
       "<tr>\n",
       "  <th>Method:</th>               <td>Least Squares</td>    <th>  F-statistic:       </th>  <td>2.505e+04</td> \n",
       "</tr>\n",
       "<tr>\n",
       "  <th>Date:</th>               <td>Wed, 14 Feb 2024</td>   <th>  Prob (F-statistic):</th>   <td>  0.00</td>   \n",
       "</tr>\n",
       "<tr>\n",
       "  <th>Time:</th>                   <td>12:25:01</td>       <th>  Log-Likelihood:    </th> <td>-5.8119e+05</td>\n",
       "</tr>\n",
       "<tr>\n",
       "  <th>No. Observations:</th>        <td> 75426</td>        <th>  AIC:               </th>  <td>1.162e+06</td> \n",
       "</tr>\n",
       "<tr>\n",
       "  <th>Df Residuals:</th>            <td> 75419</td>        <th>  BIC:               </th>  <td>1.162e+06</td> \n",
       "</tr>\n",
       "<tr>\n",
       "  <th>Df Model:</th>                <td>     6</td>        <th>                     </th>      <td> </td>     \n",
       "</tr>\n",
       "<tr>\n",
       "  <th>Covariance Type:</th>        <td>nonrobust</td>      <th>                     </th>      <td> </td>     \n",
       "</tr>\n",
       "</table>\n",
       "<table class=\"simpletable\">\n",
       "<tr>\n",
       "    <td></td>       <th>coef</th>     <th>std err</th>      <th>t</th>      <th>P>|t|</th>  <th>[0.025</th>    <th>0.975]</th>  \n",
       "</tr>\n",
       "<tr>\n",
       "  <th>const</th> <td> 1310.4717</td> <td>    9.364</td> <td>  139.945</td> <td> 0.000</td> <td> 1292.118</td> <td> 1328.825</td>\n",
       "</tr>\n",
       "<tr>\n",
       "  <th>0</th>     <td> -918.2580</td> <td>   18.930</td> <td>  -48.508</td> <td> 0.000</td> <td> -955.360</td> <td> -881.156</td>\n",
       "</tr>\n",
       "<tr>\n",
       "  <th>1</th>     <td>-2368.4622</td> <td>   12.111</td> <td> -195.560</td> <td> 0.000</td> <td>-2392.200</td> <td>-2344.724</td>\n",
       "</tr>\n",
       "<tr>\n",
       "  <th>2</th>     <td> 2544.4416</td> <td>   10.740</td> <td>  236.915</td> <td> 0.000</td> <td> 2523.391</td> <td> 2565.492</td>\n",
       "</tr>\n",
       "<tr>\n",
       "  <th>3</th>     <td>  352.6321</td> <td>    8.801</td> <td>   40.065</td> <td> 0.000</td> <td>  335.381</td> <td>  369.883</td>\n",
       "</tr>\n",
       "<tr>\n",
       "  <th>4</th>     <td>  -22.4524</td> <td>   10.122</td> <td>   -2.218</td> <td> 0.027</td> <td>  -42.292</td> <td>   -2.612</td>\n",
       "</tr>\n",
       "<tr>\n",
       "  <th>5</th>     <td>  292.8825</td> <td>   14.567</td> <td>   20.106</td> <td> 0.000</td> <td>  264.332</td> <td>  321.433</td>\n",
       "</tr>\n",
       "</table>\n",
       "<table class=\"simpletable\">\n",
       "<tr>\n",
       "  <th>Omnibus:</th>       <td>7671.100</td> <th>  Durbin-Watson:     </th> <td>   2.003</td> \n",
       "</tr>\n",
       "<tr>\n",
       "  <th>Prob(Omnibus):</th>  <td> 0.000</td>  <th>  Jarque-Bera (JB):  </th> <td>10534.096</td>\n",
       "</tr>\n",
       "<tr>\n",
       "  <th>Skew:</th>           <td> 0.826</td>  <th>  Prob(JB):          </th> <td>    0.00</td> \n",
       "</tr>\n",
       "<tr>\n",
       "  <th>Kurtosis:</th>       <td> 3.789</td>  <th>  Cond. No.          </th> <td>    13.7</td> \n",
       "</tr>\n",
       "</table><br/><br/>Notes:<br/>[1] Standard Errors assume that the covariance matrix of the errors is correctly specified."
      ],
      "text/plain": [
       "<class 'statsmodels.iolib.summary.Summary'>\n",
       "\"\"\"\n",
       "                             OLS Regression Results                             \n",
       "================================================================================\n",
       "Dep. Variable:     price_usd_per_m2_new   R-squared:                       0.666\n",
       "Model:                              OLS   Adj. R-squared:                  0.666\n",
       "Method:                   Least Squares   F-statistic:                 2.505e+04\n",
       "Date:                  Wed, 14 Feb 2024   Prob (F-statistic):               0.00\n",
       "Time:                          12:25:01   Log-Likelihood:            -5.8119e+05\n",
       "No. Observations:                 75426   AIC:                         1.162e+06\n",
       "Df Residuals:                     75419   BIC:                         1.162e+06\n",
       "Df Model:                             6                                         \n",
       "Covariance Type:              nonrobust                                         \n",
       "==============================================================================\n",
       "                 coef    std err          t      P>|t|      [0.025      0.975]\n",
       "------------------------------------------------------------------------------\n",
       "const       1310.4717      9.364    139.945      0.000    1292.118    1328.825\n",
       "0           -918.2580     18.930    -48.508      0.000    -955.360    -881.156\n",
       "1          -2368.4622     12.111   -195.560      0.000   -2392.200   -2344.724\n",
       "2           2544.4416     10.740    236.915      0.000    2523.391    2565.492\n",
       "3            352.6321      8.801     40.065      0.000     335.381     369.883\n",
       "4            -22.4524     10.122     -2.218      0.027     -42.292      -2.612\n",
       "5            292.8825     14.567     20.106      0.000     264.332     321.433\n",
       "==============================================================================\n",
       "Omnibus:                     7671.100   Durbin-Watson:                   2.003\n",
       "Prob(Omnibus):                  0.000   Jarque-Bera (JB):            10534.096\n",
       "Skew:                           0.826   Prob(JB):                         0.00\n",
       "Kurtosis:                       3.789   Cond. No.                         13.7\n",
       "==============================================================================\n",
       "\n",
       "Notes:\n",
       "[1] Standard Errors assume that the covariance matrix of the errors is correctly specified.\n",
       "\"\"\""
      ]
     },
     "execution_count": 207,
     "metadata": {},
     "output_type": "execute_result"
    }
   ],
   "source": [
    "model.summary()"
   ]
  },
  {
   "cell_type": "markdown",
   "id": "537b476a",
   "metadata": {},
   "source": [
    "### TESTEO del modelo"
   ]
  },
  {
   "cell_type": "code",
   "execution_count": 97,
   "id": "c9b3f977",
   "metadata": {},
   "outputs": [
    {
     "name": "stdout",
     "output_type": "stream",
     "text": [
      "0        2153.700572\n",
      "1         265.377507\n",
      "2        1955.333942\n",
      "3        1653.772587\n",
      "4        1695.929775\n",
      "            ...     \n",
      "25156    2616.738781\n",
      "25157    2456.162223\n",
      "25158    1758.204674\n",
      "25159    1127.110781\n",
      "25160    1742.281860\n",
      "Length: 25161, dtype: float64\n"
     ]
    }
   ],
   "source": [
    "# Escalar las features de prueba con el mismo scaler utilizado para los datos de entrenamiento\n",
    "std_numerical_data_test = scaler.transform(x_test)\n",
    "x_test_s = pd.DataFrame(std_numerical_data_test)\n",
    "\n",
    "# Agregar explícitamente la constante a los datos de prueba\n",
    "x_test_c = sm.add_constant(x_test_s)\n",
    "\n",
    "# Realizar predicciones en el conjunto de prueba\n",
    "y_pred = model.predict(x_test_c)\n",
    "y_pred_linear = y_pred\n",
    "# Visualizar las predicciones\n",
    "print(y_pred)\n"
   ]
  },
  {
   "cell_type": "code",
   "execution_count": 114,
   "id": "fdd74a20",
   "metadata": {},
   "outputs": [
    {
     "data": {
      "text/plain": [
       "25161"
      ]
     },
     "execution_count": 114,
     "metadata": {},
     "output_type": "execute_result"
    }
   ],
   "source": [
    "len(x_test_c)"
   ]
  },
  {
   "cell_type": "code",
   "execution_count": 115,
   "id": "3bbf8b30",
   "metadata": {},
   "outputs": [
    {
     "data": {
      "text/plain": [
       "25161"
      ]
     },
     "execution_count": 115,
     "metadata": {},
     "output_type": "execute_result"
    }
   ],
   "source": [
    "len(y_pred_linear)"
   ]
  },
  {
   "cell_type": "code",
   "execution_count": 116,
   "id": "6148a1df",
   "metadata": {},
   "outputs": [
    {
     "data": {
      "text/plain": [
       "20428"
      ]
     },
     "execution_count": 116,
     "metadata": {},
     "output_type": "execute_result"
    }
   ],
   "source": [
    "len(y_test)"
   ]
  },
  {
   "cell_type": "code",
   "execution_count": 209,
   "id": "f6cc23aa",
   "metadata": {},
   "outputs": [
    {
     "name": "stdout",
     "output_type": "stream",
     "text": [
      "R2: 0.6670832556228328\n",
      "MAE: 422.9156493953739\n",
      "MSE: 286887.0715839247\n",
      "RMSE: 535.6184010878684\n"
     ]
    }
   ],
   "source": [
    "print ('R2:', metrics.r2_score(y_test, y_pred))\n",
    "print ('MAE:', metrics.mean_absolute_error(y_test, y_pred))\n",
    "print ('MSE:', metrics.mean_squared_error(y_test, y_pred))\n",
    "print ('RMSE:', np.sqrt(metrics.mean_squared_error(y_test, y_pred)))"
   ]
  },
  {
   "cell_type": "code",
   "execution_count": 210,
   "id": "5bc8b351",
   "metadata": {},
   "outputs": [],
   "source": [
    "# SE REALIZA EL MISMO OMODULO UTILIZANDO LA LIBRERIA SKLEARN"
   ]
  },
  {
   "cell_type": "code",
   "execution_count": 213,
   "id": "f0eb058c",
   "metadata": {},
   "outputs": [],
   "source": [
    "# Instanciar el modelo\n",
    "lm = linear_model.LinearRegression()"
   ]
  },
  {
   "cell_type": "code",
   "execution_count": 222,
   "id": "4c28aa5b",
   "metadata": {},
   "outputs": [],
   "source": [
    "# Vuelvo a separar en TRAIN_TEST porque uso otra libreria.\n",
    "X_train, X_test, y_train, y_test = train_test_split(X, y, test_size=0.35)\n",
    "scaler = StandardScaler()\n",
    "\n",
    "X_train = scaler.fit_transform(X_train)\n",
    "X_test = scaler.transform(X_test)\n",
    "\n",
    "model_skl = lm.fit(X_train, y_train)"
   ]
  },
  {
   "cell_type": "code",
   "execution_count": 223,
   "id": "18a57be5",
   "metadata": {},
   "outputs": [],
   "source": [
    "# Entrenar el modelo con todo el dataset (no usaremos train-test-split en esta oportunidad)\n",
    "#model_skl.fit(x_train, y_train) # TODO - ver porque al escalar las features(x_train_s) de entrenamiento el R2 da mal"
   ]
  },
  {
   "cell_type": "code",
   "execution_count": 224,
   "id": "550a8ab9",
   "metadata": {},
   "outputs": [],
   "source": [
    "# Testeo del modelo\n",
    "yPred_skl = model_skl.predict(X_test)"
   ]
  },
  {
   "cell_type": "code",
   "execution_count": 225,
   "id": "cc7ce580",
   "metadata": {},
   "outputs": [
    {
     "name": "stdout",
     "output_type": "stream",
     "text": [
      "Intercept =  1615.2862697362607\n",
      "RM =  [-112.29640835 -611.09922803  517.7276216   168.53819006  -11.8736607\n",
      "   53.44070619]\n"
     ]
    }
   ],
   "source": [
    "print ('Intercept = ', model_skl.intercept_)\n",
    "print ('RM = ', model_skl.coef_)"
   ]
  },
  {
   "cell_type": "code",
   "execution_count": 226,
   "id": "6fbed892",
   "metadata": {},
   "outputs": [
    {
     "name": "stdout",
     "output_type": "stream",
     "text": [
      "R2: 0.6660455440590223\n",
      "MAE: 424.8987469505378\n",
      "MSE: 289061.7181913952\n",
      "RMSE: 537.6446021224385\n"
     ]
    }
   ],
   "source": [
    "print ('R2:', metrics.r2_score(y_test, yPred_skl))\n",
    "print ('MAE:', metrics.mean_absolute_error(y_test, yPred_skl))\n",
    "print ('MSE:', metrics.mean_squared_error(y_test, yPred_skl))\n",
    "print ('RMSE:', np.sqrt(metrics.mean_squared_error(y_test, yPred_skl)))"
   ]
  },
  {
   "cell_type": "code",
   "execution_count": 227,
   "id": "7970739f",
   "metadata": {},
   "outputs": [],
   "source": [
    "# SE REALIZA REGULARIZACION PARA MEJORAR EL MODELO, ASI EVITANDO EL OVERFIT DEL MISMO"
   ]
  },
  {
   "cell_type": "code",
   "execution_count": 228,
   "id": "38026600",
   "metadata": {},
   "outputs": [],
   "source": [
    "# USAMOS REGULARIZACION TIPO RIDGE CON CROSS VALIDATION"
   ]
  },
  {
   "cell_type": "code",
   "execution_count": 277,
   "id": "c986f48a",
   "metadata": {},
   "outputs": [],
   "source": [
    "# instanciamos un modelo \n",
    "rlmcv = linear_model.RidgeCV(alphas=np.linspace(0.1, 100, 100), cv=3, normalize=False, scoring='r2')"
   ]
  },
  {
   "cell_type": "code",
   "execution_count": 278,
   "id": "f0b215bf",
   "metadata": {},
   "outputs": [
    {
     "data": {
      "text/plain": [
       "array([  0.1       ,   1.10909091,   2.11818182,   3.12727273,\n",
       "         4.13636364,   5.14545455,   6.15454545,   7.16363636,\n",
       "         8.17272727,   9.18181818,  10.19090909,  11.2       ,\n",
       "        12.20909091,  13.21818182,  14.22727273,  15.23636364,\n",
       "        16.24545455,  17.25454545,  18.26363636,  19.27272727,\n",
       "        20.28181818,  21.29090909,  22.3       ,  23.30909091,\n",
       "        24.31818182,  25.32727273,  26.33636364,  27.34545455,\n",
       "        28.35454545,  29.36363636,  30.37272727,  31.38181818,\n",
       "        32.39090909,  33.4       ,  34.40909091,  35.41818182,\n",
       "        36.42727273,  37.43636364,  38.44545455,  39.45454545,\n",
       "        40.46363636,  41.47272727,  42.48181818,  43.49090909,\n",
       "        44.5       ,  45.50909091,  46.51818182,  47.52727273,\n",
       "        48.53636364,  49.54545455,  50.55454545,  51.56363636,\n",
       "        52.57272727,  53.58181818,  54.59090909,  55.6       ,\n",
       "        56.60909091,  57.61818182,  58.62727273,  59.63636364,\n",
       "        60.64545455,  61.65454545,  62.66363636,  63.67272727,\n",
       "        64.68181818,  65.69090909,  66.7       ,  67.70909091,\n",
       "        68.71818182,  69.72727273,  70.73636364,  71.74545455,\n",
       "        72.75454545,  73.76363636,  74.77272727,  75.78181818,\n",
       "        76.79090909,  77.8       ,  78.80909091,  79.81818182,\n",
       "        80.82727273,  81.83636364,  82.84545455,  83.85454545,\n",
       "        84.86363636,  85.87272727,  86.88181818,  87.89090909,\n",
       "        88.9       ,  89.90909091,  90.91818182,  91.92727273,\n",
       "        92.93636364,  93.94545455,  94.95454545,  95.96363636,\n",
       "        96.97272727,  97.98181818,  98.99090909, 100.        ])"
      ]
     },
     "execution_count": 278,
     "metadata": {},
     "output_type": "execute_result"
    }
   ],
   "source": [
    "rlmcv.alphas"
   ]
  },
  {
   "cell_type": "code",
   "execution_count": 279,
   "id": "05b2c1ed",
   "metadata": {},
   "outputs": [
    {
     "data": {
      "text/plain": [
       "RidgeCV(alphas=array([  0.1       ,   1.10909091,   2.11818182,   3.12727273,\n",
       "         4.13636364,   5.14545455,   6.15454545,   7.16363636,\n",
       "         8.17272727,   9.18181818,  10.19090909,  11.2       ,\n",
       "        12.20909091,  13.21818182,  14.22727273,  15.23636364,\n",
       "        16.24545455,  17.25454545,  18.26363636,  19.27272727,\n",
       "        20.28181818,  21.29090909,  22.3       ,  23.30909091,\n",
       "        24.31818182,  25.32727273,  26.33636364,  27.34545455,\n",
       "        28.35454545,  29.36363636...\n",
       "        68.71818182,  69.72727273,  70.73636364,  71.74545455,\n",
       "        72.75454545,  73.76363636,  74.77272727,  75.78181818,\n",
       "        76.79090909,  77.8       ,  78.80909091,  79.81818182,\n",
       "        80.82727273,  81.83636364,  82.84545455,  83.85454545,\n",
       "        84.86363636,  85.87272727,  86.88181818,  87.89090909,\n",
       "        88.9       ,  89.90909091,  90.91818182,  91.92727273,\n",
       "        92.93636364,  93.94545455,  94.95454545,  95.96363636,\n",
       "        96.97272727,  97.98181818,  98.99090909, 100.        ]),\n",
       "        cv=3, scoring='r2')"
      ]
     },
     "execution_count": 279,
     "metadata": {},
     "output_type": "execute_result"
    }
   ],
   "source": [
    "rlmcv.fit(X_train, y_train)"
   ]
  },
  {
   "cell_type": "code",
   "execution_count": 280,
   "id": "6bb2e87c",
   "metadata": {},
   "outputs": [
    {
     "name": "stdout",
     "output_type": "stream",
     "text": [
      "El mejor Alpha(lambda) de ajuste: 3.1272727272727274\n"
     ]
    }
   ],
   "source": [
    "print(\"El mejor Alpha(lambda) de ajuste:\", rlmcv.alpha_)"
   ]
  },
  {
   "cell_type": "code",
   "execution_count": 281,
   "id": "a2464779",
   "metadata": {},
   "outputs": [
    {
     "name": "stdout",
     "output_type": "stream",
     "text": [
      "r^2: 0.6662509075450568\n"
     ]
    }
   ],
   "source": [
    "print(\"r^2:\", rlmcv.score(X_train, y_train))"
   ]
  },
  {
   "cell_type": "code",
   "execution_count": 282,
   "id": "0bb03b4d",
   "metadata": {},
   "outputs": [],
   "source": [
    "yPred_R = rlmcv.predict(X_test)"
   ]
  },
  {
   "cell_type": "code",
   "execution_count": 283,
   "id": "56563e71",
   "metadata": {},
   "outputs": [
    {
     "name": "stdout",
     "output_type": "stream",
     "text": [
      "r^2 test: 0.66604592929673\n"
     ]
    }
   ],
   "source": [
    "print(\"r^2 test:\", rlmcv.score(X_test, y_test))"
   ]
  },
  {
   "cell_type": "code",
   "execution_count": 284,
   "id": "2306b59a",
   "metadata": {},
   "outputs": [
    {
     "name": "stdout",
     "output_type": "stream",
     "text": [
      "R2: 0.66604592929673\n",
      "MAE: 424.8930925833882\n",
      "MSE: 289061.38474031613\n",
      "RMSE: 537.6442920187251\n"
     ]
    }
   ],
   "source": [
    "print ('R2:', metrics.r2_score(y_test, yPred_R))\n",
    "print ('MAE:', metrics.mean_absolute_error(y_test, yPred_R))\n",
    "print ('MSE:', metrics.mean_squared_error(y_test, yPred_R))\n",
    "print ('RMSE:', np.sqrt(metrics.mean_squared_error(y_test, yPred_R)))"
   ]
  },
  {
   "cell_type": "code",
   "execution_count": 285,
   "id": "797fc80b",
   "metadata": {},
   "outputs": [],
   "source": [
    "# USAMOS REGULARIZACION TIPO LASSO CON CROSS VALIDATION"
   ]
  },
  {
   "cell_type": "code",
   "execution_count": 287,
   "id": "e9899c91",
   "metadata": {},
   "outputs": [],
   "source": [
    "lassocv = linear_model.LassoCV(alphas=np.linspace(0.01, 100, 1000), cv=3, normalize=False)"
   ]
  },
  {
   "cell_type": "code",
   "execution_count": 288,
   "id": "3726616e",
   "metadata": {},
   "outputs": [
    {
     "data": {
      "text/plain": [
       "LassoCV(alphas=array([1.00000000e-02, 1.10090090e-01, 2.10180180e-01, 3.10270270e-01,\n",
       "       4.10360360e-01, 5.10450450e-01, 6.10540541e-01, 7.10630631e-01,\n",
       "       8.10720721e-01, 9.10810811e-01, 1.01090090e+00, 1.11099099e+00,\n",
       "       1.21108108e+00, 1.31117117e+00, 1.41126126e+00, 1.51135135e+00,\n",
       "       1.61144144e+00, 1.71153153e+00, 1.81162162e+00, 1.91171171e+00,\n",
       "       2.01180180e+00, 2.11189189e+0...\n",
       "       9.76979279e+01, 9.77980180e+01, 9.78981081e+01, 9.79981982e+01,\n",
       "       9.80982883e+01, 9.81983784e+01, 9.82984685e+01, 9.83985586e+01,\n",
       "       9.84986486e+01, 9.85987387e+01, 9.86988288e+01, 9.87989189e+01,\n",
       "       9.88990090e+01, 9.89990991e+01, 9.90991892e+01, 9.91992793e+01,\n",
       "       9.92993694e+01, 9.93994595e+01, 9.94995495e+01, 9.95996396e+01,\n",
       "       9.96997297e+01, 9.97998198e+01, 9.98999099e+01, 1.00000000e+02]),\n",
       "        cv=3)"
      ]
     },
     "execution_count": 288,
     "metadata": {},
     "output_type": "execute_result"
    }
   ],
   "source": [
    "lassocv.fit(X_train, y_train)"
   ]
  },
  {
   "cell_type": "code",
   "execution_count": 289,
   "id": "c68a3c8b",
   "metadata": {},
   "outputs": [
    {
     "data": {
      "text/plain": [
       "array([-112.28522029, -611.08852717,  517.70880356,  168.52076147,\n",
       "        -11.8850458 ,   53.42377426])"
      ]
     },
     "execution_count": 289,
     "metadata": {},
     "output_type": "execute_result"
    }
   ],
   "source": [
    "lassocv.coef_ "
   ]
  },
  {
   "cell_type": "markdown",
   "id": "938cd13d",
   "metadata": {},
   "source": [
    "### vemos que usando lasso no se elimino ningun coeficiente . . . "
   ]
  },
  {
   "cell_type": "code",
   "execution_count": 290,
   "id": "41755b6a",
   "metadata": {},
   "outputs": [
    {
     "data": {
      "text/plain": [
       "1615.2862697362607"
      ]
     },
     "execution_count": 290,
     "metadata": {},
     "output_type": "execute_result"
    }
   ],
   "source": [
    "lassocv.intercept_"
   ]
  },
  {
   "cell_type": "code",
   "execution_count": 291,
   "id": "b1578012",
   "metadata": {},
   "outputs": [
    {
     "name": "stdout",
     "output_type": "stream",
     "text": [
      "r^2: 0.6662509107953807\n"
     ]
    }
   ],
   "source": [
    "print(\"r^2:\", lassocv.score(X_train, y_train))"
   ]
  },
  {
   "cell_type": "code",
   "execution_count": 292,
   "id": "5ab0fd97",
   "metadata": {},
   "outputs": [],
   "source": [
    "yPred_L = lassocv.predict(X_test)"
   ]
  },
  {
   "cell_type": "code",
   "execution_count": 293,
   "id": "b955c1e1",
   "metadata": {},
   "outputs": [
    {
     "name": "stdout",
     "output_type": "stream",
     "text": [
      "r^2 test: 0.666045884274945\n"
     ]
    }
   ],
   "source": [
    "print(\"r^2 test:\", lassocv.score(X_test, y_test))"
   ]
  },
  {
   "cell_type": "code",
   "execution_count": 294,
   "id": "aba6280c",
   "metadata": {},
   "outputs": [
    {
     "name": "stdout",
     "output_type": "stream",
     "text": [
      "R2: 0.666045884274945\n",
      "MAE: 424.89795996575305\n",
      "MSE: 289061.4237099249\n",
      "RMSE: 537.6443282597938\n"
     ]
    }
   ],
   "source": [
    "print ('R2:', metrics.r2_score(y_test, yPred_L))\n",
    "print ('MAE:', metrics.mean_absolute_error(y_test, yPred_L))\n",
    "print ('MSE:', metrics.mean_squared_error(y_test, yPred_L))\n",
    "print ('RMSE:', np.sqrt(metrics.mean_squared_error(y_test, yPred_L)))"
   ]
  },
  {
   "cell_type": "code",
   "execution_count": 81,
   "id": "7bcc56e1",
   "metadata": {},
   "outputs": [
    {
     "ename": "ValueError",
     "evalue": "Could not interpret value `Index` for parameter `x`",
     "output_type": "error",
     "traceback": [
      "\u001b[1;31m---------------------------------------------------------------------------\u001b[0m",
      "\u001b[1;31mValueError\u001b[0m                                Traceback (most recent call last)",
      "Cell \u001b[1;32mIn[81], line 2\u001b[0m\n\u001b[0;32m      1\u001b[0m plt\u001b[38;5;241m.\u001b[39mfigure(figsize\u001b[38;5;241m=\u001b[39m(\u001b[38;5;241m10\u001b[39m, \u001b[38;5;241m6\u001b[39m))\n\u001b[1;32m----> 2\u001b[0m \u001b[43msns\u001b[49m\u001b[38;5;241;43m.\u001b[39;49m\u001b[43mscatterplot\u001b[49m\u001b[43m(\u001b[49m\u001b[43mx\u001b[49m\u001b[38;5;241;43m=\u001b[39;49m\u001b[38;5;124;43m'\u001b[39;49m\u001b[38;5;124;43mIndex\u001b[39;49m\u001b[38;5;124;43m'\u001b[39;49m\u001b[43m,\u001b[49m\u001b[43m \u001b[49m\u001b[43my\u001b[49m\u001b[38;5;241;43m=\u001b[39;49m\u001b[38;5;124;43m'\u001b[39;49m\u001b[38;5;124;43mprice_usd_per_m2_new\u001b[39;49m\u001b[38;5;124;43m'\u001b[39;49m\u001b[43m,\u001b[49m\u001b[43m \u001b[49m\u001b[43mdata\u001b[49m\u001b[38;5;241;43m=\u001b[39;49m\u001b[43mdata_model_ml\u001b[49m\u001b[43m)\u001b[49m\n\u001b[0;32m      3\u001b[0m plt\u001b[38;5;241m.\u001b[39mtitle(\u001b[38;5;124m'\u001b[39m\u001b[38;5;124mComparación de Predicciones vs. Valores Reales\u001b[39m\u001b[38;5;124m'\u001b[39m)\n\u001b[0;32m      4\u001b[0m plt\u001b[38;5;241m.\u001b[39mshow()\n",
      "File \u001b[1;32m~\\anaconda3\\lib\\site-packages\\seaborn\\relational.py:742\u001b[0m, in \u001b[0;36mscatterplot\u001b[1;34m(data, x, y, hue, size, style, palette, hue_order, hue_norm, sizes, size_order, size_norm, markers, style_order, legend, ax, **kwargs)\u001b[0m\n\u001b[0;32m    732\u001b[0m \u001b[38;5;28;01mdef\u001b[39;00m \u001b[38;5;21mscatterplot\u001b[39m(\n\u001b[0;32m    733\u001b[0m     data\u001b[38;5;241m=\u001b[39m\u001b[38;5;28;01mNone\u001b[39;00m, \u001b[38;5;241m*\u001b[39m,\n\u001b[0;32m    734\u001b[0m     x\u001b[38;5;241m=\u001b[39m\u001b[38;5;28;01mNone\u001b[39;00m, y\u001b[38;5;241m=\u001b[39m\u001b[38;5;28;01mNone\u001b[39;00m, hue\u001b[38;5;241m=\u001b[39m\u001b[38;5;28;01mNone\u001b[39;00m, size\u001b[38;5;241m=\u001b[39m\u001b[38;5;28;01mNone\u001b[39;00m, style\u001b[38;5;241m=\u001b[39m\u001b[38;5;28;01mNone\u001b[39;00m,\n\u001b[1;32m   (...)\u001b[0m\n\u001b[0;32m    738\u001b[0m     \u001b[38;5;241m*\u001b[39m\u001b[38;5;241m*\u001b[39mkwargs\n\u001b[0;32m    739\u001b[0m ):\n\u001b[0;32m    741\u001b[0m     variables \u001b[38;5;241m=\u001b[39m _ScatterPlotter\u001b[38;5;241m.\u001b[39mget_semantics(\u001b[38;5;28mlocals\u001b[39m())\n\u001b[1;32m--> 742\u001b[0m     p \u001b[38;5;241m=\u001b[39m \u001b[43m_ScatterPlotter\u001b[49m\u001b[43m(\u001b[49m\u001b[43mdata\u001b[49m\u001b[38;5;241;43m=\u001b[39;49m\u001b[43mdata\u001b[49m\u001b[43m,\u001b[49m\u001b[43m \u001b[49m\u001b[43mvariables\u001b[49m\u001b[38;5;241;43m=\u001b[39;49m\u001b[43mvariables\u001b[49m\u001b[43m,\u001b[49m\u001b[43m \u001b[49m\u001b[43mlegend\u001b[49m\u001b[38;5;241;43m=\u001b[39;49m\u001b[43mlegend\u001b[49m\u001b[43m)\u001b[49m\n\u001b[0;32m    744\u001b[0m     p\u001b[38;5;241m.\u001b[39mmap_hue(palette\u001b[38;5;241m=\u001b[39mpalette, order\u001b[38;5;241m=\u001b[39mhue_order, norm\u001b[38;5;241m=\u001b[39mhue_norm)\n\u001b[0;32m    745\u001b[0m     p\u001b[38;5;241m.\u001b[39mmap_size(sizes\u001b[38;5;241m=\u001b[39msizes, order\u001b[38;5;241m=\u001b[39msize_order, norm\u001b[38;5;241m=\u001b[39msize_norm)\n",
      "File \u001b[1;32m~\\anaconda3\\lib\\site-packages\\seaborn\\relational.py:538\u001b[0m, in \u001b[0;36m_ScatterPlotter.__init__\u001b[1;34m(self, data, variables, legend)\u001b[0m\n\u001b[0;32m    529\u001b[0m \u001b[38;5;28;01mdef\u001b[39;00m \u001b[38;5;21m__init__\u001b[39m(\u001b[38;5;28mself\u001b[39m, \u001b[38;5;241m*\u001b[39m, data\u001b[38;5;241m=\u001b[39m\u001b[38;5;28;01mNone\u001b[39;00m, variables\u001b[38;5;241m=\u001b[39m{}, legend\u001b[38;5;241m=\u001b[39m\u001b[38;5;28;01mNone\u001b[39;00m):\n\u001b[0;32m    530\u001b[0m \n\u001b[0;32m    531\u001b[0m     \u001b[38;5;66;03m# TODO this is messy, we want the mapping to be agnostic about\u001b[39;00m\n\u001b[0;32m    532\u001b[0m     \u001b[38;5;66;03m# the kind of plot to draw, but for the time being we need to set\u001b[39;00m\n\u001b[0;32m    533\u001b[0m     \u001b[38;5;66;03m# this information so the SizeMapping can use it\u001b[39;00m\n\u001b[0;32m    534\u001b[0m     \u001b[38;5;28mself\u001b[39m\u001b[38;5;241m.\u001b[39m_default_size_range \u001b[38;5;241m=\u001b[39m (\n\u001b[0;32m    535\u001b[0m         np\u001b[38;5;241m.\u001b[39mr_[\u001b[38;5;241m.5\u001b[39m, \u001b[38;5;241m2\u001b[39m] \u001b[38;5;241m*\u001b[39m np\u001b[38;5;241m.\u001b[39msquare(mpl\u001b[38;5;241m.\u001b[39mrcParams[\u001b[38;5;124m\"\u001b[39m\u001b[38;5;124mlines.markersize\u001b[39m\u001b[38;5;124m\"\u001b[39m])\n\u001b[0;32m    536\u001b[0m     )\n\u001b[1;32m--> 538\u001b[0m     \u001b[38;5;28;43msuper\u001b[39;49m\u001b[43m(\u001b[49m\u001b[43m)\u001b[49m\u001b[38;5;241;43m.\u001b[39;49m\u001b[38;5;21;43m__init__\u001b[39;49m\u001b[43m(\u001b[49m\u001b[43mdata\u001b[49m\u001b[38;5;241;43m=\u001b[39;49m\u001b[43mdata\u001b[49m\u001b[43m,\u001b[49m\u001b[43m \u001b[49m\u001b[43mvariables\u001b[49m\u001b[38;5;241;43m=\u001b[39;49m\u001b[43mvariables\u001b[49m\u001b[43m)\u001b[49m\n\u001b[0;32m    540\u001b[0m     \u001b[38;5;28mself\u001b[39m\u001b[38;5;241m.\u001b[39mlegend \u001b[38;5;241m=\u001b[39m legend\n",
      "File \u001b[1;32m~\\anaconda3\\lib\\site-packages\\seaborn\\_oldcore.py:640\u001b[0m, in \u001b[0;36mVectorPlotter.__init__\u001b[1;34m(self, data, variables)\u001b[0m\n\u001b[0;32m    635\u001b[0m \u001b[38;5;66;03m# var_ordered is relevant only for categorical axis variables, and may\u001b[39;00m\n\u001b[0;32m    636\u001b[0m \u001b[38;5;66;03m# be better handled by an internal axis information object that tracks\u001b[39;00m\n\u001b[0;32m    637\u001b[0m \u001b[38;5;66;03m# such information and is set up by the scale_* methods. The analogous\u001b[39;00m\n\u001b[0;32m    638\u001b[0m \u001b[38;5;66;03m# information for numeric axes would be information about log scales.\u001b[39;00m\n\u001b[0;32m    639\u001b[0m \u001b[38;5;28mself\u001b[39m\u001b[38;5;241m.\u001b[39m_var_ordered \u001b[38;5;241m=\u001b[39m {\u001b[38;5;124m\"\u001b[39m\u001b[38;5;124mx\u001b[39m\u001b[38;5;124m\"\u001b[39m: \u001b[38;5;28;01mFalse\u001b[39;00m, \u001b[38;5;124m\"\u001b[39m\u001b[38;5;124my\u001b[39m\u001b[38;5;124m\"\u001b[39m: \u001b[38;5;28;01mFalse\u001b[39;00m}  \u001b[38;5;66;03m# alt., used DefaultDict\u001b[39;00m\n\u001b[1;32m--> 640\u001b[0m \u001b[38;5;28;43mself\u001b[39;49m\u001b[38;5;241;43m.\u001b[39;49m\u001b[43massign_variables\u001b[49m\u001b[43m(\u001b[49m\u001b[43mdata\u001b[49m\u001b[43m,\u001b[49m\u001b[43m \u001b[49m\u001b[43mvariables\u001b[49m\u001b[43m)\u001b[49m\n\u001b[0;32m    642\u001b[0m \u001b[38;5;28;01mfor\u001b[39;00m var, \u001b[38;5;28mcls\u001b[39m \u001b[38;5;129;01min\u001b[39;00m \u001b[38;5;28mself\u001b[39m\u001b[38;5;241m.\u001b[39m_semantic_mappings\u001b[38;5;241m.\u001b[39mitems():\n\u001b[0;32m    643\u001b[0m \n\u001b[0;32m    644\u001b[0m     \u001b[38;5;66;03m# Create the mapping function\u001b[39;00m\n\u001b[0;32m    645\u001b[0m     map_func \u001b[38;5;241m=\u001b[39m partial(\u001b[38;5;28mcls\u001b[39m\u001b[38;5;241m.\u001b[39mmap, plotter\u001b[38;5;241m=\u001b[39m\u001b[38;5;28mself\u001b[39m)\n",
      "File \u001b[1;32m~\\anaconda3\\lib\\site-packages\\seaborn\\_oldcore.py:701\u001b[0m, in \u001b[0;36mVectorPlotter.assign_variables\u001b[1;34m(self, data, variables)\u001b[0m\n\u001b[0;32m    699\u001b[0m \u001b[38;5;28;01melse\u001b[39;00m:\n\u001b[0;32m    700\u001b[0m     \u001b[38;5;28mself\u001b[39m\u001b[38;5;241m.\u001b[39minput_format \u001b[38;5;241m=\u001b[39m \u001b[38;5;124m\"\u001b[39m\u001b[38;5;124mlong\u001b[39m\u001b[38;5;124m\"\u001b[39m\n\u001b[1;32m--> 701\u001b[0m     plot_data, variables \u001b[38;5;241m=\u001b[39m \u001b[38;5;28mself\u001b[39m\u001b[38;5;241m.\u001b[39m_assign_variables_longform(\n\u001b[0;32m    702\u001b[0m         data, \u001b[38;5;241m*\u001b[39m\u001b[38;5;241m*\u001b[39mvariables,\n\u001b[0;32m    703\u001b[0m     )\n\u001b[0;32m    705\u001b[0m \u001b[38;5;28mself\u001b[39m\u001b[38;5;241m.\u001b[39mplot_data \u001b[38;5;241m=\u001b[39m plot_data\n\u001b[0;32m    706\u001b[0m \u001b[38;5;28mself\u001b[39m\u001b[38;5;241m.\u001b[39mvariables \u001b[38;5;241m=\u001b[39m variables\n",
      "File \u001b[1;32m~\\anaconda3\\lib\\site-packages\\seaborn\\_oldcore.py:938\u001b[0m, in \u001b[0;36mVectorPlotter._assign_variables_longform\u001b[1;34m(self, data, **kwargs)\u001b[0m\n\u001b[0;32m    933\u001b[0m \u001b[38;5;28;01melif\u001b[39;00m \u001b[38;5;28misinstance\u001b[39m(val, (\u001b[38;5;28mstr\u001b[39m, \u001b[38;5;28mbytes\u001b[39m)):\n\u001b[0;32m    934\u001b[0m \n\u001b[0;32m    935\u001b[0m     \u001b[38;5;66;03m# This looks like a column name but we don't know what it means!\u001b[39;00m\n\u001b[0;32m    937\u001b[0m     err \u001b[38;5;241m=\u001b[39m \u001b[38;5;124mf\u001b[39m\u001b[38;5;124m\"\u001b[39m\u001b[38;5;124mCould not interpret value `\u001b[39m\u001b[38;5;132;01m{\u001b[39;00mval\u001b[38;5;132;01m}\u001b[39;00m\u001b[38;5;124m` for parameter `\u001b[39m\u001b[38;5;132;01m{\u001b[39;00mkey\u001b[38;5;132;01m}\u001b[39;00m\u001b[38;5;124m`\u001b[39m\u001b[38;5;124m\"\u001b[39m\n\u001b[1;32m--> 938\u001b[0m     \u001b[38;5;28;01mraise\u001b[39;00m \u001b[38;5;167;01mValueError\u001b[39;00m(err)\n\u001b[0;32m    940\u001b[0m \u001b[38;5;28;01melse\u001b[39;00m:\n\u001b[0;32m    941\u001b[0m \n\u001b[0;32m    942\u001b[0m     \u001b[38;5;66;03m# Otherwise, assume the value is itself data\u001b[39;00m\n\u001b[0;32m    943\u001b[0m \n\u001b[0;32m    944\u001b[0m     \u001b[38;5;66;03m# Raise when data object is present and a vector can't matched\u001b[39;00m\n\u001b[0;32m    945\u001b[0m     \u001b[38;5;28;01mif\u001b[39;00m \u001b[38;5;28misinstance\u001b[39m(data, pd\u001b[38;5;241m.\u001b[39mDataFrame) \u001b[38;5;129;01mand\u001b[39;00m \u001b[38;5;129;01mnot\u001b[39;00m \u001b[38;5;28misinstance\u001b[39m(val, pd\u001b[38;5;241m.\u001b[39mSeries):\n",
      "\u001b[1;31mValueError\u001b[0m: Could not interpret value `Index` for parameter `x`"
     ]
    },
    {
     "data": {
      "text/plain": [
       "<Figure size 1000x600 with 0 Axes>"
      ]
     },
     "metadata": {},
     "output_type": "display_data"
    }
   ],
   "source": [
    "plt.figure(figsize=(10, 6))\n",
    "sns.scatterplot(x='Index', y='price_usd_per_m2_new', data=data_model_ml)\n",
    "plt.title('Comparación de Predicciones vs. Valores Reales')\n",
    "plt.show()"
   ]
  },
  {
   "cell_type": "code",
   "execution_count": 98,
   "id": "923ff0bc",
   "metadata": {},
   "outputs": [
    {
     "data": {
      "text/plain": [
       "[<matplotlib.lines.Line2D at 0x2909f817b80>]"
      ]
     },
     "execution_count": 98,
     "metadata": {},
     "output_type": "execute_result"
    },
    {
     "data": {
      "image/png": "[encoded data removed]",
      "text/plain": [
       "<Figure size 2200x1000 with 1 Axes>"
      ]
     },
     "metadata": {},
     "output_type": "display_data"
    }
   ],
   "source": [
    "plt.plot(y_test, label='Valores Reales')\n",
    "plt.plot(y_pred_linear, label='Serie 2')"
   ]
  },
  {
   "cell_type": "code",
   "execution_count": null,
   "id": "5c69cd3b",
   "metadata": {},
   "outputs": [],
   "source": []
  }
 ],
 "metadata": {
  "kernelspec": {
   "display_name": "Python 3 (ipykernel)",
   "language": "python",
   "name": "python3"
  },
  "language_info": {
   "codemirror_mode": {
    "name": "ipython",
    "version": 3
   },
   "file_extension": ".py",
   "mimetype": "text/x-python",
   "name": "python",
   "nbconvert_exporter": "python",
   "pygments_lexer": "ipython3",
   "version": "3.10.9"
  }
 },
 "nbformat": 4,
 "nbformat_minor": 5
}
