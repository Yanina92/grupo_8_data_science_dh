{
 "cells": [
  {
   "cell_type": "markdown",
   "metadata": {
    "id": "xzWuAgEkcHO2"
   },
   "source": [
    "# TRABAJO PRÁCTICO Nº1 - GRUPO 9"
   ]
  },
  {
   "cell_type": "markdown",
   "metadata": {},
   "source": [
    "Integrantes:\n",
    "- Pablo Arias\n",
    "- Manuel Chara\n",
    "- Melissa Montes\n",
    "- Sheila Aguilar\n",
    "- Marcos Kippes\n",
    "- Sergio Flieg\n",
    "- Camila Danza\n",
    "- Roberto Doello\n",
    "- Sergio Antozzi"
   ]
  },
  {
   "cell_type": "markdown",
   "metadata": {
    "id": "aFK2erKq56_7"
   },
   "source": [
    "# Carga de librerias y Dataset"
   ]
  },
  {
   "cell_type": "markdown",
   "metadata": {
    "id": "8wlCV5oiccSH"
   },
   "source": [
    "En esta sección importamos las librerías necesarias para nuestro análisis y el dataset sobre el cual que trabajaremos"
   ]
  },
  {
   "cell_type": "code",
   "execution_count": 240,
   "metadata": {
    "id": "a2A7nIBrgBTu"
   },
   "outputs": [],
   "source": [
    "import numpy as np\n",
    "import pandas as pd\n",
    "import matplotlib.pyplot as plt\n",
    "import seaborn  as sbn\n",
    "import re"
   ]
  },
  {
   "cell_type": "code",
   "execution_count": 241,
   "metadata": {
    "id": "SZLZjmrRBGbs"
   },
   "outputs": [],
   "source": [
    "df_original = pd.read_csv('C:\\\\Users\\\\cdanz\\\\Documents\\\\DH\\\\properatti.csv')\n",
    "data=df_original.copy()"
   ]
  },
  {
   "cell_type": "markdown",
   "metadata": {
    "id": "59_LaQ_36EPj"
   },
   "source": [
    "# Analisis preliminar del Dataset"
   ]
  },
  {
   "cell_type": "code",
   "execution_count": 242,
   "metadata": {
    "colab": {
     "base_uri": "https://localhost:8080/"
    },
    "executionInfo": {
     "elapsed": 7,
     "status": "ok",
     "timestamp": 1704388333080,
     "user": {
      "displayName": "camila Danza smith",
      "userId": "08305164391871677593"
     },
     "user_tz": 180
    },
    "id": "V1UwwuKSQu8V",
    "outputId": "cd55e272-d46e-412a-f87c-280d9ab85520"
   },
   "outputs": [
    {
     "name": "stdout",
     "output_type": "stream",
     "text": [
      "<class 'pandas.core.frame.DataFrame'>\n",
      "RangeIndex: 121220 entries, 0 to 121219\n",
      "Data columns (total 26 columns):\n",
      " #   Column                      Non-Null Count   Dtype  \n",
      "---  ------                      --------------   -----  \n",
      " 0   Unnamed: 0                  121220 non-null  int64  \n",
      " 1   operation                   121220 non-null  object \n",
      " 2   property_type               121220 non-null  object \n",
      " 3   place_name                  121197 non-null  object \n",
      " 4   place_with_parent_names     121220 non-null  object \n",
      " 5   country_name                121220 non-null  object \n",
      " 6   state_name                  121220 non-null  object \n",
      " 7   geonames_id                 102503 non-null  float64\n",
      " 8   lat-lon                     69670 non-null   object \n",
      " 9   lat                         69670 non-null   float64\n",
      " 10  lon                         69670 non-null   float64\n",
      " 11  price                       100810 non-null  float64\n",
      " 12  currency                    100809 non-null  object \n",
      " 13  price_aprox_local_currency  100810 non-null  float64\n",
      " 14  price_aprox_usd             100810 non-null  float64\n",
      " 15  surface_total_in_m2         81892 non-null   float64\n",
      " 16  surface_covered_in_m2       101313 non-null  float64\n",
      " 17  price_usd_per_m2            68617 non-null   float64\n",
      " 18  price_per_m2                87658 non-null   float64\n",
      " 19  floor                       7899 non-null    float64\n",
      " 20  rooms                       47390 non-null   float64\n",
      " 21  expenses                    14262 non-null   float64\n",
      " 22  properati_url               121220 non-null  object \n",
      " 23  description                 121218 non-null  object \n",
      " 24  title                       121220 non-null  object \n",
      " 25  image_thumbnail             118108 non-null  object \n",
      "dtypes: float64(13), int64(1), object(12)\n",
      "memory usage: 24.0+ MB\n"
     ]
    }
   ],
   "source": [
    "#Observamos las caracteristicas del DF\n",
    "data.info()"
   ]
  },
  {
   "cell_type": "code",
   "execution_count": 243,
   "metadata": {
    "colab": {
     "base_uri": "https://localhost:8080/"
    },
    "executionInfo": {
     "elapsed": 1435,
     "status": "ok",
     "timestamp": 1704388334510,
     "user": {
      "displayName": "camila Danza smith",
      "userId": "08305164391871677593"
     },
     "user_tz": 180
    },
    "id": "xtbx_kP0gX8H",
    "outputId": "4d8d5f4b-6fc6-4a49-b746-f08d6419d427"
   },
   "outputs": [
    {
     "data": {
      "text/plain": [
       "floor                         93.483749\n",
       "expenses                      88.234615\n",
       "rooms                         60.905791\n",
       "price_usd_per_m2              43.394654\n",
       "lat-lon                       42.525986\n",
       "lat                           42.525986\n",
       "lon                           42.525986\n",
       "surface_total_in_m2           32.443491\n",
       "price_per_m2                  27.686850\n",
       "currency                      16.837981\n",
       "price_aprox_local_currency    16.837156\n",
       "price                         16.837156\n",
       "price_aprox_usd               16.837156\n",
       "surface_covered_in_m2         16.422208\n",
       "geonames_id                   15.440521\n",
       "image_thumbnail                2.567233\n",
       "place_name                     0.018974\n",
       "description                    0.001650\n",
       "operation                      0.000000\n",
       "state_name                     0.000000\n",
       "country_name                   0.000000\n",
       "place_with_parent_names        0.000000\n",
       "property_type                  0.000000\n",
       "properati_url                  0.000000\n",
       "title                          0.000000\n",
       "Unnamed: 0                     0.000000\n",
       "dtype: float64"
      ]
     },
     "execution_count": 243,
     "metadata": {},
     "output_type": "execute_result"
    }
   ],
   "source": [
    "#Creamos una funcion para ver el porcentaje de nulos por columna del Dataframe y\n",
    "#las ordene de mayor a menor\n",
    "\n",
    "def imprime_porcentaje_nulos_dataframe(df):\n",
    "    null_percentage = df.isnull().mean() * 100\n",
    "    null_percentage = null_percentage.sort_values(ascending=False)\n",
    "    return null_percentage\n",
    "\n",
    "\n",
    "imprime_porcentaje_nulos_dataframe(data)"
   ]
  },
  {
   "cell_type": "code",
   "execution_count": 244,
   "metadata": {
    "colab": {
     "base_uri": "https://localhost:8080/"
    },
    "executionInfo": {
     "elapsed": 64,
     "status": "ok",
     "timestamp": 1704388334510,
     "user": {
      "displayName": "camila Danza smith",
      "userId": "08305164391871677593"
     },
     "user_tz": 180
    },
    "id": "zkb-vTPjmfbE",
    "outputId": "3869848b-ed64-43fb-dbf6-a5fb7538677f"
   },
   "outputs": [
    {
     "name": "stdout",
     "output_type": "stream",
     "text": [
      "Número de filas duplicadas en el DataFrame: 0\n"
     ]
    }
   ],
   "source": [
    "# Controlamos si hay filas duplicadas en el DataFrame\n",
    "numero_filas_duplicadas = data.duplicated().sum()\n",
    "\n",
    "# Imprimir el resultado\n",
    "print(\"Número de filas duplicadas en el DataFrame:\", numero_filas_duplicadas)"
   ]
  },
  {
   "cell_type": "markdown",
   "metadata": {
    "id": "Fc-sPX7J6ZeW"
   },
   "source": [
    "# Limpieza de datos"
   ]
  },
  {
   "cell_type": "markdown",
   "metadata": {
    "id": "CrgRglfKvmyr"
   },
   "source": [
    "Del análisis de los valores unicos de cada columna y tras observar el porcentaje de nulos de cada una seleccionamos las columnas a eliminar.\n",
    "\n",
    "\n",
    "*   ***Operation/Country_name***: las filas contienen un único valor\n",
    "\n",
    "*   ***Expenses/Floor***: contienen un alto porcentaje de valores nulos que serían dificiles de imputar\n",
    "\n",
    "*   **Unnamed: 0/properati_url:** no aportan información relevante\n",
    "\n",
    "*   **Currency/price/price_per_m2:** la columna price cuenta con valores en pesos y en dolares sin criterio alguno, consideramos mas facil trabajar con las columnas price_aprox_in_usd y price_aprox_local_currency\n",
    "\n",
    "*   **Lat-lon/Lat/Lon/Geonames_id:** se intentó cruzar datos con la db de geonames, para ver si se podian imputar nulos, pero no fue significativa la mejora. Se omite dicho analisis en el presente tp, con fines de resumir. La ubicación puede tratarse con las columna place_name.\n",
    "\n",
    "Si bien hay más columnas que podrían eliminarse, y entendemos que este dataset no va a usarse realmente para un modelo de ML, como la premisa del trabajo es preparar el dataset para su uso en un modelo de ML consideramos que es el mismo modelo es el que decide que variables de entrada son importantes o no.\n",
    "\n",
    "\n",
    "\n"
   ]
  },
  {
   "cell_type": "code",
   "execution_count": 245,
   "metadata": {
    "id": "pZFP1hz86iZK"
   },
   "outputs": [],
   "source": [
    "#Seleccionamos las columnas a dropear\n",
    "columnas_a_eliminar = ['Unnamed: 0', 'operation', 'properati_url','country_name',\n",
    "                       'floor','expenses','lon','price','currency','lat','lat-lon',\n",
    "                       'geonames_id']\n",
    "\n",
    "# Utilizamos el método drop para eliminar las columnas\n",
    "data_clean = data.drop(columnas_a_eliminar, axis=1)\n"
   ]
  },
  {
   "cell_type": "markdown",
   "metadata": {
    "id": "Gl2xRAje8WpH"
   },
   "source": [
    "## Reducción de valores nulos y atípicos"
   ]
  },
  {
   "cell_type": "markdown",
   "metadata": {
    "id": "fjHaFEc11XFL"
   },
   "source": [
    "Luego creamos dos funciones para controlar el porcentaje de valores nulos y los valores únicos en columnas. Ambas nos permiten observar si el código y las funciones que aplicamos están funcionando comoo esperamos.  "
   ]
  },
  {
   "cell_type": "code",
   "execution_count": 246,
   "metadata": {
    "id": "ZXUmRyiHOeMg"
   },
   "outputs": [],
   "source": [
    "#Para controlar los valores unicos de las columnas\n",
    "check_column_vc= lambda df, column: (data_clean[column].value_counts())\n",
    "\n",
    "#Para controlar el porcentaje de valores nulos de las columnas\n",
    "check_nulls = lambda df, column: (data_clean[column].isnull().sum() / len(df)) * 100\n"
   ]
  },
  {
   "cell_type": "markdown",
   "metadata": {
    "id": "t2jh7Pq71wRo"
   },
   "source": [
    "### Surface"
   ]
  },
  {
   "cell_type": "markdown",
   "metadata": {
    "id": "e8XdSiwSAiqj"
   },
   "source": [
    "Nuestra idea para tratar surface covered era calcular las medias de surface para cada valor unico de property type. Previo a ello, y considerando que la media es sensible a los valores extremos, calculamos los outliers de la columna según el property tipe. Agrupamos por property_type ya que distintos tipos de propiedades tienen dimensiones diferentes y por lo tanto sus outliers seran diferentes."
   ]
  },
  {
   "cell_type": "code",
   "execution_count": 247,
   "metadata": {
    "colab": {
     "base_uri": "https://localhost:8080/"
    },
    "executionInfo": {
     "elapsed": 57,
     "status": "ok",
     "timestamp": 1704388334511,
     "user": {
      "displayName": "camila Danza smith",
      "userId": "08305164391871677593"
     },
     "user_tz": 180
    },
    "id": "AN_rm-wh10qQ",
    "outputId": "c32ebe86-6365-408c-84e5-508dfbd404f2"
   },
   "outputs": [
    {
     "name": "stdout",
     "output_type": "stream",
     "text": [
      "Porcentaje de valores nulos para surface_covered:\n",
      "16.422207556508827\n",
      "Porcentaje de valores nulos para surface_total:\n",
      "32.44349117307375\n"
     ]
    }
   ],
   "source": [
    "#Controlamos el numero de nulos previo a nuestra intervencion\n",
    "\n",
    "#Para surface covered\n",
    "print('Porcentaje de valores nulos para surface_covered:')\n",
    "print(check_nulls(data_clean,'surface_covered_in_m2'))\n",
    "\n",
    "#Para surface total\n",
    "print('Porcentaje de valores nulos para surface_total:')\n",
    "print(check_nulls(data_clean, 'surface_total_in_m2'))"
   ]
  },
  {
   "cell_type": "markdown",
   "metadata": {
    "id": "0nLlseG_suJ6"
   },
   "source": [
    "Aplicamos el IQR agrupando por property_type"
   ]
  },
  {
   "cell_type": "code",
   "execution_count": 248,
   "metadata": {
    "id": "RyywahHfAiqn"
   },
   "outputs": [],
   "source": [
    "\n",
    "# Crear un nuevo DataFrame para almacenar los valores sin outliers\n",
    "df_no_outliers_surface = pd.DataFrame()\n",
    "\n",
    "# Iterar sobre cada tipo de propiedad\n",
    "for property_type, group in data_clean.groupby('property_type'):\n",
    "    # Calcular los límites para detectar outliers en surface_covered_in_m2\n",
    "    q1_covered = group['surface_covered_in_m2'].quantile(0.25)\n",
    "    q3_covered = group['surface_covered_in_m2'].quantile(0.75)\n",
    "    iqr_covered = q3_covered - q1_covered\n",
    "    lower_bound_covered = q1_covered - 1.5 * iqr_covered\n",
    "    upper_bound_covered = q3_covered + 1.5 * iqr_covered\n",
    "\n",
    "    # Calcular los límites para detectar outliers en surface_total_in_m2\n",
    "    q1_total = group['surface_total_in_m2'].quantile(0.25)\n",
    "    q3_total = group['surface_total_in_m2'].quantile(0.75)\n",
    "    iqr_total = q3_total - q1_total\n",
    "    lower_bound_total = q1_total - 1.5 * iqr_total\n",
    "    upper_bound_total = q3_total + 1.5 * iqr_total\n",
    "\n",
    "    # Filtrar los datos dentro de los límites para surface_covered_in_m2 y surface_total_in_m2\n",
    "    filtered_data_covered = group[(group['surface_covered_in_m2'] >= lower_bound_covered) & (group['surface_covered_in_m2'] <= upper_bound_covered)]\n",
    "    filtered_data_total = group[(group['surface_total_in_m2'] >= lower_bound_total) & (group['surface_total_in_m2'] <= upper_bound_total)]\n",
    "\n",
    "    # Agregar los datos filtrados al nuevo DataFrame\n",
    "    df_no_outliers_surface = pd.concat([df_no_outliers_surface, filtered_data_covered, filtered_data_total])\n",
    "\n",
    "# En versiones anteriores este código nos generaba valores duplicados, así que procedemos a dropearlos\n",
    "df_no_outliers_surface= df_no_outliers_surface.drop_duplicates()\n",
    "\n",
    "# Reemplazar el DataFrame original con el DataFrame limpio\n",
    "data_clean= df_no_outliers_surface\n",
    "#data_clean"
   ]
  },
  {
   "cell_type": "code",
   "execution_count": 249,
   "metadata": {
    "colab": {
     "base_uri": "https://localhost:8080/"
    },
    "executionInfo": {
     "elapsed": 49,
     "status": "ok",
     "timestamp": 1704388334512,
     "user": {
      "displayName": "camila Danza smith",
      "userId": "08305164391871677593"
     },
     "user_tz": 180
    },
    "id": "4qpQ78lNhrdp",
    "outputId": "327ed438-b4ab-4f63-df64-6af8a47234c7"
   },
   "outputs": [
    {
     "name": "stdout",
     "output_type": "stream",
     "text": [
      "Porcentaje de valores nulos para surface_covered:\n",
      "6.629451433144329\n",
      "Porcentaje de valores nulos para surface_total:\n",
      "24.64988728078308\n"
     ]
    }
   ],
   "source": [
    "#Controlamos el numero de nulos tras nuestra intervencion\n",
    "\n",
    "#Para surface covered\n",
    "print('Porcentaje de valores nulos para surface_covered:')\n",
    "print(check_nulls(data_clean,'surface_covered_in_m2'))\n",
    "\n",
    "#Para surface total\n",
    "print('Porcentaje de valores nulos para surface_total:')\n",
    "print(check_nulls(data_clean, 'surface_total_in_m2'))"
   ]
  },
  {
   "cell_type": "code",
   "execution_count": 250,
   "metadata": {
    "id": "DHXsYsCJwkEA"
   },
   "outputs": [],
   "source": [
    "\n",
    "# Calculamos las diferencias por tipo de propiedad\n",
    "data_clean['difference_by_property'] = data_clean.groupby('property_type')['surface_total_in_m2'].transform('mean') - data_clean.groupby('property_type')['surface_covered_in_m2'].transform('mean')\n",
    "\n",
    "# Imputamos los valores faltantes en 'surface_covered_in_m2' usando la diferencia por propiedad\n",
    "data_clean['surface_covered_in_m2'].fillna(data_clean['surface_total_in_m2'] - data_clean['difference_by_property'], inplace=True)\n",
    "\n",
    "# Imputamos los valores faltantes en 'surface_total_in_m2' usando la diferencia por propiedad\n",
    "data_clean['surface_total_in_m2'].fillna(data_clean['surface_covered_in_m2'] + data_clean['difference_by_property'], inplace=True)\n",
    "\n",
    "# Elimina la columna intermedia utilizada para la imputación\n",
    "data_clean.drop('difference_by_property', axis=1, inplace=True)\n",
    "\n",
    "# Ahora, 'surface_covered_in_m2' y 'surface_total_in_m2' contienen los valores imputados considerando la diferencia por tipo de propiedad"
   ]
  },
  {
   "cell_type": "code",
   "execution_count": 251,
   "metadata": {
    "colab": {
     "base_uri": "https://localhost:8080/"
    },
    "executionInfo": {
     "elapsed": 42,
     "status": "ok",
     "timestamp": 1704388334512,
     "user": {
      "displayName": "camila Danza smith",
      "userId": "08305164391871677593"
     },
     "user_tz": 180
    },
    "id": "OhYuLgEswnju",
    "outputId": "55ed8db5-9681-4f4d-af53-77978d8a9401"
   },
   "outputs": [
    {
     "name": "stdout",
     "output_type": "stream",
     "text": [
      "Porcentaje de valores nulos para surface_covered:\n",
      "0.0\n",
      "Porcentaje de valores nulos para surface_total:\n",
      "0.0\n"
     ]
    }
   ],
   "source": [
    "#Controlamos el numero de nulos tras nuestra intervencion\n",
    "\n",
    "#Para surface covered\n",
    "print('Porcentaje de valores nulos para surface_covered:')\n",
    "print(check_nulls(data_clean,'surface_covered_in_m2'))\n",
    "\n",
    "#Para surface total\n",
    "print('Porcentaje de valores nulos para surface_total:')\n",
    "print(check_nulls(data_clean, 'surface_total_in_m2'))"
   ]
  },
  {
   "cell_type": "markdown",
   "metadata": {
    "id": "R2REVS6y8tix"
   },
   "source": [
    "### Rooms"
   ]
  },
  {
   "cell_type": "markdown",
   "metadata": {
    "id": "kwtvNNhrUauG"
   },
   "source": [
    "Decidimos mantener rooms a pesar de su alto porcentaje de valores nulos (60%) y de valores atípicos porque consideramos que el numero de ambientes es un factor que incide en el valor de la propiedad.\n",
    "\n",
    "Para disminuir los nulos primero intentamos obtener el numero de ambientes faltantes de las columnas'description' y 'title'."
   ]
  },
  {
   "cell_type": "code",
   "execution_count": 252,
   "metadata": {
    "colab": {
     "base_uri": "https://localhost:8080/"
    },
    "executionInfo": {
     "elapsed": 39,
     "status": "ok",
     "timestamp": 1704388334513,
     "user": {
      "displayName": "camila Danza smith",
      "userId": "08305164391871677593"
     },
     "user_tz": 180
    },
    "id": "BkVw5icEpdhQ",
    "outputId": "d8b0f341-b544-4b21-c87c-d1f337713719"
   },
   "outputs": [
    {
     "name": "stdout",
     "output_type": "stream",
     "text": [
      "Antes de extract_rooms:\n",
      "0      NaN\n",
      "6      NaN\n",
      "16     4.0\n",
      "34     6.0\n",
      "46     4.0\n",
      "80     4.0\n",
      "94     3.0\n",
      "111    NaN\n",
      "116    NaN\n",
      "137    6.0\n",
      "Name: rooms, dtype: float64\n"
     ]
    },
    {
     "name": "stdout",
     "output_type": "stream",
     "text": [
      "\n",
      "Después de extract_rooms:\n",
      "0      2.0\n",
      "6      NaN\n",
      "16     4.0\n",
      "34     6.0\n",
      "46     4.0\n",
      "80     4.0\n",
      "94     3.0\n",
      "111    NaN\n",
      "116    NaN\n",
      "137    6.0\n",
      "Name: rooms, dtype: float64\n",
      "\n",
      "Porcentaje de valores nulos tras extracción de valores:\n"
     ]
    },
    {
     "data": {
      "text/plain": [
       "44.94910556569432"
      ]
     },
     "execution_count": 252,
     "metadata": {},
     "output_type": "execute_result"
    }
   ],
   "source": [
    "ambientes = {\n",
    "    '1': 'uno',\n",
    "    '2': 'dos',\n",
    "    '3': 'tres',\n",
    "    '4': 'cuatro',\n",
    "    '5': 'cinco',\n",
    "    '6': 'seis',\n",
    "    '7': 'siete',\n",
    "    '8': 'ocho',\n",
    "    '9': 'nueve',\n",
    "    '10': 'diez',\n",
    "}\n",
    "\n",
    "# Creamos una funcion para encontrar el numero de ambientes en description y title para reducir los valores nulos\n",
    "def extract_rooms(row):\n",
    "    if pd.notnull(row['rooms']):\n",
    "        return row['rooms']\n",
    "\n",
    "    match = re.search(r'(\\d+|' + '|'.join(ambientes.values()) + ') (ambientes?|ambs?|amb\\.) ',\n",
    "                      str(row['title']) + ' ' + str(row['description']), flags=re.IGNORECASE)\n",
    "    \n",
    "    if match:\n",
    "        matched_number = match.group(1)\n",
    "        return int(matched_number) if matched_number.isdigit() else None\n",
    "    else:\n",
    "        return None\n",
    "\n",
    "print(\"Antes de extract_rooms:\")\n",
    "print(data_clean['rooms'].head(10))\n",
    "\n",
    "data_clean['rooms'] = data_clean.apply(extract_rooms, axis=1)\n",
    "\n",
    "print(\"\\nDespués de extract_rooms:\")\n",
    "print(data_clean['rooms'].head(10))\n",
    "\n",
    "print('\\nPorcentaje de valores nulos tras extracción de valores:')\n",
    "check_nulls(data_clean,'rooms')"
   ]
  },
  {
   "cell_type": "code",
   "execution_count": 253,
   "metadata": {
    "colab": {
     "base_uri": "https://localhost:8080/"
    },
    "executionInfo": {
     "elapsed": 35,
     "status": "ok",
     "timestamp": 1704388334513,
     "user": {
      "displayName": "camila Danza smith",
      "userId": "08305164391871677593"
     },
     "user_tz": 180
    },
    "id": "CNwsoff6gfLu",
    "outputId": "13d854e4-00b7-4625-891c-f52fed81f0ea"
   },
   "outputs": [
    {
     "data": {
      "text/plain": [
       "rooms\n",
       "2.0        16911\n",
       "3.0        16413\n",
       "4.0         9124\n",
       "1.0         7967\n",
       "5.0         3562\n",
       "6.0         1180\n",
       "7.0          534\n",
       "8.0          242\n",
       "10.0         157\n",
       "9.0          125\n",
       "11.0          53\n",
       "12.0          35\n",
       "13.0          21\n",
       "15.0          19\n",
       "14.0          13\n",
       "17.0          10\n",
       "22.0           5\n",
       "16.0           5\n",
       "20.0           5\n",
       "21.0           4\n",
       "19.0           3\n",
       "18.0           3\n",
       "5151.0         3\n",
       "25.0           2\n",
       "23.0           2\n",
       "20173.0        1\n",
       "2018.0         1\n",
       "32.0           1\n",
       "4000.0         1\n",
       "72.0           1\n",
       "30.0           1\n",
       "20174.0        1\n",
       "24.0           1\n",
       "103.0          1\n",
       "2017.0         1\n",
       "27.0           1\n",
       "Name: count, dtype: int64"
      ]
     },
     "execution_count": 253,
     "metadata": {},
     "output_type": "execute_result"
    }
   ],
   "source": [
    "#Chequeamos los valores unicos de la columna rooms tras aplicar extract_rooms\n",
    "check_column_vc(data_clean,'rooms')"
   ]
  },
  {
   "cell_type": "markdown",
   "metadata": {
    "id": "6JgaGuH2rTEi"
   },
   "source": [
    "Observamos que hay valores imposibles para la variable medida. Para deshacernos de outliers tomamos 10 ambientes como el maximo posible de ambientes ya que aplicar el rango interquartil dejaria muchos valores afuera"
   ]
  },
  {
   "cell_type": "code",
   "execution_count": 254,
   "metadata": {
    "colab": {
     "base_uri": "https://localhost:8080/"
    },
    "executionInfo": {
     "elapsed": 32,
     "status": "ok",
     "timestamp": 1704388334513,
     "user": {
      "displayName": "camila Danza smith",
      "userId": "08305164391871677593"
     },
     "user_tz": 180
    },
    "id": "5KYB1vFZAipv",
    "outputId": "228caf39-9d0b-4f2c-989e-2ad56d2dfbd9"
   },
   "outputs": [
    {
     "name": "stdout",
     "output_type": "stream",
     "text": [
      "Número de filas después de la operación: 102273\n"
     ]
    },
    {
     "data": {
      "text/plain": [
       "rooms\n",
       "2.0     16911\n",
       "3.0     16413\n",
       "4.0      9124\n",
       "1.0      7967\n",
       "5.0      3562\n",
       "6.0      1180\n",
       "7.0       534\n",
       "8.0       242\n",
       "10.0      157\n",
       "9.0       125\n",
       "Name: count, dtype: int64"
      ]
     },
     "execution_count": 254,
     "metadata": {},
     "output_type": "execute_result"
    }
   ],
   "source": [
    "\n",
    "# Convertir la columna 'rooms' a tipo numérico (float) y manejar valores no numéricos como NaN\n",
    "data_clean['rooms'] = pd.to_numeric(data_clean['rooms'], errors='coerce')\n",
    "\n",
    "# Filtrar filas con 'rooms' mayores a 10\n",
    "rows_gt_10 = data_clean[data_clean['rooms'] > 10]\n",
    "\n",
    "# Conservar solo filas con 'rooms' menores o iguales a 10 y nulos\n",
    "data_clean = data_clean[~data_clean.index.isin(rows_gt_10.index)]\n",
    "\n",
    "# Imprimir el número de filas después de la operación\n",
    "print(\"Número de filas después de la operación:\", data_clean.shape[0])\n",
    "\n",
    "#Controlamos que los valores resultantes cumplan con el criterio\n",
    "check_column_vc(data_clean,'rooms')"
   ]
  },
  {
   "cell_type": "code",
   "execution_count": 255,
   "metadata": {},
   "outputs": [
    {
     "data": {
      "text/plain": [
       "45.03436879723876"
      ]
     },
     "execution_count": 255,
     "metadata": {},
     "output_type": "execute_result"
    }
   ],
   "source": [
    "check_nulls(data_clean,'rooms')"
   ]
  },
  {
   "cell_type": "markdown",
   "metadata": {
    "id": "wWt9PPD4ZgOm"
   },
   "source": [
    "A continuación imputamos los valores nulos restantes. Para eso, primero calculamos el promedio de la superficie cubierta por cada valor unico de property_type y rooms. Es decir, establecemos que para cada tipo de propiedad, como por ejemplo un departamento, habra 10 medias de superficie, uno por cada posible numero de rooms.\n",
    "\n",
    "Una vez contamos con estos promedios,identificamos las filas nulas de rooms y tomamos el property type y la superficie cubierta de esas filas. Tras identificar el property type comparamos el promedio de superficie de la fila con los promedios de surface que establecimos antes. Calculamos a qué media de superficie se acerca mas la superficie de la fila y en base a eso se asigna en rooms el valor de rooms asociado a esa media de superficie."
   ]
  },
  {
   "cell_type": "code",
   "execution_count": 256,
   "metadata": {
    "colab": {
     "base_uri": "https://localhost:8080/"
    },
    "executionInfo": {
     "elapsed": 1700,
     "status": "ok",
     "timestamp": 1704388336185,
     "user": {
      "displayName": "camila Danza smith",
      "userId": "08305164391871677593"
     },
     "user_tz": 180
    },
    "id": "Fk8SvAAiAip5",
    "outputId": "86922aa3-2e90-47e1-a413-9c5100595246"
   },
   "outputs": [
    {
     "name": "stderr",
     "output_type": "stream",
     "text": [
      "C:\\Users\\cdanz\\AppData\\Local\\Temp\\ipykernel_7032\\4141145005.py:27: SettingWithCopyWarning: \n",
      "A value is trying to be set on a copy of a slice from a DataFrame.\n",
      "Try using .loc[row_indexer,col_indexer] = value instead\n",
      "\n",
      "See the caveats in the documentation: https://pandas.pydata.org/pandas-docs/stable/user_guide/indexing.html#returning-a-view-versus-a-copy\n",
      "  data_clean['rooms'] = data_clean.apply(lambda row: fill_rooms(row) if pd.isnull(row['rooms']) else row['rooms'], axis=1)\n"
     ]
    },
    {
     "data": {
      "text/plain": [
       "0.0"
      ]
     },
     "execution_count": 256,
     "metadata": {},
     "output_type": "execute_result"
    }
   ],
   "source": [
    "#Tomando las filas completas en las columnas rooms, property_type y surface_total_in_m2\n",
    "# Calcular el promedio de surface_total_in_m2 para cada valor único de la columna rooms y property_type\n",
    "\n",
    "#Calculamos el promedio y creamos un diccionario para gaurdar los valores\n",
    "promedio_surface_covered_by_rooms = data_clean.groupby(['property_type', 'rooms'])['surface_covered_in_m2'].mean().to_dict()\n",
    "\n",
    "# Creamos una función para completar los nulos en rooms en base al promedio de surface_total_in_m2 agrupado por rooms y property_type\n",
    "def fill_rooms(row):\n",
    "    if pd.notnull(row['rooms']):\n",
    "        return row['rooms']\n",
    "\n",
    "    property_type = row['property_type']\n",
    "    # Filtrar el diccionario por property_type\n",
    "    property_type_means = {k[1]: v for k, v in promedio_surface_covered_by_rooms.items() if k[0] == property_type}\n",
    "\n",
    "    if property_type_means:\n",
    "        closest_mean = min(\n",
    "            property_type_means.items(),\n",
    "            key=lambda x: abs(row['surface_total_in_m2'] - x[1])\n",
    "        )\n",
    "        return closest_mean[0]  # Tomamos el valor correspondiente a 'rooms'\n",
    "\n",
    "    # Si no hay valores para property_type, devolvemos NaN\n",
    "    return np.nan\n",
    "\n",
    "# Aplicamos la función fill_rooms para completar los nulos en la columna rooms\n",
    "data_clean['rooms'] = data_clean.apply(lambda row: fill_rooms(row) if pd.isnull(row['rooms']) else row['rooms'], axis=1)\n",
    "\n",
    "check_nulls(data_clean, 'rooms')\n"
   ]
  },
  {
   "cell_type": "markdown",
   "metadata": {
    "id": "yd67eJi4AiqE"
   },
   "source": [
    "### Place name"
   ]
  },
  {
   "cell_type": "markdown",
   "metadata": {
    "id": "0DDRdhetcuA7"
   },
   "source": [
    "Para imputar los valores faltantes en place_name tomamos la columna place_name_with_parent_names."
   ]
  },
  {
   "cell_type": "code",
   "execution_count": 257,
   "metadata": {
    "colab": {
     "base_uri": "https://localhost:8080/"
    },
    "executionInfo": {
     "elapsed": 973,
     "status": "ok",
     "timestamp": 1704388337154,
     "user": {
      "displayName": "camila Danza smith",
      "userId": "08305164391871677593"
     },
     "user_tz": 180
    },
    "id": "RhIlQztXlSMO",
    "outputId": "d227e111-aa1a-4615-8e18-e51ef4aed464"
   },
   "outputs": [
    {
     "name": "stderr",
     "output_type": "stream",
     "text": [
      "C:\\Users\\cdanz\\AppData\\Local\\Temp\\ipykernel_7032\\396764107.py:11: SettingWithCopyWarning: \n",
      "A value is trying to be set on a copy of a slice from a DataFrame\n",
      "\n",
      "See the caveats in the documentation: https://pandas.pydata.org/pandas-docs/stable/user_guide/indexing.html#returning-a-view-versus-a-copy\n",
      "  data_clean['place_name'].fillna(data_clean.apply(extract_place_name, axis=1), inplace=True)\n"
     ]
    },
    {
     "data": {
      "text/plain": [
       "0.0"
      ]
     },
     "execution_count": 257,
     "metadata": {},
     "output_type": "execute_result"
    }
   ],
   "source": [
    "def extract_place_name(row):\n",
    "    # Eliminar pipes y espacios adicionales y luego dividir la cadena\n",
    "    places = re.sub(r'\\s*\\|\\s*', '|', str(row['place_with_parent_names'])).split('|')\n",
    "\n",
    "    if len(places) >= 3:\n",
    "        return places[2].strip()\n",
    "    else:\n",
    "        return None  # o cualquier valor predeterminado que desees para casos donde no hay un tercer elemento\n",
    "\n",
    "# Llenar los valores nulos en 'place_name' directamente en el DataFrame\n",
    "data_clean['place_name'].fillna(data_clean.apply(extract_place_name, axis=1), inplace=True)\n",
    "\n",
    "check_nulls(data_clean,'place_name')"
   ]
  },
  {
   "cell_type": "code",
   "execution_count": 258,
   "metadata": {
    "colab": {
     "base_uri": "https://localhost:8080/"
    },
    "executionInfo": {
     "elapsed": 11,
     "status": "ok",
     "timestamp": 1704388337155,
     "user": {
      "displayName": "camila Danza smith",
      "userId": "08305164391871677593"
     },
     "user_tz": 180
    },
    "id": "1qUjQRDLj9E9",
    "outputId": "4f67108a-915f-4809-e2c6-1af9f4a83301"
   },
   "outputs": [
    {
     "name": "stderr",
     "output_type": "stream",
     "text": [
      "C:\\Users\\cdanz\\AppData\\Local\\Temp\\ipykernel_7032\\3290184769.py:3: SettingWithCopyWarning: \n",
      "A value is trying to be set on a copy of a slice from a DataFrame\n",
      "\n",
      "See the caveats in the documentation: https://pandas.pydata.org/pandas-docs/stable/user_guide/indexing.html#returning-a-view-versus-a-copy\n",
      "  data_clean.drop('place_with_parent_names',axis=1, inplace=True)\n"
     ]
    }
   ],
   "source": [
    "#Dropeamos la columna place_with_parent_names\n",
    "\n",
    "data_clean.drop('place_with_parent_names',axis=1, inplace=True)"
   ]
  },
  {
   "cell_type": "markdown",
   "metadata": {
    "id": "QSbUkY9iQj8m"
   },
   "source": [
    "### Columnas de price"
   ]
  },
  {
   "cell_type": "code",
   "execution_count": 259,
   "metadata": {
    "id": "qNWa7Xs_7Ysj"
   },
   "outputs": [
    {
     "data": {
      "text/plain": [
       "Index(['property_type', 'place_name', 'state_name',\n",
       "       'price_aprox_local_currency', 'price_aprox_usd', 'surface_total_in_m2',\n",
       "       'surface_covered_in_m2', 'price_usd_per_m2', 'price_per_m2', 'rooms',\n",
       "       'description', 'title', 'image_thumbnail'],\n",
       "      dtype='object')"
      ]
     },
     "execution_count": 259,
     "metadata": {},
     "output_type": "execute_result"
    }
   ],
   "source": [
    "data_clean.columns"
   ]
  },
  {
   "cell_type": "code",
   "execution_count": 260,
   "metadata": {},
   "outputs": [
    {
     "name": "stderr",
     "output_type": "stream",
     "text": [
      "C:\\Users\\cdanz\\AppData\\Local\\Temp\\ipykernel_7032\\1402158362.py:3: SettingWithCopyWarning: \n",
      "A value is trying to be set on a copy of a slice from a DataFrame\n",
      "\n",
      "See the caveats in the documentation: https://pandas.pydata.org/pandas-docs/stable/user_guide/indexing.html#returning-a-view-versus-a-copy\n",
      "  data_clean.drop(['price_aprox_local_currency',\"price_per_m2\",\"price_usd_per_m2\"],axis=1, inplace=True)\n"
     ]
    }
   ],
   "source": [
    "#dropeamos price_usd_per_m2 y después la volvemos a agregar como división entre columnas de superficie y precio.\n",
    "# Además dropeamos las demas columnas con precios para no generar confusión. Dejamos solo columnas en dolares.\n",
    "data_clean.drop(['price_aprox_local_currency',\"price_per_m2\",\"price_usd_per_m2\"],axis=1, inplace=True)"
   ]
  },
  {
   "cell_type": "code",
   "execution_count": 261,
   "metadata": {},
   "outputs": [
    {
     "data": {
      "text/plain": [
       "13.865829691120823"
      ]
     },
     "execution_count": 261,
     "metadata": {},
     "output_type": "execute_result"
    }
   ],
   "source": [
    "check_nulls(data_clean,'price_aprox_usd')"
   ]
  },
  {
   "cell_type": "code",
   "execution_count": 262,
   "metadata": {
    "colab": {
     "base_uri": "https://localhost:8080/"
    },
    "executionInfo": {
     "elapsed": 299,
     "status": "ok",
     "timestamp": 1704389919043,
     "user": {
      "displayName": "camila Danza smith",
      "userId": "08305164391871677593"
     },
     "user_tz": 180
    },
    "id": "LpDfDsQMJbHX",
    "outputId": "1c624e4f-d6bb-48d1-ed11-d8084f6f0010"
   },
   "outputs": [
    {
     "name": "stderr",
     "output_type": "stream",
     "text": [
      "C:\\Users\\cdanz\\AppData\\Local\\Temp\\ipykernel_7032\\1676889598.py:13: SettingWithCopyWarning: \n",
      "A value is trying to be set on a copy of a slice from a DataFrame.\n",
      "Try using .loc[row_indexer,col_indexer] = value instead\n",
      "\n",
      "See the caveats in the documentation: https://pandas.pydata.org/pandas-docs/stable/user_guide/indexing.html#returning-a-view-versus-a-copy\n",
      "  data_clean['price_aprox_usd'] = data_clean.apply(fill_price_usd, axis=1)\n"
     ]
    },
    {
     "data": {
      "text/plain": [
       "0.2825770242390465"
      ]
     },
     "execution_count": 262,
     "metadata": {},
     "output_type": "execute_result"
    }
   ],
   "source": [
    "\n",
    "# Calcular la media por lugar y tipo de propiedad\n",
    "mean_price_usd= data_clean.groupby(['place_name', 'property_type'])['price_aprox_usd'].median().to_dict()\n",
    "\n",
    "# Función para llenar valores nulos en 'price_usd_per_m2'\n",
    "def fill_price_usd(row):\n",
    "    if pd.notnull(row['price_aprox_usd']):\n",
    "        return row['price_aprox_usd']\n",
    "    else:\n",
    "        key = (row['place_name'], row['property_type'])\n",
    "        return mean_price_usd.get(key)\n",
    "\n",
    "# Aplicar la función fill_price_per_m2 para llenar los valores nulos en 'price_usd_per_m2'\n",
    "data_clean['price_aprox_usd'] = data_clean.apply(fill_price_usd, axis=1)\n",
    "\n",
    "# Verificar los valores nulos en 'price_usd_per_m2'\n",
    "check_nulls(data_clean, 'price_aprox_usd')"
   ]
  },
  {
   "cell_type": "code",
   "execution_count": 263,
   "metadata": {},
   "outputs": [
    {
     "name": "stderr",
     "output_type": "stream",
     "text": [
      "C:\\Users\\cdanz\\AppData\\Local\\Temp\\ipykernel_7032\\3937847477.py:2: SettingWithCopyWarning: \n",
      "A value is trying to be set on a copy of a slice from a DataFrame.\n",
      "Try using .loc[row_indexer,col_indexer] = value instead\n",
      "\n",
      "See the caveats in the documentation: https://pandas.pydata.org/pandas-docs/stable/user_guide/indexing.html#returning-a-view-versus-a-copy\n",
      "  data_clean[\"price_usd_per_m2\"]=data_clean[\"price_aprox_usd\"]/data_clean[\"surface_total_in_m2\"]\n"
     ]
    }
   ],
   "source": [
    "#Agrego price_usd_per_m2 de nuevo como división de columnas completas\n",
    "data_clean[\"price_usd_per_m2\"]=data_clean[\"price_aprox_usd\"]/data_clean[\"surface_total_in_m2\"]\n",
    "\n"
   ]
  },
  {
   "cell_type": "code",
   "execution_count": 264,
   "metadata": {},
   "outputs": [
    {
     "data": {
      "text/plain": [
       "Index(['property_type', 'place_name', 'state_name', 'price_aprox_usd',\n",
       "       'surface_total_in_m2', 'surface_covered_in_m2', 'rooms', 'description',\n",
       "       'title', 'image_thumbnail', 'price_usd_per_m2'],\n",
       "      dtype='object')"
      ]
     },
     "execution_count": 264,
     "metadata": {},
     "output_type": "execute_result"
    }
   ],
   "source": [
    "data_clean.columns"
   ]
  },
  {
   "cell_type": "markdown",
   "metadata": {
    "id": "hrylFdKJLnIM"
   },
   "source": [
    "### Columnas que siguen con valores nulos"
   ]
  },
  {
   "cell_type": "code",
   "execution_count": 265,
   "metadata": {
    "id": "fRuLYXreKjsV"
   },
   "outputs": [
    {
     "name": "stderr",
     "output_type": "stream",
     "text": [
      "C:\\Users\\cdanz\\AppData\\Local\\Temp\\ipykernel_7032\\2419034427.py:3: SettingWithCopyWarning: \n",
      "A value is trying to be set on a copy of a slice from a DataFrame\n",
      "\n",
      "See the caveats in the documentation: https://pandas.pydata.org/pandas-docs/stable/user_guide/indexing.html#returning-a-view-versus-a-copy\n",
      "  data_clean['image_thumbnail'].dropna(inplace=True)\n",
      "C:\\Users\\cdanz\\AppData\\Local\\Temp\\ipykernel_7032\\2419034427.py:4: SettingWithCopyWarning: \n",
      "A value is trying to be set on a copy of a slice from a DataFrame\n",
      "\n",
      "See the caveats in the documentation: https://pandas.pydata.org/pandas-docs/stable/user_guide/indexing.html#returning-a-view-versus-a-copy\n",
      "  data_clean['price_aprox_usd'].dropna(inplace=True)\n",
      "C:\\Users\\cdanz\\AppData\\Local\\Temp\\ipykernel_7032\\2419034427.py:5: SettingWithCopyWarning: \n",
      "A value is trying to be set on a copy of a slice from a DataFrame\n",
      "\n",
      "See the caveats in the documentation: https://pandas.pydata.org/pandas-docs/stable/user_guide/indexing.html#returning-a-view-versus-a-copy\n",
      "  data_clean['price_usd_per_m2'].dropna(inplace=True)\n",
      "C:\\Users\\cdanz\\AppData\\Local\\Temp\\ipykernel_7032\\2419034427.py:6: SettingWithCopyWarning: \n",
      "A value is trying to be set on a copy of a slice from a DataFrame\n",
      "\n",
      "See the caveats in the documentation: https://pandas.pydata.org/pandas-docs/stable/user_guide/indexing.html#returning-a-view-versus-a-copy\n",
      "  data_clean['description'].dropna(inplace=True)\n"
     ]
    }
   ],
   "source": [
    "#Dopreamos las filas nulas que nos quedaron\n",
    "\n",
    "data_clean['image_thumbnail'].dropna(inplace=True)\n",
    "data_clean['price_aprox_usd'].dropna(inplace=True)\n",
    "data_clean['price_usd_per_m2'].dropna(inplace=True)\n",
    "data_clean['description'].dropna(inplace=True)\n"
   ]
  },
  {
   "cell_type": "markdown",
   "metadata": {
    "id": "ycWxG4AAko4Z"
   },
   "source": [
    "# Análisis de resultados"
   ]
  },
  {
   "cell_type": "code",
   "execution_count": 266,
   "metadata": {
    "colab": {
     "base_uri": "https://localhost:8080/"
    },
    "executionInfo": {
     "elapsed": 301,
     "status": "ok",
     "timestamp": 1704389628936,
     "user": {
      "displayName": "camila Danza smith",
      "userId": "08305164391871677593"
     },
     "user_tz": 180
    },
    "id": "C6yFE_EzXhDZ",
    "outputId": "0d9d00a4-aa36-475e-f29b-e28a477698a3"
   },
   "outputs": [
    {
     "name": "stdout",
     "output_type": "stream",
     "text": [
      "Porcentaje de filas remanentes respecto al DataFrame original: 84.36974096683716%\n"
     ]
    }
   ],
   "source": [
    "# Calcular el porcentaje de filas remanentes respecto al DataFrame original\n",
    "remaining_rows_percentage = (data_clean.shape[0] / data.shape[0]) * 100\n",
    "\n",
    "print(f\"Porcentaje de filas remanentes respecto al DataFrame original: {remaining_rows_percentage}%\")\n",
    "\n",
    "\n",
    "data_clean.to_csv('properati_cleaned.csv', index=False)\n",
    "\n"
   ]
  },
  {
   "cell_type": "code",
   "execution_count": 269,
   "metadata": {},
   "outputs": [
    {
     "data": {
      "text/plain": [
       "property_type            0.0\n",
       "place_name               0.0\n",
       "state_name               0.0\n",
       "price_aprox_usd          0.0\n",
       "surface_total_in_m2      0.0\n",
       "surface_covered_in_m2    0.0\n",
       "rooms                    0.0\n",
       "description              0.0\n",
       "title                    0.0\n",
       "image_thumbnail          0.0\n",
       "price_usd_per_m2         0.0\n",
       "dtype: float64"
      ]
     },
     "execution_count": 269,
     "metadata": {},
     "output_type": "execute_result"
    }
   ],
   "source": [
    "#Vemos los cambios en el porcentaje de nulos tras las operaciones realizadas\n",
    "#Si se ejecuta dos veces muestra los porcentajes en 0\n",
    "imprime_porcentaje_nulos_dataframe(data_clean)"
   ]
  },
  {
   "cell_type": "code",
   "execution_count": 268,
   "metadata": {
    "id": "M_Q4nTvaXNLH"
   },
   "outputs": [
    {
     "name": "stdout",
     "output_type": "stream",
     "text": [
      "El resultado de la limpieza es el siguiente\n",
      "\n",
      "(99930, 11)\n"
     ]
    },
    {
     "name": "stderr",
     "output_type": "stream",
     "text": [
      "C:\\Users\\cdanz\\AppData\\Local\\Temp\\ipykernel_7032\\2058273694.py:5: SettingWithCopyWarning: \n",
      "A value is trying to be set on a copy of a slice from a DataFrame\n",
      "\n",
      "See the caveats in the documentation: https://pandas.pydata.org/pandas-docs/stable/user_guide/indexing.html#returning-a-view-versus-a-copy\n",
      "  data_clean.dropna(inplace=True)\n"
     ]
    }
   ],
   "source": [
    "#Aca luego de imputar los nulos en funcion del dataframe de agregacion (media)\n",
    "#diminuye considerablemente los nulos en las columnas price,\n",
    "#como es un porcentaje muy pequeño los dropeamos.\n",
    "\n",
    "data_clean.dropna(inplace=True)\n",
    "\n",
    "print(\"El resultado de la limpieza es el siguiente\\n\")\n",
    "print(data_clean.shape)"
   ]
  }
 ],
 "metadata": {
  "colab": {
   "collapsed_sections": [
    "aFK2erKq56_7",
    "t2jh7Pq71wRo"
   ],
   "provenance": [],
   "toc_visible": true
  },
  "kernelspec": {
   "display_name": "TP1",
   "language": "python",
   "name": "python3"
  },
  "language_info": {
   "codemirror_mode": {
    "name": "ipython",
    "version": 3
   },
   "file_extension": ".py",
   "mimetype": "text/x-python",
   "name": "python",
   "nbconvert_exporter": "python",
   "pygments_lexer": "ipython3",
   "version": "3.11.5"
  }
 },
 "nbformat": 4,
 "nbformat_minor": 4
}
