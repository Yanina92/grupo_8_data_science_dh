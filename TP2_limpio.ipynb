{
 "cells": [
  {
   "cell_type": "code",
   "execution_count": 1,
   "id": "a5524697",
   "metadata": {},
   "outputs": [],
   "source": [
    "import numpy as np\n",
    "import pandas as pd\n",
    "import matplotlib.pyplot as plt\n",
    "import seaborn  as sbn\n",
    "import re\n",
    "import seaborn as sns\n",
    "from sklearn import metrics\n",
    "from sklearn.preprocessing import StandardScaler\n",
    "from sklearn import linear_model\n",
    "from sklearn.metrics import r2_score\n",
    "\n",
    "from sklearn.model_selection import train_test_split"
   ]
  },
  {
   "cell_type": "code",
   "execution_count": 147,
   "id": "23e614c2",
   "metadata": {},
   "outputs": [
    {
     "data": {
      "text/plain": [
       "(120215, 11)"
      ]
     },
     "execution_count": 147,
     "metadata": {},
     "output_type": "execute_result"
    }
   ],
   "source": [
    "data_model = pd.read_csv('properati_cleaned3.csv')\n",
    "data_model.shape"
   ]
  },
  {
   "cell_type": "code",
   "execution_count": 318,
   "id": "6aa526c2",
   "metadata": {},
   "outputs": [
    {
     "data": {
      "text/plain": [
       "place_name_new                     object\n",
       "state_name_new                     object\n",
       "description_new                    object\n",
       "rooms_new                         float64\n",
       "title_new                          object\n",
       "property_type_new                  object\n",
       "surface_total_in_m2_new           float64\n",
       "currency_new                       object\n",
       "price_new                         float64\n",
       "price_aprox_local_currency_new    float64\n",
       "price_usd_per_m2_new              float64\n",
       "dtype: object"
      ]
     },
     "execution_count": 318,
     "metadata": {},
     "output_type": "execute_result"
    }
   ],
   "source": [
    "data_model.dtypes"
   ]
  },
  {
   "cell_type": "markdown",
   "id": "62559400",
   "metadata": {},
   "source": [
    "## SECCIÓN 5 - ANÁLISIS DE CORRELACIÓN"
   ]
  },
  {
   "cell_type": "markdown",
   "id": "a90dfdd5",
   "metadata": {},
   "source": [
    "En este caso no podemos usar la covarianza para estimar la relación entre variables, ya que tenemos diferentes unidaeddes de medida (m2, dolares, cantidad de rooms, etc). \n",
    "\n",
    "Con lo cual estimamos una matriz de correlación."
   ]
  },
  {
   "cell_type": "markdown",
   "id": "d4107b8b",
   "metadata": {},
   "source": [
    "Para cacular correlaciones no puede haber nulos en las columnas. Seleccionamos solamente las columnas numéricas."
   ]
  },
  {
   "cell_type": "code",
   "execution_count": 148,
   "id": "f3289010",
   "metadata": {},
   "outputs": [
    {
     "data": {
      "text/html": [
       "<div>\n",
       "<style scoped>\n",
       "    .dataframe tbody tr th:only-of-type {\n",
       "        vertical-align: middle;\n",
       "    }\n",
       "\n",
       "    .dataframe tbody tr th {\n",
       "        vertical-align: top;\n",
       "    }\n",
       "\n",
       "    .dataframe thead th {\n",
       "        text-align: right;\n",
       "    }\n",
       "</style>\n",
       "<table border=\"1\" class=\"dataframe\">\n",
       "  <thead>\n",
       "    <tr style=\"text-align: right;\">\n",
       "      <th></th>\n",
       "      <th>rooms_new</th>\n",
       "      <th>price_new</th>\n",
       "      <th>surface_total_in_m2_new</th>\n",
       "      <th>price_usd_per_m2_new</th>\n",
       "    </tr>\n",
       "  </thead>\n",
       "  <tbody>\n",
       "    <tr>\n",
       "      <th>rooms_new</th>\n",
       "      <td>1.000</td>\n",
       "      <td>0.180</td>\n",
       "      <td>0.177</td>\n",
       "      <td>-0.098</td>\n",
       "    </tr>\n",
       "    <tr>\n",
       "      <th>price_new</th>\n",
       "      <td>0.180</td>\n",
       "      <td>1.000</td>\n",
       "      <td>0.150</td>\n",
       "      <td>0.252</td>\n",
       "    </tr>\n",
       "    <tr>\n",
       "      <th>surface_total_in_m2_new</th>\n",
       "      <td>0.177</td>\n",
       "      <td>0.150</td>\n",
       "      <td>1.000</td>\n",
       "      <td>-0.087</td>\n",
       "    </tr>\n",
       "    <tr>\n",
       "      <th>price_usd_per_m2_new</th>\n",
       "      <td>-0.098</td>\n",
       "      <td>0.252</td>\n",
       "      <td>-0.087</td>\n",
       "      <td>1.000</td>\n",
       "    </tr>\n",
       "  </tbody>\n",
       "</table>\n",
       "</div>"
      ],
      "text/plain": [
       "                         rooms_new  price_new  surface_total_in_m2_new  \\\n",
       "rooms_new                    1.000      0.180                    0.177   \n",
       "price_new                    0.180      1.000                    0.150   \n",
       "surface_total_in_m2_new      0.177      0.150                    1.000   \n",
       "price_usd_per_m2_new        -0.098      0.252                   -0.087   \n",
       "\n",
       "                         price_usd_per_m2_new  \n",
       "rooms_new                              -0.098  \n",
       "price_new                               0.252  \n",
       "surface_total_in_m2_new                -0.087  \n",
       "price_usd_per_m2_new                    1.000  "
      ]
     },
     "execution_count": 148,
     "metadata": {},
     "output_type": "execute_result"
    }
   ],
   "source": [
    "matrix_corr = data_model[['rooms_new','price_new','surface_total_in_m2_new','price_usd_per_m2_new']].corr().round(3)\n",
    "matrix_corr"
   ]
  },
  {
   "cell_type": "markdown",
   "id": "6e30b4c4",
   "metadata": {},
   "source": [
    "Le cambiamos los nombres a las columnas para que se vean mejor en el gráfico heatmap."
   ]
  },
  {
   "cell_type": "code",
   "execution_count": null,
   "id": "70af852a",
   "metadata": {},
   "outputs": [],
   "source": [
    "data_model_graph = data_model.rename(columns={'rooms_new':'Ambientes',\n",
    "                                   'price_new':'Precio',\n",
    "                                   'surface_total_in_m2_new':'Superficie total en m2',\n",
    "                                   'price_usd_per_m2_new':'Precio en dólares por m2'})"
   ]
  },
  {
   "cell_type": "code",
   "execution_count": null,
   "id": "1f6156df",
   "metadata": {},
   "outputs": [],
   "source": [
    "matrix_corr_graph = data_model_graph[[\"Ambientes\",\"Precio\",\"Superficie total en m2\",\"Precio en dólares por m2\"]].corr().round(3)\n",
    "matrix_corr_graph"
   ]
  },
  {
   "cell_type": "code",
   "execution_count": null,
   "id": "48aeae21",
   "metadata": {},
   "outputs": [],
   "source": []
  },
  {
   "cell_type": "markdown",
   "id": "a5184803",
   "metadata": {},
   "source": [
    "Vemos que hay una correlaciones bajas por lo general, la correlacion mas alta obtenidad se da entre 'rooms_new' y 'surface_total_in_m2_new'"
   ]
  },
  {
   "cell_type": "markdown",
   "id": "f8d84d1a",
   "metadata": {},
   "source": [
    "* Se realiza un grafico para poder verlo con mayor claridad"
   ]
  },
  {
   "cell_type": "code",
   "execution_count": 149,
   "id": "01e22a2c",
   "metadata": {},
   "outputs": [
    {
     "data": {
      "image/png": "[encoded data removed]",
      "text/plain": [
       "<Figure size 1000x800 with 2 Axes>"
      ]
     },
     "metadata": {},
     "output_type": "display_data"
    }
   ],
   "source": [
    "plt.figure(figsize=(10, 8))\n",
    "sns.heatmap(matrix_corr_graph, annot=True, cmap='RdYlGn', fmt='.2f', linewidths=.5)\n",
    "plt.title('Correlación entre columnas categóricas')\n",
    "plt.show()"
   ]
  },
  {
   "cell_type": "code",
   "execution_count": 164,
   "id": "a056407e",
   "metadata": {},
   "outputs": [
    {
     "data": {
      "text/html": [
       "<div>\n",
       "<style scoped>\n",
       "    .dataframe tbody tr th:only-of-type {\n",
       "        vertical-align: middle;\n",
       "    }\n",
       "\n",
       "    .dataframe tbody tr th {\n",
       "        vertical-align: top;\n",
       "    }\n",
       "\n",
       "    .dataframe thead th {\n",
       "        text-align: right;\n",
       "    }\n",
       "</style>\n",
       "<table border=\"1\" class=\"dataframe\">\n",
       "  <thead>\n",
       "    <tr style=\"text-align: right;\">\n",
       "      <th></th>\n",
       "      <th>rooms_new</th>\n",
       "      <th>surface_total_in_m2_new</th>\n",
       "      <th>price_new</th>\n",
       "      <th>price_aprox_local_currency_new</th>\n",
       "      <th>price_usd_per_m2_new</th>\n",
       "    </tr>\n",
       "  </thead>\n",
       "  <tbody>\n",
       "    <tr>\n",
       "      <th>count</th>\n",
       "      <td>120215.000000</td>\n",
       "      <td>120215.000000</td>\n",
       "      <td>1.202150e+05</td>\n",
       "      <td>1.202150e+05</td>\n",
       "      <td>120215.000000</td>\n",
       "    </tr>\n",
       "    <tr>\n",
       "      <th>mean</th>\n",
       "      <td>2.655085</td>\n",
       "      <td>229.998703</td>\n",
       "      <td>2.360437e+05</td>\n",
       "      <td>4.164872e+06</td>\n",
       "      <td>2061.692426</td>\n",
       "    </tr>\n",
       "    <tr>\n",
       "      <th>std</th>\n",
       "      <td>1.224675</td>\n",
       "      <td>694.203152</td>\n",
       "      <td>3.547898e+05</td>\n",
       "      <td>6.260089e+06</td>\n",
       "      <td>3951.870785</td>\n",
       "    </tr>\n",
       "    <tr>\n",
       "      <th>min</th>\n",
       "      <td>1.000000</td>\n",
       "      <td>1.000000</td>\n",
       "      <td>4.666620e+03</td>\n",
       "      <td>8.234017e+04</td>\n",
       "      <td>0.600000</td>\n",
       "    </tr>\n",
       "    <tr>\n",
       "      <th>25%</th>\n",
       "      <td>2.000000</td>\n",
       "      <td>55.000000</td>\n",
       "      <td>9.541670e+04</td>\n",
       "      <td>1.683580e+06</td>\n",
       "      <td>840.336134</td>\n",
       "    </tr>\n",
       "    <tr>\n",
       "      <th>50%</th>\n",
       "      <td>2.000000</td>\n",
       "      <td>95.000000</td>\n",
       "      <td>1.501921e+05</td>\n",
       "      <td>2.650064e+06</td>\n",
       "      <td>1562.318841</td>\n",
       "    </tr>\n",
       "    <tr>\n",
       "      <th>75%</th>\n",
       "      <td>3.000000</td>\n",
       "      <td>261.000000</td>\n",
       "      <td>2.650000e+05</td>\n",
       "      <td>4.675792e+06</td>\n",
       "      <td>2361.111111</td>\n",
       "    </tr>\n",
       "    <tr>\n",
       "      <th>max</th>\n",
       "      <td>10.000000</td>\n",
       "      <td>50000.000000</td>\n",
       "      <td>4.654544e+07</td>\n",
       "      <td>8.212711e+08</td>\n",
       "      <td>600000.000000</td>\n",
       "    </tr>\n",
       "  </tbody>\n",
       "</table>\n",
       "</div>"
      ],
      "text/plain": [
       "           rooms_new  surface_total_in_m2_new     price_new  \\\n",
       "count  120215.000000            120215.000000  1.202150e+05   \n",
       "mean        2.655085               229.998703  2.360437e+05   \n",
       "std         1.224675               694.203152  3.547898e+05   \n",
       "min         1.000000                 1.000000  4.666620e+03   \n",
       "25%         2.000000                55.000000  9.541670e+04   \n",
       "50%         2.000000                95.000000  1.501921e+05   \n",
       "75%         3.000000               261.000000  2.650000e+05   \n",
       "max        10.000000             50000.000000  4.654544e+07   \n",
       "\n",
       "       price_aprox_local_currency_new  price_usd_per_m2_new  \n",
       "count                    1.202150e+05         120215.000000  \n",
       "mean                     4.164872e+06           2061.692426  \n",
       "std                      6.260089e+06           3951.870785  \n",
       "min                      8.234017e+04              0.600000  \n",
       "25%                      1.683580e+06            840.336134  \n",
       "50%                      2.650064e+06           1562.318841  \n",
       "75%                      4.675792e+06           2361.111111  \n",
       "max                      8.212711e+08         600000.000000  "
      ]
     },
     "execution_count": 164,
     "metadata": {},
     "output_type": "execute_result"
    }
   ],
   "source": [
    "data_model.describe()"
   ]
  },
  {
   "cell_type": "markdown",
   "id": "cb83682f",
   "metadata": {},
   "source": [
    "## Sección gráfica"
   ]
  },
  {
   "cell_type": "markdown",
   "id": "6392dcdd",
   "metadata": {},
   "source": [
    "#### A continuación se puede ver la correlación para las dos variables númericas que utilizaremos para nuestro modelo. A medida que aumenta la sup. cubierta y la cantidad de cuartos, disminuye el precio por m2."
   ]
  },
  {
   "cell_type": "code",
   "execution_count": 345,
   "id": "57414740",
   "metadata": {},
   "outputs": [
    {
     "data": {
      "image/png": "[encoded data removed]",
      "text/plain": [
       "<Figure size 640x480 with 1 Axes>"
      ]
     },
     "metadata": {},
     "output_type": "display_data"
    }
   ],
   "source": [
    "sns.regplot(data=data_model,x=\"surface_total_in_m2_new\",y=\"price_usd_per_m2_new\",line_kws=dict(color=\"r\"), alpha=0.3)\n",
    "plt.show()"
   ]
  },
  {
   "cell_type": "code",
   "execution_count": 344,
   "id": "5cc66bdf",
   "metadata": {},
   "outputs": [
    {
     "data": {
      "image/png": "[encoded data removed]",
      "text/plain": [
       "<Figure size 640x480 with 1 Axes>"
      ]
     },
     "metadata": {},
     "output_type": "display_data"
    }
   ],
   "source": [
    "sns.regplot(data=data_model,x=\"rooms_new\",y=\"price_usd_per_m2_new\",line_kws=dict(color=\"r\"))\n",
    "plt.show()"
   ]
  },
  {
   "cell_type": "markdown",
   "id": "dcfcd2e0",
   "metadata": {},
   "source": [
    "### Análisis de variables categoricas"
   ]
  },
  {
   "cell_type": "code",
   "execution_count": 347,
   "id": "14514823",
   "metadata": {},
   "outputs": [
    {
     "data": {
      "image/png": "[encoded data removed]",
      "text/plain": [
       "<Figure size 640x480 with 1 Axes>"
      ]
     },
     "metadata": {},
     "output_type": "display_data"
    }
   ],
   "source": [
    "df_group_property = data_model.groupby('property_type_new')\n",
    "df_resume = df_group_property ['price_usd_per_m2_new'].mean()\n",
    "\n",
    "plt.bar(data_model[\"property_type_new\"].value_counts().index,df_resume, color='b', alpha=0.5)\n",
    "plt.xlabel(\"Tipo de propiedad\")\n",
    "plt.ylabel(\"Precio promedio m2\")\n",
    "plt.show()"
   ]
  },
  {
   "cell_type": "code",
   "execution_count": 372,
   "id": "2013df42",
   "metadata": {},
   "outputs": [
    {
     "data": {
      "image/png": "[encoded data removed]",
      "text/plain": [
       "<Figure size 2000x1000 with 1 Axes>"
      ]
     },
     "metadata": {},
     "output_type": "display_data"
    }
   ],
   "source": [
    "df_group_place_name = data_model.groupby('place_name_new')\n",
    "df_resume = df_group_place_name ['price_usd_per_m2_new'].mean().sort_values(ascending=False).head(10)\n",
    "plt.bar(df_resume.index,df_resume, color='b', alpha=0.5, width=0.5)\n",
    "plt.rcParams[\"figure.figsize\"] = (22,10)\n",
    "plt.xlabel(\"Localidad\")\n",
    "plt.ylabel(\"Precio promedio por m2\")\n",
    "plt.show()"
   ]
  },
  {
   "cell_type": "code",
   "execution_count": 357,
   "id": "c2dfbda6",
   "metadata": {},
   "outputs": [
    {
     "data": {
      "text/plain": [
       "place_name_new\n",
       "Puerto Madero               3581.219028\n",
       "Manzone                     3462.730510\n",
       "Palermo Chico               3460.751355\n",
       "Pilar Golf Country Club     3346.706897\n",
       "Albanueva Barrio Cerrado    3149.009445\n",
       "Dina Huapi                  3113.207547\n",
       "Las Cañitas                 3102.606900\n",
       "Islas del Canal             2949.869467\n",
       "Palermo Hollywood           2857.480895\n",
       "Recoleta                    2811.399637\n",
       "Name: price_usd_per_m2_new, dtype: float64"
      ]
     },
     "execution_count": 357,
     "metadata": {},
     "output_type": "execute_result"
    }
   ],
   "source": [
    "df_resume = df_group_place_name ['price_usd_per_m2_new'].mean().sort_values(ascending=False).head(10)\n",
    "df_resume"
   ]
  },
  {
   "cell_type": "code",
   "execution_count": null,
   "id": "7ad1c2a1",
   "metadata": {},
   "outputs": [],
   "source": []
  },
  {
   "cell_type": "code",
   "execution_count": null,
   "id": "b9f80622",
   "metadata": {},
   "outputs": [],
   "source": []
  },
  {
   "cell_type": "markdown",
   "id": "c29d057e",
   "metadata": {},
   "source": [
    "### LIMPIEZA DE OUTLIERS. Se vuelven a limpiar porque al probar el modelo con el data set del TP1, las predicciones arrojan valores inconsistentes."
   ]
  },
  {
   "cell_type": "code",
   "execution_count": 165,
   "id": "0a05e661",
   "metadata": {},
   "outputs": [
    {
     "name": "stdout",
     "output_type": "stream",
     "text": [
      "Limite sup surface_total_in_m2_new 570.0\n",
      "Limite inf surface_total_in_m2_new 0\n",
      "Limite sup price_new 483100.0\n",
      "Limite inf price_new 0\n",
      "Limite sup price_usd_per_m2_new 4406.715764774281\n",
      "Limite inf price_usd_per_m2_new 0\n",
      "(100569, 11)\n"
     ]
    }
   ],
   "source": [
    "columnas = 'surface_total_in_m2_new', 'price_new', 'price_usd_per_m2_new'\n",
    "\n",
    "for columna in columnas:\n",
    "    columna_limpia = data_model[columna]\n",
    "\n",
    "    q1 = columna_limpia.quantile(0.25)\n",
    "    #print(q1)\n",
    "    q3 = columna_limpia.quantile(0.75)\n",
    "    #print(q3)\n",
    "    iqr = (q3 - q1) * 1.5\n",
    "\n",
    "    limite_sup = q3 + iqr\n",
    "    limite_inf = 0\n",
    "    \n",
    "    print(\"Limite sup\", columna, limite_sup)\n",
    "    print(\"Limite inf\", columna, limite_inf)\n",
    "    \n",
    "    outlier_mask_up = columna_limpia < limite_sup\n",
    "    outlier_mask_down = columna_limpia > limite_inf\n",
    "    outlier_mask = np.logical_and(outlier_mask_up, outlier_mask_down)\n",
    "    \n",
    "    data_model = data_model.loc[outlier_mask,:]\n",
    "\n",
    "print(data_model.shape)\n",
    "    "
   ]
  },
  {
   "cell_type": "code",
   "execution_count": 166,
   "id": "2dd8febf",
   "metadata": {},
   "outputs": [
    {
     "name": "stdout",
     "output_type": "stream",
     "text": [
      "rooms_new: 0\n",
      "surface_total_in_m2_new: 0\n",
      "price_new: 0\n",
      "price_usd_per_m2_new: 0\n"
     ]
    }
   ],
   "source": [
    "cols = 'rooms_new', 'surface_total_in_m2_new', 'price_new', 'price_usd_per_m2_new'\n",
    "\n",
    "for x in cols:\n",
    "    missing_values = data_model[x].isna().sum()\n",
    "    print(f\"{x}: {missing_values}\")    "
   ]
  },
  {
   "cell_type": "markdown",
   "id": "9b3746d8",
   "metadata": {},
   "source": [
    "### SE AGREGAN NUEVAS FEATURES AL MODELO DE DATOS"
   ]
  },
  {
   "cell_type": "code",
   "execution_count": 173,
   "id": "9ba9a07d",
   "metadata": {},
   "outputs": [],
   "source": [
    "dummies_prop_type = pd.get_dummies(data_model.property_type_new, drop_first=True)\n",
    "data_model_ml = pd.concat([data_model, dummies_prop_type], axis=1)"
   ]
  },
  {
   "cell_type": "code",
   "execution_count": 174,
   "id": "13b10bb2",
   "metadata": {},
   "outputs": [
    {
     "data": {
      "text/html": [
       "<div>\n",
       "<style scoped>\n",
       "    .dataframe tbody tr th:only-of-type {\n",
       "        vertical-align: middle;\n",
       "    }\n",
       "\n",
       "    .dataframe tbody tr th {\n",
       "        vertical-align: top;\n",
       "    }\n",
       "\n",
       "    .dataframe thead th {\n",
       "        text-align: right;\n",
       "    }\n",
       "</style>\n",
       "<table border=\"1\" class=\"dataframe\">\n",
       "  <thead>\n",
       "    <tr style=\"text-align: right;\">\n",
       "      <th></th>\n",
       "      <th>place_name_new</th>\n",
       "      <th>state_name_new</th>\n",
       "      <th>description_new</th>\n",
       "      <th>rooms_new</th>\n",
       "      <th>title_new</th>\n",
       "      <th>property_type_new</th>\n",
       "      <th>surface_total_in_m2_new</th>\n",
       "      <th>currency_new</th>\n",
       "      <th>price_new</th>\n",
       "      <th>price_aprox_local_currency_new</th>\n",
       "      <th>price_usd_per_m2_new</th>\n",
       "      <th>apartment</th>\n",
       "      <th>house</th>\n",
       "      <th>store</th>\n",
       "    </tr>\n",
       "  </thead>\n",
       "  <tbody>\n",
       "    <tr>\n",
       "      <th>0</th>\n",
       "      <td>Mataderos</td>\n",
       "      <td>Capital Federal</td>\n",
       "      <td>2 ambientes tipo casa planta baja por pasillo,...</td>\n",
       "      <td>2.0</td>\n",
       "      <td>2 amb tipo casa sin expensas en pb</td>\n",
       "      <td>PH</td>\n",
       "      <td>55.000000</td>\n",
       "      <td>USD</td>\n",
       "      <td>62000.0</td>\n",
       "      <td>1093959.0</td>\n",
       "      <td>1127.272727</td>\n",
       "      <td>0</td>\n",
       "      <td>0</td>\n",
       "      <td>0</td>\n",
       "    </tr>\n",
       "    <tr>\n",
       "      <th>1</th>\n",
       "      <td>La Plata</td>\n",
       "      <td>Bs.As. G.B.A. Zona Sur</td>\n",
       "      <td>venta de departamento en 10 piso al frente, a ...</td>\n",
       "      <td>2.0</td>\n",
       "      <td>venta depto 2 dorm. a estrenar 7 e/ 36 y 37   ...</td>\n",
       "      <td>apartment</td>\n",
       "      <td>86.640712</td>\n",
       "      <td>USD</td>\n",
       "      <td>150000.0</td>\n",
       "      <td>2646675.0</td>\n",
       "      <td>1731.287716</td>\n",
       "      <td>1</td>\n",
       "      <td>0</td>\n",
       "      <td>0</td>\n",
       "    </tr>\n",
       "    <tr>\n",
       "      <th>2</th>\n",
       "      <td>Mataderos</td>\n",
       "      <td>Capital Federal</td>\n",
       "      <td>2 ambientes 3 piso lateral living comedor ampl...</td>\n",
       "      <td>2.0</td>\n",
       "      <td>2 amb 3 piso con ascensor apto credito</td>\n",
       "      <td>apartment</td>\n",
       "      <td>55.000000</td>\n",
       "      <td>USD</td>\n",
       "      <td>72000.0</td>\n",
       "      <td>1270404.0</td>\n",
       "      <td>1309.090909</td>\n",
       "      <td>1</td>\n",
       "      <td>0</td>\n",
       "      <td>0</td>\n",
       "    </tr>\n",
       "    <tr>\n",
       "      <th>3</th>\n",
       "      <td>Liniers</td>\n",
       "      <td>Capital Federal</td>\n",
       "      <td>ph 3 ambientes con patio. hay 3 deptos en lote...</td>\n",
       "      <td>3.0</td>\n",
       "      <td>ph 3 amb. cfte. reciclado</td>\n",
       "      <td>PH</td>\n",
       "      <td>137.729153</td>\n",
       "      <td>USD</td>\n",
       "      <td>95000.0</td>\n",
       "      <td>1676227.5</td>\n",
       "      <td>689.759561</td>\n",
       "      <td>0</td>\n",
       "      <td>0</td>\n",
       "      <td>0</td>\n",
       "    </tr>\n",
       "    <tr>\n",
       "      <th>4</th>\n",
       "      <td>Centro</td>\n",
       "      <td>Buenos Aires Costa Atlántica</td>\n",
       "      <td>departamento con fantastica iluminacion natura...</td>\n",
       "      <td>1.0</td>\n",
       "      <td>depto 2 amb al contrafrente zona centro/plaza ...</td>\n",
       "      <td>apartment</td>\n",
       "      <td>35.000000</td>\n",
       "      <td>USD</td>\n",
       "      <td>64000.0</td>\n",
       "      <td>1129248.0</td>\n",
       "      <td>1828.571429</td>\n",
       "      <td>1</td>\n",
       "      <td>0</td>\n",
       "      <td>0</td>\n",
       "    </tr>\n",
       "  </tbody>\n",
       "</table>\n",
       "</div>"
      ],
      "text/plain": [
       "  place_name_new                state_name_new  \\\n",
       "0      Mataderos               Capital Federal   \n",
       "1       La Plata        Bs.As. G.B.A. Zona Sur   \n",
       "2      Mataderos               Capital Federal   \n",
       "3        Liniers               Capital Federal   \n",
       "4         Centro  Buenos Aires Costa Atlántica   \n",
       "\n",
       "                                     description_new  rooms_new  \\\n",
       "0  2 ambientes tipo casa planta baja por pasillo,...        2.0   \n",
       "1  venta de departamento en 10 piso al frente, a ...        2.0   \n",
       "2  2 ambientes 3 piso lateral living comedor ampl...        2.0   \n",
       "3  ph 3 ambientes con patio. hay 3 deptos en lote...        3.0   \n",
       "4  departamento con fantastica iluminacion natura...        1.0   \n",
       "\n",
       "                                           title_new property_type_new  \\\n",
       "0                 2 amb tipo casa sin expensas en pb                PH   \n",
       "1  venta depto 2 dorm. a estrenar 7 e/ 36 y 37   ...         apartment   \n",
       "2             2 amb 3 piso con ascensor apto credito         apartment   \n",
       "3                       ph 3 amb. cfte. reciclado                   PH   \n",
       "4  depto 2 amb al contrafrente zona centro/plaza ...         apartment   \n",
       "\n",
       "   surface_total_in_m2_new currency_new  price_new  \\\n",
       "0                55.000000          USD    62000.0   \n",
       "1                86.640712          USD   150000.0   \n",
       "2                55.000000          USD    72000.0   \n",
       "3               137.729153          USD    95000.0   \n",
       "4                35.000000          USD    64000.0   \n",
       "\n",
       "   price_aprox_local_currency_new  price_usd_per_m2_new  apartment  house  \\\n",
       "0                       1093959.0           1127.272727          0      0   \n",
       "1                       2646675.0           1731.287716          1      0   \n",
       "2                       1270404.0           1309.090909          1      0   \n",
       "3                       1676227.5            689.759561          0      0   \n",
       "4                       1129248.0           1828.571429          1      0   \n",
       "\n",
       "   store  \n",
       "0      0  \n",
       "1      0  \n",
       "2      0  \n",
       "3      0  \n",
       "4      0  "
      ]
     },
     "execution_count": 174,
     "metadata": {},
     "output_type": "execute_result"
    }
   ],
   "source": [
    "data_model_ml.head()"
   ]
  },
  {
   "cell_type": "markdown",
   "id": "b84adffc",
   "metadata": {},
   "source": [
    "### Se verifican las dummies agregadas, para sumar a los features"
   ]
  },
  {
   "cell_type": "code",
   "execution_count": 302,
   "id": "a3888c37",
   "metadata": {},
   "outputs": [
    {
     "data": {
      "text/plain": [
       "Index(['place_name_new', 'state_name_new', 'description_new', 'rooms_new',\n",
       "       'title_new', 'property_type_new', 'surface_total_in_m2_new',\n",
       "       'currency_new', 'price_new', 'price_aprox_local_currency_new',\n",
       "       'price_usd_per_m2_new', 'apartment', 'house', 'store'],\n",
       "      dtype='object')"
      ]
     },
     "execution_count": 302,
     "metadata": {},
     "output_type": "execute_result"
    }
   ],
   "source": [
    "data_model_ml.columns"
   ]
  },
  {
   "cell_type": "code",
   "execution_count": 303,
   "id": "1da06312",
   "metadata": {},
   "outputs": [
    {
     "data": {
      "text/plain": [
       "place_name_new                    0\n",
       "state_name_new                    0\n",
       "description_new                   0\n",
       "rooms_new                         0\n",
       "title_new                         0\n",
       "property_type_new                 0\n",
       "surface_total_in_m2_new           0\n",
       "currency_new                      0\n",
       "price_new                         0\n",
       "price_aprox_local_currency_new    0\n",
       "price_usd_per_m2_new              0\n",
       "apartment                         0\n",
       "house                             0\n",
       "store                             0\n",
       "dtype: int64"
      ]
     },
     "execution_count": 303,
     "metadata": {},
     "output_type": "execute_result"
    }
   ],
   "source": [
    "data_model_ml.isnull().sum()"
   ]
  },
  {
   "cell_type": "markdown",
   "id": "079ba34f",
   "metadata": {},
   "source": [
    "### SE CREA EL MODELO DE REGRESION LINEAL MULTIPLE"
   ]
  },
  {
   "cell_type": "code",
   "execution_count": 171,
   "id": "0358aad9",
   "metadata": {},
   "outputs": [],
   "source": [
    "import statsmodels.api as sm\n",
    "from sklearn.linear_model import LinearRegression\n",
    "from sklearn.preprocessing import MinMaxScaler\n",
    "from sklearn import datasets"
   ]
  },
  {
   "cell_type": "code",
   "execution_count": 195,
   "id": "4ac22f2b",
   "metadata": {},
   "outputs": [],
   "source": [
    "# defino features y variable de estudio/target\n",
    "features = ['rooms_new', 'surface_total_in_m2_new', 'price_new', 'apartment', 'house', 'store']\n",
    "\n",
    "X = data_model_ml[features]\n",
    "y = data_model_ml.price_usd_per_m2_new"
   ]
  },
  {
   "cell_type": "code",
   "execution_count": 196,
   "id": "9bcc3298",
   "metadata": {},
   "outputs": [
    {
     "data": {
      "text/html": [
       "<div>\n",
       "<style scoped>\n",
       "    .dataframe tbody tr th:only-of-type {\n",
       "        vertical-align: middle;\n",
       "    }\n",
       "\n",
       "    .dataframe tbody tr th {\n",
       "        vertical-align: top;\n",
       "    }\n",
       "\n",
       "    .dataframe thead th {\n",
       "        text-align: right;\n",
       "    }\n",
       "</style>\n",
       "<table border=\"1\" class=\"dataframe\">\n",
       "  <thead>\n",
       "    <tr style=\"text-align: right;\">\n",
       "      <th></th>\n",
       "      <th>rooms_new</th>\n",
       "      <th>surface_total_in_m2_new</th>\n",
       "      <th>price_new</th>\n",
       "      <th>apartment</th>\n",
       "      <th>house</th>\n",
       "      <th>store</th>\n",
       "    </tr>\n",
       "  </thead>\n",
       "  <tbody>\n",
       "    <tr>\n",
       "      <th>117136</th>\n",
       "      <td>2.0</td>\n",
       "      <td>86.640712</td>\n",
       "      <td>200000.000000</td>\n",
       "      <td>1</td>\n",
       "      <td>0</td>\n",
       "      <td>0</td>\n",
       "    </tr>\n",
       "    <tr>\n",
       "      <th>90415</th>\n",
       "      <td>2.0</td>\n",
       "      <td>63.000000</td>\n",
       "      <td>150000.000000</td>\n",
       "      <td>1</td>\n",
       "      <td>0</td>\n",
       "      <td>0</td>\n",
       "    </tr>\n",
       "    <tr>\n",
       "      <th>115822</th>\n",
       "      <td>1.0</td>\n",
       "      <td>34.000000</td>\n",
       "      <td>101209.000000</td>\n",
       "      <td>1</td>\n",
       "      <td>0</td>\n",
       "      <td>0</td>\n",
       "    </tr>\n",
       "    <tr>\n",
       "      <th>18577</th>\n",
       "      <td>3.0</td>\n",
       "      <td>137.729153</td>\n",
       "      <td>90000.000000</td>\n",
       "      <td>0</td>\n",
       "      <td>0</td>\n",
       "      <td>0</td>\n",
       "    </tr>\n",
       "    <tr>\n",
       "      <th>83208</th>\n",
       "      <td>2.0</td>\n",
       "      <td>131.000000</td>\n",
       "      <td>150000.000000</td>\n",
       "      <td>0</td>\n",
       "      <td>1</td>\n",
       "      <td>0</td>\n",
       "    </tr>\n",
       "    <tr>\n",
       "      <th>...</th>\n",
       "      <td>...</td>\n",
       "      <td>...</td>\n",
       "      <td>...</td>\n",
       "      <td>...</td>\n",
       "      <td>...</td>\n",
       "      <td>...</td>\n",
       "    </tr>\n",
       "    <tr>\n",
       "      <th>62350</th>\n",
       "      <td>2.0</td>\n",
       "      <td>94.000000</td>\n",
       "      <td>92546.155417</td>\n",
       "      <td>0</td>\n",
       "      <td>1</td>\n",
       "      <td>0</td>\n",
       "    </tr>\n",
       "    <tr>\n",
       "      <th>117309</th>\n",
       "      <td>3.0</td>\n",
       "      <td>112.000000</td>\n",
       "      <td>226000.000000</td>\n",
       "      <td>1</td>\n",
       "      <td>0</td>\n",
       "      <td>0</td>\n",
       "    </tr>\n",
       "    <tr>\n",
       "      <th>7014</th>\n",
       "      <td>3.0</td>\n",
       "      <td>138.981530</td>\n",
       "      <td>160000.000000</td>\n",
       "      <td>1</td>\n",
       "      <td>0</td>\n",
       "      <td>0</td>\n",
       "    </tr>\n",
       "    <tr>\n",
       "      <th>94242</th>\n",
       "      <td>3.0</td>\n",
       "      <td>231.000000</td>\n",
       "      <td>162000.000000</td>\n",
       "      <td>0</td>\n",
       "      <td>1</td>\n",
       "      <td>0</td>\n",
       "    </tr>\n",
       "    <tr>\n",
       "      <th>117851</th>\n",
       "      <td>4.0</td>\n",
       "      <td>115.000000</td>\n",
       "      <td>380000.000000</td>\n",
       "      <td>1</td>\n",
       "      <td>0</td>\n",
       "      <td>0</td>\n",
       "    </tr>\n",
       "  </tbody>\n",
       "</table>\n",
       "<p>75426 rows × 6 columns</p>\n",
       "</div>"
      ],
      "text/plain": [
       "        rooms_new  surface_total_in_m2_new      price_new  apartment  house  \\\n",
       "117136        2.0                86.640712  200000.000000          1      0   \n",
       "90415         2.0                63.000000  150000.000000          1      0   \n",
       "115822        1.0                34.000000  101209.000000          1      0   \n",
       "18577         3.0               137.729153   90000.000000          0      0   \n",
       "83208         2.0               131.000000  150000.000000          0      1   \n",
       "...           ...                      ...            ...        ...    ...   \n",
       "62350         2.0                94.000000   92546.155417          0      1   \n",
       "117309        3.0               112.000000  226000.000000          1      0   \n",
       "7014          3.0               138.981530  160000.000000          1      0   \n",
       "94242         3.0               231.000000  162000.000000          0      1   \n",
       "117851        4.0               115.000000  380000.000000          1      0   \n",
       "\n",
       "        store  \n",
       "117136      0  \n",
       "90415       0  \n",
       "115822      0  \n",
       "18577       0  \n",
       "83208       0  \n",
       "...       ...  \n",
       "62350       0  \n",
       "117309      0  \n",
       "7014        0  \n",
       "94242       0  \n",
       "117851      0  \n",
       "\n",
       "[75426 rows x 6 columns]"
      ]
     },
     "execution_count": 196,
     "metadata": {},
     "output_type": "execute_result"
    }
   ],
   "source": [
    "# dividimos en conjuntos de datos para train y test del modelo\n",
    "x_train, x_test, y_train, y_test = train_test_split(X, y, random_state = 1)\n",
    "x_train"
   ]
  },
  {
   "cell_type": "markdown",
   "id": "2bb4548d",
   "metadata": {},
   "source": [
    "### Primero se escalan las features y se ajusta el modelo con statsmodels"
   ]
  },
  {
   "cell_type": "code",
   "execution_count": 204,
   "id": "ea632d36",
   "metadata": {},
   "outputs": [],
   "source": [
    "# se escalan las features\n",
    "scaler = MinMaxScaler()\n",
    "scaler.fit(x_train)\n",
    "\n",
    "std_numerical_data = scaler.transform(x_train)\n",
    "x_train_s = pd.DataFrame(std_numerical_data)\n"
   ]
  },
  {
   "cell_type": "code",
   "execution_count": 205,
   "id": "8bbd5a9c",
   "metadata": {},
   "outputs": [],
   "source": [
    "# Restablecer los índices de X e y para asegurar que estén alineados\n",
    "x_train.reset_index(drop=True, inplace=True)\n",
    "y_train.reset_index(drop=True, inplace=True)"
   ]
  },
  {
   "cell_type": "code",
   "execution_count": 206,
   "id": "b0088a54",
   "metadata": {},
   "outputs": [],
   "source": [
    "# Tenemos que agregar explícitamente a una constante:\n",
    "x_train_c = sm.add_constant(x_train_s)\n",
    "\n",
    "# creamos el modelo y lo ajustamos\n",
    "model = sm.OLS(y_train, x_train_c).fit()"
   ]
  },
  {
   "cell_type": "code",
   "execution_count": 207,
   "id": "e7f5c975",
   "metadata": {},
   "outputs": [
    {
     "data": {
      "text/html": [
       "<table class=\"simpletable\">\n",
       "<caption>OLS Regression Results</caption>\n",
       "<tr>\n",
       "  <th>Dep. Variable:</th>    <td>price_usd_per_m2_new</td> <th>  R-squared:         </th>  <td>   0.666</td>  \n",
       "</tr>\n",
       "<tr>\n",
       "  <th>Model:</th>                     <td>OLS</td>         <th>  Adj. R-squared:    </th>  <td>   0.666</td>  \n",
       "</tr>\n",
       "<tr>\n",
       "  <th>Method:</th>               <td>Least Squares</td>    <th>  F-statistic:       </th>  <td>2.505e+04</td> \n",
       "</tr>\n",
       "<tr>\n",
       "  <th>Date:</th>               <td>Wed, 14 Feb 2024</td>   <th>  Prob (F-statistic):</th>   <td>  0.00</td>   \n",
       "</tr>\n",
       "<tr>\n",
       "  <th>Time:</th>                   <td>12:25:01</td>       <th>  Log-Likelihood:    </th> <td>-5.8119e+05</td>\n",
       "</tr>\n",
       "<tr>\n",
       "  <th>No. Observations:</th>        <td> 75426</td>        <th>  AIC:               </th>  <td>1.162e+06</td> \n",
       "</tr>\n",
       "<tr>\n",
       "  <th>Df Residuals:</th>            <td> 75419</td>        <th>  BIC:               </th>  <td>1.162e+06</td> \n",
       "</tr>\n",
       "<tr>\n",
       "  <th>Df Model:</th>                <td>     6</td>        <th>                     </th>      <td> </td>     \n",
       "</tr>\n",
       "<tr>\n",
       "  <th>Covariance Type:</th>        <td>nonrobust</td>      <th>                     </th>      <td> </td>     \n",
       "</tr>\n",
       "</table>\n",
       "<table class=\"simpletable\">\n",
       "<tr>\n",
       "    <td></td>       <th>coef</th>     <th>std err</th>      <th>t</th>      <th>P>|t|</th>  <th>[0.025</th>    <th>0.975]</th>  \n",
       "</tr>\n",
       "<tr>\n",
       "  <th>const</th> <td> 1310.4717</td> <td>    9.364</td> <td>  139.945</td> <td> 0.000</td> <td> 1292.118</td> <td> 1328.825</td>\n",
       "</tr>\n",
       "<tr>\n",
       "  <th>0</th>     <td> -918.2580</td> <td>   18.930</td> <td>  -48.508</td> <td> 0.000</td> <td> -955.360</td> <td> -881.156</td>\n",
       "</tr>\n",
       "<tr>\n",
       "  <th>1</th>     <td>-2368.4622</td> <td>   12.111</td> <td> -195.560</td> <td> 0.000</td> <td>-2392.200</td> <td>-2344.724</td>\n",
       "</tr>\n",
       "<tr>\n",
       "  <th>2</th>     <td> 2544.4416</td> <td>   10.740</td> <td>  236.915</td> <td> 0.000</td> <td> 2523.391</td> <td> 2565.492</td>\n",
       "</tr>\n",
       "<tr>\n",
       "  <th>3</th>     <td>  352.6321</td> <td>    8.801</td> <td>   40.065</td> <td> 0.000</td> <td>  335.381</td> <td>  369.883</td>\n",
       "</tr>\n",
       "<tr>\n",
       "  <th>4</th>     <td>  -22.4524</td> <td>   10.122</td> <td>   -2.218</td> <td> 0.027</td> <td>  -42.292</td> <td>   -2.612</td>\n",
       "</tr>\n",
       "<tr>\n",
       "  <th>5</th>     <td>  292.8825</td> <td>   14.567</td> <td>   20.106</td> <td> 0.000</td> <td>  264.332</td> <td>  321.433</td>\n",
       "</tr>\n",
       "</table>\n",
       "<table class=\"simpletable\">\n",
       "<tr>\n",
       "  <th>Omnibus:</th>       <td>7671.100</td> <th>  Durbin-Watson:     </th> <td>   2.003</td> \n",
       "</tr>\n",
       "<tr>\n",
       "  <th>Prob(Omnibus):</th>  <td> 0.000</td>  <th>  Jarque-Bera (JB):  </th> <td>10534.096</td>\n",
       "</tr>\n",
       "<tr>\n",
       "  <th>Skew:</th>           <td> 0.826</td>  <th>  Prob(JB):          </th> <td>    0.00</td> \n",
       "</tr>\n",
       "<tr>\n",
       "  <th>Kurtosis:</th>       <td> 3.789</td>  <th>  Cond. No.          </th> <td>    13.7</td> \n",
       "</tr>\n",
       "</table><br/><br/>Notes:<br/>[1] Standard Errors assume that the covariance matrix of the errors is correctly specified."
      ],
      "text/plain": [
       "<class 'statsmodels.iolib.summary.Summary'>\n",
       "\"\"\"\n",
       "                             OLS Regression Results                             \n",
       "================================================================================\n",
       "Dep. Variable:     price_usd_per_m2_new   R-squared:                       0.666\n",
       "Model:                              OLS   Adj. R-squared:                  0.666\n",
       "Method:                   Least Squares   F-statistic:                 2.505e+04\n",
       "Date:                  Wed, 14 Feb 2024   Prob (F-statistic):               0.00\n",
       "Time:                          12:25:01   Log-Likelihood:            -5.8119e+05\n",
       "No. Observations:                 75426   AIC:                         1.162e+06\n",
       "Df Residuals:                     75419   BIC:                         1.162e+06\n",
       "Df Model:                             6                                         \n",
       "Covariance Type:              nonrobust                                         \n",
       "==============================================================================\n",
       "                 coef    std err          t      P>|t|      [0.025      0.975]\n",
       "------------------------------------------------------------------------------\n",
       "const       1310.4717      9.364    139.945      0.000    1292.118    1328.825\n",
       "0           -918.2580     18.930    -48.508      0.000    -955.360    -881.156\n",
       "1          -2368.4622     12.111   -195.560      0.000   -2392.200   -2344.724\n",
       "2           2544.4416     10.740    236.915      0.000    2523.391    2565.492\n",
       "3            352.6321      8.801     40.065      0.000     335.381     369.883\n",
       "4            -22.4524     10.122     -2.218      0.027     -42.292      -2.612\n",
       "5            292.8825     14.567     20.106      0.000     264.332     321.433\n",
       "==============================================================================\n",
       "Omnibus:                     7671.100   Durbin-Watson:                   2.003\n",
       "Prob(Omnibus):                  0.000   Jarque-Bera (JB):            10534.096\n",
       "Skew:                           0.826   Prob(JB):                         0.00\n",
       "Kurtosis:                       3.789   Cond. No.                         13.7\n",
       "==============================================================================\n",
       "\n",
       "Notes:\n",
       "[1] Standard Errors assume that the covariance matrix of the errors is correctly specified.\n",
       "\"\"\""
      ]
     },
     "execution_count": 207,
     "metadata": {},
     "output_type": "execute_result"
    }
   ],
   "source": [
    "model.summary()"
   ]
  },
  {
   "cell_type": "markdown",
   "id": "de613463",
   "metadata": {},
   "source": [
    "### TESTEO del modelo"
   ]
  },
  {
   "cell_type": "code",
   "execution_count": 208,
   "id": "b0402805",
   "metadata": {},
   "outputs": [
    {
     "name": "stdout",
     "output_type": "stream",
     "text": [
      "0        1980.578223\n",
      "1        1704.124333\n",
      "2        1669.594207\n",
      "3        1258.901277\n",
      "4        1757.191574\n",
      "            ...     \n",
      "25138    -421.514558\n",
      "25139    1863.625129\n",
      "25140    1335.685225\n",
      "25141    1322.251755\n",
      "25142    1123.075124\n",
      "Length: 25143, dtype: float64\n"
     ]
    }
   ],
   "source": [
    "# Escalar las features de prueba con el mismo scaler utilizado para los datos de entrenamiento\n",
    "std_numerical_data_test = scaler.transform(x_test)\n",
    "x_test_s = pd.DataFrame(std_numerical_data_test)\n",
    "\n",
    "# Agregar explícitamente la constante a los datos de prueba\n",
    "x_test_c = sm.add_constant(x_test_s)\n",
    "\n",
    "# Realizar predicciones en el conjunto de prueba\n",
    "y_pred = model.predict(x_test_c)\n",
    "\n",
    "# Visualizar las predicciones\n",
    "print(y_pred)\n"
   ]
  },
  {
   "cell_type": "code",
   "execution_count": 209,
   "id": "7fa570f2",
   "metadata": {},
   "outputs": [
    {
     "name": "stdout",
     "output_type": "stream",
     "text": [
      "R2: 0.6670832556228328\n",
      "MAE: 422.9156493953739\n",
      "MSE: 286887.0715839247\n",
      "RMSE: 535.6184010878684\n"
     ]
    }
   ],
   "source": [
    "print ('R2:', metrics.r2_score(y_test, y_pred))\n",
    "print ('MAE:', metrics.mean_absolute_error(y_test, y_pred))\n",
    "print ('MSE:', metrics.mean_squared_error(y_test, y_pred))\n",
    "print ('RMSE:', np.sqrt(metrics.mean_squared_error(y_test, y_pred)))"
   ]
  },
  {
   "cell_type": "code",
   "execution_count": 210,
   "id": "980c25a1",
   "metadata": {},
   "outputs": [],
   "source": [
    "# SE REALIZA EL MISMO OMODULO UTILIZANDO LA LIBRERIA SKLEARN"
   ]
  },
  {
   "cell_type": "code",
   "execution_count": 213,
   "id": "9ff9d0ed",
   "metadata": {},
   "outputs": [],
   "source": [
    "# Instanciar el modelo\n",
    "lm = linear_model.LinearRegression()"
   ]
  },
  {
   "cell_type": "code",
   "execution_count": 222,
   "id": "736d0b77",
   "metadata": {},
   "outputs": [],
   "source": [
    "# Vuelvo a separar en TRAIN_TEST porque uso otra libreria.\n",
    "X_train, X_test, y_train, y_test = train_test_split(X, y, test_size=0.35)\n",
    "scaler = StandardScaler()\n",
    "\n",
    "X_train = scaler.fit_transform(X_train)\n",
    "X_test = scaler.transform(X_test)\n",
    "\n",
    "model_skl = lm.fit(X_train, y_train)"
   ]
  },
  {
   "cell_type": "code",
   "execution_count": 223,
   "id": "bd63faab",
   "metadata": {},
   "outputs": [],
   "source": [
    "# Entrenar el modelo con todo el dataset (no usaremos train-test-split en esta oportunidad)\n",
    "#model_skl.fit(x_train, y_train) # TODO - ver porque al escalar las features(x_train_s) de entrenamiento el R2 da mal"
   ]
  },
  {
   "cell_type": "code",
   "execution_count": 224,
   "id": "6f9b236e",
   "metadata": {},
   "outputs": [],
   "source": [
    "# Testeo del modelo\n",
    "yPred_skl = model_skl.predict(X_test)"
   ]
  },
  {
   "cell_type": "code",
   "execution_count": 225,
   "id": "6c70c5f7",
   "metadata": {},
   "outputs": [
    {
     "name": "stdout",
     "output_type": "stream",
     "text": [
      "Intercept =  1615.2862697362607\n",
      "RM =  [-112.29640835 -611.09922803  517.7276216   168.53819006  -11.8736607\n",
      "   53.44070619]\n"
     ]
    }
   ],
   "source": [
    "print ('Intercept = ', model_skl.intercept_)\n",
    "print ('RM = ', model_skl.coef_)"
   ]
  },
  {
   "cell_type": "code",
   "execution_count": 226,
   "id": "85a21a02",
   "metadata": {},
   "outputs": [
    {
     "name": "stdout",
     "output_type": "stream",
     "text": [
      "R2: 0.6660455440590223\n",
      "MAE: 424.8987469505378\n",
      "MSE: 289061.7181913952\n",
      "RMSE: 537.6446021224385\n"
     ]
    }
   ],
   "source": [
    "print ('R2:', metrics.r2_score(y_test, yPred_skl))\n",
    "print ('MAE:', metrics.mean_absolute_error(y_test, yPred_skl))\n",
    "print ('MSE:', metrics.mean_squared_error(y_test, yPred_skl))\n",
    "print ('RMSE:', np.sqrt(metrics.mean_squared_error(y_test, yPred_skl)))"
   ]
  },
  {
   "cell_type": "code",
   "execution_count": 227,
   "id": "6d6b1dd2",
   "metadata": {},
   "outputs": [],
   "source": [
    "# SE REALIZA REGULARIZACION PARA MEJORAR EL MODELO, ASI EVITANDO EL OVERFIT DEL MISMO"
   ]
  },
  {
   "cell_type": "code",
   "execution_count": 228,
   "id": "d957f0ce",
   "metadata": {},
   "outputs": [],
   "source": [
    "# USAMOS REGULARIZACION TIPO RIDGE CON CROSS VALIDATION"
   ]
  },
  {
   "cell_type": "code",
   "execution_count": 277,
   "id": "bad071fd",
   "metadata": {},
   "outputs": [],
   "source": [
    "# instanciamos un modelo \n",
    "rlmcv = linear_model.RidgeCV(alphas=np.linspace(0.1, 100, 100), cv=3, normalize=False, scoring='r2')"
   ]
  },
  {
   "cell_type": "code",
   "execution_count": 278,
   "id": "c6683084",
   "metadata": {},
   "outputs": [
    {
     "data": {
      "text/plain": [
       "array([  0.1       ,   1.10909091,   2.11818182,   3.12727273,\n",
       "         4.13636364,   5.14545455,   6.15454545,   7.16363636,\n",
       "         8.17272727,   9.18181818,  10.19090909,  11.2       ,\n",
       "        12.20909091,  13.21818182,  14.22727273,  15.23636364,\n",
       "        16.24545455,  17.25454545,  18.26363636,  19.27272727,\n",
       "        20.28181818,  21.29090909,  22.3       ,  23.30909091,\n",
       "        24.31818182,  25.32727273,  26.33636364,  27.34545455,\n",
       "        28.35454545,  29.36363636,  30.37272727,  31.38181818,\n",
       "        32.39090909,  33.4       ,  34.40909091,  35.41818182,\n",
       "        36.42727273,  37.43636364,  38.44545455,  39.45454545,\n",
       "        40.46363636,  41.47272727,  42.48181818,  43.49090909,\n",
       "        44.5       ,  45.50909091,  46.51818182,  47.52727273,\n",
       "        48.53636364,  49.54545455,  50.55454545,  51.56363636,\n",
       "        52.57272727,  53.58181818,  54.59090909,  55.6       ,\n",
       "        56.60909091,  57.61818182,  58.62727273,  59.63636364,\n",
       "        60.64545455,  61.65454545,  62.66363636,  63.67272727,\n",
       "        64.68181818,  65.69090909,  66.7       ,  67.70909091,\n",
       "        68.71818182,  69.72727273,  70.73636364,  71.74545455,\n",
       "        72.75454545,  73.76363636,  74.77272727,  75.78181818,\n",
       "        76.79090909,  77.8       ,  78.80909091,  79.81818182,\n",
       "        80.82727273,  81.83636364,  82.84545455,  83.85454545,\n",
       "        84.86363636,  85.87272727,  86.88181818,  87.89090909,\n",
       "        88.9       ,  89.90909091,  90.91818182,  91.92727273,\n",
       "        92.93636364,  93.94545455,  94.95454545,  95.96363636,\n",
       "        96.97272727,  97.98181818,  98.99090909, 100.        ])"
      ]
     },
     "execution_count": 278,
     "metadata": {},
     "output_type": "execute_result"
    }
   ],
   "source": [
    "rlmcv.alphas"
   ]
  },
  {
   "cell_type": "code",
   "execution_count": 279,
   "id": "a5a75b1f",
   "metadata": {},
   "outputs": [
    {
     "data": {
      "text/plain": [
       "RidgeCV(alphas=array([  0.1       ,   1.10909091,   2.11818182,   3.12727273,\n",
       "         4.13636364,   5.14545455,   6.15454545,   7.16363636,\n",
       "         8.17272727,   9.18181818,  10.19090909,  11.2       ,\n",
       "        12.20909091,  13.21818182,  14.22727273,  15.23636364,\n",
       "        16.24545455,  17.25454545,  18.26363636,  19.27272727,\n",
       "        20.28181818,  21.29090909,  22.3       ,  23.30909091,\n",
       "        24.31818182,  25.32727273,  26.33636364,  27.34545455,\n",
       "        28.35454545,  29.36363636...\n",
       "        68.71818182,  69.72727273,  70.73636364,  71.74545455,\n",
       "        72.75454545,  73.76363636,  74.77272727,  75.78181818,\n",
       "        76.79090909,  77.8       ,  78.80909091,  79.81818182,\n",
       "        80.82727273,  81.83636364,  82.84545455,  83.85454545,\n",
       "        84.86363636,  85.87272727,  86.88181818,  87.89090909,\n",
       "        88.9       ,  89.90909091,  90.91818182,  91.92727273,\n",
       "        92.93636364,  93.94545455,  94.95454545,  95.96363636,\n",
       "        96.97272727,  97.98181818,  98.99090909, 100.        ]),\n",
       "        cv=3, scoring='r2')"
      ]
     },
     "execution_count": 279,
     "metadata": {},
     "output_type": "execute_result"
    }
   ],
   "source": [
    "rlmcv.fit(X_train, y_train)"
   ]
  },
  {
   "cell_type": "code",
   "execution_count": 280,
   "id": "be623f5f",
   "metadata": {},
   "outputs": [
    {
     "name": "stdout",
     "output_type": "stream",
     "text": [
      "El mejor Alpha(lambda) de ajuste: 3.1272727272727274\n"
     ]
    }
   ],
   "source": [
    "print(\"El mejor Alpha(lambda) de ajuste:\", rlmcv.alpha_)"
   ]
  },
  {
   "cell_type": "code",
   "execution_count": 281,
   "id": "23a4dbff",
   "metadata": {},
   "outputs": [
    {
     "name": "stdout",
     "output_type": "stream",
     "text": [
      "r^2: 0.6662509075450568\n"
     ]
    }
   ],
   "source": [
    "print(\"r^2:\", rlmcv.score(X_train, y_train))"
   ]
  },
  {
   "cell_type": "code",
   "execution_count": 282,
   "id": "34d37976",
   "metadata": {},
   "outputs": [],
   "source": [
    "yPred_R = rlmcv.predict(X_test)"
   ]
  },
  {
   "cell_type": "code",
   "execution_count": 283,
   "id": "abc1be4b",
   "metadata": {},
   "outputs": [
    {
     "name": "stdout",
     "output_type": "stream",
     "text": [
      "r^2 test: 0.66604592929673\n"
     ]
    }
   ],
   "source": [
    "print(\"r^2 test:\", rlmcv.score(X_test, y_test))"
   ]
  },
  {
   "cell_type": "code",
   "execution_count": 284,
   "id": "674e7479",
   "metadata": {},
   "outputs": [
    {
     "name": "stdout",
     "output_type": "stream",
     "text": [
      "R2: 0.66604592929673\n",
      "MAE: 424.8930925833882\n",
      "MSE: 289061.38474031613\n",
      "RMSE: 537.6442920187251\n"
     ]
    }
   ],
   "source": [
    "print ('R2:', metrics.r2_score(y_test, yPred_R))\n",
    "print ('MAE:', metrics.mean_absolute_error(y_test, yPred_R))\n",
    "print ('MSE:', metrics.mean_squared_error(y_test, yPred_R))\n",
    "print ('RMSE:', np.sqrt(metrics.mean_squared_error(y_test, yPred_R)))"
   ]
  },
  {
   "cell_type": "code",
   "execution_count": 285,
   "id": "f49a460b",
   "metadata": {},
   "outputs": [],
   "source": [
    "# USAMOS REGULARIZACION TIPO LASSO CON CROSS VALIDATION"
   ]
  },
  {
   "cell_type": "code",
   "execution_count": 287,
   "id": "4d9b5203",
   "metadata": {},
   "outputs": [],
   "source": [
    "lassocv = linear_model.LassoCV(alphas=np.linspace(0.01, 100, 1000), cv=3, normalize=False)"
   ]
  },
  {
   "cell_type": "code",
   "execution_count": 288,
   "id": "54c8fd88",
   "metadata": {},
   "outputs": [
    {
     "data": {
      "text/plain": [
       "LassoCV(alphas=array([1.00000000e-02, 1.10090090e-01, 2.10180180e-01, 3.10270270e-01,\n",
       "       4.10360360e-01, 5.10450450e-01, 6.10540541e-01, 7.10630631e-01,\n",
       "       8.10720721e-01, 9.10810811e-01, 1.01090090e+00, 1.11099099e+00,\n",
       "       1.21108108e+00, 1.31117117e+00, 1.41126126e+00, 1.51135135e+00,\n",
       "       1.61144144e+00, 1.71153153e+00, 1.81162162e+00, 1.91171171e+00,\n",
       "       2.01180180e+00, 2.11189189e+0...\n",
       "       9.76979279e+01, 9.77980180e+01, 9.78981081e+01, 9.79981982e+01,\n",
       "       9.80982883e+01, 9.81983784e+01, 9.82984685e+01, 9.83985586e+01,\n",
       "       9.84986486e+01, 9.85987387e+01, 9.86988288e+01, 9.87989189e+01,\n",
       "       9.88990090e+01, 9.89990991e+01, 9.90991892e+01, 9.91992793e+01,\n",
       "       9.92993694e+01, 9.93994595e+01, 9.94995495e+01, 9.95996396e+01,\n",
       "       9.96997297e+01, 9.97998198e+01, 9.98999099e+01, 1.00000000e+02]),\n",
       "        cv=3)"
      ]
     },
     "execution_count": 288,
     "metadata": {},
     "output_type": "execute_result"
    }
   ],
   "source": [
    "lassocv.fit(X_train, y_train)"
   ]
  },
  {
   "cell_type": "code",
   "execution_count": 289,
   "id": "10f06076",
   "metadata": {},
   "outputs": [
    {
     "data": {
      "text/plain": [
       "array([-112.28522029, -611.08852717,  517.70880356,  168.52076147,\n",
       "        -11.8850458 ,   53.42377426])"
      ]
     },
     "execution_count": 289,
     "metadata": {},
     "output_type": "execute_result"
    }
   ],
   "source": [
    "lassocv.coef_ "
   ]
  },
  {
   "cell_type": "markdown",
   "id": "56e71064",
   "metadata": {},
   "source": [
    "### vemos que usando lasso no se elimino ningun coeficiente . . . "
   ]
  },
  {
   "cell_type": "code",
   "execution_count": 290,
   "id": "3877f082",
   "metadata": {},
   "outputs": [
    {
     "data": {
      "text/plain": [
       "1615.2862697362607"
      ]
     },
     "execution_count": 290,
     "metadata": {},
     "output_type": "execute_result"
    }
   ],
   "source": [
    "lassocv.intercept_"
   ]
  },
  {
   "cell_type": "code",
   "execution_count": 291,
   "id": "2dd149aa",
   "metadata": {},
   "outputs": [
    {
     "name": "stdout",
     "output_type": "stream",
     "text": [
      "r^2: 0.6662509107953807\n"
     ]
    }
   ],
   "source": [
    "print(\"r^2:\", lassocv.score(X_train, y_train))"
   ]
  },
  {
   "cell_type": "code",
   "execution_count": 292,
   "id": "9b977d75",
   "metadata": {},
   "outputs": [],
   "source": [
    "yPred_L = lassocv.predict(X_test)"
   ]
  },
  {
   "cell_type": "code",
   "execution_count": 293,
   "id": "b9c65962",
   "metadata": {},
   "outputs": [
    {
     "name": "stdout",
     "output_type": "stream",
     "text": [
      "r^2 test: 0.666045884274945\n"
     ]
    }
   ],
   "source": [
    "print(\"r^2 test:\", lassocv.score(X_test, y_test))"
   ]
  },
  {
   "cell_type": "code",
   "execution_count": 294,
   "id": "a348b81d",
   "metadata": {},
   "outputs": [
    {
     "name": "stdout",
     "output_type": "stream",
     "text": [
      "R2: 0.666045884274945\n",
      "MAE: 424.89795996575305\n",
      "MSE: 289061.4237099249\n",
      "RMSE: 537.6443282597938\n"
     ]
    }
   ],
   "source": [
    "print ('R2:', metrics.r2_score(y_test, yPred_L))\n",
    "print ('MAE:', metrics.mean_absolute_error(y_test, yPred_L))\n",
    "print ('MSE:', metrics.mean_squared_error(y_test, yPred_L))\n",
    "print ('RMSE:', np.sqrt(metrics.mean_squared_error(y_test, yPred_L)))"
   ]
  },
  {
   "cell_type": "code",
   "execution_count": null,
   "id": "69c4ab8b",
   "metadata": {},
   "outputs": [],
   "source": []
  }
 ],
 "metadata": {
  "kernelspec": {
   "display_name": "Python 3 (ipykernel)",
   "language": "python",
   "name": "python3"
  },
  "language_info": {
   "codemirror_mode": {
    "name": "ipython",
    "version": 3
   },
   "file_extension": ".py",
   "mimetype": "text/x-python",
   "name": "python",
   "nbconvert_exporter": "python",
   "pygments_lexer": "ipython3",
   "version": "3.10.9"
  }
 },
 "nbformat": 4,
 "nbformat_minor": 5
}
