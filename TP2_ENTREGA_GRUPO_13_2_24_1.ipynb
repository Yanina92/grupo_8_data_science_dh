{
 "cells": [
  {
   "cell_type": "markdown",
   "metadata": {},
   "source": [
    "\n",
    "# GRUPO Nº 8\n"
   ]
  },
  {
   "cell_type": "markdown",
   "metadata": {},
   "source": [
    "📝 Integrantes:\n",
    "\n",
    "   1. Acosta, Carla\n",
    "   2. Barrera, Cristian\n",
    "   3. Chuchuca, Fanny\n",
    "   4. Colmenares, Carlos\n",
    "   5. González, Yanina\n",
    "   6. Laya, Nicolás\n",
    "   7. Olave Portilla, Nicolás\n",
    "   8. Relañez, Alejandro\n",
    "   9. Parra, Agustín\n",
    "   10. Pintos, Iván"
   ]
  },
  {
   "cell_type": "code",
   "execution_count": 234,
   "metadata": {},
   "outputs": [],
   "source": [
    "#import de módulos necesarios a utilizar\n",
    "import pandas as pd\n",
    "import re\n",
    "import random\n",
    "import numpy as np\n",
    "import matplotlib.pyplot as plt\n",
    "import seaborn as sns"
   ]
  },
  {
   "cell_type": "code",
   "execution_count": 235,
   "metadata": {},
   "outputs": [],
   "source": [
    "data_location = \"properatti.csv\"\n",
    "data = pd.read_csv(data_location)"
   ]
  },
  {
   "cell_type": "markdown",
   "metadata": {},
   "source": [
    "Para comenzar, hacemos un análisis general de la base a trabajar. Miramos la cantidad de registros y de variables, y seleccionamos una muestra aleatoria para analizar el contenido:"
   ]
  },
  {
   "cell_type": "code",
   "execution_count": 236,
   "metadata": {},
   "outputs": [
    {
     "name": "stdout",
     "output_type": "stream",
     "text": [
      "(121220, 26)\n"
     ]
    },
    {
     "data": {
      "text/html": [
       "<div>\n",
       "<style scoped>\n",
       "    .dataframe tbody tr th:only-of-type {\n",
       "        vertical-align: middle;\n",
       "    }\n",
       "\n",
       "    .dataframe tbody tr th {\n",
       "        vertical-align: top;\n",
       "    }\n",
       "\n",
       "    .dataframe thead th {\n",
       "        text-align: right;\n",
       "    }\n",
       "</style>\n",
       "<table border=\"1\" class=\"dataframe\">\n",
       "  <thead>\n",
       "    <tr style=\"text-align: right;\">\n",
       "      <th></th>\n",
       "      <th>Unnamed: 0</th>\n",
       "      <th>operation</th>\n",
       "      <th>property_type</th>\n",
       "      <th>place_name</th>\n",
       "      <th>place_with_parent_names</th>\n",
       "      <th>country_name</th>\n",
       "      <th>state_name</th>\n",
       "      <th>geonames_id</th>\n",
       "      <th>lat-lon</th>\n",
       "      <th>lat</th>\n",
       "      <th>...</th>\n",
       "      <th>surface_covered_in_m2</th>\n",
       "      <th>price_usd_per_m2</th>\n",
       "      <th>price_per_m2</th>\n",
       "      <th>floor</th>\n",
       "      <th>rooms</th>\n",
       "      <th>expenses</th>\n",
       "      <th>properati_url</th>\n",
       "      <th>description</th>\n",
       "      <th>title</th>\n",
       "      <th>image_thumbnail</th>\n",
       "    </tr>\n",
       "  </thead>\n",
       "  <tbody>\n",
       "    <tr>\n",
       "      <th>4423</th>\n",
       "      <td>4423</td>\n",
       "      <td>sell</td>\n",
       "      <td>PH</td>\n",
       "      <td>Mar del Plata</td>\n",
       "      <td>|Argentina|Buenos Aires Costa Atlántica|Mar de...</td>\n",
       "      <td>Argentina</td>\n",
       "      <td>Buenos Aires Costa Atlántica</td>\n",
       "      <td>3430863.0</td>\n",
       "      <td>-38.0166869,-57.570879</td>\n",
       "      <td>-38.016687</td>\n",
       "      <td>...</td>\n",
       "      <td>65.0</td>\n",
       "      <td>NaN</td>\n",
       "      <td>1230.769231</td>\n",
       "      <td>NaN</td>\n",
       "      <td>2.0</td>\n",
       "      <td>NaN</td>\n",
       "      <td>http://www.properati.com.ar/15mtf_venta_ph_mar...</td>\n",
       "      <td>Ph de 2 ambientes al fondo - primer piso - coc...</td>\n",
       "      <td>PH en Venta. Ambientes. Dormitorio. 65 m2c</td>\n",
       "      <td>https://thumbs4.properati.com/6/azzFtH7wALDxOM...</td>\n",
       "    </tr>\n",
       "    <tr>\n",
       "      <th>113890</th>\n",
       "      <td>113890</td>\n",
       "      <td>sell</td>\n",
       "      <td>apartment</td>\n",
       "      <td>Caseros</td>\n",
       "      <td>|Argentina|Bs.As. G.B.A. Zona Oeste|Tres de Fe...</td>\n",
       "      <td>Argentina</td>\n",
       "      <td>Bs.As. G.B.A. Zona Oeste</td>\n",
       "      <td>3862356.0</td>\n",
       "      <td>-34.6068156,-58.5692826</td>\n",
       "      <td>-34.606816</td>\n",
       "      <td>...</td>\n",
       "      <td>45.0</td>\n",
       "      <td>1560.000000</td>\n",
       "      <td>1733.333333</td>\n",
       "      <td>NaN</td>\n",
       "      <td>NaN</td>\n",
       "      <td>NaN</td>\n",
       "      <td>http://www.properati.com.ar/1c922_venta_depart...</td>\n",
       "      <td>DEPARTAMENTO 2 AMBIENTES AL FRENTE APTO CREDIT...</td>\n",
       "      <td>DPTO 2 AMB MUY LUMINOSO CASEROS</td>\n",
       "      <td>https://thumbs4.properati.com/3/SiXcroE1pWuprl...</td>\n",
       "    </tr>\n",
       "    <tr>\n",
       "      <th>26079</th>\n",
       "      <td>26079</td>\n",
       "      <td>sell</td>\n",
       "      <td>apartment</td>\n",
       "      <td>Rosario</td>\n",
       "      <td>|Argentina|Santa Fe|Rosario|</td>\n",
       "      <td>Argentina</td>\n",
       "      <td>Santa Fe</td>\n",
       "      <td>3838574.0</td>\n",
       "      <td>-32.9387556,-60.6576955</td>\n",
       "      <td>-32.938756</td>\n",
       "      <td>...</td>\n",
       "      <td>31.0</td>\n",
       "      <td>37096.774194</td>\n",
       "      <td>37096.774194</td>\n",
       "      <td>NaN</td>\n",
       "      <td>1.0</td>\n",
       "      <td>NaN</td>\n",
       "      <td>http://www.properati.com.ar/17qqc_venta_depart...</td>\n",
       "      <td>1119-MC087: Rosario: Rodriguez 449 Studio VIII...</td>\n",
       "      <td>Monoambiente en venta en Rosario: Rodriguez 449</td>\n",
       "      <td>https://thumbs4.properati.com/5/tWrhGjo4qJG6ya...</td>\n",
       "    </tr>\n",
       "    <tr>\n",
       "      <th>74655</th>\n",
       "      <td>74655</td>\n",
       "      <td>sell</td>\n",
       "      <td>apartment</td>\n",
       "      <td>Haedo</td>\n",
       "      <td>|Argentina|Bs.As. G.B.A. Zona Oeste|Morón|Haedo|</td>\n",
       "      <td>Argentina</td>\n",
       "      <td>Bs.As. G.B.A. Zona Oeste</td>\n",
       "      <td>NaN</td>\n",
       "      <td>NaN</td>\n",
       "      <td>NaN</td>\n",
       "      <td>...</td>\n",
       "      <td>45.0</td>\n",
       "      <td>NaN</td>\n",
       "      <td>1644.444444</td>\n",
       "      <td>NaN</td>\n",
       "      <td>NaN</td>\n",
       "      <td>NaN</td>\n",
       "      <td>http://www.properati.com.ar/1ap9k_venta_depart...</td>\n",
       "      <td>Departamento 3 Amb al frente Planta BajaUbicac...</td>\n",
       "      <td>Departamento - Haedo Norte</td>\n",
       "      <td>https://thumbs4.properati.com/7/iz0Bu7BJfORr5t...</td>\n",
       "    </tr>\n",
       "    <tr>\n",
       "      <th>12546</th>\n",
       "      <td>12546</td>\n",
       "      <td>sell</td>\n",
       "      <td>house</td>\n",
       "      <td>Ituzaingó</td>\n",
       "      <td>|Argentina|Bs.As. G.B.A. Zona Oeste|Ituzaingó|</td>\n",
       "      <td>Argentina</td>\n",
       "      <td>Bs.As. G.B.A. Zona Oeste</td>\n",
       "      <td>3433359.0</td>\n",
       "      <td>-34.6558182,-58.6825274</td>\n",
       "      <td>-34.655818</td>\n",
       "      <td>...</td>\n",
       "      <td>140.0</td>\n",
       "      <td>447.368421</td>\n",
       "      <td>1214.285714</td>\n",
       "      <td>NaN</td>\n",
       "      <td>NaN</td>\n",
       "      <td>NaN</td>\n",
       "      <td>http://www.properati.com.ar/16m7o_venta_casa_i...</td>\n",
       "      <td>CODIGO: 3044-224 ubicado en: Ombú 1000 -  Publ...</td>\n",
       "      <td>Chalet de 5 ambientes en venta directa en Ituz...</td>\n",
       "      <td>https://thumbs4.properati.com/6/-Nxq_NpPZhMzPw...</td>\n",
       "    </tr>\n",
       "    <tr>\n",
       "      <th>39164</th>\n",
       "      <td>39164</td>\n",
       "      <td>sell</td>\n",
       "      <td>PH</td>\n",
       "      <td>Mar del Plata</td>\n",
       "      <td>|Argentina|Buenos Aires Costa Atlántica|Mar de...</td>\n",
       "      <td>Argentina</td>\n",
       "      <td>Buenos Aires Costa Atlántica</td>\n",
       "      <td>3430863.0</td>\n",
       "      <td>-38.011269,-57.5437023</td>\n",
       "      <td>-38.011269</td>\n",
       "      <td>...</td>\n",
       "      <td>110.0</td>\n",
       "      <td>NaN</td>\n",
       "      <td>NaN</td>\n",
       "      <td>NaN</td>\n",
       "      <td>4.0</td>\n",
       "      <td>NaN</td>\n",
       "      <td>http://www.properati.com.ar/18n1j_venta_ph_mar...</td>\n",
       "      <td>ACEPTA PERMUTA POR CHALET ZONA NORTE o SUR - Y...</td>\n",
       "      <td>CHALET EN PH 4 AMB. EN 1º PISO - APTO PROFESIO...</td>\n",
       "      <td>https://thumbs4.properati.com/7/SjJCknfbAna18E...</td>\n",
       "    </tr>\n",
       "    <tr>\n",
       "      <th>79553</th>\n",
       "      <td>79553</td>\n",
       "      <td>sell</td>\n",
       "      <td>apartment</td>\n",
       "      <td>Almagro</td>\n",
       "      <td>|Argentina|Capital Federal|Almagro|</td>\n",
       "      <td>Argentina</td>\n",
       "      <td>Capital Federal</td>\n",
       "      <td>3436397.0</td>\n",
       "      <td>-34.6213482616,-58.4203806533</td>\n",
       "      <td>-34.621348</td>\n",
       "      <td>...</td>\n",
       "      <td>35.0</td>\n",
       "      <td>1945.945946</td>\n",
       "      <td>2057.142857</td>\n",
       "      <td>NaN</td>\n",
       "      <td>NaN</td>\n",
       "      <td>NaN</td>\n",
       "      <td>http://www.properati.com.ar/1avp2_venta_depart...</td>\n",
       "      <td>VENTA DEPARTAMENTO 1 AMBIENTE EN ALMAGRODepart...</td>\n",
       "      <td>VENTA DEPARTAMENTO 1 AMBIENTE EN ALMAGRO</td>\n",
       "      <td>https://thumbs4.properati.com/0/DLeLIQ39W6twC9...</td>\n",
       "    </tr>\n",
       "    <tr>\n",
       "      <th>93596</th>\n",
       "      <td>93596</td>\n",
       "      <td>sell</td>\n",
       "      <td>house</td>\n",
       "      <td>Haras Santa Maria</td>\n",
       "      <td>|Argentina|Bs.As. G.B.A. Zona Norte|Escobar|Ha...</td>\n",
       "      <td>Argentina</td>\n",
       "      <td>Bs.As. G.B.A. Zona Norte</td>\n",
       "      <td>NaN</td>\n",
       "      <td>NaN</td>\n",
       "      <td>NaN</td>\n",
       "      <td>...</td>\n",
       "      <td>247.0</td>\n",
       "      <td>NaN</td>\n",
       "      <td>1295.546559</td>\n",
       "      <td>NaN</td>\n",
       "      <td>NaN</td>\n",
       "      <td>NaN</td>\n",
       "      <td>http://www.properati.com.ar/1bee6_venta_casa_h...</td>\n",
       "      <td>Haras de Santa Maria Los eucaliptus u$s320.000...</td>\n",
       "      <td>Casa - Haras Santa Maria</td>\n",
       "      <td>https://thumbs4.properati.com/2/2IoISwhhRsejkn...</td>\n",
       "    </tr>\n",
       "    <tr>\n",
       "      <th>105629</th>\n",
       "      <td>105629</td>\n",
       "      <td>sell</td>\n",
       "      <td>house</td>\n",
       "      <td>Nordelta</td>\n",
       "      <td>|Argentina|Bs.As. G.B.A. Zona Norte|Tigre|Nord...</td>\n",
       "      <td>Argentina</td>\n",
       "      <td>Bs.As. G.B.A. Zona Norte</td>\n",
       "      <td>NaN</td>\n",
       "      <td>NaN</td>\n",
       "      <td>NaN</td>\n",
       "      <td>...</td>\n",
       "      <td>NaN</td>\n",
       "      <td>1936.842105</td>\n",
       "      <td>NaN</td>\n",
       "      <td>NaN</td>\n",
       "      <td>NaN</td>\n",
       "      <td>NaN</td>\n",
       "      <td>http://www.properati.com.ar/1bv02_venta_casa_n...</td>\n",
       "      <td>Muy linda casa moderna con 3 dormitorios + esc...</td>\n",
       "      <td>Casa - Tipas</td>\n",
       "      <td>https://thumbs4.properati.com/8/DR4azIb4ucrsWd...</td>\n",
       "    </tr>\n",
       "    <tr>\n",
       "      <th>87877</th>\n",
       "      <td>87877</td>\n",
       "      <td>sell</td>\n",
       "      <td>apartment</td>\n",
       "      <td>Córdoba</td>\n",
       "      <td>|Argentina|Córdoba|</td>\n",
       "      <td>Argentina</td>\n",
       "      <td>Córdoba</td>\n",
       "      <td>3860255.0</td>\n",
       "      <td>NaN</td>\n",
       "      <td>NaN</td>\n",
       "      <td>...</td>\n",
       "      <td>44.0</td>\n",
       "      <td>1231.641373</td>\n",
       "      <td>25454.545455</td>\n",
       "      <td>NaN</td>\n",
       "      <td>NaN</td>\n",
       "      <td>NaN</td>\n",
       "      <td>http://www.properati.com.ar/1b6j4_venta_depart...</td>\n",
       "      <td>Departamento de 1 DormitorioCocinaBañoBalcónEq...</td>\n",
       "      <td>Departamento de 1 Dormitorio en el corazón de ...</td>\n",
       "      <td>https://thumbs4.properati.com/5/ttVIwEyuaaj6It...</td>\n",
       "    </tr>\n",
       "  </tbody>\n",
       "</table>\n",
       "<p>10 rows × 26 columns</p>\n",
       "</div>"
      ],
      "text/plain": [
       "        Unnamed: 0 operation property_type         place_name  \\\n",
       "4423          4423      sell            PH      Mar del Plata   \n",
       "113890      113890      sell     apartment            Caseros   \n",
       "26079        26079      sell     apartment            Rosario   \n",
       "74655        74655      sell     apartment              Haedo   \n",
       "12546        12546      sell         house          Ituzaingó   \n",
       "39164        39164      sell            PH      Mar del Plata   \n",
       "79553        79553      sell     apartment            Almagro   \n",
       "93596        93596      sell         house  Haras Santa Maria   \n",
       "105629      105629      sell         house           Nordelta   \n",
       "87877        87877      sell     apartment            Córdoba   \n",
       "\n",
       "                                  place_with_parent_names country_name  \\\n",
       "4423    |Argentina|Buenos Aires Costa Atlántica|Mar de...    Argentina   \n",
       "113890  |Argentina|Bs.As. G.B.A. Zona Oeste|Tres de Fe...    Argentina   \n",
       "26079                        |Argentina|Santa Fe|Rosario|    Argentina   \n",
       "74655    |Argentina|Bs.As. G.B.A. Zona Oeste|Morón|Haedo|    Argentina   \n",
       "12546      |Argentina|Bs.As. G.B.A. Zona Oeste|Ituzaingó|    Argentina   \n",
       "39164   |Argentina|Buenos Aires Costa Atlántica|Mar de...    Argentina   \n",
       "79553                 |Argentina|Capital Federal|Almagro|    Argentina   \n",
       "93596   |Argentina|Bs.As. G.B.A. Zona Norte|Escobar|Ha...    Argentina   \n",
       "105629  |Argentina|Bs.As. G.B.A. Zona Norte|Tigre|Nord...    Argentina   \n",
       "87877                                 |Argentina|Córdoba|    Argentina   \n",
       "\n",
       "                          state_name  geonames_id  \\\n",
       "4423    Buenos Aires Costa Atlántica    3430863.0   \n",
       "113890      Bs.As. G.B.A. Zona Oeste    3862356.0   \n",
       "26079                       Santa Fe    3838574.0   \n",
       "74655       Bs.As. G.B.A. Zona Oeste          NaN   \n",
       "12546       Bs.As. G.B.A. Zona Oeste    3433359.0   \n",
       "39164   Buenos Aires Costa Atlántica    3430863.0   \n",
       "79553                Capital Federal    3436397.0   \n",
       "93596       Bs.As. G.B.A. Zona Norte          NaN   \n",
       "105629      Bs.As. G.B.A. Zona Norte          NaN   \n",
       "87877                        Córdoba    3860255.0   \n",
       "\n",
       "                              lat-lon        lat  ...  surface_covered_in_m2  \\\n",
       "4423           -38.0166869,-57.570879 -38.016687  ...                   65.0   \n",
       "113890        -34.6068156,-58.5692826 -34.606816  ...                   45.0   \n",
       "26079         -32.9387556,-60.6576955 -32.938756  ...                   31.0   \n",
       "74655                             NaN        NaN  ...                   45.0   \n",
       "12546         -34.6558182,-58.6825274 -34.655818  ...                  140.0   \n",
       "39164          -38.011269,-57.5437023 -38.011269  ...                  110.0   \n",
       "79553   -34.6213482616,-58.4203806533 -34.621348  ...                   35.0   \n",
       "93596                             NaN        NaN  ...                  247.0   \n",
       "105629                            NaN        NaN  ...                    NaN   \n",
       "87877                             NaN        NaN  ...                   44.0   \n",
       "\n",
       "        price_usd_per_m2  price_per_m2  floor  rooms  expenses  \\\n",
       "4423                 NaN   1230.769231    NaN    2.0       NaN   \n",
       "113890       1560.000000   1733.333333    NaN    NaN       NaN   \n",
       "26079       37096.774194  37096.774194    NaN    1.0       NaN   \n",
       "74655                NaN   1644.444444    NaN    NaN       NaN   \n",
       "12546         447.368421   1214.285714    NaN    NaN       NaN   \n",
       "39164                NaN           NaN    NaN    4.0       NaN   \n",
       "79553        1945.945946   2057.142857    NaN    NaN       NaN   \n",
       "93596                NaN   1295.546559    NaN    NaN       NaN   \n",
       "105629       1936.842105           NaN    NaN    NaN       NaN   \n",
       "87877        1231.641373  25454.545455    NaN    NaN       NaN   \n",
       "\n",
       "                                            properati_url  \\\n",
       "4423    http://www.properati.com.ar/15mtf_venta_ph_mar...   \n",
       "113890  http://www.properati.com.ar/1c922_venta_depart...   \n",
       "26079   http://www.properati.com.ar/17qqc_venta_depart...   \n",
       "74655   http://www.properati.com.ar/1ap9k_venta_depart...   \n",
       "12546   http://www.properati.com.ar/16m7o_venta_casa_i...   \n",
       "39164   http://www.properati.com.ar/18n1j_venta_ph_mar...   \n",
       "79553   http://www.properati.com.ar/1avp2_venta_depart...   \n",
       "93596   http://www.properati.com.ar/1bee6_venta_casa_h...   \n",
       "105629  http://www.properati.com.ar/1bv02_venta_casa_n...   \n",
       "87877   http://www.properati.com.ar/1b6j4_venta_depart...   \n",
       "\n",
       "                                              description  \\\n",
       "4423    Ph de 2 ambientes al fondo - primer piso - coc...   \n",
       "113890  DEPARTAMENTO 2 AMBIENTES AL FRENTE APTO CREDIT...   \n",
       "26079   1119-MC087: Rosario: Rodriguez 449 Studio VIII...   \n",
       "74655   Departamento 3 Amb al frente Planta BajaUbicac...   \n",
       "12546   CODIGO: 3044-224 ubicado en: Ombú 1000 -  Publ...   \n",
       "39164   ACEPTA PERMUTA POR CHALET ZONA NORTE o SUR - Y...   \n",
       "79553   VENTA DEPARTAMENTO 1 AMBIENTE EN ALMAGRODepart...   \n",
       "93596   Haras de Santa Maria Los eucaliptus u$s320.000...   \n",
       "105629  Muy linda casa moderna con 3 dormitorios + esc...   \n",
       "87877   Departamento de 1 DormitorioCocinaBañoBalcónEq...   \n",
       "\n",
       "                                                    title  \\\n",
       "4423           PH en Venta. Ambientes. Dormitorio. 65 m2c   \n",
       "113890                    DPTO 2 AMB MUY LUMINOSO CASEROS   \n",
       "26079     Monoambiente en venta en Rosario: Rodriguez 449   \n",
       "74655                          Departamento - Haedo Norte   \n",
       "12546   Chalet de 5 ambientes en venta directa en Ituz...   \n",
       "39164   CHALET EN PH 4 AMB. EN 1º PISO - APTO PROFESIO...   \n",
       "79553            VENTA DEPARTAMENTO 1 AMBIENTE EN ALMAGRO   \n",
       "93596                            Casa - Haras Santa Maria   \n",
       "105629                                       Casa - Tipas   \n",
       "87877   Departamento de 1 Dormitorio en el corazón de ...   \n",
       "\n",
       "                                          image_thumbnail  \n",
       "4423    https://thumbs4.properati.com/6/azzFtH7wALDxOM...  \n",
       "113890  https://thumbs4.properati.com/3/SiXcroE1pWuprl...  \n",
       "26079   https://thumbs4.properati.com/5/tWrhGjo4qJG6ya...  \n",
       "74655   https://thumbs4.properati.com/7/iz0Bu7BJfORr5t...  \n",
       "12546   https://thumbs4.properati.com/6/-Nxq_NpPZhMzPw...  \n",
       "39164   https://thumbs4.properati.com/7/SjJCknfbAna18E...  \n",
       "79553   https://thumbs4.properati.com/0/DLeLIQ39W6twC9...  \n",
       "93596   https://thumbs4.properati.com/2/2IoISwhhRsejkn...  \n",
       "105629  https://thumbs4.properati.com/8/DR4azIb4ucrsWd...  \n",
       "87877   https://thumbs4.properati.com/5/ttVIwEyuaaj6It...  \n",
       "\n",
       "[10 rows x 26 columns]"
      ]
     },
     "execution_count": 236,
     "metadata": {},
     "output_type": "execute_result"
    }
   ],
   "source": [
    "print(data.shape)\n",
    "data.sample(10)"
   ]
  },
  {
   "cell_type": "code",
   "execution_count": 237,
   "metadata": {},
   "outputs": [
    {
     "data": {
      "text/plain": [
       "sell    121220\n",
       "Name: operation, dtype: int64"
      ]
     },
     "execution_count": 237,
     "metadata": {},
     "output_type": "execute_result"
    }
   ],
   "source": [
    "data.operation.value_counts()"
   ]
  },
  {
   "cell_type": "markdown",
   "metadata": {},
   "source": [
    "Analizamos el tipo de datos de cada columna e información sobre la distribución de los datos:"
   ]
  },
  {
   "cell_type": "code",
   "execution_count": 238,
   "metadata": {},
   "outputs": [
    {
     "data": {
      "text/plain": [
       "Unnamed: 0                      int64\n",
       "operation                      object\n",
       "property_type                  object\n",
       "place_name                     object\n",
       "place_with_parent_names        object\n",
       "country_name                   object\n",
       "state_name                     object\n",
       "geonames_id                   float64\n",
       "lat-lon                        object\n",
       "lat                           float64\n",
       "lon                           float64\n",
       "price                         float64\n",
       "currency                       object\n",
       "price_aprox_local_currency    float64\n",
       "price_aprox_usd               float64\n",
       "surface_total_in_m2           float64\n",
       "surface_covered_in_m2         float64\n",
       "price_usd_per_m2              float64\n",
       "price_per_m2                  float64\n",
       "floor                         float64\n",
       "rooms                         float64\n",
       "expenses                      float64\n",
       "properati_url                  object\n",
       "description                    object\n",
       "title                          object\n",
       "image_thumbnail                object\n",
       "dtype: object"
      ]
     },
     "execution_count": 238,
     "metadata": {},
     "output_type": "execute_result"
    }
   ],
   "source": [
    "data.dtypes"
   ]
  },
  {
   "cell_type": "code",
   "execution_count": 239,
   "metadata": {},
   "outputs": [
    {
     "data": {
      "text/html": [
       "<div>\n",
       "<style scoped>\n",
       "    .dataframe tbody tr th:only-of-type {\n",
       "        vertical-align: middle;\n",
       "    }\n",
       "\n",
       "    .dataframe tbody tr th {\n",
       "        vertical-align: top;\n",
       "    }\n",
       "\n",
       "    .dataframe thead th {\n",
       "        text-align: right;\n",
       "    }\n",
       "</style>\n",
       "<table border=\"1\" class=\"dataframe\">\n",
       "  <thead>\n",
       "    <tr style=\"text-align: right;\">\n",
       "      <th></th>\n",
       "      <th>Unnamed: 0</th>\n",
       "      <th>geonames_id</th>\n",
       "      <th>lat</th>\n",
       "      <th>lon</th>\n",
       "      <th>price</th>\n",
       "      <th>price_aprox_local_currency</th>\n",
       "      <th>price_aprox_usd</th>\n",
       "      <th>surface_total_in_m2</th>\n",
       "      <th>surface_covered_in_m2</th>\n",
       "      <th>price_usd_per_m2</th>\n",
       "      <th>price_per_m2</th>\n",
       "      <th>floor</th>\n",
       "      <th>rooms</th>\n",
       "      <th>expenses</th>\n",
       "    </tr>\n",
       "  </thead>\n",
       "  <tbody>\n",
       "    <tr>\n",
       "      <th>count</th>\n",
       "      <td>121220.000000</td>\n",
       "      <td>1.025030e+05</td>\n",
       "      <td>69670.000000</td>\n",
       "      <td>69670.000000</td>\n",
       "      <td>1.008100e+05</td>\n",
       "      <td>1.008100e+05</td>\n",
       "      <td>1.008100e+05</td>\n",
       "      <td>81892.000000</td>\n",
       "      <td>101313.000000</td>\n",
       "      <td>68617.000000</td>\n",
       "      <td>8.765800e+04</td>\n",
       "      <td>7899.000000</td>\n",
       "      <td>47390.000000</td>\n",
       "      <td>1.426200e+04</td>\n",
       "    </tr>\n",
       "    <tr>\n",
       "      <th>mean</th>\n",
       "      <td>60609.500000</td>\n",
       "      <td>3.574442e+06</td>\n",
       "      <td>-34.626210</td>\n",
       "      <td>-59.266290</td>\n",
       "      <td>4.685259e+05</td>\n",
       "      <td>4.229397e+06</td>\n",
       "      <td>2.397006e+05</td>\n",
       "      <td>233.795328</td>\n",
       "      <td>133.050181</td>\n",
       "      <td>2160.086916</td>\n",
       "      <td>6.912216e+03</td>\n",
       "      <td>17.452336</td>\n",
       "      <td>3.080840</td>\n",
       "      <td>5.009234e+03</td>\n",
       "    </tr>\n",
       "    <tr>\n",
       "      <th>std</th>\n",
       "      <td>34993.344153</td>\n",
       "      <td>3.541306e+05</td>\n",
       "      <td>1.980936</td>\n",
       "      <td>2.299922</td>\n",
       "      <td>2.260101e+06</td>\n",
       "      <td>6.904714e+06</td>\n",
       "      <td>3.913239e+05</td>\n",
       "      <td>1782.222147</td>\n",
       "      <td>724.351479</td>\n",
       "      <td>2759.288621</td>\n",
       "      <td>2.837864e+04</td>\n",
       "      <td>120.243621</td>\n",
       "      <td>1.860773</td>\n",
       "      <td>1.204403e+05</td>\n",
       "    </tr>\n",
       "    <tr>\n",
       "      <th>min</th>\n",
       "      <td>0.000000</td>\n",
       "      <td>3.427208e+06</td>\n",
       "      <td>-54.823985</td>\n",
       "      <td>-75.678931</td>\n",
       "      <td>0.000000e+00</td>\n",
       "      <td>0.000000e+00</td>\n",
       "      <td>0.000000e+00</td>\n",
       "      <td>0.000000</td>\n",
       "      <td>0.000000</td>\n",
       "      <td>0.600000</td>\n",
       "      <td>1.510204e+00</td>\n",
       "      <td>1.000000</td>\n",
       "      <td>1.000000</td>\n",
       "      <td>1.000000e+00</td>\n",
       "    </tr>\n",
       "    <tr>\n",
       "      <th>25%</th>\n",
       "      <td>30304.750000</td>\n",
       "      <td>3.430234e+06</td>\n",
       "      <td>-34.669065</td>\n",
       "      <td>-58.727040</td>\n",
       "      <td>1.100000e+05</td>\n",
       "      <td>1.583309e+06</td>\n",
       "      <td>8.973388e+04</td>\n",
       "      <td>50.000000</td>\n",
       "      <td>45.000000</td>\n",
       "      <td>1218.181818</td>\n",
       "      <td>1.550000e+03</td>\n",
       "      <td>1.000000</td>\n",
       "      <td>2.000000</td>\n",
       "      <td>1.000000e+03</td>\n",
       "    </tr>\n",
       "    <tr>\n",
       "      <th>50%</th>\n",
       "      <td>60609.500000</td>\n",
       "      <td>3.433910e+06</td>\n",
       "      <td>-34.597985</td>\n",
       "      <td>-58.480128</td>\n",
       "      <td>1.850000e+05</td>\n",
       "      <td>2.558452e+06</td>\n",
       "      <td>1.450000e+05</td>\n",
       "      <td>84.000000</td>\n",
       "      <td>75.000000</td>\n",
       "      <td>1800.000000</td>\n",
       "      <td>2.213115e+03</td>\n",
       "      <td>3.000000</td>\n",
       "      <td>3.000000</td>\n",
       "      <td>2.000000e+03</td>\n",
       "    </tr>\n",
       "    <tr>\n",
       "      <th>75%</th>\n",
       "      <td>90914.250000</td>\n",
       "      <td>3.836668e+06</td>\n",
       "      <td>-34.441299</td>\n",
       "      <td>-58.395908</td>\n",
       "      <td>4.200000e+05</td>\n",
       "      <td>4.675792e+06</td>\n",
       "      <td>2.650000e+05</td>\n",
       "      <td>200.000000</td>\n",
       "      <td>150.000000</td>\n",
       "      <td>2486.411765</td>\n",
       "      <td>3.355549e+03</td>\n",
       "      <td>6.000000</td>\n",
       "      <td>4.000000</td>\n",
       "      <td>4.000000e+03</td>\n",
       "    </tr>\n",
       "    <tr>\n",
       "      <th>max</th>\n",
       "      <td>121219.000000</td>\n",
       "      <td>6.948895e+06</td>\n",
       "      <td>4.545843</td>\n",
       "      <td>-53.733330</td>\n",
       "      <td>6.500000e+08</td>\n",
       "      <td>8.212711e+08</td>\n",
       "      <td>4.654544e+07</td>\n",
       "      <td>200000.000000</td>\n",
       "      <td>187000.000000</td>\n",
       "      <td>206333.333333</td>\n",
       "      <td>4.000000e+06</td>\n",
       "      <td>3150.000000</td>\n",
       "      <td>32.000000</td>\n",
       "      <td>1.000150e+07</td>\n",
       "    </tr>\n",
       "  </tbody>\n",
       "</table>\n",
       "</div>"
      ],
      "text/plain": [
       "          Unnamed: 0   geonames_id           lat           lon         price  \\\n",
       "count  121220.000000  1.025030e+05  69670.000000  69670.000000  1.008100e+05   \n",
       "mean    60609.500000  3.574442e+06    -34.626210    -59.266290  4.685259e+05   \n",
       "std     34993.344153  3.541306e+05      1.980936      2.299922  2.260101e+06   \n",
       "min         0.000000  3.427208e+06    -54.823985    -75.678931  0.000000e+00   \n",
       "25%     30304.750000  3.430234e+06    -34.669065    -58.727040  1.100000e+05   \n",
       "50%     60609.500000  3.433910e+06    -34.597985    -58.480128  1.850000e+05   \n",
       "75%     90914.250000  3.836668e+06    -34.441299    -58.395908  4.200000e+05   \n",
       "max    121219.000000  6.948895e+06      4.545843    -53.733330  6.500000e+08   \n",
       "\n",
       "       price_aprox_local_currency  price_aprox_usd  surface_total_in_m2  \\\n",
       "count                1.008100e+05     1.008100e+05         81892.000000   \n",
       "mean                 4.229397e+06     2.397006e+05           233.795328   \n",
       "std                  6.904714e+06     3.913239e+05          1782.222147   \n",
       "min                  0.000000e+00     0.000000e+00             0.000000   \n",
       "25%                  1.583309e+06     8.973388e+04            50.000000   \n",
       "50%                  2.558452e+06     1.450000e+05            84.000000   \n",
       "75%                  4.675792e+06     2.650000e+05           200.000000   \n",
       "max                  8.212711e+08     4.654544e+07        200000.000000   \n",
       "\n",
       "       surface_covered_in_m2  price_usd_per_m2  price_per_m2        floor  \\\n",
       "count          101313.000000      68617.000000  8.765800e+04  7899.000000   \n",
       "mean              133.050181       2160.086916  6.912216e+03    17.452336   \n",
       "std               724.351479       2759.288621  2.837864e+04   120.243621   \n",
       "min                 0.000000          0.600000  1.510204e+00     1.000000   \n",
       "25%                45.000000       1218.181818  1.550000e+03     1.000000   \n",
       "50%                75.000000       1800.000000  2.213115e+03     3.000000   \n",
       "75%               150.000000       2486.411765  3.355549e+03     6.000000   \n",
       "max            187000.000000     206333.333333  4.000000e+06  3150.000000   \n",
       "\n",
       "              rooms      expenses  \n",
       "count  47390.000000  1.426200e+04  \n",
       "mean       3.080840  5.009234e+03  \n",
       "std        1.860773  1.204403e+05  \n",
       "min        1.000000  1.000000e+00  \n",
       "25%        2.000000  1.000000e+03  \n",
       "50%        3.000000  2.000000e+03  \n",
       "75%        4.000000  4.000000e+03  \n",
       "max       32.000000  1.000150e+07  "
      ]
     },
     "execution_count": 239,
     "metadata": {},
     "output_type": "execute_result"
    }
   ],
   "source": [
    "data.describe()"
   ]
  },
  {
   "cell_type": "markdown",
   "metadata": {},
   "source": [
    "Por último, analizamos la cantidad y el porcentaje de valores nulos por columna."
   ]
  },
  {
   "cell_type": "code",
   "execution_count": 240,
   "metadata": {},
   "outputs": [
    {
     "name": "stdout",
     "output_type": "stream",
     "text": [
      "Cantidad de nulos por columna:\n",
      "Unnamed: 0                         0\n",
      "operation                          0\n",
      "property_type                      0\n",
      "place_name                        23\n",
      "place_with_parent_names            0\n",
      "country_name                       0\n",
      "state_name                         0\n",
      "geonames_id                    18717\n",
      "lat-lon                        51550\n",
      "lat                            51550\n",
      "lon                            51550\n",
      "price                          20410\n",
      "currency                       20411\n",
      "price_aprox_local_currency     20410\n",
      "price_aprox_usd                20410\n",
      "surface_total_in_m2            39328\n",
      "surface_covered_in_m2          19907\n",
      "price_usd_per_m2               52603\n",
      "price_per_m2                   33562\n",
      "floor                         113321\n",
      "rooms                          73830\n",
      "expenses                      106958\n",
      "properati_url                      0\n",
      "description                        2\n",
      "title                              0\n",
      "image_thumbnail                 3112\n",
      "dtype: int64\n",
      "----------------------------------\n",
      "Porcentaje de nulos por columna:\n"
     ]
    },
    {
     "data": {
      "text/plain": [
       "Unnamed: 0                     0.00\n",
       "operation                      0.00\n",
       "property_type                  0.00\n",
       "place_with_parent_names        0.00\n",
       "country_name                   0.00\n",
       "state_name                     0.00\n",
       "description                    0.00\n",
       "properati_url                  0.00\n",
       "title                          0.00\n",
       "place_name                     0.02\n",
       "image_thumbnail                2.57\n",
       "geonames_id                   15.44\n",
       "surface_covered_in_m2         16.42\n",
       "price                         16.84\n",
       "price_aprox_local_currency    16.84\n",
       "price_aprox_usd               16.84\n",
       "currency                      16.84\n",
       "price_per_m2                  27.69\n",
       "surface_total_in_m2           32.44\n",
       "lat                           42.53\n",
       "lat-lon                       42.53\n",
       "lon                           42.53\n",
       "price_usd_per_m2              43.39\n",
       "rooms                         60.91\n",
       "expenses                      88.23\n",
       "floor                         93.48\n",
       "dtype: float64"
      ]
     },
     "execution_count": 240,
     "metadata": {},
     "output_type": "execute_result"
    }
   ],
   "source": [
    "print(\"Cantidad de nulos por columna:\")\n",
    "print(data.isnull().sum())\n",
    "print(\"----------------------------------\")\n",
    "print(\"Porcentaje de nulos por columna:\")\n",
    "((data.isnull().sum()/data.shape[0]*100).round(2)).sort_values()"
   ]
  },
  {
   "cell_type": "markdown",
   "metadata": {},
   "source": [
    "#### CONCLUSIONES PRELIMINARES 📌"
   ]
  },
  {
   "cell_type": "markdown",
   "metadata": {},
   "source": [
    "Tenemos un dataset con 121220 registros y 26 variables.\n",
    "\n",
    "De las 26 variables:\n",
    "    \n",
    "   * 10 variables no contienen nulos\n",
    "   * 7 variables tienen menos del 20% de nulos\n",
    "   * 6 variables contienen entre 20% y 50% de nulos\n",
    "   * 3 variables contienen más de 50% de nulos (dos de ellas por encima del 85%)\n",
    "    \n",
    "Luego de este primer análisis, decidimos prescindir de columnas que no tienen valor para el futuro modelo de predicción. Serán eliminadas posteriormente a la hora de definir el dataset final. \n",
    "\n",
    "   * *Unnamed: 0*: su valor es idéntico al del index. \n",
    "   * *Operation*: su único valor es \"sell\", por lo que todos los registros refieren a ventas de una propiedad.\n",
    "   * *place_with_parent_names*: su función es concatenar valores de *country_name, *place_name* y *state_name*. Por lo tanto esa información esta presentre en otras columnas y en un formato más útil para trabajar.\n",
    "   * *country_name*: su único valor es Argentina, por lo que podemos trabajar bajo el supuesto de que todas las ventas ocurrieron en ese país.\n",
    "   * *properati_url*: no contiene información relevante.\n",
    "   * *image_thumbnail*: no contiene información relevante.\n",
    "   * *expenses*: contiene un porcentaje muy alto de nulos. \n",
    "   \n",
    "      \n",
    "Con las variables restantes, de acuerdo a la información que contienen, decidimos agruparlas en \"secciones\" para trabajarlas mejor: \n",
    "\n",
    "1. Columnas relativas a la ubicación geográfica de la propiedad\n",
    "2. Columnas con información descriptiva sobre la propiedad\n",
    "3. Columnas referidas al valor de la propiedad.\n",
    "    \n"
   ]
  },
  {
   "cell_type": "markdown",
   "metadata": {},
   "source": [
    "## SECCIÓN 1 - COLUMNAS GEOGRÁFICAS\n",
    "----------------\n",
    "\n",
    "1. place_name\n",
    "2. geonames_id\n",
    "3. lat\n",
    "4. lon\n",
    "5. lat-lon\n"
   ]
  },
  {
   "cell_type": "markdown",
   "metadata": {},
   "source": [
    "Armamos un df reducido las columnas de interés para esta sección."
   ]
  },
  {
   "cell_type": "code",
   "execution_count": 241,
   "metadata": {},
   "outputs": [
    {
     "data": {
      "text/html": [
       "<div>\n",
       "<style scoped>\n",
       "    .dataframe tbody tr th:only-of-type {\n",
       "        vertical-align: middle;\n",
       "    }\n",
       "\n",
       "    .dataframe tbody tr th {\n",
       "        vertical-align: top;\n",
       "    }\n",
       "\n",
       "    .dataframe thead th {\n",
       "        text-align: right;\n",
       "    }\n",
       "</style>\n",
       "<table border=\"1\" class=\"dataframe\">\n",
       "  <thead>\n",
       "    <tr style=\"text-align: right;\">\n",
       "      <th></th>\n",
       "      <th>geonames_id</th>\n",
       "      <th>lat</th>\n",
       "      <th>lon</th>\n",
       "      <th>lat-lon</th>\n",
       "    </tr>\n",
       "  </thead>\n",
       "  <tbody>\n",
       "    <tr>\n",
       "      <th>0</th>\n",
       "      <td>3430787.0</td>\n",
       "      <td>-34.661824</td>\n",
       "      <td>-58.508839</td>\n",
       "      <td>-34.6618237,-58.5088387</td>\n",
       "    </tr>\n",
       "    <tr>\n",
       "      <th>1</th>\n",
       "      <td>3432039.0</td>\n",
       "      <td>-34.903883</td>\n",
       "      <td>-57.964330</td>\n",
       "      <td>-34.9038831,-57.9643295</td>\n",
       "    </tr>\n",
       "    <tr>\n",
       "      <th>2</th>\n",
       "      <td>3430787.0</td>\n",
       "      <td>-34.652262</td>\n",
       "      <td>-58.522982</td>\n",
       "      <td>-34.6522615,-58.5229825</td>\n",
       "    </tr>\n",
       "    <tr>\n",
       "      <th>3</th>\n",
       "      <td>3431333.0</td>\n",
       "      <td>-34.647797</td>\n",
       "      <td>-58.516424</td>\n",
       "      <td>-34.6477969,-58.5164244</td>\n",
       "    </tr>\n",
       "    <tr>\n",
       "      <th>4</th>\n",
       "      <td>3435548.0</td>\n",
       "      <td>-38.002626</td>\n",
       "      <td>-57.549447</td>\n",
       "      <td>-38.0026256,-57.5494468</td>\n",
       "    </tr>\n",
       "  </tbody>\n",
       "</table>\n",
       "</div>"
      ],
      "text/plain": [
       "   geonames_id        lat        lon                  lat-lon\n",
       "0    3430787.0 -34.661824 -58.508839  -34.6618237,-58.5088387\n",
       "1    3432039.0 -34.903883 -57.964330  -34.9038831,-57.9643295\n",
       "2    3430787.0 -34.652262 -58.522982  -34.6522615,-58.5229825\n",
       "3    3431333.0 -34.647797 -58.516424  -34.6477969,-58.5164244\n",
       "4    3435548.0 -38.002626 -57.549447  -38.0026256,-57.5494468"
      ]
     },
     "execution_count": 241,
     "metadata": {},
     "output_type": "execute_result"
    }
   ],
   "source": [
    "data_geo = data[[\"geonames_id\",\"lat\",\"lon\",\"lat-lon\"]]\n",
    "data_geo.head(5)"
   ]
  },
  {
   "cell_type": "markdown",
   "metadata": {},
   "source": [
    "**Tipos de las columnas**. Hay 3 en formato numérico, y 1 de tipo *object*, que combina los datos de latitud y longitud."
   ]
  },
  {
   "cell_type": "code",
   "execution_count": 242,
   "metadata": {},
   "outputs": [
    {
     "name": "stdout",
     "output_type": "stream",
     "text": [
      "geonames_id    float64\n",
      "lat            float64\n",
      "lon            float64\n",
      "lat-lon         object\n",
      "dtype: object\n",
      "(121220, 4)\n"
     ]
    }
   ],
   "source": [
    "print(data_geo.dtypes)\n",
    "print(data_geo.shape)"
   ]
  },
  {
   "cell_type": "markdown",
   "metadata": {},
   "source": [
    "**Porcentaje de nulos**.\n",
    "La columna *geonames_id* tiene un % sensiblemente menor de nulos que las otras 3 columnas. \n",
    "Las columnas *lat-lon*, *lat* y *lon*, además de tener un % alto (42,5), tienen la misma cantidad de nulos."
   ]
  },
  {
   "cell_type": "code",
   "execution_count": 243,
   "metadata": {},
   "outputs": [
    {
     "name": "stdout",
     "output_type": "stream",
     "text": [
      "Cantidad de nulos por columna:\n",
      "geonames_id    18717\n",
      "lat            51550\n",
      "lon            51550\n",
      "lat-lon        51550\n",
      "dtype: int64\n",
      "------------------------\n",
      "Porcentaje de nulos por columna:\n"
     ]
    },
    {
     "data": {
      "text/plain": [
       "lat            42.53\n",
       "lon            42.53\n",
       "lat-lon        42.53\n",
       "geonames_id    15.44\n",
       "dtype: float64"
      ]
     },
     "execution_count": 243,
     "metadata": {},
     "output_type": "execute_result"
    }
   ],
   "source": [
    "print(\"Cantidad de nulos por columna:\")\n",
    "print(data_geo.isnull().sum())\n",
    "print(\"------------------------\")\n",
    "print(\"Porcentaje de nulos por columna:\")\n",
    "porc_nulos = (data_geo.isnull().sum() / data_geo.shape[0] *100).round(2)\n",
    "porc_nulos.sort_values(ascending=False)"
   ]
  },
  {
   "cell_type": "markdown",
   "metadata": {},
   "source": [
    "---"
   ]
  },
  {
   "cell_type": "markdown",
   "metadata": {},
   "source": [
    "#### SECCION 1.1 - LAT, LON, LAT-LON\n"
   ]
  },
  {
   "cell_type": "markdown",
   "metadata": {},
   "source": [
    " #### ANÁLISIS 🔎"
   ]
  },
  {
   "cell_type": "markdown",
   "metadata": {},
   "source": [
    "\n",
    "Presumiblemente, los nulos corresponden a las mismas filas y por lo tanto no podemos recuperar información entre ellas.\n",
    "\n",
    "\n",
    "Para comprobar esto, creamos un nuevo df con los nulos en la variable \"lat\", que contiene las 3 columnas de interés."
   ]
  },
  {
   "cell_type": "code",
   "execution_count": 244,
   "metadata": {},
   "outputs": [
    {
     "data": {
      "text/html": [
       "<div>\n",
       "<style scoped>\n",
       "    .dataframe tbody tr th:only-of-type {\n",
       "        vertical-align: middle;\n",
       "    }\n",
       "\n",
       "    .dataframe tbody tr th {\n",
       "        vertical-align: top;\n",
       "    }\n",
       "\n",
       "    .dataframe thead th {\n",
       "        text-align: right;\n",
       "    }\n",
       "</style>\n",
       "<table border=\"1\" class=\"dataframe\">\n",
       "  <thead>\n",
       "    <tr style=\"text-align: right;\">\n",
       "      <th></th>\n",
       "      <th>lat</th>\n",
       "      <th>lon</th>\n",
       "      <th>lat-lon</th>\n",
       "    </tr>\n",
       "  </thead>\n",
       "  <tbody>\n",
       "    <tr>\n",
       "      <th>13</th>\n",
       "      <td>NaN</td>\n",
       "      <td>NaN</td>\n",
       "      <td>NaN</td>\n",
       "    </tr>\n",
       "    <tr>\n",
       "      <th>14</th>\n",
       "      <td>NaN</td>\n",
       "      <td>NaN</td>\n",
       "      <td>NaN</td>\n",
       "    </tr>\n",
       "    <tr>\n",
       "      <th>23</th>\n",
       "      <td>NaN</td>\n",
       "      <td>NaN</td>\n",
       "      <td>NaN</td>\n",
       "    </tr>\n",
       "    <tr>\n",
       "      <th>42</th>\n",
       "      <td>NaN</td>\n",
       "      <td>NaN</td>\n",
       "      <td>NaN</td>\n",
       "    </tr>\n",
       "    <tr>\n",
       "      <th>49</th>\n",
       "      <td>NaN</td>\n",
       "      <td>NaN</td>\n",
       "      <td>NaN</td>\n",
       "    </tr>\n",
       "    <tr>\n",
       "      <th>...</th>\n",
       "      <td>...</td>\n",
       "      <td>...</td>\n",
       "      <td>...</td>\n",
       "    </tr>\n",
       "    <tr>\n",
       "      <th>121214</th>\n",
       "      <td>NaN</td>\n",
       "      <td>NaN</td>\n",
       "      <td>NaN</td>\n",
       "    </tr>\n",
       "    <tr>\n",
       "      <th>121215</th>\n",
       "      <td>NaN</td>\n",
       "      <td>NaN</td>\n",
       "      <td>NaN</td>\n",
       "    </tr>\n",
       "    <tr>\n",
       "      <th>121216</th>\n",
       "      <td>NaN</td>\n",
       "      <td>NaN</td>\n",
       "      <td>NaN</td>\n",
       "    </tr>\n",
       "    <tr>\n",
       "      <th>121218</th>\n",
       "      <td>NaN</td>\n",
       "      <td>NaN</td>\n",
       "      <td>NaN</td>\n",
       "    </tr>\n",
       "    <tr>\n",
       "      <th>121219</th>\n",
       "      <td>NaN</td>\n",
       "      <td>NaN</td>\n",
       "      <td>NaN</td>\n",
       "    </tr>\n",
       "  </tbody>\n",
       "</table>\n",
       "<p>51550 rows × 3 columns</p>\n",
       "</div>"
      ],
      "text/plain": [
       "        lat  lon lat-lon\n",
       "13      NaN  NaN     NaN\n",
       "14      NaN  NaN     NaN\n",
       "23      NaN  NaN     NaN\n",
       "42      NaN  NaN     NaN\n",
       "49      NaN  NaN     NaN\n",
       "...     ...  ...     ...\n",
       "121214  NaN  NaN     NaN\n",
       "121215  NaN  NaN     NaN\n",
       "121216  NaN  NaN     NaN\n",
       "121218  NaN  NaN     NaN\n",
       "121219  NaN  NaN     NaN\n",
       "\n",
       "[51550 rows x 3 columns]"
      ]
     },
     "execution_count": 244,
     "metadata": {},
     "output_type": "execute_result"
    }
   ],
   "source": [
    "mask_lat_null = data_geo[\"lat\"].isnull()\n",
    "lat_null = data_geo.loc[mask_lat_null,[\"lat\",\"lon\",\"lat-lon\"]]\n",
    "lat_null"
   ]
  },
  {
   "cell_type": "markdown",
   "metadata": {},
   "source": [
    "Luego miramos la cantidad de nulos de ese df, pero sobre el axis 1, es decir, las filas. \n",
    "Al contar los valores, vemos que para todas las filas (51550) nos devuelve 3 nulos por fila. Por lo tanto, todos los nulos en *lat* son también nulos en *lon* y en *lat-lon*:"
   ]
  },
  {
   "cell_type": "code",
   "execution_count": 245,
   "metadata": {},
   "outputs": [
    {
     "name": "stdout",
     "output_type": "stream",
     "text": [
      "3    51550\n",
      "dtype: int64\n"
     ]
    }
   ],
   "source": [
    "cant_nulos_xfila = lat_null.isnull().sum(axis=1)\n",
    "print(cant_nulos_xfila.value_counts())"
   ]
  },
  {
   "cell_type": "markdown",
   "metadata": {},
   "source": [
    "Otra manera de comprobar esto es utilizando el método .equals para comparar las series."
   ]
  },
  {
   "cell_type": "code",
   "execution_count": 246,
   "metadata": {},
   "outputs": [
    {
     "name": "stdout",
     "output_type": "stream",
     "text": [
      "¿'lat' y 'lon' son iguales? True\n"
     ]
    }
   ],
   "source": [
    "print(\"¿'lat' y 'lon' son iguales?\", lat_null[\"lat\"].equals(lat_null[\"lon\"])) #en .equals, los nulos ubicados en la misma posición son considerados iguales. "
   ]
  },
  {
   "cell_type": "code",
   "execution_count": 247,
   "metadata": {},
   "outputs": [
    {
     "name": "stdout",
     "output_type": "stream",
     "text": [
      "¿'lat' y 'lat-lon' son iguales? True\n"
     ]
    }
   ],
   "source": [
    "lat_null[\"lat_object\"] = lat_null[\"lat\"].astype(\"object\") #creamos una nueva col \"lat_object\" ccambiendole el tipo a \"lat\" para poder aplicar la comparación con \"lat-lon\"\n",
    "print(\"¿'lat' y 'lat-lon' son iguales?\", lat_null[\"lat_object\"].equals(lat_null[\"lat-lon\"]))"
   ]
  },
  {
   "cell_type": "markdown",
   "metadata": {},
   "source": [
    "✔️ Demostramos que las 3 columnas son iguales entre sí. "
   ]
  },
  {
   "cell_type": "code",
   "execution_count": 248,
   "metadata": {},
   "outputs": [],
   "source": [
    "#data.description.to_csv(\"description_original\")\n",
    "#data.title.to_csv(\"title_original\")"
   ]
  },
  {
   "cell_type": "markdown",
   "metadata": {},
   "source": [
    "#### CONCLUSIÓN 📌\n",
    "Si bien podrían recuperarse algunos valores (101) aplicando expresiones regulares en la columna *description*, consideramos que la ubicación geográfica exacta del inmueble (valores de latitud y longitud) es un dato muy específico que **no es determinante a la hora de predecir el precio por m2**.\n",
    "\n",
    "Tampoco parece tener sentido intentar alguna estrategia de imputación: no podemos utilizar ninguna medida de tendencia de las columnas porque no serían representativas del punto geográfico, ni tampoco podemos asociar la info de latitud y longitud a la información contenida en otras variables.\n",
    "\n",
    "Por otra parte, la variable precio suele responder a datos más generales como barrio o localidad. Por lo tanto las columnas \"geoname_id\" o \"place_name\"\n",
    "pueden ser mas útiles."
   ]
  },
  {
   "cell_type": "markdown",
   "metadata": {},
   "source": [
    "---"
   ]
  },
  {
   "cell_type": "markdown",
   "metadata": {},
   "source": [
    "#### SECCIÓN 1. 2 - GEONAMES_ID, PLACE_NAME"
   ]
  },
  {
   "cell_type": "markdown",
   "metadata": {},
   "source": [
    " #### ANÁLISIS 🔎"
   ]
  },
  {
   "cell_type": "markdown",
   "metadata": {},
   "source": [
    "Queremos analizar a qué variable/s o criterio geográfico responde la columna *geonames_id*.\n",
    "\n",
    "\n",
    "Creamos un nuevo df agregando otras variables que nos pueden servir para ello, y como como primer paso, analizamos si hay IDs que se repiten. En efecto algunos aparecen con mas frecuencia que otros:"
   ]
  },
  {
   "cell_type": "code",
   "execution_count": 249,
   "metadata": {},
   "outputs": [],
   "source": [
    "data_geonames = data.loc[:,[\"geonames_id\",\"place_name\",\"state_name\",\"country_name\",\"place_with_parent_names\",\"lat\",\"lon\",\"lat-lon\"]]"
   ]
  },
  {
   "cell_type": "code",
   "execution_count": 250,
   "metadata": {},
   "outputs": [
    {
     "name": "stdout",
     "output_type": "stream",
     "text": [
      "Ocurrencia de IDS (sin nulos):\n",
      "3838574.0    8504\n",
      "3860259.0    6606\n",
      "3430863.0    6534\n",
      "3430234.0    3279\n",
      "3436077.0    2992\n",
      "             ... \n",
      "3433325.0       1\n",
      "3432077.0       1\n",
      "3855368.0       1\n",
      "3844759.0       1\n",
      "3430940.0       1\n",
      "Name: geonames_id, Length: 646, dtype: int64\n"
     ]
    }
   ],
   "source": [
    "ocurrencia_ids = data_geonames.geonames_id.value_counts().sort_values(ascending=False)\n",
    "print(\"Ocurrencia de IDS (sin nulos):\")\n",
    "print(ocurrencia_ids)"
   ]
  },
  {
   "cell_type": "markdown",
   "metadata": {},
   "source": [
    "Haciendo un .head() sobre el df nuevo, podemos intuir que *geonames_id* es un valor único asociado a la localidad, dado que observaciones que tienen un mismo *state_name* y *country_name* pero diferente *place_name* (y por lo tanto diferente *place_with_parent_names*) tienen distintos valores para *geonames_id*. \n",
    "Ej: \"Mataderos\" vs \"Liniers\""
   ]
  },
  {
   "cell_type": "code",
   "execution_count": 251,
   "metadata": {},
   "outputs": [
    {
     "data": {
      "text/html": [
       "<div>\n",
       "<style scoped>\n",
       "    .dataframe tbody tr th:only-of-type {\n",
       "        vertical-align: middle;\n",
       "    }\n",
       "\n",
       "    .dataframe tbody tr th {\n",
       "        vertical-align: top;\n",
       "    }\n",
       "\n",
       "    .dataframe thead th {\n",
       "        text-align: right;\n",
       "    }\n",
       "</style>\n",
       "<table border=\"1\" class=\"dataframe\">\n",
       "  <thead>\n",
       "    <tr style=\"text-align: right;\">\n",
       "      <th></th>\n",
       "      <th>geonames_id</th>\n",
       "      <th>place_name</th>\n",
       "      <th>state_name</th>\n",
       "      <th>country_name</th>\n",
       "      <th>place_with_parent_names</th>\n",
       "      <th>lat</th>\n",
       "      <th>lon</th>\n",
       "      <th>lat-lon</th>\n",
       "    </tr>\n",
       "  </thead>\n",
       "  <tbody>\n",
       "    <tr>\n",
       "      <th>0</th>\n",
       "      <td>3430787.0</td>\n",
       "      <td>Mataderos</td>\n",
       "      <td>Capital Federal</td>\n",
       "      <td>Argentina</td>\n",
       "      <td>|Argentina|Capital Federal|Mataderos|</td>\n",
       "      <td>-34.661824</td>\n",
       "      <td>-58.508839</td>\n",
       "      <td>-34.6618237,-58.5088387</td>\n",
       "    </tr>\n",
       "    <tr>\n",
       "      <th>1</th>\n",
       "      <td>3432039.0</td>\n",
       "      <td>La Plata</td>\n",
       "      <td>Bs.As. G.B.A. Zona Sur</td>\n",
       "      <td>Argentina</td>\n",
       "      <td>|Argentina|Bs.As. G.B.A. Zona Sur|La Plata|</td>\n",
       "      <td>-34.903883</td>\n",
       "      <td>-57.964330</td>\n",
       "      <td>-34.9038831,-57.9643295</td>\n",
       "    </tr>\n",
       "    <tr>\n",
       "      <th>2</th>\n",
       "      <td>3430787.0</td>\n",
       "      <td>Mataderos</td>\n",
       "      <td>Capital Federal</td>\n",
       "      <td>Argentina</td>\n",
       "      <td>|Argentina|Capital Federal|Mataderos|</td>\n",
       "      <td>-34.652262</td>\n",
       "      <td>-58.522982</td>\n",
       "      <td>-34.6522615,-58.5229825</td>\n",
       "    </tr>\n",
       "    <tr>\n",
       "      <th>3</th>\n",
       "      <td>3431333.0</td>\n",
       "      <td>Liniers</td>\n",
       "      <td>Capital Federal</td>\n",
       "      <td>Argentina</td>\n",
       "      <td>|Argentina|Capital Federal|Liniers|</td>\n",
       "      <td>-34.647797</td>\n",
       "      <td>-58.516424</td>\n",
       "      <td>-34.6477969,-58.5164244</td>\n",
       "    </tr>\n",
       "    <tr>\n",
       "      <th>4</th>\n",
       "      <td>3435548.0</td>\n",
       "      <td>Centro</td>\n",
       "      <td>Buenos Aires Costa Atlántica</td>\n",
       "      <td>Argentina</td>\n",
       "      <td>|Argentina|Buenos Aires Costa Atlántica|Mar de...</td>\n",
       "      <td>-38.002626</td>\n",
       "      <td>-57.549447</td>\n",
       "      <td>-38.0026256,-57.5494468</td>\n",
       "    </tr>\n",
       "  </tbody>\n",
       "</table>\n",
       "</div>"
      ],
      "text/plain": [
       "   geonames_id place_name                    state_name country_name  \\\n",
       "0    3430787.0  Mataderos               Capital Federal    Argentina   \n",
       "1    3432039.0   La Plata        Bs.As. G.B.A. Zona Sur    Argentina   \n",
       "2    3430787.0  Mataderos               Capital Federal    Argentina   \n",
       "3    3431333.0    Liniers               Capital Federal    Argentina   \n",
       "4    3435548.0     Centro  Buenos Aires Costa Atlántica    Argentina   \n",
       "\n",
       "                             place_with_parent_names        lat        lon  \\\n",
       "0              |Argentina|Capital Federal|Mataderos| -34.661824 -58.508839   \n",
       "1        |Argentina|Bs.As. G.B.A. Zona Sur|La Plata| -34.903883 -57.964330   \n",
       "2              |Argentina|Capital Federal|Mataderos| -34.652262 -58.522982   \n",
       "3                |Argentina|Capital Federal|Liniers| -34.647797 -58.516424   \n",
       "4  |Argentina|Buenos Aires Costa Atlántica|Mar de... -38.002626 -57.549447   \n",
       "\n",
       "                   lat-lon  \n",
       "0  -34.6618237,-58.5088387  \n",
       "1  -34.9038831,-57.9643295  \n",
       "2  -34.6522615,-58.5229825  \n",
       "3  -34.6477969,-58.5164244  \n",
       "4  -38.0026256,-57.5494468  "
      ]
     },
     "execution_count": 251,
     "metadata": {},
     "output_type": "execute_result"
    }
   ],
   "source": [
    "data_geonames.head(5)"
   ]
  },
  {
   "cell_type": "markdown",
   "metadata": {},
   "source": [
    "A continuación contamos los valores únicos de cada columna (quitando los nulos), para ver si hay correspondencia."
   ]
  },
  {
   "cell_type": "code",
   "execution_count": 252,
   "metadata": {},
   "outputs": [],
   "source": [
    "mask_geo_id_not_null = data_geonames[\"geonames_id\"].notnull()\n",
    "geo_id_not_null = data_geonames.geonames_id[mask_geo_id_not_null] \n",
    "\n",
    "mask_place_name_not_null = data_geonames[\"place_name\"].notnull()\n",
    "place_name_not_null = data_geonames.place_name[mask_place_name_not_null]\n",
    "\n",
    "mask_pwpn_not_null = data_geonames[\"place_with_parent_names\"].notnull()\n",
    "pwpn_not_null = data_geonames.place_with_parent_names[mask_pwpn_not_null]"
   ]
  },
  {
   "cell_type": "code",
   "execution_count": 253,
   "metadata": {},
   "outputs": [
    {
     "name": "stdout",
     "output_type": "stream",
     "text": [
      "Cantidad de valores únicos en geonames_id: 646\n",
      "Cantidad de valores únicos en place_name: 1060\n",
      "Cantidad de valores únicos en place_with_parent_names: 1164\n"
     ]
    }
   ],
   "source": [
    "print(\"Cantidad de valores únicos en geonames_id:\", len(geo_id_not_null.unique()))\n",
    "print(\"Cantidad de valores únicos en place_name:\", len(place_name_not_null.unique()))\n",
    "print(\"Cantidad de valores únicos en place_with_parent_names:\", len(pwpn_not_null.unique()))"
   ]
  },
  {
   "cell_type": "markdown",
   "metadata": {},
   "source": [
    "\n",
    "Vemos que hay mayor cantidad de valores unicos de *place_with_parent_names* y de *place_name*, que de *geonames_id*. Esto puede deberse a que hay  mayor cantidad de nulos en esa columna con respecto a las otras dos. **Pero también puede suceder que haya geo id's que estén asociados a más de una localidad, lo que sería un error de la base.**"
   ]
  },
  {
   "cell_type": "markdown",
   "metadata": {},
   "source": [
    "Para comprobar esto hacemos una agrupación por ID, y contamos cuantos valores únicos de *place_name* hay para cada uno. \n",
    "Luego, aplicando una máscara, vemos que hay solo 5 ids que tienen más de un valor asociado. "
   ]
  },
  {
   "cell_type": "code",
   "execution_count": 254,
   "metadata": {},
   "outputs": [
    {
     "data": {
      "text/plain": [
       "(102503, 8)"
      ]
     },
     "execution_count": 254,
     "metadata": {},
     "output_type": "execute_result"
    }
   ],
   "source": [
    "#lo vamos a hacer sobre valores no nulos de geonames_ID.\n",
    "mask_geoid_notnull = data_geonames[\"geonames_id\"].notnull()\n",
    "data_geonames_notnull = data_geonames.loc[mask_geoid_notnull]\n",
    "data_geonames_notnull.shape"
   ]
  },
  {
   "cell_type": "code",
   "execution_count": 255,
   "metadata": {},
   "outputs": [
    {
     "name": "stdout",
     "output_type": "stream",
     "text": [
      "geonames_id\n",
      "3435907.0    5\n",
      "3435548.0    2\n",
      "3428927.0    2\n",
      "3433359.0    2\n",
      "3430234.0    2\n",
      "Name: place_name, dtype: int64\n",
      "Cantidad geo ids con más de una localidad:  5\n"
     ]
    }
   ],
   "source": [
    "place_name_by_id = data_geonames_notnull.groupby([\"geonames_id\"])[\"place_name\"].nunique().sort_values(ascending = False)\n",
    "place_name_by_id\n",
    "mask_place_name_by_id = place_name_by_id > 1\n",
    "id_multi_place_name = place_name_by_id[mask_place_name_by_id]\n",
    "print(id_multi_place_name)\n",
    "print(\"Cantidad geo ids con más de una localidad: \", len(place_name_by_id[mask_place_name_by_id]))"
   ]
  },
  {
   "cell_type": "code",
   "execution_count": 256,
   "metadata": {},
   "outputs": [],
   "source": [
    "indices = id_multi_place_name.index #nos quedamos con los índices para crear una máscara\n",
    "mask_indices = data_geonames_notnull[\"geonames_id\"].isin(indices)\n",
    "data_geonames_multi_localidad = data_geonames_notnull.loc[mask_indices]"
   ]
  },
  {
   "cell_type": "markdown",
   "metadata": {},
   "source": [
    "Con un groupby listamos los valores que tiene cada uno de estos 5 geo id para *place_name*, pero junto a los valores de *state_name* para tener mayor información sobre la localidad. \n",
    "\n",
    "Para ver los valores que agrupa cada ID, agregamos el método .agg, que nos lista cada uno de los valores posibles para cada variable"
   ]
  },
  {
   "cell_type": "code",
   "execution_count": 257,
   "metadata": {},
   "outputs": [
    {
     "data": {
      "text/html": [
       "<div>\n",
       "<style scoped>\n",
       "    .dataframe tbody tr th:only-of-type {\n",
       "        vertical-align: middle;\n",
       "    }\n",
       "\n",
       "    .dataframe tbody tr th {\n",
       "        vertical-align: top;\n",
       "    }\n",
       "\n",
       "    .dataframe thead th {\n",
       "        text-align: right;\n",
       "    }\n",
       "</style>\n",
       "<table border=\"1\" class=\"dataframe\">\n",
       "  <thead>\n",
       "    <tr style=\"text-align: right;\">\n",
       "      <th></th>\n",
       "      <th>geonames_id</th>\n",
       "      <th>place_name</th>\n",
       "      <th>state_name</th>\n",
       "    </tr>\n",
       "  </thead>\n",
       "  <tbody>\n",
       "    <tr>\n",
       "      <th>0</th>\n",
       "      <td>3428927.0</td>\n",
       "      <td>[San José, San Jose]</td>\n",
       "      <td>[Bs.As. G.B.A. Zona Sur]</td>\n",
       "    </tr>\n",
       "    <tr>\n",
       "      <th>1</th>\n",
       "      <td>3430234.0</td>\n",
       "      <td>[Palermo Soho, Palermo]</td>\n",
       "      <td>[Capital Federal]</td>\n",
       "    </tr>\n",
       "    <tr>\n",
       "      <th>2</th>\n",
       "      <td>3433359.0</td>\n",
       "      <td>[Ituzaingó, Villa Udaondo]</td>\n",
       "      <td>[Bs.As. G.B.A. Zona Oeste]</td>\n",
       "    </tr>\n",
       "    <tr>\n",
       "      <th>3</th>\n",
       "      <td>3435548.0</td>\n",
       "      <td>[Centro, Centro / Microcentro]</td>\n",
       "      <td>[Buenos Aires Costa Atlántica, Capital Federal]</td>\n",
       "    </tr>\n",
       "    <tr>\n",
       "      <th>4</th>\n",
       "      <td>3435907.0</td>\n",
       "      <td>[Bs.As. G.B.A. Zona Sur, Buenos Aires Interior...</td>\n",
       "      <td>[Bs.As. G.B.A. Zona Sur, Buenos Aires Interior...</td>\n",
       "    </tr>\n",
       "  </tbody>\n",
       "</table>\n",
       "</div>"
      ],
      "text/plain": [
       "   geonames_id                                         place_name  \\\n",
       "0    3428927.0                               [San José, San Jose]   \n",
       "1    3430234.0                            [Palermo Soho, Palermo]   \n",
       "2    3433359.0                         [Ituzaingó, Villa Udaondo]   \n",
       "3    3435548.0                     [Centro, Centro / Microcentro]   \n",
       "4    3435907.0  [Bs.As. G.B.A. Zona Sur, Buenos Aires Interior...   \n",
       "\n",
       "                                          state_name  \n",
       "0                           [Bs.As. G.B.A. Zona Sur]  \n",
       "1                                  [Capital Federal]  \n",
       "2                         [Bs.As. G.B.A. Zona Oeste]  \n",
       "3    [Buenos Aires Costa Atlántica, Capital Federal]  \n",
       "4  [Bs.As. G.B.A. Zona Sur, Buenos Aires Interior...  "
      ]
     },
     "execution_count": 257,
     "metadata": {},
     "output_type": "execute_result"
    }
   ],
   "source": [
    "place_name_by_id_values = data_geonames_multi_localidad.groupby(\"geonames_id\").agg({'place_name': 'unique', 'state_name': 'unique'}).reset_index()\n",
    "place_name_by_id_values"
   ]
  },
  {
   "cell_type": "markdown",
   "metadata": {},
   "source": [
    "En la salida anterior podemos ver que vemos que solamente los ultimos dos casos refieren a localidades distintas, ya que se encuentran en diferentes regiones.\n",
    "\n",
    "#### CONCLUSIÓN 📌 \n",
    "\n",
    "Asumimos que estos casos son errores y que **cada localidad debería tener un *geoname_id* unico.**\n",
    "\n",
    "#### LIMPIEZA DE DATOS 📝\n",
    "\n",
    "Procedemos a limpiar los primeros 3 casos, dejando solo un valor de circunscripción:"
   ]
  },
  {
   "cell_type": "markdown",
   "metadata": {},
   "source": [
    "* **Para eso, creamos una nueva variable *place_name_new***"
   ]
  },
  {
   "cell_type": "code",
   "execution_count": 258,
   "metadata": {},
   "outputs": [],
   "source": [
    "data[\"place_name_new\"] = data[\"place_name\"]\n",
    "data[\"place_name_new\"] = data[\"place_name_new\"].replace(\"San Jose\", \"San José\")\n",
    "data[\"place_name_new\"] = data[\"place_name_new\"].replace(\"Palermo Soho\", \"Palermo\")\n",
    "data[\"place_name_new\"] = data[\"place_name_new\"].replace(\"Villa Udaondo\", \"Ituzaingó\")"
   ]
  },
  {
   "cell_type": "markdown",
   "metadata": {},
   "source": [
    "Miramos los otros dos casos:"
   ]
  },
  {
   "cell_type": "code",
   "execution_count": 259,
   "metadata": {},
   "outputs": [
    {
     "data": {
      "text/html": [
       "<div>\n",
       "<style scoped>\n",
       "    .dataframe tbody tr th:only-of-type {\n",
       "        vertical-align: middle;\n",
       "    }\n",
       "\n",
       "    .dataframe tbody tr th {\n",
       "        vertical-align: top;\n",
       "    }\n",
       "\n",
       "    .dataframe thead th {\n",
       "        text-align: right;\n",
       "    }\n",
       "</style>\n",
       "<table border=\"1\" class=\"dataframe\">\n",
       "  <thead>\n",
       "    <tr style=\"text-align: right;\">\n",
       "      <th></th>\n",
       "      <th>geonames_id</th>\n",
       "      <th>place_name</th>\n",
       "      <th>place_with_parent_names</th>\n",
       "      <th>state_name</th>\n",
       "      <th>title</th>\n",
       "      <th>description</th>\n",
       "      <th>lat</th>\n",
       "    </tr>\n",
       "  </thead>\n",
       "  <tbody>\n",
       "    <tr>\n",
       "      <th>125</th>\n",
       "      <td>3435907.0</td>\n",
       "      <td>Bs.As. G.B.A. Zona Sur</td>\n",
       "      <td>|Argentina|Bs.As. G.B.A. Zona Sur|</td>\n",
       "      <td>Bs.As. G.B.A. Zona Sur</td>\n",
       "      <td>RUGGIERI</td>\n",
       "      <td>CODIGO: 438-12112 ubicado en: test de prueba -...</td>\n",
       "      <td>-38.416097</td>\n",
       "    </tr>\n",
       "    <tr>\n",
       "      <th>433</th>\n",
       "      <td>3435907.0</td>\n",
       "      <td>Buenos Aires Interior</td>\n",
       "      <td>|Argentina|Buenos Aires Interior|</td>\n",
       "      <td>Buenos Aires Interior</td>\n",
       "      <td>Casa de 3 dormitorios con dependencia en Estan...</td>\n",
       "      <td>CODIGO: 157-AW23557 ubicado en: La Pionera -  ...</td>\n",
       "      <td>-38.416097</td>\n",
       "    </tr>\n",
       "    <tr>\n",
       "      <th>664</th>\n",
       "      <td>3435907.0</td>\n",
       "      <td>Buenos Aires Interior</td>\n",
       "      <td>|Argentina|Buenos Aires Interior|</td>\n",
       "      <td>Buenos Aires Interior</td>\n",
       "      <td>[B.I 0527] VILLA GESELL - FRENTE AL MAR, DEPAR...</td>\n",
       "      <td>CODIGO:  ubicado en: [B.I 0527] VILLA GESELL -...</td>\n",
       "      <td>-38.416097</td>\n",
       "    </tr>\n",
       "    <tr>\n",
       "      <th>897</th>\n",
       "      <td>3435907.0</td>\n",
       "      <td>Buenos Aires Interior</td>\n",
       "      <td>|Argentina|Buenos Aires Interior|</td>\n",
       "      <td>Buenos Aires Interior</td>\n",
       "      <td>BENQUERENCIA EXC CHACRA UBICACIÓN Y CONSTRUCCIÓN</td>\n",
       "      <td>Corredor Responsable: Ramiro Cappelloni - C.M....</td>\n",
       "      <td>NaN</td>\n",
       "    </tr>\n",
       "    <tr>\n",
       "      <th>1022</th>\n",
       "      <td>3435907.0</td>\n",
       "      <td>Buenos Aires Interior</td>\n",
       "      <td>|Argentina|Buenos Aires Interior|</td>\n",
       "      <td>Buenos Aires Interior</td>\n",
       "      <td>CASA EN VENTA FLORENCIO VARELA</td>\n",
       "      <td>CODIGO: 3836-789 ubicado en: Republica de Urug...</td>\n",
       "      <td>-38.416097</td>\n",
       "    </tr>\n",
       "    <tr>\n",
       "      <th>...</th>\n",
       "      <td>...</td>\n",
       "      <td>...</td>\n",
       "      <td>...</td>\n",
       "      <td>...</td>\n",
       "      <td>...</td>\n",
       "      <td>...</td>\n",
       "      <td>...</td>\n",
       "    </tr>\n",
       "    <tr>\n",
       "      <th>117729</th>\n",
       "      <td>3435907.0</td>\n",
       "      <td>Bs.As. G.B.A. Zona Norte</td>\n",
       "      <td>|Argentina|Bs.As. G.B.A. Zona Norte|</td>\n",
       "      <td>Bs.As. G.B.A. Zona Norte</td>\n",
       "      <td>Importante Casa en Venta en Campana Centro. 3 ...</td>\n",
       "      <td>Excelente Casa en venta en Campana Centro. Zon...</td>\n",
       "      <td>NaN</td>\n",
       "    </tr>\n",
       "    <tr>\n",
       "      <th>118326</th>\n",
       "      <td>3435907.0</td>\n",
       "      <td>Bs.As. G.B.A. Zona Norte</td>\n",
       "      <td>|Argentina|Bs.As. G.B.A. Zona Norte|</td>\n",
       "      <td>Bs.As. G.B.A. Zona Norte</td>\n",
       "      <td>Departamento - Cardales Village</td>\n",
       "      <td>Departamento en Terrazas Cardales en venta, de...</td>\n",
       "      <td>NaN</td>\n",
       "    </tr>\n",
       "    <tr>\n",
       "      <th>118493</th>\n",
       "      <td>3435907.0</td>\n",
       "      <td>Bs.As. G.B.A. Zona Norte</td>\n",
       "      <td>|Argentina|Bs.As. G.B.A. Zona Norte|</td>\n",
       "      <td>Bs.As. G.B.A. Zona Norte</td>\n",
       "      <td>Local - Jose Clemente Paz</td>\n",
       "      <td>VENTA IMPORTANTE LOCAL COMERCIAL CON FRENTE A ...</td>\n",
       "      <td>NaN</td>\n",
       "    </tr>\n",
       "    <tr>\n",
       "      <th>118819</th>\n",
       "      <td>3435907.0</td>\n",
       "      <td>Bs.As. G.B.A. Zona Norte</td>\n",
       "      <td>|Argentina|Bs.As. G.B.A. Zona Norte|</td>\n",
       "      <td>Bs.As. G.B.A. Zona Norte</td>\n",
       "      <td>Departamento en Venta en Campana Centro. 4 dor...</td>\n",
       "      <td>El departamento consta de living comedor, coci...</td>\n",
       "      <td>NaN</td>\n",
       "    </tr>\n",
       "    <tr>\n",
       "      <th>121141</th>\n",
       "      <td>3435907.0</td>\n",
       "      <td>Bs.As. G.B.A. Zona Norte</td>\n",
       "      <td>|Argentina|Bs.As. G.B.A. Zona Norte|</td>\n",
       "      <td>Bs.As. G.B.A. Zona Norte</td>\n",
       "      <td>Excelente CASA a ESTRENAR APTA CREDITO - La Re...</td>\n",
       "      <td>RUCA INMUEBLES - 011-15- / 011- -  -  CASA a E...</td>\n",
       "      <td>NaN</td>\n",
       "    </tr>\n",
       "  </tbody>\n",
       "</table>\n",
       "<p>444 rows × 7 columns</p>\n",
       "</div>"
      ],
      "text/plain": [
       "        geonames_id                place_name  \\\n",
       "125       3435907.0    Bs.As. G.B.A. Zona Sur   \n",
       "433       3435907.0     Buenos Aires Interior   \n",
       "664       3435907.0     Buenos Aires Interior   \n",
       "897       3435907.0     Buenos Aires Interior   \n",
       "1022      3435907.0     Buenos Aires Interior   \n",
       "...             ...                       ...   \n",
       "117729    3435907.0  Bs.As. G.B.A. Zona Norte   \n",
       "118326    3435907.0  Bs.As. G.B.A. Zona Norte   \n",
       "118493    3435907.0  Bs.As. G.B.A. Zona Norte   \n",
       "118819    3435907.0  Bs.As. G.B.A. Zona Norte   \n",
       "121141    3435907.0  Bs.As. G.B.A. Zona Norte   \n",
       "\n",
       "                     place_with_parent_names                state_name  \\\n",
       "125       |Argentina|Bs.As. G.B.A. Zona Sur|    Bs.As. G.B.A. Zona Sur   \n",
       "433        |Argentina|Buenos Aires Interior|     Buenos Aires Interior   \n",
       "664        |Argentina|Buenos Aires Interior|     Buenos Aires Interior   \n",
       "897        |Argentina|Buenos Aires Interior|     Buenos Aires Interior   \n",
       "1022       |Argentina|Buenos Aires Interior|     Buenos Aires Interior   \n",
       "...                                      ...                       ...   \n",
       "117729  |Argentina|Bs.As. G.B.A. Zona Norte|  Bs.As. G.B.A. Zona Norte   \n",
       "118326  |Argentina|Bs.As. G.B.A. Zona Norte|  Bs.As. G.B.A. Zona Norte   \n",
       "118493  |Argentina|Bs.As. G.B.A. Zona Norte|  Bs.As. G.B.A. Zona Norte   \n",
       "118819  |Argentina|Bs.As. G.B.A. Zona Norte|  Bs.As. G.B.A. Zona Norte   \n",
       "121141  |Argentina|Bs.As. G.B.A. Zona Norte|  Bs.As. G.B.A. Zona Norte   \n",
       "\n",
       "                                                    title  \\\n",
       "125                                              RUGGIERI   \n",
       "433     Casa de 3 dormitorios con dependencia en Estan...   \n",
       "664     [B.I 0527] VILLA GESELL - FRENTE AL MAR, DEPAR...   \n",
       "897      BENQUERENCIA EXC CHACRA UBICACIÓN Y CONSTRUCCIÓN   \n",
       "1022                       CASA EN VENTA FLORENCIO VARELA   \n",
       "...                                                   ...   \n",
       "117729  Importante Casa en Venta en Campana Centro. 3 ...   \n",
       "118326                    Departamento - Cardales Village   \n",
       "118493                          Local - Jose Clemente Paz   \n",
       "118819  Departamento en Venta en Campana Centro. 4 dor...   \n",
       "121141  Excelente CASA a ESTRENAR APTA CREDITO - La Re...   \n",
       "\n",
       "                                              description        lat  \n",
       "125     CODIGO: 438-12112 ubicado en: test de prueba -... -38.416097  \n",
       "433     CODIGO: 157-AW23557 ubicado en: La Pionera -  ... -38.416097  \n",
       "664     CODIGO:  ubicado en: [B.I 0527] VILLA GESELL -... -38.416097  \n",
       "897     Corredor Responsable: Ramiro Cappelloni - C.M....        NaN  \n",
       "1022    CODIGO: 3836-789 ubicado en: Republica de Urug... -38.416097  \n",
       "...                                                   ...        ...  \n",
       "117729  Excelente Casa en venta en Campana Centro. Zon...        NaN  \n",
       "118326  Departamento en Terrazas Cardales en venta, de...        NaN  \n",
       "118493  VENTA IMPORTANTE LOCAL COMERCIAL CON FRENTE A ...        NaN  \n",
       "118819  El departamento consta de living comedor, coci...        NaN  \n",
       "121141  RUCA INMUEBLES - 011-15- / 011- -  -  CASA a E...        NaN  \n",
       "\n",
       "[444 rows x 7 columns]"
      ]
     },
     "execution_count": 259,
     "metadata": {},
     "output_type": "execute_result"
    }
   ],
   "source": [
    "#buenos aires\n",
    "mask_3435907 = data[\"geonames_id\"] == 3435907.0\n",
    "data_3435907 = data.loc[mask_3435907,[\"geonames_id\",\"place_name\",\"place_with_parent_names\",\"state_name\",\"title\",\"description\",\"lat\"]]\n",
    "data_3435907"
   ]
  },
  {
   "cell_type": "markdown",
   "metadata": {},
   "source": [
    "Vemos que son 444 registros que pertenecen a la provincia de BSAS, de los que no podemos inferir una localidad fácilmente (no habría un patrón claro para diseñar una expresión regular para *title* o *description*). Sin embargo los dejamos porque a la hora de predecir el precio podríamos hacerlo al nivel de *state_name*."
   ]
  },
  {
   "cell_type": "markdown",
   "metadata": {},
   "source": [
    "Lo que decidimos hacer es asignarles un *place_name* nuevo que refiera a sin identificar:"
   ]
  },
  {
   "cell_type": "code",
   "execution_count": 260,
   "metadata": {},
   "outputs": [],
   "source": [
    "data.loc[mask_3435907,\"place_name_new\"] = \"Sin Identificar\""
   ]
  },
  {
   "cell_type": "markdown",
   "metadata": {},
   "source": [
    "Verificamos el cambio:"
   ]
  },
  {
   "cell_type": "code",
   "execution_count": 261,
   "metadata": {},
   "outputs": [
    {
     "data": {
      "text/html": [
       "<div>\n",
       "<style scoped>\n",
       "    .dataframe tbody tr th:only-of-type {\n",
       "        vertical-align: middle;\n",
       "    }\n",
       "\n",
       "    .dataframe tbody tr th {\n",
       "        vertical-align: top;\n",
       "    }\n",
       "\n",
       "    .dataframe thead th {\n",
       "        text-align: right;\n",
       "    }\n",
       "</style>\n",
       "<table border=\"1\" class=\"dataframe\">\n",
       "  <thead>\n",
       "    <tr style=\"text-align: right;\">\n",
       "      <th></th>\n",
       "      <th>geonames_id</th>\n",
       "      <th>place_name</th>\n",
       "      <th>place_name_new</th>\n",
       "    </tr>\n",
       "  </thead>\n",
       "  <tbody>\n",
       "    <tr>\n",
       "      <th>125</th>\n",
       "      <td>3435907.0</td>\n",
       "      <td>Bs.As. G.B.A. Zona Sur</td>\n",
       "      <td>Sin Identificar</td>\n",
       "    </tr>\n",
       "    <tr>\n",
       "      <th>433</th>\n",
       "      <td>3435907.0</td>\n",
       "      <td>Buenos Aires Interior</td>\n",
       "      <td>Sin Identificar</td>\n",
       "    </tr>\n",
       "    <tr>\n",
       "      <th>664</th>\n",
       "      <td>3435907.0</td>\n",
       "      <td>Buenos Aires Interior</td>\n",
       "      <td>Sin Identificar</td>\n",
       "    </tr>\n",
       "    <tr>\n",
       "      <th>897</th>\n",
       "      <td>3435907.0</td>\n",
       "      <td>Buenos Aires Interior</td>\n",
       "      <td>Sin Identificar</td>\n",
       "    </tr>\n",
       "    <tr>\n",
       "      <th>1022</th>\n",
       "      <td>3435907.0</td>\n",
       "      <td>Buenos Aires Interior</td>\n",
       "      <td>Sin Identificar</td>\n",
       "    </tr>\n",
       "    <tr>\n",
       "      <th>...</th>\n",
       "      <td>...</td>\n",
       "      <td>...</td>\n",
       "      <td>...</td>\n",
       "    </tr>\n",
       "    <tr>\n",
       "      <th>117729</th>\n",
       "      <td>3435907.0</td>\n",
       "      <td>Bs.As. G.B.A. Zona Norte</td>\n",
       "      <td>Sin Identificar</td>\n",
       "    </tr>\n",
       "    <tr>\n",
       "      <th>118326</th>\n",
       "      <td>3435907.0</td>\n",
       "      <td>Bs.As. G.B.A. Zona Norte</td>\n",
       "      <td>Sin Identificar</td>\n",
       "    </tr>\n",
       "    <tr>\n",
       "      <th>118493</th>\n",
       "      <td>3435907.0</td>\n",
       "      <td>Bs.As. G.B.A. Zona Norte</td>\n",
       "      <td>Sin Identificar</td>\n",
       "    </tr>\n",
       "    <tr>\n",
       "      <th>118819</th>\n",
       "      <td>3435907.0</td>\n",
       "      <td>Bs.As. G.B.A. Zona Norte</td>\n",
       "      <td>Sin Identificar</td>\n",
       "    </tr>\n",
       "    <tr>\n",
       "      <th>121141</th>\n",
       "      <td>3435907.0</td>\n",
       "      <td>Bs.As. G.B.A. Zona Norte</td>\n",
       "      <td>Sin Identificar</td>\n",
       "    </tr>\n",
       "  </tbody>\n",
       "</table>\n",
       "<p>444 rows × 3 columns</p>\n",
       "</div>"
      ],
      "text/plain": [
       "        geonames_id                place_name   place_name_new\n",
       "125       3435907.0    Bs.As. G.B.A. Zona Sur  Sin Identificar\n",
       "433       3435907.0     Buenos Aires Interior  Sin Identificar\n",
       "664       3435907.0     Buenos Aires Interior  Sin Identificar\n",
       "897       3435907.0     Buenos Aires Interior  Sin Identificar\n",
       "1022      3435907.0     Buenos Aires Interior  Sin Identificar\n",
       "...             ...                       ...              ...\n",
       "117729    3435907.0  Bs.As. G.B.A. Zona Norte  Sin Identificar\n",
       "118326    3435907.0  Bs.As. G.B.A. Zona Norte  Sin Identificar\n",
       "118493    3435907.0  Bs.As. G.B.A. Zona Norte  Sin Identificar\n",
       "118819    3435907.0  Bs.As. G.B.A. Zona Norte  Sin Identificar\n",
       "121141    3435907.0  Bs.As. G.B.A. Zona Norte  Sin Identificar\n",
       "\n",
       "[444 rows x 3 columns]"
      ]
     },
     "execution_count": 261,
     "metadata": {},
     "output_type": "execute_result"
    }
   ],
   "source": [
    "data.loc[mask_3435907,[\"geonames_id\",\"place_name\",\"place_name_new\"]]"
   ]
  },
  {
   "cell_type": "code",
   "execution_count": 262,
   "metadata": {},
   "outputs": [
    {
     "data": {
      "text/html": [
       "<div>\n",
       "<style scoped>\n",
       "    .dataframe tbody tr th:only-of-type {\n",
       "        vertical-align: middle;\n",
       "    }\n",
       "\n",
       "    .dataframe tbody tr th {\n",
       "        vertical-align: top;\n",
       "    }\n",
       "\n",
       "    .dataframe thead th {\n",
       "        text-align: right;\n",
       "    }\n",
       "</style>\n",
       "<table border=\"1\" class=\"dataframe\">\n",
       "  <thead>\n",
       "    <tr style=\"text-align: right;\">\n",
       "      <th></th>\n",
       "      <th>geonames_id</th>\n",
       "      <th>place_name</th>\n",
       "      <th>place_with_parent_names</th>\n",
       "      <th>state_name</th>\n",
       "      <th>title</th>\n",
       "      <th>description</th>\n",
       "      <th>lat</th>\n",
       "      <th>lon</th>\n",
       "    </tr>\n",
       "  </thead>\n",
       "  <tbody>\n",
       "    <tr>\n",
       "      <th>4</th>\n",
       "      <td>3435548.0</td>\n",
       "      <td>Centro</td>\n",
       "      <td>|Argentina|Buenos Aires Costa Atlántica|Mar de...</td>\n",
       "      <td>Buenos Aires Costa Atlántica</td>\n",
       "      <td>DEPTO 2 AMB AL CONTRAFRENTE ZONA CENTRO/PLAZA ...</td>\n",
       "      <td>DEPARTAMENTO CON FANTÁSTICA ILUMINACIÓN NATURA...</td>\n",
       "      <td>-38.002626</td>\n",
       "      <td>-57.549447</td>\n",
       "    </tr>\n",
       "    <tr>\n",
       "      <th>1539</th>\n",
       "      <td>3435548.0</td>\n",
       "      <td>Centro / Microcentro</td>\n",
       "      <td>|Argentina|Capital Federal|Centro / Microcentro|</td>\n",
       "      <td>Capital Federal</td>\n",
       "      <td>Departamento a la Venta en Microcentro</td>\n",
       "      <td>Corredor Responsable: Ricardo Demichelli - CUC...</td>\n",
       "      <td>-34.598825</td>\n",
       "      <td>-58.371456</td>\n",
       "    </tr>\n",
       "    <tr>\n",
       "      <th>1649</th>\n",
       "      <td>3435548.0</td>\n",
       "      <td>Centro / Microcentro</td>\n",
       "      <td>|Argentina|Capital Federal|Centro / Microcentro|</td>\n",
       "      <td>Capital Federal</td>\n",
       "      <td>DEPARTAMENTO EN VENTA</td>\n",
       "      <td>Venta de Departamento MONOAMBIENTE en Centro /...</td>\n",
       "      <td>-34.603273</td>\n",
       "      <td>-58.396141</td>\n",
       "    </tr>\n",
       "    <tr>\n",
       "      <th>1657</th>\n",
       "      <td>3435548.0</td>\n",
       "      <td>Centro / Microcentro</td>\n",
       "      <td>|Argentina|Capital Federal|Centro / Microcentro|</td>\n",
       "      <td>Capital Federal</td>\n",
       "      <td>LOCAL EN VENTA</td>\n",
       "      <td>LOCALVenta y alquiler de Local  en Centro / Mi...</td>\n",
       "      <td>-34.599865</td>\n",
       "      <td>-58.375840</td>\n",
       "    </tr>\n",
       "    <tr>\n",
       "      <th>4299</th>\n",
       "      <td>3435548.0</td>\n",
       "      <td>Centro / Microcentro</td>\n",
       "      <td>|Argentina|Capital Federal|Centro / Microcentro|</td>\n",
       "      <td>Capital Federal</td>\n",
       "      <td>EXCELENTE LOCAL</td>\n",
       "      <td>El local forma parte de la \"Casa de estudios p...</td>\n",
       "      <td>-34.598051</td>\n",
       "      <td>-58.379729</td>\n",
       "    </tr>\n",
       "    <tr>\n",
       "      <th>...</th>\n",
       "      <td>...</td>\n",
       "      <td>...</td>\n",
       "      <td>...</td>\n",
       "      <td>...</td>\n",
       "      <td>...</td>\n",
       "      <td>...</td>\n",
       "      <td>...</td>\n",
       "      <td>...</td>\n",
       "    </tr>\n",
       "    <tr>\n",
       "      <th>117949</th>\n",
       "      <td>3435548.0</td>\n",
       "      <td>Centro</td>\n",
       "      <td>|Argentina|Buenos Aires Costa Atlántica|Mar de...</td>\n",
       "      <td>Buenos Aires Costa Atlántica</td>\n",
       "      <td>Departamento - Centro</td>\n",
       "      <td>Departamento 28m² con Gas Natural, Mar del Pla...</td>\n",
       "      <td>NaN</td>\n",
       "      <td>NaN</td>\n",
       "    </tr>\n",
       "    <tr>\n",
       "      <th>118139</th>\n",
       "      <td>3435548.0</td>\n",
       "      <td>Centro</td>\n",
       "      <td>|Argentina|Buenos Aires Costa Atlántica|Mar de...</td>\n",
       "      <td>Buenos Aires Costa Atlántica</td>\n",
       "      <td>Departamento - Centro</td>\n",
       "      <td>Excelente departamento ubicado en zona centro ...</td>\n",
       "      <td>NaN</td>\n",
       "      <td>NaN</td>\n",
       "    </tr>\n",
       "    <tr>\n",
       "      <th>118900</th>\n",
       "      <td>3435548.0</td>\n",
       "      <td>Centro</td>\n",
       "      <td>|Argentina|Buenos Aires Costa Atlántica|Mar de...</td>\n",
       "      <td>Buenos Aires Costa Atlántica</td>\n",
       "      <td>Departamento - Centro</td>\n",
       "      <td>Edificio FLORIDA 1. Piso alto, balcón francés....</td>\n",
       "      <td>NaN</td>\n",
       "      <td>NaN</td>\n",
       "    </tr>\n",
       "    <tr>\n",
       "      <th>119500</th>\n",
       "      <td>3435548.0</td>\n",
       "      <td>Centro</td>\n",
       "      <td>|Argentina|Buenos Aires Costa Atlántica|Mar de...</td>\n",
       "      <td>Buenos Aires Costa Atlántica</td>\n",
       "      <td>PH de 2 ambientes con patio, sin gastos de exp...</td>\n",
       "      <td>PH de 2 ambientes con posibilidad de ampliació...</td>\n",
       "      <td>-38.000113</td>\n",
       "      <td>-57.564401</td>\n",
       "    </tr>\n",
       "    <tr>\n",
       "      <th>119744</th>\n",
       "      <td>3435548.0</td>\n",
       "      <td>Centro / Microcentro</td>\n",
       "      <td>|Argentina|Capital Federal|Centro / Microcentro|</td>\n",
       "      <td>Capital Federal</td>\n",
       "      <td>Extraordinario Local en Plaza San Martín - ÚNICO</td>\n",
       "      <td>Corredor Responsable: Cristian Arnal Ponti - C...</td>\n",
       "      <td>-34.596671</td>\n",
       "      <td>-58.375490</td>\n",
       "    </tr>\n",
       "  </tbody>\n",
       "</table>\n",
       "<p>454 rows × 8 columns</p>\n",
       "</div>"
      ],
      "text/plain": [
       "        geonames_id            place_name  \\\n",
       "4         3435548.0                Centro   \n",
       "1539      3435548.0  Centro / Microcentro   \n",
       "1649      3435548.0  Centro / Microcentro   \n",
       "1657      3435548.0  Centro / Microcentro   \n",
       "4299      3435548.0  Centro / Microcentro   \n",
       "...             ...                   ...   \n",
       "117949    3435548.0                Centro   \n",
       "118139    3435548.0                Centro   \n",
       "118900    3435548.0                Centro   \n",
       "119500    3435548.0                Centro   \n",
       "119744    3435548.0  Centro / Microcentro   \n",
       "\n",
       "                                  place_with_parent_names  \\\n",
       "4       |Argentina|Buenos Aires Costa Atlántica|Mar de...   \n",
       "1539     |Argentina|Capital Federal|Centro / Microcentro|   \n",
       "1649     |Argentina|Capital Federal|Centro / Microcentro|   \n",
       "1657     |Argentina|Capital Federal|Centro / Microcentro|   \n",
       "4299     |Argentina|Capital Federal|Centro / Microcentro|   \n",
       "...                                                   ...   \n",
       "117949  |Argentina|Buenos Aires Costa Atlántica|Mar de...   \n",
       "118139  |Argentina|Buenos Aires Costa Atlántica|Mar de...   \n",
       "118900  |Argentina|Buenos Aires Costa Atlántica|Mar de...   \n",
       "119500  |Argentina|Buenos Aires Costa Atlántica|Mar de...   \n",
       "119744   |Argentina|Capital Federal|Centro / Microcentro|   \n",
       "\n",
       "                          state_name  \\\n",
       "4       Buenos Aires Costa Atlántica   \n",
       "1539                 Capital Federal   \n",
       "1649                 Capital Federal   \n",
       "1657                 Capital Federal   \n",
       "4299                 Capital Federal   \n",
       "...                              ...   \n",
       "117949  Buenos Aires Costa Atlántica   \n",
       "118139  Buenos Aires Costa Atlántica   \n",
       "118900  Buenos Aires Costa Atlántica   \n",
       "119500  Buenos Aires Costa Atlántica   \n",
       "119744               Capital Federal   \n",
       "\n",
       "                                                    title  \\\n",
       "4       DEPTO 2 AMB AL CONTRAFRENTE ZONA CENTRO/PLAZA ...   \n",
       "1539               Departamento a la Venta en Microcentro   \n",
       "1649                                DEPARTAMENTO EN VENTA   \n",
       "1657                                       LOCAL EN VENTA   \n",
       "4299                                     EXCELENTE LOCAL    \n",
       "...                                                   ...   \n",
       "117949                              Departamento - Centro   \n",
       "118139                              Departamento - Centro   \n",
       "118900                              Departamento - Centro   \n",
       "119500  PH de 2 ambientes con patio, sin gastos de exp...   \n",
       "119744   Extraordinario Local en Plaza San Martín - ÚNICO   \n",
       "\n",
       "                                              description        lat  \\\n",
       "4       DEPARTAMENTO CON FANTÁSTICA ILUMINACIÓN NATURA... -38.002626   \n",
       "1539    Corredor Responsable: Ricardo Demichelli - CUC... -34.598825   \n",
       "1649    Venta de Departamento MONOAMBIENTE en Centro /... -34.603273   \n",
       "1657    LOCALVenta y alquiler de Local  en Centro / Mi... -34.599865   \n",
       "4299    El local forma parte de la \"Casa de estudios p... -34.598051   \n",
       "...                                                   ...        ...   \n",
       "117949  Departamento 28m² con Gas Natural, Mar del Pla...        NaN   \n",
       "118139  Excelente departamento ubicado en zona centro ...        NaN   \n",
       "118900  Edificio FLORIDA 1. Piso alto, balcón francés....        NaN   \n",
       "119500  PH de 2 ambientes con posibilidad de ampliació... -38.000113   \n",
       "119744  Corredor Responsable: Cristian Arnal Ponti - C... -34.596671   \n",
       "\n",
       "              lon  \n",
       "4      -57.549447  \n",
       "1539   -58.371456  \n",
       "1649   -58.396141  \n",
       "1657   -58.375840  \n",
       "4299   -58.379729  \n",
       "...           ...  \n",
       "117949        NaN  \n",
       "118139        NaN  \n",
       "118900        NaN  \n",
       "119500 -57.564401  \n",
       "119744 -58.375490  \n",
       "\n",
       "[454 rows x 8 columns]"
      ]
     },
     "execution_count": 262,
     "metadata": {},
     "output_type": "execute_result"
    }
   ],
   "source": [
    "#costa atlántica/microcentro\n",
    "mask_3435548 = data[\"geonames_id\"] == 3435548.0\n",
    "data_3435548 = data.loc[mask_3435548,[\"geonames_id\",\"place_name\",\"place_with_parent_names\",\"state_name\",\"title\",\"description\",\"lat\",\"lon\"]]\n",
    "data_3435548"
   ]
  },
  {
   "cell_type": "markdown",
   "metadata": {},
   "source": [
    "Vemos que son 454 registros. Decidimos reemplazar el valor \"Centro / Microcentro\" por el barrio de San Nicolás, que es la región que comprende el microcentro en CABA. \n",
    "Al valor de \"Centro\" de Mar del Plata, le dejamos el ID que venía por defecto. "
   ]
  },
  {
   "cell_type": "code",
   "execution_count": 263,
   "metadata": {},
   "outputs": [],
   "source": [
    "data[\"place_name_new\"] = data[\"place_name_new\"].replace(\"Centro / Microcentro\", \"San Nicolás\")"
   ]
  },
  {
   "cell_type": "markdown",
   "metadata": {},
   "source": [
    "Le asignamos el ID que le corresponde según https://www.geonames.org/6693229/san-nicolas.html.\n",
    "\n",
    "* **Para eso, creamos una nueva columna de geonames_id_new.**"
   ]
  },
  {
   "cell_type": "code",
   "execution_count": 264,
   "metadata": {},
   "outputs": [
    {
     "data": {
      "text/html": [
       "<div>\n",
       "<style scoped>\n",
       "    .dataframe tbody tr th:only-of-type {\n",
       "        vertical-align: middle;\n",
       "    }\n",
       "\n",
       "    .dataframe tbody tr th {\n",
       "        vertical-align: top;\n",
       "    }\n",
       "\n",
       "    .dataframe thead th {\n",
       "        text-align: right;\n",
       "    }\n",
       "</style>\n",
       "<table border=\"1\" class=\"dataframe\">\n",
       "  <thead>\n",
       "    <tr style=\"text-align: right;\">\n",
       "      <th></th>\n",
       "      <th>place_name</th>\n",
       "      <th>geonames_id</th>\n",
       "      <th>place_name_new</th>\n",
       "      <th>geonames_id_new</th>\n",
       "    </tr>\n",
       "  </thead>\n",
       "  <tbody>\n",
       "    <tr>\n",
       "      <th>876</th>\n",
       "      <td>San Nicolás</td>\n",
       "      <td>6693229.0</td>\n",
       "      <td>San Nicolás</td>\n",
       "      <td>6693229.0</td>\n",
       "    </tr>\n",
       "    <tr>\n",
       "      <th>1539</th>\n",
       "      <td>Centro / Microcentro</td>\n",
       "      <td>3435548.0</td>\n",
       "      <td>San Nicolás</td>\n",
       "      <td>6693229.0</td>\n",
       "    </tr>\n",
       "    <tr>\n",
       "      <th>1649</th>\n",
       "      <td>Centro / Microcentro</td>\n",
       "      <td>3435548.0</td>\n",
       "      <td>San Nicolás</td>\n",
       "      <td>6693229.0</td>\n",
       "    </tr>\n",
       "    <tr>\n",
       "      <th>1657</th>\n",
       "      <td>Centro / Microcentro</td>\n",
       "      <td>3435548.0</td>\n",
       "      <td>San Nicolás</td>\n",
       "      <td>6693229.0</td>\n",
       "    </tr>\n",
       "    <tr>\n",
       "      <th>2841</th>\n",
       "      <td>San Nicolás</td>\n",
       "      <td>6693229.0</td>\n",
       "      <td>San Nicolás</td>\n",
       "      <td>6693229.0</td>\n",
       "    </tr>\n",
       "    <tr>\n",
       "      <th>...</th>\n",
       "      <td>...</td>\n",
       "      <td>...</td>\n",
       "      <td>...</td>\n",
       "      <td>...</td>\n",
       "    </tr>\n",
       "    <tr>\n",
       "      <th>117158</th>\n",
       "      <td>San Nicolás</td>\n",
       "      <td>6693229.0</td>\n",
       "      <td>San Nicolás</td>\n",
       "      <td>6693229.0</td>\n",
       "    </tr>\n",
       "    <tr>\n",
       "      <th>118719</th>\n",
       "      <td>San Nicolás</td>\n",
       "      <td>6693229.0</td>\n",
       "      <td>San Nicolás</td>\n",
       "      <td>6693229.0</td>\n",
       "    </tr>\n",
       "    <tr>\n",
       "      <th>119319</th>\n",
       "      <td>San Nicolás</td>\n",
       "      <td>6693229.0</td>\n",
       "      <td>San Nicolás</td>\n",
       "      <td>6693229.0</td>\n",
       "    </tr>\n",
       "    <tr>\n",
       "      <th>119744</th>\n",
       "      <td>Centro / Microcentro</td>\n",
       "      <td>3435548.0</td>\n",
       "      <td>San Nicolás</td>\n",
       "      <td>6693229.0</td>\n",
       "    </tr>\n",
       "    <tr>\n",
       "      <th>119874</th>\n",
       "      <td>San Nicolás</td>\n",
       "      <td>6693229.0</td>\n",
       "      <td>San Nicolás</td>\n",
       "      <td>6693229.0</td>\n",
       "    </tr>\n",
       "  </tbody>\n",
       "</table>\n",
       "<p>410 rows × 4 columns</p>\n",
       "</div>"
      ],
      "text/plain": [
       "                  place_name  geonames_id place_name_new  geonames_id_new\n",
       "876              San Nicolás    6693229.0    San Nicolás        6693229.0\n",
       "1539    Centro / Microcentro    3435548.0    San Nicolás        6693229.0\n",
       "1649    Centro / Microcentro    3435548.0    San Nicolás        6693229.0\n",
       "1657    Centro / Microcentro    3435548.0    San Nicolás        6693229.0\n",
       "2841             San Nicolás    6693229.0    San Nicolás        6693229.0\n",
       "...                      ...          ...            ...              ...\n",
       "117158           San Nicolás    6693229.0    San Nicolás        6693229.0\n",
       "118719           San Nicolás    6693229.0    San Nicolás        6693229.0\n",
       "119319           San Nicolás    6693229.0    San Nicolás        6693229.0\n",
       "119744  Centro / Microcentro    3435548.0    San Nicolás        6693229.0\n",
       "119874           San Nicolás    6693229.0    San Nicolás        6693229.0\n",
       "\n",
       "[410 rows x 4 columns]"
      ]
     },
     "execution_count": 264,
     "metadata": {},
     "output_type": "execute_result"
    }
   ],
   "source": [
    "data[\"geonames_id_new\"] = data[\"geonames_id\"]\n",
    "mask_san_nicolas = data[\"place_name_new\"] == \"San Nicolás\"\n",
    "data.loc[mask_san_nicolas,\"geonames_id_new\"] = 6693229.0\n",
    "\n",
    "data.loc[mask_san_nicolas, [\"place_name\",\"geonames_id\"\n",
    "                            ,\"place_name_new\",\"geonames_id_new\"]]"
   ]
  },
  {
   "cell_type": "markdown",
   "metadata": {},
   "source": [
    "✔️ Comprobamos que ya no hay dos valores de *place_name* por id:"
   ]
  },
  {
   "cell_type": "code",
   "execution_count": 265,
   "metadata": {},
   "outputs": [
    {
     "name": "stdout",
     "output_type": "stream",
     "text": [
      "Series([], Name: place_name, dtype: int64)\n",
      "Cantidad geo ids con más de una localidad:  0\n"
     ]
    }
   ],
   "source": [
    "place_name_by_id_new = data.groupby([\"geonames_id_new\"])[\"place_name_new\"].nunique().sort_values(ascending = False)\n",
    "mask_place_name_new_by_id = place_name_by_id_new > 1\n",
    "id_multi_place_name_new = place_name_by_id[mask_place_name_new_by_id]\n",
    "print(id_multi_place_name_new)\n",
    "print(\"Cantidad geo ids con más de una localidad: \", len(place_name_by_id_new[mask_place_name_new_by_id]))"
   ]
  },
  {
   "cell_type": "markdown",
   "metadata": {},
   "source": [
    "---"
   ]
  },
  {
   "cell_type": "markdown",
   "metadata": {},
   "source": [
    "A continuación hacemos el mismo análisis pero con *state_name*, y en este caso hay 4 geo ids con más de un valor asociado (valores diferentes, lo que indicaría que se trata de un error)."
   ]
  },
  {
   "cell_type": "code",
   "execution_count": 266,
   "metadata": {},
   "outputs": [],
   "source": [
    "# se crea una nueva state_name_new, que aunque no se utilizará ahora, se integrara al dataset final posteriormente.\n",
    "data['state_name_new'] = data.state_name"
   ]
  },
  {
   "cell_type": "code",
   "execution_count": 267,
   "metadata": {},
   "outputs": [
    {
     "name": "stdout",
     "output_type": "stream",
     "text": [
      "geonames_id\n",
      "3435907.0    5\n",
      "3845073.0    2\n",
      "3435548.0    2\n",
      "3435024.0    2\n",
      "Name: state_name, dtype: int64\n",
      "Cantidad geo ids con más de una state:  4\n"
     ]
    }
   ],
   "source": [
    "state_name_by_id = data_geonames_notnull.groupby([\"geonames_id\"])[\"state_name\"].nunique().sort_values(ascending = False)\n",
    "state_name_by_id\n",
    "mask_state_name_by_id = state_name_by_id > 1\n",
    "id_multi_state_name = state_name_by_id[mask_state_name_by_id]\n",
    "print(id_multi_state_name)\n",
    "print(\"Cantidad geo ids con más de una state: \", len(state_name_by_id[mask_state_name_by_id]))"
   ]
  },
  {
   "cell_type": "code",
   "execution_count": 268,
   "metadata": {},
   "outputs": [],
   "source": [
    "indices2 = id_multi_state_name.index #nos quedamos con los índices para crear una máscara\n",
    "mask_indices2 = data_geonames_notnull[\"geonames_id\"].isin(indices2)\n",
    "data_geonames_multi_state = data_geonames_notnull.loc[mask_indices2]"
   ]
  },
  {
   "cell_type": "code",
   "execution_count": 269,
   "metadata": {},
   "outputs": [
    {
     "data": {
      "text/html": [
       "<div>\n",
       "<style scoped>\n",
       "    .dataframe tbody tr th:only-of-type {\n",
       "        vertical-align: middle;\n",
       "    }\n",
       "\n",
       "    .dataframe tbody tr th {\n",
       "        vertical-align: top;\n",
       "    }\n",
       "\n",
       "    .dataframe thead th {\n",
       "        text-align: right;\n",
       "    }\n",
       "</style>\n",
       "<table border=\"1\" class=\"dataframe\">\n",
       "  <thead>\n",
       "    <tr style=\"text-align: right;\">\n",
       "      <th></th>\n",
       "      <th>geonames_id</th>\n",
       "      <th>place_name</th>\n",
       "      <th>state_name</th>\n",
       "      <th>place_with_parent_names</th>\n",
       "    </tr>\n",
       "  </thead>\n",
       "  <tbody>\n",
       "    <tr>\n",
       "      <th>0</th>\n",
       "      <td>3435024.0</td>\n",
       "      <td>[Don Bosco]</td>\n",
       "      <td>[Bs.As. G.B.A. Zona Sur, Buenos Aires Costa At...</td>\n",
       "      <td>[|Argentina|Bs.As. G.B.A. Zona Sur|Quilmes|Don...</td>\n",
       "    </tr>\n",
       "    <tr>\n",
       "      <th>1</th>\n",
       "      <td>3435548.0</td>\n",
       "      <td>[Centro, Centro / Microcentro]</td>\n",
       "      <td>[Buenos Aires Costa Atlántica, Capital Federal]</td>\n",
       "      <td>[|Argentina|Buenos Aires Costa Atlántica|Mar d...</td>\n",
       "    </tr>\n",
       "    <tr>\n",
       "      <th>2</th>\n",
       "      <td>3435907.0</td>\n",
       "      <td>[Bs.As. G.B.A. Zona Sur, Buenos Aires Interior...</td>\n",
       "      <td>[Bs.As. G.B.A. Zona Sur, Buenos Aires Interior...</td>\n",
       "      <td>[|Argentina|Bs.As. G.B.A. Zona Sur|, |Argentin...</td>\n",
       "    </tr>\n",
       "    <tr>\n",
       "      <th>3</th>\n",
       "      <td>3845073.0</td>\n",
       "      <td>[Malvinas Argentinas]</td>\n",
       "      <td>[Bs.As. G.B.A. Zona Sur, Córdoba]</td>\n",
       "      <td>[|Argentina|Bs.As. G.B.A. Zona Sur|Almirante B...</td>\n",
       "    </tr>\n",
       "  </tbody>\n",
       "</table>\n",
       "</div>"
      ],
      "text/plain": [
       "   geonames_id                                         place_name  \\\n",
       "0    3435024.0                                        [Don Bosco]   \n",
       "1    3435548.0                     [Centro, Centro / Microcentro]   \n",
       "2    3435907.0  [Bs.As. G.B.A. Zona Sur, Buenos Aires Interior...   \n",
       "3    3845073.0                              [Malvinas Argentinas]   \n",
       "\n",
       "                                          state_name  \\\n",
       "0  [Bs.As. G.B.A. Zona Sur, Buenos Aires Costa At...   \n",
       "1    [Buenos Aires Costa Atlántica, Capital Federal]   \n",
       "2  [Bs.As. G.B.A. Zona Sur, Buenos Aires Interior...   \n",
       "3                  [Bs.As. G.B.A. Zona Sur, Córdoba]   \n",
       "\n",
       "                             place_with_parent_names  \n",
       "0  [|Argentina|Bs.As. G.B.A. Zona Sur|Quilmes|Don...  \n",
       "1  [|Argentina|Buenos Aires Costa Atlántica|Mar d...  \n",
       "2  [|Argentina|Bs.As. G.B.A. Zona Sur|, |Argentin...  \n",
       "3  [|Argentina|Bs.As. G.B.A. Zona Sur|Almirante B...  "
      ]
     },
     "execution_count": 269,
     "metadata": {},
     "output_type": "execute_result"
    }
   ],
   "source": [
    "state_by_id_values = data_geonames_multi_state.groupby(\"geonames_id\").agg({'place_name':'unique','state_name': 'unique', 'place_with_parent_names': 'unique'}).reset_index()\n",
    "state_by_id_values\n"
   ]
  },
  {
   "cell_type": "markdown",
   "metadata": {},
   "source": [
    "En la salida anterior vemos que dos casos ya estarían normalizados en las columnas *nuevas place_name_new* y *geonames_id_new* según los pasos anteriores ya que se trataba de casos de valores de place_name distintos.\n",
    "\n",
    "Sin embargo nos quedan dos ID's en los que hay 2 localidades diferentes bajo un mismo nombre de *place_name*.\n",
    "Podemos saber que son distintas porque pertenecen a distintos state.\n",
    "\n",
    "\n",
    "\n",
    "Procedemos a normalizar esto. Buscamos los ID correctos para cada localidad, según https://www.geonames.org/\n",
    "\n",
    "1. Don Bosco - Quilmes: 3435024.0 (es el ID por default en la base. No lo modificamos)\n",
    "2. Don Bosco - Costa Atlántica: No se encuentra ID. Le asignamos el *geoname_id* y de *place_name* de \"Centro\" de \"Mar del Plata\", ya que es un barrio adyacente al centro.\n",
    "3. Malvinas Argentinas - GBA: 12663166.0\n",
    "4. Malvinas Argentinas - Córdoba: 3845073.0 (es el ID por default en la base. No lo modificamos)"
   ]
  },
  {
   "cell_type": "code",
   "execution_count": 270,
   "metadata": {},
   "outputs": [],
   "source": [
    "#don bosco costa atlántica\n",
    "mask_don_bosco = data[\"place_name_new\"] == \"Don Bosco\"\n",
    "mask_catlántica = data[\"state_name\"].str.contains(\"Costa\")\n",
    "mask_combined = mask_don_bosco & mask_catlántica"
   ]
  },
  {
   "cell_type": "code",
   "execution_count": 271,
   "metadata": {},
   "outputs": [
    {
     "data": {
      "text/html": [
       "<div>\n",
       "<style scoped>\n",
       "    .dataframe tbody tr th:only-of-type {\n",
       "        vertical-align: middle;\n",
       "    }\n",
       "\n",
       "    .dataframe tbody tr th {\n",
       "        vertical-align: top;\n",
       "    }\n",
       "\n",
       "    .dataframe thead th {\n",
       "        text-align: right;\n",
       "    }\n",
       "</style>\n",
       "<table border=\"1\" class=\"dataframe\">\n",
       "  <thead>\n",
       "    <tr style=\"text-align: right;\">\n",
       "      <th></th>\n",
       "      <th>place_name</th>\n",
       "      <th>geonames_id</th>\n",
       "      <th>state_name</th>\n",
       "      <th>place_name_new</th>\n",
       "      <th>geonames_id_new</th>\n",
       "    </tr>\n",
       "  </thead>\n",
       "  <tbody>\n",
       "    <tr>\n",
       "      <th>11277</th>\n",
       "      <td>Don Bosco</td>\n",
       "      <td>3435024.0</td>\n",
       "      <td>Buenos Aires Costa Atlántica</td>\n",
       "      <td>Don Bosco</td>\n",
       "      <td>3435548.0</td>\n",
       "    </tr>\n",
       "    <tr>\n",
       "      <th>12081</th>\n",
       "      <td>Don Bosco</td>\n",
       "      <td>3435024.0</td>\n",
       "      <td>Buenos Aires Costa Atlántica</td>\n",
       "      <td>Don Bosco</td>\n",
       "      <td>3435548.0</td>\n",
       "    </tr>\n",
       "    <tr>\n",
       "      <th>12086</th>\n",
       "      <td>Don Bosco</td>\n",
       "      <td>3435024.0</td>\n",
       "      <td>Buenos Aires Costa Atlántica</td>\n",
       "      <td>Don Bosco</td>\n",
       "      <td>3435548.0</td>\n",
       "    </tr>\n",
       "    <tr>\n",
       "      <th>12103</th>\n",
       "      <td>Don Bosco</td>\n",
       "      <td>3435024.0</td>\n",
       "      <td>Buenos Aires Costa Atlántica</td>\n",
       "      <td>Don Bosco</td>\n",
       "      <td>3435548.0</td>\n",
       "    </tr>\n",
       "  </tbody>\n",
       "</table>\n",
       "</div>"
      ],
      "text/plain": [
       "      place_name  geonames_id                    state_name place_name_new  \\\n",
       "11277  Don Bosco    3435024.0  Buenos Aires Costa Atlántica      Don Bosco   \n",
       "12081  Don Bosco    3435024.0  Buenos Aires Costa Atlántica      Don Bosco   \n",
       "12086  Don Bosco    3435024.0  Buenos Aires Costa Atlántica      Don Bosco   \n",
       "12103  Don Bosco    3435024.0  Buenos Aires Costa Atlántica      Don Bosco   \n",
       "\n",
       "       geonames_id_new  \n",
       "11277        3435548.0  \n",
       "12081        3435548.0  \n",
       "12086        3435548.0  \n",
       "12103        3435548.0  "
      ]
     },
     "execution_count": 271,
     "metadata": {},
     "output_type": "execute_result"
    }
   ],
   "source": [
    "#lo aplicamos al df original\n",
    "data.loc[mask_combined,\"geonames_id_new\"] = 3435548.0 #valor de centro de mdq\n",
    "data.loc[mask_combined, [\"place_name\",\"geonames_id\",\"state_name\"\n",
    "                            ,\"place_name_new\",\"geonames_id_new\"]]"
   ]
  },
  {
   "cell_type": "code",
   "execution_count": 272,
   "metadata": {},
   "outputs": [
    {
     "data": {
      "text/html": [
       "<div>\n",
       "<style scoped>\n",
       "    .dataframe tbody tr th:only-of-type {\n",
       "        vertical-align: middle;\n",
       "    }\n",
       "\n",
       "    .dataframe tbody tr th {\n",
       "        vertical-align: top;\n",
       "    }\n",
       "\n",
       "    .dataframe thead th {\n",
       "        text-align: right;\n",
       "    }\n",
       "</style>\n",
       "<table border=\"1\" class=\"dataframe\">\n",
       "  <thead>\n",
       "    <tr style=\"text-align: right;\">\n",
       "      <th></th>\n",
       "      <th>place_name</th>\n",
       "      <th>geonames_id</th>\n",
       "      <th>state_name</th>\n",
       "      <th>place_name_new</th>\n",
       "      <th>geonames_id_new</th>\n",
       "    </tr>\n",
       "  </thead>\n",
       "  <tbody>\n",
       "    <tr>\n",
       "      <th>67232</th>\n",
       "      <td>Malvinas Argentinas</td>\n",
       "      <td>3845073.0</td>\n",
       "      <td>Bs.As. G.B.A. Zona Sur</td>\n",
       "      <td>Malvinas Argentinas</td>\n",
       "      <td>12663166.0</td>\n",
       "    </tr>\n",
       "    <tr>\n",
       "      <th>89160</th>\n",
       "      <td>Malvinas Argentinas</td>\n",
       "      <td>3845073.0</td>\n",
       "      <td>Bs.As. G.B.A. Zona Sur</td>\n",
       "      <td>Malvinas Argentinas</td>\n",
       "      <td>12663166.0</td>\n",
       "    </tr>\n",
       "    <tr>\n",
       "      <th>102972</th>\n",
       "      <td>Malvinas Argentinas</td>\n",
       "      <td>3845073.0</td>\n",
       "      <td>Bs.As. G.B.A. Zona Sur</td>\n",
       "      <td>Malvinas Argentinas</td>\n",
       "      <td>12663166.0</td>\n",
       "    </tr>\n",
       "    <tr>\n",
       "      <th>102974</th>\n",
       "      <td>Malvinas Argentinas</td>\n",
       "      <td>3845073.0</td>\n",
       "      <td>Bs.As. G.B.A. Zona Sur</td>\n",
       "      <td>Malvinas Argentinas</td>\n",
       "      <td>12663166.0</td>\n",
       "    </tr>\n",
       "    <tr>\n",
       "      <th>114578</th>\n",
       "      <td>Malvinas Argentinas</td>\n",
       "      <td>3845073.0</td>\n",
       "      <td>Bs.As. G.B.A. Zona Sur</td>\n",
       "      <td>Malvinas Argentinas</td>\n",
       "      <td>12663166.0</td>\n",
       "    </tr>\n",
       "  </tbody>\n",
       "</table>\n",
       "</div>"
      ],
      "text/plain": [
       "                 place_name  geonames_id              state_name  \\\n",
       "67232   Malvinas Argentinas    3845073.0  Bs.As. G.B.A. Zona Sur   \n",
       "89160   Malvinas Argentinas    3845073.0  Bs.As. G.B.A. Zona Sur   \n",
       "102972  Malvinas Argentinas    3845073.0  Bs.As. G.B.A. Zona Sur   \n",
       "102974  Malvinas Argentinas    3845073.0  Bs.As. G.B.A. Zona Sur   \n",
       "114578  Malvinas Argentinas    3845073.0  Bs.As. G.B.A. Zona Sur   \n",
       "\n",
       "             place_name_new  geonames_id_new  \n",
       "67232   Malvinas Argentinas       12663166.0  \n",
       "89160   Malvinas Argentinas       12663166.0  \n",
       "102972  Malvinas Argentinas       12663166.0  \n",
       "102974  Malvinas Argentinas       12663166.0  \n",
       "114578  Malvinas Argentinas       12663166.0  "
      ]
     },
     "execution_count": 272,
     "metadata": {},
     "output_type": "execute_result"
    }
   ],
   "source": [
    "#malvinas argentinas GBA \n",
    "mask_malvinas = data[\"place_name_new\"] == \"Malvinas Argentinas\"\n",
    "mask_GBA = data[\"state_name\"].str.contains(\"Zona Sur\")\n",
    "mask_combined2 = mask_malvinas & mask_GBA\n",
    "\n",
    "data.loc[mask_combined2,\"geonames_id_new\"] = 12663166.0\n",
    "data.loc[mask_combined2, [\"place_name\",\"geonames_id\",\"state_name\"\n",
    "                            ,\"place_name_new\",\"geonames_id_new\"]]"
   ]
  },
  {
   "cell_type": "markdown",
   "metadata": {},
   "source": [
    "----"
   ]
  },
  {
   "cell_type": "markdown",
   "metadata": {},
   "source": [
    "Como comprobación extra, analizamos *place_with_parent_names*. Y obtenemos 40 ID's con más de un valor asociado."
   ]
  },
  {
   "cell_type": "code",
   "execution_count": 273,
   "metadata": {},
   "outputs": [
    {
     "name": "stdout",
     "output_type": "stream",
     "text": [
      "Cantidad geo ids con más de un valor:  40\n"
     ]
    }
   ],
   "source": [
    "placewpn_by_id = data_geonames_notnull.groupby([\"geonames_id\"])[\"place_with_parent_names\"].nunique().sort_values(ascending = False)\n",
    "mask_placewpn_by_id = placewpn_by_id > 1\n",
    "print(\"Cantidad geo ids con más de un valor: \", len(placewpn_by_id[mask_placewpn_by_id]))"
   ]
  },
  {
   "cell_type": "code",
   "execution_count": 274,
   "metadata": {},
   "outputs": [
    {
     "name": "stdout",
     "output_type": "stream",
     "text": [
      "['|Argentina|Bs.As. G.B.A. Zona Norte|San Isidro|Villa Adelina|', '|Argentina|Bs.As. G.B.A. Zona Norte|Vicente López|Villa Adelina|']\n",
      "['|Argentina|Buenos Aires Interior|Tandil|Tandil|', '|Argentina|Buenos Aires Interior|Tandil|']\n",
      "['|Argentina|Buenos Aires Interior|San Pedro|San Pedro|', '|Argentina|Buenos Aires Interior|San Pedro|']\n",
      "['|Argentina|Buenos Aires Interior|San Miguel del Monte|San Miguel del Monte|', '|Argentina|Buenos Aires Interior|San Miguel del Monte|']\n",
      "['|Argentina|Bs.As. G.B.A. Zona Sur|Lomas de Zamora|San José|', '|Argentina|Bs.As. G.B.A. Zona Sur|Almirante Brown|San Jose|']\n",
      "['|Argentina|Bs.As. G.B.A. Zona Norte|San Isidro|', '|Argentina|Bs.As. G.B.A. Zona Norte|San Isidro|San Isidro|']\n",
      "['|Argentina|Buenos Aires Interior|San Antonio de Areco|San Antonio de Areco|', '|Argentina|Buenos Aires Interior|San Antonio de Areco|']\n",
      "['|Argentina|Buenos Aires Interior|San Andrés de Giles|', '|Argentina|Buenos Aires Interior|San Andrés de Giles|San Andrés de Giles|']\n",
      "['|Argentina|Buenos Aires Interior|Roque Pérez|', '|Argentina|Buenos Aires Interior|Roque Pérez|Roque Pérez|']\n",
      "['|Argentina|Bs.As. G.B.A. Zona Sur|Quilmes|Quilmes|', '|Argentina|Bs.As. G.B.A. Zona Sur|Quilmes|']\n",
      "['|Argentina|Capital Federal|Palermo|Palermo Soho|', '|Argentina|Capital Federal|Palermo|']\n",
      "['|Argentina|Bs.As. G.B.A. Zona Oeste|Morón|', '|Argentina|Bs.As. G.B.A. Zona Oeste|Morón|Morón|']\n",
      "['|Argentina|Bs.As. G.B.A. Zona Oeste|Moreno|', '|Argentina|Bs.As. G.B.A. Zona Oeste|Moreno|Moreno|']\n",
      "['|Argentina|Buenos Aires Interior|Mercedes|', '|Argentina|Buenos Aires Interior|Mercedes|Mercedes|']\n",
      "['|Argentina|Bs.As. G.B.A. Zona Oeste|Marcos Paz|', '|Argentina|Bs.As. G.B.A. Zona Oeste|Marcos Paz|Marcos Paz|']\n",
      "['|Argentina|Buenos Aires Interior|Luján|', '|Argentina|Buenos Aires Interior|Luján|Luján|']\n",
      "['|Argentina|Buenos Aires Interior|Lobos|Lobos|', '|Argentina|Buenos Aires Interior|Lobos|']\n",
      "['|Argentina|Bs.As. G.B.A. Zona Sur|La Plata|', '|Argentina|Bs.As. G.B.A. Zona Sur|La Plata|La Plata|']\n",
      "['|Argentina|Bs.As. G.B.A. Zona Oeste|Ituzaingó|', '|Argentina|Bs.As. G.B.A. Zona Oeste|Ituzaingó|Villa Udaondo|', '|Argentina|Bs.As. G.B.A. Zona Oeste|Ituzaingó|Ituzaingó|']\n",
      "['|Argentina|Bs.As. G.B.A. Zona Oeste|Hurlingham|', '|Argentina|Bs.As. G.B.A. Zona Oeste|Hurlingham|Hurlingham|']\n",
      "['|Argentina|Bs.As. G.B.A. Zona Sur|Avellaneda|Gerli|', '|Argentina|Bs.As. G.B.A. Zona Sur|Lanús|Gerli|']\n",
      "['|Argentina|Bs.As. G.B.A. Zona Oeste|General Rodríguez|', '|Argentina|Bs.As. G.B.A. Zona Oeste|General Rodríguez|General Rodríguez|']\n",
      "['|Argentina|Buenos Aires Interior|General Belgrano|General Belgrano|', '|Argentina|Buenos Aires Interior|General Belgrano|']\n",
      "['|Argentina|Bs.As. G.B.A. Zona Sur|Ezeiza|', '|Argentina|Bs.As. G.B.A. Zona Sur|Ezeiza|Ezeiza|']\n",
      "['|Argentina|Buenos Aires Interior|Ensenada|Ensenada|', '|Argentina|Buenos Aires Interior|Ensenada|']\n",
      "['|Argentina|Bs.As. G.B.A. Zona Sur|Quilmes|Don Bosco|', '|Argentina|Buenos Aires Costa Atlántica|Mar del Plata|Don Bosco|']\n",
      "['|Argentina|Buenos Aires Costa Atlántica|Chapadmalal|', '|Argentina|Buenos Aires Costa Atlántica|Mar del Plata|Chapadmalal|']\n",
      "['|Argentina|Buenos Aires Costa Atlántica|Mar del Plata|Centro|', '|Argentina|Capital Federal|Centro / Microcentro|']\n",
      "['|Argentina|Buenos Aires Interior|Capitán Sarmiento|Capitán Sarmiento|', '|Argentina|Buenos Aires Interior|Capitán Sarmiento|']\n",
      "['|Argentina|Bs.As. G.B.A. Zona Sur|Cañuelas|Cañuelas|', '|Argentina|Bs.As. G.B.A. Zona Sur|Cañuelas|']\n",
      "['|Argentina|Bs.As. G.B.A. Zona Sur|Esteban Echeverría|Canning|', '|Argentina|Bs.As. G.B.A. Zona Sur|Ezeiza|Canning|']\n",
      "['|Argentina|Bs.As. G.B.A. Zona Sur|', '|Argentina|Buenos Aires Interior|', '|Argentina|Bs.As. G.B.A. Zona Oeste|', '|Argentina|Bs.As. G.B.A. Zona Norte|', '|Argentina|Buenos Aires Costa Atlántica|']\n",
      "['|Argentina|Bs.As. G.B.A. Zona Sur|Berazategui|', '|Argentina|Bs.As. G.B.A. Zona Sur|Berazategui|Berazategui|']\n",
      "['|Argentina|Buenos Aires Interior|Balcarce|', '|Argentina|Buenos Aires Interior|Balcarce|Balcarce|']\n",
      "['|Argentina|Bs.As. G.B.A. Zona Sur|Avellaneda|Avellaneda|', '|Argentina|Bs.As. G.B.A. Zona Sur|Avellaneda|']\n",
      "['|Argentina|Buenos Aires Interior|Trenque Lauquen|Trenque Lauquen|', '|Argentina|Buenos Aires Interior|Trenque Lauquen|']\n",
      "['|Argentina|Río Negro|San Carlos de Bariloche|San Carlos de Bariloche|', '|Argentina|Río Negro|San Carlos de Bariloche|']\n",
      "['|Argentina|Bs.As. G.B.A. Zona Sur|Almirante Brown|Malvinas Argentinas|', '|Argentina|Córdoba|Malvinas Argentinas|']\n",
      "['|Argentina|Buenos Aires Interior|Coronel Suárez|Coronel Suárez|', '|Argentina|Buenos Aires Interior|Coronel Suárez|']\n",
      "['|Argentina|Buenos Aires Interior|Carlos Casares|', '|Argentina|Buenos Aires Interior|Carlos Casares|Carlos Casares|']\n"
     ]
    }
   ],
   "source": [
    "pwpn_by_id_values = data.groupby([\"geonames_id\"])[\"place_with_parent_names\"].unique().agg(list)\n",
    "id_multi_localidad2 = pwpn_by_id_values.loc[mask_placewpn_by_id]\n",
    "for geo_id in id_multi_localidad2:\n",
    "       print (geo_id)"
   ]
  },
  {
   "cell_type": "markdown",
   "metadata": {},
   "source": [
    "Al comparar los elementos de las 40 listas entre sí, vemos que en realidad refieren a la misma localidad*\n",
    "\n",
    "\n",
    "Hay 4 excepciones:\n",
    "1. Don Bosco\n",
    "2. Centro y Microcentro\n",
    "3. Malvinas Argentinas\n",
    "4. Los barrios sin especificar dentro de Provincia de bsas\n",
    "\n",
    "Estas 4 excepciones fueron las que normalizamos en las otras dos columnas previamente.\n",
    "\n",
    "📌 **Con lo cual, con *place_name* más *state_name* es suficiente para identificar cada localidad, y podemos prescindir de *place_with_parent_names* para construir el modelo.**\n",
    "\n",
    "*San José pertenece a Alte. Brown y a Lomas de Zamora\n",
    "Gerli pertenece a Avellaneda y a Lanús."
   ]
  },
  {
   "cell_type": "markdown",
   "metadata": {},
   "source": [
    "----"
   ]
  },
  {
   "cell_type": "markdown",
   "metadata": {},
   "source": [
    "Nos quedaría hacer una última comprobación, que es ver si existen localidades asociadas a más de un ID (es decir la relación inversa a las anteriores). Vemos que hay 32 barrios que están asociados a más de un geo ID."
   ]
  },
  {
   "cell_type": "code",
   "execution_count": 275,
   "metadata": {},
   "outputs": [
    {
     "name": "stdout",
     "output_type": "stream",
     "text": [
      "place_name\n",
      "San Vicente            3\n",
      "San Roque              2\n",
      "Mendoza                2\n",
      "San Lorenzo            2\n",
      "San Justo              2\n",
      "Olavarría              2\n",
      "San Juan               2\n",
      "Neuquén                2\n",
      "Avellaneda             2\n",
      "Villa Urquiza          2\n",
      "San José               2\n",
      "Corrientes             2\n",
      "Miramar                2\n",
      "Merlo                  2\n",
      "Villa Nueva            2\n",
      "Córdoba                2\n",
      "Villa Elisa            2\n",
      "Caseros                2\n",
      "Ituzaingó              2\n",
      "Victoria               2\n",
      "Salta                  2\n",
      "Rawson                 2\n",
      "Veinticinco de Mayo    2\n",
      "Bella Vista            2\n",
      "La Paz                 2\n",
      "La Rioja               2\n",
      "San Luis               2\n",
      "San Javier             2\n",
      "Rivadavia              2\n",
      "Pilar                  2\n",
      "Santa Fe               2\n",
      "Santa María            2\n",
      "Name: geonames_id, dtype: int64\n",
      "Cantidad geo ids con más de una state:  32\n"
     ]
    }
   ],
   "source": [
    "geoids_by_place_name = data_geonames.groupby([\"place_name\"])[\"geonames_id\"].nunique().sort_values(ascending = False)\n",
    "geoids_by_place_name\n",
    "\n",
    "mask_geoids_by_place_name = geoids_by_place_name > 1\n",
    "place_name_multi_id = geoids_by_place_name[mask_geoids_by_place_name]\n",
    "print(place_name_multi_id)\n",
    "print(\"Cantidad geo ids con más de una state: \", len(geoids_by_place_name[mask_geoids_by_place_name]))"
   ]
  },
  {
   "cell_type": "markdown",
   "metadata": {},
   "source": [
    "Chequeamos si estos barrios son localidades distintas pero homónimas, sumando la info de state_name."
   ]
  },
  {
   "cell_type": "code",
   "execution_count": 276,
   "metadata": {},
   "outputs": [
    {
     "data": {
      "text/html": [
       "<div>\n",
       "<style scoped>\n",
       "    .dataframe tbody tr th:only-of-type {\n",
       "        vertical-align: middle;\n",
       "    }\n",
       "\n",
       "    .dataframe tbody tr th {\n",
       "        vertical-align: top;\n",
       "    }\n",
       "\n",
       "    .dataframe thead th {\n",
       "        text-align: right;\n",
       "    }\n",
       "</style>\n",
       "<table border=\"1\" class=\"dataframe\">\n",
       "  <thead>\n",
       "    <tr style=\"text-align: right;\">\n",
       "      <th></th>\n",
       "      <th>place_name</th>\n",
       "      <th>geonames_id</th>\n",
       "      <th>state_name</th>\n",
       "      <th>place_with_parent_names</th>\n",
       "    </tr>\n",
       "  </thead>\n",
       "  <tbody>\n",
       "    <tr>\n",
       "      <th>0</th>\n",
       "      <td>Avellaneda</td>\n",
       "      <td>[3436227.0, 3436230.0]</td>\n",
       "      <td>[Bs.As. G.B.A. Zona Sur, Santa Fe]</td>\n",
       "      <td>[|Argentina|Bs.As. G.B.A. Zona Sur|Avellaneda|...</td>\n",
       "    </tr>\n",
       "    <tr>\n",
       "      <th>1</th>\n",
       "      <td>Bella Vista</td>\n",
       "      <td>[3436061.0, 3436058.0]</td>\n",
       "      <td>[Bs.As. G.B.A. Zona Norte, Corrientes]</td>\n",
       "      <td>[|Argentina|Bs.As. G.B.A. Zona Norte|San Migue...</td>\n",
       "    </tr>\n",
       "    <tr>\n",
       "      <th>2</th>\n",
       "      <td>Caseros</td>\n",
       "      <td>[3862356.0, 3435612.0]</td>\n",
       "      <td>[Bs.As. G.B.A. Zona Oeste, Entre Ríos]</td>\n",
       "      <td>[|Argentina|Bs.As. G.B.A. Zona Oeste|Tres de F...</td>\n",
       "    </tr>\n",
       "    <tr>\n",
       "      <th>3</th>\n",
       "      <td>Corrientes</td>\n",
       "      <td>[3435217.0, 3435214.0]</td>\n",
       "      <td>[Corrientes]</td>\n",
       "      <td>[|Argentina|Corrientes|Corrientes|, |Argentina...</td>\n",
       "    </tr>\n",
       "    <tr>\n",
       "      <th>4</th>\n",
       "      <td>Córdoba</td>\n",
       "      <td>[3860259.0, 3860255.0]</td>\n",
       "      <td>[Córdoba]</td>\n",
       "      <td>[|Argentina|Córdoba|Córdoba|, |Argentina|Córdo...</td>\n",
       "    </tr>\n",
       "    <tr>\n",
       "      <th>5</th>\n",
       "      <td>Ituzaingó</td>\n",
       "      <td>[3433359.0, 3433357.0]</td>\n",
       "      <td>[Bs.As. G.B.A. Zona Oeste, Corrientes]</td>\n",
       "      <td>[|Argentina|Bs.As. G.B.A. Zona Oeste|Ituzaingó...</td>\n",
       "    </tr>\n",
       "    <tr>\n",
       "      <th>6</th>\n",
       "      <td>La Paz</td>\n",
       "      <td>[3849517.0, 3432077.0]</td>\n",
       "      <td>[Córdoba, Entre Ríos]</td>\n",
       "      <td>[|Argentina|Córdoba|La Paz|, |Argentina|Entre ...</td>\n",
       "    </tr>\n",
       "    <tr>\n",
       "      <th>7</th>\n",
       "      <td>La Rioja</td>\n",
       "      <td>[3848949.0, 3848950.0]</td>\n",
       "      <td>[La Rioja]</td>\n",
       "      <td>[|Argentina|La Rioja|, |Argentina|La Rioja|La ...</td>\n",
       "    </tr>\n",
       "    <tr>\n",
       "      <th>8</th>\n",
       "      <td>Mendoza</td>\n",
       "      <td>[3844421.0, 3844419.0]</td>\n",
       "      <td>[Mendoza]</td>\n",
       "      <td>[|Argentina|Mendoza|Mendoza|, |Argentina|Mendo...</td>\n",
       "    </tr>\n",
       "    <tr>\n",
       "      <th>9</th>\n",
       "      <td>Merlo</td>\n",
       "      <td>[3844377.0, 3430696.0]</td>\n",
       "      <td>[San Luis, Bs.As. G.B.A. Zona Oeste]</td>\n",
       "      <td>[|Argentina|San Luis|Merlo|, |Argentina|Bs.As....</td>\n",
       "    </tr>\n",
       "    <tr>\n",
       "      <th>10</th>\n",
       "      <td>Miramar</td>\n",
       "      <td>[3430668.0, 3844159.0]</td>\n",
       "      <td>[Buenos Aires Costa Atlántica, Córdoba]</td>\n",
       "      <td>[|Argentina|Buenos Aires Costa Atlántica|Miram...</td>\n",
       "    </tr>\n",
       "    <tr>\n",
       "      <th>11</th>\n",
       "      <td>Neuquén</td>\n",
       "      <td>[3843123.0, 3843122.0]</td>\n",
       "      <td>[Neuquén]</td>\n",
       "      <td>[|Argentina|Neuquén|Neuquén|, |Argentina|Neuqu...</td>\n",
       "    </tr>\n",
       "    <tr>\n",
       "      <th>12</th>\n",
       "      <td>Olavarría</td>\n",
       "      <td>[3842670.0, 3842669.0]</td>\n",
       "      <td>[Buenos Aires Interior]</td>\n",
       "      <td>[|Argentina|Buenos Aires Interior|Olavarría|Ol...</td>\n",
       "    </tr>\n",
       "    <tr>\n",
       "      <th>13</th>\n",
       "      <td>Pilar</td>\n",
       "      <td>[3429979.0, 3841149.0]</td>\n",
       "      <td>[Bs.As. G.B.A. Zona Norte, Córdoba]</td>\n",
       "      <td>[|Argentina|Bs.As. G.B.A. Zona Norte|Pilar|, |...</td>\n",
       "    </tr>\n",
       "    <tr>\n",
       "      <th>14</th>\n",
       "      <td>Rawson</td>\n",
       "      <td>[3839304.0, 3839303.0]</td>\n",
       "      <td>[San Juan, Chubut]</td>\n",
       "      <td>[|Argentina|San Juan|Rawson|, |Argentina|Chubu...</td>\n",
       "    </tr>\n",
       "    <tr>\n",
       "      <th>15</th>\n",
       "      <td>Rivadavia</td>\n",
       "      <td>[3838750.0, 3838749.0]</td>\n",
       "      <td>[San Juan, Mendoza]</td>\n",
       "      <td>[|Argentina|San Juan|Rivadavia|, |Argentina|Me...</td>\n",
       "    </tr>\n",
       "    <tr>\n",
       "      <th>16</th>\n",
       "      <td>Salta</td>\n",
       "      <td>[3838233.0, 3838231.0]</td>\n",
       "      <td>[Salta]</td>\n",
       "      <td>[|Argentina|Salta|Salta|, |Argentina|Salta|]</td>\n",
       "    </tr>\n",
       "    <tr>\n",
       "      <th>17</th>\n",
       "      <td>San Javier</td>\n",
       "      <td>[3428973.0, 3428974.0]</td>\n",
       "      <td>[Santa Fe, Misiones]</td>\n",
       "      <td>[|Argentina|Santa Fe|San Javier|, |Argentina|M...</td>\n",
       "    </tr>\n",
       "    <tr>\n",
       "      <th>18</th>\n",
       "      <td>San José</td>\n",
       "      <td>[3433947.0, 3428927.0]</td>\n",
       "      <td>[Entre Ríos, Bs.As. G.B.A. Zona Sur]</td>\n",
       "      <td>[|Argentina|Entre Ríos|San José|, |Argentina|B...</td>\n",
       "    </tr>\n",
       "    <tr>\n",
       "      <th>19</th>\n",
       "      <td>San Juan</td>\n",
       "      <td>[3837152.0, 3837213.0]</td>\n",
       "      <td>[San Juan]</td>\n",
       "      <td>[|Argentina|San Juan|, |Argentina|San Juan|San...</td>\n",
       "    </tr>\n",
       "    <tr>\n",
       "      <th>20</th>\n",
       "      <td>San Justo</td>\n",
       "      <td>[3428775.0, 3837122.0]</td>\n",
       "      <td>[Bs.As. G.B.A. Zona Oeste, Santa Fe]</td>\n",
       "      <td>[|Argentina|Bs.As. G.B.A. Zona Oeste|La Matanz...</td>\n",
       "    </tr>\n",
       "    <tr>\n",
       "      <th>21</th>\n",
       "      <td>San Lorenzo</td>\n",
       "      <td>[3837090.0, 3837098.0]</td>\n",
       "      <td>[Santa Fe, Córdoba]</td>\n",
       "      <td>[|Argentina|Santa Fe|San Lorenzo|, |Argentina|...</td>\n",
       "    </tr>\n",
       "    <tr>\n",
       "      <th>22</th>\n",
       "      <td>San Luis</td>\n",
       "      <td>[3837056.0, 3837029.0]</td>\n",
       "      <td>[San Luis]</td>\n",
       "      <td>[|Argentina|San Luis|San Luis|, |Argentina|San...</td>\n",
       "    </tr>\n",
       "    <tr>\n",
       "      <th>23</th>\n",
       "      <td>San Roque</td>\n",
       "      <td>[3836587.0, 3836586.0]</td>\n",
       "      <td>[Córdoba, Mendoza]</td>\n",
       "      <td>[|Argentina|Córdoba|San Roque|, |Argentina|Men...</td>\n",
       "    </tr>\n",
       "    <tr>\n",
       "      <th>24</th>\n",
       "      <td>San Vicente</td>\n",
       "      <td>[3428056.0, 3835760.0, 3835759.0]</td>\n",
       "      <td>[Bs.As. G.B.A. Zona Sur, Córdoba]</td>\n",
       "      <td>[|Argentina|Bs.As. G.B.A. Zona Sur|San Vicente...</td>\n",
       "    </tr>\n",
       "    <tr>\n",
       "      <th>25</th>\n",
       "      <td>Santa Fe</td>\n",
       "      <td>[3836277.0, 3836276.0]</td>\n",
       "      <td>[Santa Fe]</td>\n",
       "      <td>[|Argentina|Santa Fe|Santa Fe|, |Argentina|San...</td>\n",
       "    </tr>\n",
       "    <tr>\n",
       "      <th>26</th>\n",
       "      <td>Santa María</td>\n",
       "      <td>[3836128.0, 3836129.0]</td>\n",
       "      <td>[Córdoba, Catamarca]</td>\n",
       "      <td>[|Argentina|Córdoba|Santa María|, |Argentina|C...</td>\n",
       "    </tr>\n",
       "    <tr>\n",
       "      <th>27</th>\n",
       "      <td>Veinticinco de Mayo</td>\n",
       "      <td>[3833100.0, 3427535.0]</td>\n",
       "      <td>[Buenos Aires Interior, Misiones]</td>\n",
       "      <td>[|Argentina|Buenos Aires Interior|Veinticinco ...</td>\n",
       "    </tr>\n",
       "    <tr>\n",
       "      <th>28</th>\n",
       "      <td>Victoria</td>\n",
       "      <td>[3427500.0, 3832932.0]</td>\n",
       "      <td>[Bs.As. G.B.A. Zona Norte, Entre Ríos]</td>\n",
       "      <td>[|Argentina|Bs.As. G.B.A. Zona Norte|San Ferna...</td>\n",
       "    </tr>\n",
       "    <tr>\n",
       "      <th>29</th>\n",
       "      <td>Villa Elisa</td>\n",
       "      <td>[3427442.0, 3427443.0]</td>\n",
       "      <td>[Bs.As. G.B.A. Zona Sur, Entre Ríos]</td>\n",
       "      <td>[|Argentina|Bs.As. G.B.A. Zona Sur|La Plata|Vi...</td>\n",
       "    </tr>\n",
       "    <tr>\n",
       "      <th>30</th>\n",
       "      <td>Villa Nueva</td>\n",
       "      <td>[3832661.0, 3832662.0]</td>\n",
       "      <td>[Mendoza, Córdoba]</td>\n",
       "      <td>[|Argentina|Mendoza|Villa Nueva|, |Argentina|C...</td>\n",
       "    </tr>\n",
       "    <tr>\n",
       "      <th>31</th>\n",
       "      <td>Villa Urquiza</td>\n",
       "      <td>[3433775.0, 3832603.0]</td>\n",
       "      <td>[Capital Federal, Entre Ríos]</td>\n",
       "      <td>[|Argentina|Capital Federal|Villa Urquiza|, |A...</td>\n",
       "    </tr>\n",
       "  </tbody>\n",
       "</table>\n",
       "</div>"
      ],
      "text/plain": [
       "             place_name                        geonames_id  \\\n",
       "0            Avellaneda             [3436227.0, 3436230.0]   \n",
       "1           Bella Vista             [3436061.0, 3436058.0]   \n",
       "2               Caseros             [3862356.0, 3435612.0]   \n",
       "3            Corrientes             [3435217.0, 3435214.0]   \n",
       "4               Córdoba             [3860259.0, 3860255.0]   \n",
       "5             Ituzaingó             [3433359.0, 3433357.0]   \n",
       "6                La Paz             [3849517.0, 3432077.0]   \n",
       "7              La Rioja             [3848949.0, 3848950.0]   \n",
       "8               Mendoza             [3844421.0, 3844419.0]   \n",
       "9                 Merlo             [3844377.0, 3430696.0]   \n",
       "10              Miramar             [3430668.0, 3844159.0]   \n",
       "11              Neuquén             [3843123.0, 3843122.0]   \n",
       "12            Olavarría             [3842670.0, 3842669.0]   \n",
       "13                Pilar             [3429979.0, 3841149.0]   \n",
       "14               Rawson             [3839304.0, 3839303.0]   \n",
       "15            Rivadavia             [3838750.0, 3838749.0]   \n",
       "16                Salta             [3838233.0, 3838231.0]   \n",
       "17           San Javier             [3428973.0, 3428974.0]   \n",
       "18             San José             [3433947.0, 3428927.0]   \n",
       "19             San Juan             [3837152.0, 3837213.0]   \n",
       "20            San Justo             [3428775.0, 3837122.0]   \n",
       "21          San Lorenzo             [3837090.0, 3837098.0]   \n",
       "22             San Luis             [3837056.0, 3837029.0]   \n",
       "23            San Roque             [3836587.0, 3836586.0]   \n",
       "24          San Vicente  [3428056.0, 3835760.0, 3835759.0]   \n",
       "25             Santa Fe             [3836277.0, 3836276.0]   \n",
       "26          Santa María             [3836128.0, 3836129.0]   \n",
       "27  Veinticinco de Mayo             [3833100.0, 3427535.0]   \n",
       "28             Victoria             [3427500.0, 3832932.0]   \n",
       "29          Villa Elisa             [3427442.0, 3427443.0]   \n",
       "30          Villa Nueva             [3832661.0, 3832662.0]   \n",
       "31        Villa Urquiza             [3433775.0, 3832603.0]   \n",
       "\n",
       "                                 state_name  \\\n",
       "0        [Bs.As. G.B.A. Zona Sur, Santa Fe]   \n",
       "1    [Bs.As. G.B.A. Zona Norte, Corrientes]   \n",
       "2    [Bs.As. G.B.A. Zona Oeste, Entre Ríos]   \n",
       "3                              [Corrientes]   \n",
       "4                                 [Córdoba]   \n",
       "5    [Bs.As. G.B.A. Zona Oeste, Corrientes]   \n",
       "6                     [Córdoba, Entre Ríos]   \n",
       "7                                [La Rioja]   \n",
       "8                                 [Mendoza]   \n",
       "9      [San Luis, Bs.As. G.B.A. Zona Oeste]   \n",
       "10  [Buenos Aires Costa Atlántica, Córdoba]   \n",
       "11                                [Neuquén]   \n",
       "12                  [Buenos Aires Interior]   \n",
       "13      [Bs.As. G.B.A. Zona Norte, Córdoba]   \n",
       "14                       [San Juan, Chubut]   \n",
       "15                      [San Juan, Mendoza]   \n",
       "16                                  [Salta]   \n",
       "17                     [Santa Fe, Misiones]   \n",
       "18     [Entre Ríos, Bs.As. G.B.A. Zona Sur]   \n",
       "19                               [San Juan]   \n",
       "20     [Bs.As. G.B.A. Zona Oeste, Santa Fe]   \n",
       "21                      [Santa Fe, Córdoba]   \n",
       "22                               [San Luis]   \n",
       "23                       [Córdoba, Mendoza]   \n",
       "24        [Bs.As. G.B.A. Zona Sur, Córdoba]   \n",
       "25                               [Santa Fe]   \n",
       "26                     [Córdoba, Catamarca]   \n",
       "27        [Buenos Aires Interior, Misiones]   \n",
       "28   [Bs.As. G.B.A. Zona Norte, Entre Ríos]   \n",
       "29     [Bs.As. G.B.A. Zona Sur, Entre Ríos]   \n",
       "30                       [Mendoza, Córdoba]   \n",
       "31            [Capital Federal, Entre Ríos]   \n",
       "\n",
       "                              place_with_parent_names  \n",
       "0   [|Argentina|Bs.As. G.B.A. Zona Sur|Avellaneda|...  \n",
       "1   [|Argentina|Bs.As. G.B.A. Zona Norte|San Migue...  \n",
       "2   [|Argentina|Bs.As. G.B.A. Zona Oeste|Tres de F...  \n",
       "3   [|Argentina|Corrientes|Corrientes|, |Argentina...  \n",
       "4   [|Argentina|Córdoba|Córdoba|, |Argentina|Córdo...  \n",
       "5   [|Argentina|Bs.As. G.B.A. Zona Oeste|Ituzaingó...  \n",
       "6   [|Argentina|Córdoba|La Paz|, |Argentina|Entre ...  \n",
       "7   [|Argentina|La Rioja|, |Argentina|La Rioja|La ...  \n",
       "8   [|Argentina|Mendoza|Mendoza|, |Argentina|Mendo...  \n",
       "9   [|Argentina|San Luis|Merlo|, |Argentina|Bs.As....  \n",
       "10  [|Argentina|Buenos Aires Costa Atlántica|Miram...  \n",
       "11  [|Argentina|Neuquén|Neuquén|, |Argentina|Neuqu...  \n",
       "12  [|Argentina|Buenos Aires Interior|Olavarría|Ol...  \n",
       "13  [|Argentina|Bs.As. G.B.A. Zona Norte|Pilar|, |...  \n",
       "14  [|Argentina|San Juan|Rawson|, |Argentina|Chubu...  \n",
       "15  [|Argentina|San Juan|Rivadavia|, |Argentina|Me...  \n",
       "16       [|Argentina|Salta|Salta|, |Argentina|Salta|]  \n",
       "17  [|Argentina|Santa Fe|San Javier|, |Argentina|M...  \n",
       "18  [|Argentina|Entre Ríos|San José|, |Argentina|B...  \n",
       "19  [|Argentina|San Juan|, |Argentina|San Juan|San...  \n",
       "20  [|Argentina|Bs.As. G.B.A. Zona Oeste|La Matanz...  \n",
       "21  [|Argentina|Santa Fe|San Lorenzo|, |Argentina|...  \n",
       "22  [|Argentina|San Luis|San Luis|, |Argentina|San...  \n",
       "23  [|Argentina|Córdoba|San Roque|, |Argentina|Men...  \n",
       "24  [|Argentina|Bs.As. G.B.A. Zona Sur|San Vicente...  \n",
       "25  [|Argentina|Santa Fe|Santa Fe|, |Argentina|San...  \n",
       "26  [|Argentina|Córdoba|Santa María|, |Argentina|C...  \n",
       "27  [|Argentina|Buenos Aires Interior|Veinticinco ...  \n",
       "28  [|Argentina|Bs.As. G.B.A. Zona Norte|San Ferna...  \n",
       "29  [|Argentina|Bs.As. G.B.A. Zona Sur|La Plata|Vi...  \n",
       "30  [|Argentina|Mendoza|Villa Nueva|, |Argentina|C...  \n",
       "31  [|Argentina|Capital Federal|Villa Urquiza|, |A...  "
      ]
     },
     "execution_count": 276,
     "metadata": {},
     "output_type": "execute_result"
    }
   ],
   "source": [
    "indices3 = place_name_multi_id.index #nos quedamos con los índices para crear una máscara\n",
    "mask_indices3 = data_geonames_notnull[\"place_name\"].isin(indices3)\n",
    "data_geonames_multi_id = data_geonames_notnull.loc[mask_indices3]\n",
    "\n",
    "geoids_by_place_name = data_geonames_multi_id.groupby(\"place_name\").agg({'geonames_id': 'unique', 'state_name': 'unique', 'place_with_parent_names': 'unique'}).reset_index()\n",
    "geoids_by_place_name"
   ]
  },
  {
   "cell_type": "markdown",
   "metadata": {},
   "source": [
    "En esta salida vemos que hay casos variados. \n",
    "\n",
    "✔️ En 21 casos, la cantidad de ID's coincide con la cantidad de states, con lo cual, inferimos que efectivamente son localidades con el mismo nombre, pero en diferentes regiones."
   ]
  },
  {
   "cell_type": "code",
   "execution_count": 277,
   "metadata": {},
   "outputs": [
    {
     "name": "stdout",
     "output_type": "stream",
     "text": [
      "21\n"
     ]
    }
   ],
   "source": [
    "result = 0\n",
    "for index, row in geoids_by_place_name.iterrows():\n",
    "    if len(row[\"geonames_id\"]) == len(row[\"state_name\"]):\n",
    "        result += 1\n",
    "print(result)  "
   ]
  },
  {
   "cell_type": "markdown",
   "metadata": {},
   "source": [
    "Nos quedan los 11 casos restantes. Como en la mayoría coincide el *place_name* con el *state_name*, al haber 2 ids, asumimos que uno refiere a la ciudad y otro a la provincia, y **no se trata de un error.** (otro criterio que se podría tomar es asignar el valor de geoname_id correspondiente a la localidad)."
   ]
  },
  {
   "cell_type": "code",
   "execution_count": 278,
   "metadata": {},
   "outputs": [
    {
     "name": "stdout",
     "output_type": "stream",
     "text": [
      "3 Corrientes ['Corrientes']\n",
      "4 Córdoba ['Córdoba']\n",
      "7 La Rioja ['La Rioja']\n",
      "8 Mendoza ['Mendoza']\n",
      "11 Neuquén ['Neuquén']\n",
      "12 Olavarría ['Buenos Aires Interior']\n",
      "16 Salta ['Salta']\n",
      "19 San Juan ['San Juan']\n",
      "22 San Luis ['San Luis']\n",
      "24 San Vicente ['Bs.As. G.B.A. Zona Sur' 'Córdoba']\n",
      "25 Santa Fe ['Santa Fe']\n",
      "Cantidad de casos:  11\n"
     ]
    }
   ],
   "source": [
    "result_2 = 0\n",
    "for index, row in geoids_by_place_name.iterrows():\n",
    "    if len(row[\"geonames_id\"]) != len(row[\"state_name\"]):\n",
    "        result_2 += 1\n",
    "        print (index, row[\"place_name\"],row[\"state_name\"])\n",
    "print(\"Cantidad de casos: \", result_2)  "
   ]
  },
  {
   "cell_type": "markdown",
   "metadata": {},
   "source": [
    "Resta analizar solo dos casos: Olavarría y San Vicente."
   ]
  },
  {
   "cell_type": "markdown",
   "metadata": {},
   "source": [
    "1. San vicente. Vemos que hay 3 ids posibles pero solo dos valores de *state_name*, y por lo tanto solo dos localidades. "
   ]
  },
  {
   "cell_type": "code",
   "execution_count": 279,
   "metadata": {},
   "outputs": [
    {
     "data": {
      "text/plain": [
       "3428056.0    95\n",
       "3835759.0    13\n",
       "3835760.0     3\n",
       "Name: geonames_id, dtype: int64"
      ]
     },
     "execution_count": 279,
     "metadata": {},
     "output_type": "execute_result"
    }
   ],
   "source": [
    "mask_sanvicente = data[\"place_name\"] == \"San Vicente\"\n",
    "data_sanvicente = data.loc[mask_sanvicente,[\"geonames_id\",\"place_name\",\"state_name\",\"country_name\",\"place_with_parent_names\"]]\n",
    "data_sanvicente[\"geonames_id\"].value_counts()"
   ]
  },
  {
   "cell_type": "code",
   "execution_count": 280,
   "metadata": {},
   "outputs": [
    {
     "name": "stdout",
     "output_type": "stream",
     "text": [
      "['Bs.As. G.B.A. Zona Sur']\n",
      "['Bs.As. G.B.A. Zona Sur']\n",
      "['Córdoba']\n"
     ]
    }
   ],
   "source": [
    "#San Vicente - valores unicos de state_name por cada ID.\n",
    "mask_3428056 = data[\"geonames_id\"] == 3428056.0 \n",
    "data_3428056 = data.loc[mask_3428056,[\"geonames_id\",\"place_name\",\"place_with_parent_names\",\"state_name\",\"title\",\"description\",\"lat\"]]\n",
    "print(data_3428056[\"state_name\"].unique())\n",
    "mask_3835759 = data[\"geonames_id\"] == 3835759.0\n",
    "data_3835759 = data.loc[mask_3835759,[\"geonames_id\",\"place_name\",\"place_with_parent_names\",\"state_name\",\"title\",\"description\",\"lat\"]]\n",
    "print(data_3835759[\"state_name\"].unique())\n",
    "mask_3835760 = data[\"geonames_id\"] == 3835760.0\n",
    "data_3835760= data.loc[mask_3835760,[\"geonames_id\",\"place_name\",\"place_with_parent_names\",\"state_name\",\"title\",\"description\",\"lat\"]]\n",
    "print(data_3835760[\"state_name\"].unique())"
   ]
  },
  {
   "cell_type": "markdown",
   "metadata": {},
   "source": [
    "Como los dos primeros ID refieren a la misma localidad, nos quedamos con uno solo. Según https://www.geonames.org/3428056/partido-de-san-vicente.html, el correcto es \n",
    "3428056.0"
   ]
  },
  {
   "cell_type": "code",
   "execution_count": 281,
   "metadata": {},
   "outputs": [
    {
     "data": {
      "text/html": [
       "<div>\n",
       "<style scoped>\n",
       "    .dataframe tbody tr th:only-of-type {\n",
       "        vertical-align: middle;\n",
       "    }\n",
       "\n",
       "    .dataframe tbody tr th {\n",
       "        vertical-align: top;\n",
       "    }\n",
       "\n",
       "    .dataframe thead th {\n",
       "        text-align: right;\n",
       "    }\n",
       "</style>\n",
       "<table border=\"1\" class=\"dataframe\">\n",
       "  <thead>\n",
       "    <tr style=\"text-align: right;\">\n",
       "      <th></th>\n",
       "      <th>place_name</th>\n",
       "      <th>geonames_id</th>\n",
       "      <th>state_name</th>\n",
       "      <th>place_name_new</th>\n",
       "      <th>geonames_id_new</th>\n",
       "    </tr>\n",
       "  </thead>\n",
       "  <tbody>\n",
       "    <tr>\n",
       "      <th>27393</th>\n",
       "      <td>San Vicente</td>\n",
       "      <td>3835759.0</td>\n",
       "      <td>Bs.As. G.B.A. Zona Sur</td>\n",
       "      <td>San Vicente</td>\n",
       "      <td>3428056.0</td>\n",
       "    </tr>\n",
       "    <tr>\n",
       "      <th>27950</th>\n",
       "      <td>San Vicente</td>\n",
       "      <td>3835759.0</td>\n",
       "      <td>Bs.As. G.B.A. Zona Sur</td>\n",
       "      <td>San Vicente</td>\n",
       "      <td>3428056.0</td>\n",
       "    </tr>\n",
       "    <tr>\n",
       "      <th>30517</th>\n",
       "      <td>San Vicente</td>\n",
       "      <td>3835759.0</td>\n",
       "      <td>Bs.As. G.B.A. Zona Sur</td>\n",
       "      <td>San Vicente</td>\n",
       "      <td>3428056.0</td>\n",
       "    </tr>\n",
       "    <tr>\n",
       "      <th>33045</th>\n",
       "      <td>San Vicente</td>\n",
       "      <td>3835759.0</td>\n",
       "      <td>Bs.As. G.B.A. Zona Sur</td>\n",
       "      <td>San Vicente</td>\n",
       "      <td>3428056.0</td>\n",
       "    </tr>\n",
       "    <tr>\n",
       "      <th>36335</th>\n",
       "      <td>San Vicente</td>\n",
       "      <td>3835759.0</td>\n",
       "      <td>Bs.As. G.B.A. Zona Sur</td>\n",
       "      <td>San Vicente</td>\n",
       "      <td>3428056.0</td>\n",
       "    </tr>\n",
       "    <tr>\n",
       "      <th>38015</th>\n",
       "      <td>San Vicente</td>\n",
       "      <td>3835759.0</td>\n",
       "      <td>Bs.As. G.B.A. Zona Sur</td>\n",
       "      <td>San Vicente</td>\n",
       "      <td>3428056.0</td>\n",
       "    </tr>\n",
       "    <tr>\n",
       "      <th>44701</th>\n",
       "      <td>San Vicente</td>\n",
       "      <td>3835759.0</td>\n",
       "      <td>Bs.As. G.B.A. Zona Sur</td>\n",
       "      <td>San Vicente</td>\n",
       "      <td>3428056.0</td>\n",
       "    </tr>\n",
       "    <tr>\n",
       "      <th>48104</th>\n",
       "      <td>San Vicente</td>\n",
       "      <td>3835759.0</td>\n",
       "      <td>Bs.As. G.B.A. Zona Sur</td>\n",
       "      <td>San Vicente</td>\n",
       "      <td>3428056.0</td>\n",
       "    </tr>\n",
       "    <tr>\n",
       "      <th>48259</th>\n",
       "      <td>San Vicente</td>\n",
       "      <td>3835759.0</td>\n",
       "      <td>Bs.As. G.B.A. Zona Sur</td>\n",
       "      <td>San Vicente</td>\n",
       "      <td>3428056.0</td>\n",
       "    </tr>\n",
       "    <tr>\n",
       "      <th>63233</th>\n",
       "      <td>San Vicente</td>\n",
       "      <td>3835759.0</td>\n",
       "      <td>Bs.As. G.B.A. Zona Sur</td>\n",
       "      <td>San Vicente</td>\n",
       "      <td>3428056.0</td>\n",
       "    </tr>\n",
       "    <tr>\n",
       "      <th>77509</th>\n",
       "      <td>San Vicente</td>\n",
       "      <td>3835759.0</td>\n",
       "      <td>Bs.As. G.B.A. Zona Sur</td>\n",
       "      <td>San Vicente</td>\n",
       "      <td>3428056.0</td>\n",
       "    </tr>\n",
       "    <tr>\n",
       "      <th>80344</th>\n",
       "      <td>San Vicente</td>\n",
       "      <td>3835759.0</td>\n",
       "      <td>Bs.As. G.B.A. Zona Sur</td>\n",
       "      <td>San Vicente</td>\n",
       "      <td>3428056.0</td>\n",
       "    </tr>\n",
       "    <tr>\n",
       "      <th>94099</th>\n",
       "      <td>San Vicente</td>\n",
       "      <td>3835759.0</td>\n",
       "      <td>Bs.As. G.B.A. Zona Sur</td>\n",
       "      <td>San Vicente</td>\n",
       "      <td>3428056.0</td>\n",
       "    </tr>\n",
       "  </tbody>\n",
       "</table>\n",
       "</div>"
      ],
      "text/plain": [
       "        place_name  geonames_id              state_name place_name_new  \\\n",
       "27393  San Vicente    3835759.0  Bs.As. G.B.A. Zona Sur    San Vicente   \n",
       "27950  San Vicente    3835759.0  Bs.As. G.B.A. Zona Sur    San Vicente   \n",
       "30517  San Vicente    3835759.0  Bs.As. G.B.A. Zona Sur    San Vicente   \n",
       "33045  San Vicente    3835759.0  Bs.As. G.B.A. Zona Sur    San Vicente   \n",
       "36335  San Vicente    3835759.0  Bs.As. G.B.A. Zona Sur    San Vicente   \n",
       "38015  San Vicente    3835759.0  Bs.As. G.B.A. Zona Sur    San Vicente   \n",
       "44701  San Vicente    3835759.0  Bs.As. G.B.A. Zona Sur    San Vicente   \n",
       "48104  San Vicente    3835759.0  Bs.As. G.B.A. Zona Sur    San Vicente   \n",
       "48259  San Vicente    3835759.0  Bs.As. G.B.A. Zona Sur    San Vicente   \n",
       "63233  San Vicente    3835759.0  Bs.As. G.B.A. Zona Sur    San Vicente   \n",
       "77509  San Vicente    3835759.0  Bs.As. G.B.A. Zona Sur    San Vicente   \n",
       "80344  San Vicente    3835759.0  Bs.As. G.B.A. Zona Sur    San Vicente   \n",
       "94099  San Vicente    3835759.0  Bs.As. G.B.A. Zona Sur    San Vicente   \n",
       "\n",
       "       geonames_id_new  \n",
       "27393        3428056.0  \n",
       "27950        3428056.0  \n",
       "30517        3428056.0  \n",
       "33045        3428056.0  \n",
       "36335        3428056.0  \n",
       "38015        3428056.0  \n",
       "44701        3428056.0  \n",
       "48104        3428056.0  \n",
       "48259        3428056.0  \n",
       "63233        3428056.0  \n",
       "77509        3428056.0  \n",
       "80344        3428056.0  \n",
       "94099        3428056.0  "
      ]
     },
     "execution_count": 281,
     "metadata": {},
     "output_type": "execute_result"
    }
   ],
   "source": [
    "#lo aplicamos al df original\n",
    "data.loc[mask_3835759,\"geonames_id_new\"] = 3428056.0 #valor de centro de mdq\n",
    "data.loc[mask_3835759, [\"place_name\",\"geonames_id\",\"state_name\"\n",
    "                            ,\"place_name_new\",\"geonames_id_new\"]]"
   ]
  },
  {
   "cell_type": "markdown",
   "metadata": {},
   "source": [
    "2. Olavarría. Vemos que hay 2 ids posibles pero un solo state: "
   ]
  },
  {
   "cell_type": "code",
   "execution_count": 282,
   "metadata": {},
   "outputs": [
    {
     "data": {
      "text/plain": [
       "3842669.0    5\n",
       "3842670.0    4\n",
       "Name: geonames_id, dtype: int64"
      ]
     },
     "execution_count": 282,
     "metadata": {},
     "output_type": "execute_result"
    }
   ],
   "source": [
    "mask_olavarria = data[\"place_name\"] == \"Olavarría\"\n",
    "data_olavarria = data.loc[mask_olavarria,[\"geonames_id\",\"place_name\",\"state_name\",\"country_name\",\"place_with_parent_names\"]]\n",
    "data_olavarria[\"geonames_id\"].value_counts()"
   ]
  },
  {
   "cell_type": "code",
   "execution_count": 283,
   "metadata": {},
   "outputs": [
    {
     "name": "stdout",
     "output_type": "stream",
     "text": [
      "['Buenos Aires Interior']\n",
      "['Buenos Aires Interior']\n"
     ]
    }
   ],
   "source": [
    "mask_3842669 = data[\"geonames_id\"] == 3842669.0\n",
    "data_3842669 = data.loc[mask_3842669,[\"geonames_id\",\"place_name\",\"place_with_parent_names\",\"state_name\",\"title\",\"description\",\"lat\"]]\n",
    "print(data_3842669[\"state_name\"].unique())\n",
    "mask_3842670 = data[\"geonames_id\"] == 3842670.0\n",
    "data_3842670 = data.loc[mask_3842670,[\"geonames_id\",\"place_name\",\"place_with_parent_names\",\"state_name\",\"title\",\"description\",\"lat\"]]\n",
    "print(data_3842670[\"state_name\"].unique())"
   ]
  },
  {
   "cell_type": "markdown",
   "metadata": {},
   "source": [
    "Nuevamente ambos ID refieren al mismo state, y por lo tanto decidimos quedarnos con el ID 3842669.0, que corresponde al partido de Olavarría según https://www.geonames.org/3842669/partido-de-olavarria.html"
   ]
  },
  {
   "cell_type": "code",
   "execution_count": 284,
   "metadata": {},
   "outputs": [
    {
     "data": {
      "text/html": [
       "<div>\n",
       "<style scoped>\n",
       "    .dataframe tbody tr th:only-of-type {\n",
       "        vertical-align: middle;\n",
       "    }\n",
       "\n",
       "    .dataframe tbody tr th {\n",
       "        vertical-align: top;\n",
       "    }\n",
       "\n",
       "    .dataframe thead th {\n",
       "        text-align: right;\n",
       "    }\n",
       "</style>\n",
       "<table border=\"1\" class=\"dataframe\">\n",
       "  <thead>\n",
       "    <tr style=\"text-align: right;\">\n",
       "      <th></th>\n",
       "      <th>place_name</th>\n",
       "      <th>geonames_id</th>\n",
       "      <th>state_name</th>\n",
       "      <th>place_name_new</th>\n",
       "      <th>geonames_id_new</th>\n",
       "    </tr>\n",
       "  </thead>\n",
       "  <tbody>\n",
       "    <tr>\n",
       "      <th>7740</th>\n",
       "      <td>Olavarría</td>\n",
       "      <td>3842670.0</td>\n",
       "      <td>Buenos Aires Interior</td>\n",
       "      <td>Olavarría</td>\n",
       "      <td>3842669.0</td>\n",
       "    </tr>\n",
       "    <tr>\n",
       "      <th>7741</th>\n",
       "      <td>Olavarría</td>\n",
       "      <td>3842670.0</td>\n",
       "      <td>Buenos Aires Interior</td>\n",
       "      <td>Olavarría</td>\n",
       "      <td>3842669.0</td>\n",
       "    </tr>\n",
       "    <tr>\n",
       "      <th>12413</th>\n",
       "      <td>Olavarría</td>\n",
       "      <td>3842670.0</td>\n",
       "      <td>Buenos Aires Interior</td>\n",
       "      <td>Olavarría</td>\n",
       "      <td>3842669.0</td>\n",
       "    </tr>\n",
       "    <tr>\n",
       "      <th>51466</th>\n",
       "      <td>Olavarría</td>\n",
       "      <td>3842670.0</td>\n",
       "      <td>Buenos Aires Interior</td>\n",
       "      <td>Olavarría</td>\n",
       "      <td>3842669.0</td>\n",
       "    </tr>\n",
       "  </tbody>\n",
       "</table>\n",
       "</div>"
      ],
      "text/plain": [
       "      place_name  geonames_id             state_name place_name_new  \\\n",
       "7740   Olavarría    3842670.0  Buenos Aires Interior      Olavarría   \n",
       "7741   Olavarría    3842670.0  Buenos Aires Interior      Olavarría   \n",
       "12413  Olavarría    3842670.0  Buenos Aires Interior      Olavarría   \n",
       "51466  Olavarría    3842670.0  Buenos Aires Interior      Olavarría   \n",
       "\n",
       "       geonames_id_new  \n",
       "7740         3842669.0  \n",
       "7741         3842669.0  \n",
       "12413        3842669.0  \n",
       "51466        3842669.0  "
      ]
     },
     "execution_count": 284,
     "metadata": {},
     "output_type": "execute_result"
    }
   ],
   "source": [
    "#lo aplicamos al df original\n",
    "data.loc[mask_3842670,\"geonames_id_new\"] = 3842669.0\n",
    "data.loc[mask_3842670, [\"place_name\",\"geonames_id\",\"state_name\"\n",
    "                            ,\"place_name_new\",\"geonames_id_new\"]]\n"
   ]
  },
  {
   "cell_type": "markdown",
   "metadata": {},
   "source": [
    "✔️ Con estos análisis, normalizamos los errores y **nos aseguramos que cada ID para representa una localidad única.**"
   ]
  },
  {
   "cell_type": "markdown",
   "metadata": {},
   "source": [
    "***"
   ]
  },
  {
   "cell_type": "markdown",
   "metadata": {},
   "source": [
    "Finalizados estos análisis, podríamos intentar recuperar los nulos de *geonames_id* a partir de la información en *place_name* y *state_name*.\n",
    "Comenzamos recuperando los nulos de *place_name*:"
   ]
  },
  {
   "cell_type": "code",
   "execution_count": 285,
   "metadata": {},
   "outputs": [
    {
     "name": "stdout",
     "output_type": "stream",
     "text": [
      "Cantidad de nulos en \"place_name\": 23\n",
      "Cantidad barrios:  1053\n",
      "Cantidad de geo IDS:  646\n"
     ]
    }
   ],
   "source": [
    "print(\"Cantidad de nulos en \\\"place_name\\\":\", data.place_name.isnull().sum())\n",
    "print(\"Cantidad barrios: \", len(data.place_name_new.unique()))\n",
    "print(\"Cantidad de geo IDS: \", len(data.geonames_id_new.unique()))"
   ]
  },
  {
   "cell_type": "markdown",
   "metadata": {},
   "source": [
    "No tenemos los *geoname_id* para estos valores, pero las columnas *title* y *description* nos permiten ver que son casas que están en barrios cerrados en el partido de Tigre."
   ]
  },
  {
   "cell_type": "code",
   "execution_count": 286,
   "metadata": {},
   "outputs": [
    {
     "data": {
      "text/html": [
       "<div>\n",
       "<style scoped>\n",
       "    .dataframe tbody tr th:only-of-type {\n",
       "        vertical-align: middle;\n",
       "    }\n",
       "\n",
       "    .dataframe tbody tr th {\n",
       "        vertical-align: top;\n",
       "    }\n",
       "\n",
       "    .dataframe thead th {\n",
       "        text-align: right;\n",
       "    }\n",
       "</style>\n",
       "<table border=\"1\" class=\"dataframe\">\n",
       "  <thead>\n",
       "    <tr style=\"text-align: right;\">\n",
       "      <th></th>\n",
       "      <th>place_name</th>\n",
       "      <th>state_name</th>\n",
       "      <th>place_with_parent_names</th>\n",
       "      <th>geonames_id</th>\n",
       "      <th>title</th>\n",
       "      <th>description</th>\n",
       "    </tr>\n",
       "  </thead>\n",
       "  <tbody>\n",
       "    <tr>\n",
       "      <th>6489</th>\n",
       "      <td>NaN</td>\n",
       "      <td>Bs.As. G.B.A. Zona Norte</td>\n",
       "      <td>|Argentina|Bs.As. G.B.A. Zona Norte|Tigre||</td>\n",
       "      <td>NaN</td>\n",
       "      <td>Venta de casa en Santa María de Tigre</td>\n",
       "      <td>Espectacular casa moderna de una planta, con a...</td>\n",
       "    </tr>\n",
       "    <tr>\n",
       "      <th>10201</th>\n",
       "      <td>NaN</td>\n",
       "      <td>Bs.As. G.B.A. Zona Norte</td>\n",
       "      <td>|Argentina|Bs.As. G.B.A. Zona Norte|Tigre||</td>\n",
       "      <td>NaN</td>\n",
       "      <td>VENTA CASA SANTA MARÍA DE TIGRE COUNTRY BARRIO...</td>\n",
       "      <td>Corredor Responsable: SABRINA COCCONI - CSI 62...</td>\n",
       "    </tr>\n",
       "    <tr>\n",
       "      <th>11451</th>\n",
       "      <td>NaN</td>\n",
       "      <td>Bs.As. G.B.A. Zona Norte</td>\n",
       "      <td>|Argentina|Bs.As. G.B.A. Zona Norte|Tigre||</td>\n",
       "      <td>NaN</td>\n",
       "      <td>SANTA MARIA DE TIGRE IMPECABLE</td>\n",
       "      <td>MUY LINDA CASA EN EXCELENTE UBICACION!! Superf...</td>\n",
       "    </tr>\n",
       "    <tr>\n",
       "      <th>14839</th>\n",
       "      <td>NaN</td>\n",
       "      <td>Bs.As. G.B.A. Zona Norte</td>\n",
       "      <td>|Argentina|Bs.As. G.B.A. Zona Norte|Tigre||</td>\n",
       "      <td>NaN</td>\n",
       "      <td>Venta de casa en Santa María de Tigre</td>\n",
       "      <td>Muy linda casa de estilo clásico.-Planta baja;...</td>\n",
       "    </tr>\n",
       "    <tr>\n",
       "      <th>18622</th>\n",
       "      <td>NaN</td>\n",
       "      <td>Bs.As. G.B.A. Zona Norte</td>\n",
       "      <td>|Argentina|Bs.As. G.B.A. Zona Norte|Tigre||</td>\n",
       "      <td>NaN</td>\n",
       "      <td>Casa con increible vista al lago con playa y m...</td>\n",
       "      <td>Casa con increible vista al lago con playa de...</td>\n",
       "    </tr>\n",
       "  </tbody>\n",
       "</table>\n",
       "</div>"
      ],
      "text/plain": [
       "      place_name                state_name  \\\n",
       "6489         NaN  Bs.As. G.B.A. Zona Norte   \n",
       "10201        NaN  Bs.As. G.B.A. Zona Norte   \n",
       "11451        NaN  Bs.As. G.B.A. Zona Norte   \n",
       "14839        NaN  Bs.As. G.B.A. Zona Norte   \n",
       "18622        NaN  Bs.As. G.B.A. Zona Norte   \n",
       "\n",
       "                           place_with_parent_names  geonames_id  \\\n",
       "6489   |Argentina|Bs.As. G.B.A. Zona Norte|Tigre||          NaN   \n",
       "10201  |Argentina|Bs.As. G.B.A. Zona Norte|Tigre||          NaN   \n",
       "11451  |Argentina|Bs.As. G.B.A. Zona Norte|Tigre||          NaN   \n",
       "14839  |Argentina|Bs.As. G.B.A. Zona Norte|Tigre||          NaN   \n",
       "18622  |Argentina|Bs.As. G.B.A. Zona Norte|Tigre||          NaN   \n",
       "\n",
       "                                                   title  \\\n",
       "6489               Venta de casa en Santa María de Tigre   \n",
       "10201  VENTA CASA SANTA MARÍA DE TIGRE COUNTRY BARRIO...   \n",
       "11451                     SANTA MARIA DE TIGRE IMPECABLE   \n",
       "14839              Venta de casa en Santa María de Tigre   \n",
       "18622  Casa con increible vista al lago con playa y m...   \n",
       "\n",
       "                                             description  \n",
       "6489   Espectacular casa moderna de una planta, con a...  \n",
       "10201  Corredor Responsable: SABRINA COCCONI - CSI 62...  \n",
       "11451  MUY LINDA CASA EN EXCELENTE UBICACION!! Superf...  \n",
       "14839  Muy linda casa de estilo clásico.-Planta baja;...  \n",
       "18622   Casa con increible vista al lago con playa de...  "
      ]
     },
     "execution_count": 286,
     "metadata": {},
     "output_type": "execute_result"
    }
   ],
   "source": [
    "mask_place_name_null = data.place_name.isnull()\n",
    "data_null_place_name = data.loc[mask_place_name_null ,[\"place_name\",\"state_name\",\"place_with_parent_names\",\"geonames_id\",\"title\",\"description\"]]\n",
    "data_null_place_name.head()"
   ]
  },
  {
   "cell_type": "code",
   "execution_count": 287,
   "metadata": {},
   "outputs": [
    {
     "data": {
      "text/plain": [
       "SANTA MARIA DE TIGRE 100                                                               6\n",
       "Venta de casa en Santa María de Tigre                                                  3\n",
       "VENTA CASA SANTA MARÍA DE TIGRE COUNTRY BARRIO CERRADO                                 1\n",
       "SANTA MARIA DE TIGRE IMPECABLE                                                         1\n",
       "Casa con increible vista al lago con playa y muelle en venta en Sta Maria de Tigre.    1\n",
       "Venta Casa - Barrio Santa Maria de Tigre                                               1\n",
       "CASA EN VENTA EN SANTA MARIA DE TIGRE CON RENTA                                        1\n",
       "Casa (barrio cerrado), Venta                                                           1\n",
       "Excelente monoambiente. Barrio El Palmar.  Con Renta                                   1\n",
       "Venta de Casa al rio                                                                   1\n",
       "Casa en Venta                                                                          1\n",
       "Santa María de Tigre. Casa con amarra.                                                 1\n",
       "CASA EN VENTA AL AGUA EN SANTA MARIA DE TIGRE                                          1\n",
       "VENTA CASA A ESTRENAR EN LAS TIPAS NORDELTA                                            1\n",
       "Muy linda casa a estrenar en Las Tipas                                                 1\n",
       "Oportunidad! Casa en La Alameda                                                        1\n",
       "Name: title, dtype: int64"
      ]
     },
     "execution_count": 287,
     "metadata": {},
     "output_type": "execute_result"
    }
   ],
   "source": [
    "data_null_place_name.title.value_counts()"
   ]
  },
  {
   "cell_type": "markdown",
   "metadata": {},
   "source": [
    "Vemos si hay filas con valor \"Tigre\" en *place_name*:"
   ]
  },
  {
   "cell_type": "code",
   "execution_count": 288,
   "metadata": {},
   "outputs": [
    {
     "name": "stdout",
     "output_type": "stream",
     "text": [
      "Hay 3324 valores 'Tigre'\n"
     ]
    }
   ],
   "source": [
    "mask_tigre = data[\"place_name_new\"] == \"Tigre\"\n",
    "data_tigre = data.loc[mask_tigre,[\"geonames_id\",\"place_name\",\"state_name\",\"title\",\"place_with_parent_names\",\"price_per_m2\"]]\n",
    "print(f\"Hay {data_tigre.shape[0]} valores 'Tigre'\")"
   ]
  },
  {
   "cell_type": "markdown",
   "metadata": {},
   "source": [
    "Comparamos la media del precio por m2 en ambos grupos, para ver si es razonable asignarles el valor \"Tigre a todos\" sin importar si están en un barrio cerrado o no, ya que esto suele modificar el precio de las propiedades."
   ]
  },
  {
   "cell_type": "code",
   "execution_count": 289,
   "metadata": {},
   "outputs": [
    {
     "data": {
      "text/html": [
       "<div>\n",
       "<style scoped>\n",
       "    .dataframe tbody tr th:only-of-type {\n",
       "        vertical-align: middle;\n",
       "    }\n",
       "\n",
       "    .dataframe tbody tr th {\n",
       "        vertical-align: top;\n",
       "    }\n",
       "\n",
       "    .dataframe thead th {\n",
       "        text-align: right;\n",
       "    }\n",
       "</style>\n",
       "<table border=\"1\" class=\"dataframe\">\n",
       "  <thead>\n",
       "    <tr style=\"text-align: right;\">\n",
       "      <th></th>\n",
       "      <th>price_per_m2</th>\n",
       "    </tr>\n",
       "    <tr>\n",
       "      <th>place_name_new</th>\n",
       "      <th></th>\n",
       "    </tr>\n",
       "  </thead>\n",
       "  <tbody>\n",
       "    <tr>\n",
       "      <th>Tigre</th>\n",
       "      <td>6184.843423</td>\n",
       "    </tr>\n",
       "    <tr>\n",
       "      <th>Tigre (Barrio Cerrado)</th>\n",
       "      <td>5458.459683</td>\n",
       "    </tr>\n",
       "  </tbody>\n",
       "</table>\n",
       "</div>"
      ],
      "text/plain": [
       "                        price_per_m2\n",
       "place_name_new                      \n",
       "Tigre                    6184.843423\n",
       "Tigre (Barrio Cerrado)   5458.459683"
      ]
     },
     "execution_count": 289,
     "metadata": {},
     "output_type": "execute_result"
    }
   ],
   "source": [
    "data.loc[mask_place_name_null,\"place_name_new\"] = \"Tigre (Barrio Cerrado)\" #asignamos momentáneamente un nuevo valor de place_name para poder agrupar\n",
    "mask_tigrebc = data[\"place_name_new\"] == \"Tigre (Barrio Cerrado)\" \n",
    "mask_tigres = mask_tigre | mask_tigrebc #hacemos una máscara para juntar ambos valores de Tigre\n",
    "data_tigres = data.loc[mask_tigres] #creamos un df \n",
    "data_tigres.pivot_table([\"price_per_m2\"], index=[\"place_name_new\"]) #visualizamos la media por cada grupo."
   ]
  },
  {
   "cell_type": "markdown",
   "metadata": {},
   "source": [
    "Como las medias son muy diferentes, dejamos los 2 valores de *place_name* para cada grupo, y creamos un nuevo *geoname_id* para el caso de \"Tigre (Barrio Cerrado)\" a partir del de \"Tigre\":"
   ]
  },
  {
   "cell_type": "code",
   "execution_count": 290,
   "metadata": {},
   "outputs": [
    {
     "data": {
      "text/html": [
       "<div>\n",
       "<style scoped>\n",
       "    .dataframe tbody tr th:only-of-type {\n",
       "        vertical-align: middle;\n",
       "    }\n",
       "\n",
       "    .dataframe tbody tr th {\n",
       "        vertical-align: top;\n",
       "    }\n",
       "\n",
       "    .dataframe thead th {\n",
       "        text-align: right;\n",
       "    }\n",
       "</style>\n",
       "<table border=\"1\" class=\"dataframe\">\n",
       "  <thead>\n",
       "    <tr style=\"text-align: right;\">\n",
       "      <th></th>\n",
       "      <th>place_name</th>\n",
       "      <th>geonames_id</th>\n",
       "      <th>state_name</th>\n",
       "      <th>place_name_new</th>\n",
       "      <th>geonames_id_new</th>\n",
       "    </tr>\n",
       "  </thead>\n",
       "  <tbody>\n",
       "    <tr>\n",
       "      <th>6489</th>\n",
       "      <td>NaN</td>\n",
       "      <td>NaN</td>\n",
       "      <td>Bs.As. G.B.A. Zona Norte</td>\n",
       "      <td>Tigre (Barrio Cerrado)</td>\n",
       "      <td>342775300.0</td>\n",
       "    </tr>\n",
       "    <tr>\n",
       "      <th>10201</th>\n",
       "      <td>NaN</td>\n",
       "      <td>NaN</td>\n",
       "      <td>Bs.As. G.B.A. Zona Norte</td>\n",
       "      <td>Tigre (Barrio Cerrado)</td>\n",
       "      <td>342775300.0</td>\n",
       "    </tr>\n",
       "    <tr>\n",
       "      <th>11451</th>\n",
       "      <td>NaN</td>\n",
       "      <td>NaN</td>\n",
       "      <td>Bs.As. G.B.A. Zona Norte</td>\n",
       "      <td>Tigre (Barrio Cerrado)</td>\n",
       "      <td>342775300.0</td>\n",
       "    </tr>\n",
       "    <tr>\n",
       "      <th>14839</th>\n",
       "      <td>NaN</td>\n",
       "      <td>NaN</td>\n",
       "      <td>Bs.As. G.B.A. Zona Norte</td>\n",
       "      <td>Tigre (Barrio Cerrado)</td>\n",
       "      <td>342775300.0</td>\n",
       "    </tr>\n",
       "    <tr>\n",
       "      <th>18622</th>\n",
       "      <td>NaN</td>\n",
       "      <td>NaN</td>\n",
       "      <td>Bs.As. G.B.A. Zona Norte</td>\n",
       "      <td>Tigre (Barrio Cerrado)</td>\n",
       "      <td>342775300.0</td>\n",
       "    </tr>\n",
       "    <tr>\n",
       "      <th>21922</th>\n",
       "      <td>NaN</td>\n",
       "      <td>NaN</td>\n",
       "      <td>Bs.As. G.B.A. Zona Norte</td>\n",
       "      <td>Tigre (Barrio Cerrado)</td>\n",
       "      <td>342775300.0</td>\n",
       "    </tr>\n",
       "    <tr>\n",
       "      <th>23664</th>\n",
       "      <td>NaN</td>\n",
       "      <td>NaN</td>\n",
       "      <td>Bs.As. G.B.A. Zona Norte</td>\n",
       "      <td>Tigre (Barrio Cerrado)</td>\n",
       "      <td>342775300.0</td>\n",
       "    </tr>\n",
       "    <tr>\n",
       "      <th>24722</th>\n",
       "      <td>NaN</td>\n",
       "      <td>NaN</td>\n",
       "      <td>Bs.As. G.B.A. Zona Norte</td>\n",
       "      <td>Tigre (Barrio Cerrado)</td>\n",
       "      <td>342775300.0</td>\n",
       "    </tr>\n",
       "    <tr>\n",
       "      <th>38856</th>\n",
       "      <td>NaN</td>\n",
       "      <td>NaN</td>\n",
       "      <td>Bs.As. G.B.A. Zona Norte</td>\n",
       "      <td>Tigre (Barrio Cerrado)</td>\n",
       "      <td>342775300.0</td>\n",
       "    </tr>\n",
       "    <tr>\n",
       "      <th>45970</th>\n",
       "      <td>NaN</td>\n",
       "      <td>NaN</td>\n",
       "      <td>Bs.As. G.B.A. Zona Norte</td>\n",
       "      <td>Tigre (Barrio Cerrado)</td>\n",
       "      <td>342775300.0</td>\n",
       "    </tr>\n",
       "    <tr>\n",
       "      <th>46642</th>\n",
       "      <td>NaN</td>\n",
       "      <td>NaN</td>\n",
       "      <td>Bs.As. G.B.A. Zona Norte</td>\n",
       "      <td>Tigre (Barrio Cerrado)</td>\n",
       "      <td>342775300.0</td>\n",
       "    </tr>\n",
       "    <tr>\n",
       "      <th>53130</th>\n",
       "      <td>NaN</td>\n",
       "      <td>NaN</td>\n",
       "      <td>Bs.As. G.B.A. Zona Norte</td>\n",
       "      <td>Tigre (Barrio Cerrado)</td>\n",
       "      <td>342775300.0</td>\n",
       "    </tr>\n",
       "    <tr>\n",
       "      <th>55306</th>\n",
       "      <td>NaN</td>\n",
       "      <td>NaN</td>\n",
       "      <td>Bs.As. G.B.A. Zona Norte</td>\n",
       "      <td>Tigre (Barrio Cerrado)</td>\n",
       "      <td>342775300.0</td>\n",
       "    </tr>\n",
       "    <tr>\n",
       "      <th>57703</th>\n",
       "      <td>NaN</td>\n",
       "      <td>NaN</td>\n",
       "      <td>Bs.As. G.B.A. Zona Norte</td>\n",
       "      <td>Tigre (Barrio Cerrado)</td>\n",
       "      <td>342775300.0</td>\n",
       "    </tr>\n",
       "    <tr>\n",
       "      <th>57759</th>\n",
       "      <td>NaN</td>\n",
       "      <td>NaN</td>\n",
       "      <td>Bs.As. G.B.A. Zona Norte</td>\n",
       "      <td>Tigre (Barrio Cerrado)</td>\n",
       "      <td>342775300.0</td>\n",
       "    </tr>\n",
       "    <tr>\n",
       "      <th>57764</th>\n",
       "      <td>NaN</td>\n",
       "      <td>NaN</td>\n",
       "      <td>Bs.As. G.B.A. Zona Norte</td>\n",
       "      <td>Tigre (Barrio Cerrado)</td>\n",
       "      <td>342775300.0</td>\n",
       "    </tr>\n",
       "    <tr>\n",
       "      <th>57793</th>\n",
       "      <td>NaN</td>\n",
       "      <td>NaN</td>\n",
       "      <td>Bs.As. G.B.A. Zona Norte</td>\n",
       "      <td>Tigre (Barrio Cerrado)</td>\n",
       "      <td>342775300.0</td>\n",
       "    </tr>\n",
       "    <tr>\n",
       "      <th>58004</th>\n",
       "      <td>NaN</td>\n",
       "      <td>NaN</td>\n",
       "      <td>Bs.As. G.B.A. Zona Norte</td>\n",
       "      <td>Tigre (Barrio Cerrado)</td>\n",
       "      <td>342775300.0</td>\n",
       "    </tr>\n",
       "    <tr>\n",
       "      <th>58037</th>\n",
       "      <td>NaN</td>\n",
       "      <td>NaN</td>\n",
       "      <td>Bs.As. G.B.A. Zona Norte</td>\n",
       "      <td>Tigre (Barrio Cerrado)</td>\n",
       "      <td>342775300.0</td>\n",
       "    </tr>\n",
       "    <tr>\n",
       "      <th>59069</th>\n",
       "      <td>NaN</td>\n",
       "      <td>NaN</td>\n",
       "      <td>Bs.As. G.B.A. Zona Norte</td>\n",
       "      <td>Tigre (Barrio Cerrado)</td>\n",
       "      <td>342775300.0</td>\n",
       "    </tr>\n",
       "    <tr>\n",
       "      <th>62411</th>\n",
       "      <td>NaN</td>\n",
       "      <td>NaN</td>\n",
       "      <td>Bs.As. G.B.A. Zona Norte</td>\n",
       "      <td>Tigre (Barrio Cerrado)</td>\n",
       "      <td>342775300.0</td>\n",
       "    </tr>\n",
       "    <tr>\n",
       "      <th>62413</th>\n",
       "      <td>NaN</td>\n",
       "      <td>NaN</td>\n",
       "      <td>Bs.As. G.B.A. Zona Norte</td>\n",
       "      <td>Tigre (Barrio Cerrado)</td>\n",
       "      <td>342775300.0</td>\n",
       "    </tr>\n",
       "    <tr>\n",
       "      <th>63849</th>\n",
       "      <td>NaN</td>\n",
       "      <td>NaN</td>\n",
       "      <td>Bs.As. G.B.A. Zona Norte</td>\n",
       "      <td>Tigre (Barrio Cerrado)</td>\n",
       "      <td>342775300.0</td>\n",
       "    </tr>\n",
       "  </tbody>\n",
       "</table>\n",
       "</div>"
      ],
      "text/plain": [
       "      place_name  geonames_id                state_name  \\\n",
       "6489         NaN          NaN  Bs.As. G.B.A. Zona Norte   \n",
       "10201        NaN          NaN  Bs.As. G.B.A. Zona Norte   \n",
       "11451        NaN          NaN  Bs.As. G.B.A. Zona Norte   \n",
       "14839        NaN          NaN  Bs.As. G.B.A. Zona Norte   \n",
       "18622        NaN          NaN  Bs.As. G.B.A. Zona Norte   \n",
       "21922        NaN          NaN  Bs.As. G.B.A. Zona Norte   \n",
       "23664        NaN          NaN  Bs.As. G.B.A. Zona Norte   \n",
       "24722        NaN          NaN  Bs.As. G.B.A. Zona Norte   \n",
       "38856        NaN          NaN  Bs.As. G.B.A. Zona Norte   \n",
       "45970        NaN          NaN  Bs.As. G.B.A. Zona Norte   \n",
       "46642        NaN          NaN  Bs.As. G.B.A. Zona Norte   \n",
       "53130        NaN          NaN  Bs.As. G.B.A. Zona Norte   \n",
       "55306        NaN          NaN  Bs.As. G.B.A. Zona Norte   \n",
       "57703        NaN          NaN  Bs.As. G.B.A. Zona Norte   \n",
       "57759        NaN          NaN  Bs.As. G.B.A. Zona Norte   \n",
       "57764        NaN          NaN  Bs.As. G.B.A. Zona Norte   \n",
       "57793        NaN          NaN  Bs.As. G.B.A. Zona Norte   \n",
       "58004        NaN          NaN  Bs.As. G.B.A. Zona Norte   \n",
       "58037        NaN          NaN  Bs.As. G.B.A. Zona Norte   \n",
       "59069        NaN          NaN  Bs.As. G.B.A. Zona Norte   \n",
       "62411        NaN          NaN  Bs.As. G.B.A. Zona Norte   \n",
       "62413        NaN          NaN  Bs.As. G.B.A. Zona Norte   \n",
       "63849        NaN          NaN  Bs.As. G.B.A. Zona Norte   \n",
       "\n",
       "               place_name_new  geonames_id_new  \n",
       "6489   Tigre (Barrio Cerrado)      342775300.0  \n",
       "10201  Tigre (Barrio Cerrado)      342775300.0  \n",
       "11451  Tigre (Barrio Cerrado)      342775300.0  \n",
       "14839  Tigre (Barrio Cerrado)      342775300.0  \n",
       "18622  Tigre (Barrio Cerrado)      342775300.0  \n",
       "21922  Tigre (Barrio Cerrado)      342775300.0  \n",
       "23664  Tigre (Barrio Cerrado)      342775300.0  \n",
       "24722  Tigre (Barrio Cerrado)      342775300.0  \n",
       "38856  Tigre (Barrio Cerrado)      342775300.0  \n",
       "45970  Tigre (Barrio Cerrado)      342775300.0  \n",
       "46642  Tigre (Barrio Cerrado)      342775300.0  \n",
       "53130  Tigre (Barrio Cerrado)      342775300.0  \n",
       "55306  Tigre (Barrio Cerrado)      342775300.0  \n",
       "57703  Tigre (Barrio Cerrado)      342775300.0  \n",
       "57759  Tigre (Barrio Cerrado)      342775300.0  \n",
       "57764  Tigre (Barrio Cerrado)      342775300.0  \n",
       "57793  Tigre (Barrio Cerrado)      342775300.0  \n",
       "58004  Tigre (Barrio Cerrado)      342775300.0  \n",
       "58037  Tigre (Barrio Cerrado)      342775300.0  \n",
       "59069  Tigre (Barrio Cerrado)      342775300.0  \n",
       "62411  Tigre (Barrio Cerrado)      342775300.0  \n",
       "62413  Tigre (Barrio Cerrado)      342775300.0  \n",
       "63849  Tigre (Barrio Cerrado)      342775300.0  "
      ]
     },
     "execution_count": 290,
     "metadata": {},
     "output_type": "execute_result"
    }
   ],
   "source": [
    "#Le agregamos dos ceros al id original: 3427753.0\n",
    "\n",
    "data.loc[mask_tigrebc,\"geonames_id_new\"] = 342775300.0\n",
    "\n",
    "data.loc[mask_tigrebc, [\"place_name\",\"geonames_id\",\"state_name\"\n",
    "                            ,\"place_name_new\",\"geonames_id_new\"]]\n"
   ]
  },
  {
   "cell_type": "markdown",
   "metadata": {},
   "source": [
    "Por último, vemos que place_name tiene un valor erroneo, mediante un value_counts."
   ]
  },
  {
   "cell_type": "code",
   "execution_count": 291,
   "metadata": {},
   "outputs": [],
   "source": [
    "#data.place_name.value_counts().to_csv('place_name_analisis')"
   ]
  },
  {
   "cell_type": "markdown",
   "metadata": {},
   "source": [
    "Le asignamos el valor de geo id creado recientemente ya que según title, corresponde a un barrio cerrado en el partido de Tigre."
   ]
  },
  {
   "cell_type": "code",
   "execution_count": 292,
   "metadata": {},
   "outputs": [],
   "source": [
    "mask_coord_error = data[\"place_name_new\"] == \"coordenadas 34.255511\"\n",
    "data_coord_error = data.loc[mask_coord_error,[\"title\",\"description\",\"geonames_id\",\"place_name\",\"state_name\"]]\n",
    "data_coord_error\n",
    "\n",
    "\n",
    "data.loc[mask_coord_error,\"geonames_id\"] = 342775300.0"
   ]
  },
  {
   "cell_type": "markdown",
   "metadata": {},
   "source": [
    "---"
   ]
  },
  {
   "cell_type": "markdown",
   "metadata": {},
   "source": [
    "Como último paso, intentamos recuperar los nulos de *geonames_id_new*.\n",
    "\n",
    "Creamos un nuevo df con las dos variables que nos interesan, pero excluyendo los valores nulos."
   ]
  },
  {
   "cell_type": "code",
   "execution_count": 293,
   "metadata": {},
   "outputs": [
    {
     "data": {
      "text/html": [
       "<div>\n",
       "<style scoped>\n",
       "    .dataframe tbody tr th:only-of-type {\n",
       "        vertical-align: middle;\n",
       "    }\n",
       "\n",
       "    .dataframe tbody tr th {\n",
       "        vertical-align: top;\n",
       "    }\n",
       "\n",
       "    .dataframe thead th {\n",
       "        text-align: right;\n",
       "    }\n",
       "</style>\n",
       "<table border=\"1\" class=\"dataframe\">\n",
       "  <thead>\n",
       "    <tr style=\"text-align: right;\">\n",
       "      <th></th>\n",
       "      <th>geonames_id_new</th>\n",
       "      <th>place_name_new</th>\n",
       "      <th>state_name</th>\n",
       "    </tr>\n",
       "  </thead>\n",
       "  <tbody>\n",
       "    <tr>\n",
       "      <th>0</th>\n",
       "      <td>3430787.0</td>\n",
       "      <td>Mataderos</td>\n",
       "      <td>Capital Federal</td>\n",
       "    </tr>\n",
       "    <tr>\n",
       "      <th>1</th>\n",
       "      <td>3432039.0</td>\n",
       "      <td>La Plata</td>\n",
       "      <td>Bs.As. G.B.A. Zona Sur</td>\n",
       "    </tr>\n",
       "    <tr>\n",
       "      <th>2</th>\n",
       "      <td>3430787.0</td>\n",
       "      <td>Mataderos</td>\n",
       "      <td>Capital Federal</td>\n",
       "    </tr>\n",
       "    <tr>\n",
       "      <th>3</th>\n",
       "      <td>3431333.0</td>\n",
       "      <td>Liniers</td>\n",
       "      <td>Capital Federal</td>\n",
       "    </tr>\n",
       "    <tr>\n",
       "      <th>4</th>\n",
       "      <td>3435548.0</td>\n",
       "      <td>Centro</td>\n",
       "      <td>Buenos Aires Costa Atlántica</td>\n",
       "    </tr>\n",
       "    <tr>\n",
       "      <th>...</th>\n",
       "      <td>...</td>\n",
       "      <td>...</td>\n",
       "      <td>...</td>\n",
       "    </tr>\n",
       "    <tr>\n",
       "      <th>121214</th>\n",
       "      <td>3428983.0</td>\n",
       "      <td>San Isidro</td>\n",
       "      <td>Bs.As. G.B.A. Zona Norte</td>\n",
       "    </tr>\n",
       "    <tr>\n",
       "      <th>121215</th>\n",
       "      <td>3436077.0</td>\n",
       "      <td>Belgrano</td>\n",
       "      <td>Capital Federal</td>\n",
       "    </tr>\n",
       "    <tr>\n",
       "      <th>121216</th>\n",
       "      <td>3436080.0</td>\n",
       "      <td>Beccar</td>\n",
       "      <td>Bs.As. G.B.A. Zona Norte</td>\n",
       "    </tr>\n",
       "    <tr>\n",
       "      <th>121217</th>\n",
       "      <td>3433775.0</td>\n",
       "      <td>Villa Urquiza</td>\n",
       "      <td>Capital Federal</td>\n",
       "    </tr>\n",
       "    <tr>\n",
       "      <th>121219</th>\n",
       "      <td>3433955.0</td>\n",
       "      <td>Capital Federal</td>\n",
       "      <td>Capital Federal</td>\n",
       "    </tr>\n",
       "  </tbody>\n",
       "</table>\n",
       "<p>102526 rows × 3 columns</p>\n",
       "</div>"
      ],
      "text/plain": [
       "        geonames_id_new   place_name_new                    state_name\n",
       "0             3430787.0        Mataderos               Capital Federal\n",
       "1             3432039.0         La Plata        Bs.As. G.B.A. Zona Sur\n",
       "2             3430787.0        Mataderos               Capital Federal\n",
       "3             3431333.0          Liniers               Capital Federal\n",
       "4             3435548.0           Centro  Buenos Aires Costa Atlántica\n",
       "...                 ...              ...                           ...\n",
       "121214        3428983.0       San Isidro      Bs.As. G.B.A. Zona Norte\n",
       "121215        3436077.0         Belgrano               Capital Federal\n",
       "121216        3436080.0           Beccar      Bs.As. G.B.A. Zona Norte\n",
       "121217        3433775.0    Villa Urquiza               Capital Federal\n",
       "121219        3433955.0  Capital Federal               Capital Federal\n",
       "\n",
       "[102526 rows x 3 columns]"
      ]
     },
     "execution_count": 293,
     "metadata": {},
     "output_type": "execute_result"
    }
   ],
   "source": [
    "mask_geoid_notnull = data.geonames_id_new.notnull()\n",
    "df_geo_id = data.loc[mask_geoid_notnull,[\"geonames_id_new\",\"place_name_new\",\"state_name\"]]\n",
    "df_geo_id"
   ]
  },
  {
   "cell_type": "markdown",
   "metadata": {},
   "source": [
    "Ahora eliminamos todos los duplicados de id. Eso nos va a permitir quedarnos con un df que contiene una localidad para cada id. "
   ]
  },
  {
   "cell_type": "code",
   "execution_count": 294,
   "metadata": {},
   "outputs": [
    {
     "name": "stdout",
     "output_type": "stream",
     "text": [
      "(102526, 3)\n",
      "(646, 3)\n"
     ]
    },
    {
     "data": {
      "text/html": [
       "<div>\n",
       "<style scoped>\n",
       "    .dataframe tbody tr th:only-of-type {\n",
       "        vertical-align: middle;\n",
       "    }\n",
       "\n",
       "    .dataframe tbody tr th {\n",
       "        vertical-align: top;\n",
       "    }\n",
       "\n",
       "    .dataframe thead th {\n",
       "        text-align: right;\n",
       "    }\n",
       "</style>\n",
       "<table border=\"1\" class=\"dataframe\">\n",
       "  <thead>\n",
       "    <tr style=\"text-align: right;\">\n",
       "      <th></th>\n",
       "      <th>geonames_id_new</th>\n",
       "      <th>place_name_new</th>\n",
       "      <th>state_name</th>\n",
       "    </tr>\n",
       "  </thead>\n",
       "  <tbody>\n",
       "    <tr>\n",
       "      <th>0</th>\n",
       "      <td>3430787.0</td>\n",
       "      <td>Mataderos</td>\n",
       "      <td>Capital Federal</td>\n",
       "    </tr>\n",
       "    <tr>\n",
       "      <th>1</th>\n",
       "      <td>3432039.0</td>\n",
       "      <td>La Plata</td>\n",
       "      <td>Bs.As. G.B.A. Zona Sur</td>\n",
       "    </tr>\n",
       "    <tr>\n",
       "      <th>3</th>\n",
       "      <td>3431333.0</td>\n",
       "      <td>Liniers</td>\n",
       "      <td>Capital Federal</td>\n",
       "    </tr>\n",
       "    <tr>\n",
       "      <th>4</th>\n",
       "      <td>3435548.0</td>\n",
       "      <td>Centro</td>\n",
       "      <td>Buenos Aires Costa Atlántica</td>\n",
       "    </tr>\n",
       "    <tr>\n",
       "      <th>5</th>\n",
       "      <td>3433657.0</td>\n",
       "      <td>Gualeguaychú</td>\n",
       "      <td>Entre Ríos</td>\n",
       "    </tr>\n",
       "    <tr>\n",
       "      <th>...</th>\n",
       "      <td>...</td>\n",
       "      <td>...</td>\n",
       "      <td>...</td>\n",
       "    </tr>\n",
       "    <tr>\n",
       "      <th>116479</th>\n",
       "      <td>3861887.0</td>\n",
       "      <td>Chaco</td>\n",
       "      <td>Chaco</td>\n",
       "    </tr>\n",
       "    <tr>\n",
       "      <th>117229</th>\n",
       "      <td>3429610.0</td>\n",
       "      <td>Ranchos</td>\n",
       "      <td>Buenos Aires Interior</td>\n",
       "    </tr>\n",
       "    <tr>\n",
       "      <th>119567</th>\n",
       "      <td>3854153.0</td>\n",
       "      <td>Hoyo de Epuyén</td>\n",
       "      <td>Chubut</td>\n",
       "    </tr>\n",
       "    <tr>\n",
       "      <th>119657</th>\n",
       "      <td>3850920.0</td>\n",
       "      <td>Laguna Paiva</td>\n",
       "      <td>Santa Fe</td>\n",
       "    </tr>\n",
       "    <tr>\n",
       "      <th>119832</th>\n",
       "      <td>3430940.0</td>\n",
       "      <td>Malabrigo</td>\n",
       "      <td>Santa Fe</td>\n",
       "    </tr>\n",
       "  </tbody>\n",
       "</table>\n",
       "<p>646 rows × 3 columns</p>\n",
       "</div>"
      ],
      "text/plain": [
       "        geonames_id_new  place_name_new                    state_name\n",
       "0             3430787.0       Mataderos               Capital Federal\n",
       "1             3432039.0        La Plata        Bs.As. G.B.A. Zona Sur\n",
       "3             3431333.0         Liniers               Capital Federal\n",
       "4             3435548.0          Centro  Buenos Aires Costa Atlántica\n",
       "5             3433657.0    Gualeguaychú                    Entre Ríos\n",
       "...                 ...             ...                           ...\n",
       "116479        3861887.0           Chaco                         Chaco\n",
       "117229        3429610.0         Ranchos         Buenos Aires Interior\n",
       "119567        3854153.0  Hoyo de Epuyén                        Chubut\n",
       "119657        3850920.0    Laguna Paiva                      Santa Fe\n",
       "119832        3430940.0       Malabrigo                      Santa Fe\n",
       "\n",
       "[646 rows x 3 columns]"
      ]
     },
     "execution_count": 294,
     "metadata": {},
     "output_type": "execute_result"
    }
   ],
   "source": [
    "df_geo_id_dropdup = df_geo_id.drop_duplicates(subset=\"geonames_id_new\")\n",
    "print(df_geo_id.shape)\n",
    "print(df_geo_id_dropdup.shape)\n",
    "df_geo_id_dropdup"
   ]
  },
  {
   "cell_type": "code",
   "execution_count": 295,
   "metadata": {},
   "outputs": [],
   "source": [
    "mapeo = df_geo_id_dropdup.set_index('geonames_id_new')['place_name_new'].to_dict()\n",
    "#mapeo "
   ]
  },
  {
   "cell_type": "code",
   "execution_count": 296,
   "metadata": {},
   "outputs": [],
   "source": [
    "mask_geoidnew_nulls =  data.geonames_id_new.isnull()\n",
    "data.loc[mask_geoidnew_nulls,\"geonames_id_new\"] = data[\"place_name_new\"].map(mapeo)"
   ]
  },
  {
   "cell_type": "markdown",
   "metadata": {},
   "source": [
    "Sin embargo,al verificar la cantidad de nulos, vemos que no se modifica. Por lo que no habría informacion que recuperar, es decir, las localidades presentes en el diccionario ya tenían su geo id asociado:"
   ]
  },
  {
   "cell_type": "code",
   "execution_count": 297,
   "metadata": {},
   "outputs": [
    {
     "data": {
      "text/plain": [
       "18694"
      ]
     },
     "execution_count": 297,
     "metadata": {},
     "output_type": "execute_result"
    }
   ],
   "source": [
    "data.geonames_id_new.isnull().sum()\n",
    "#data.loc[mask_geoidnew_nulls,[\"geonames_id_new\",\"place_name_new\"]].groupby(\"place_name_new\").agg(list)"
   ]
  },
  {
   "cell_type": "markdown",
   "metadata": {},
   "source": [
    "#### CONCLUSIÓN 📌 \n",
    "\n",
    "Decidimos prescindir de *geonames_id_new*, ya que quedó un porcentaje grande de nulos y esa información podemos obtenerla de las combinaciones únicas de *place_name_new* y *state_name*."
   ]
  },
  {
   "cell_type": "markdown",
   "metadata": {},
   "source": [
    "## SECCIÓN 2 - INFORMACIÓN DESCRIPTIVA\n",
    "---\n",
    "\n",
    "1. floor\n",
    "2. rooms\n",
    "3. description\n",
    "4. title\n",
    "5. surface_total_in_m2\n",
    "6. surface_covered_in_m2\n",
    "7. property_type"
   ]
  },
  {
   "cell_type": "code",
   "execution_count": 298,
   "metadata": {},
   "outputs": [
    {
     "data": {
      "text/plain": [
       "floor          float64\n",
       "rooms          float64\n",
       "description     object\n",
       "title           object\n",
       "dtype: object"
      ]
     },
     "execution_count": 298,
     "metadata": {},
     "output_type": "execute_result"
    }
   ],
   "source": [
    "data[[\"floor\",\"rooms\",\"description\",\"title\"]].dtypes"
   ]
  },
  {
   "cell_type": "markdown",
   "metadata": {},
   "source": [
    "#### SECCIÓN 2. 1 - ROOMS"
   ]
  },
  {
   "cell_type": "markdown",
   "metadata": {},
   "source": [
    " #### ANÁLISIS 🔎"
   ]
  },
  {
   "cell_type": "markdown",
   "metadata": {},
   "source": [
    "Analizamos la distribución de los datos, los valores únicos y la cantidad de nulos en *rooms*:"
   ]
  },
  {
   "cell_type": "code",
   "execution_count": 299,
   "metadata": {},
   "outputs": [
    {
     "data": {
      "text/plain": [
       "count    47390.000000\n",
       "mean         3.080840\n",
       "std          1.860773\n",
       "min          1.000000\n",
       "25%          2.000000\n",
       "50%          3.000000\n",
       "75%          4.000000\n",
       "max         32.000000\n",
       "Name: rooms, dtype: float64"
      ]
     },
     "execution_count": 299,
     "metadata": {},
     "output_type": "execute_result"
    }
   ],
   "source": [
    "data.rooms.describe() #vemos que la media de habitaciones es cercana a 3 y el desvío, 1.8."
   ]
  },
  {
   "cell_type": "code",
   "execution_count": 300,
   "metadata": {},
   "outputs": [
    {
     "name": "stdout",
     "output_type": "stream",
     "text": [
      "Valores únicos en 'rooms': \n",
      "3.0     12567\n",
      "2.0     12433\n",
      "4.0      7937\n",
      "1.0      7377\n",
      "5.0      3782\n",
      "6.0      1403\n",
      "7.0       770\n",
      "8.0       409\n",
      "10.0      226\n",
      "9.0       184\n",
      "11.0       72\n",
      "12.0       65\n",
      "13.0       33\n",
      "14.0       27\n",
      "15.0       26\n",
      "17.0       16\n",
      "16.0       11\n",
      "20.0       11\n",
      "22.0        8\n",
      "18.0        6\n",
      "21.0        5\n",
      "19.0        4\n",
      "30.0        4\n",
      "25.0        4\n",
      "32.0        3\n",
      "23.0        2\n",
      "24.0        1\n",
      "31.0        1\n",
      "29.0        1\n",
      "27.0        1\n",
      "28.0        1\n",
      "Name: rooms, dtype: int64\n"
     ]
    }
   ],
   "source": [
    "print(\"Valores únicos en 'rooms': \")\n",
    "print(data.rooms.value_counts())"
   ]
  },
  {
   "cell_type": "code",
   "execution_count": 301,
   "metadata": {},
   "outputs": [
    {
     "name": "stdout",
     "output_type": "stream",
     "text": [
      "Cantidad de nulos en 'rooms':\n",
      "73830\n",
      "------------------------\n",
      "Porcentaje de nulos en 'rooms':\n",
      "60.91\n"
     ]
    }
   ],
   "source": [
    "print(\"Cantidad de nulos en 'rooms':\")\n",
    "print(data.rooms.isnull().sum())\n",
    "print(\"------------------------\")\n",
    "print(\"Porcentaje de nulos en 'rooms':\")\n",
    "porc_nulos = (data.rooms.isnull().sum() / data.rooms.shape[0] *100).round(2)\n",
    "print(porc_nulos) "
   ]
  },
  {
   "cell_type": "markdown",
   "metadata": {},
   "source": [
    "\n",
    "#### Limpieza de Datos 📝"
   ]
  },
  {
   "cell_type": "markdown",
   "metadata": {},
   "source": [
    "Si bien tenemos un alto porcentaje de nulos, queremos intentar recuperar datos a partir de la información cualitiva de las columnas *title* y description.\n",
    "\n",
    "Para ello comenzamos haciendo data wrangling sobre *description*.\n"
   ]
  },
  {
   "cell_type": "markdown",
   "metadata": {},
   "source": [
    "* **Creamos una nueva columna *description_new***"
   ]
  },
  {
   "cell_type": "code",
   "execution_count": 302,
   "metadata": {},
   "outputs": [],
   "source": [
    "#Convertimos todos los caracteres a minúsculas para poder aplicar mas fácilmente patrones de búsqueda.\n",
    "data['description_new'] = data['description'].str.lower()"
   ]
  },
  {
   "cell_type": "code",
   "execution_count": null,
   "metadata": {},
   "outputs": [],
   "source": [
    "#En una lista se almacenan tuplas que contienen todas las posibles variantes de números escritos en palabras, junto con su versión en dígitos. \n",
    "#También se incluyen las vocales con y sin tilde.\n",
    "lista = [('uno', 1), ('dos', 2), ('tres', 3), ('cuatro', 4), ('cinco', 5), ('seis', 6), ('siete', 7), ('ocho', 8), ('nueve', 9), \n",
    "         ('monoambiente','1 amb'), ('1er', 1), ('2do', 2), ('3er', 3), ('4to', 4), ('5to', 5), ('6to', 6), ('7mo', 7), ('8vo', 8), ('9no', 9), ('10mo', 10), \n",
    "         ('primer', 1), ('primero', 1), ('segundo', 2), ('tercero', 3), ('tercer', 3), ('cuarto', 4), ('quinto', 5), ('sexto', 6), ('séptimo', 7), ('octavo', 8), ('noveno', 9), ('décimo', 10), \n",
    "         ('1º', 1), ('2º', 2), ('3º', 3), ('4º', 4), ('5º', 5), ('6º', 6), ('7º', 7), ('8º', 8), ('9º', 9), ('10º', 10),\n",
    "         ('á', 'a'), ('é', 'e'), ('í', 'i'), ('ó', 'o'), ('ú', 'u')]\n",
    "#Se define una función que en una columna \"key\", reemplaza el primer valor de la tupla por el segundo.\n",
    "def reemplazar_nros_words(df, lista, key):\n",
    "    for tupla in lista:\n",
    "        a, b = tupla\n",
    "        df[key] = df[key].str.replace(a, str(b)) #utilizamos el método .replace\n",
    "\n",
    "reemplazar_nros_words(data, lista, 'description_new')"
   ]
  },
  {
   "cell_type": "code",
   "execution_count": null,
   "metadata": {},
   "outputs": [],
   "source": [
    "print(data.description_new.head(10)) #Vista rápida a description_new para comprobar el funcionamiento"
   ]
  },
  {
   "cell_type": "markdown",
   "metadata": {},
   "source": [
    "Una vez arreglada la columna *description*, intentamos extraer información.\n",
    "\n",
    "* **creamos una nueva columna rooms_new**.\n",
    "\n",
    "Luego diseñamos una regex para extraer todo lo que nos informe sobre cantidad de rooms."
   ]
  },
  {
   "cell_type": "code",
   "execution_count": null,
   "metadata": {},
   "outputs": [],
   "source": [
    "data['rooms_new'] = data['rooms']"
   ]
  },
  {
   "cell_type": "code",
   "execution_count": null,
   "metadata": {},
   "outputs": [],
   "source": [
    "#los patrones buscan dormitorios o ambientes, y el/los dígitos asociados.\n",
    "patron_dorm = \"(?P<dormitorios>\\d+)\\sdorm\"\n",
    "patron_amb = \"(?P<ambiente>\\d+)\\samb\"\n",
    "\n",
    "patron_dorm_compiled = re.compile(patron_dorm)\n",
    "patron_amb_compiled = re.compile(patron_amb)"
   ]
  },
  {
   "cell_type": "markdown",
   "metadata": {},
   "source": [
    "A continuación definimos 2 funciones que van a **complementar la aplicación de la regex**."
   ]
  },
  {
   "cell_type": "code",
   "execution_count": null,
   "metadata": {},
   "outputs": [],
   "source": [
    "\n",
    "def string_to_float_list(lista):      #función que transforma una lista de strings a una lista de floats\n",
    "    return list(map(float, lista))\n",
    "\n",
    "\n",
    "def max_list(lista, max_value):       #función que selecciona el valor máximo de una lista, siempre que ese valor sea menor a un umbral definido como max_value\n",
    "    if not lista:\n",
    "        return np.NaN\n",
    "    else:\n",
    "        valores_permitidos = [x for x in lista if x < max_value]\n",
    "        return max(valores_permitidos, default = np.NaN)    "
   ]
  },
  {
   "cell_type": "markdown",
   "metadata": {},
   "source": [
    "A continuación aplicamos las regex. **Tomamos como máximo valor permitido un número de 10 habitaciones**. Todo valor mayor no se utiliza para la imputación."
   ]
  },
  {
   "cell_type": "code",
   "execution_count": null,
   "metadata": {},
   "outputs": [],
   "source": [
    "lista_new = data.loc[data.rooms.isnull(),'description_new'].apply(lambda x: patron_dorm_compiled.findall(str(x)) #En todas las filas con valor nulo para rooms, se aplican ambas regex\n",
    "                                                         if patron_dorm_compiled.findall(str(x))                 #si una no obtiene resultado, se pasa a la otra.\n",
    "                                                         else patron_amb_compiled.findall(str(x)))               #el resultado se guarda en la variable lista_new\n",
    "\n",
    "data.loc[data.rooms.isnull(),'rooms_new'] = lista_new.apply(lambda x: max_list(string_to_float_list(x), 10)) #se convierte a string la lista obtenida,luego se elige el valor máximo, y se lo aplica a la fila correspondiente\n",
    "                                                                                                            #en la columna nueva."
   ]
  },
  {
   "cell_type": "markdown",
   "metadata": {},
   "source": [
    "✔️ Comparamos los resultados antes y después de aplicar las regex y comprobamos que **disminuyó notablemente la cantidad de nulos**:"
   ]
  },
  {
   "cell_type": "code",
   "execution_count": null,
   "metadata": {},
   "outputs": [],
   "source": [
    "print(\"Cantidad de nulos en 'rooms':\")\n",
    "print(data.rooms.isnull().sum())\n",
    "print(\"Cantidad de nulos en 'rooms_new':\")\n",
    "print(data.rooms_new.isnull().sum())\n",
    "print(\"------------------------\")\n",
    "print(\"Porcentaje de nulos en 'rooms':\")\n",
    "porc_nulos = (data.rooms.isnull().sum() / data.rooms.shape[0] *100).round(2)\n",
    "print(porc_nulos,\"%\") \n",
    "print(\"Porcentaje de nulos en 'rooms_new':\")\n",
    "porc_nulos = (data.rooms_new.isnull().sum() / data.rooms_new.shape[0] *100).round(2)\n",
    "print(porc_nulos,\"%\") "
   ]
  },
  {
   "cell_type": "markdown",
   "metadata": {},
   "source": [
    "A continuación verificamos si hay filas que hayan obtenido el valor 0. "
   ]
  },
  {
   "cell_type": "code",
   "execution_count": null,
   "metadata": {},
   "outputs": [],
   "source": [
    "print(data.loc[data.rooms_new == 0.0, 'rooms_new'].size)"
   ]
  },
  {
   "cell_type": "markdown",
   "metadata": {},
   "source": [
    "Dado que son muy pocos valores, los normalizamos imputando la media de la variable:"
   ]
  },
  {
   "cell_type": "code",
   "execution_count": null,
   "metadata": {},
   "outputs": [],
   "source": [
    "mask_valores_validos = data.rooms_new != 0 & data.rooms_new.notnull() #selecciono los valores distintos de 0 y los no nulos para calcular la media\n",
    "media_rooms_new = data.loc[mask_valores_validos,'rooms_new'].mean().round() #obtengo la media\n",
    "data.loc[data.rooms_new == 0.0, 'rooms_new'] = media_rooms_new #la imputo a los valores = 0"
   ]
  },
  {
   "cell_type": "code",
   "execution_count": null,
   "metadata": {},
   "outputs": [],
   "source": [
    "# verifico la cantidad de valores con 0 nuevamente\n",
    "print(data.loc[data.rooms_new == 0.0, 'rooms_new'].sum())"
   ]
  },
  {
   "cell_type": "code",
   "execution_count": null,
   "metadata": {},
   "outputs": [],
   "source": [
    "#Visualizamos rápidamente ambas columnas para verificar que realizó la imputación.\n",
    "print(data.loc[data.rooms.isnull(), ['rooms', 'rooms_new']])"
   ]
  },
  {
   "cell_type": "markdown",
   "metadata": {},
   "source": [
    "----"
   ]
  },
  {
   "cell_type": "markdown",
   "metadata": {},
   "source": [
    "Aún tenemos un 17% de nulos. Para recuperar aún mas información, seguimos los mismos pasos pero utilizando la columna *title*. Además, se completan los valores faltantes (2) de la columna 'description_new' con la columna 'title_new', ya que suelen presentar información similar. \n",
    "\n"
   ]
  },
  {
   "cell_type": "code",
   "execution_count": null,
   "metadata": {},
   "outputs": [],
   "source": [
    "data['title_new'] = data['title'].str.lower()\n",
    "\n",
    "# Se termina la limpieza de la columna de 'description_new'\n",
    "data.loc[data.description_new.isnull(), 'description_new'] = data.title_new "
   ]
  },
  {
   "cell_type": "code",
   "execution_count": null,
   "metadata": {},
   "outputs": [],
   "source": [
    "data.description_new.isnull().sum() # se verifica que ya no se tengan mas valores nulos"
   ]
  },
  {
   "cell_type": "code",
   "execution_count": null,
   "metadata": {},
   "outputs": [],
   "source": [
    "reemplazar_nros_words(data, lista, 'title_new') # aplicamos la funcion definida previamente"
   ]
  },
  {
   "cell_type": "code",
   "execution_count": null,
   "metadata": {},
   "outputs": [],
   "source": [
    "lista_new = data.loc[data.rooms.isnull(),'title_new'].apply(lambda x: patron_dorm_compiled.findall(str(x)) \n",
    "                                                         if patron_dorm_compiled.findall(str(x)) \n",
    "                                                         else patron_amb_compiled.findall(str(x)))\n",
    "\n",
    "data.loc[data.rooms_new.isnull(),'rooms_new'] = lista_new.apply(lambda x: max_list(string_to_float_list(x), 4)) # Nuevamente usamos un max_value = 10 "
   ]
  },
  {
   "cell_type": "markdown",
   "metadata": {},
   "source": [
    "✔️ Vemos que los nulos disminuyeron un poco más, de 20.962 a 19.053:"
   ]
  },
  {
   "cell_type": "code",
   "execution_count": null,
   "metadata": {},
   "outputs": [],
   "source": [
    "print(data.rooms.isnull().sum())\n",
    "print(data.rooms_new.isnull().sum())"
   ]
  },
  {
   "cell_type": "markdown",
   "metadata": {},
   "source": [
    "---\n"
   ]
  },
  {
   "cell_type": "markdown",
   "metadata": {},
   "source": [
    "📌 Para terminar de limpiar la columna, decidimos hacer una **imputación por la media de la variable**. Sin embargo, segmentamos la media agrupando por tipo de propiedad, para ser más precisos."
   ]
  },
  {
   "cell_type": "markdown",
   "metadata": {},
   "source": [
    "Creamos una nueva property_type_new, que aunque no es necesario utilizarla en este momento, se integrará al dataset final posteriormente."
   ]
  },
  {
   "cell_type": "code",
   "execution_count": null,
   "metadata": {},
   "outputs": [],
   "source": [
    "data[\"property_type_new\"] = data[\"property_type\"]"
   ]
  },
  {
   "cell_type": "markdown",
   "metadata": {},
   "source": [
    "Usamos un group by para ver la cantidad media de habitaciones según propiedad:"
   ]
  },
  {
   "cell_type": "code",
   "execution_count": null,
   "metadata": {},
   "outputs": [],
   "source": [
    "\n",
    "media_x_property_type = data.loc[:, ['property_type','rooms_new']].groupby(['property_type']).mean().round() #agrupamos por tipo de propiedados y aplicamos la media\n",
    "media_x_property_type = data.loc[:, ['property_type','rooms_new']].groupby(['property_type']).mean().round()\n",
    "print(media_x_property_type)\n"
   ]
  },
  {
   "cell_type": "code",
   "execution_count": null,
   "metadata": {},
   "outputs": [],
   "source": [
    "property_type_media_dict = media_x_property_type.to_dict()['rooms_new']  # convertimos el df resultante en un diccionario\n",
    "print(property_type_media_dict)\n",
    "\n",
    "for key in property_type_media_dict:  #definimos un ciclo para recorrer los valores nulos restantes, y aplicarles la media según su property type.\n",
    "    data.loc[data.rooms_new.isnull() & (data.property_type == key), 'rooms_new'] = property_type_media_dict[key]\n",
    "    "
   ]
  },
  {
   "cell_type": "markdown",
   "metadata": {},
   "source": [
    "✔️ Verificamos que la columna *rooms* **ya no tiene valos nulos**."
   ]
  },
  {
   "cell_type": "code",
   "execution_count": null,
   "metadata": {},
   "outputs": [],
   "source": [
    "print(\"Cantidad de nulos en 'rooms':\")\n",
    "print(data.rooms.isnull().sum())\n",
    "print(\"Cantidad de nulos en 'rooms_new':\")\n",
    "print(data.rooms_new.isnull().sum())\n",
    "print(\"------------------------\")\n",
    "print(\"Porcentaje de nulos en 'rooms':\")\n",
    "porc_nulos = (data.rooms.isnull().sum() / data.rooms.shape[0] *100).round(2)\n",
    "print(porc_nulos,\"%\") \n",
    "print(\"Porcentaje de nulos en 'rooms_new':\")\n",
    "porc_nulos = (data.rooms_new.isnull().sum() / data.rooms_new.shape[0] *100).round(2)\n",
    "print(porc_nulos,\"%\") "
   ]
  },
  {
   "cell_type": "code",
   "execution_count": null,
   "metadata": {},
   "outputs": [],
   "source": [
    "data.rooms_new.describe()"
   ]
  },
  {
   "cell_type": "markdown",
   "metadata": {},
   "source": [
    "#### SECCIÓN 2. 2 - FLOOR"
   ]
  },
  {
   "cell_type": "markdown",
   "metadata": {},
   "source": [
    "#### ANÁLISIS 🔎\n"
   ]
  },
  {
   "cell_type": "markdown",
   "metadata": {},
   "source": [
    "Analizamos la distribución de los datos, los valores únicos y la cantidad de nulos en *floor*:"
   ]
  },
  {
   "cell_type": "code",
   "execution_count": null,
   "metadata": {},
   "outputs": [],
   "source": [
    "data.floor.describe()"
   ]
  },
  {
   "cell_type": "code",
   "execution_count": null,
   "metadata": {},
   "outputs": [],
   "source": [
    "print(\"Valores únicos en 'floor': \")\n",
    "print(data.floor.value_counts())"
   ]
  },
  {
   "cell_type": "code",
   "execution_count": null,
   "metadata": {},
   "outputs": [],
   "source": [
    "print(\"Cantidad de nulos en 'floor':\")\n",
    "print(data.floor.isnull().sum())\n",
    "print(\"------------------------\")\n",
    "print(\"Porcentaje de nulos en 'floor':\")\n",
    "porc_nulos = (data.floor.isnull().sum() / data.floor.shape[0] *100).round(2)\n",
    "print(porc_nulos) "
   ]
  },
  {
   "cell_type": "markdown",
   "metadata": {},
   "source": [
    "A pesar del muy alto porcentaje de nulos en *floor*, queremos ver si es posible recuperar información, con una estategia similar que para *rooms*, aunque con algunas modificaciones."
   ]
  },
  {
   "cell_type": "markdown",
   "metadata": {},
   "source": [
    "Creamos una pivot_table para visualizar la cantidad de valores de floor, la cantidad de nulos y la media de pisos (floor) para cada tipo de propiedad (PH, departamento, casa, tienda)."
   ]
  },
  {
   "cell_type": "code",
   "execution_count": null,
   "metadata": {},
   "outputs": [],
   "source": [
    "data['floor_null'] = data['floor'].isnull()\n",
    "data['floor_null_property'] = data['floor'].isnull()\n",
    "data['porc_nulos_x_property'] = (data.floor.isnull().sum() / data.shape[0] *100).round(2)\n",
    "\n",
    "resultado = data.groupby('property_type').agg({'floor': 'count', 'floor_null': 'sum', 'floor_null_property': 'mean'})\n",
    "print(resultado)"
   ]
  },
  {
   "cell_type": "markdown",
   "metadata": {},
   "source": [
    "Analizamos si la columna *description_new* tiene informacion acerca del piso (floor) con el método .contains, para ver si vale la pena utilizar la regex. \n",
    "\n",
    "Obtenemos 54376 valores que podrían recuperarse."
   ]
  },
  {
   "cell_type": "code",
   "execution_count": null,
   "metadata": {},
   "outputs": [],
   "source": [
    "descrnotnull = data.description_new.notnull() #mascara para quitar los valores nulos, para poder aplicar .contain.\n",
    "description_clean = data.loc[descrnotnull]    #aplicamos la máscara\n",
    "contains_piso = description_clean.description_new.str.contains('piso')  #nueva mascara con el metodo .contain.\n",
    "print (description_clean.loc[contains_piso, \"description_new\"])  #aplicamos la mascara y visualizamos.\n",
    "print(\"------------------------------------------------------\")\n",
    "print(\"Cantidad de valores a recuperar: \", len(description_clean.loc[contains_piso, \"description_new\"]))"
   ]
  },
  {
   "cell_type": "markdown",
   "metadata": {},
   "source": [
    "Exportamos estos valores a un csv para poder analizar mejor el contenido:"
   ]
  },
  {
   "cell_type": "code",
   "execution_count": null,
   "metadata": {},
   "outputs": [],
   "source": [
    "#description_clean.loc[contains_piso, \"description_new\"].to_csv('description_new_analisis')"
   ]
  },
  {
   "cell_type": "markdown",
   "metadata": {},
   "source": [
    "#### CONCLUSIÓN📌 \n",
    "\n",
    "A partir de este análisis se decide tomar como criterio que **los valores que encuentre la regex corresponden al número de piso en que se encuentra la propiedad**, y no la cantidad de plantas.\n",
    "\n",
    "Como paso previo, consideramos que todos los valores de property_type = house están ubicadas en el piso 1. "
   ]
  },
  {
   "cell_type": "markdown",
   "metadata": {},
   "source": [
    "#### Limpieza de Datos 📝"
   ]
  },
  {
   "cell_type": "markdown",
   "metadata": {},
   "source": [
    "* **Creamos una nueva columna floor_new**:"
   ]
  },
  {
   "cell_type": "code",
   "execution_count": null,
   "metadata": {},
   "outputs": [],
   "source": [
    "data['floor_new'] = data['floor']"
   ]
  },
  {
   "cell_type": "code",
   "execution_count": null,
   "metadata": {},
   "outputs": [],
   "source": [
    "data.loc[data.property_type == 'house', 'floor_new'] = 1 #se considera que las casas están en un piso 1"
   ]
  },
  {
   "cell_type": "markdown",
   "metadata": {},
   "source": [
    "Creamos la regex:"
   ]
  },
  {
   "cell_type": "code",
   "execution_count": null,
   "metadata": {},
   "outputs": [],
   "source": [
    "patron_piso = \"(?P<pisos>\\d+)\\spiso\"  #patrón para extraer dígitos antes de la palabra \"piso\"\n",
    "patron_piso_compiled = re.compile(patron_piso)"
   ]
  },
  {
   "cell_type": "code",
   "execution_count": null,
   "metadata": {},
   "outputs": [],
   "source": [
    "\n",
    "lista_floor_new = data.loc[data.floor_new.isnull(), 'description_new'].apply(lambda x: patron_piso_compiled.findall(str(x)))\n",
    "\n",
    "data.loc[data.floor_new.isnull(),'floor_new'] = lista_floor_new.apply(   #Utilizamos las funciones definidas previamente\n",
    "    lambda x: max_list(string_to_float_list(x), 53)      # se escoge como valor máximo a 52, ya que la torre más alta en BSAS es la torre YPF con 52 pisos.\n",
    ") \n",
    "                                                                                                  "
   ]
  },
  {
   "cell_type": "markdown",
   "metadata": {},
   "source": [
    "✔️ Comparamos los nulos y vemos que hubo cambios. (No son la misma cantidad que obtuvimos con el método contain, porque aplicamos el valor 1 a los nulos de \"House\")."
   ]
  },
  {
   "cell_type": "code",
   "execution_count": null,
   "metadata": {},
   "outputs": [],
   "source": [
    "print(\"Cantidad de nulos en 'floor':\")\n",
    "print(data.floor.isnull().sum())\n",
    "print(\"Cantidad de nulos en 'floor_new':\")\n",
    "print(data.floor_new.isnull().sum())\n",
    "print(\"------------------------\")\n",
    "print(\"Porcentaje de nulos en 'floor':\")\n",
    "porc_nulos = (data.floor.isnull().sum() / data.floor.shape[0] *100).round(2)\n",
    "print(porc_nulos,\"%\") \n",
    "print(\"Porcentaje de nulos en 'floor_new':\")\n",
    "porc_nulos = (data.floor_new.isnull().sum() / data.floor_new.shape[0] *100).round(2)\n",
    "print(porc_nulos,\"%\") "
   ]
  },
  {
   "cell_type": "markdown",
   "metadata": {},
   "source": [
    "----------------------"
   ]
  },
  {
   "cell_type": "markdown",
   "metadata": {},
   "source": [
    "Analizamos si la columna *title_new* tiene informacion acerca del piso (floor) con el método .contains, para ver si vale la pena utilizar la regex. \n",
    "\n",
    "Obtenemos 3260 más que podrían recuperarse."
   ]
  },
  {
   "cell_type": "code",
   "execution_count": null,
   "metadata": {},
   "outputs": [],
   "source": [
    "print(\n",
    "    data.loc[data.title_new.str.contains('piso'), 'title_new']\n",
    ")\n",
    "print(\"------------------------------------------------------\")\n",
    "print(\"Cantidad de valores a recuperar: \", len(data.loc[data.title_new.str.contains('piso'), 'title_new']))"
   ]
  },
  {
   "cell_type": "markdown",
   "metadata": {},
   "source": [
    "Exportamos estos valores a un csv para poder analizar mejor el contenido:"
   ]
  },
  {
   "cell_type": "code",
   "execution_count": null,
   "metadata": {},
   "outputs": [],
   "source": [
    "#data.loc[data.title_new.str.contains('piso'), 'title_new'].to_csv('title_new_analisis')"
   ]
  },
  {
   "cell_type": "markdown",
   "metadata": {},
   "source": [
    "**Aplicamos la misma regex a *title*:**"
   ]
  },
  {
   "cell_type": "code",
   "execution_count": null,
   "metadata": {},
   "outputs": [],
   "source": [
    "lista_floor_new = data.loc[data.floor_new.isnull(), 'title_new'].apply(lambda x: patron_piso_compiled.findall(str(x)))\n",
    "data.loc[data.floor_new.isnull(),'floor_new'] = lista_floor_new.apply(lambda x: max_list(string_to_float_list(x), 53))"
   ]
  },
  {
   "cell_type": "markdown",
   "metadata": {},
   "source": [
    "✔️ Verificamos que los nulos bajaron un poco más."
   ]
  },
  {
   "cell_type": "code",
   "execution_count": null,
   "metadata": {},
   "outputs": [],
   "source": [
    "print(\"Cantidad de nulos en 'floor':\")\n",
    "print(data.floor.isnull().sum())\n",
    "print(\"Cantidad de nulos en 'floor_new':\")\n",
    "print(data.floor_new.isnull().sum())\n",
    "print(\"------------------------\")\n",
    "print(\"Porcentaje de nulos en 'floor':\")\n",
    "porc_nulos = (data.floor.isnull().sum() / data.floor.shape[0] *100).round(2)\n",
    "print(porc_nulos,\"%\") \n",
    "print(\"Porcentaje de nulos en 'floor_new':\")\n",
    "porc_nulos = (data.floor_new.isnull().sum() / data.floor_new.shape[0] *100).round(2)\n",
    "print(porc_nulos,\"%\") "
   ]
  },
  {
   "cell_type": "markdown",
   "metadata": {},
   "source": [
    " #### CONCLUSIÓN 📌\n",
    "\n",
    "**Se decide no seguir trabajando esta columna** ya que no hay otra estrategia razonable para eliminar nulos. Utilizar la media no sería de mucha utilidad, ya que existe una alta dispersión de valores en la variable.\n"
   ]
  },
  {
   "cell_type": "markdown",
   "metadata": {},
   "source": [
    "#### SECCION 2.3 - SURFACE_TOTAL_IN_M2 y SURFACE_COVERED_IN_M2 "
   ]
  },
  {
   "cell_type": "markdown",
   "metadata": {},
   "source": [
    "Vemos el tipo de las columnas:"
   ]
  },
  {
   "cell_type": "code",
   "execution_count": null,
   "metadata": {},
   "outputs": [],
   "source": [
    "data[[\"surface_total_in_m2\",\"surface_covered_in_m2\"]].dtypes"
   ]
  },
  {
   "cell_type": "markdown",
   "metadata": {},
   "source": [
    "Recordamos la cantidad de nulos:"
   ]
  },
  {
   "cell_type": "code",
   "execution_count": null,
   "metadata": {},
   "outputs": [],
   "source": [
    "data[[\"surface_total_in_m2\",\"surface_covered_in_m2\"]].isnull().sum()"
   ]
  },
  {
   "cell_type": "code",
   "execution_count": null,
   "metadata": {},
   "outputs": [],
   "source": [
    "data[[\"surface_total_in_m2\",\"surface_covered_in_m2\"]].describe()"
   ]
  },
  {
   "cell_type": "markdown",
   "metadata": {},
   "source": [
    "#### ANÁLISIS 🔎"
   ]
  },
  {
   "cell_type": "markdown",
   "metadata": {},
   "source": [
    "Analizamos estrategias para rellenar la **superficie total**.\n",
    "\n",
    "En primer lugar, queremos comprobar si la superficie total suele coincidir con la superficie cubierta, para ver si podemos reemplazar un valor por otro. \n",
    "\n",
    "Para ello, excluimos los valores nulos y planteamos un booleano:"
   ]
  },
  {
   "cell_type": "code",
   "execution_count": null,
   "metadata": {},
   "outputs": [],
   "source": [
    "data.loc[(data.surface_total_in_m2.notnull() & #que la sup. total no sea nula\n",
    "          data.surface_covered_in_m2.notnull()) & #que la sup. cubierta no sea nula\n",
    "         (data.surface_total_in_m2 == data.surface_covered_in_m2), #que ambos valores sean iguales\n",
    "         'property_type'].value_counts()"
   ]
  },
  {
   "cell_type": "markdown",
   "metadata": {},
   "source": [
    "Vemos que hay 24.173 valores que coinciden, sobre un total de 81.892 valores válidos. Es muy poco representativo como para tomar esta estrategia. \n",
    "\n",
    "Si lo hacemos específicamente sobre los departamentos (donde es más probable que las superficies coincidan), vemos que tampoco el número es representativo. Tenemos 14.756 casos en los que los valores coinciden, y 31.300 en que no coinciden (siempre cuando contamos con ambos valores):"
   ]
  },
  {
   "cell_type": "code",
   "execution_count": null,
   "metadata": {},
   "outputs": [],
   "source": [
    "data.loc[(data.surface_total_in_m2.notnull() & \n",
    "          data.surface_covered_in_m2.notnull()) & \n",
    "         (data.surface_total_in_m2 != data.surface_covered_in_m2) & \n",
    "         (data.property_type == 'apartment'), #agregamos una condición más al código anterior\n",
    "         'property_type'].value_counts()"
   ]
  },
  {
   "cell_type": "markdown",
   "metadata": {},
   "source": [
    "Es decir que sobre 46.056 casos en los que contamos con ambos valores, el porcentaje de los valores que coinciden es del 32% (14.756)\n",
    "\n",
    "📌 Por lo tanto decidimos **desestimar esta estrategia** para cualquier tipo de propiedad."
   ]
  },
  {
   "cell_type": "markdown",
   "metadata": {},
   "source": [
    "#### 📝 Limpieza de Datos "
   ]
  },
  {
   "cell_type": "markdown",
   "metadata": {},
   "source": [
    "Definimos barrer nuevamente las columnas *title_new* y *description_new* para extraer información."
   ]
  },
  {
   "cell_type": "markdown",
   "metadata": {},
   "source": [
    "* **Creamos una nueva columna **surface_total_in_m2_new**:"
   ]
  },
  {
   "cell_type": "code",
   "execution_count": null,
   "metadata": {},
   "outputs": [],
   "source": [
    "data['surface_total_in_m2_new'] = data.surface_total_in_m2"
   ]
  },
  {
   "cell_type": "markdown",
   "metadata": {},
   "source": [
    "Aplicamos una regex sobre *description_new* con un nuevo patrón, reutilizando código anterior."
   ]
  },
  {
   "cell_type": "code",
   "execution_count": null,
   "metadata": {},
   "outputs": [],
   "source": [
    "patron_superficie = \"(?P<superficie>\\d+)\\sm2\"\n",
    "patron_superficie_compiled = re.compile(patron_superficie)\n",
    "\n",
    "lista_superficie_new = data.loc[data.surface_total_in_m2.isnull(), 'description_new'].apply(lambda x: patron_superficie_compiled.findall(str(x)))\n",
    "\n",
    "data.loc[data.surface_total_in_m2.isnull(),'surface_total_in_m2_new'] = lista_superficie_new.apply(lambda x: max_list(string_to_float_list(x), 200))"
   ]
  },
  {
   "cell_type": "markdown",
   "metadata": {},
   "source": [
    "En este caso, planteamos un valor máximo de 200 m2. \n",
    "\n",
    "Vemos que los nulos disminuyen."
   ]
  },
  {
   "cell_type": "code",
   "execution_count": null,
   "metadata": {},
   "outputs": [],
   "source": [
    "print(\"Cantidad de nulos en 'surface_total_in_m2':\")\n",
    "print(data.surface_total_in_m2.isnull().sum())\n",
    "print(\"Cantidad de nulos en 'surface_total_in_m2_new':\")\n",
    "print(data.surface_total_in_m2_new.isnull().sum())\n",
    "print(\"------------------------\")\n",
    "print(\"Porcentaje de nulos en 'surface_total_in_m2':\")\n",
    "porc_nulos = (data.surface_total_in_m2.isnull().sum() / data.surface_total_in_m2.shape[0] *100).round(2)\n",
    "print(porc_nulos,\"%\") \n",
    "print(\"Porcentaje de nulos en 'surface_total_in_m2_new':\")\n",
    "porc_nulos = (data.surface_total_in_m2_new.isnull().sum() / data.surface_total_in_m2_new.shape[0] *100).round(2)\n",
    "print(porc_nulos,\"%\") \n",
    "\n"
   ]
  },
  {
   "cell_type": "markdown",
   "metadata": {},
   "source": [
    "A continuación, repetimos el procedimiento para *title_new*"
   ]
  },
  {
   "cell_type": "code",
   "execution_count": null,
   "metadata": {},
   "outputs": [],
   "source": [
    "patron_superficie = \"(?P<superficie>\\d+)\\s?m2\"\n",
    "patron_superficie_compiled = re.compile(patron_superficie)\n",
    "\n",
    "lista_superficie_new = data.loc[data.surface_total_in_m2_new.isnull(), 'title_new'].apply(lambda x: patron_superficie_compiled.findall(str(x)))\n",
    "\n",
    "data.loc[data.surface_total_in_m2_new.isnull(),'surface_total_in_m2_new'] = lista_superficie_new.apply(lambda x: max_list(string_to_float_list(x), 200))"
   ]
  },
  {
   "cell_type": "markdown",
   "metadata": {},
   "source": [
    "Verificamos nulos:"
   ]
  },
  {
   "cell_type": "code",
   "execution_count": null,
   "metadata": {},
   "outputs": [],
   "source": [
    "print(\"Cantidad de nulos en 'surface_total_in_m2':\")\n",
    "print(data.surface_total_in_m2.isnull().sum())\n",
    "print(\"Cantidad de nulos en 'surface_total_in_m2_new':\")\n",
    "print(data.surface_total_in_m2_new.isnull().sum())\n",
    "print(\"------------------------\")\n",
    "print(\"Porcentaje de nulos en 'surface_total_in_m2':\")\n",
    "porc_nulos = (data.surface_total_in_m2.isnull().sum() / data.surface_total_in_m2.shape[0] *100).round(2)\n",
    "print(porc_nulos,\"%\") \n",
    "print(\"Porcentaje de nulos en 'surface_total_in_m2_new':\")\n",
    "porc_nulos = (data.surface_total_in_m2_new.isnull().sum() / data.surface_total_in_m2_new.shape[0] *100).round(2)\n",
    "print(porc_nulos,\"%\") \n"
   ]
  },
  {
   "cell_type": "markdown",
   "metadata": {},
   "source": [
    "Aún tenemos un buen % de nulos, por lo tanto intentamos una estrategia más. Vamos a imputar la media de manera segmentada, es decir, de acuerdo a otras variables.\n",
    "\n",
    "Pero antes, excluimos ciertos valores que afectan al calculo de la media por ser outliers, y que probablemente sean errores.\n",
    "\n",
    "Se extrajeron los valores de superficie total a un csv y se evaluó que estos aumentan progresivamente hasta 50.000, donde existe un salto hacia 93.000.\n",
    "\n",
    "A partir de esto se crea una máscara, y a los valores por encima de 50.000 se los reemplaza momentáneamente por nulos, para tener una media más representativa:"
   ]
  },
  {
   "cell_type": "code",
   "execution_count": null,
   "metadata": {},
   "outputs": [],
   "source": [
    "mask_50000 = data.surface_total_in_m2_new > 50000\n",
    "data.loc[mask_50000,'surface_total_in_m2_new'] = np.NaN"
   ]
  },
  {
   "cell_type": "markdown",
   "metadata": {},
   "source": [
    "Luego calculamos las medias con una pivot_table y vemos que la pivot_table que surge de *surface_total_in_m2_new* efectivamente tiene valores más bajos. "
   ]
  },
  {
   "cell_type": "code",
   "execution_count": null,
   "metadata": {},
   "outputs": [],
   "source": [
    "print(data.pivot_table('surface_total_in_m2' , index = 'property_type'))\n",
    "print(\"------------------VS---------------\")\n",
    "print(data.pivot_table('surface_total_in_m2_new' , index = 'property_type'))"
   ]
  },
  {
   "cell_type": "markdown",
   "metadata": {},
   "source": [
    "Creamos una tabla_pivot que nos muestre la media de la superficie total, agrupando por cantidad de habitaciones y diferenciando por tipo de propiedad. La idea es obtener la media, para poder aplicarla segmentadamente, según estas variables."
   ]
  },
  {
   "cell_type": "code",
   "execution_count": null,
   "metadata": {},
   "outputs": [],
   "source": [
    "data_pivot_1 = data.pivot_table('surface_total_in_m2' , index = 'rooms_new', columns='property_type')\n",
    "print(data_pivot_1)"
   ]
  },
  {
   "cell_type": "markdown",
   "metadata": {},
   "source": [
    "Luego, creamos un ciclo que recorre la tabla pivot, y siempre que el valor de superficie en el df original sea nulo, le aplica la media que le corresponde, según su cantidad de habitaciones y su tipo de propiedad."
   ]
  },
  {
   "cell_type": "code",
   "execution_count": null,
   "metadata": {},
   "outputs": [],
   "source": [
    "for indice, row in data_pivot_1.iterrows():       \n",
    "    PH_mean = row['PH']\n",
    "    apartment_mean = row['apartment']\n",
    "    house_mean = row['house']\n",
    "    store_mean = row['store']    \n",
    "    \n",
    "    data.loc[(data.surface_total_in_m2_new.isnull()) & (data.rooms_new == indice) &  (data.property_type == 'PH') , 'surface_total_in_m2_new'] = PH_mean\n",
    "    data.loc[(data.surface_total_in_m2_new.isnull()) & (data.rooms_new == indice) &  (data.property_type == 'apartment'), 'surface_total_in_m2_new'] = apartment_mean\n",
    "    data.loc[(data.surface_total_in_m2_new.isnull()) & (data.rooms_new == indice) &  (data.property_type == 'house'), 'surface_total_in_m2_new'] = house_mean\n",
    "    data.loc[(data.surface_total_in_m2_new.isnull())& (data.rooms_new == indice) &  (data.property_type == 'store'), 'surface_total_in_m2_new'] = store_mean"
   ]
  },
  {
   "cell_type": "code",
   "execution_count": null,
   "metadata": {},
   "outputs": [],
   "source": [
    "print(\"Cantidad de nulos en 'surface_total_in_m2':\")\n",
    "print(data.surface_total_in_m2.isnull().sum())\n",
    "print(\"Cantidad de nulos en 'surface_total_in_m2_new':\")\n",
    "print(data.surface_total_in_m2_new.isnull().sum())\n",
    "print(\"------------------------\")\n",
    "print(\"Porcentaje de nulos en 'surface_total_in_m2':\")\n",
    "porc_nulos = (data.surface_total_in_m2.isnull().sum() / data.surface_total_in_m2.shape[0] *100).round(2)\n",
    "print(porc_nulos,\"%\") \n",
    "print(\"Porcentaje de nulos en 'surface_total_in_m2_new':\")\n",
    "porc_nulos = (data.surface_total_in_m2_new.isnull().sum() / data.surface_total_in_m2_new.shape[0] *100).round(2)\n",
    "print(porc_nulos,\"%\") "
   ]
  },
  {
   "cell_type": "markdown",
   "metadata": {},
   "source": [
    "✔️ Con esta estrategia dejamos la variable prácticamente libre de nulos. "
   ]
  },
  {
   "cell_type": "markdown",
   "metadata": {},
   "source": [
    "#### CONCLUSIÓN 📌\n",
    "\n",
    "Dado que *surface_covered_in_m2* es la superficie cubierta de las propiedades, y que estaría contenida en la superficie total, decidimos **obviar esta variable y trabajar solo con *surface_total_in_m2_new* a la hora de predecir el precio**"
   ]
  },
  {
   "cell_type": "markdown",
   "metadata": {},
   "source": [
    "----------"
   ]
  },
  {
   "cell_type": "markdown",
   "metadata": {},
   "source": [
    "## SECCIÓN 3 - VALORES\n",
    "\n",
    "\n",
    "1. currency   \n",
    "2. price\n",
    "3. price_aprox_local_currency    \n",
    "3. price_aprox_usd\n",
    "4. price_usd_per_m2             \n",
    "5. price_per_m2                \n",
    "\n"
   ]
  },
  {
   "cell_type": "code",
   "execution_count": null,
   "metadata": {},
   "outputs": [],
   "source": [
    "data.columns"
   ]
  },
  {
   "cell_type": "code",
   "execution_count": null,
   "metadata": {},
   "outputs": [],
   "source": [
    "data_valores = data.iloc[:,[11,12,13,14,17,18]]   \n",
    "data_valores.head(10)"
   ]
  },
  {
   "cell_type": "markdown",
   "metadata": {},
   "source": [
    "#### SECCION 3.1 - CURRENCY (UNIFICACIÓN A DOLARES (USD))\n"
   ]
  },
  {
   "cell_type": "markdown",
   "metadata": {},
   "source": [
    "#### ANÁLISIS 🔎"
   ]
  },
  {
   "cell_type": "code",
   "execution_count": null,
   "metadata": {},
   "outputs": [],
   "source": [
    "print(\"Cantidad de nulos en currency:\")\n",
    "print(data.currency.isnull().sum())\n",
    "print(\"------------------------\")\n",
    "print(\"Porcentaje de nulos en currency:\")\n",
    "porc_nulos = (data.currency.isnull().sum() / data_geo.shape[0] *100).round(2)\n",
    "print(porc_nulos)"
   ]
  },
  {
   "cell_type": "code",
   "execution_count": null,
   "metadata": {},
   "outputs": [],
   "source": [
    "data.currency.value_counts()"
   ]
  },
  {
   "cell_type": "markdown",
   "metadata": {},
   "source": [
    "Queremos comprobar que cuando *currency* es nulo, todas las columnas relativas a precio también son nulas y por lo tanto no podemos obtener información de ellas. \n",
    "Vemos que para todas las filas menos 1, no hay ningún valor relativo a precio."
   ]
  },
  {
   "cell_type": "code",
   "execution_count": null,
   "metadata": {},
   "outputs": [],
   "source": [
    "mask_cur_null = data.currency.isnull()\n",
    "comprobacion_nulos = data.loc[mask_cur_null,[\"currency\",\"price_aprox_usd\",\"price_aprox_local_currency\",\"price\",\"price_usd_per_m2\",\"price_per_m2\"]]\n",
    "\n",
    "#print(comprobacion_nulos)\n",
    "print(comprobacion_nulos.isnull().sum(axis=1).value_counts())"
   ]
  },
  {
   "cell_type": "markdown",
   "metadata": {},
   "source": [
    "#### 📝 Limpieza de Datos "
   ]
  },
  {
   "cell_type": "markdown",
   "metadata": {},
   "source": [
    "* **Creamos las columnas nuevas _new**"
   ]
  },
  {
   "cell_type": "code",
   "execution_count": null,
   "metadata": {},
   "outputs": [],
   "source": [
    "data[\"currency_new\"] = data.currency\n",
    "data[\"price_new\"] = data.price\n",
    "data[\"price_aprox_usd_new\"] = data.price_aprox_usd"
   ]
  },
  {
   "cell_type": "markdown",
   "metadata": {},
   "source": [
    "Armamos un df reducido en donde extraemos los campos necesarios para el análisis de precios:"
   ]
  },
  {
   "cell_type": "code",
   "execution_count": null,
   "metadata": {},
   "outputs": [],
   "source": [
    "dataframe_prices=data.loc[:, ['property_type','price', 'currency', 'price_aprox_local_currency','price_aprox_usd','surface_total_in_m2','surface_total_in_m2_new','surface_covered_in_m2','price_usd_per_m2','price_per_m2','rooms','surface_total_in_m2_new']]\n",
    "dataframe_prices.head(3)"
   ]
  },
  {
   "cell_type": "markdown",
   "metadata": {},
   "source": [
    "Creamos un dataframe con las columnas donde *currency* sea ARS y el precio no sea null"
   ]
  },
  {
   "cell_type": "code",
   "execution_count": null,
   "metadata": {},
   "outputs": [],
   "source": [
    "data_ars_mask=(dataframe_prices.currency=='ARS')&(dataframe_prices.price.notnull())&(dataframe_prices.price_aprox_usd.notnull())\n",
    "data_ars=dataframe_prices[data_ars_mask]\n",
    "data_ars.head(3)"
   ]
  },
  {
   "cell_type": "markdown",
   "metadata": {},
   "source": [
    "Al dataframe auxiliar le creamos un campo price_new para asignar directamente el valor de price_aprox_usd. Y en *currency_new* asignamos \"USD\""
   ]
  },
  {
   "cell_type": "code",
   "execution_count": null,
   "metadata": {},
   "outputs": [],
   "source": [
    "data_ars['price_new']=data_ars['price_aprox_usd'] # igualamos price_aprox_usd con price_new"
   ]
  },
  {
   "cell_type": "code",
   "execution_count": null,
   "metadata": {},
   "outputs": [],
   "source": [
    "data_ars['currency_new']='USD' # cambiamos la moneda a dolares\n",
    "data_ars.head(3)"
   ]
  },
  {
   "cell_type": "code",
   "execution_count": null,
   "metadata": {},
   "outputs": [],
   "source": [
    "#Creamos una máscara para extraer los registros con moneda en dólares y además los campos\n",
    "#que corresponden para el análisis\n",
    "mask_currency_usd = data['currency'] == 'USD'\n",
    "data_currency_usd = data.loc[mask_currency_usd, ['place_name', 'price', 'currency', 'price_aprox_local_currency', 'price_aprox_usd']]\n",
    "data_currency_usd.sample(5)"
   ]
  },
  {
   "cell_type": "markdown",
   "metadata": {},
   "source": [
    "* Encontramos con este proceso la relación que existe entre la columna price y price_aprox_local_currency\n"
   ]
  },
  {
   "cell_type": "code",
   "execution_count": null,
   "metadata": {},
   "outputs": [],
   "source": [
    "#sumamos las columnas price y price_aprox_local_currency del dataset original\n",
    "sum_price = np.sum(data_currency_usd['price'])\n",
    "sum_price_aprox_local = np.sum(data_currency_usd['price_aprox_local_currency'])"
   ]
  },
  {
   "cell_type": "markdown",
   "metadata": {},
   "source": [
    "* Dividimos la sumatoria entre la sumatoria de price y price_aprox_local_currency"
   ]
  },
  {
   "cell_type": "code",
   "execution_count": null,
   "metadata": {},
   "outputs": [],
   "source": [
    "proporcion_dolar_pesos =  np.round((sum_price_aprox_local / sum_price), 4)"
   ]
  },
  {
   "cell_type": "markdown",
   "metadata": {},
   "source": [
    "* Podemos verificar que existe el factor de proporcion 17.6445"
   ]
  },
  {
   "cell_type": "code",
   "execution_count": null,
   "metadata": {},
   "outputs": [],
   "source": [
    "proporcion_dolar_pesos"
   ]
  },
  {
   "cell_type": "markdown",
   "metadata": {},
   "source": [
    "* Con este factor de proporción obtenido de 17.6445 podemos multiplicar la columna price proporcion_dolar_pesos y es igual a la columna price_aprox_local_currency, que será empleado cuando se haga el análisis de la columna price_aprox_local_currency más adelante."
   ]
  },
  {
   "cell_type": "markdown",
   "metadata": {},
   "source": [
    "Comprobamos que *price_aprox_local_currency* es equivalente a lo que se encuentra almacenado en esa columna actualmente. \n",
    "Con el nuevo precio que está guardado.\n",
    "En *price_new* se va a multiplicar por 17.6445 y obtenemos la columna *calculo_price_local_currency*"
   ]
  },
  {
   "cell_type": "code",
   "execution_count": null,
   "metadata": {},
   "outputs": [],
   "source": [
    "\n",
    "df_local_currency=data_ars.loc[(data_ars.price_new.notnull())&(data_ars.price_aprox_usd.notnull())]\n",
    "df_local_currency['calculo_price_local_currency']=df_local_currency.loc[:,'price_new']*proporcion_dolar_pesos\n",
    "df_local_currency.head(3)"
   ]
  },
  {
   "cell_type": "markdown",
   "metadata": {},
   "source": [
    "Filtramos para ver si hay alguna diferencia entre lo que calculamos y lo que tenemos almacenado en *price_aprox_local_currency* actualmente, y podemos observar que no hay ninguna diferencia, por lo tanto **podemos reemplazar *price* con el valor de *price_aprox_usd* y además cambiar la columna currency a USD:"
   ]
  },
  {
   "cell_type": "code",
   "execution_count": null,
   "metadata": {},
   "outputs": [],
   "source": [
    "\n",
    "df_local_currency['diferencia_calculo']=df_local_currency['price_aprox_local_currency']-df_local_currency['calculo_price_local_currency']\n",
    "print(df_local_currency[df_local_currency.diferencia_calculo>0])"
   ]
  },
  {
   "cell_type": "markdown",
   "metadata": {},
   "source": [
    "#### 📝 Limpieza de Datos "
   ]
  },
  {
   "cell_type": "markdown",
   "metadata": {},
   "source": [
    "Se extraen los registros en donde la moneda es ARS, el *price* no es null y el *price_aprox_usd* no es null"
   ]
  },
  {
   "cell_type": "code",
   "execution_count": null,
   "metadata": {},
   "outputs": [],
   "source": [
    "data_currency_ars_mask=(data.currency_new=='ARS')&(data.price_new.notnull())&(data.price_aprox_usd_new.notnull())\n",
    "data_currency_ars=data[data_currency_ars_mask]\n",
    "data_currency_ars.head(3)"
   ]
  },
  {
   "cell_type": "markdown",
   "metadata": {},
   "source": [
    "En base al análisis realizado, se cambia la columna currency_new de ARS a USD y el precio_new reemplazamos por lo que el valor que tenemos\n",
    "guardado en price_aprox_usd, con el objetivo de tener todo el dataset en una única moneda"
   ]
  },
  {
   "cell_type": "markdown",
   "metadata": {},
   "source": [
    "* A continuacion se eliminan los registros con currency 'PEN' Y 'UYU', los mismos suman la totalidad de 3 registros, son considerados outliers"
   ]
  },
  {
   "cell_type": "code",
   "execution_count": null,
   "metadata": {},
   "outputs": [],
   "source": [
    "data.loc[data_currency_ars_mask,'price_new'] = data.loc[data_currency_ars_mask,'price_aprox_usd']\n",
    "data.loc[data_currency_ars_mask,'currency_new']='USD'"
   ]
  },
  {
   "cell_type": "code",
   "execution_count": null,
   "metadata": {},
   "outputs": [],
   "source": [
    "indices_pen_uyu = data[(data.currency_new == 'PEN') | (data.currency_new == 'UYU')].index\n",
    "data.drop(indices_pen_uyu, inplace=True)"
   ]
  },
  {
   "cell_type": "markdown",
   "metadata": {},
   "source": [
    "------------------------------------------------"
   ]
  },
  {
   "cell_type": "markdown",
   "metadata": {},
   "source": [
    "#### SECCION 3.2 - COLUMNA PRICE"
   ]
  },
  {
   "cell_type": "markdown",
   "metadata": {},
   "source": [
    "#### 📝 Limpieza de Datos "
   ]
  },
  {
   "cell_type": "code",
   "execution_count": null,
   "metadata": {},
   "outputs": [],
   "source": [
    "data.price_new.describe()"
   ]
  },
  {
   "cell_type": "code",
   "execution_count": null,
   "metadata": {},
   "outputs": [],
   "source": [
    "data.price_new.isnull().sum()"
   ]
  },
  {
   "cell_type": "markdown",
   "metadata": {},
   "source": [
    "#### 📝 Limpieza de Datos "
   ]
  },
  {
   "cell_type": "markdown",
   "metadata": {},
   "source": [
    "Para recuperar los nulos en *price*, se decide hacer una imputacion de la media del precio según la zona geográfica. "
   ]
  },
  {
   "cell_type": "code",
   "execution_count": null,
   "metadata": {},
   "outputs": [],
   "source": [
    "pivot_table_prices_avg = data.pivot_table('price_new', index = ['state_name','place_name_new'])\n",
    "pivot_table_prices_avg"
   ]
  },
  {
   "cell_type": "code",
   "execution_count": null,
   "metadata": {},
   "outputs": [],
   "source": [
    "# Se recorre la pivot table para poder asignar la media por provincia y por ciudad, se asgina la media a 'price_new', 'price_aprox_usd_new', y se pasa a dolares la currency_new cuando es nula\n",
    "for indice, row in pivot_table_prices_avg.iterrows():\n",
    "    provincia, ciudad = indice     \n",
    "    data.loc[(data.currency.isnull()) & (data.price.isnull()) & (data.state_name==provincia) & (data.place_name_new==ciudad), ['price_new', 'price_aprox_usd_new']] = row['price_new']    \n",
    "    data.loc[(data.currency.isnull()) & (data.price.isnull()) & (data.state_name==provincia) & (data.place_name_new==ciudad), 'currency_new'] =  'USD'"
   ]
  },
  {
   "cell_type": "markdown",
   "metadata": {},
   "source": [
    "A continuación vemos como se modificaron los nulos en las 3 columnas afectadas:"
   ]
  },
  {
   "cell_type": "code",
   "execution_count": null,
   "metadata": {},
   "outputs": [],
   "source": [
    "print(data.currency.isnull().sum())\n",
    "print(data.currency_new.isnull().sum())"
   ]
  },
  {
   "cell_type": "code",
   "execution_count": null,
   "metadata": {},
   "outputs": [],
   "source": [
    "print(data.price.isnull().sum())\n",
    "print(data.price_new.isnull().sum())"
   ]
  },
  {
   "cell_type": "code",
   "execution_count": null,
   "metadata": {},
   "outputs": [],
   "source": [
    "print(data.price_aprox_usd.isnull().sum())\n",
    "print(data.price_aprox_usd_new.isnull().sum())"
   ]
  },
  {
   "cell_type": "markdown",
   "metadata": {},
   "source": [
    "----------------------------------------------------------------------------------"
   ]
  },
  {
   "cell_type": "markdown",
   "metadata": {},
   "source": [
    "#### SECCION 3.3 - PRICE_APROX_LOCAL_CURRENCY"
   ]
  },
  {
   "cell_type": "markdown",
   "metadata": {},
   "source": [
    "Queremos verificar de donde sale el valor de esta variable, y si tiene relación con la variable price (price_new). Para esto vamos a crear un dataframe auxiliar:"
   ]
  },
  {
   "cell_type": "code",
   "execution_count": null,
   "metadata": {},
   "outputs": [],
   "source": [
    "df_price_to_price_local_currency=dataframe_prices.loc[(dataframe_prices.price.notnull())&(dataframe_prices.price_aprox_usd.notnull())&(dataframe_prices.currency=='USD')]\n",
    "df_price_to_price_local_currency.head(3)"
   ]
  },
  {
   "cell_type": "markdown",
   "metadata": {},
   "source": [
    "Verificamos que multiplicando price*17,6445 nos da como resultado la columna *price_aprox_local_currency*"
   ]
  },
  {
   "cell_type": "code",
   "execution_count": null,
   "metadata": {},
   "outputs": [],
   "source": [
    "df_price_to_price_local_currency['calculo_price_local_currency']=df_price_to_price_local_currency.loc[:,'price']*proporcion_dolar_pesos\n",
    "df_price_to_price_local_currency.head(3)"
   ]
  },
  {
   "cell_type": "markdown",
   "metadata": {},
   "source": [
    "✔️ A continuación, en la columna *diferencia_calculo* podemos observar que es 0 en todos los registros, por lo tanto se concluye que se puede aplicar la formula *price x proporcion_dolar_pesos* para poblar *price_aprox_local_currency*, cuando currency es USD:"
   ]
  },
  {
   "cell_type": "code",
   "execution_count": null,
   "metadata": {},
   "outputs": [],
   "source": [
    "df_price_to_price_local_currency['diferencia_calculo']=df_price_to_price_local_currency['price_aprox_local_currency']-df_price_to_price_local_currency['calculo_price_local_currency']\n",
    "print(df_price_to_price_local_currency[df_price_to_price_local_currency.diferencia_calculo>0])"
   ]
  },
  {
   "cell_type": "markdown",
   "metadata": {},
   "source": [
    "#### 📝 Limpieza de Datos "
   ]
  },
  {
   "cell_type": "markdown",
   "metadata": {},
   "source": [
    "* **Creamos una variable *price_aprox_local_currency_new* para proceder a poblar con los nuevos datos**"
   ]
  },
  {
   "cell_type": "code",
   "execution_count": null,
   "metadata": {},
   "outputs": [],
   "source": [
    "data['price_aprox_local_currency_new']=data.price_aprox_local_currency"
   ]
  },
  {
   "cell_type": "code",
   "execution_count": null,
   "metadata": {},
   "outputs": [],
   "source": [
    "#Aqui se verifica que la columna price_new sea mayor a 0, que price_aprox_local_currency_new sea null y que la moneda sea igual a 'USD'\n",
    "\n",
    "price_local_currency_mask=(data.price_new.notnull())&(data.price_aprox_local_currency_new.isnull())&(data.currency_new=='USD')&(data.price_new>0)\n",
    "\n"
   ]
  },
  {
   "cell_type": "markdown",
   "metadata": {},
   "source": [
    "Aplicamos el calculo:"
   ]
  },
  {
   "cell_type": "code",
   "execution_count": null,
   "metadata": {},
   "outputs": [],
   "source": [
    "#procedemos a poblar el campo price_aprox_local_currency con la siguiente formula: price x 17.644\n",
    "data.loc[price_local_currency_mask,'price_aprox_local_currency_new'] = data.loc[price_local_currency_mask,'price_new']*proporcion_dolar_pesos"
   ]
  },
  {
   "cell_type": "markdown",
   "metadata": {},
   "source": [
    "✔️ Y verificamos que la cantidad de nulos corresponde con la cantidad que teníamos en las variables previamente modificadas. "
   ]
  },
  {
   "cell_type": "code",
   "execution_count": null,
   "metadata": {},
   "outputs": [],
   "source": [
    "data.price_aprox_local_currency_new.isnull().sum()"
   ]
  },
  {
   "cell_type": "markdown",
   "metadata": {},
   "source": [
    "-----------------------------------------------------"
   ]
  },
  {
   "cell_type": "markdown",
   "metadata": {},
   "source": [
    "#### SECCION 3.4 - PRICE_APROX_USD"
   ]
  },
  {
   "cell_type": "markdown",
   "metadata": {},
   "source": [
    "#### ANÁLISIS 🔎"
   ]
  },
  {
   "cell_type": "markdown",
   "metadata": {},
   "source": [
    "A continuación, queremos verificar que si el campo *currency* es USD, la columna *price* y *price_aprox_usd* tienen el mismo valor."
   ]
  },
  {
   "cell_type": "code",
   "execution_count": null,
   "metadata": {},
   "outputs": [],
   "source": [
    "series_prices=data.loc[:, ['property_type','price', 'currency', 'price_aprox_local_currency','price_aprox_usd','surface_total_in_m2','surface_total_in_m2_new','surface_covered_in_m2','price_usd_per_m2','price_per_m2','rooms','surface_total_in_m2_new']]"
   ]
  },
  {
   "cell_type": "markdown",
   "metadata": {},
   "source": [
    "Creamos una columna diferencia_price_aprox_usd con la diferencia entre la columna price y price_prox_usd "
   ]
  },
  {
   "cell_type": "code",
   "execution_count": null,
   "metadata": {},
   "outputs": [],
   "source": [
    "price_aprox_usd_mask=(series_prices.price.notnull())&(series_prices.price_aprox_usd.notnull()&(series_prices.price>0)&(series_prices.currency=='USD'))\n",
    "serie_price_aprox_usd=series_prices.loc[price_aprox_usd_mask]\n",
    "serie_price_aprox_usd['diferencia_price_aprox_usd']=serie_price_aprox_usd['price']-serie_price_aprox_usd['price_aprox_usd']"
   ]
  },
  {
   "cell_type": "markdown",
   "metadata": {},
   "source": [
    "La diferencia en la columna *diferencia_price_aprox_usd* es 0, por lo tanto, cuando la moneda es USD la columna *price* y *price_aprox_usd* son iguales."
   ]
  },
  {
   "cell_type": "code",
   "execution_count": null,
   "metadata": {},
   "outputs": [],
   "source": [
    "print('<----------------------------------------------->')\n",
    "print(\"Numero de registros que tienen diferencia mayor a 0:\")\n",
    "print(serie_price_aprox_usd[serie_price_aprox_usd.diferencia_price_aprox_usd>0])"
   ]
  },
  {
   "cell_type": "markdown",
   "metadata": {},
   "source": [
    "#### 📝 Limpieza de Datos "
   ]
  },
  {
   "cell_type": "markdown",
   "metadata": {},
   "source": [
    "Procedemos a rellenar la variable según el criterio obtenido:"
   ]
  },
  {
   "cell_type": "code",
   "execution_count": null,
   "metadata": {},
   "outputs": [],
   "source": [
    "#Aqui se verifica que la columna price_new sea mayor a 0, que price_aprox_usd_new sea null y que la currency_new sea igual a 'USD'\n",
    "price_aprox_usd_mask=(data.price_new.notnull())&(data.price_aprox_usd_new.isnull())&(data.currency_new=='USD')&(data.price_new>0)"
   ]
  },
  {
   "cell_type": "code",
   "execution_count": null,
   "metadata": {},
   "outputs": [],
   "source": [
    "#Igualamos al campo price.\n",
    "data.loc[price_aprox_usd_mask,'price_aprox_usd_new'] = data.loc[price_aprox_usd_mask,'price_new']"
   ]
  },
  {
   "cell_type": "code",
   "execution_count": null,
   "metadata": {},
   "outputs": [],
   "source": [
    "data.price_aprox_usd_new.isnull().sum()"
   ]
  },
  {
   "cell_type": "markdown",
   "metadata": {},
   "source": [
    "-----------------------------------------------------"
   ]
  },
  {
   "cell_type": "markdown",
   "metadata": {},
   "source": [
    "#### SECCION 3.5 - PRICE_USD_PER_M2 y PRICE_PER_M2 "
   ]
  },
  {
   "cell_type": "markdown",
   "metadata": {},
   "source": [
    "#### ANÁLISIS 🔎"
   ]
  },
  {
   "cell_type": "code",
   "execution_count": null,
   "metadata": {},
   "outputs": [],
   "source": [
    "series_prices.isnull().sum()"
   ]
  },
  {
   "cell_type": "markdown",
   "metadata": {},
   "source": [
    "Queremos verificar la hipótesis de que*price_usd_per_m2* es la división *price_aprox_usd*/*surface_total_in_m2*. Para ello creamos una nueva columna con el resultado de esa división y la comparamos con la columna original."
   ]
  },
  {
   "cell_type": "code",
   "execution_count": null,
   "metadata": {
    "tags": []
   },
   "outputs": [],
   "source": [
    "#creamos un df excluyendo los nulos en ambos tipos de superficie y en price.\n",
    "series_prices_not_null=series_prices.loc[(series_prices.price_aprox_usd.notnull())\n",
    "                                         &(series_prices.surface_total_in_m2.notnull())\n",
    "                                         &(series_prices.surface_covered_in_m2.notnull())]\n",
    "series_prices_not_null.head(10)"
   ]
  },
  {
   "cell_type": "markdown",
   "metadata": {},
   "source": [
    "Creamos una columna adicional para verificar que price_aprox_usd/surface_total_in_m2 = price_usd_per_m2"
   ]
  },
  {
   "cell_type": "code",
   "execution_count": null,
   "metadata": {},
   "outputs": [],
   "source": [
    "\n",
    "series_prices_not_null['calculo_price_usd_per_m2']=series_prices_not_null['price_aprox_usd']/series_prices_not_null['surface_total_in_m2']\n",
    "series_prices_not_null"
   ]
  },
  {
   "cell_type": "markdown",
   "metadata": {},
   "source": [
    "✔️ A continuación, en la columna *diferencia_price_usd_per_m2* podemos observar que la misma es mínima, por lo tanto se concluye que se puede\n",
    "aplicar la formula anterior para poblar la *columna price_usd_per_m2*:"
   ]
  },
  {
   "cell_type": "code",
   "execution_count": null,
   "metadata": {
    "tags": []
   },
   "outputs": [],
   "source": [
    "\n",
    "\n",
    "\n",
    "\n",
    "\n",
    "\n",
    "\n",
    "serie_dif=series_prices_not_null[(series_prices_not_null['calculo_price_usd_per_m2']-series_prices_not_null['price_usd_per_m2'])>0]\n",
    "serie_dif['diferencia_price_usd_per_m2']=serie_dif['calculo_price_usd_per_m2'].astype(float)-serie_dif['price_usd_per_m2'].astype(float)\n",
    "serie_dif"
   ]
  },
  {
   "cell_type": "markdown",
   "metadata": {},
   "source": [
    "--------------------------------------"
   ]
  },
  {
   "cell_type": "markdown",
   "metadata": {},
   "source": [
    "De forma análoga, También verificamos si  *price_per_m2* es igual a la división *price_aprox_usd/surface_covered_in_m2*"
   ]
  },
  {
   "cell_type": "code",
   "execution_count": null,
   "metadata": {},
   "outputs": [],
   "source": [
    "series_prices_not_null['calculo_price_per_m2']=series_prices_not_null['price_aprox_usd']/series_prices_not_null['surface_covered_in_m2']"
   ]
  },
  {
   "cell_type": "code",
   "execution_count": null,
   "metadata": {
    "tags": []
   },
   "outputs": [],
   "source": [
    "serie_dif_price_m2=series_prices_not_null[(series_prices_not_null['calculo_price_per_m2']-series_prices_not_null['price_per_m2'])>0]\n",
    "serie_dif_price_m2['diferencia_price_m2']=serie_dif_price_m2['calculo_price_per_m2'].astype(float)-serie_dif_price_m2['price_per_m2'].astype(float)\n",
    "serie_dif_price_m2"
   ]
  },
  {
   "cell_type": "markdown",
   "metadata": {},
   "source": [
    "En la columna diferencia_price_m2 podemos observar nuevamente que la diferencia es mínima, por lo tanto se concluye que se puede\n",
    "aplicar la formula price_aprox_usd/surface_covered_in_m2 para poblar la columna price_per_m2"
   ]
  },
  {
   "cell_type": "markdown",
   "metadata": {},
   "source": [
    "A continuación, verificamos cuántos registros son nulos en *price_usd_per_m2*, pero que tengan datos en *price_aprox_usd* y en *surface_total_in_m2_new* (y que esta ultima sea > 0). De acuerdo a ello vemos que podríamos recuperar 31788 nulos:"
   ]
  },
  {
   "cell_type": "code",
   "execution_count": null,
   "metadata": {},
   "outputs": [],
   "source": [
    "\n",
    "resultado=data[(data.price_aprox_usd.notnull())&(data.surface_total_in_m2_new.notnull())&(data.surface_total_in_m2_new>0)&(data.price_usd_per_m2.isnull())]\n",
    "resultado_prices=resultado.loc[:, ['price_usd_per_m2','price','price_aprox_usd','surface_total_in_m2_new']]\n",
    "print(resultado_prices.shape[0])\n",
    "resultado_prices\n"
   ]
  },
  {
   "cell_type": "markdown",
   "metadata": {},
   "source": [
    "#### 📝 Limpieza de Datos "
   ]
  },
  {
   "cell_type": "markdown",
   "metadata": {},
   "source": [
    "A partir de lo verificado previamente, procedemos a llenar los nulos."
   ]
  },
  {
   "cell_type": "markdown",
   "metadata": {},
   "source": [
    "* **Creamos una copia exacta de las variables:**"
   ]
  },
  {
   "cell_type": "code",
   "execution_count": null,
   "metadata": {
    "tags": []
   },
   "outputs": [],
   "source": [
    "data['price_usd_per_m2_new']=data.price_usd_per_m2"
   ]
  },
  {
   "cell_type": "code",
   "execution_count": null,
   "metadata": {},
   "outputs": [],
   "source": [
    "data['price_per_m2_new']=data.price_per_m2"
   ]
  },
  {
   "cell_type": "code",
   "execution_count": null,
   "metadata": {
    "tags": []
   },
   "outputs": [],
   "source": [
    "#Aqui se verifica que price_aprox_usd no sea null y que surface_total_in_m2_new sea mayor que 0,\n",
    "\n",
    "price_usd_per_m2_mask=(data.price_aprox_usd_new.notnull())&(data.surface_total_in_m2_new.notnull())&(data.surface_total_in_m2_new>0)&(data.price_usd_per_m2_new.isnull())\n",
    "lista_price_usd_per_m2_new=data[price_usd_per_m2_mask]\n",
    "lista_price_usd_per_m2_new.head(3)\n",
    "\n",
    "#procedemos a poblar el campo price_usd_per_m2_new con la siguiente formula: price_aprox_usd/surface_total_in_m2_new\n",
    "data.loc[price_usd_per_m2_mask,'price_usd_per_m2_new'] = data.loc[price_usd_per_m2_mask,'price_aprox_usd_new']/ data.loc[price_usd_per_m2_mask,'surface_total_in_m2_new']\n"
   ]
  },
  {
   "cell_type": "markdown",
   "metadata": {},
   "source": [
    "Verificamos la cantidad de nulos y bajaron exactamente la cantidad que podíamos recuperar."
   ]
  },
  {
   "cell_type": "code",
   "execution_count": null,
   "metadata": {},
   "outputs": [],
   "source": [
    "print(\"Cantidad de nulos en price_usd_per_m2:\")\n",
    "print(data.price_usd_per_m2.isnull().sum())\n",
    "\n",
    "print(\"Porcentaje de nulos enprice_usd_per_m2:\")\n",
    "porc_nulos = (data.price_usd_per_m2.isnull().sum() / data.shape[0] *100).round(2)\n",
    "print(porc_nulos)\n",
    "print(\"------------------------VS----------------------------\")\n",
    "print(\"Cantidad de nulos en price_usd_per_m2_new:\")\n",
    "print(data.price_usd_per_m2_new.isnull().sum())\n",
    "\n",
    "print(\"Porcentaje de nulos en price_usd_per_m2_new:\")\n",
    "porc_nulos = (data.price_usd_per_m2_new.isnull().sum() / data.shape[0] *100).round(2)\n",
    "print(porc_nulos)\n"
   ]
  },
  {
   "cell_type": "markdown",
   "metadata": {},
   "source": [
    "Y a continuación repetimos el procedimiento para *PRICE_PER_M2*.\n",
    "\n",
    "Creamos una copia exacta para proceder a poblar con los nuevos datos:"
   ]
  },
  {
   "cell_type": "code",
   "execution_count": null,
   "metadata": {},
   "outputs": [],
   "source": [
    "#Aquí se verifica que price_aprox_usd no sea null y que surface_covered_in_m2_new sea mayor que 0,\n",
    "\n",
    "price_per_m2_mask=(data.price_aprox_usd_new.notnull())&(data.surface_covered_in_m2.notnull())&(data.surface_covered_in_m2>0)&(data.price_per_m2.isnull())\n",
    "\n",
    "lista_price_per_m2_new=data[price_per_m2_mask]\n",
    "lista_price_per_m2_new.head(3)\n",
    "\n",
    "#procedemos a poblar el campo price_per_m2_new con la siguiente formula: price_aprox_usd/surface_covered_in_m2\n",
    "data.loc[price_per_m2_mask,'price_per_m2_new'] = data.loc[price_per_m2_mask,'price_aprox_usd_new']/ data.loc[price_per_m2_mask,'surface_covered_in_m2']"
   ]
  },
  {
   "cell_type": "markdown",
   "metadata": {},
   "source": [
    "Y verificamos nulos:"
   ]
  },
  {
   "cell_type": "code",
   "execution_count": null,
   "metadata": {},
   "outputs": [],
   "source": [
    "print(\"Cantidad de nulos en price_per_m2:\")\n",
    "print(data.price_per_m2.isnull().sum())\n",
    "\n",
    "print(\"Porcentaje de nulos en price_per_m2:\")\n",
    "porc_nulos = (data.price_per_m2.isnull().sum() / data.shape[0] *100).round(2)\n",
    "print(porc_nulos)\n",
    "print(\"------------------------VS----------------------------\")\n",
    "print(\"Cantidad de nulos en price_per_m2_new:\")\n",
    "print(data.price_per_m2_new.isnull().sum())\n",
    "\n",
    "print(\"Porcentaje de nulos en price_per_m2_new:\")\n",
    "porc_nulos = (data.price_per_m2_new.isnull().sum() / data.shape[0] *100).round(2)\n",
    "print(porc_nulos)\n"
   ]
  },
  {
   "cell_type": "markdown",
   "metadata": {},
   "source": [
    "## SECCIÓN 4 - DATASET FINAL"
   ]
  },
  {
   "cell_type": "markdown",
   "metadata": {},
   "source": [
    "Visualizamos como quedaron la cantidad de nulos en el dataset original, que incluye todas las nuevas columnas creadas en la limpieza."
   ]
  },
  {
   "cell_type": "code",
   "execution_count": null,
   "metadata": {},
   "outputs": [],
   "source": [
    "print(data.isnull().sum())"
   ]
  },
  {
   "cell_type": "code",
   "execution_count": null,
   "metadata": {},
   "outputs": [],
   "source": [
    "data.rename(columns={'surface_covered_in_m2': 'surface_covered_in_m2_new'},inplace=True)\n",
    "data.columns"
   ]
  },
  {
   "cell_type": "code",
   "execution_count": null,
   "metadata": {},
   "outputs": [],
   "source": [
    "data['intermediate_covered_calculation'] = data.groupby('property_type_new')['surface_covered_in_m2_new'].transform('mean')+ (data.groupby('property_type_new')['surface_total_in_m2_new'].transform('mean') - data.groupby('property_type_new')['surface_covered_in_m2_new'].transform('mean'))"
   ]
  },
  {
   "cell_type": "code",
   "execution_count": null,
   "metadata": {},
   "outputs": [],
   "source": [
    "data['surface_covered_in_m2_new'].fillna(data['intermediate_covered_calculation'], inplace=True)"
   ]
  },
  {
   "cell_type": "code",
   "execution_count": null,
   "metadata": {},
   "outputs": [],
   "source": [
    "print(data.isnull().sum())"
   ]
  },
  {
   "cell_type": "markdown",
   "metadata": {},
   "source": [
    "**A continuación creamos un nuevo df llamado *data_model* que incluye solo las columnas trabajadas.**\n",
    "De esta manera ya prescindimos de las 7 columnas mencionadas en el análisis preliminar (Unnamed: 0, Operation, place_with_parent_names, country_name, properati_url, image_thumbnail, expenses) y las 4 columnas que no fueron trabajadas (lat-lon, lat, lon y surface_covered_in_m2)."
   ]
  },
  {
   "cell_type": "code",
   "execution_count": null,
   "metadata": {},
   "outputs": [],
   "source": [
    "data_model = data.filter(like='_new', axis=1)"
   ]
  },
  {
   "cell_type": "code",
   "execution_count": null,
   "metadata": {},
   "outputs": [],
   "source": [
    "print(data_model.shape) #26 columnas - 7 - 4 = 15\n",
    "data_model .isnull().sum()"
   ]
  },
  {
   "cell_type": "markdown",
   "metadata": {},
   "source": [
    "#### SECCION 4.1 - ELIMINACIÓN DE COLUMNAS"
   ]
  },
  {
   "cell_type": "markdown",
   "metadata": {},
   "source": [
    "A continuación prescindimos de aquellas columnas que luego de la limpieza aún tengan gran porcentaje de nulos, o que luego del análisis concluimos que no son importantes para entrenar el modelo. "
   ]
  },
  {
   "cell_type": "markdown",
   "metadata": {},
   "source": [
    "1. **'price_per_m2_new' y 'floor_new'**. Aunque se hicieron esfuerzos por llenar los nulos, no pudieron cubrirse todos, y para el analisis dichas columna no influyen significativamente.\n",
    "2. **'geonames_id_new'**. A pesar del análisis, no se pudieron recuperar todos los nulos. Por otra parte, esa información puede recuperarse de otras columnas ('place_name_new, state_name_new')\n",
    "3. **'price_aprox_usd_new'** no se toma en cuenta porque es igual a 'price_new', ya que se pasaron todos los valores a dólares"
   ]
  },
  {
   "cell_type": "code",
   "execution_count": null,
   "metadata": {},
   "outputs": [],
   "source": [
    "columnas_a_eliminar = [\"price_per_m2_new\",\"floor_new\", \"geonames_id_new\", \"price_aprox_usd_new\"]\n",
    "data_model = data_model.drop(columnas_a_eliminar, axis=1)\n",
    "data_model.shape"
   ]
  },
  {
   "cell_type": "markdown",
   "metadata": {},
   "source": [
    "#### SECCION 4.2 - ELIMINACIÓN DE REGISTROS"
   ]
  },
  {
   "cell_type": "markdown",
   "metadata": {},
   "source": [
    "A continuación procedemos a limpiar definititamente los registros que aún tienen nulos en determinadas variables, para poder hacer la martriz de correlación posteriormente. "
   ]
  },
  {
   "cell_type": "markdown",
   "metadata": {},
   "source": [
    "1. Registros con nulos en *currency_new*, ya que cuando esta es nula, son nulas todas las columnas referenciales al precio."
   ]
  },
  {
   "cell_type": "code",
   "execution_count": null,
   "metadata": {},
   "outputs": [],
   "source": [
    "data_model.dropna(subset=['currency_new'], axis=0, inplace=True)"
   ]
  },
  {
   "cell_type": "code",
   "execution_count": null,
   "metadata": {},
   "outputs": [],
   "source": [
    "data_model.isnull().sum()\n",
    "print(data_model.shape)"
   ]
  },
  {
   "cell_type": "markdown",
   "metadata": {},
   "source": [
    "2. Registros con nulos en *price_new*. Sin el precio, no se puede realizar correctamente el análisis."
   ]
  },
  {
   "cell_type": "code",
   "execution_count": null,
   "metadata": {},
   "outputs": [],
   "source": [
    "data_model.dropna(subset=['price_new'], axis=0, inplace=True)\n",
    "print(data_model.shape)"
   ]
  },
  {
   "cell_type": "markdown",
   "metadata": {},
   "source": [
    "3. Registros con nulos en la columna 'price_usd_per_m2_new', ya que sin ellos no se puede realizar correctamente el análisis"
   ]
  },
  {
   "cell_type": "code",
   "execution_count": null,
   "metadata": {},
   "outputs": [],
   "source": [
    "data_model.dropna(subset=['price_usd_per_m2_new'], axis=0, inplace=True)\n",
    "print(data_model.shape)"
   ]
  },
  {
   "cell_type": "markdown",
   "metadata": {},
   "source": [
    "Verificamos que ahora ninguna columna contiene nulos:"
   ]
  },
  {
   "cell_type": "code",
   "execution_count": null,
   "metadata": {},
   "outputs": [],
   "source": [
    "data_model.isnull().sum()"
   ]
  },
  {
   "cell_type": "markdown",
   "metadata": {},
   "source": [
    "Y a continuación verificamos cuántos registros pudimos retener del dataset original."
   ]
  },
  {
   "cell_type": "code",
   "execution_count": null,
   "metadata": {},
   "outputs": [],
   "source": [
    "print(data.shape)\n",
    "print(data_model.shape)"
   ]
  },
  {
   "cell_type": "code",
   "execution_count": null,
   "metadata": {},
   "outputs": [],
   "source": [
    "print(\"Porcentaje de registros válidos del modelo actual respecto al anterior:\")\n",
    "print(f\"{np.round((data_model.shape[0] / data.shape[0] * 100), 2)} %\")"
   ]
  },
  {
   "cell_type": "markdown",
   "metadata": {},
   "source": [
    "## SECCIÓN 5 - ANÁLISIS DE CORRELACIÓN"
   ]
  },
  {
   "cell_type": "markdown",
   "metadata": {},
   "source": [
    "En este caso no podemos usar la covarianza para estimar la relación entre variables, ya que tenemos diferentes unidaeddes de medida (m2, dolares, cantidad de rooms, etc). \n",
    "\n",
    "Con lo cual estimamos una matriz de correlación."
   ]
  },
  {
   "cell_type": "markdown",
   "metadata": {},
   "source": [
    "Para cacular correlaciones no puede haber nulos en las columnas. Seleccionamos solamente las columnas numéricas."
   ]
  },
  {
   "cell_type": "code",
   "execution_count": null,
   "metadata": {},
   "outputs": [],
   "source": [
    "matrix_corr = data_model[['rooms_new','price_new','surface_total_in_m2_new','price_usd_per_m2_new']].corr().round(3)\n",
    "matrix_corr"
   ]
  },
  {
   "cell_type": "code",
   "execution_count": null,
   "metadata": {},
   "outputs": [],
   "source": [
    "data_model_graph = data_model.rename(columns={'rooms_new':'Ambientes',\n",
    "                                   'price_new':'Precio',\n",
    "                                   'surface_total_in_m2_new':'Superficie total en m2',\n",
    "                                   'price_usd_per_m2_new':'Precio en dólares por m2'})"
   ]
  },
  {
   "cell_type": "code",
   "execution_count": null,
   "metadata": {},
   "outputs": [],
   "source": [
    "data_model_graph.columns"
   ]
  },
  {
   "cell_type": "code",
   "execution_count": null,
   "metadata": {},
   "outputs": [],
   "source": [
    "matrix_corr_graph = data_model_graph[[\"Ambientes\",\"Precio\",\"Superficie total en m2\",\"Precio en dólares por m2\"]].corr().round(3)\n",
    "matrix_corr_graph"
   ]
  },
  {
   "cell_type": "markdown",
   "metadata": {},
   "source": [
    "Vemos que hay una correlaciones bajas por lo general, la correlacion mas alta obtenidad se da entre 'rooms_new' y 'surface_total_in_m2_new'"
   ]
  },
  {
   "cell_type": "markdown",
   "metadata": {},
   "source": [
    "* Se realiza un grafico para poder verlo con mayor claridad"
   ]
  },
  {
   "cell_type": "code",
   "execution_count": null,
   "metadata": {},
   "outputs": [],
   "source": [
    "plt.figure(figsize=(10, 8))\n",
    "sns.heatmap(matrix_corr_graph, annot=True, cmap='RdYlGn', fmt='.2f', linewidths=.5)\n",
    "plt.title('Correlación entre columnas categóricas')\n",
    "plt.show()"
   ]
  },
  {
   "cell_type": "code",
   "execution_count": null,
   "metadata": {},
   "outputs": [],
   "source": [
    "# Se migra el modelo de datos\n",
    "data_model.to_csv('properatti_model_data')"
   ]
  },
  {
   "cell_type": "code",
   "execution_count": null,
   "metadata": {},
   "outputs": [],
   "source": [
    "data_model.columns"
   ]
  },
  {
   "cell_type": "code",
   "execution_count": null,
   "metadata": {},
   "outputs": [],
   "source": [
    "data_model.dtypes"
   ]
  },
  {
   "cell_type": "code",
   "execution_count": null,
   "metadata": {},
   "outputs": [],
   "source": [
    "data_model.rooms_new.sort_values(ascending=False)"
   ]
  },
  {
   "cell_type": "code",
   "execution_count": null,
   "metadata": {},
   "outputs": [],
   "source": [
    "data_model.surface_total_in_m2_new.sort_values(ascending=False)"
   ]
  },
  {
   "cell_type": "code",
   "execution_count": null,
   "metadata": {},
   "outputs": [],
   "source": [
    "data_model.price_new.sort_values(ascending=False)"
   ]
  },
  {
   "cell_type": "code",
   "execution_count": null,
   "metadata": {},
   "outputs": [],
   "source": [
    "data_model.describe()"
   ]
  },
  {
   "cell_type": "code",
   "execution_count": null,
   "metadata": {},
   "outputs": [],
   "source": [
    "data_model.dtypes"
   ]
  },
  {
   "cell_type": "code",
   "execution_count": null,
   "metadata": {},
   "outputs": [],
   "source": [
    "data_model.rooms_new = data_model.loc[data_model.rooms_new < 11, 'rooms_new']"
   ]
  },
  {
   "cell_type": "code",
   "execution_count": null,
   "metadata": {},
   "outputs": [],
   "source": [
    "data_model.shape"
   ]
  },
  {
   "cell_type": "code",
   "execution_count": null,
   "metadata": {},
   "outputs": [],
   "source": [
    "data_model = data_model.dropna()"
   ]
  },
  {
   "cell_type": "code",
   "execution_count": null,
   "metadata": {},
   "outputs": [],
   "source": [
    "data_model.shape"
   ]
  },
  {
   "cell_type": "markdown",
   "metadata": {},
   "source": [
    "# TP 2"
   ]
  },
  {
   "cell_type": "markdown",
   "metadata": {},
   "source": [
    "## SECCIÓN 5 - ANÁLISIS DE CORRELACIÓN"
   ]
  },
  {
   "cell_type": "markdown",
   "metadata": {},
   "source": [
    "En este caso no podemos usar la covarianza para estimar la relación entre variables, ya que tenemos diferentes unidaeddes de medida (m2, dolares, cantidad de rooms, etc). \n",
    "\n",
    "Con lo cual estimamos una matriz de correlación."
   ]
  },
  {
   "cell_type": "markdown",
   "metadata": {},
   "source": [
    "Para cacular correlaciones no puede haber nulos en las columnas. Seleccionamos solamente las columnas numéricas."
   ]
  },
  {
   "cell_type": "code",
   "execution_count": null,
   "metadata": {},
   "outputs": [],
   "source": [
    "matrix_corr = data_model[['rooms_new','price_new','surface_total_in_m2_new','price_usd_per_m2_new','surface_covered_in_m2_new']].corr().round(3)\n",
    "matrix_corr"
   ]
  },
  {
   "cell_type": "markdown",
   "metadata": {},
   "source": [
    "Vemos que hay una correlaciones bajas por lo general, la correlacion mas alta obtenidad se da entre 'rooms_new' y 'surface_total_in_m2_new'"
   ]
  },
  {
   "cell_type": "markdown",
   "metadata": {},
   "source": [
    "* Se realiza un grafico para poder verlo con mayor claridad"
   ]
  },
  {
   "cell_type": "code",
   "execution_count": null,
   "metadata": {},
   "outputs": [],
   "source": [
    "plt.figure(figsize=(10, 8))\n",
    "sns.heatmap(matrix_corr, annot=True, cmap='RdYlGn', fmt='.2f', linewidths=.5)\n",
    "plt.title('Correlación entre columnas categóricas')\n",
    "plt.show()"
   ]
  },
  {
   "cell_type": "markdown",
   "metadata": {},
   "source": [
    "### Limpiamos outliers de rooms"
   ]
  },
  {
   "cell_type": "code",
   "execution_count": null,
   "metadata": {},
   "outputs": [],
   "source": [
    "data_model.rooms_new = data_model.loc[data_model.rooms_new < 11, 'rooms_new']"
   ]
  },
  {
   "cell_type": "code",
   "execution_count": null,
   "metadata": {},
   "outputs": [],
   "source": [
    "data_model = data_model.dropna()"
   ]
  },
  {
   "cell_type": "markdown",
   "metadata": {},
   "source": [
    "### LIMPIEZA DE OUTLIERS. Volvemos a limpiar outliers de las demas variables para evitar fallas en el modelo"
   ]
  },
  {
   "cell_type": "code",
   "execution_count": null,
   "metadata": {},
   "outputs": [],
   "source": [
    "columnas = 'surface_total_in_m2_new', 'price_new', 'price_usd_per_m2_new',\"surface_covered_in_m2_new\"\n",
    "\n",
    "for columna in columnas:\n",
    "    columna_limpia = data_model[columna]\n",
    "\n",
    "    q1 = columna_limpia.quantile(0.25)\n",
    "    #print(q1)\n",
    "    q3 = columna_limpia.quantile(0.75)\n",
    "    #print(q3)\n",
    "    iqr = (q3 - q1) * 1.5\n",
    "\n",
    "    limite_sup = q3 + iqr\n",
    "    limite_inf = 0\n",
    "    \n",
    "    print(\"Limite sup\", columna, limite_sup)\n",
    "    print(\"Limite inf\", columna, limite_inf)\n",
    "    \n",
    "    outlier_mask_up = columna_limpia < limite_sup\n",
    "    outlier_mask_down = columna_limpia > limite_inf\n",
    "    outlier_mask = np.logical_and(outlier_mask_up, outlier_mask_down)\n",
    "    \n",
    "    data_model = data_model.loc[outlier_mask,:]\n",
    "\n",
    "print(data_model.shape)\n",
    "    "
   ]
  },
  {
   "cell_type": "code",
   "execution_count": null,
   "metadata": {},
   "outputs": [],
   "source": [
    "print(\"Porcentaje de registros válidos del modelo actual respecto al anterior:\")\n",
    "print(f\"{np.round((data_model.shape[0] / data.shape[0] * 100), 2)} %\")"
   ]
  },
  {
   "cell_type": "code",
   "execution_count": null,
   "metadata": {},
   "outputs": [],
   "source": [
    "cols = 'rooms_new', 'surface_total_in_m2_new', 'price_new', 'price_usd_per_m2_new', \"surface_covered_in_m2_new\"\n",
    "\n",
    "for x in cols:\n",
    "    missing_values = data_model[x].isna().sum()\n",
    "    print(f\"{x}: {missing_values}\")    "
   ]
  },
  {
   "cell_type": "markdown",
   "metadata": {},
   "source": [
    "### SE AGREGAN NUEVAS FEATURES AL MODELO DE DATOS (dummies de variables categoricas)"
   ]
  },
  {
   "cell_type": "code",
   "execution_count": null,
   "metadata": {},
   "outputs": [],
   "source": [
    "dummies_prop_type = pd.get_dummies(data_model.property_type_new, drop_first=True)\n",
    "data_model_ml = pd.concat([data_model, dummies_prop_type], axis=1)"
   ]
  },
  {
   "cell_type": "markdown",
   "metadata": {},
   "source": [
    "### Se observan las nuevas variables agregadas en las columnas finales"
   ]
  },
  {
   "cell_type": "code",
   "execution_count": null,
   "metadata": {},
   "outputs": [],
   "source": [
    "data_model_ml.columns"
   ]
  },
  {
   "cell_type": "markdown",
   "metadata": {},
   "source": [
    "## REGRESION LINEAL MULTIPLE"
   ]
  },
  {
   "cell_type": "code",
   "execution_count": null,
   "metadata": {},
   "outputs": [],
   "source": [
    "import statsmodels.api as sm\n",
    "from sklearn.linear_model import LinearRegression\n",
    "from sklearn.preprocessing import MinMaxScaler\n",
    "from sklearn import datasets\n",
    "from sklearn import metrics\n",
    "from sklearn.preprocessing import StandardScaler\n",
    "from sklearn import linear_model\n",
    "from sklearn.metrics import r2_score\n",
    "from sklearn.model_selection import train_test_split"
   ]
  },
  {
   "cell_type": "code",
   "execution_count": null,
   "metadata": {},
   "outputs": [],
   "source": [
    "# defino features y variable de estudio/target\n",
    "features = ['rooms_new', 'surface_total_in_m2_new',\"surface_covered_in_m2_new\", 'price_new', 'apartment', 'house', 'store']\n",
    "\n",
    "X = data_model_ml[features]\n",
    "y = data_model_ml.price_usd_per_m2_new"
   ]
  },
  {
   "cell_type": "code",
   "execution_count": null,
   "metadata": {},
   "outputs": [],
   "source": [
    "# dividimos en conjuntos de datos para train y test del modelo\n",
    "x_train, x_test, y_train, y_test = train_test_split(X, y, random_state = 1)\n",
    "x_train"
   ]
  },
  {
   "cell_type": "markdown",
   "metadata": {},
   "source": [
    "### Primero se escalan las features y se ajusta el modelo con statsmodels"
   ]
  },
  {
   "cell_type": "code",
   "execution_count": null,
   "metadata": {},
   "outputs": [],
   "source": [
    "# se escalan las features\n",
    "scaler = MinMaxScaler()\n",
    "scaler.fit(x_train)\n",
    "\n",
    "std_numerical_data = scaler.transform(x_train)\n",
    "x_train_s = pd.DataFrame(std_numerical_data)\n"
   ]
  },
  {
   "cell_type": "code",
   "execution_count": null,
   "metadata": {},
   "outputs": [],
   "source": [
    "# Restablecer los índices de X e y para asegurar que estén alineados\n",
    "x_train.reset_index(drop=True, inplace=True)\n",
    "y_train.reset_index(drop=True, inplace=True)"
   ]
  },
  {
   "cell_type": "code",
   "execution_count": null,
   "metadata": {},
   "outputs": [],
   "source": [
    "# Tenemos que agregar explícitamente a una constante:\n",
    "x_train_c = sm.add_constant(x_train_s)\n",
    "\n",
    "# creamos el modelo y lo ajustamos\n",
    "model = sm.OLS(y_train, x_train_c).fit()"
   ]
  },
  {
   "cell_type": "code",
   "execution_count": null,
   "metadata": {},
   "outputs": [],
   "source": [
    "model.summary()"
   ]
  },
  {
   "cell_type": "markdown",
   "metadata": {},
   "source": [
    "### TESTEO del modelo"
   ]
  },
  {
   "cell_type": "code",
   "execution_count": null,
   "metadata": {},
   "outputs": [],
   "source": [
    "# Escalar las features de prueba con el mismo scaler utilizado para los datos de entrenamiento\n",
    "std_numerical_data_test = scaler.transform(x_test)\n",
    "x_test_s = pd.DataFrame(std_numerical_data_test)\n",
    "\n",
    "# Agregar explícitamente la constante a los datos de prueba\n",
    "x_test_c = sm.add_constant(x_test_s)\n",
    "\n",
    "# Realizar predicciones en el conjunto de prueba\n",
    "y_pred = model.predict(x_test_c)\n",
    "\n",
    "# Visualizar las predicciones\n",
    "print(y_pred)\n"
   ]
  },
  {
   "cell_type": "code",
   "execution_count": null,
   "metadata": {},
   "outputs": [],
   "source": [
    "print ('R2:', metrics.r2_score(y_test, y_pred))\n",
    "print ('MAE:', metrics.mean_absolute_error(y_test, y_pred))\n",
    "print ('MSE:', metrics.mean_squared_error(y_test, y_pred))\n",
    "print ('RMSE:', np.sqrt(metrics.mean_squared_error(y_test, y_pred)))"
   ]
  },
  {
   "cell_type": "markdown",
   "metadata": {},
   "source": [
    "### SE REALIZA EL MISMO MODULO UTILIZANDO LA LIBRERIA SKLEARN"
   ]
  },
  {
   "cell_type": "code",
   "execution_count": null,
   "metadata": {},
   "outputs": [],
   "source": [
    "# Instanciar el modelo\n",
    "lm = linear_model.LinearRegression()"
   ]
  },
  {
   "cell_type": "code",
   "execution_count": null,
   "metadata": {},
   "outputs": [],
   "source": [
    "# Vuelvo a separar en TRAIN_TEST porque uso otra libreria.\n",
    "X_train, X_test, y_train, y_test = train_test_split(X, y, test_size=0.35)\n",
    "scaler = StandardScaler()\n",
    "\n",
    "X_train = scaler.fit_transform(X_train)\n",
    "X_test = scaler.transform(X_test)\n",
    "\n",
    "model_skl = lm.fit(X_train, y_train)"
   ]
  },
  {
   "cell_type": "code",
   "execution_count": null,
   "metadata": {},
   "outputs": [],
   "source": [
    "# Testeo del modelo\n",
    "yPred_skl = model_skl.predict(X_test)"
   ]
  },
  {
   "cell_type": "code",
   "execution_count": null,
   "metadata": {},
   "outputs": [],
   "source": [
    "print ('Intercept = ', model_skl.intercept_)\n",
    "print ('RM = ', model_skl.coef_)"
   ]
  },
  {
   "cell_type": "code",
   "execution_count": null,
   "metadata": {},
   "outputs": [],
   "source": [
    "print ('R2:', metrics.r2_score(y_test, yPred_skl))\n",
    "print ('MAE:', metrics.mean_absolute_error(y_test, yPred_skl))\n",
    "print ('MSE:', metrics.mean_squared_error(y_test, yPred_skl))\n",
    "print ('RMSE:', np.sqrt(metrics.mean_squared_error(y_test, yPred_skl)))"
   ]
  },
  {
   "cell_type": "code",
   "execution_count": null,
   "metadata": {},
   "outputs": [],
   "source": [
    "y_pred_LR = yPred_skl"
   ]
  },
  {
   "cell_type": "markdown",
   "metadata": {},
   "source": [
    "* Se realiza regularización para mejorar el modelo, avitando así el overfit del mismo"
   ]
  },
  {
   "cell_type": "markdown",
   "metadata": {},
   "source": [
    "## RIDGE CON CROSS VALIDATION"
   ]
  },
  {
   "cell_type": "code",
   "execution_count": null,
   "metadata": {},
   "outputs": [],
   "source": [
    "# Instanciamos un modelo del tipo Ridge con Cross Validation\n",
    "rlmcv = linear_model.RidgeCV(alphas=np.linspace(0.1, 100, 100), cv=3, scoring='r2')"
   ]
  },
  {
   "cell_type": "code",
   "execution_count": null,
   "metadata": {},
   "outputs": [],
   "source": [
    "rlmcv.alphas"
   ]
  },
  {
   "cell_type": "code",
   "execution_count": null,
   "metadata": {},
   "outputs": [],
   "source": [
    "rlmcv.fit(X_train, y_train)"
   ]
  },
  {
   "cell_type": "code",
   "execution_count": null,
   "metadata": {},
   "outputs": [],
   "source": [
    "print(\"El mejor Alpha(lambda) de ajuste:\", rlmcv.alpha_)"
   ]
  },
  {
   "cell_type": "code",
   "execution_count": null,
   "metadata": {},
   "outputs": [],
   "source": [
    "print(\"r^2:\", rlmcv.score(X_train, y_train))"
   ]
  },
  {
   "cell_type": "code",
   "execution_count": null,
   "metadata": {},
   "outputs": [],
   "source": [
    "yPred_R = rlmcv.predict(X_test)"
   ]
  },
  {
   "cell_type": "code",
   "execution_count": null,
   "metadata": {},
   "outputs": [],
   "source": [
    "print(\"r^2 test:\", rlmcv.score(X_test, y_test))"
   ]
  },
  {
   "cell_type": "code",
   "execution_count": null,
   "metadata": {},
   "outputs": [],
   "source": [
    "print ('R2:', metrics.r2_score(y_test, yPred_R))\n",
    "print ('MAE:', metrics.mean_absolute_error(y_test, yPred_R))\n",
    "print ('MSE:', metrics.mean_squared_error(y_test, yPred_R))\n",
    "print ('RMSE:', np.sqrt(metrics.mean_squared_error(y_test, yPred_R)))"
   ]
  },
  {
   "cell_type": "code",
   "execution_count": null,
   "metadata": {},
   "outputs": [],
   "source": [
    "y_pred_R = yPred_R"
   ]
  },
  {
   "cell_type": "markdown",
   "metadata": {},
   "source": [
    "## LASSO CON CROSS VALIDATION"
   ]
  },
  {
   "cell_type": "code",
   "execution_count": null,
   "metadata": {},
   "outputs": [],
   "source": [
    "lassocv = linear_model.LassoCV(alphas=np.linspace(0.01, 100, 1000), cv=3, normalize=False)"
   ]
  },
  {
   "cell_type": "code",
   "execution_count": null,
   "metadata": {},
   "outputs": [],
   "source": [
    "lassocv.fit(X_train, y_train)"
   ]
  },
  {
   "cell_type": "code",
   "execution_count": null,
   "metadata": {},
   "outputs": [],
   "source": [
    "lassocv.coef_ "
   ]
  },
  {
   "cell_type": "markdown",
   "metadata": {},
   "source": [
    "### vemos que usando lasso no se elimino ningun coeficiente . . . "
   ]
  },
  {
   "cell_type": "code",
   "execution_count": null,
   "metadata": {},
   "outputs": [],
   "source": [
    "lassocv.intercept_"
   ]
  },
  {
   "cell_type": "code",
   "execution_count": null,
   "metadata": {},
   "outputs": [],
   "source": [
    "print(\"r^2:\", lassocv.score(X_train, y_train))"
   ]
  },
  {
   "cell_type": "code",
   "execution_count": null,
   "metadata": {},
   "outputs": [],
   "source": [
    "yPred_L = lassocv.predict(X_test)"
   ]
  },
  {
   "cell_type": "code",
   "execution_count": null,
   "metadata": {},
   "outputs": [],
   "source": [
    "print(\"r^2 test:\", lassocv.score(X_test, y_test))"
   ]
  },
  {
   "cell_type": "code",
   "execution_count": null,
   "metadata": {},
   "outputs": [],
   "source": [
    "print ('R2:', metrics.r2_score(y_test, yPred_L))\n",
    "print ('MAE:', metrics.mean_absolute_error(y_test, yPred_L))\n",
    "print ('MSE:', metrics.mean_squared_error(y_test, yPred_L))\n",
    "print ('RMSE:', np.sqrt(metrics.mean_squared_error(y_test, yPred_L)))"
   ]
  },
  {
   "cell_type": "code",
   "execution_count": null,
   "metadata": {},
   "outputs": [],
   "source": [
    "y_pred_L = yPred_L"
   ]
  },
  {
   "cell_type": "code",
   "execution_count": null,
   "metadata": {},
   "outputs": [],
   "source": []
  },
  {
   "cell_type": "code",
   "execution_count": null,
   "metadata": {},
   "outputs": [],
   "source": []
  },
  {
   "cell_type": "markdown",
   "metadata": {},
   "source": [
    "### Sección gráfica"
   ]
  },
  {
   "cell_type": "markdown",
   "metadata": {},
   "source": [
    "#### A continuación se puede ver la correlación para las dos variables númericas que utilizaremos para nuestro modelo. A medida que aumenta la sup. total, la sup. cubierta y la cantidad de cuartos, disminuye el precio por m2."
   ]
  },
  {
   "cell_type": "code",
   "execution_count": null,
   "metadata": {},
   "outputs": [],
   "source": [
    "sns.regplot(data=data_model,x=\"surface_total_in_m2_new\",y=\"price_usd_per_m2_new\",line_kws=dict(color=\"m\"), scatter_kws=dict(color=\"c\"))\n",
    "plt.xlabel(\"Superficie total m2\")\n",
    "plt.ylabel(\"Precio por m2\")\n",
    "plt.show()"
   ]
  },
  {
   "cell_type": "code",
   "execution_count": null,
   "metadata": {},
   "outputs": [],
   "source": [
    "sns.regplot(data=data_model,x=\"rooms_new\",y=\"price_usd_per_m2_new\",line_kws=dict(color=\"r\"), scatter_kws=dict(color=\"y\"))\n",
    "plt.xlabel(\"Ambientes\")\n",
    "plt.ylabel(\"Precio por m2\")\n",
    "plt.show()"
   ]
  },
  {
   "cell_type": "code",
   "execution_count": null,
   "metadata": {},
   "outputs": [],
   "source": [
    "sns.regplot(data=data_model,x=\"surface_covered_in_m2_new\",y=\"price_usd_per_m2_new\",line_kws=dict(color=\"r\"), scatter_kws=dict(color=\"y\"))\n",
    "plt.xlabel(\"Superficie cubierta en m2\")\n",
    "plt.ylabel(\"Precio por m2\")\n",
    "plt.show()"
   ]
  },
  {
   "cell_type": "markdown",
   "metadata": {},
   "source": [
    "### Análisis de variables categoricas"
   ]
  },
  {
   "cell_type": "markdown",
   "metadata": {},
   "source": [
    "### Vemos diferencias entre los promedios de precios por tipo de propiedad, lo que indica que existe correlación entre el precio por metro cuadrado y el tipo de propiedad.\n"
   ]
  },
  {
   "cell_type": "code",
   "execution_count": null,
   "metadata": {},
   "outputs": [],
   "source": [
    "df_group_property = data_model.groupby('property_type_new')\n",
    "df_resume = df_group_property ['price_usd_per_m2_new'].mean()\n",
    "colors = sns.color_palette(\"Set3\", len(df_resume))\n",
    "plt.bar(data_model[\"property_type_new\"].value_counts().index,df_resume, color=colors)\n",
    "plt.xlabel(\"Tipo de propiedad\")\n",
    "plt.ylabel(\"Precio por m2\")\n",
    "plt.show()"
   ]
  },
  {
   "cell_type": "code",
   "execution_count": null,
   "metadata": {},
   "outputs": [],
   "source": [
    "df_group_place_name = data_model.groupby('place_name_new')\n",
    "df_resume = df_group_place_name ['price_usd_per_m2_new'].mean().sort_values(ascending=False).head(10)\n",
    "plt.figure(figsize=(22,22))\n",
    "colors = sns.color_palette(\"husl\", len(df_resume))\n",
    "plt.bar(df_resume.index,df_resume, color=colors, alpha=0.5, width=0.5)\n",
    "plt.rcParams[\"figure.figsize\"] = (22,10)\n",
    "plt.xlabel(\"Localidad\")\n",
    "plt.ylabel(\"Precio promedio por m2\")\n",
    "plt.show()"
   ]
  },
  {
   "cell_type": "code",
   "execution_count": null,
   "metadata": {},
   "outputs": [],
   "source": [
    "df_resume = df_group_place_name ['price_usd_per_m2_new'].mean().sort_values(ascending=False).head(10)\n",
    "df_resume"
   ]
  },
  {
   "cell_type": "code",
   "execution_count": null,
   "metadata": {},
   "outputs": [],
   "source": [
    "fig, ax = plt.subplots()\n",
    "ax.plot(y_test.values[0:10].astype(int), marker = \"o\", label = \"Datos reales\")\n",
    "ax.plot(y_pred_LR[0:10].astype(int), marker = \"o\", label = \"Modelo de regresión\")\n",
    "ax.plot(y_pred_R[0:10].astype(int), marker = \"o\", label = \"Modelo de Ridge con Cross Validation\")\n",
    "ax.plot(y_pred_L[0:10].astype(int), marker = \"o\", label = \"Modelo de Lazzo con Cross Validation\")\n",
    "ax.legend()\n",
    "plt.show()"
   ]
  },
  {
   "cell_type": "markdown",
   "metadata": {},
   "source": [
    "### Por último, entrenamos el modelo agregando variables dummies para cada provincia. Observamos una mejora de dos puntos porcentuales en el accuracy."
   ]
  },
  {
   "cell_type": "code",
   "execution_count": null,
   "metadata": {},
   "outputs": [],
   "source": [
    "dummies_state_name = pd.get_dummies(data_model_ml.state_name_new, drop_first= True)\n",
    "data_model_ml = pd.concat([data_model_ml, dummies_state_name], axis=1)"
   ]
  },
  {
   "cell_type": "code",
   "execution_count": null,
   "metadata": {},
   "outputs": [],
   "source": [
    "# defino features y variable de estudio/target\n",
    "features = ['rooms_new', 'surface_total_in_m2_new',\"surface_covered_in_m2_new\", 'price_new', 'apartment', 'house', 'store','Bs.As. G.B.A. Zona Oeste', 'Bs.As. G.B.A. Zona Sur',\n",
    "       'Buenos Aires Costa Atlántica', 'Buenos Aires Interior',\n",
    "       'Capital Federal', 'Catamarca', 'Chaco', 'Chubut', 'Corrientes',\n",
    "       'Córdoba', 'Entre Ríos', 'Formosa', 'Jujuy', 'La Pampa', 'La Rioja',\n",
    "       'Mendoza', 'Misiones', 'Neuquén', 'Río Negro', 'Salta', 'San Juan',\n",
    "       'San Luis', 'Santa Cruz', 'Santa Fe', 'Santiago Del Estero',\n",
    "       'Tierra Del Fuego', 'Tucumán']\n",
    "\n",
    "X = data_2[features]\n",
    "y = data_2.price_usd_per_m2_new"
   ]
  },
  {
   "cell_type": "code",
   "execution_count": null,
   "metadata": {},
   "outputs": [],
   "source": [
    "# Instanciar el modelo\n",
    "lm = linear_model.LinearRegression()"
   ]
  },
  {
   "cell_type": "code",
   "execution_count": null,
   "metadata": {},
   "outputs": [],
   "source": [
    "# Vuelvo a separar en TRAIN_TEST porque uso otra libreria.\n",
    "semilla = 42\n",
    "X_train, X_test, y_train, y_test = train_test_split(X, y, test_size=0.35, , random_state = semilla)\n",
    "scaler = StandardScaler()\n",
    "\n",
    "X_train = scaler.fit_transform(X_train)\n",
    "X_test = scaler.transform(X_test)\n",
    "\n",
    "model_skl = lm.fit(X_train, y_train)"
   ]
  },
  {
   "cell_type": "code",
   "execution_count": null,
   "metadata": {},
   "outputs": [],
   "source": [
    "# Testeo del modelo\n",
    "yPred_skl = model_skl.predict(X_test)"
   ]
  },
  {
   "cell_type": "code",
   "execution_count": null,
   "metadata": {},
   "outputs": [],
   "source": [
    "print ('Intercept = ', model_skl.intercept_)\n",
    "print ('RM = ', model_skl.coef_)"
   ]
  },
  {
   "cell_type": "code",
   "execution_count": null,
   "metadata": {},
   "outputs": [],
   "source": [
    "print ('R2:', metrics.r2_score(y_test, yPred_skl))\n",
    "print ('MAE:', metrics.mean_absolute_error(y_test, yPred_skl))\n",
    "print ('MSE:', metrics.mean_squared_error(y_test, yPred_skl))\n",
    "print ('RMSE:', np.sqrt(metrics.mean_squared_error(y_test, yPred_skl)))"
   ]
  },
  {
   "cell_type": "code",
   "execution_count": null,
   "metadata": {},
   "outputs": [],
   "source": [
    "y_pred_LR = yPred_skl"
   ]
  },
  {
   "cell_type": "markdown",
   "metadata": {},
   "source": [
    "### Volvemos a probar con Lasso"
   ]
  },
  {
   "cell_type": "code",
   "execution_count": null,
   "metadata": {},
   "outputs": [],
   "source": [
    "lassocv = linear_model.LassoCV(alphas=np.linspace(0.01, 100, 1000), cv=3, normalize=False)"
   ]
  },
  {
   "cell_type": "code",
   "execution_count": null,
   "metadata": {},
   "outputs": [],
   "source": [
    "lassocv.fit(X_train, y_train)"
   ]
  },
  {
   "cell_type": "code",
   "execution_count": null,
   "metadata": {},
   "outputs": [],
   "source": [
    "lassocv.coef_ "
   ]
  },
  {
   "cell_type": "markdown",
   "metadata": {},
   "source": [
    "### vemos que usando lasso no se elimino ningun coeficiente . . . "
   ]
  },
  {
   "cell_type": "code",
   "execution_count": null,
   "metadata": {},
   "outputs": [],
   "source": [
    "lassocv.intercept_"
   ]
  },
  {
   "cell_type": "code",
   "execution_count": null,
   "metadata": {},
   "outputs": [],
   "source": [
    "print(\"r^2:\", lassocv.score(X_train, y_train))"
   ]
  },
  {
   "cell_type": "code",
   "execution_count": null,
   "metadata": {},
   "outputs": [],
   "source": [
    "yPred_L = lassocv.predict(X_test)"
   ]
  },
  {
   "cell_type": "code",
   "execution_count": null,
   "metadata": {},
   "outputs": [],
   "source": [
    "print(\"r^2 test:\", lassocv.score(X_test, y_test))"
   ]
  },
  {
   "cell_type": "code",
   "execution_count": null,
   "metadata": {},
   "outputs": [],
   "source": [
    "print ('R2:', metrics.r2_score(y_test, yPred_L))\n",
    "print ('MAE:', metrics.mean_absolute_error(y_test, yPred_L))\n",
    "print ('MSE:', metrics.mean_squared_error(y_test, yPred_L))\n",
    "print ('RMSE:', np.sqrt(metrics.mean_squared_error(y_test, yPred_L)))"
   ]
  },
  {
   "cell_type": "code",
   "execution_count": null,
   "metadata": {},
   "outputs": [],
   "source": [
    "print (\"y_test sample: \",y_test.values[0:10].astype(int))\n",
    "print (\"y_pred sample: \",yPred_L[0:10].astype(int))"
   ]
  },
  {
   "cell_type": "markdown",
   "metadata": {},
   "source": [
    "### Vemos las predicciones versus los testeos."
   ]
  },
  {
   "cell_type": "code",
   "execution_count": null,
   "metadata": {},
   "outputs": [],
   "source": [
    "fig, ax = plt.subplots()\n",
    "ax.plot(y_test.values[0:10].astype(int), marker = \"o\", label = \"Y_test_sample\")\n",
    "ax.plot(yPred_L[0:10].astype(int), marker = \"o\", label = \"y_pred_sample\")\n",
    "ax.legend()\n",
    "plt.show()"
   ]
  }
 ],
 "metadata": {
  "kernelspec": {
   "display_name": "Python 3 (ipykernel)",
   "language": "python",
   "name": "python3"
  },
  "language_info": {
   "codemirror_mode": {
    "name": "ipython",
    "version": 3
   },
   "file_extension": ".py",
   "mimetype": "text/x-python",
   "name": "python",
   "nbconvert_exporter": "python",
   "pygments_lexer": "ipython3",
   "version": "3.10.9"
  }
 },
 "nbformat": 4,
 "nbformat_minor": 4
}
