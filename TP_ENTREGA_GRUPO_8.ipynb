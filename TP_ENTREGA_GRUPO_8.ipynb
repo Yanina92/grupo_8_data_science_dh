{
 "cells": [
  {
   "cell_type": "markdown",
   "metadata": {},
   "source": [
    "\n",
    "# GRUPO Nº 8\n"
   ]
  },
  {
   "cell_type": "markdown",
   "metadata": {},
   "source": [
    "📝 Integrantes:\n",
    "\n",
    "   1. Acosta, Carla\n",
    "   2. Barrera, Cristian\n",
    "   3. Chuchuca, Fanny\n",
    "   4. Colmenares, Carlos\n",
    "   5. González, Yanina\n",
    "   6. Laya, Nicolás\n",
    "   7. Olave Portilla, Nicolás\n",
    "   8. Relañez, Alejandro\n",
    "   9. Parra, Agustín\n",
    "   10. Pintos, Iván"
   ]
  },
  {
   "cell_type": "code",
   "execution_count": 1,
   "metadata": {},
   "outputs": [],
   "source": [
    "#import de módulos necesarios a utilizar\n",
    "import pandas as pd\n",
    "import re\n",
    "import random\n",
    "import numpy as np\n",
    "import matplotlib.pyplot as plt\n",
    "import seaborn as sns"
   ]
  },
  {
   "cell_type": "code",
   "execution_count": 2,
   "metadata": {},
   "outputs": [],
   "source": [
    "data_location = \"properatti.csv\"\n",
    "data = pd.read_csv(data_location)"
   ]
  },
  {
   "cell_type": "markdown",
   "metadata": {},
   "source": [
    "Para comenzar, hacemos un análisis general de la base a trabajar. Miramos la cantidad de registros y de variables, y seleccionamos una muestra aleatoria para analizar el contenido:"
   ]
  },
  {
   "cell_type": "code",
   "execution_count": 3,
   "metadata": {},
   "outputs": [
    {
     "name": "stdout",
     "output_type": "stream",
     "text": [
      "(121220, 26)\n"
     ]
    },
    {
     "data": {
      "text/html": [
       "<div>\n",
       "<style scoped>\n",
       "    .dataframe tbody tr th:only-of-type {\n",
       "        vertical-align: middle;\n",
       "    }\n",
       "\n",
       "    .dataframe tbody tr th {\n",
       "        vertical-align: top;\n",
       "    }\n",
       "\n",
       "    .dataframe thead th {\n",
       "        text-align: right;\n",
       "    }\n",
       "</style>\n",
       "<table border=\"1\" class=\"dataframe\">\n",
       "  <thead>\n",
       "    <tr style=\"text-align: right;\">\n",
       "      <th></th>\n",
       "      <th>Unnamed: 0</th>\n",
       "      <th>operation</th>\n",
       "      <th>property_type</th>\n",
       "      <th>place_name</th>\n",
       "      <th>place_with_parent_names</th>\n",
       "      <th>country_name</th>\n",
       "      <th>state_name</th>\n",
       "      <th>geonames_id</th>\n",
       "      <th>lat-lon</th>\n",
       "      <th>lat</th>\n",
       "      <th>...</th>\n",
       "      <th>surface_covered_in_m2</th>\n",
       "      <th>price_usd_per_m2</th>\n",
       "      <th>price_per_m2</th>\n",
       "      <th>floor</th>\n",
       "      <th>rooms</th>\n",
       "      <th>expenses</th>\n",
       "      <th>properati_url</th>\n",
       "      <th>description</th>\n",
       "      <th>title</th>\n",
       "      <th>image_thumbnail</th>\n",
       "    </tr>\n",
       "  </thead>\n",
       "  <tbody>\n",
       "    <tr>\n",
       "      <th>9145</th>\n",
       "      <td>9145</td>\n",
       "      <td>sell</td>\n",
       "      <td>store</td>\n",
       "      <td>San Isidro</td>\n",
       "      <td>|Argentina|Bs.As. G.B.A. Zona Norte|San Isidro|</td>\n",
       "      <td>Argentina</td>\n",
       "      <td>Bs.As. G.B.A. Zona Norte</td>\n",
       "      <td>3428983.0</td>\n",
       "      <td>NaN</td>\n",
       "      <td>NaN</td>\n",
       "      <td>...</td>\n",
       "      <td>144.0</td>\n",
       "      <td>3020.833333</td>\n",
       "      <td>3020.833333</td>\n",
       "      <td>NaN</td>\n",
       "      <td>NaN</td>\n",
       "      <td>NaN</td>\n",
       "      <td>http://www.properati.com.ar/1632g_venta_local_...</td>\n",
       "      <td>!!!ÃNICO EN SU TIPO!!!ZONA: Pleno centro de Sa...</td>\n",
       "      <td>Local 144m² con Teléfono en Martin Y Omar 100,...</td>\n",
       "      <td>https://thumbs4.properati.com/7/sy1ueCsoaTA0-v...</td>\n",
       "    </tr>\n",
       "    <tr>\n",
       "      <th>95624</th>\n",
       "      <td>95624</td>\n",
       "      <td>sell</td>\n",
       "      <td>apartment</td>\n",
       "      <td>Haedo</td>\n",
       "      <td>|Argentina|Bs.As. G.B.A. Zona Oeste|Morón|Haedo|</td>\n",
       "      <td>Argentina</td>\n",
       "      <td>Bs.As. G.B.A. Zona Oeste</td>\n",
       "      <td>NaN</td>\n",
       "      <td>NaN</td>\n",
       "      <td>NaN</td>\n",
       "      <td>...</td>\n",
       "      <td>35.0</td>\n",
       "      <td>2567.567568</td>\n",
       "      <td>2714.285714</td>\n",
       "      <td>NaN</td>\n",
       "      <td>NaN</td>\n",
       "      <td>NaN</td>\n",
       "      <td>http://www.properati.com.ar/1bhfh_venta_depart...</td>\n",
       "      <td>Excelente Edificio Moderno de 5 pisos a estren...</td>\n",
       "      <td>Remedios de Escalada 47 - Haedo</td>\n",
       "      <td>https://thumbs4.properati.com/7/PvfEO5GJj91svA...</td>\n",
       "    </tr>\n",
       "    <tr>\n",
       "      <th>103258</th>\n",
       "      <td>103258</td>\n",
       "      <td>sell</td>\n",
       "      <td>apartment</td>\n",
       "      <td>Mataderos</td>\n",
       "      <td>|Argentina|Capital Federal|Mataderos|</td>\n",
       "      <td>Argentina</td>\n",
       "      <td>Capital Federal</td>\n",
       "      <td>3430787.0</td>\n",
       "      <td>-34.6555354397,-58.4946311411</td>\n",
       "      <td>-34.655535</td>\n",
       "      <td>...</td>\n",
       "      <td>NaN</td>\n",
       "      <td>2166.666667</td>\n",
       "      <td>NaN</td>\n",
       "      <td>NaN</td>\n",
       "      <td>NaN</td>\n",
       "      <td>NaN</td>\n",
       "      <td>http://www.properati.com.ar/1broy_venta_depart...</td>\n",
       "      <td>Venta departamento de 2 ambientes casi nuevo e...</td>\n",
       "      <td>Departamento - Mataderos</td>\n",
       "      <td>https://thumbs4.properati.com/6/NeDEIVZJXhdj5V...</td>\n",
       "    </tr>\n",
       "    <tr>\n",
       "      <th>74737</th>\n",
       "      <td>74737</td>\n",
       "      <td>sell</td>\n",
       "      <td>apartment</td>\n",
       "      <td>Recoleta</td>\n",
       "      <td>|Argentina|Capital Federal|Recoleta|</td>\n",
       "      <td>Argentina</td>\n",
       "      <td>Capital Federal</td>\n",
       "      <td>3429595.0</td>\n",
       "      <td>-34.5946892803,-58.3959620116</td>\n",
       "      <td>-34.594689</td>\n",
       "      <td>...</td>\n",
       "      <td>126.0</td>\n",
       "      <td>2492.647059</td>\n",
       "      <td>2690.476190</td>\n",
       "      <td>NaN</td>\n",
       "      <td>NaN</td>\n",
       "      <td>6000.0</td>\n",
       "      <td>http://www.properati.com.ar/1apdl_venta_depart...</td>\n",
       "      <td>Excelente ubicación en pleno Recoleta a metros...</td>\n",
       "      <td>Ayacucho 1200 - Recoleta</td>\n",
       "      <td>https://thumbs4.properati.com/1/0GKD17zV8Ml-rH...</td>\n",
       "    </tr>\n",
       "    <tr>\n",
       "      <th>83888</th>\n",
       "      <td>83888</td>\n",
       "      <td>sell</td>\n",
       "      <td>apartment</td>\n",
       "      <td>Tigre</td>\n",
       "      <td>|Argentina|Bs.As. G.B.A. Zona Norte|Tigre|Tigre|</td>\n",
       "      <td>Argentina</td>\n",
       "      <td>Bs.As. G.B.A. Zona Norte</td>\n",
       "      <td>NaN</td>\n",
       "      <td>NaN</td>\n",
       "      <td>NaN</td>\n",
       "      <td>...</td>\n",
       "      <td>NaN</td>\n",
       "      <td>NaN</td>\n",
       "      <td>NaN</td>\n",
       "      <td>NaN</td>\n",
       "      <td>NaN</td>\n",
       "      <td>NaN</td>\n",
       "      <td>http://www.properati.com.ar/1b12n_venta_depart...</td>\n",
       "      <td>Departamento muy lindo y luminoso, ubicado a d...</td>\n",
       "      <td>Departamento a estrenar- Centro de Tigre</td>\n",
       "      <td>https://thumbs4.properati.com/1/9mEq0QXr4CP4Xl...</td>\n",
       "    </tr>\n",
       "    <tr>\n",
       "      <th>12673</th>\n",
       "      <td>12673</td>\n",
       "      <td>sell</td>\n",
       "      <td>apartment</td>\n",
       "      <td>Barracas</td>\n",
       "      <td>|Argentina|Capital Federal|Barracas|</td>\n",
       "      <td>Argentina</td>\n",
       "      <td>Capital Federal</td>\n",
       "      <td>3436134.0</td>\n",
       "      <td>-34.64983,-58.38185</td>\n",
       "      <td>-34.649830</td>\n",
       "      <td>...</td>\n",
       "      <td>120.0</td>\n",
       "      <td>1400.000000</td>\n",
       "      <td>1400.000000</td>\n",
       "      <td>NaN</td>\n",
       "      <td>4.0</td>\n",
       "      <td>NaN</td>\n",
       "      <td>http://www.properati.com.ar/16mld_venta_depart...</td>\n",
       "      <td>1er piso por escalera con entrada independient...</td>\n",
       "      <td>PH 4 ambientes</td>\n",
       "      <td>https://thumbs4.properati.com/5/VQwv1IWDjbEe9K...</td>\n",
       "    </tr>\n",
       "    <tr>\n",
       "      <th>115157</th>\n",
       "      <td>115157</td>\n",
       "      <td>sell</td>\n",
       "      <td>house</td>\n",
       "      <td>Córdoba</td>\n",
       "      <td>|Argentina|Córdoba|Córdoba|</td>\n",
       "      <td>Argentina</td>\n",
       "      <td>Córdoba</td>\n",
       "      <td>3860259.0</td>\n",
       "      <td>-31.358268,-64.202346</td>\n",
       "      <td>-31.358268</td>\n",
       "      <td>...</td>\n",
       "      <td>380.0</td>\n",
       "      <td>NaN</td>\n",
       "      <td>578.947368</td>\n",
       "      <td>NaN</td>\n",
       "      <td>27.0</td>\n",
       "      <td>NaN</td>\n",
       "      <td>http://www.properati.com.ar/1casx_venta_casa_c...</td>\n",
       "      <td>PROPIEDAD COMPUESTA POR 2 TERRENOS EN ESQUINA....</td>\n",
       "      <td>MARQUEZ 3 DORM 4 BAÑ  ESC PILETA COCH</td>\n",
       "      <td>https://thumbs4.properati.com/8/G-Z8_xSug8bdRw...</td>\n",
       "    </tr>\n",
       "    <tr>\n",
       "      <th>11842</th>\n",
       "      <td>11842</td>\n",
       "      <td>sell</td>\n",
       "      <td>apartment</td>\n",
       "      <td>Pinamar</td>\n",
       "      <td>|Argentina|Buenos Aires Costa Atlántica|Pinamar|</td>\n",
       "      <td>Argentina</td>\n",
       "      <td>Buenos Aires Costa Atlántica</td>\n",
       "      <td>3429971.0</td>\n",
       "      <td>-37.1173113,-56.8568357</td>\n",
       "      <td>-37.117311</td>\n",
       "      <td>...</td>\n",
       "      <td>NaN</td>\n",
       "      <td>NaN</td>\n",
       "      <td>NaN</td>\n",
       "      <td>1.0</td>\n",
       "      <td>2.0</td>\n",
       "      <td>NaN</td>\n",
       "      <td>http://www.properati.com.ar/16h1d_venta_depart...</td>\n",
       "      <td>Venta departamento en Pinamar!a solo 50mts de ...</td>\n",
       "      <td>DEPARTAMENTO EN VENTA</td>\n",
       "      <td>https://thumbs4.properati.com/3/RTqqDagg29-IJS...</td>\n",
       "    </tr>\n",
       "    <tr>\n",
       "      <th>44813</th>\n",
       "      <td>44813</td>\n",
       "      <td>sell</td>\n",
       "      <td>apartment</td>\n",
       "      <td>Caballito</td>\n",
       "      <td>|Argentina|Capital Federal|Caballito|</td>\n",
       "      <td>Argentina</td>\n",
       "      <td>Capital Federal</td>\n",
       "      <td>3435874.0</td>\n",
       "      <td>-34.613199,-58.44123</td>\n",
       "      <td>-34.613199</td>\n",
       "      <td>...</td>\n",
       "      <td>NaN</td>\n",
       "      <td>NaN</td>\n",
       "      <td>NaN</td>\n",
       "      <td>NaN</td>\n",
       "      <td>3.0</td>\n",
       "      <td>NaN</td>\n",
       "      <td>http://www.properati.com.ar/19194_venta_depart...</td>\n",
       "      <td>Venta - Departamento - Argentina, Buenos Aires...</td>\n",
       "      <td>Departamento en Venta ubicado en Caballito</td>\n",
       "      <td>https://thumbs4.properati.com/3/DUJ3No6MJmVyvU...</td>\n",
       "    </tr>\n",
       "    <tr>\n",
       "      <th>26859</th>\n",
       "      <td>26859</td>\n",
       "      <td>sell</td>\n",
       "      <td>house</td>\n",
       "      <td>Villa Ballester</td>\n",
       "      <td>|Argentina|Bs.As. G.B.A. Zona Norte|General Sa...</td>\n",
       "      <td>Argentina</td>\n",
       "      <td>Bs.As. G.B.A. Zona Norte</td>\n",
       "      <td>3427467.0</td>\n",
       "      <td>-34.5481554,-58.5368005</td>\n",
       "      <td>-34.548155</td>\n",
       "      <td>...</td>\n",
       "      <td>120.0</td>\n",
       "      <td>491.735537</td>\n",
       "      <td>991.666667</td>\n",
       "      <td>NaN</td>\n",
       "      <td>5.0</td>\n",
       "      <td>NaN</td>\n",
       "      <td>http://www.properati.com.ar/17rlz_venta_casa_v...</td>\n",
       "      <td>CASA EN LOTE PROPIO GARAJE EQUIPADO PARA CAMIO...</td>\n",
       "      <td>CASA EN LOTE PROPIO EXCELENTE ESTADO</td>\n",
       "      <td>https://thumbs4.properati.com/8/O3uub-BLVORL_i...</td>\n",
       "    </tr>\n",
       "  </tbody>\n",
       "</table>\n",
       "<p>10 rows × 26 columns</p>\n",
       "</div>"
      ],
      "text/plain": [
       "        Unnamed: 0 operation property_type       place_name  \\\n",
       "9145          9145      sell         store       San Isidro   \n",
       "95624        95624      sell     apartment            Haedo   \n",
       "103258      103258      sell     apartment        Mataderos   \n",
       "74737        74737      sell     apartment         Recoleta   \n",
       "83888        83888      sell     apartment            Tigre   \n",
       "12673        12673      sell     apartment         Barracas   \n",
       "115157      115157      sell         house          Córdoba   \n",
       "11842        11842      sell     apartment          Pinamar   \n",
       "44813        44813      sell     apartment        Caballito   \n",
       "26859        26859      sell         house  Villa Ballester   \n",
       "\n",
       "                                  place_with_parent_names country_name  \\\n",
       "9145      |Argentina|Bs.As. G.B.A. Zona Norte|San Isidro|    Argentina   \n",
       "95624    |Argentina|Bs.As. G.B.A. Zona Oeste|Morón|Haedo|    Argentina   \n",
       "103258              |Argentina|Capital Federal|Mataderos|    Argentina   \n",
       "74737                |Argentina|Capital Federal|Recoleta|    Argentina   \n",
       "83888    |Argentina|Bs.As. G.B.A. Zona Norte|Tigre|Tigre|    Argentina   \n",
       "12673                |Argentina|Capital Federal|Barracas|    Argentina   \n",
       "115157                        |Argentina|Córdoba|Córdoba|    Argentina   \n",
       "11842    |Argentina|Buenos Aires Costa Atlántica|Pinamar|    Argentina   \n",
       "44813               |Argentina|Capital Federal|Caballito|    Argentina   \n",
       "26859   |Argentina|Bs.As. G.B.A. Zona Norte|General Sa...    Argentina   \n",
       "\n",
       "                          state_name  geonames_id  \\\n",
       "9145        Bs.As. G.B.A. Zona Norte    3428983.0   \n",
       "95624       Bs.As. G.B.A. Zona Oeste          NaN   \n",
       "103258               Capital Federal    3430787.0   \n",
       "74737                Capital Federal    3429595.0   \n",
       "83888       Bs.As. G.B.A. Zona Norte          NaN   \n",
       "12673                Capital Federal    3436134.0   \n",
       "115157                       Córdoba    3860259.0   \n",
       "11842   Buenos Aires Costa Atlántica    3429971.0   \n",
       "44813                Capital Federal    3435874.0   \n",
       "26859       Bs.As. G.B.A. Zona Norte    3427467.0   \n",
       "\n",
       "                              lat-lon        lat  ...  surface_covered_in_m2  \\\n",
       "9145                              NaN        NaN  ...                  144.0   \n",
       "95624                             NaN        NaN  ...                   35.0   \n",
       "103258  -34.6555354397,-58.4946311411 -34.655535  ...                    NaN   \n",
       "74737   -34.5946892803,-58.3959620116 -34.594689  ...                  126.0   \n",
       "83888                             NaN        NaN  ...                    NaN   \n",
       "12673             -34.64983,-58.38185 -34.649830  ...                  120.0   \n",
       "115157          -31.358268,-64.202346 -31.358268  ...                  380.0   \n",
       "11842         -37.1173113,-56.8568357 -37.117311  ...                    NaN   \n",
       "44813            -34.613199,-58.44123 -34.613199  ...                    NaN   \n",
       "26859         -34.5481554,-58.5368005 -34.548155  ...                  120.0   \n",
       "\n",
       "        price_usd_per_m2 price_per_m2  floor  rooms  expenses  \\\n",
       "9145         3020.833333  3020.833333    NaN    NaN       NaN   \n",
       "95624        2567.567568  2714.285714    NaN    NaN       NaN   \n",
       "103258       2166.666667          NaN    NaN    NaN       NaN   \n",
       "74737        2492.647059  2690.476190    NaN    NaN    6000.0   \n",
       "83888                NaN          NaN    NaN    NaN       NaN   \n",
       "12673        1400.000000  1400.000000    NaN    4.0       NaN   \n",
       "115157               NaN   578.947368    NaN   27.0       NaN   \n",
       "11842                NaN          NaN    1.0    2.0       NaN   \n",
       "44813                NaN          NaN    NaN    3.0       NaN   \n",
       "26859         491.735537   991.666667    NaN    5.0       NaN   \n",
       "\n",
       "                                            properati_url  \\\n",
       "9145    http://www.properati.com.ar/1632g_venta_local_...   \n",
       "95624   http://www.properati.com.ar/1bhfh_venta_depart...   \n",
       "103258  http://www.properati.com.ar/1broy_venta_depart...   \n",
       "74737   http://www.properati.com.ar/1apdl_venta_depart...   \n",
       "83888   http://www.properati.com.ar/1b12n_venta_depart...   \n",
       "12673   http://www.properati.com.ar/16mld_venta_depart...   \n",
       "115157  http://www.properati.com.ar/1casx_venta_casa_c...   \n",
       "11842   http://www.properati.com.ar/16h1d_venta_depart...   \n",
       "44813   http://www.properati.com.ar/19194_venta_depart...   \n",
       "26859   http://www.properati.com.ar/17rlz_venta_casa_v...   \n",
       "\n",
       "                                              description  \\\n",
       "9145    !!!ÃNICO EN SU TIPO!!!ZONA: Pleno centro de Sa...   \n",
       "95624   Excelente Edificio Moderno de 5 pisos a estren...   \n",
       "103258  Venta departamento de 2 ambientes casi nuevo e...   \n",
       "74737   Excelente ubicación en pleno Recoleta a metros...   \n",
       "83888   Departamento muy lindo y luminoso, ubicado a d...   \n",
       "12673   1er piso por escalera con entrada independient...   \n",
       "115157  PROPIEDAD COMPUESTA POR 2 TERRENOS EN ESQUINA....   \n",
       "11842   Venta departamento en Pinamar!a solo 50mts de ...   \n",
       "44813   Venta - Departamento - Argentina, Buenos Aires...   \n",
       "26859   CASA EN LOTE PROPIO GARAJE EQUIPADO PARA CAMIO...   \n",
       "\n",
       "                                                    title  \\\n",
       "9145    Local 144m² con Teléfono en Martin Y Omar 100,...   \n",
       "95624                     Remedios de Escalada 47 - Haedo   \n",
       "103258                           Departamento - Mataderos   \n",
       "74737                            Ayacucho 1200 - Recoleta   \n",
       "83888            Departamento a estrenar- Centro de Tigre   \n",
       "12673                                      PH 4 ambientes   \n",
       "115157              MARQUEZ 3 DORM 4 BAÑ  ESC PILETA COCH   \n",
       "11842                               DEPARTAMENTO EN VENTA   \n",
       "44813          Departamento en Venta ubicado en Caballito   \n",
       "26859                CASA EN LOTE PROPIO EXCELENTE ESTADO   \n",
       "\n",
       "                                          image_thumbnail  \n",
       "9145    https://thumbs4.properati.com/7/sy1ueCsoaTA0-v...  \n",
       "95624   https://thumbs4.properati.com/7/PvfEO5GJj91svA...  \n",
       "103258  https://thumbs4.properati.com/6/NeDEIVZJXhdj5V...  \n",
       "74737   https://thumbs4.properati.com/1/0GKD17zV8Ml-rH...  \n",
       "83888   https://thumbs4.properati.com/1/9mEq0QXr4CP4Xl...  \n",
       "12673   https://thumbs4.properati.com/5/VQwv1IWDjbEe9K...  \n",
       "115157  https://thumbs4.properati.com/8/G-Z8_xSug8bdRw...  \n",
       "11842   https://thumbs4.properati.com/3/RTqqDagg29-IJS...  \n",
       "44813   https://thumbs4.properati.com/3/DUJ3No6MJmVyvU...  \n",
       "26859   https://thumbs4.properati.com/8/O3uub-BLVORL_i...  \n",
       "\n",
       "[10 rows x 26 columns]"
      ]
     },
     "execution_count": 3,
     "metadata": {},
     "output_type": "execute_result"
    }
   ],
   "source": [
    "print(data.shape)\n",
    "data.sample(10)"
   ]
  },
  {
   "cell_type": "code",
   "execution_count": 4,
   "metadata": {},
   "outputs": [
    {
     "data": {
      "text/plain": [
       "sell    121220\n",
       "Name: operation, dtype: int64"
      ]
     },
     "execution_count": 4,
     "metadata": {},
     "output_type": "execute_result"
    }
   ],
   "source": [
    "data.operation.value_counts()"
   ]
  },
  {
   "cell_type": "markdown",
   "metadata": {},
   "source": [
    "Analizamos el tipo de datos de cada columna e información sobre la distribución de los datos:"
   ]
  },
  {
   "cell_type": "code",
   "execution_count": 5,
   "metadata": {},
   "outputs": [
    {
     "data": {
      "text/plain": [
       "Unnamed: 0                      int64\n",
       "operation                      object\n",
       "property_type                  object\n",
       "place_name                     object\n",
       "place_with_parent_names        object\n",
       "country_name                   object\n",
       "state_name                     object\n",
       "geonames_id                   float64\n",
       "lat-lon                        object\n",
       "lat                           float64\n",
       "lon                           float64\n",
       "price                         float64\n",
       "currency                       object\n",
       "price_aprox_local_currency    float64\n",
       "price_aprox_usd               float64\n",
       "surface_total_in_m2           float64\n",
       "surface_covered_in_m2         float64\n",
       "price_usd_per_m2              float64\n",
       "price_per_m2                  float64\n",
       "floor                         float64\n",
       "rooms                         float64\n",
       "expenses                      float64\n",
       "properati_url                  object\n",
       "description                    object\n",
       "title                          object\n",
       "image_thumbnail                object\n",
       "dtype: object"
      ]
     },
     "execution_count": 5,
     "metadata": {},
     "output_type": "execute_result"
    }
   ],
   "source": [
    "data.dtypes"
   ]
  },
  {
   "cell_type": "code",
   "execution_count": 6,
   "metadata": {},
   "outputs": [
    {
     "data": {
      "text/html": [
       "<div>\n",
       "<style scoped>\n",
       "    .dataframe tbody tr th:only-of-type {\n",
       "        vertical-align: middle;\n",
       "    }\n",
       "\n",
       "    .dataframe tbody tr th {\n",
       "        vertical-align: top;\n",
       "    }\n",
       "\n",
       "    .dataframe thead th {\n",
       "        text-align: right;\n",
       "    }\n",
       "</style>\n",
       "<table border=\"1\" class=\"dataframe\">\n",
       "  <thead>\n",
       "    <tr style=\"text-align: right;\">\n",
       "      <th></th>\n",
       "      <th>Unnamed: 0</th>\n",
       "      <th>geonames_id</th>\n",
       "      <th>lat</th>\n",
       "      <th>lon</th>\n",
       "      <th>price</th>\n",
       "      <th>price_aprox_local_currency</th>\n",
       "      <th>price_aprox_usd</th>\n",
       "      <th>surface_total_in_m2</th>\n",
       "      <th>surface_covered_in_m2</th>\n",
       "      <th>price_usd_per_m2</th>\n",
       "      <th>price_per_m2</th>\n",
       "      <th>floor</th>\n",
       "      <th>rooms</th>\n",
       "      <th>expenses</th>\n",
       "    </tr>\n",
       "  </thead>\n",
       "  <tbody>\n",
       "    <tr>\n",
       "      <th>count</th>\n",
       "      <td>121220.000000</td>\n",
       "      <td>1.025030e+05</td>\n",
       "      <td>69670.000000</td>\n",
       "      <td>69670.000000</td>\n",
       "      <td>1.008100e+05</td>\n",
       "      <td>1.008100e+05</td>\n",
       "      <td>1.008100e+05</td>\n",
       "      <td>81892.000000</td>\n",
       "      <td>101313.000000</td>\n",
       "      <td>68617.000000</td>\n",
       "      <td>8.765800e+04</td>\n",
       "      <td>7899.000000</td>\n",
       "      <td>47390.000000</td>\n",
       "      <td>1.426200e+04</td>\n",
       "    </tr>\n",
       "    <tr>\n",
       "      <th>mean</th>\n",
       "      <td>60609.500000</td>\n",
       "      <td>3.574442e+06</td>\n",
       "      <td>-34.626210</td>\n",
       "      <td>-59.266290</td>\n",
       "      <td>4.685259e+05</td>\n",
       "      <td>4.229397e+06</td>\n",
       "      <td>2.397006e+05</td>\n",
       "      <td>233.795328</td>\n",
       "      <td>133.050181</td>\n",
       "      <td>2160.086916</td>\n",
       "      <td>6.912216e+03</td>\n",
       "      <td>17.452336</td>\n",
       "      <td>3.080840</td>\n",
       "      <td>5.009234e+03</td>\n",
       "    </tr>\n",
       "    <tr>\n",
       "      <th>std</th>\n",
       "      <td>34993.344153</td>\n",
       "      <td>3.541306e+05</td>\n",
       "      <td>1.980936</td>\n",
       "      <td>2.299922</td>\n",
       "      <td>2.260101e+06</td>\n",
       "      <td>6.904714e+06</td>\n",
       "      <td>3.913239e+05</td>\n",
       "      <td>1782.222147</td>\n",
       "      <td>724.351479</td>\n",
       "      <td>2759.288621</td>\n",
       "      <td>2.837864e+04</td>\n",
       "      <td>120.243621</td>\n",
       "      <td>1.860773</td>\n",
       "      <td>1.204403e+05</td>\n",
       "    </tr>\n",
       "    <tr>\n",
       "      <th>min</th>\n",
       "      <td>0.000000</td>\n",
       "      <td>3.427208e+06</td>\n",
       "      <td>-54.823985</td>\n",
       "      <td>-75.678931</td>\n",
       "      <td>0.000000e+00</td>\n",
       "      <td>0.000000e+00</td>\n",
       "      <td>0.000000e+00</td>\n",
       "      <td>0.000000</td>\n",
       "      <td>0.000000</td>\n",
       "      <td>0.600000</td>\n",
       "      <td>1.510204e+00</td>\n",
       "      <td>1.000000</td>\n",
       "      <td>1.000000</td>\n",
       "      <td>1.000000e+00</td>\n",
       "    </tr>\n",
       "    <tr>\n",
       "      <th>25%</th>\n",
       "      <td>30304.750000</td>\n",
       "      <td>3.430234e+06</td>\n",
       "      <td>-34.669065</td>\n",
       "      <td>-58.727040</td>\n",
       "      <td>1.100000e+05</td>\n",
       "      <td>1.583309e+06</td>\n",
       "      <td>8.973388e+04</td>\n",
       "      <td>50.000000</td>\n",
       "      <td>45.000000</td>\n",
       "      <td>1218.181818</td>\n",
       "      <td>1.550000e+03</td>\n",
       "      <td>1.000000</td>\n",
       "      <td>2.000000</td>\n",
       "      <td>1.000000e+03</td>\n",
       "    </tr>\n",
       "    <tr>\n",
       "      <th>50%</th>\n",
       "      <td>60609.500000</td>\n",
       "      <td>3.433910e+06</td>\n",
       "      <td>-34.597985</td>\n",
       "      <td>-58.480128</td>\n",
       "      <td>1.850000e+05</td>\n",
       "      <td>2.558452e+06</td>\n",
       "      <td>1.450000e+05</td>\n",
       "      <td>84.000000</td>\n",
       "      <td>75.000000</td>\n",
       "      <td>1800.000000</td>\n",
       "      <td>2.213115e+03</td>\n",
       "      <td>3.000000</td>\n",
       "      <td>3.000000</td>\n",
       "      <td>2.000000e+03</td>\n",
       "    </tr>\n",
       "    <tr>\n",
       "      <th>75%</th>\n",
       "      <td>90914.250000</td>\n",
       "      <td>3.836668e+06</td>\n",
       "      <td>-34.441299</td>\n",
       "      <td>-58.395908</td>\n",
       "      <td>4.200000e+05</td>\n",
       "      <td>4.675792e+06</td>\n",
       "      <td>2.650000e+05</td>\n",
       "      <td>200.000000</td>\n",
       "      <td>150.000000</td>\n",
       "      <td>2486.411765</td>\n",
       "      <td>3.355549e+03</td>\n",
       "      <td>6.000000</td>\n",
       "      <td>4.000000</td>\n",
       "      <td>4.000000e+03</td>\n",
       "    </tr>\n",
       "    <tr>\n",
       "      <th>max</th>\n",
       "      <td>121219.000000</td>\n",
       "      <td>6.948895e+06</td>\n",
       "      <td>4.545843</td>\n",
       "      <td>-53.733330</td>\n",
       "      <td>6.500000e+08</td>\n",
       "      <td>8.212711e+08</td>\n",
       "      <td>4.654544e+07</td>\n",
       "      <td>200000.000000</td>\n",
       "      <td>187000.000000</td>\n",
       "      <td>206333.333333</td>\n",
       "      <td>4.000000e+06</td>\n",
       "      <td>3150.000000</td>\n",
       "      <td>32.000000</td>\n",
       "      <td>1.000150e+07</td>\n",
       "    </tr>\n",
       "  </tbody>\n",
       "</table>\n",
       "</div>"
      ],
      "text/plain": [
       "          Unnamed: 0   geonames_id           lat           lon         price  \\\n",
       "count  121220.000000  1.025030e+05  69670.000000  69670.000000  1.008100e+05   \n",
       "mean    60609.500000  3.574442e+06    -34.626210    -59.266290  4.685259e+05   \n",
       "std     34993.344153  3.541306e+05      1.980936      2.299922  2.260101e+06   \n",
       "min         0.000000  3.427208e+06    -54.823985    -75.678931  0.000000e+00   \n",
       "25%     30304.750000  3.430234e+06    -34.669065    -58.727040  1.100000e+05   \n",
       "50%     60609.500000  3.433910e+06    -34.597985    -58.480128  1.850000e+05   \n",
       "75%     90914.250000  3.836668e+06    -34.441299    -58.395908  4.200000e+05   \n",
       "max    121219.000000  6.948895e+06      4.545843    -53.733330  6.500000e+08   \n",
       "\n",
       "       price_aprox_local_currency  price_aprox_usd  surface_total_in_m2  \\\n",
       "count                1.008100e+05     1.008100e+05         81892.000000   \n",
       "mean                 4.229397e+06     2.397006e+05           233.795328   \n",
       "std                  6.904714e+06     3.913239e+05          1782.222147   \n",
       "min                  0.000000e+00     0.000000e+00             0.000000   \n",
       "25%                  1.583309e+06     8.973388e+04            50.000000   \n",
       "50%                  2.558452e+06     1.450000e+05            84.000000   \n",
       "75%                  4.675792e+06     2.650000e+05           200.000000   \n",
       "max                  8.212711e+08     4.654544e+07        200000.000000   \n",
       "\n",
       "       surface_covered_in_m2  price_usd_per_m2  price_per_m2        floor  \\\n",
       "count          101313.000000      68617.000000  8.765800e+04  7899.000000   \n",
       "mean              133.050181       2160.086916  6.912216e+03    17.452336   \n",
       "std               724.351479       2759.288621  2.837864e+04   120.243621   \n",
       "min                 0.000000          0.600000  1.510204e+00     1.000000   \n",
       "25%                45.000000       1218.181818  1.550000e+03     1.000000   \n",
       "50%                75.000000       1800.000000  2.213115e+03     3.000000   \n",
       "75%               150.000000       2486.411765  3.355549e+03     6.000000   \n",
       "max            187000.000000     206333.333333  4.000000e+06  3150.000000   \n",
       "\n",
       "              rooms      expenses  \n",
       "count  47390.000000  1.426200e+04  \n",
       "mean       3.080840  5.009234e+03  \n",
       "std        1.860773  1.204403e+05  \n",
       "min        1.000000  1.000000e+00  \n",
       "25%        2.000000  1.000000e+03  \n",
       "50%        3.000000  2.000000e+03  \n",
       "75%        4.000000  4.000000e+03  \n",
       "max       32.000000  1.000150e+07  "
      ]
     },
     "execution_count": 6,
     "metadata": {},
     "output_type": "execute_result"
    }
   ],
   "source": [
    "data.describe()"
   ]
  },
  {
   "cell_type": "markdown",
   "metadata": {},
   "source": [
    "Por último, analizamos la cantidad y el porcentaje de valores nulos por columna."
   ]
  },
  {
   "cell_type": "code",
   "execution_count": 7,
   "metadata": {},
   "outputs": [
    {
     "name": "stdout",
     "output_type": "stream",
     "text": [
      "Cantidad de nulos por columna:\n",
      "Unnamed: 0                         0\n",
      "operation                          0\n",
      "property_type                      0\n",
      "place_name                        23\n",
      "place_with_parent_names            0\n",
      "country_name                       0\n",
      "state_name                         0\n",
      "geonames_id                    18717\n",
      "lat-lon                        51550\n",
      "lat                            51550\n",
      "lon                            51550\n",
      "price                          20410\n",
      "currency                       20411\n",
      "price_aprox_local_currency     20410\n",
      "price_aprox_usd                20410\n",
      "surface_total_in_m2            39328\n",
      "surface_covered_in_m2          19907\n",
      "price_usd_per_m2               52603\n",
      "price_per_m2                   33562\n",
      "floor                         113321\n",
      "rooms                          73830\n",
      "expenses                      106958\n",
      "properati_url                      0\n",
      "description                        2\n",
      "title                              0\n",
      "image_thumbnail                 3112\n",
      "dtype: int64\n",
      "----------------------------------\n",
      "Porcentaje de nulos por columna:\n"
     ]
    },
    {
     "data": {
      "text/plain": [
       "Unnamed: 0                     0.00\n",
       "operation                      0.00\n",
       "property_type                  0.00\n",
       "place_with_parent_names        0.00\n",
       "country_name                   0.00\n",
       "state_name                     0.00\n",
       "description                    0.00\n",
       "properati_url                  0.00\n",
       "title                          0.00\n",
       "place_name                     0.02\n",
       "image_thumbnail                2.57\n",
       "geonames_id                   15.44\n",
       "surface_covered_in_m2         16.42\n",
       "price                         16.84\n",
       "price_aprox_local_currency    16.84\n",
       "price_aprox_usd               16.84\n",
       "currency                      16.84\n",
       "price_per_m2                  27.69\n",
       "surface_total_in_m2           32.44\n",
       "lat                           42.53\n",
       "lat-lon                       42.53\n",
       "lon                           42.53\n",
       "price_usd_per_m2              43.39\n",
       "rooms                         60.91\n",
       "expenses                      88.23\n",
       "floor                         93.48\n",
       "dtype: float64"
      ]
     },
     "execution_count": 7,
     "metadata": {},
     "output_type": "execute_result"
    }
   ],
   "source": [
    "print(\"Cantidad de nulos por columna:\")\n",
    "print(data.isnull().sum())\n",
    "print(\"----------------------------------\")\n",
    "print(\"Porcentaje de nulos por columna:\")\n",
    "((data.isnull().sum()/data.shape[0]*100).round(2)).sort_values()"
   ]
  },
  {
   "cell_type": "markdown",
   "metadata": {},
   "source": [
    "#### CONCLUSIONES PRELIMINARES 📌"
   ]
  },
  {
   "cell_type": "markdown",
   "metadata": {},
   "source": [
    "Tenemos un dataset con 121220 registros y 26 variables.\n",
    "\n",
    "De las 26 variables:\n",
    "    \n",
    "   * 10 variables no contienen nulos\n",
    "   * 7 variables tienen menos del 20% de nulos\n",
    "   * 6 variables contienen entre 20% y 50% de nulos\n",
    "   * 3 variables contienen más de 50% de nulos (dos de ellas por encima del 85%)\n",
    "    \n",
    "Luego de este primer análisis, decidimos prescindir de columnas que no tienen valor para el futuro modelo de predicción. Serán eliminadas posteriormente a la hora de definir el dataset final. \n",
    "\n",
    "   * *Unnamed: 0*: su valor es idéntico al del index. \n",
    "   * *Operation*: su único valor es \"sell\", por lo que todos los registros refieren a ventas de una propiedad.\n",
    "   * *place_with_parent_names*: su función es concatenar valores de *country_name, *place_name* y *state_name*. Por lo tanto esa información esta presentre en otras columnas y en un formato más útil para trabajar.\n",
    "   * *country_name*: su único valor es Argentina, por lo que podemos trabajar bajo el supuesto de que todas las ventas ocurrieron en ese país.\n",
    "   * *properati_url*: no contiene información relevante.\n",
    "   * *image_thumbnail*: no contiene información relevante.\n",
    "   * *expenses*: contiene un porcentaje muy alto de nulos. \n",
    "   \n",
    "      \n",
    "Con las variables restantes, de acuerdo a la información que contienen, decidimos agruparlas en \"secciones\" para trabajarlas mejor: \n",
    "\n",
    "1. Columnas relativas a la ubicación geográfica de la propiedad\n",
    "2. Columnas con información descriptiva sobre la propiedad\n",
    "3. Columnas referidas al valor de la propiedad.\n",
    "    \n"
   ]
  },
  {
   "cell_type": "markdown",
   "metadata": {},
   "source": [
    "## SECCIÓN 1 - COLUMNAS GEOGRÁFICAS\n",
    "----------------\n",
    "\n",
    "1. place_name\n",
    "2. geonames_id\n",
    "3. lat\n",
    "4. lon\n",
    "5. lat-lon\n"
   ]
  },
  {
   "cell_type": "markdown",
   "metadata": {},
   "source": [
    "Armamos un df reducido las columnas de interés para esta sección."
   ]
  },
  {
   "cell_type": "code",
   "execution_count": 8,
   "metadata": {},
   "outputs": [
    {
     "data": {
      "text/html": [
       "<div>\n",
       "<style scoped>\n",
       "    .dataframe tbody tr th:only-of-type {\n",
       "        vertical-align: middle;\n",
       "    }\n",
       "\n",
       "    .dataframe tbody tr th {\n",
       "        vertical-align: top;\n",
       "    }\n",
       "\n",
       "    .dataframe thead th {\n",
       "        text-align: right;\n",
       "    }\n",
       "</style>\n",
       "<table border=\"1\" class=\"dataframe\">\n",
       "  <thead>\n",
       "    <tr style=\"text-align: right;\">\n",
       "      <th></th>\n",
       "      <th>geonames_id</th>\n",
       "      <th>lat</th>\n",
       "      <th>lon</th>\n",
       "      <th>lat-lon</th>\n",
       "    </tr>\n",
       "  </thead>\n",
       "  <tbody>\n",
       "    <tr>\n",
       "      <th>0</th>\n",
       "      <td>3430787.0</td>\n",
       "      <td>-34.661824</td>\n",
       "      <td>-58.508839</td>\n",
       "      <td>-34.6618237,-58.5088387</td>\n",
       "    </tr>\n",
       "    <tr>\n",
       "      <th>1</th>\n",
       "      <td>3432039.0</td>\n",
       "      <td>-34.903883</td>\n",
       "      <td>-57.964330</td>\n",
       "      <td>-34.9038831,-57.9643295</td>\n",
       "    </tr>\n",
       "    <tr>\n",
       "      <th>2</th>\n",
       "      <td>3430787.0</td>\n",
       "      <td>-34.652262</td>\n",
       "      <td>-58.522982</td>\n",
       "      <td>-34.6522615,-58.5229825</td>\n",
       "    </tr>\n",
       "    <tr>\n",
       "      <th>3</th>\n",
       "      <td>3431333.0</td>\n",
       "      <td>-34.647797</td>\n",
       "      <td>-58.516424</td>\n",
       "      <td>-34.6477969,-58.5164244</td>\n",
       "    </tr>\n",
       "    <tr>\n",
       "      <th>4</th>\n",
       "      <td>3435548.0</td>\n",
       "      <td>-38.002626</td>\n",
       "      <td>-57.549447</td>\n",
       "      <td>-38.0026256,-57.5494468</td>\n",
       "    </tr>\n",
       "  </tbody>\n",
       "</table>\n",
       "</div>"
      ],
      "text/plain": [
       "   geonames_id        lat        lon                  lat-lon\n",
       "0    3430787.0 -34.661824 -58.508839  -34.6618237,-58.5088387\n",
       "1    3432039.0 -34.903883 -57.964330  -34.9038831,-57.9643295\n",
       "2    3430787.0 -34.652262 -58.522982  -34.6522615,-58.5229825\n",
       "3    3431333.0 -34.647797 -58.516424  -34.6477969,-58.5164244\n",
       "4    3435548.0 -38.002626 -57.549447  -38.0026256,-57.5494468"
      ]
     },
     "execution_count": 8,
     "metadata": {},
     "output_type": "execute_result"
    }
   ],
   "source": [
    "data_geo = data[[\"geonames_id\",\"lat\",\"lon\",\"lat-lon\"]]\n",
    "data_geo.head(5)"
   ]
  },
  {
   "cell_type": "markdown",
   "metadata": {},
   "source": [
    "**Tipos de las columnas**. Hay 3 en formato numérico, y 1 de tipo *object*, que combina los datos de latitud y longitud."
   ]
  },
  {
   "cell_type": "code",
   "execution_count": 9,
   "metadata": {},
   "outputs": [
    {
     "name": "stdout",
     "output_type": "stream",
     "text": [
      "geonames_id    float64\n",
      "lat            float64\n",
      "lon            float64\n",
      "lat-lon         object\n",
      "dtype: object\n",
      "(121220, 4)\n"
     ]
    }
   ],
   "source": [
    "print(data_geo.dtypes)\n",
    "print(data_geo.shape)"
   ]
  },
  {
   "cell_type": "markdown",
   "metadata": {},
   "source": [
    "**Porcentaje de nulos**.\n",
    "La columna *geonames_id* tiene un % sensiblemente menor de nulos que las otras 3 columnas. \n",
    "Las columnas *lat-lon*, *lat* y *lon*, además de tener un % alto (42,5), tienen la misma cantidad de nulos."
   ]
  },
  {
   "cell_type": "code",
   "execution_count": 10,
   "metadata": {},
   "outputs": [
    {
     "name": "stdout",
     "output_type": "stream",
     "text": [
      "Cantidad de nulos por columna:\n",
      "geonames_id    18717\n",
      "lat            51550\n",
      "lon            51550\n",
      "lat-lon        51550\n",
      "dtype: int64\n",
      "------------------------\n",
      "Porcentaje de nulos por columna:\n"
     ]
    },
    {
     "data": {
      "text/plain": [
       "lat-lon        42.53\n",
       "lon            42.53\n",
       "lat            42.53\n",
       "geonames_id    15.44\n",
       "dtype: float64"
      ]
     },
     "execution_count": 10,
     "metadata": {},
     "output_type": "execute_result"
    }
   ],
   "source": [
    "print(\"Cantidad de nulos por columna:\")\n",
    "print(data_geo.isnull().sum())\n",
    "print(\"------------------------\")\n",
    "print(\"Porcentaje de nulos por columna:\")\n",
    "porc_nulos = (data_geo.isnull().sum() / data_geo.shape[0] *100).round(2)\n",
    "porc_nulos.sort_values(ascending=False)"
   ]
  },
  {
   "cell_type": "markdown",
   "metadata": {},
   "source": [
    "---"
   ]
  },
  {
   "cell_type": "markdown",
   "metadata": {},
   "source": [
    "#### SECCION 1.1 - LAT, LON, LAT-LON\n"
   ]
  },
  {
   "cell_type": "markdown",
   "metadata": {},
   "source": [
    " #### ANÁLISIS 🔎"
   ]
  },
  {
   "cell_type": "markdown",
   "metadata": {},
   "source": [
    "\n",
    "Presumiblemente, los nulos corresponden a las mismas filas y por lo tanto no podemos recuperar información entre ellas.\n",
    "\n",
    "\n",
    "Para comprobar esto, creamos un nuevo df con los nulos en la variable \"lat\", que contiene las 3 columnas de interés."
   ]
  },
  {
   "cell_type": "code",
   "execution_count": 11,
   "metadata": {},
   "outputs": [
    {
     "data": {
      "text/html": [
       "<div>\n",
       "<style scoped>\n",
       "    .dataframe tbody tr th:only-of-type {\n",
       "        vertical-align: middle;\n",
       "    }\n",
       "\n",
       "    .dataframe tbody tr th {\n",
       "        vertical-align: top;\n",
       "    }\n",
       "\n",
       "    .dataframe thead th {\n",
       "        text-align: right;\n",
       "    }\n",
       "</style>\n",
       "<table border=\"1\" class=\"dataframe\">\n",
       "  <thead>\n",
       "    <tr style=\"text-align: right;\">\n",
       "      <th></th>\n",
       "      <th>lat</th>\n",
       "      <th>lon</th>\n",
       "      <th>lat-lon</th>\n",
       "    </tr>\n",
       "  </thead>\n",
       "  <tbody>\n",
       "    <tr>\n",
       "      <th>13</th>\n",
       "      <td>NaN</td>\n",
       "      <td>NaN</td>\n",
       "      <td>NaN</td>\n",
       "    </tr>\n",
       "    <tr>\n",
       "      <th>14</th>\n",
       "      <td>NaN</td>\n",
       "      <td>NaN</td>\n",
       "      <td>NaN</td>\n",
       "    </tr>\n",
       "    <tr>\n",
       "      <th>23</th>\n",
       "      <td>NaN</td>\n",
       "      <td>NaN</td>\n",
       "      <td>NaN</td>\n",
       "    </tr>\n",
       "    <tr>\n",
       "      <th>42</th>\n",
       "      <td>NaN</td>\n",
       "      <td>NaN</td>\n",
       "      <td>NaN</td>\n",
       "    </tr>\n",
       "    <tr>\n",
       "      <th>49</th>\n",
       "      <td>NaN</td>\n",
       "      <td>NaN</td>\n",
       "      <td>NaN</td>\n",
       "    </tr>\n",
       "    <tr>\n",
       "      <th>...</th>\n",
       "      <td>...</td>\n",
       "      <td>...</td>\n",
       "      <td>...</td>\n",
       "    </tr>\n",
       "    <tr>\n",
       "      <th>121214</th>\n",
       "      <td>NaN</td>\n",
       "      <td>NaN</td>\n",
       "      <td>NaN</td>\n",
       "    </tr>\n",
       "    <tr>\n",
       "      <th>121215</th>\n",
       "      <td>NaN</td>\n",
       "      <td>NaN</td>\n",
       "      <td>NaN</td>\n",
       "    </tr>\n",
       "    <tr>\n",
       "      <th>121216</th>\n",
       "      <td>NaN</td>\n",
       "      <td>NaN</td>\n",
       "      <td>NaN</td>\n",
       "    </tr>\n",
       "    <tr>\n",
       "      <th>121218</th>\n",
       "      <td>NaN</td>\n",
       "      <td>NaN</td>\n",
       "      <td>NaN</td>\n",
       "    </tr>\n",
       "    <tr>\n",
       "      <th>121219</th>\n",
       "      <td>NaN</td>\n",
       "      <td>NaN</td>\n",
       "      <td>NaN</td>\n",
       "    </tr>\n",
       "  </tbody>\n",
       "</table>\n",
       "<p>51550 rows × 3 columns</p>\n",
       "</div>"
      ],
      "text/plain": [
       "        lat  lon lat-lon\n",
       "13      NaN  NaN     NaN\n",
       "14      NaN  NaN     NaN\n",
       "23      NaN  NaN     NaN\n",
       "42      NaN  NaN     NaN\n",
       "49      NaN  NaN     NaN\n",
       "...     ...  ...     ...\n",
       "121214  NaN  NaN     NaN\n",
       "121215  NaN  NaN     NaN\n",
       "121216  NaN  NaN     NaN\n",
       "121218  NaN  NaN     NaN\n",
       "121219  NaN  NaN     NaN\n",
       "\n",
       "[51550 rows x 3 columns]"
      ]
     },
     "execution_count": 11,
     "metadata": {},
     "output_type": "execute_result"
    }
   ],
   "source": [
    "mask_lat_null = data_geo[\"lat\"].isnull()\n",
    "lat_null = data_geo.loc[mask_lat_null,[\"lat\",\"lon\",\"lat-lon\"]]\n",
    "lat_null"
   ]
  },
  {
   "cell_type": "markdown",
   "metadata": {},
   "source": [
    "Luego miramos la cantidad de nulos de ese df, pero sobre el axis 1, es decir, las filas. \n",
    "Al contar los valores, vemos que para todas las filas (51550) nos devuelve 3 nulos por fila. Por lo tanto, todos los nulos en *lat* son también nulos en *lon* y en *lat-lon*:"
   ]
  },
  {
   "cell_type": "code",
   "execution_count": 12,
   "metadata": {},
   "outputs": [
    {
     "name": "stdout",
     "output_type": "stream",
     "text": [
      "3    51550\n",
      "dtype: int64\n"
     ]
    }
   ],
   "source": [
    "cant_nulos_xfila = lat_null.isnull().sum(axis=1)\n",
    "print(cant_nulos_xfila.value_counts())"
   ]
  },
  {
   "cell_type": "markdown",
   "metadata": {},
   "source": [
    "Otra manera de comprobar esto es utilizando el método .equals para comparar las series."
   ]
  },
  {
   "cell_type": "code",
   "execution_count": 13,
   "metadata": {},
   "outputs": [
    {
     "name": "stdout",
     "output_type": "stream",
     "text": [
      "¿'lat' y 'lon' son iguales? True\n"
     ]
    }
   ],
   "source": [
    "print(\"¿'lat' y 'lon' son iguales?\", lat_null[\"lat\"].equals(lat_null[\"lon\"])) #en .equals, los nulos ubicados en la misma posición son considerados iguales. "
   ]
  },
  {
   "cell_type": "code",
   "execution_count": 14,
   "metadata": {},
   "outputs": [
    {
     "name": "stdout",
     "output_type": "stream",
     "text": [
      "¿'lat' y 'lat-lon' son iguales? True\n"
     ]
    }
   ],
   "source": [
    "lat_null[\"lat_object\"] = lat_null[\"lat\"].astype(\"object\") #creamos una nueva col \"lat_object\" ccambiendole el tipo a \"lat\" para poder aplicar la comparación con \"lat-lon\"\n",
    "print(\"¿'lat' y 'lat-lon' son iguales?\", lat_null[\"lat_object\"].equals(lat_null[\"lat-lon\"]))"
   ]
  },
  {
   "cell_type": "markdown",
   "metadata": {},
   "source": [
    "✔️ Demostramos que las 3 columnas son iguales entre sí. "
   ]
  },
  {
   "cell_type": "code",
   "execution_count": 15,
   "metadata": {},
   "outputs": [],
   "source": [
    "#data.description.to_csv(\"description_original\")\n",
    "#data.title.to_csv(\"title_original\")"
   ]
  },
  {
   "cell_type": "markdown",
   "metadata": {},
   "source": [
    "#### CONCLUSIÓN 📌\n",
    "Si bien podrían recuperarse algunos valores (101) aplicando expresiones regulares en la columna *description*, consideramos que la ubicación geográfica exacta del inmueble (valores de latitud y longitud) es un dato muy específico que **no es determinante a la hora de predecir el precio por m2**.\n",
    "\n",
    "Tampoco parece tener sentido intentar alguna estrategia de imputación: no podemos utilizar ninguna medida de tendencia de las columnas porque no serían representativas del punto geográfico, ni tampoco podemos asociar la info de latitud y longitud a la información contenida en otras variables.\n",
    "\n",
    "Por otra parte, la variable precio suele responder a datos más generales como barrio o localidad. Por lo tanto las columnas \"geoname_id\" o \"place_name\"\n",
    "pueden ser mas útiles."
   ]
  },
  {
   "cell_type": "markdown",
   "metadata": {},
   "source": [
    "---"
   ]
  },
  {
   "cell_type": "markdown",
   "metadata": {},
   "source": [
    "#### SECCIÓN 1. 2 - GEONAMES_ID, PLACE_NAME"
   ]
  },
  {
   "cell_type": "markdown",
   "metadata": {},
   "source": [
    " #### ANÁLISIS 🔎"
   ]
  },
  {
   "cell_type": "markdown",
   "metadata": {},
   "source": [
    "Queremos analizar a qué variable/s o criterio geográfico responde la columna *geonames_id*.\n",
    "\n",
    "\n",
    "Creamos un nuevo df agregando otras variables que nos pueden servir para ello, y como como primer paso, analizamos si hay IDs que se repiten. En efecto algunos aparecen con mas frecuencia que otros:"
   ]
  },
  {
   "cell_type": "code",
   "execution_count": 16,
   "metadata": {},
   "outputs": [],
   "source": [
    "data_geonames = data.loc[:,[\"geonames_id\",\"place_name\",\"state_name\",\"country_name\",\"place_with_parent_names\",\"lat\",\"lon\",\"lat-lon\"]]"
   ]
  },
  {
   "cell_type": "code",
   "execution_count": 17,
   "metadata": {},
   "outputs": [
    {
     "name": "stdout",
     "output_type": "stream",
     "text": [
      "Ocurrencia de IDS (sin nulos):\n",
      "3838574.0    8504\n",
      "3860259.0    6606\n",
      "3430863.0    6534\n",
      "3430234.0    3279\n",
      "3436077.0    2992\n",
      "             ... \n",
      "3832679.0       1\n",
      "3834251.0       1\n",
      "3436309.0       1\n",
      "3436205.0       1\n",
      "3860197.0       1\n",
      "Name: geonames_id, Length: 646, dtype: int64\n"
     ]
    }
   ],
   "source": [
    "ocurrencia_ids = data_geonames.geonames_id.value_counts().sort_values(ascending=False)\n",
    "print(\"Ocurrencia de IDS (sin nulos):\")\n",
    "print(ocurrencia_ids)"
   ]
  },
  {
   "cell_type": "markdown",
   "metadata": {},
   "source": [
    "Haciendo un .head() sobre el df nuevo, podemos intuir que *geonames_id* es un valor único asociado a la localidad, dado que observaciones que tienen un mismo *state_name* y *country_name* pero diferente *place_name* (y por lo tanto diferente *place_with_parent_names*) tienen distintos valores para *geonames_id*. \n",
    "Ej: \"Mataderos\" vs \"Liniers\""
   ]
  },
  {
   "cell_type": "code",
   "execution_count": 18,
   "metadata": {},
   "outputs": [
    {
     "data": {
      "text/html": [
       "<div>\n",
       "<style scoped>\n",
       "    .dataframe tbody tr th:only-of-type {\n",
       "        vertical-align: middle;\n",
       "    }\n",
       "\n",
       "    .dataframe tbody tr th {\n",
       "        vertical-align: top;\n",
       "    }\n",
       "\n",
       "    .dataframe thead th {\n",
       "        text-align: right;\n",
       "    }\n",
       "</style>\n",
       "<table border=\"1\" class=\"dataframe\">\n",
       "  <thead>\n",
       "    <tr style=\"text-align: right;\">\n",
       "      <th></th>\n",
       "      <th>geonames_id</th>\n",
       "      <th>place_name</th>\n",
       "      <th>state_name</th>\n",
       "      <th>country_name</th>\n",
       "      <th>place_with_parent_names</th>\n",
       "      <th>lat</th>\n",
       "      <th>lon</th>\n",
       "      <th>lat-lon</th>\n",
       "    </tr>\n",
       "  </thead>\n",
       "  <tbody>\n",
       "    <tr>\n",
       "      <th>0</th>\n",
       "      <td>3430787.0</td>\n",
       "      <td>Mataderos</td>\n",
       "      <td>Capital Federal</td>\n",
       "      <td>Argentina</td>\n",
       "      <td>|Argentina|Capital Federal|Mataderos|</td>\n",
       "      <td>-34.661824</td>\n",
       "      <td>-58.508839</td>\n",
       "      <td>-34.6618237,-58.5088387</td>\n",
       "    </tr>\n",
       "    <tr>\n",
       "      <th>1</th>\n",
       "      <td>3432039.0</td>\n",
       "      <td>La Plata</td>\n",
       "      <td>Bs.As. G.B.A. Zona Sur</td>\n",
       "      <td>Argentina</td>\n",
       "      <td>|Argentina|Bs.As. G.B.A. Zona Sur|La Plata|</td>\n",
       "      <td>-34.903883</td>\n",
       "      <td>-57.964330</td>\n",
       "      <td>-34.9038831,-57.9643295</td>\n",
       "    </tr>\n",
       "    <tr>\n",
       "      <th>2</th>\n",
       "      <td>3430787.0</td>\n",
       "      <td>Mataderos</td>\n",
       "      <td>Capital Federal</td>\n",
       "      <td>Argentina</td>\n",
       "      <td>|Argentina|Capital Federal|Mataderos|</td>\n",
       "      <td>-34.652262</td>\n",
       "      <td>-58.522982</td>\n",
       "      <td>-34.6522615,-58.5229825</td>\n",
       "    </tr>\n",
       "    <tr>\n",
       "      <th>3</th>\n",
       "      <td>3431333.0</td>\n",
       "      <td>Liniers</td>\n",
       "      <td>Capital Federal</td>\n",
       "      <td>Argentina</td>\n",
       "      <td>|Argentina|Capital Federal|Liniers|</td>\n",
       "      <td>-34.647797</td>\n",
       "      <td>-58.516424</td>\n",
       "      <td>-34.6477969,-58.5164244</td>\n",
       "    </tr>\n",
       "    <tr>\n",
       "      <th>4</th>\n",
       "      <td>3435548.0</td>\n",
       "      <td>Centro</td>\n",
       "      <td>Buenos Aires Costa Atlántica</td>\n",
       "      <td>Argentina</td>\n",
       "      <td>|Argentina|Buenos Aires Costa Atlántica|Mar de...</td>\n",
       "      <td>-38.002626</td>\n",
       "      <td>-57.549447</td>\n",
       "      <td>-38.0026256,-57.5494468</td>\n",
       "    </tr>\n",
       "  </tbody>\n",
       "</table>\n",
       "</div>"
      ],
      "text/plain": [
       "   geonames_id place_name                    state_name country_name  \\\n",
       "0    3430787.0  Mataderos               Capital Federal    Argentina   \n",
       "1    3432039.0   La Plata        Bs.As. G.B.A. Zona Sur    Argentina   \n",
       "2    3430787.0  Mataderos               Capital Federal    Argentina   \n",
       "3    3431333.0    Liniers               Capital Federal    Argentina   \n",
       "4    3435548.0     Centro  Buenos Aires Costa Atlántica    Argentina   \n",
       "\n",
       "                             place_with_parent_names        lat        lon  \\\n",
       "0              |Argentina|Capital Federal|Mataderos| -34.661824 -58.508839   \n",
       "1        |Argentina|Bs.As. G.B.A. Zona Sur|La Plata| -34.903883 -57.964330   \n",
       "2              |Argentina|Capital Federal|Mataderos| -34.652262 -58.522982   \n",
       "3                |Argentina|Capital Federal|Liniers| -34.647797 -58.516424   \n",
       "4  |Argentina|Buenos Aires Costa Atlántica|Mar de... -38.002626 -57.549447   \n",
       "\n",
       "                   lat-lon  \n",
       "0  -34.6618237,-58.5088387  \n",
       "1  -34.9038831,-57.9643295  \n",
       "2  -34.6522615,-58.5229825  \n",
       "3  -34.6477969,-58.5164244  \n",
       "4  -38.0026256,-57.5494468  "
      ]
     },
     "execution_count": 18,
     "metadata": {},
     "output_type": "execute_result"
    }
   ],
   "source": [
    "data_geonames.head(5)"
   ]
  },
  {
   "cell_type": "markdown",
   "metadata": {},
   "source": [
    "A continuación contamos los valores únicos de cada columna (quitando los nulos), para ver si hay correspondencia."
   ]
  },
  {
   "cell_type": "code",
   "execution_count": 19,
   "metadata": {},
   "outputs": [],
   "source": [
    "mask_geo_id_not_null = data_geonames[\"geonames_id\"].notnull()\n",
    "geo_id_not_null = data_geonames.geonames_id[mask_geo_id_not_null] \n",
    "\n",
    "mask_place_name_not_null = data_geonames[\"place_name\"].notnull()\n",
    "place_name_not_null = data_geonames.place_name[mask_place_name_not_null]\n",
    "\n",
    "mask_pwpn_not_null = data_geonames[\"place_with_parent_names\"].notnull()\n",
    "pwpn_not_null = data_geonames.place_with_parent_names[mask_pwpn_not_null]"
   ]
  },
  {
   "cell_type": "code",
   "execution_count": 20,
   "metadata": {},
   "outputs": [
    {
     "name": "stdout",
     "output_type": "stream",
     "text": [
      "Cantidad de valores únicos en geonames_id: 646\n",
      "Cantidad de valores únicos en place_name: 1060\n",
      "Cantidad de valores únicos en place_with_parent_names: 1164\n"
     ]
    }
   ],
   "source": [
    "print(\"Cantidad de valores únicos en geonames_id:\", len(geo_id_not_null.unique()))\n",
    "print(\"Cantidad de valores únicos en place_name:\", len(place_name_not_null.unique()))\n",
    "print(\"Cantidad de valores únicos en place_with_parent_names:\", len(pwpn_not_null.unique()))"
   ]
  },
  {
   "cell_type": "markdown",
   "metadata": {},
   "source": [
    "\n",
    "Vemos que hay mayor cantidad de valores unicos de *place_with_parent_names* y de *place_name*, que de *geonames_id*. Esto puede deberse a que hay  mayor cantidad de nulos en esa columna con respecto a las otras dos. **Pero también puede suceder que haya geo id's que estén asociados a más de una localidad, lo que sería un error de la base.**"
   ]
  },
  {
   "cell_type": "markdown",
   "metadata": {},
   "source": [
    "Para comprobar esto hacemos una agrupación por ID, y contamos cuantos valores únicos de *place_name* hay para cada uno. \n",
    "Luego, aplicando una máscara, vemos que hay solo 5 ids que tienen más de un valor asociado. "
   ]
  },
  {
   "cell_type": "code",
   "execution_count": 21,
   "metadata": {},
   "outputs": [
    {
     "data": {
      "text/plain": [
       "(102503, 8)"
      ]
     },
     "execution_count": 21,
     "metadata": {},
     "output_type": "execute_result"
    }
   ],
   "source": [
    "#lo vamos a hacer sobre valores no nulos de geonames_ID.\n",
    "mask_geoid_notnull = data_geonames[\"geonames_id\"].notnull()\n",
    "data_geonames_notnull = data_geonames.loc[mask_geoid_notnull]\n",
    "data_geonames_notnull.shape"
   ]
  },
  {
   "cell_type": "code",
   "execution_count": 22,
   "metadata": {},
   "outputs": [
    {
     "name": "stdout",
     "output_type": "stream",
     "text": [
      "geonames_id\n",
      "3435907.0    5\n",
      "3428927.0    2\n",
      "3430234.0    2\n",
      "3435548.0    2\n",
      "3433359.0    2\n",
      "Name: place_name, dtype: int64\n",
      "Cantidad geo ids con más de una localidad:  5\n"
     ]
    }
   ],
   "source": [
    "place_name_by_id = data_geonames_notnull.groupby([\"geonames_id\"])[\"place_name\"].nunique().sort_values(ascending = False)\n",
    "place_name_by_id\n",
    "mask_place_name_by_id = place_name_by_id > 1\n",
    "id_multi_place_name = place_name_by_id[mask_place_name_by_id]\n",
    "print(id_multi_place_name)\n",
    "print(\"Cantidad geo ids con más de una localidad: \", len(place_name_by_id[mask_place_name_by_id]))"
   ]
  },
  {
   "cell_type": "code",
   "execution_count": 23,
   "metadata": {},
   "outputs": [],
   "source": [
    "indices = id_multi_place_name.index #nos quedamos con los índices para crear una máscara\n",
    "mask_indices = data_geonames_notnull[\"geonames_id\"].isin(indices)\n",
    "data_geonames_multi_localidad = data_geonames_notnull.loc[mask_indices]"
   ]
  },
  {
   "cell_type": "markdown",
   "metadata": {},
   "source": [
    "Con un groupby listamos los valores que tiene cada uno de estos 5 geo id para *place_name*, pero junto a los valores de *state_name* para tener mayor información sobre la localidad. \n",
    "\n",
    "Para ver los valores que agrupa cada ID, agregamos el método .agg, que nos lista cada uno de los valores posibles para cada variable"
   ]
  },
  {
   "cell_type": "code",
   "execution_count": 24,
   "metadata": {},
   "outputs": [
    {
     "data": {
      "text/html": [
       "<div>\n",
       "<style scoped>\n",
       "    .dataframe tbody tr th:only-of-type {\n",
       "        vertical-align: middle;\n",
       "    }\n",
       "\n",
       "    .dataframe tbody tr th {\n",
       "        vertical-align: top;\n",
       "    }\n",
       "\n",
       "    .dataframe thead th {\n",
       "        text-align: right;\n",
       "    }\n",
       "</style>\n",
       "<table border=\"1\" class=\"dataframe\">\n",
       "  <thead>\n",
       "    <tr style=\"text-align: right;\">\n",
       "      <th></th>\n",
       "      <th>geonames_id</th>\n",
       "      <th>place_name</th>\n",
       "      <th>state_name</th>\n",
       "    </tr>\n",
       "  </thead>\n",
       "  <tbody>\n",
       "    <tr>\n",
       "      <th>0</th>\n",
       "      <td>3428927.0</td>\n",
       "      <td>[San José, San Jose]</td>\n",
       "      <td>[Bs.As. G.B.A. Zona Sur]</td>\n",
       "    </tr>\n",
       "    <tr>\n",
       "      <th>1</th>\n",
       "      <td>3430234.0</td>\n",
       "      <td>[Palermo Soho, Palermo]</td>\n",
       "      <td>[Capital Federal]</td>\n",
       "    </tr>\n",
       "    <tr>\n",
       "      <th>2</th>\n",
       "      <td>3433359.0</td>\n",
       "      <td>[Ituzaingó, Villa Udaondo]</td>\n",
       "      <td>[Bs.As. G.B.A. Zona Oeste]</td>\n",
       "    </tr>\n",
       "    <tr>\n",
       "      <th>3</th>\n",
       "      <td>3435548.0</td>\n",
       "      <td>[Centro, Centro / Microcentro]</td>\n",
       "      <td>[Buenos Aires Costa Atlántica, Capital Federal]</td>\n",
       "    </tr>\n",
       "    <tr>\n",
       "      <th>4</th>\n",
       "      <td>3435907.0</td>\n",
       "      <td>[Bs.As. G.B.A. Zona Sur, Buenos Aires Interior...</td>\n",
       "      <td>[Bs.As. G.B.A. Zona Sur, Buenos Aires Interior...</td>\n",
       "    </tr>\n",
       "  </tbody>\n",
       "</table>\n",
       "</div>"
      ],
      "text/plain": [
       "   geonames_id                                         place_name  \\\n",
       "0    3428927.0                               [San José, San Jose]   \n",
       "1    3430234.0                            [Palermo Soho, Palermo]   \n",
       "2    3433359.0                         [Ituzaingó, Villa Udaondo]   \n",
       "3    3435548.0                     [Centro, Centro / Microcentro]   \n",
       "4    3435907.0  [Bs.As. G.B.A. Zona Sur, Buenos Aires Interior...   \n",
       "\n",
       "                                          state_name  \n",
       "0                           [Bs.As. G.B.A. Zona Sur]  \n",
       "1                                  [Capital Federal]  \n",
       "2                         [Bs.As. G.B.A. Zona Oeste]  \n",
       "3    [Buenos Aires Costa Atlántica, Capital Federal]  \n",
       "4  [Bs.As. G.B.A. Zona Sur, Buenos Aires Interior...  "
      ]
     },
     "execution_count": 24,
     "metadata": {},
     "output_type": "execute_result"
    }
   ],
   "source": [
    "place_name_by_id_values = data_geonames_multi_localidad.groupby(\"geonames_id\").agg({'place_name': 'unique', 'state_name': 'unique'}).reset_index()\n",
    "place_name_by_id_values"
   ]
  },
  {
   "cell_type": "markdown",
   "metadata": {},
   "source": [
    "En la salida anterior podemos ver que vemos que solamente los ultimos dos casos refieren a localidades distintas, ya que se encuentran en diferentes regiones.\n",
    "\n",
    "#### CONCLUSIÓN 📌 \n",
    "\n",
    "Asumimos que estos casos son errores y que **cada localidad debería tener un *geoname_id* unico.**\n",
    "\n",
    "#### LIMPIEZA DE DATOS 📝\n",
    "\n",
    "Procedemos a limpiar los primeros 3 casos, dejando solo un valor de circunscripción:"
   ]
  },
  {
   "cell_type": "markdown",
   "metadata": {},
   "source": [
    "* **Para eso, creamos una nueva variable *place_name_new***"
   ]
  },
  {
   "cell_type": "code",
   "execution_count": 25,
   "metadata": {},
   "outputs": [],
   "source": [
    "data[\"place_name_new\"] = data[\"place_name\"]\n",
    "data[\"place_name_new\"] = data[\"place_name_new\"].replace(\"San Jose\", \"San José\")\n",
    "data[\"place_name_new\"] = data[\"place_name_new\"].replace(\"Palermo Soho\", \"Palermo\")\n",
    "data[\"place_name_new\"] = data[\"place_name_new\"].replace(\"Villa Udaondo\", \"Ituzaingó\")"
   ]
  },
  {
   "cell_type": "markdown",
   "metadata": {},
   "source": [
    "Miramos los otros dos casos:"
   ]
  },
  {
   "cell_type": "code",
   "execution_count": 26,
   "metadata": {},
   "outputs": [
    {
     "data": {
      "text/html": [
       "<div>\n",
       "<style scoped>\n",
       "    .dataframe tbody tr th:only-of-type {\n",
       "        vertical-align: middle;\n",
       "    }\n",
       "\n",
       "    .dataframe tbody tr th {\n",
       "        vertical-align: top;\n",
       "    }\n",
       "\n",
       "    .dataframe thead th {\n",
       "        text-align: right;\n",
       "    }\n",
       "</style>\n",
       "<table border=\"1\" class=\"dataframe\">\n",
       "  <thead>\n",
       "    <tr style=\"text-align: right;\">\n",
       "      <th></th>\n",
       "      <th>geonames_id</th>\n",
       "      <th>place_name</th>\n",
       "      <th>place_with_parent_names</th>\n",
       "      <th>state_name</th>\n",
       "      <th>title</th>\n",
       "      <th>description</th>\n",
       "      <th>lat</th>\n",
       "    </tr>\n",
       "  </thead>\n",
       "  <tbody>\n",
       "    <tr>\n",
       "      <th>125</th>\n",
       "      <td>3435907.0</td>\n",
       "      <td>Bs.As. G.B.A. Zona Sur</td>\n",
       "      <td>|Argentina|Bs.As. G.B.A. Zona Sur|</td>\n",
       "      <td>Bs.As. G.B.A. Zona Sur</td>\n",
       "      <td>RUGGIERI</td>\n",
       "      <td>CODIGO: 438-12112 ubicado en: test de prueba -...</td>\n",
       "      <td>-38.416097</td>\n",
       "    </tr>\n",
       "    <tr>\n",
       "      <th>433</th>\n",
       "      <td>3435907.0</td>\n",
       "      <td>Buenos Aires Interior</td>\n",
       "      <td>|Argentina|Buenos Aires Interior|</td>\n",
       "      <td>Buenos Aires Interior</td>\n",
       "      <td>Casa de 3 dormitorios con dependencia en Estan...</td>\n",
       "      <td>CODIGO: 157-AW23557 ubicado en: La Pionera -  ...</td>\n",
       "      <td>-38.416097</td>\n",
       "    </tr>\n",
       "    <tr>\n",
       "      <th>664</th>\n",
       "      <td>3435907.0</td>\n",
       "      <td>Buenos Aires Interior</td>\n",
       "      <td>|Argentina|Buenos Aires Interior|</td>\n",
       "      <td>Buenos Aires Interior</td>\n",
       "      <td>[B.I 0527] VILLA GESELL - FRENTE AL MAR, DEPAR...</td>\n",
       "      <td>CODIGO:  ubicado en: [B.I 0527] VILLA GESELL -...</td>\n",
       "      <td>-38.416097</td>\n",
       "    </tr>\n",
       "    <tr>\n",
       "      <th>897</th>\n",
       "      <td>3435907.0</td>\n",
       "      <td>Buenos Aires Interior</td>\n",
       "      <td>|Argentina|Buenos Aires Interior|</td>\n",
       "      <td>Buenos Aires Interior</td>\n",
       "      <td>BENQUERENCIA EXC CHACRA UBICACIÓN Y CONSTRUCCIÓN</td>\n",
       "      <td>Corredor Responsable: Ramiro Cappelloni - C.M....</td>\n",
       "      <td>NaN</td>\n",
       "    </tr>\n",
       "    <tr>\n",
       "      <th>1022</th>\n",
       "      <td>3435907.0</td>\n",
       "      <td>Buenos Aires Interior</td>\n",
       "      <td>|Argentina|Buenos Aires Interior|</td>\n",
       "      <td>Buenos Aires Interior</td>\n",
       "      <td>CASA EN VENTA FLORENCIO VARELA</td>\n",
       "      <td>CODIGO: 3836-789 ubicado en: Republica de Urug...</td>\n",
       "      <td>-38.416097</td>\n",
       "    </tr>\n",
       "    <tr>\n",
       "      <th>...</th>\n",
       "      <td>...</td>\n",
       "      <td>...</td>\n",
       "      <td>...</td>\n",
       "      <td>...</td>\n",
       "      <td>...</td>\n",
       "      <td>...</td>\n",
       "      <td>...</td>\n",
       "    </tr>\n",
       "    <tr>\n",
       "      <th>117729</th>\n",
       "      <td>3435907.0</td>\n",
       "      <td>Bs.As. G.B.A. Zona Norte</td>\n",
       "      <td>|Argentina|Bs.As. G.B.A. Zona Norte|</td>\n",
       "      <td>Bs.As. G.B.A. Zona Norte</td>\n",
       "      <td>Importante Casa en Venta en Campana Centro. 3 ...</td>\n",
       "      <td>Excelente Casa en venta en Campana Centro. Zon...</td>\n",
       "      <td>NaN</td>\n",
       "    </tr>\n",
       "    <tr>\n",
       "      <th>118326</th>\n",
       "      <td>3435907.0</td>\n",
       "      <td>Bs.As. G.B.A. Zona Norte</td>\n",
       "      <td>|Argentina|Bs.As. G.B.A. Zona Norte|</td>\n",
       "      <td>Bs.As. G.B.A. Zona Norte</td>\n",
       "      <td>Departamento - Cardales Village</td>\n",
       "      <td>Departamento en Terrazas Cardales en venta, de...</td>\n",
       "      <td>NaN</td>\n",
       "    </tr>\n",
       "    <tr>\n",
       "      <th>118493</th>\n",
       "      <td>3435907.0</td>\n",
       "      <td>Bs.As. G.B.A. Zona Norte</td>\n",
       "      <td>|Argentina|Bs.As. G.B.A. Zona Norte|</td>\n",
       "      <td>Bs.As. G.B.A. Zona Norte</td>\n",
       "      <td>Local - Jose Clemente Paz</td>\n",
       "      <td>VENTA IMPORTANTE LOCAL COMERCIAL CON FRENTE A ...</td>\n",
       "      <td>NaN</td>\n",
       "    </tr>\n",
       "    <tr>\n",
       "      <th>118819</th>\n",
       "      <td>3435907.0</td>\n",
       "      <td>Bs.As. G.B.A. Zona Norte</td>\n",
       "      <td>|Argentina|Bs.As. G.B.A. Zona Norte|</td>\n",
       "      <td>Bs.As. G.B.A. Zona Norte</td>\n",
       "      <td>Departamento en Venta en Campana Centro. 4 dor...</td>\n",
       "      <td>El departamento consta de living comedor, coci...</td>\n",
       "      <td>NaN</td>\n",
       "    </tr>\n",
       "    <tr>\n",
       "      <th>121141</th>\n",
       "      <td>3435907.0</td>\n",
       "      <td>Bs.As. G.B.A. Zona Norte</td>\n",
       "      <td>|Argentina|Bs.As. G.B.A. Zona Norte|</td>\n",
       "      <td>Bs.As. G.B.A. Zona Norte</td>\n",
       "      <td>Excelente CASA a ESTRENAR APTA CREDITO - La Re...</td>\n",
       "      <td>RUCA INMUEBLES - 011-15- / 011- -  -  CASA a E...</td>\n",
       "      <td>NaN</td>\n",
       "    </tr>\n",
       "  </tbody>\n",
       "</table>\n",
       "<p>444 rows × 7 columns</p>\n",
       "</div>"
      ],
      "text/plain": [
       "        geonames_id                place_name  \\\n",
       "125       3435907.0    Bs.As. G.B.A. Zona Sur   \n",
       "433       3435907.0     Buenos Aires Interior   \n",
       "664       3435907.0     Buenos Aires Interior   \n",
       "897       3435907.0     Buenos Aires Interior   \n",
       "1022      3435907.0     Buenos Aires Interior   \n",
       "...             ...                       ...   \n",
       "117729    3435907.0  Bs.As. G.B.A. Zona Norte   \n",
       "118326    3435907.0  Bs.As. G.B.A. Zona Norte   \n",
       "118493    3435907.0  Bs.As. G.B.A. Zona Norte   \n",
       "118819    3435907.0  Bs.As. G.B.A. Zona Norte   \n",
       "121141    3435907.0  Bs.As. G.B.A. Zona Norte   \n",
       "\n",
       "                     place_with_parent_names                state_name  \\\n",
       "125       |Argentina|Bs.As. G.B.A. Zona Sur|    Bs.As. G.B.A. Zona Sur   \n",
       "433        |Argentina|Buenos Aires Interior|     Buenos Aires Interior   \n",
       "664        |Argentina|Buenos Aires Interior|     Buenos Aires Interior   \n",
       "897        |Argentina|Buenos Aires Interior|     Buenos Aires Interior   \n",
       "1022       |Argentina|Buenos Aires Interior|     Buenos Aires Interior   \n",
       "...                                      ...                       ...   \n",
       "117729  |Argentina|Bs.As. G.B.A. Zona Norte|  Bs.As. G.B.A. Zona Norte   \n",
       "118326  |Argentina|Bs.As. G.B.A. Zona Norte|  Bs.As. G.B.A. Zona Norte   \n",
       "118493  |Argentina|Bs.As. G.B.A. Zona Norte|  Bs.As. G.B.A. Zona Norte   \n",
       "118819  |Argentina|Bs.As. G.B.A. Zona Norte|  Bs.As. G.B.A. Zona Norte   \n",
       "121141  |Argentina|Bs.As. G.B.A. Zona Norte|  Bs.As. G.B.A. Zona Norte   \n",
       "\n",
       "                                                    title  \\\n",
       "125                                              RUGGIERI   \n",
       "433     Casa de 3 dormitorios con dependencia en Estan...   \n",
       "664     [B.I 0527] VILLA GESELL - FRENTE AL MAR, DEPAR...   \n",
       "897      BENQUERENCIA EXC CHACRA UBICACIÓN Y CONSTRUCCIÓN   \n",
       "1022                       CASA EN VENTA FLORENCIO VARELA   \n",
       "...                                                   ...   \n",
       "117729  Importante Casa en Venta en Campana Centro. 3 ...   \n",
       "118326                    Departamento - Cardales Village   \n",
       "118493                          Local - Jose Clemente Paz   \n",
       "118819  Departamento en Venta en Campana Centro. 4 dor...   \n",
       "121141  Excelente CASA a ESTRENAR APTA CREDITO - La Re...   \n",
       "\n",
       "                                              description        lat  \n",
       "125     CODIGO: 438-12112 ubicado en: test de prueba -... -38.416097  \n",
       "433     CODIGO: 157-AW23557 ubicado en: La Pionera -  ... -38.416097  \n",
       "664     CODIGO:  ubicado en: [B.I 0527] VILLA GESELL -... -38.416097  \n",
       "897     Corredor Responsable: Ramiro Cappelloni - C.M....        NaN  \n",
       "1022    CODIGO: 3836-789 ubicado en: Republica de Urug... -38.416097  \n",
       "...                                                   ...        ...  \n",
       "117729  Excelente Casa en venta en Campana Centro. Zon...        NaN  \n",
       "118326  Departamento en Terrazas Cardales en venta, de...        NaN  \n",
       "118493  VENTA IMPORTANTE LOCAL COMERCIAL CON FRENTE A ...        NaN  \n",
       "118819  El departamento consta de living comedor, coci...        NaN  \n",
       "121141  RUCA INMUEBLES - 011-15- / 011- -  -  CASA a E...        NaN  \n",
       "\n",
       "[444 rows x 7 columns]"
      ]
     },
     "execution_count": 26,
     "metadata": {},
     "output_type": "execute_result"
    }
   ],
   "source": [
    "#buenos aires\n",
    "mask_3435907 = data[\"geonames_id\"] == 3435907.0\n",
    "data_3435907 = data.loc[mask_3435907,[\"geonames_id\",\"place_name\",\"place_with_parent_names\",\"state_name\",\"title\",\"description\",\"lat\"]]\n",
    "data_3435907"
   ]
  },
  {
   "cell_type": "markdown",
   "metadata": {},
   "source": [
    "Vemos que son 444 registros que pertenecen a la provincia de BSAS, de los que no podemos inferir una localidad fácilmente (no habría un patrón claro para diseñar una expresión regular para *title* o *description*). Sin embargo los dejamos porque a la hora de predecir el precio podríamos hacerlo al nivel de *state_name*."
   ]
  },
  {
   "cell_type": "markdown",
   "metadata": {},
   "source": [
    "Lo que decidimos hacer es asignarles un *place_name* nuevo que refiera a sin identificar:"
   ]
  },
  {
   "cell_type": "code",
   "execution_count": 27,
   "metadata": {},
   "outputs": [],
   "source": [
    "data.loc[mask_3435907,\"place_name_new\"] = \"Sin Identificar\""
   ]
  },
  {
   "cell_type": "markdown",
   "metadata": {},
   "source": [
    "Verificamos el cambio:"
   ]
  },
  {
   "cell_type": "code",
   "execution_count": 28,
   "metadata": {},
   "outputs": [
    {
     "data": {
      "text/html": [
       "<div>\n",
       "<style scoped>\n",
       "    .dataframe tbody tr th:only-of-type {\n",
       "        vertical-align: middle;\n",
       "    }\n",
       "\n",
       "    .dataframe tbody tr th {\n",
       "        vertical-align: top;\n",
       "    }\n",
       "\n",
       "    .dataframe thead th {\n",
       "        text-align: right;\n",
       "    }\n",
       "</style>\n",
       "<table border=\"1\" class=\"dataframe\">\n",
       "  <thead>\n",
       "    <tr style=\"text-align: right;\">\n",
       "      <th></th>\n",
       "      <th>geonames_id</th>\n",
       "      <th>place_name</th>\n",
       "      <th>place_name_new</th>\n",
       "    </tr>\n",
       "  </thead>\n",
       "  <tbody>\n",
       "    <tr>\n",
       "      <th>125</th>\n",
       "      <td>3435907.0</td>\n",
       "      <td>Bs.As. G.B.A. Zona Sur</td>\n",
       "      <td>Sin Identificar</td>\n",
       "    </tr>\n",
       "    <tr>\n",
       "      <th>433</th>\n",
       "      <td>3435907.0</td>\n",
       "      <td>Buenos Aires Interior</td>\n",
       "      <td>Sin Identificar</td>\n",
       "    </tr>\n",
       "    <tr>\n",
       "      <th>664</th>\n",
       "      <td>3435907.0</td>\n",
       "      <td>Buenos Aires Interior</td>\n",
       "      <td>Sin Identificar</td>\n",
       "    </tr>\n",
       "    <tr>\n",
       "      <th>897</th>\n",
       "      <td>3435907.0</td>\n",
       "      <td>Buenos Aires Interior</td>\n",
       "      <td>Sin Identificar</td>\n",
       "    </tr>\n",
       "    <tr>\n",
       "      <th>1022</th>\n",
       "      <td>3435907.0</td>\n",
       "      <td>Buenos Aires Interior</td>\n",
       "      <td>Sin Identificar</td>\n",
       "    </tr>\n",
       "    <tr>\n",
       "      <th>...</th>\n",
       "      <td>...</td>\n",
       "      <td>...</td>\n",
       "      <td>...</td>\n",
       "    </tr>\n",
       "    <tr>\n",
       "      <th>117729</th>\n",
       "      <td>3435907.0</td>\n",
       "      <td>Bs.As. G.B.A. Zona Norte</td>\n",
       "      <td>Sin Identificar</td>\n",
       "    </tr>\n",
       "    <tr>\n",
       "      <th>118326</th>\n",
       "      <td>3435907.0</td>\n",
       "      <td>Bs.As. G.B.A. Zona Norte</td>\n",
       "      <td>Sin Identificar</td>\n",
       "    </tr>\n",
       "    <tr>\n",
       "      <th>118493</th>\n",
       "      <td>3435907.0</td>\n",
       "      <td>Bs.As. G.B.A. Zona Norte</td>\n",
       "      <td>Sin Identificar</td>\n",
       "    </tr>\n",
       "    <tr>\n",
       "      <th>118819</th>\n",
       "      <td>3435907.0</td>\n",
       "      <td>Bs.As. G.B.A. Zona Norte</td>\n",
       "      <td>Sin Identificar</td>\n",
       "    </tr>\n",
       "    <tr>\n",
       "      <th>121141</th>\n",
       "      <td>3435907.0</td>\n",
       "      <td>Bs.As. G.B.A. Zona Norte</td>\n",
       "      <td>Sin Identificar</td>\n",
       "    </tr>\n",
       "  </tbody>\n",
       "</table>\n",
       "<p>444 rows × 3 columns</p>\n",
       "</div>"
      ],
      "text/plain": [
       "        geonames_id                place_name   place_name_new\n",
       "125       3435907.0    Bs.As. G.B.A. Zona Sur  Sin Identificar\n",
       "433       3435907.0     Buenos Aires Interior  Sin Identificar\n",
       "664       3435907.0     Buenos Aires Interior  Sin Identificar\n",
       "897       3435907.0     Buenos Aires Interior  Sin Identificar\n",
       "1022      3435907.0     Buenos Aires Interior  Sin Identificar\n",
       "...             ...                       ...              ...\n",
       "117729    3435907.0  Bs.As. G.B.A. Zona Norte  Sin Identificar\n",
       "118326    3435907.0  Bs.As. G.B.A. Zona Norte  Sin Identificar\n",
       "118493    3435907.0  Bs.As. G.B.A. Zona Norte  Sin Identificar\n",
       "118819    3435907.0  Bs.As. G.B.A. Zona Norte  Sin Identificar\n",
       "121141    3435907.0  Bs.As. G.B.A. Zona Norte  Sin Identificar\n",
       "\n",
       "[444 rows x 3 columns]"
      ]
     },
     "execution_count": 28,
     "metadata": {},
     "output_type": "execute_result"
    }
   ],
   "source": [
    "data.loc[mask_3435907,[\"geonames_id\",\"place_name\",\"place_name_new\"]]"
   ]
  },
  {
   "cell_type": "code",
   "execution_count": 29,
   "metadata": {},
   "outputs": [
    {
     "data": {
      "text/html": [
       "<div>\n",
       "<style scoped>\n",
       "    .dataframe tbody tr th:only-of-type {\n",
       "        vertical-align: middle;\n",
       "    }\n",
       "\n",
       "    .dataframe tbody tr th {\n",
       "        vertical-align: top;\n",
       "    }\n",
       "\n",
       "    .dataframe thead th {\n",
       "        text-align: right;\n",
       "    }\n",
       "</style>\n",
       "<table border=\"1\" class=\"dataframe\">\n",
       "  <thead>\n",
       "    <tr style=\"text-align: right;\">\n",
       "      <th></th>\n",
       "      <th>geonames_id</th>\n",
       "      <th>place_name</th>\n",
       "      <th>place_with_parent_names</th>\n",
       "      <th>state_name</th>\n",
       "      <th>title</th>\n",
       "      <th>description</th>\n",
       "      <th>lat</th>\n",
       "      <th>lon</th>\n",
       "    </tr>\n",
       "  </thead>\n",
       "  <tbody>\n",
       "    <tr>\n",
       "      <th>4</th>\n",
       "      <td>3435548.0</td>\n",
       "      <td>Centro</td>\n",
       "      <td>|Argentina|Buenos Aires Costa Atlántica|Mar de...</td>\n",
       "      <td>Buenos Aires Costa Atlántica</td>\n",
       "      <td>DEPTO 2 AMB AL CONTRAFRENTE ZONA CENTRO/PLAZA ...</td>\n",
       "      <td>DEPARTAMENTO CON FANTÁSTICA ILUMINACIÓN NATURA...</td>\n",
       "      <td>-38.002626</td>\n",
       "      <td>-57.549447</td>\n",
       "    </tr>\n",
       "    <tr>\n",
       "      <th>1539</th>\n",
       "      <td>3435548.0</td>\n",
       "      <td>Centro / Microcentro</td>\n",
       "      <td>|Argentina|Capital Federal|Centro / Microcentro|</td>\n",
       "      <td>Capital Federal</td>\n",
       "      <td>Departamento a la Venta en Microcentro</td>\n",
       "      <td>Corredor Responsable: Ricardo Demichelli - CUC...</td>\n",
       "      <td>-34.598825</td>\n",
       "      <td>-58.371456</td>\n",
       "    </tr>\n",
       "    <tr>\n",
       "      <th>1649</th>\n",
       "      <td>3435548.0</td>\n",
       "      <td>Centro / Microcentro</td>\n",
       "      <td>|Argentina|Capital Federal|Centro / Microcentro|</td>\n",
       "      <td>Capital Federal</td>\n",
       "      <td>DEPARTAMENTO EN VENTA</td>\n",
       "      <td>Venta de Departamento MONOAMBIENTE en Centro /...</td>\n",
       "      <td>-34.603273</td>\n",
       "      <td>-58.396141</td>\n",
       "    </tr>\n",
       "    <tr>\n",
       "      <th>1657</th>\n",
       "      <td>3435548.0</td>\n",
       "      <td>Centro / Microcentro</td>\n",
       "      <td>|Argentina|Capital Federal|Centro / Microcentro|</td>\n",
       "      <td>Capital Federal</td>\n",
       "      <td>LOCAL EN VENTA</td>\n",
       "      <td>LOCALVenta y alquiler de Local  en Centro / Mi...</td>\n",
       "      <td>-34.599865</td>\n",
       "      <td>-58.375840</td>\n",
       "    </tr>\n",
       "    <tr>\n",
       "      <th>4299</th>\n",
       "      <td>3435548.0</td>\n",
       "      <td>Centro / Microcentro</td>\n",
       "      <td>|Argentina|Capital Federal|Centro / Microcentro|</td>\n",
       "      <td>Capital Federal</td>\n",
       "      <td>EXCELENTE LOCAL</td>\n",
       "      <td>El local forma parte de la \"Casa de estudios p...</td>\n",
       "      <td>-34.598051</td>\n",
       "      <td>-58.379729</td>\n",
       "    </tr>\n",
       "    <tr>\n",
       "      <th>...</th>\n",
       "      <td>...</td>\n",
       "      <td>...</td>\n",
       "      <td>...</td>\n",
       "      <td>...</td>\n",
       "      <td>...</td>\n",
       "      <td>...</td>\n",
       "      <td>...</td>\n",
       "      <td>...</td>\n",
       "    </tr>\n",
       "    <tr>\n",
       "      <th>117949</th>\n",
       "      <td>3435548.0</td>\n",
       "      <td>Centro</td>\n",
       "      <td>|Argentina|Buenos Aires Costa Atlántica|Mar de...</td>\n",
       "      <td>Buenos Aires Costa Atlántica</td>\n",
       "      <td>Departamento - Centro</td>\n",
       "      <td>Departamento 28m² con Gas Natural, Mar del Pla...</td>\n",
       "      <td>NaN</td>\n",
       "      <td>NaN</td>\n",
       "    </tr>\n",
       "    <tr>\n",
       "      <th>118139</th>\n",
       "      <td>3435548.0</td>\n",
       "      <td>Centro</td>\n",
       "      <td>|Argentina|Buenos Aires Costa Atlántica|Mar de...</td>\n",
       "      <td>Buenos Aires Costa Atlántica</td>\n",
       "      <td>Departamento - Centro</td>\n",
       "      <td>Excelente departamento ubicado en zona centro ...</td>\n",
       "      <td>NaN</td>\n",
       "      <td>NaN</td>\n",
       "    </tr>\n",
       "    <tr>\n",
       "      <th>118900</th>\n",
       "      <td>3435548.0</td>\n",
       "      <td>Centro</td>\n",
       "      <td>|Argentina|Buenos Aires Costa Atlántica|Mar de...</td>\n",
       "      <td>Buenos Aires Costa Atlántica</td>\n",
       "      <td>Departamento - Centro</td>\n",
       "      <td>Edificio FLORIDA 1. Piso alto, balcón francés....</td>\n",
       "      <td>NaN</td>\n",
       "      <td>NaN</td>\n",
       "    </tr>\n",
       "    <tr>\n",
       "      <th>119500</th>\n",
       "      <td>3435548.0</td>\n",
       "      <td>Centro</td>\n",
       "      <td>|Argentina|Buenos Aires Costa Atlántica|Mar de...</td>\n",
       "      <td>Buenos Aires Costa Atlántica</td>\n",
       "      <td>PH de 2 ambientes con patio, sin gastos de exp...</td>\n",
       "      <td>PH de 2 ambientes con posibilidad de ampliació...</td>\n",
       "      <td>-38.000113</td>\n",
       "      <td>-57.564401</td>\n",
       "    </tr>\n",
       "    <tr>\n",
       "      <th>119744</th>\n",
       "      <td>3435548.0</td>\n",
       "      <td>Centro / Microcentro</td>\n",
       "      <td>|Argentina|Capital Federal|Centro / Microcentro|</td>\n",
       "      <td>Capital Federal</td>\n",
       "      <td>Extraordinario Local en Plaza San Martín - ÚNICO</td>\n",
       "      <td>Corredor Responsable: Cristian Arnal Ponti - C...</td>\n",
       "      <td>-34.596671</td>\n",
       "      <td>-58.375490</td>\n",
       "    </tr>\n",
       "  </tbody>\n",
       "</table>\n",
       "<p>454 rows × 8 columns</p>\n",
       "</div>"
      ],
      "text/plain": [
       "        geonames_id            place_name  \\\n",
       "4         3435548.0                Centro   \n",
       "1539      3435548.0  Centro / Microcentro   \n",
       "1649      3435548.0  Centro / Microcentro   \n",
       "1657      3435548.0  Centro / Microcentro   \n",
       "4299      3435548.0  Centro / Microcentro   \n",
       "...             ...                   ...   \n",
       "117949    3435548.0                Centro   \n",
       "118139    3435548.0                Centro   \n",
       "118900    3435548.0                Centro   \n",
       "119500    3435548.0                Centro   \n",
       "119744    3435548.0  Centro / Microcentro   \n",
       "\n",
       "                                  place_with_parent_names  \\\n",
       "4       |Argentina|Buenos Aires Costa Atlántica|Mar de...   \n",
       "1539     |Argentina|Capital Federal|Centro / Microcentro|   \n",
       "1649     |Argentina|Capital Federal|Centro / Microcentro|   \n",
       "1657     |Argentina|Capital Federal|Centro / Microcentro|   \n",
       "4299     |Argentina|Capital Federal|Centro / Microcentro|   \n",
       "...                                                   ...   \n",
       "117949  |Argentina|Buenos Aires Costa Atlántica|Mar de...   \n",
       "118139  |Argentina|Buenos Aires Costa Atlántica|Mar de...   \n",
       "118900  |Argentina|Buenos Aires Costa Atlántica|Mar de...   \n",
       "119500  |Argentina|Buenos Aires Costa Atlántica|Mar de...   \n",
       "119744   |Argentina|Capital Federal|Centro / Microcentro|   \n",
       "\n",
       "                          state_name  \\\n",
       "4       Buenos Aires Costa Atlántica   \n",
       "1539                 Capital Federal   \n",
       "1649                 Capital Federal   \n",
       "1657                 Capital Federal   \n",
       "4299                 Capital Federal   \n",
       "...                              ...   \n",
       "117949  Buenos Aires Costa Atlántica   \n",
       "118139  Buenos Aires Costa Atlántica   \n",
       "118900  Buenos Aires Costa Atlántica   \n",
       "119500  Buenos Aires Costa Atlántica   \n",
       "119744               Capital Federal   \n",
       "\n",
       "                                                    title  \\\n",
       "4       DEPTO 2 AMB AL CONTRAFRENTE ZONA CENTRO/PLAZA ...   \n",
       "1539               Departamento a la Venta en Microcentro   \n",
       "1649                                DEPARTAMENTO EN VENTA   \n",
       "1657                                       LOCAL EN VENTA   \n",
       "4299                                     EXCELENTE LOCAL    \n",
       "...                                                   ...   \n",
       "117949                              Departamento - Centro   \n",
       "118139                              Departamento - Centro   \n",
       "118900                              Departamento - Centro   \n",
       "119500  PH de 2 ambientes con patio, sin gastos de exp...   \n",
       "119744   Extraordinario Local en Plaza San Martín - ÚNICO   \n",
       "\n",
       "                                              description        lat  \\\n",
       "4       DEPARTAMENTO CON FANTÁSTICA ILUMINACIÓN NATURA... -38.002626   \n",
       "1539    Corredor Responsable: Ricardo Demichelli - CUC... -34.598825   \n",
       "1649    Venta de Departamento MONOAMBIENTE en Centro /... -34.603273   \n",
       "1657    LOCALVenta y alquiler de Local  en Centro / Mi... -34.599865   \n",
       "4299    El local forma parte de la \"Casa de estudios p... -34.598051   \n",
       "...                                                   ...        ...   \n",
       "117949  Departamento 28m² con Gas Natural, Mar del Pla...        NaN   \n",
       "118139  Excelente departamento ubicado en zona centro ...        NaN   \n",
       "118900  Edificio FLORIDA 1. Piso alto, balcón francés....        NaN   \n",
       "119500  PH de 2 ambientes con posibilidad de ampliació... -38.000113   \n",
       "119744  Corredor Responsable: Cristian Arnal Ponti - C... -34.596671   \n",
       "\n",
       "              lon  \n",
       "4      -57.549447  \n",
       "1539   -58.371456  \n",
       "1649   -58.396141  \n",
       "1657   -58.375840  \n",
       "4299   -58.379729  \n",
       "...           ...  \n",
       "117949        NaN  \n",
       "118139        NaN  \n",
       "118900        NaN  \n",
       "119500 -57.564401  \n",
       "119744 -58.375490  \n",
       "\n",
       "[454 rows x 8 columns]"
      ]
     },
     "execution_count": 29,
     "metadata": {},
     "output_type": "execute_result"
    }
   ],
   "source": [
    "#costa atlántica/microcentro\n",
    "mask_3435548 = data[\"geonames_id\"] == 3435548.0\n",
    "data_3435548 = data.loc[mask_3435548,[\"geonames_id\",\"place_name\",\"place_with_parent_names\",\"state_name\",\"title\",\"description\",\"lat\",\"lon\"]]\n",
    "data_3435548"
   ]
  },
  {
   "cell_type": "markdown",
   "metadata": {},
   "source": [
    "Vemos que son 454 registros. Decidimos reemplazar el valor \"Centro / Microcentro\" por el barrio de San Nicolás, que es la región que comprende el microcentro en CABA. \n",
    "Al valor de \"Centro\" de Mar del Plata, le dejamos el ID que venía por defecto. "
   ]
  },
  {
   "cell_type": "code",
   "execution_count": 30,
   "metadata": {},
   "outputs": [],
   "source": [
    "data[\"place_name_new\"] = data[\"place_name_new\"].replace(\"Centro / Microcentro\", \"San Nicolás\")"
   ]
  },
  {
   "cell_type": "markdown",
   "metadata": {},
   "source": [
    "Le asignamos el ID que le corresponde según https://www.geonames.org/6693229/san-nicolas.html.\n",
    "\n",
    "* **Para eso, creamos una nueva columna de geonames_id_new.**"
   ]
  },
  {
   "cell_type": "code",
   "execution_count": 31,
   "metadata": {},
   "outputs": [
    {
     "data": {
      "text/html": [
       "<div>\n",
       "<style scoped>\n",
       "    .dataframe tbody tr th:only-of-type {\n",
       "        vertical-align: middle;\n",
       "    }\n",
       "\n",
       "    .dataframe tbody tr th {\n",
       "        vertical-align: top;\n",
       "    }\n",
       "\n",
       "    .dataframe thead th {\n",
       "        text-align: right;\n",
       "    }\n",
       "</style>\n",
       "<table border=\"1\" class=\"dataframe\">\n",
       "  <thead>\n",
       "    <tr style=\"text-align: right;\">\n",
       "      <th></th>\n",
       "      <th>place_name</th>\n",
       "      <th>geonames_id</th>\n",
       "      <th>place_name_new</th>\n",
       "      <th>geonames_id_new</th>\n",
       "    </tr>\n",
       "  </thead>\n",
       "  <tbody>\n",
       "    <tr>\n",
       "      <th>876</th>\n",
       "      <td>San Nicolás</td>\n",
       "      <td>6693229.0</td>\n",
       "      <td>San Nicolás</td>\n",
       "      <td>6693229.0</td>\n",
       "    </tr>\n",
       "    <tr>\n",
       "      <th>1539</th>\n",
       "      <td>Centro / Microcentro</td>\n",
       "      <td>3435548.0</td>\n",
       "      <td>San Nicolás</td>\n",
       "      <td>6693229.0</td>\n",
       "    </tr>\n",
       "    <tr>\n",
       "      <th>1649</th>\n",
       "      <td>Centro / Microcentro</td>\n",
       "      <td>3435548.0</td>\n",
       "      <td>San Nicolás</td>\n",
       "      <td>6693229.0</td>\n",
       "    </tr>\n",
       "    <tr>\n",
       "      <th>1657</th>\n",
       "      <td>Centro / Microcentro</td>\n",
       "      <td>3435548.0</td>\n",
       "      <td>San Nicolás</td>\n",
       "      <td>6693229.0</td>\n",
       "    </tr>\n",
       "    <tr>\n",
       "      <th>2841</th>\n",
       "      <td>San Nicolás</td>\n",
       "      <td>6693229.0</td>\n",
       "      <td>San Nicolás</td>\n",
       "      <td>6693229.0</td>\n",
       "    </tr>\n",
       "    <tr>\n",
       "      <th>...</th>\n",
       "      <td>...</td>\n",
       "      <td>...</td>\n",
       "      <td>...</td>\n",
       "      <td>...</td>\n",
       "    </tr>\n",
       "    <tr>\n",
       "      <th>117158</th>\n",
       "      <td>San Nicolás</td>\n",
       "      <td>6693229.0</td>\n",
       "      <td>San Nicolás</td>\n",
       "      <td>6693229.0</td>\n",
       "    </tr>\n",
       "    <tr>\n",
       "      <th>118719</th>\n",
       "      <td>San Nicolás</td>\n",
       "      <td>6693229.0</td>\n",
       "      <td>San Nicolás</td>\n",
       "      <td>6693229.0</td>\n",
       "    </tr>\n",
       "    <tr>\n",
       "      <th>119319</th>\n",
       "      <td>San Nicolás</td>\n",
       "      <td>6693229.0</td>\n",
       "      <td>San Nicolás</td>\n",
       "      <td>6693229.0</td>\n",
       "    </tr>\n",
       "    <tr>\n",
       "      <th>119744</th>\n",
       "      <td>Centro / Microcentro</td>\n",
       "      <td>3435548.0</td>\n",
       "      <td>San Nicolás</td>\n",
       "      <td>6693229.0</td>\n",
       "    </tr>\n",
       "    <tr>\n",
       "      <th>119874</th>\n",
       "      <td>San Nicolás</td>\n",
       "      <td>6693229.0</td>\n",
       "      <td>San Nicolás</td>\n",
       "      <td>6693229.0</td>\n",
       "    </tr>\n",
       "  </tbody>\n",
       "</table>\n",
       "<p>410 rows × 4 columns</p>\n",
       "</div>"
      ],
      "text/plain": [
       "                  place_name  geonames_id place_name_new  geonames_id_new\n",
       "876              San Nicolás    6693229.0    San Nicolás        6693229.0\n",
       "1539    Centro / Microcentro    3435548.0    San Nicolás        6693229.0\n",
       "1649    Centro / Microcentro    3435548.0    San Nicolás        6693229.0\n",
       "1657    Centro / Microcentro    3435548.0    San Nicolás        6693229.0\n",
       "2841             San Nicolás    6693229.0    San Nicolás        6693229.0\n",
       "...                      ...          ...            ...              ...\n",
       "117158           San Nicolás    6693229.0    San Nicolás        6693229.0\n",
       "118719           San Nicolás    6693229.0    San Nicolás        6693229.0\n",
       "119319           San Nicolás    6693229.0    San Nicolás        6693229.0\n",
       "119744  Centro / Microcentro    3435548.0    San Nicolás        6693229.0\n",
       "119874           San Nicolás    6693229.0    San Nicolás        6693229.0\n",
       "\n",
       "[410 rows x 4 columns]"
      ]
     },
     "execution_count": 31,
     "metadata": {},
     "output_type": "execute_result"
    }
   ],
   "source": [
    "data[\"geonames_id_new\"] = data[\"geonames_id\"]\n",
    "mask_san_nicolas = data[\"place_name_new\"] == \"San Nicolás\"\n",
    "data.loc[mask_san_nicolas,\"geonames_id_new\"] = 6693229.0\n",
    "\n",
    "data.loc[mask_san_nicolas, [\"place_name\",\"geonames_id\"\n",
    "                            ,\"place_name_new\",\"geonames_id_new\"]]"
   ]
  },
  {
   "cell_type": "markdown",
   "metadata": {},
   "source": [
    "✔️ Comprobamos que ya no hay dos valores de *place_name* por id:"
   ]
  },
  {
   "cell_type": "code",
   "execution_count": 32,
   "metadata": {},
   "outputs": [
    {
     "name": "stdout",
     "output_type": "stream",
     "text": [
      "Series([], Name: place_name, dtype: int64)\n",
      "Cantidad geo ids con más de una localidad:  0\n"
     ]
    }
   ],
   "source": [
    "place_name_by_id_new = data.groupby([\"geonames_id_new\"])[\"place_name_new\"].nunique().sort_values(ascending = False)\n",
    "mask_place_name_new_by_id = place_name_by_id_new > 1\n",
    "id_multi_place_name_new = place_name_by_id[mask_place_name_new_by_id]\n",
    "print(id_multi_place_name_new)\n",
    "print(\"Cantidad geo ids con más de una localidad: \", len(place_name_by_id_new[mask_place_name_new_by_id]))"
   ]
  },
  {
   "cell_type": "markdown",
   "metadata": {},
   "source": [
    "---"
   ]
  },
  {
   "cell_type": "markdown",
   "metadata": {},
   "source": [
    "A continuación hacemos el mismo análisis pero con *state_name*, y en este caso hay 4 geo ids con más de un valor asociado (valores diferentes, lo que indicaría que se trata de un error)."
   ]
  },
  {
   "cell_type": "code",
   "execution_count": 33,
   "metadata": {},
   "outputs": [],
   "source": [
    "# se crea una nueva state_name_new, que aunque no se utilizará ahora, se integrara al dataset final posteriormente.\n",
    "data['state_name_new'] = data.state_name"
   ]
  },
  {
   "cell_type": "code",
   "execution_count": 34,
   "metadata": {},
   "outputs": [
    {
     "name": "stdout",
     "output_type": "stream",
     "text": [
      "geonames_id\n",
      "3435907.0    5\n",
      "3845073.0    2\n",
      "3435024.0    2\n",
      "3435548.0    2\n",
      "Name: state_name, dtype: int64\n",
      "Cantidad geo ids con más de una state:  4\n"
     ]
    }
   ],
   "source": [
    "state_name_by_id = data_geonames_notnull.groupby([\"geonames_id\"])[\"state_name\"].nunique().sort_values(ascending = False)\n",
    "state_name_by_id\n",
    "mask_state_name_by_id = state_name_by_id > 1\n",
    "id_multi_state_name = state_name_by_id[mask_state_name_by_id]\n",
    "print(id_multi_state_name)\n",
    "print(\"Cantidad geo ids con más de una state: \", len(state_name_by_id[mask_state_name_by_id]))"
   ]
  },
  {
   "cell_type": "code",
   "execution_count": 35,
   "metadata": {},
   "outputs": [],
   "source": [
    "indices2 = id_multi_state_name.index #nos quedamos con los índices para crear una máscara\n",
    "mask_indices2 = data_geonames_notnull[\"geonames_id\"].isin(indices2)\n",
    "data_geonames_multi_state = data_geonames_notnull.loc[mask_indices2]"
   ]
  },
  {
   "cell_type": "code",
   "execution_count": 36,
   "metadata": {},
   "outputs": [
    {
     "data": {
      "text/html": [
       "<div>\n",
       "<style scoped>\n",
       "    .dataframe tbody tr th:only-of-type {\n",
       "        vertical-align: middle;\n",
       "    }\n",
       "\n",
       "    .dataframe tbody tr th {\n",
       "        vertical-align: top;\n",
       "    }\n",
       "\n",
       "    .dataframe thead th {\n",
       "        text-align: right;\n",
       "    }\n",
       "</style>\n",
       "<table border=\"1\" class=\"dataframe\">\n",
       "  <thead>\n",
       "    <tr style=\"text-align: right;\">\n",
       "      <th></th>\n",
       "      <th>geonames_id</th>\n",
       "      <th>place_name</th>\n",
       "      <th>state_name</th>\n",
       "      <th>place_with_parent_names</th>\n",
       "    </tr>\n",
       "  </thead>\n",
       "  <tbody>\n",
       "    <tr>\n",
       "      <th>0</th>\n",
       "      <td>3435024.0</td>\n",
       "      <td>[Don Bosco]</td>\n",
       "      <td>[Bs.As. G.B.A. Zona Sur, Buenos Aires Costa At...</td>\n",
       "      <td>[|Argentina|Bs.As. G.B.A. Zona Sur|Quilmes|Don...</td>\n",
       "    </tr>\n",
       "    <tr>\n",
       "      <th>1</th>\n",
       "      <td>3435548.0</td>\n",
       "      <td>[Centro, Centro / Microcentro]</td>\n",
       "      <td>[Buenos Aires Costa Atlántica, Capital Federal]</td>\n",
       "      <td>[|Argentina|Buenos Aires Costa Atlántica|Mar d...</td>\n",
       "    </tr>\n",
       "    <tr>\n",
       "      <th>2</th>\n",
       "      <td>3435907.0</td>\n",
       "      <td>[Bs.As. G.B.A. Zona Sur, Buenos Aires Interior...</td>\n",
       "      <td>[Bs.As. G.B.A. Zona Sur, Buenos Aires Interior...</td>\n",
       "      <td>[|Argentina|Bs.As. G.B.A. Zona Sur|, |Argentin...</td>\n",
       "    </tr>\n",
       "    <tr>\n",
       "      <th>3</th>\n",
       "      <td>3845073.0</td>\n",
       "      <td>[Malvinas Argentinas]</td>\n",
       "      <td>[Bs.As. G.B.A. Zona Sur, Córdoba]</td>\n",
       "      <td>[|Argentina|Bs.As. G.B.A. Zona Sur|Almirante B...</td>\n",
       "    </tr>\n",
       "  </tbody>\n",
       "</table>\n",
       "</div>"
      ],
      "text/plain": [
       "   geonames_id                                         place_name  \\\n",
       "0    3435024.0                                        [Don Bosco]   \n",
       "1    3435548.0                     [Centro, Centro / Microcentro]   \n",
       "2    3435907.0  [Bs.As. G.B.A. Zona Sur, Buenos Aires Interior...   \n",
       "3    3845073.0                              [Malvinas Argentinas]   \n",
       "\n",
       "                                          state_name  \\\n",
       "0  [Bs.As. G.B.A. Zona Sur, Buenos Aires Costa At...   \n",
       "1    [Buenos Aires Costa Atlántica, Capital Federal]   \n",
       "2  [Bs.As. G.B.A. Zona Sur, Buenos Aires Interior...   \n",
       "3                  [Bs.As. G.B.A. Zona Sur, Córdoba]   \n",
       "\n",
       "                             place_with_parent_names  \n",
       "0  [|Argentina|Bs.As. G.B.A. Zona Sur|Quilmes|Don...  \n",
       "1  [|Argentina|Buenos Aires Costa Atlántica|Mar d...  \n",
       "2  [|Argentina|Bs.As. G.B.A. Zona Sur|, |Argentin...  \n",
       "3  [|Argentina|Bs.As. G.B.A. Zona Sur|Almirante B...  "
      ]
     },
     "execution_count": 36,
     "metadata": {},
     "output_type": "execute_result"
    }
   ],
   "source": [
    "state_by_id_values = data_geonames_multi_state.groupby(\"geonames_id\").agg({'place_name':'unique','state_name': 'unique', 'place_with_parent_names': 'unique'}).reset_index()\n",
    "state_by_id_values\n"
   ]
  },
  {
   "cell_type": "markdown",
   "metadata": {},
   "source": [
    "En la salida anterior vemos que dos casos ya estarían normalizados en las columnas *nuevas place_name_new* y *geonames_id_new* según los pasos anteriores ya que se trataba de casos de valores de place_name distintos.\n",
    "\n",
    "Sin embargo nos quedan dos ID's en los que hay 2 localidades diferentes bajo un mismo nombre de *place_name*.\n",
    "Podemos saber que son distintas porque pertenecen a distintos state.\n",
    "\n",
    "\n",
    "\n",
    "Procedemos a normalizar esto. Buscamos los ID correctos para cada localidad, según https://www.geonames.org/\n",
    "\n",
    "1. Don Bosco - Quilmes: 3435024.0 (es el ID por default en la base. No lo modificamos)\n",
    "2. Don Bosco - Costa Atlántica: No se encuentra ID. Le asignamos el *geoname_id* y de *place_name* de \"Centro\" de \"Mar del Plata\", ya que es un barrio adyacente al centro.\n",
    "3. Malvinas Argentinas - GBA: 12663166.0\n",
    "4. Malvinas Argentinas - Córdoba: 3845073.0 (es el ID por default en la base. No lo modificamos)"
   ]
  },
  {
   "cell_type": "code",
   "execution_count": 37,
   "metadata": {},
   "outputs": [],
   "source": [
    "#don bosco costa atlántica\n",
    "mask_don_bosco = data[\"place_name_new\"] == \"Don Bosco\"\n",
    "mask_catlántica = data[\"state_name\"].str.contains(\"Costa\")\n",
    "mask_combined = mask_don_bosco & mask_catlántica"
   ]
  },
  {
   "cell_type": "code",
   "execution_count": 38,
   "metadata": {},
   "outputs": [
    {
     "data": {
      "text/html": [
       "<div>\n",
       "<style scoped>\n",
       "    .dataframe tbody tr th:only-of-type {\n",
       "        vertical-align: middle;\n",
       "    }\n",
       "\n",
       "    .dataframe tbody tr th {\n",
       "        vertical-align: top;\n",
       "    }\n",
       "\n",
       "    .dataframe thead th {\n",
       "        text-align: right;\n",
       "    }\n",
       "</style>\n",
       "<table border=\"1\" class=\"dataframe\">\n",
       "  <thead>\n",
       "    <tr style=\"text-align: right;\">\n",
       "      <th></th>\n",
       "      <th>place_name</th>\n",
       "      <th>geonames_id</th>\n",
       "      <th>state_name</th>\n",
       "      <th>place_name_new</th>\n",
       "      <th>geonames_id_new</th>\n",
       "    </tr>\n",
       "  </thead>\n",
       "  <tbody>\n",
       "    <tr>\n",
       "      <th>11277</th>\n",
       "      <td>Don Bosco</td>\n",
       "      <td>3435024.0</td>\n",
       "      <td>Buenos Aires Costa Atlántica</td>\n",
       "      <td>Don Bosco</td>\n",
       "      <td>3435548.0</td>\n",
       "    </tr>\n",
       "    <tr>\n",
       "      <th>12081</th>\n",
       "      <td>Don Bosco</td>\n",
       "      <td>3435024.0</td>\n",
       "      <td>Buenos Aires Costa Atlántica</td>\n",
       "      <td>Don Bosco</td>\n",
       "      <td>3435548.0</td>\n",
       "    </tr>\n",
       "    <tr>\n",
       "      <th>12086</th>\n",
       "      <td>Don Bosco</td>\n",
       "      <td>3435024.0</td>\n",
       "      <td>Buenos Aires Costa Atlántica</td>\n",
       "      <td>Don Bosco</td>\n",
       "      <td>3435548.0</td>\n",
       "    </tr>\n",
       "    <tr>\n",
       "      <th>12103</th>\n",
       "      <td>Don Bosco</td>\n",
       "      <td>3435024.0</td>\n",
       "      <td>Buenos Aires Costa Atlántica</td>\n",
       "      <td>Don Bosco</td>\n",
       "      <td>3435548.0</td>\n",
       "    </tr>\n",
       "  </tbody>\n",
       "</table>\n",
       "</div>"
      ],
      "text/plain": [
       "      place_name  geonames_id                    state_name place_name_new  \\\n",
       "11277  Don Bosco    3435024.0  Buenos Aires Costa Atlántica      Don Bosco   \n",
       "12081  Don Bosco    3435024.0  Buenos Aires Costa Atlántica      Don Bosco   \n",
       "12086  Don Bosco    3435024.0  Buenos Aires Costa Atlántica      Don Bosco   \n",
       "12103  Don Bosco    3435024.0  Buenos Aires Costa Atlántica      Don Bosco   \n",
       "\n",
       "       geonames_id_new  \n",
       "11277        3435548.0  \n",
       "12081        3435548.0  \n",
       "12086        3435548.0  \n",
       "12103        3435548.0  "
      ]
     },
     "execution_count": 38,
     "metadata": {},
     "output_type": "execute_result"
    }
   ],
   "source": [
    "#lo aplicamos al df original\n",
    "data.loc[mask_combined,\"geonames_id_new\"] = 3435548.0 #valor de centro de mdq\n",
    "data.loc[mask_combined, [\"place_name\",\"geonames_id\",\"state_name\"\n",
    "                            ,\"place_name_new\",\"geonames_id_new\"]]"
   ]
  },
  {
   "cell_type": "code",
   "execution_count": 39,
   "metadata": {},
   "outputs": [
    {
     "data": {
      "text/html": [
       "<div>\n",
       "<style scoped>\n",
       "    .dataframe tbody tr th:only-of-type {\n",
       "        vertical-align: middle;\n",
       "    }\n",
       "\n",
       "    .dataframe tbody tr th {\n",
       "        vertical-align: top;\n",
       "    }\n",
       "\n",
       "    .dataframe thead th {\n",
       "        text-align: right;\n",
       "    }\n",
       "</style>\n",
       "<table border=\"1\" class=\"dataframe\">\n",
       "  <thead>\n",
       "    <tr style=\"text-align: right;\">\n",
       "      <th></th>\n",
       "      <th>place_name</th>\n",
       "      <th>geonames_id</th>\n",
       "      <th>state_name</th>\n",
       "      <th>place_name_new</th>\n",
       "      <th>geonames_id_new</th>\n",
       "    </tr>\n",
       "  </thead>\n",
       "  <tbody>\n",
       "    <tr>\n",
       "      <th>67232</th>\n",
       "      <td>Malvinas Argentinas</td>\n",
       "      <td>3845073.0</td>\n",
       "      <td>Bs.As. G.B.A. Zona Sur</td>\n",
       "      <td>Malvinas Argentinas</td>\n",
       "      <td>12663166.0</td>\n",
       "    </tr>\n",
       "    <tr>\n",
       "      <th>89160</th>\n",
       "      <td>Malvinas Argentinas</td>\n",
       "      <td>3845073.0</td>\n",
       "      <td>Bs.As. G.B.A. Zona Sur</td>\n",
       "      <td>Malvinas Argentinas</td>\n",
       "      <td>12663166.0</td>\n",
       "    </tr>\n",
       "    <tr>\n",
       "      <th>102972</th>\n",
       "      <td>Malvinas Argentinas</td>\n",
       "      <td>3845073.0</td>\n",
       "      <td>Bs.As. G.B.A. Zona Sur</td>\n",
       "      <td>Malvinas Argentinas</td>\n",
       "      <td>12663166.0</td>\n",
       "    </tr>\n",
       "    <tr>\n",
       "      <th>102974</th>\n",
       "      <td>Malvinas Argentinas</td>\n",
       "      <td>3845073.0</td>\n",
       "      <td>Bs.As. G.B.A. Zona Sur</td>\n",
       "      <td>Malvinas Argentinas</td>\n",
       "      <td>12663166.0</td>\n",
       "    </tr>\n",
       "    <tr>\n",
       "      <th>114578</th>\n",
       "      <td>Malvinas Argentinas</td>\n",
       "      <td>3845073.0</td>\n",
       "      <td>Bs.As. G.B.A. Zona Sur</td>\n",
       "      <td>Malvinas Argentinas</td>\n",
       "      <td>12663166.0</td>\n",
       "    </tr>\n",
       "  </tbody>\n",
       "</table>\n",
       "</div>"
      ],
      "text/plain": [
       "                 place_name  geonames_id              state_name  \\\n",
       "67232   Malvinas Argentinas    3845073.0  Bs.As. G.B.A. Zona Sur   \n",
       "89160   Malvinas Argentinas    3845073.0  Bs.As. G.B.A. Zona Sur   \n",
       "102972  Malvinas Argentinas    3845073.0  Bs.As. G.B.A. Zona Sur   \n",
       "102974  Malvinas Argentinas    3845073.0  Bs.As. G.B.A. Zona Sur   \n",
       "114578  Malvinas Argentinas    3845073.0  Bs.As. G.B.A. Zona Sur   \n",
       "\n",
       "             place_name_new  geonames_id_new  \n",
       "67232   Malvinas Argentinas       12663166.0  \n",
       "89160   Malvinas Argentinas       12663166.0  \n",
       "102972  Malvinas Argentinas       12663166.0  \n",
       "102974  Malvinas Argentinas       12663166.0  \n",
       "114578  Malvinas Argentinas       12663166.0  "
      ]
     },
     "execution_count": 39,
     "metadata": {},
     "output_type": "execute_result"
    }
   ],
   "source": [
    "#malvinas argentinas GBA \n",
    "mask_malvinas = data[\"place_name_new\"] == \"Malvinas Argentinas\"\n",
    "mask_GBA = data[\"state_name\"].str.contains(\"Zona Sur\")\n",
    "mask_combined2 = mask_malvinas & mask_GBA\n",
    "\n",
    "data.loc[mask_combined2,\"geonames_id_new\"] = 12663166.0\n",
    "data.loc[mask_combined2, [\"place_name\",\"geonames_id\",\"state_name\"\n",
    "                            ,\"place_name_new\",\"geonames_id_new\"]]"
   ]
  },
  {
   "cell_type": "markdown",
   "metadata": {},
   "source": [
    "----"
   ]
  },
  {
   "cell_type": "markdown",
   "metadata": {},
   "source": [
    "Como comprobación extra, analizamos *place_with_parent_names*. Y obtenemos 40 ID's con más de un valor asociado."
   ]
  },
  {
   "cell_type": "code",
   "execution_count": 40,
   "metadata": {},
   "outputs": [
    {
     "name": "stdout",
     "output_type": "stream",
     "text": [
      "Cantidad geo ids con más de un valor:  40\n"
     ]
    }
   ],
   "source": [
    "placewpn_by_id = data_geonames_notnull.groupby([\"geonames_id\"])[\"place_with_parent_names\"].nunique().sort_values(ascending = False)\n",
    "mask_placewpn_by_id = placewpn_by_id > 1\n",
    "print(\"Cantidad geo ids con más de un valor: \", len(placewpn_by_id[mask_placewpn_by_id]))"
   ]
  },
  {
   "cell_type": "code",
   "execution_count": 41,
   "metadata": {},
   "outputs": [
    {
     "name": "stdout",
     "output_type": "stream",
     "text": [
      "['|Argentina|Bs.As. G.B.A. Zona Norte|San Isidro|Villa Adelina|', '|Argentina|Bs.As. G.B.A. Zona Norte|Vicente López|Villa Adelina|']\n",
      "['|Argentina|Buenos Aires Interior|Tandil|Tandil|', '|Argentina|Buenos Aires Interior|Tandil|']\n",
      "['|Argentina|Buenos Aires Interior|San Pedro|San Pedro|', '|Argentina|Buenos Aires Interior|San Pedro|']\n",
      "['|Argentina|Buenos Aires Interior|San Miguel del Monte|San Miguel del Monte|', '|Argentina|Buenos Aires Interior|San Miguel del Monte|']\n",
      "['|Argentina|Bs.As. G.B.A. Zona Sur|Lomas de Zamora|San José|', '|Argentina|Bs.As. G.B.A. Zona Sur|Almirante Brown|San Jose|']\n",
      "['|Argentina|Bs.As. G.B.A. Zona Norte|San Isidro|', '|Argentina|Bs.As. G.B.A. Zona Norte|San Isidro|San Isidro|']\n",
      "['|Argentina|Buenos Aires Interior|San Antonio de Areco|San Antonio de Areco|', '|Argentina|Buenos Aires Interior|San Antonio de Areco|']\n",
      "['|Argentina|Buenos Aires Interior|San Andrés de Giles|', '|Argentina|Buenos Aires Interior|San Andrés de Giles|San Andrés de Giles|']\n",
      "['|Argentina|Buenos Aires Interior|Roque Pérez|', '|Argentina|Buenos Aires Interior|Roque Pérez|Roque Pérez|']\n",
      "['|Argentina|Bs.As. G.B.A. Zona Sur|Quilmes|Quilmes|', '|Argentina|Bs.As. G.B.A. Zona Sur|Quilmes|']\n",
      "['|Argentina|Capital Federal|Palermo|Palermo Soho|', '|Argentina|Capital Federal|Palermo|']\n",
      "['|Argentina|Bs.As. G.B.A. Zona Oeste|Morón|', '|Argentina|Bs.As. G.B.A. Zona Oeste|Morón|Morón|']\n",
      "['|Argentina|Bs.As. G.B.A. Zona Oeste|Moreno|', '|Argentina|Bs.As. G.B.A. Zona Oeste|Moreno|Moreno|']\n",
      "['|Argentina|Buenos Aires Interior|Mercedes|', '|Argentina|Buenos Aires Interior|Mercedes|Mercedes|']\n",
      "['|Argentina|Bs.As. G.B.A. Zona Oeste|Marcos Paz|', '|Argentina|Bs.As. G.B.A. Zona Oeste|Marcos Paz|Marcos Paz|']\n",
      "['|Argentina|Buenos Aires Interior|Luján|', '|Argentina|Buenos Aires Interior|Luján|Luján|']\n",
      "['|Argentina|Buenos Aires Interior|Lobos|Lobos|', '|Argentina|Buenos Aires Interior|Lobos|']\n",
      "['|Argentina|Bs.As. G.B.A. Zona Sur|La Plata|', '|Argentina|Bs.As. G.B.A. Zona Sur|La Plata|La Plata|']\n",
      "['|Argentina|Bs.As. G.B.A. Zona Oeste|Ituzaingó|', '|Argentina|Bs.As. G.B.A. Zona Oeste|Ituzaingó|Villa Udaondo|', '|Argentina|Bs.As. G.B.A. Zona Oeste|Ituzaingó|Ituzaingó|']\n",
      "['|Argentina|Bs.As. G.B.A. Zona Oeste|Hurlingham|', '|Argentina|Bs.As. G.B.A. Zona Oeste|Hurlingham|Hurlingham|']\n",
      "['|Argentina|Bs.As. G.B.A. Zona Sur|Avellaneda|Gerli|', '|Argentina|Bs.As. G.B.A. Zona Sur|Lanús|Gerli|']\n",
      "['|Argentina|Bs.As. G.B.A. Zona Oeste|General Rodríguez|', '|Argentina|Bs.As. G.B.A. Zona Oeste|General Rodríguez|General Rodríguez|']\n",
      "['|Argentina|Buenos Aires Interior|General Belgrano|General Belgrano|', '|Argentina|Buenos Aires Interior|General Belgrano|']\n",
      "['|Argentina|Bs.As. G.B.A. Zona Sur|Ezeiza|', '|Argentina|Bs.As. G.B.A. Zona Sur|Ezeiza|Ezeiza|']\n",
      "['|Argentina|Buenos Aires Interior|Ensenada|Ensenada|', '|Argentina|Buenos Aires Interior|Ensenada|']\n",
      "['|Argentina|Bs.As. G.B.A. Zona Sur|Quilmes|Don Bosco|', '|Argentina|Buenos Aires Costa Atlántica|Mar del Plata|Don Bosco|']\n",
      "['|Argentina|Buenos Aires Costa Atlántica|Chapadmalal|', '|Argentina|Buenos Aires Costa Atlántica|Mar del Plata|Chapadmalal|']\n",
      "['|Argentina|Buenos Aires Costa Atlántica|Mar del Plata|Centro|', '|Argentina|Capital Federal|Centro / Microcentro|']\n",
      "['|Argentina|Buenos Aires Interior|Capitán Sarmiento|Capitán Sarmiento|', '|Argentina|Buenos Aires Interior|Capitán Sarmiento|']\n",
      "['|Argentina|Bs.As. G.B.A. Zona Sur|Cañuelas|Cañuelas|', '|Argentina|Bs.As. G.B.A. Zona Sur|Cañuelas|']\n",
      "['|Argentina|Bs.As. G.B.A. Zona Sur|Esteban Echeverría|Canning|', '|Argentina|Bs.As. G.B.A. Zona Sur|Ezeiza|Canning|']\n",
      "['|Argentina|Bs.As. G.B.A. Zona Sur|', '|Argentina|Buenos Aires Interior|', '|Argentina|Bs.As. G.B.A. Zona Oeste|', '|Argentina|Bs.As. G.B.A. Zona Norte|', '|Argentina|Buenos Aires Costa Atlántica|']\n",
      "['|Argentina|Bs.As. G.B.A. Zona Sur|Berazategui|', '|Argentina|Bs.As. G.B.A. Zona Sur|Berazategui|Berazategui|']\n",
      "['|Argentina|Buenos Aires Interior|Balcarce|', '|Argentina|Buenos Aires Interior|Balcarce|Balcarce|']\n",
      "['|Argentina|Bs.As. G.B.A. Zona Sur|Avellaneda|Avellaneda|', '|Argentina|Bs.As. G.B.A. Zona Sur|Avellaneda|']\n",
      "['|Argentina|Buenos Aires Interior|Trenque Lauquen|Trenque Lauquen|', '|Argentina|Buenos Aires Interior|Trenque Lauquen|']\n",
      "['|Argentina|Río Negro|San Carlos de Bariloche|San Carlos de Bariloche|', '|Argentina|Río Negro|San Carlos de Bariloche|']\n",
      "['|Argentina|Bs.As. G.B.A. Zona Sur|Almirante Brown|Malvinas Argentinas|', '|Argentina|Córdoba|Malvinas Argentinas|']\n",
      "['|Argentina|Buenos Aires Interior|Coronel Suárez|Coronel Suárez|', '|Argentina|Buenos Aires Interior|Coronel Suárez|']\n",
      "['|Argentina|Buenos Aires Interior|Carlos Casares|', '|Argentina|Buenos Aires Interior|Carlos Casares|Carlos Casares|']\n"
     ]
    }
   ],
   "source": [
    "pwpn_by_id_values = data.groupby([\"geonames_id\"])[\"place_with_parent_names\"].unique().agg(list)\n",
    "id_multi_localidad2 = pwpn_by_id_values.loc[mask_placewpn_by_id]\n",
    "for geo_id in id_multi_localidad2:\n",
    "       print (geo_id)"
   ]
  },
  {
   "cell_type": "markdown",
   "metadata": {},
   "source": [
    "Al comparar los elementos de las 40 listas entre sí, vemos que en realidad refieren a la misma localidad*\n",
    "\n",
    "\n",
    "Hay 4 excepciones:\n",
    "1. Don Bosco\n",
    "2. Centro y Microcentro\n",
    "3. Malvinas Argentinas\n",
    "4. Los barrios sin especificar dentro de Provincia de bsas\n",
    "\n",
    "Estas 4 excepciones fueron las que normalizamos en las otras dos columnas previamente.\n",
    "\n",
    "📌 **Con lo cual, con *place_name* más *state_name* es suficiente para identificar cada localidad, y podemos prescindir de *place_with_parent_names* para construir el modelo.**\n",
    "\n",
    "*San José pertenece a Alte. Brown y a Lomas de Zamora\n",
    "Gerli pertenece a Avellaneda y a Lanús."
   ]
  },
  {
   "cell_type": "markdown",
   "metadata": {},
   "source": [
    "----"
   ]
  },
  {
   "cell_type": "markdown",
   "metadata": {},
   "source": [
    "Nos quedaría hacer una última comprobación, que es ver si existen localidades asociadas a más de un ID (es decir la relación inversa a las anteriores). Vemos que hay 32 barrios que están asociados a más de un geo ID."
   ]
  },
  {
   "cell_type": "code",
   "execution_count": 42,
   "metadata": {},
   "outputs": [
    {
     "name": "stdout",
     "output_type": "stream",
     "text": [
      "place_name\n",
      "San Vicente            3\n",
      "Santa Fe               2\n",
      "La Rioja               2\n",
      "Córdoba                2\n",
      "San Lorenzo            2\n",
      "San Justo              2\n",
      "San Juan               2\n",
      "San José               2\n",
      "La Paz                 2\n",
      "San Javier             2\n",
      "Villa Nueva            2\n",
      "Avellaneda             2\n",
      "Merlo                  2\n",
      "San Luis               2\n",
      "Mendoza                2\n",
      "Bella Vista            2\n",
      "Villa Elisa            2\n",
      "Salta                  2\n",
      "Rawson                 2\n",
      "Caseros                2\n",
      "Victoria               2\n",
      "Rivadavia              2\n",
      "Neuquén                2\n",
      "Miramar                2\n",
      "Veinticinco de Mayo    2\n",
      "Corrientes             2\n",
      "Villa Urquiza          2\n",
      "Pilar                  2\n",
      "Santa María            2\n",
      "Olavarría              2\n",
      "San Roque              2\n",
      "Ituzaingó              2\n",
      "Name: geonames_id, dtype: int64\n",
      "Cantidad geo ids con más de una state:  32\n"
     ]
    }
   ],
   "source": [
    "geoids_by_place_name = data_geonames.groupby([\"place_name\"])[\"geonames_id\"].nunique().sort_values(ascending = False)\n",
    "geoids_by_place_name\n",
    "\n",
    "mask_geoids_by_place_name = geoids_by_place_name > 1\n",
    "place_name_multi_id = geoids_by_place_name[mask_geoids_by_place_name]\n",
    "print(place_name_multi_id)\n",
    "print(\"Cantidad geo ids con más de una state: \", len(geoids_by_place_name[mask_geoids_by_place_name]))"
   ]
  },
  {
   "cell_type": "markdown",
   "metadata": {},
   "source": [
    "Chequeamos si estos barrios son localidades distintas pero homónimas, sumando la info de state_name."
   ]
  },
  {
   "cell_type": "code",
   "execution_count": 43,
   "metadata": {},
   "outputs": [
    {
     "data": {
      "text/html": [
       "<div>\n",
       "<style scoped>\n",
       "    .dataframe tbody tr th:only-of-type {\n",
       "        vertical-align: middle;\n",
       "    }\n",
       "\n",
       "    .dataframe tbody tr th {\n",
       "        vertical-align: top;\n",
       "    }\n",
       "\n",
       "    .dataframe thead th {\n",
       "        text-align: right;\n",
       "    }\n",
       "</style>\n",
       "<table border=\"1\" class=\"dataframe\">\n",
       "  <thead>\n",
       "    <tr style=\"text-align: right;\">\n",
       "      <th></th>\n",
       "      <th>place_name</th>\n",
       "      <th>geonames_id</th>\n",
       "      <th>state_name</th>\n",
       "      <th>place_with_parent_names</th>\n",
       "    </tr>\n",
       "  </thead>\n",
       "  <tbody>\n",
       "    <tr>\n",
       "      <th>0</th>\n",
       "      <td>Avellaneda</td>\n",
       "      <td>[3436227.0, 3436230.0]</td>\n",
       "      <td>[Bs.As. G.B.A. Zona Sur, Santa Fe]</td>\n",
       "      <td>[|Argentina|Bs.As. G.B.A. Zona Sur|Avellaneda|...</td>\n",
       "    </tr>\n",
       "    <tr>\n",
       "      <th>1</th>\n",
       "      <td>Bella Vista</td>\n",
       "      <td>[3436061.0, 3436058.0]</td>\n",
       "      <td>[Bs.As. G.B.A. Zona Norte, Corrientes]</td>\n",
       "      <td>[|Argentina|Bs.As. G.B.A. Zona Norte|San Migue...</td>\n",
       "    </tr>\n",
       "    <tr>\n",
       "      <th>2</th>\n",
       "      <td>Caseros</td>\n",
       "      <td>[3862356.0, 3435612.0]</td>\n",
       "      <td>[Bs.As. G.B.A. Zona Oeste, Entre Ríos]</td>\n",
       "      <td>[|Argentina|Bs.As. G.B.A. Zona Oeste|Tres de F...</td>\n",
       "    </tr>\n",
       "    <tr>\n",
       "      <th>3</th>\n",
       "      <td>Corrientes</td>\n",
       "      <td>[3435217.0, 3435214.0]</td>\n",
       "      <td>[Corrientes]</td>\n",
       "      <td>[|Argentina|Corrientes|Corrientes|, |Argentina...</td>\n",
       "    </tr>\n",
       "    <tr>\n",
       "      <th>4</th>\n",
       "      <td>Córdoba</td>\n",
       "      <td>[3860259.0, 3860255.0]</td>\n",
       "      <td>[Córdoba]</td>\n",
       "      <td>[|Argentina|Córdoba|Córdoba|, |Argentina|Córdo...</td>\n",
       "    </tr>\n",
       "    <tr>\n",
       "      <th>5</th>\n",
       "      <td>Ituzaingó</td>\n",
       "      <td>[3433359.0, 3433357.0]</td>\n",
       "      <td>[Bs.As. G.B.A. Zona Oeste, Corrientes]</td>\n",
       "      <td>[|Argentina|Bs.As. G.B.A. Zona Oeste|Ituzaingó...</td>\n",
       "    </tr>\n",
       "    <tr>\n",
       "      <th>6</th>\n",
       "      <td>La Paz</td>\n",
       "      <td>[3849517.0, 3432077.0]</td>\n",
       "      <td>[Córdoba, Entre Ríos]</td>\n",
       "      <td>[|Argentina|Córdoba|La Paz|, |Argentina|Entre ...</td>\n",
       "    </tr>\n",
       "    <tr>\n",
       "      <th>7</th>\n",
       "      <td>La Rioja</td>\n",
       "      <td>[3848949.0, 3848950.0]</td>\n",
       "      <td>[La Rioja]</td>\n",
       "      <td>[|Argentina|La Rioja|, |Argentina|La Rioja|La ...</td>\n",
       "    </tr>\n",
       "    <tr>\n",
       "      <th>8</th>\n",
       "      <td>Mendoza</td>\n",
       "      <td>[3844421.0, 3844419.0]</td>\n",
       "      <td>[Mendoza]</td>\n",
       "      <td>[|Argentina|Mendoza|Mendoza|, |Argentina|Mendo...</td>\n",
       "    </tr>\n",
       "    <tr>\n",
       "      <th>9</th>\n",
       "      <td>Merlo</td>\n",
       "      <td>[3844377.0, 3430696.0]</td>\n",
       "      <td>[San Luis, Bs.As. G.B.A. Zona Oeste]</td>\n",
       "      <td>[|Argentina|San Luis|Merlo|, |Argentina|Bs.As....</td>\n",
       "    </tr>\n",
       "    <tr>\n",
       "      <th>10</th>\n",
       "      <td>Miramar</td>\n",
       "      <td>[3430668.0, 3844159.0]</td>\n",
       "      <td>[Buenos Aires Costa Atlántica, Córdoba]</td>\n",
       "      <td>[|Argentina|Buenos Aires Costa Atlántica|Miram...</td>\n",
       "    </tr>\n",
       "    <tr>\n",
       "      <th>11</th>\n",
       "      <td>Neuquén</td>\n",
       "      <td>[3843123.0, 3843122.0]</td>\n",
       "      <td>[Neuquén]</td>\n",
       "      <td>[|Argentina|Neuquén|Neuquén|, |Argentina|Neuqu...</td>\n",
       "    </tr>\n",
       "    <tr>\n",
       "      <th>12</th>\n",
       "      <td>Olavarría</td>\n",
       "      <td>[3842670.0, 3842669.0]</td>\n",
       "      <td>[Buenos Aires Interior]</td>\n",
       "      <td>[|Argentina|Buenos Aires Interior|Olavarría|Ol...</td>\n",
       "    </tr>\n",
       "    <tr>\n",
       "      <th>13</th>\n",
       "      <td>Pilar</td>\n",
       "      <td>[3429979.0, 3841149.0]</td>\n",
       "      <td>[Bs.As. G.B.A. Zona Norte, Córdoba]</td>\n",
       "      <td>[|Argentina|Bs.As. G.B.A. Zona Norte|Pilar|, |...</td>\n",
       "    </tr>\n",
       "    <tr>\n",
       "      <th>14</th>\n",
       "      <td>Rawson</td>\n",
       "      <td>[3839304.0, 3839303.0]</td>\n",
       "      <td>[San Juan, Chubut]</td>\n",
       "      <td>[|Argentina|San Juan|Rawson|, |Argentina|Chubu...</td>\n",
       "    </tr>\n",
       "    <tr>\n",
       "      <th>15</th>\n",
       "      <td>Rivadavia</td>\n",
       "      <td>[3838750.0, 3838749.0]</td>\n",
       "      <td>[San Juan, Mendoza]</td>\n",
       "      <td>[|Argentina|San Juan|Rivadavia|, |Argentina|Me...</td>\n",
       "    </tr>\n",
       "    <tr>\n",
       "      <th>16</th>\n",
       "      <td>Salta</td>\n",
       "      <td>[3838233.0, 3838231.0]</td>\n",
       "      <td>[Salta]</td>\n",
       "      <td>[|Argentina|Salta|Salta|, |Argentina|Salta|]</td>\n",
       "    </tr>\n",
       "    <tr>\n",
       "      <th>17</th>\n",
       "      <td>San Javier</td>\n",
       "      <td>[3428973.0, 3428974.0]</td>\n",
       "      <td>[Santa Fe, Misiones]</td>\n",
       "      <td>[|Argentina|Santa Fe|San Javier|, |Argentina|M...</td>\n",
       "    </tr>\n",
       "    <tr>\n",
       "      <th>18</th>\n",
       "      <td>San José</td>\n",
       "      <td>[3433947.0, 3428927.0]</td>\n",
       "      <td>[Entre Ríos, Bs.As. G.B.A. Zona Sur]</td>\n",
       "      <td>[|Argentina|Entre Ríos|San José|, |Argentina|B...</td>\n",
       "    </tr>\n",
       "    <tr>\n",
       "      <th>19</th>\n",
       "      <td>San Juan</td>\n",
       "      <td>[3837152.0, 3837213.0]</td>\n",
       "      <td>[San Juan]</td>\n",
       "      <td>[|Argentina|San Juan|, |Argentina|San Juan|San...</td>\n",
       "    </tr>\n",
       "    <tr>\n",
       "      <th>20</th>\n",
       "      <td>San Justo</td>\n",
       "      <td>[3428775.0, 3837122.0]</td>\n",
       "      <td>[Bs.As. G.B.A. Zona Oeste, Santa Fe]</td>\n",
       "      <td>[|Argentina|Bs.As. G.B.A. Zona Oeste|La Matanz...</td>\n",
       "    </tr>\n",
       "    <tr>\n",
       "      <th>21</th>\n",
       "      <td>San Lorenzo</td>\n",
       "      <td>[3837090.0, 3837098.0]</td>\n",
       "      <td>[Santa Fe, Córdoba]</td>\n",
       "      <td>[|Argentina|Santa Fe|San Lorenzo|, |Argentina|...</td>\n",
       "    </tr>\n",
       "    <tr>\n",
       "      <th>22</th>\n",
       "      <td>San Luis</td>\n",
       "      <td>[3837056.0, 3837029.0]</td>\n",
       "      <td>[San Luis]</td>\n",
       "      <td>[|Argentina|San Luis|San Luis|, |Argentina|San...</td>\n",
       "    </tr>\n",
       "    <tr>\n",
       "      <th>23</th>\n",
       "      <td>San Roque</td>\n",
       "      <td>[3836587.0, 3836586.0]</td>\n",
       "      <td>[Córdoba, Mendoza]</td>\n",
       "      <td>[|Argentina|Córdoba|San Roque|, |Argentina|Men...</td>\n",
       "    </tr>\n",
       "    <tr>\n",
       "      <th>24</th>\n",
       "      <td>San Vicente</td>\n",
       "      <td>[3428056.0, 3835760.0, 3835759.0]</td>\n",
       "      <td>[Bs.As. G.B.A. Zona Sur, Córdoba]</td>\n",
       "      <td>[|Argentina|Bs.As. G.B.A. Zona Sur|San Vicente...</td>\n",
       "    </tr>\n",
       "    <tr>\n",
       "      <th>25</th>\n",
       "      <td>Santa Fe</td>\n",
       "      <td>[3836277.0, 3836276.0]</td>\n",
       "      <td>[Santa Fe]</td>\n",
       "      <td>[|Argentina|Santa Fe|Santa Fe|, |Argentina|San...</td>\n",
       "    </tr>\n",
       "    <tr>\n",
       "      <th>26</th>\n",
       "      <td>Santa María</td>\n",
       "      <td>[3836128.0, 3836129.0]</td>\n",
       "      <td>[Córdoba, Catamarca]</td>\n",
       "      <td>[|Argentina|Córdoba|Santa María|, |Argentina|C...</td>\n",
       "    </tr>\n",
       "    <tr>\n",
       "      <th>27</th>\n",
       "      <td>Veinticinco de Mayo</td>\n",
       "      <td>[3833100.0, 3427535.0]</td>\n",
       "      <td>[Buenos Aires Interior, Misiones]</td>\n",
       "      <td>[|Argentina|Buenos Aires Interior|Veinticinco ...</td>\n",
       "    </tr>\n",
       "    <tr>\n",
       "      <th>28</th>\n",
       "      <td>Victoria</td>\n",
       "      <td>[3427500.0, 3832932.0]</td>\n",
       "      <td>[Bs.As. G.B.A. Zona Norte, Entre Ríos]</td>\n",
       "      <td>[|Argentina|Bs.As. G.B.A. Zona Norte|San Ferna...</td>\n",
       "    </tr>\n",
       "    <tr>\n",
       "      <th>29</th>\n",
       "      <td>Villa Elisa</td>\n",
       "      <td>[3427442.0, 3427443.0]</td>\n",
       "      <td>[Bs.As. G.B.A. Zona Sur, Entre Ríos]</td>\n",
       "      <td>[|Argentina|Bs.As. G.B.A. Zona Sur|La Plata|Vi...</td>\n",
       "    </tr>\n",
       "    <tr>\n",
       "      <th>30</th>\n",
       "      <td>Villa Nueva</td>\n",
       "      <td>[3832661.0, 3832662.0]</td>\n",
       "      <td>[Mendoza, Córdoba]</td>\n",
       "      <td>[|Argentina|Mendoza|Villa Nueva|, |Argentina|C...</td>\n",
       "    </tr>\n",
       "    <tr>\n",
       "      <th>31</th>\n",
       "      <td>Villa Urquiza</td>\n",
       "      <td>[3433775.0, 3832603.0]</td>\n",
       "      <td>[Capital Federal, Entre Ríos]</td>\n",
       "      <td>[|Argentina|Capital Federal|Villa Urquiza|, |A...</td>\n",
       "    </tr>\n",
       "  </tbody>\n",
       "</table>\n",
       "</div>"
      ],
      "text/plain": [
       "             place_name                        geonames_id  \\\n",
       "0            Avellaneda             [3436227.0, 3436230.0]   \n",
       "1           Bella Vista             [3436061.0, 3436058.0]   \n",
       "2               Caseros             [3862356.0, 3435612.0]   \n",
       "3            Corrientes             [3435217.0, 3435214.0]   \n",
       "4               Córdoba             [3860259.0, 3860255.0]   \n",
       "5             Ituzaingó             [3433359.0, 3433357.0]   \n",
       "6                La Paz             [3849517.0, 3432077.0]   \n",
       "7              La Rioja             [3848949.0, 3848950.0]   \n",
       "8               Mendoza             [3844421.0, 3844419.0]   \n",
       "9                 Merlo             [3844377.0, 3430696.0]   \n",
       "10              Miramar             [3430668.0, 3844159.0]   \n",
       "11              Neuquén             [3843123.0, 3843122.0]   \n",
       "12            Olavarría             [3842670.0, 3842669.0]   \n",
       "13                Pilar             [3429979.0, 3841149.0]   \n",
       "14               Rawson             [3839304.0, 3839303.0]   \n",
       "15            Rivadavia             [3838750.0, 3838749.0]   \n",
       "16                Salta             [3838233.0, 3838231.0]   \n",
       "17           San Javier             [3428973.0, 3428974.0]   \n",
       "18             San José             [3433947.0, 3428927.0]   \n",
       "19             San Juan             [3837152.0, 3837213.0]   \n",
       "20            San Justo             [3428775.0, 3837122.0]   \n",
       "21          San Lorenzo             [3837090.0, 3837098.0]   \n",
       "22             San Luis             [3837056.0, 3837029.0]   \n",
       "23            San Roque             [3836587.0, 3836586.0]   \n",
       "24          San Vicente  [3428056.0, 3835760.0, 3835759.0]   \n",
       "25             Santa Fe             [3836277.0, 3836276.0]   \n",
       "26          Santa María             [3836128.0, 3836129.0]   \n",
       "27  Veinticinco de Mayo             [3833100.0, 3427535.0]   \n",
       "28             Victoria             [3427500.0, 3832932.0]   \n",
       "29          Villa Elisa             [3427442.0, 3427443.0]   \n",
       "30          Villa Nueva             [3832661.0, 3832662.0]   \n",
       "31        Villa Urquiza             [3433775.0, 3832603.0]   \n",
       "\n",
       "                                 state_name  \\\n",
       "0        [Bs.As. G.B.A. Zona Sur, Santa Fe]   \n",
       "1    [Bs.As. G.B.A. Zona Norte, Corrientes]   \n",
       "2    [Bs.As. G.B.A. Zona Oeste, Entre Ríos]   \n",
       "3                              [Corrientes]   \n",
       "4                                 [Córdoba]   \n",
       "5    [Bs.As. G.B.A. Zona Oeste, Corrientes]   \n",
       "6                     [Córdoba, Entre Ríos]   \n",
       "7                                [La Rioja]   \n",
       "8                                 [Mendoza]   \n",
       "9      [San Luis, Bs.As. G.B.A. Zona Oeste]   \n",
       "10  [Buenos Aires Costa Atlántica, Córdoba]   \n",
       "11                                [Neuquén]   \n",
       "12                  [Buenos Aires Interior]   \n",
       "13      [Bs.As. G.B.A. Zona Norte, Córdoba]   \n",
       "14                       [San Juan, Chubut]   \n",
       "15                      [San Juan, Mendoza]   \n",
       "16                                  [Salta]   \n",
       "17                     [Santa Fe, Misiones]   \n",
       "18     [Entre Ríos, Bs.As. G.B.A. Zona Sur]   \n",
       "19                               [San Juan]   \n",
       "20     [Bs.As. G.B.A. Zona Oeste, Santa Fe]   \n",
       "21                      [Santa Fe, Córdoba]   \n",
       "22                               [San Luis]   \n",
       "23                       [Córdoba, Mendoza]   \n",
       "24        [Bs.As. G.B.A. Zona Sur, Córdoba]   \n",
       "25                               [Santa Fe]   \n",
       "26                     [Córdoba, Catamarca]   \n",
       "27        [Buenos Aires Interior, Misiones]   \n",
       "28   [Bs.As. G.B.A. Zona Norte, Entre Ríos]   \n",
       "29     [Bs.As. G.B.A. Zona Sur, Entre Ríos]   \n",
       "30                       [Mendoza, Córdoba]   \n",
       "31            [Capital Federal, Entre Ríos]   \n",
       "\n",
       "                              place_with_parent_names  \n",
       "0   [|Argentina|Bs.As. G.B.A. Zona Sur|Avellaneda|...  \n",
       "1   [|Argentina|Bs.As. G.B.A. Zona Norte|San Migue...  \n",
       "2   [|Argentina|Bs.As. G.B.A. Zona Oeste|Tres de F...  \n",
       "3   [|Argentina|Corrientes|Corrientes|, |Argentina...  \n",
       "4   [|Argentina|Córdoba|Córdoba|, |Argentina|Córdo...  \n",
       "5   [|Argentina|Bs.As. G.B.A. Zona Oeste|Ituzaingó...  \n",
       "6   [|Argentina|Córdoba|La Paz|, |Argentina|Entre ...  \n",
       "7   [|Argentina|La Rioja|, |Argentina|La Rioja|La ...  \n",
       "8   [|Argentina|Mendoza|Mendoza|, |Argentina|Mendo...  \n",
       "9   [|Argentina|San Luis|Merlo|, |Argentina|Bs.As....  \n",
       "10  [|Argentina|Buenos Aires Costa Atlántica|Miram...  \n",
       "11  [|Argentina|Neuquén|Neuquén|, |Argentina|Neuqu...  \n",
       "12  [|Argentina|Buenos Aires Interior|Olavarría|Ol...  \n",
       "13  [|Argentina|Bs.As. G.B.A. Zona Norte|Pilar|, |...  \n",
       "14  [|Argentina|San Juan|Rawson|, |Argentina|Chubu...  \n",
       "15  [|Argentina|San Juan|Rivadavia|, |Argentina|Me...  \n",
       "16       [|Argentina|Salta|Salta|, |Argentina|Salta|]  \n",
       "17  [|Argentina|Santa Fe|San Javier|, |Argentina|M...  \n",
       "18  [|Argentina|Entre Ríos|San José|, |Argentina|B...  \n",
       "19  [|Argentina|San Juan|, |Argentina|San Juan|San...  \n",
       "20  [|Argentina|Bs.As. G.B.A. Zona Oeste|La Matanz...  \n",
       "21  [|Argentina|Santa Fe|San Lorenzo|, |Argentina|...  \n",
       "22  [|Argentina|San Luis|San Luis|, |Argentina|San...  \n",
       "23  [|Argentina|Córdoba|San Roque|, |Argentina|Men...  \n",
       "24  [|Argentina|Bs.As. G.B.A. Zona Sur|San Vicente...  \n",
       "25  [|Argentina|Santa Fe|Santa Fe|, |Argentina|San...  \n",
       "26  [|Argentina|Córdoba|Santa María|, |Argentina|C...  \n",
       "27  [|Argentina|Buenos Aires Interior|Veinticinco ...  \n",
       "28  [|Argentina|Bs.As. G.B.A. Zona Norte|San Ferna...  \n",
       "29  [|Argentina|Bs.As. G.B.A. Zona Sur|La Plata|Vi...  \n",
       "30  [|Argentina|Mendoza|Villa Nueva|, |Argentina|C...  \n",
       "31  [|Argentina|Capital Federal|Villa Urquiza|, |A...  "
      ]
     },
     "execution_count": 43,
     "metadata": {},
     "output_type": "execute_result"
    }
   ],
   "source": [
    "indices3 = place_name_multi_id.index #nos quedamos con los índices para crear una máscara\n",
    "mask_indices3 = data_geonames_notnull[\"place_name\"].isin(indices3)\n",
    "data_geonames_multi_id = data_geonames_notnull.loc[mask_indices3]\n",
    "\n",
    "geoids_by_place_name = data_geonames_multi_id.groupby(\"place_name\").agg({'geonames_id': 'unique', 'state_name': 'unique', 'place_with_parent_names': 'unique'}).reset_index()\n",
    "geoids_by_place_name"
   ]
  },
  {
   "cell_type": "markdown",
   "metadata": {},
   "source": [
    "En esta salida vemos que hay casos variados. \n",
    "\n",
    "✔️ En 21 casos, la cantidad de ID's coincide con la cantidad de states, con lo cual, inferimos que efectivamente son localidades con el mismo nombre, pero en diferentes regiones."
   ]
  },
  {
   "cell_type": "code",
   "execution_count": 44,
   "metadata": {},
   "outputs": [
    {
     "name": "stdout",
     "output_type": "stream",
     "text": [
      "21\n"
     ]
    }
   ],
   "source": [
    "result = 0\n",
    "for index, row in geoids_by_place_name.iterrows():\n",
    "    if len(row[\"geonames_id\"]) == len(row[\"state_name\"]):\n",
    "        result += 1\n",
    "print(result)  "
   ]
  },
  {
   "cell_type": "markdown",
   "metadata": {},
   "source": [
    "Nos quedan los 11 casos restantes. Como en la mayoría coincide el *place_name* con el *state_name*, al haber 2 ids, asumimos que uno refiere a la ciudad y otro a la provincia, y **no se trata de un error.** (otro criterio que se podría tomar es asignar el valor de geoname_id correspondiente a la localidad)."
   ]
  },
  {
   "cell_type": "code",
   "execution_count": 45,
   "metadata": {},
   "outputs": [
    {
     "name": "stdout",
     "output_type": "stream",
     "text": [
      "3 Corrientes ['Corrientes']\n",
      "4 Córdoba ['Córdoba']\n",
      "7 La Rioja ['La Rioja']\n",
      "8 Mendoza ['Mendoza']\n",
      "11 Neuquén ['Neuquén']\n",
      "12 Olavarría ['Buenos Aires Interior']\n",
      "16 Salta ['Salta']\n",
      "19 San Juan ['San Juan']\n",
      "22 San Luis ['San Luis']\n",
      "24 San Vicente ['Bs.As. G.B.A. Zona Sur' 'Córdoba']\n",
      "25 Santa Fe ['Santa Fe']\n",
      "Cantidad de casos:  11\n"
     ]
    }
   ],
   "source": [
    "result_2 = 0\n",
    "for index, row in geoids_by_place_name.iterrows():\n",
    "    if len(row[\"geonames_id\"]) != len(row[\"state_name\"]):\n",
    "        result_2 += 1\n",
    "        print (index, row[\"place_name\"],row[\"state_name\"])\n",
    "print(\"Cantidad de casos: \", result_2)  "
   ]
  },
  {
   "cell_type": "markdown",
   "metadata": {},
   "source": [
    "Resta analizar solo dos casos: Olavarría y San Vicente."
   ]
  },
  {
   "cell_type": "markdown",
   "metadata": {},
   "source": [
    "1. San vicente. Vemos que hay 3 ids posibles pero solo dos valores de *state_name*, y por lo tanto solo dos localidades. "
   ]
  },
  {
   "cell_type": "code",
   "execution_count": 46,
   "metadata": {},
   "outputs": [
    {
     "data": {
      "text/plain": [
       "3428056.0    95\n",
       "3835759.0    13\n",
       "3835760.0     3\n",
       "Name: geonames_id, dtype: int64"
      ]
     },
     "execution_count": 46,
     "metadata": {},
     "output_type": "execute_result"
    }
   ],
   "source": [
    "mask_sanvicente = data[\"place_name\"] == \"San Vicente\"\n",
    "data_sanvicente = data.loc[mask_sanvicente,[\"geonames_id\",\"place_name\",\"state_name\",\"country_name\",\"place_with_parent_names\"]]\n",
    "data_sanvicente[\"geonames_id\"].value_counts()"
   ]
  },
  {
   "cell_type": "code",
   "execution_count": 47,
   "metadata": {},
   "outputs": [
    {
     "name": "stdout",
     "output_type": "stream",
     "text": [
      "['Bs.As. G.B.A. Zona Sur']\n",
      "['Bs.As. G.B.A. Zona Sur']\n",
      "['Córdoba']\n"
     ]
    }
   ],
   "source": [
    "#San Vicente - valores unicos de state_name por cada ID.\n",
    "mask_3428056 = data[\"geonames_id\"] == 3428056.0 \n",
    "data_3428056 = data.loc[mask_3428056,[\"geonames_id\",\"place_name\",\"place_with_parent_names\",\"state_name\",\"title\",\"description\",\"lat\"]]\n",
    "print(data_3428056[\"state_name\"].unique())\n",
    "mask_3835759 = data[\"geonames_id\"] == 3835759.0\n",
    "data_3835759 = data.loc[mask_3835759,[\"geonames_id\",\"place_name\",\"place_with_parent_names\",\"state_name\",\"title\",\"description\",\"lat\"]]\n",
    "print(data_3835759[\"state_name\"].unique())\n",
    "mask_3835760 = data[\"geonames_id\"] == 3835760.0\n",
    "data_3835760= data.loc[mask_3835760,[\"geonames_id\",\"place_name\",\"place_with_parent_names\",\"state_name\",\"title\",\"description\",\"lat\"]]\n",
    "print(data_3835760[\"state_name\"].unique())"
   ]
  },
  {
   "cell_type": "markdown",
   "metadata": {},
   "source": [
    "Como los dos primeros ID refieren a la misma localidad, nos quedamos con uno solo. Según https://www.geonames.org/3428056/partido-de-san-vicente.html, el correcto es \n",
    "3428056.0"
   ]
  },
  {
   "cell_type": "code",
   "execution_count": 48,
   "metadata": {},
   "outputs": [
    {
     "data": {
      "text/html": [
       "<div>\n",
       "<style scoped>\n",
       "    .dataframe tbody tr th:only-of-type {\n",
       "        vertical-align: middle;\n",
       "    }\n",
       "\n",
       "    .dataframe tbody tr th {\n",
       "        vertical-align: top;\n",
       "    }\n",
       "\n",
       "    .dataframe thead th {\n",
       "        text-align: right;\n",
       "    }\n",
       "</style>\n",
       "<table border=\"1\" class=\"dataframe\">\n",
       "  <thead>\n",
       "    <tr style=\"text-align: right;\">\n",
       "      <th></th>\n",
       "      <th>place_name</th>\n",
       "      <th>geonames_id</th>\n",
       "      <th>state_name</th>\n",
       "      <th>place_name_new</th>\n",
       "      <th>geonames_id_new</th>\n",
       "    </tr>\n",
       "  </thead>\n",
       "  <tbody>\n",
       "    <tr>\n",
       "      <th>27393</th>\n",
       "      <td>San Vicente</td>\n",
       "      <td>3835759.0</td>\n",
       "      <td>Bs.As. G.B.A. Zona Sur</td>\n",
       "      <td>San Vicente</td>\n",
       "      <td>3428056.0</td>\n",
       "    </tr>\n",
       "    <tr>\n",
       "      <th>27950</th>\n",
       "      <td>San Vicente</td>\n",
       "      <td>3835759.0</td>\n",
       "      <td>Bs.As. G.B.A. Zona Sur</td>\n",
       "      <td>San Vicente</td>\n",
       "      <td>3428056.0</td>\n",
       "    </tr>\n",
       "    <tr>\n",
       "      <th>30517</th>\n",
       "      <td>San Vicente</td>\n",
       "      <td>3835759.0</td>\n",
       "      <td>Bs.As. G.B.A. Zona Sur</td>\n",
       "      <td>San Vicente</td>\n",
       "      <td>3428056.0</td>\n",
       "    </tr>\n",
       "    <tr>\n",
       "      <th>33045</th>\n",
       "      <td>San Vicente</td>\n",
       "      <td>3835759.0</td>\n",
       "      <td>Bs.As. G.B.A. Zona Sur</td>\n",
       "      <td>San Vicente</td>\n",
       "      <td>3428056.0</td>\n",
       "    </tr>\n",
       "    <tr>\n",
       "      <th>36335</th>\n",
       "      <td>San Vicente</td>\n",
       "      <td>3835759.0</td>\n",
       "      <td>Bs.As. G.B.A. Zona Sur</td>\n",
       "      <td>San Vicente</td>\n",
       "      <td>3428056.0</td>\n",
       "    </tr>\n",
       "    <tr>\n",
       "      <th>38015</th>\n",
       "      <td>San Vicente</td>\n",
       "      <td>3835759.0</td>\n",
       "      <td>Bs.As. G.B.A. Zona Sur</td>\n",
       "      <td>San Vicente</td>\n",
       "      <td>3428056.0</td>\n",
       "    </tr>\n",
       "    <tr>\n",
       "      <th>44701</th>\n",
       "      <td>San Vicente</td>\n",
       "      <td>3835759.0</td>\n",
       "      <td>Bs.As. G.B.A. Zona Sur</td>\n",
       "      <td>San Vicente</td>\n",
       "      <td>3428056.0</td>\n",
       "    </tr>\n",
       "    <tr>\n",
       "      <th>48104</th>\n",
       "      <td>San Vicente</td>\n",
       "      <td>3835759.0</td>\n",
       "      <td>Bs.As. G.B.A. Zona Sur</td>\n",
       "      <td>San Vicente</td>\n",
       "      <td>3428056.0</td>\n",
       "    </tr>\n",
       "    <tr>\n",
       "      <th>48259</th>\n",
       "      <td>San Vicente</td>\n",
       "      <td>3835759.0</td>\n",
       "      <td>Bs.As. G.B.A. Zona Sur</td>\n",
       "      <td>San Vicente</td>\n",
       "      <td>3428056.0</td>\n",
       "    </tr>\n",
       "    <tr>\n",
       "      <th>63233</th>\n",
       "      <td>San Vicente</td>\n",
       "      <td>3835759.0</td>\n",
       "      <td>Bs.As. G.B.A. Zona Sur</td>\n",
       "      <td>San Vicente</td>\n",
       "      <td>3428056.0</td>\n",
       "    </tr>\n",
       "    <tr>\n",
       "      <th>77509</th>\n",
       "      <td>San Vicente</td>\n",
       "      <td>3835759.0</td>\n",
       "      <td>Bs.As. G.B.A. Zona Sur</td>\n",
       "      <td>San Vicente</td>\n",
       "      <td>3428056.0</td>\n",
       "    </tr>\n",
       "    <tr>\n",
       "      <th>80344</th>\n",
       "      <td>San Vicente</td>\n",
       "      <td>3835759.0</td>\n",
       "      <td>Bs.As. G.B.A. Zona Sur</td>\n",
       "      <td>San Vicente</td>\n",
       "      <td>3428056.0</td>\n",
       "    </tr>\n",
       "    <tr>\n",
       "      <th>94099</th>\n",
       "      <td>San Vicente</td>\n",
       "      <td>3835759.0</td>\n",
       "      <td>Bs.As. G.B.A. Zona Sur</td>\n",
       "      <td>San Vicente</td>\n",
       "      <td>3428056.0</td>\n",
       "    </tr>\n",
       "  </tbody>\n",
       "</table>\n",
       "</div>"
      ],
      "text/plain": [
       "        place_name  geonames_id              state_name place_name_new  \\\n",
       "27393  San Vicente    3835759.0  Bs.As. G.B.A. Zona Sur    San Vicente   \n",
       "27950  San Vicente    3835759.0  Bs.As. G.B.A. Zona Sur    San Vicente   \n",
       "30517  San Vicente    3835759.0  Bs.As. G.B.A. Zona Sur    San Vicente   \n",
       "33045  San Vicente    3835759.0  Bs.As. G.B.A. Zona Sur    San Vicente   \n",
       "36335  San Vicente    3835759.0  Bs.As. G.B.A. Zona Sur    San Vicente   \n",
       "38015  San Vicente    3835759.0  Bs.As. G.B.A. Zona Sur    San Vicente   \n",
       "44701  San Vicente    3835759.0  Bs.As. G.B.A. Zona Sur    San Vicente   \n",
       "48104  San Vicente    3835759.0  Bs.As. G.B.A. Zona Sur    San Vicente   \n",
       "48259  San Vicente    3835759.0  Bs.As. G.B.A. Zona Sur    San Vicente   \n",
       "63233  San Vicente    3835759.0  Bs.As. G.B.A. Zona Sur    San Vicente   \n",
       "77509  San Vicente    3835759.0  Bs.As. G.B.A. Zona Sur    San Vicente   \n",
       "80344  San Vicente    3835759.0  Bs.As. G.B.A. Zona Sur    San Vicente   \n",
       "94099  San Vicente    3835759.0  Bs.As. G.B.A. Zona Sur    San Vicente   \n",
       "\n",
       "       geonames_id_new  \n",
       "27393        3428056.0  \n",
       "27950        3428056.0  \n",
       "30517        3428056.0  \n",
       "33045        3428056.0  \n",
       "36335        3428056.0  \n",
       "38015        3428056.0  \n",
       "44701        3428056.0  \n",
       "48104        3428056.0  \n",
       "48259        3428056.0  \n",
       "63233        3428056.0  \n",
       "77509        3428056.0  \n",
       "80344        3428056.0  \n",
       "94099        3428056.0  "
      ]
     },
     "execution_count": 48,
     "metadata": {},
     "output_type": "execute_result"
    }
   ],
   "source": [
    "#lo aplicamos al df original\n",
    "data.loc[mask_3835759,\"geonames_id_new\"] = 3428056.0 #valor de centro de mdq\n",
    "data.loc[mask_3835759, [\"place_name\",\"geonames_id\",\"state_name\"\n",
    "                            ,\"place_name_new\",\"geonames_id_new\"]]"
   ]
  },
  {
   "cell_type": "markdown",
   "metadata": {},
   "source": [
    "2. Olavarría. Vemos que hay 2 ids posibles pero un solo state: "
   ]
  },
  {
   "cell_type": "code",
   "execution_count": 49,
   "metadata": {},
   "outputs": [
    {
     "data": {
      "text/plain": [
       "3842669.0    5\n",
       "3842670.0    4\n",
       "Name: geonames_id, dtype: int64"
      ]
     },
     "execution_count": 49,
     "metadata": {},
     "output_type": "execute_result"
    }
   ],
   "source": [
    "mask_olavarria = data[\"place_name\"] == \"Olavarría\"\n",
    "data_olavarria = data.loc[mask_olavarria,[\"geonames_id\",\"place_name\",\"state_name\",\"country_name\",\"place_with_parent_names\"]]\n",
    "data_olavarria[\"geonames_id\"].value_counts()"
   ]
  },
  {
   "cell_type": "code",
   "execution_count": 50,
   "metadata": {},
   "outputs": [
    {
     "name": "stdout",
     "output_type": "stream",
     "text": [
      "['Buenos Aires Interior']\n",
      "['Buenos Aires Interior']\n"
     ]
    }
   ],
   "source": [
    "mask_3842669 = data[\"geonames_id\"] == 3842669.0\n",
    "data_3842669 = data.loc[mask_3842669,[\"geonames_id\",\"place_name\",\"place_with_parent_names\",\"state_name\",\"title\",\"description\",\"lat\"]]\n",
    "print(data_3842669[\"state_name\"].unique())\n",
    "mask_3842670 = data[\"geonames_id\"] == 3842670.0\n",
    "data_3842670 = data.loc[mask_3842670,[\"geonames_id\",\"place_name\",\"place_with_parent_names\",\"state_name\",\"title\",\"description\",\"lat\"]]\n",
    "print(data_3842670[\"state_name\"].unique())"
   ]
  },
  {
   "cell_type": "markdown",
   "metadata": {},
   "source": [
    "Nuevamente ambos ID refieren al mismo state, y por lo tanto decidimos quedarnos con el ID 3842669.0, que corresponde al partido de Olavarría según https://www.geonames.org/3842669/partido-de-olavarria.html"
   ]
  },
  {
   "cell_type": "code",
   "execution_count": 51,
   "metadata": {},
   "outputs": [
    {
     "data": {
      "text/html": [
       "<div>\n",
       "<style scoped>\n",
       "    .dataframe tbody tr th:only-of-type {\n",
       "        vertical-align: middle;\n",
       "    }\n",
       "\n",
       "    .dataframe tbody tr th {\n",
       "        vertical-align: top;\n",
       "    }\n",
       "\n",
       "    .dataframe thead th {\n",
       "        text-align: right;\n",
       "    }\n",
       "</style>\n",
       "<table border=\"1\" class=\"dataframe\">\n",
       "  <thead>\n",
       "    <tr style=\"text-align: right;\">\n",
       "      <th></th>\n",
       "      <th>place_name</th>\n",
       "      <th>geonames_id</th>\n",
       "      <th>state_name</th>\n",
       "      <th>place_name_new</th>\n",
       "      <th>geonames_id_new</th>\n",
       "    </tr>\n",
       "  </thead>\n",
       "  <tbody>\n",
       "    <tr>\n",
       "      <th>7740</th>\n",
       "      <td>Olavarría</td>\n",
       "      <td>3842670.0</td>\n",
       "      <td>Buenos Aires Interior</td>\n",
       "      <td>Olavarría</td>\n",
       "      <td>3842669.0</td>\n",
       "    </tr>\n",
       "    <tr>\n",
       "      <th>7741</th>\n",
       "      <td>Olavarría</td>\n",
       "      <td>3842670.0</td>\n",
       "      <td>Buenos Aires Interior</td>\n",
       "      <td>Olavarría</td>\n",
       "      <td>3842669.0</td>\n",
       "    </tr>\n",
       "    <tr>\n",
       "      <th>12413</th>\n",
       "      <td>Olavarría</td>\n",
       "      <td>3842670.0</td>\n",
       "      <td>Buenos Aires Interior</td>\n",
       "      <td>Olavarría</td>\n",
       "      <td>3842669.0</td>\n",
       "    </tr>\n",
       "    <tr>\n",
       "      <th>51466</th>\n",
       "      <td>Olavarría</td>\n",
       "      <td>3842670.0</td>\n",
       "      <td>Buenos Aires Interior</td>\n",
       "      <td>Olavarría</td>\n",
       "      <td>3842669.0</td>\n",
       "    </tr>\n",
       "  </tbody>\n",
       "</table>\n",
       "</div>"
      ],
      "text/plain": [
       "      place_name  geonames_id             state_name place_name_new  \\\n",
       "7740   Olavarría    3842670.0  Buenos Aires Interior      Olavarría   \n",
       "7741   Olavarría    3842670.0  Buenos Aires Interior      Olavarría   \n",
       "12413  Olavarría    3842670.0  Buenos Aires Interior      Olavarría   \n",
       "51466  Olavarría    3842670.0  Buenos Aires Interior      Olavarría   \n",
       "\n",
       "       geonames_id_new  \n",
       "7740         3842669.0  \n",
       "7741         3842669.0  \n",
       "12413        3842669.0  \n",
       "51466        3842669.0  "
      ]
     },
     "execution_count": 51,
     "metadata": {},
     "output_type": "execute_result"
    }
   ],
   "source": [
    "#lo aplicamos al df original\n",
    "data.loc[mask_3842670,\"geonames_id_new\"] = 3842669.0\n",
    "data.loc[mask_3842670, [\"place_name\",\"geonames_id\",\"state_name\"\n",
    "                            ,\"place_name_new\",\"geonames_id_new\"]]\n"
   ]
  },
  {
   "cell_type": "markdown",
   "metadata": {},
   "source": [
    "✔️ Con estos análisis, normalizamos los errores y **nos aseguramos que cada ID para representa una localidad única.**"
   ]
  },
  {
   "cell_type": "markdown",
   "metadata": {},
   "source": [
    "***"
   ]
  },
  {
   "cell_type": "markdown",
   "metadata": {},
   "source": [
    "Finalizados estos análisis, podríamos intentar recuperar los nulos de *geonames_id* a partir de la información en *place_name* y *state_name*.\n",
    "Comenzamos recuperando los nulos de *place_name*:"
   ]
  },
  {
   "cell_type": "code",
   "execution_count": 52,
   "metadata": {},
   "outputs": [
    {
     "name": "stdout",
     "output_type": "stream",
     "text": [
      "Cantidad de nulos en \"place_name\": 23\n",
      "Cantidad barrios:  1053\n",
      "Cantidad de geo IDS:  646\n"
     ]
    }
   ],
   "source": [
    "print(\"Cantidad de nulos en \\\"place_name\\\":\", data.place_name.isnull().sum())\n",
    "print(\"Cantidad barrios: \", len(data.place_name_new.unique()))\n",
    "print(\"Cantidad de geo IDS: \", len(data.geonames_id_new.unique()))"
   ]
  },
  {
   "cell_type": "markdown",
   "metadata": {},
   "source": [
    "No tenemos los *geoname_id* para estos valores, pero las columnas *title* y *description* nos permiten ver que son casas que están en barrios cerrados en el partido de Tigre."
   ]
  },
  {
   "cell_type": "code",
   "execution_count": 53,
   "metadata": {},
   "outputs": [
    {
     "data": {
      "text/html": [
       "<div>\n",
       "<style scoped>\n",
       "    .dataframe tbody tr th:only-of-type {\n",
       "        vertical-align: middle;\n",
       "    }\n",
       "\n",
       "    .dataframe tbody tr th {\n",
       "        vertical-align: top;\n",
       "    }\n",
       "\n",
       "    .dataframe thead th {\n",
       "        text-align: right;\n",
       "    }\n",
       "</style>\n",
       "<table border=\"1\" class=\"dataframe\">\n",
       "  <thead>\n",
       "    <tr style=\"text-align: right;\">\n",
       "      <th></th>\n",
       "      <th>place_name</th>\n",
       "      <th>state_name</th>\n",
       "      <th>place_with_parent_names</th>\n",
       "      <th>geonames_id</th>\n",
       "      <th>title</th>\n",
       "      <th>description</th>\n",
       "    </tr>\n",
       "  </thead>\n",
       "  <tbody>\n",
       "    <tr>\n",
       "      <th>6489</th>\n",
       "      <td>NaN</td>\n",
       "      <td>Bs.As. G.B.A. Zona Norte</td>\n",
       "      <td>|Argentina|Bs.As. G.B.A. Zona Norte|Tigre||</td>\n",
       "      <td>NaN</td>\n",
       "      <td>Venta de casa en Santa María de Tigre</td>\n",
       "      <td>Espectacular casa moderna de una planta, con a...</td>\n",
       "    </tr>\n",
       "    <tr>\n",
       "      <th>10201</th>\n",
       "      <td>NaN</td>\n",
       "      <td>Bs.As. G.B.A. Zona Norte</td>\n",
       "      <td>|Argentina|Bs.As. G.B.A. Zona Norte|Tigre||</td>\n",
       "      <td>NaN</td>\n",
       "      <td>VENTA CASA SANTA MARÍA DE TIGRE COUNTRY BARRIO...</td>\n",
       "      <td>Corredor Responsable: SABRINA COCCONI - CSI 62...</td>\n",
       "    </tr>\n",
       "    <tr>\n",
       "      <th>11451</th>\n",
       "      <td>NaN</td>\n",
       "      <td>Bs.As. G.B.A. Zona Norte</td>\n",
       "      <td>|Argentina|Bs.As. G.B.A. Zona Norte|Tigre||</td>\n",
       "      <td>NaN</td>\n",
       "      <td>SANTA MARIA DE TIGRE IMPECABLE</td>\n",
       "      <td>MUY LINDA CASA EN EXCELENTE UBICACION!! Superf...</td>\n",
       "    </tr>\n",
       "    <tr>\n",
       "      <th>14839</th>\n",
       "      <td>NaN</td>\n",
       "      <td>Bs.As. G.B.A. Zona Norte</td>\n",
       "      <td>|Argentina|Bs.As. G.B.A. Zona Norte|Tigre||</td>\n",
       "      <td>NaN</td>\n",
       "      <td>Venta de casa en Santa María de Tigre</td>\n",
       "      <td>Muy linda casa de estilo clásico.-Planta baja;...</td>\n",
       "    </tr>\n",
       "    <tr>\n",
       "      <th>18622</th>\n",
       "      <td>NaN</td>\n",
       "      <td>Bs.As. G.B.A. Zona Norte</td>\n",
       "      <td>|Argentina|Bs.As. G.B.A. Zona Norte|Tigre||</td>\n",
       "      <td>NaN</td>\n",
       "      <td>Casa con increible vista al lago con playa y m...</td>\n",
       "      <td>Casa con increible vista al lago con playa de...</td>\n",
       "    </tr>\n",
       "  </tbody>\n",
       "</table>\n",
       "</div>"
      ],
      "text/plain": [
       "      place_name                state_name  \\\n",
       "6489         NaN  Bs.As. G.B.A. Zona Norte   \n",
       "10201        NaN  Bs.As. G.B.A. Zona Norte   \n",
       "11451        NaN  Bs.As. G.B.A. Zona Norte   \n",
       "14839        NaN  Bs.As. G.B.A. Zona Norte   \n",
       "18622        NaN  Bs.As. G.B.A. Zona Norte   \n",
       "\n",
       "                           place_with_parent_names  geonames_id  \\\n",
       "6489   |Argentina|Bs.As. G.B.A. Zona Norte|Tigre||          NaN   \n",
       "10201  |Argentina|Bs.As. G.B.A. Zona Norte|Tigre||          NaN   \n",
       "11451  |Argentina|Bs.As. G.B.A. Zona Norte|Tigre||          NaN   \n",
       "14839  |Argentina|Bs.As. G.B.A. Zona Norte|Tigre||          NaN   \n",
       "18622  |Argentina|Bs.As. G.B.A. Zona Norte|Tigre||          NaN   \n",
       "\n",
       "                                                   title  \\\n",
       "6489               Venta de casa en Santa María de Tigre   \n",
       "10201  VENTA CASA SANTA MARÍA DE TIGRE COUNTRY BARRIO...   \n",
       "11451                     SANTA MARIA DE TIGRE IMPECABLE   \n",
       "14839              Venta de casa en Santa María de Tigre   \n",
       "18622  Casa con increible vista al lago con playa y m...   \n",
       "\n",
       "                                             description  \n",
       "6489   Espectacular casa moderna de una planta, con a...  \n",
       "10201  Corredor Responsable: SABRINA COCCONI - CSI 62...  \n",
       "11451  MUY LINDA CASA EN EXCELENTE UBICACION!! Superf...  \n",
       "14839  Muy linda casa de estilo clásico.-Planta baja;...  \n",
       "18622   Casa con increible vista al lago con playa de...  "
      ]
     },
     "execution_count": 53,
     "metadata": {},
     "output_type": "execute_result"
    }
   ],
   "source": [
    "mask_place_name_null = data.place_name.isnull()\n",
    "data_null_place_name = data.loc[mask_place_name_null ,[\"place_name\",\"state_name\",\"place_with_parent_names\",\"geonames_id\",\"title\",\"description\"]]\n",
    "data_null_place_name.head()"
   ]
  },
  {
   "cell_type": "code",
   "execution_count": 54,
   "metadata": {},
   "outputs": [
    {
     "data": {
      "text/plain": [
       "SANTA MARIA DE TIGRE 100                                                               6\n",
       "Venta de casa en Santa María de Tigre                                                  3\n",
       "Casa (barrio cerrado), Venta                                                           1\n",
       "Santa María de Tigre. Casa con amarra.                                                 1\n",
       "CASA EN VENTA AL AGUA EN SANTA MARIA DE TIGRE                                          1\n",
       "Oportunidad! Casa en La Alameda                                                        1\n",
       "Excelente monoambiente. Barrio El Palmar.  Con Renta                                   1\n",
       "VENTA CASA SANTA MARÍA DE TIGRE COUNTRY BARRIO CERRADO                                 1\n",
       "Venta Casa - Barrio Santa Maria de Tigre                                               1\n",
       "VENTA CASA A ESTRENAR EN LAS TIPAS NORDELTA                                            1\n",
       "Casa en Venta                                                                          1\n",
       "SANTA MARIA DE TIGRE IMPECABLE                                                         1\n",
       "Casa con increible vista al lago con playa y muelle en venta en Sta Maria de Tigre.    1\n",
       "Muy linda casa a estrenar en Las Tipas                                                 1\n",
       "CASA EN VENTA EN SANTA MARIA DE TIGRE CON RENTA                                        1\n",
       "Venta de Casa al rio                                                                   1\n",
       "Name: title, dtype: int64"
      ]
     },
     "execution_count": 54,
     "metadata": {},
     "output_type": "execute_result"
    }
   ],
   "source": [
    "data_null_place_name.title.value_counts()"
   ]
  },
  {
   "cell_type": "markdown",
   "metadata": {},
   "source": [
    "Vemos si hay filas con valor \"Tigre\" en *place_name*:"
   ]
  },
  {
   "cell_type": "code",
   "execution_count": 55,
   "metadata": {},
   "outputs": [
    {
     "name": "stdout",
     "output_type": "stream",
     "text": [
      "Hay 3324 valores 'Tigre'\n"
     ]
    }
   ],
   "source": [
    "mask_tigre = data[\"place_name_new\"] == \"Tigre\"\n",
    "data_tigre = data.loc[mask_tigre,[\"geonames_id\",\"place_name\",\"state_name\",\"title\",\"place_with_parent_names\",\"price_per_m2\"]]\n",
    "print(f\"Hay {data_tigre.shape[0]} valores 'Tigre'\")"
   ]
  },
  {
   "cell_type": "markdown",
   "metadata": {},
   "source": [
    "Comparamos la media del precio por m2 en ambos grupos, para ver si es razonable asignarles el valor \"Tigre a todos\" sin importar si están en un barrio cerrado o no, ya que esto suele modificar el precio de las propiedades."
   ]
  },
  {
   "cell_type": "code",
   "execution_count": 56,
   "metadata": {},
   "outputs": [
    {
     "data": {
      "text/html": [
       "<div>\n",
       "<style scoped>\n",
       "    .dataframe tbody tr th:only-of-type {\n",
       "        vertical-align: middle;\n",
       "    }\n",
       "\n",
       "    .dataframe tbody tr th {\n",
       "        vertical-align: top;\n",
       "    }\n",
       "\n",
       "    .dataframe thead th {\n",
       "        text-align: right;\n",
       "    }\n",
       "</style>\n",
       "<table border=\"1\" class=\"dataframe\">\n",
       "  <thead>\n",
       "    <tr style=\"text-align: right;\">\n",
       "      <th></th>\n",
       "      <th>price_per_m2</th>\n",
       "    </tr>\n",
       "    <tr>\n",
       "      <th>place_name_new</th>\n",
       "      <th></th>\n",
       "    </tr>\n",
       "  </thead>\n",
       "  <tbody>\n",
       "    <tr>\n",
       "      <th>Tigre</th>\n",
       "      <td>6184.843423</td>\n",
       "    </tr>\n",
       "    <tr>\n",
       "      <th>Tigre (Barrio Cerrado)</th>\n",
       "      <td>5458.459683</td>\n",
       "    </tr>\n",
       "  </tbody>\n",
       "</table>\n",
       "</div>"
      ],
      "text/plain": [
       "                        price_per_m2\n",
       "place_name_new                      \n",
       "Tigre                    6184.843423\n",
       "Tigre (Barrio Cerrado)   5458.459683"
      ]
     },
     "execution_count": 56,
     "metadata": {},
     "output_type": "execute_result"
    }
   ],
   "source": [
    "data.loc[mask_place_name_null,\"place_name_new\"] = \"Tigre (Barrio Cerrado)\" #asignamos momentáneamente un nuevo valor de place_name para poder agrupar\n",
    "mask_tigrebc = data[\"place_name_new\"] == \"Tigre (Barrio Cerrado)\" \n",
    "mask_tigres = mask_tigre | mask_tigrebc #hacemos una máscara para juntar ambos valores de Tigre\n",
    "data_tigres = data.loc[mask_tigres] #creamos un df \n",
    "data_tigres.pivot_table([\"price_per_m2\"], index=[\"place_name_new\"]) #visualizamos la media por cada grupo."
   ]
  },
  {
   "cell_type": "markdown",
   "metadata": {},
   "source": [
    "Como las medias son muy diferentes, dejamos los 2 valores de *place_name* para cada grupo, y creamos un nuevo *geoname_id* para el caso de \"Tigre (Barrio Cerrado)\" a partir del de \"Tigre\":"
   ]
  },
  {
   "cell_type": "code",
   "execution_count": 57,
   "metadata": {},
   "outputs": [
    {
     "data": {
      "text/html": [
       "<div>\n",
       "<style scoped>\n",
       "    .dataframe tbody tr th:only-of-type {\n",
       "        vertical-align: middle;\n",
       "    }\n",
       "\n",
       "    .dataframe tbody tr th {\n",
       "        vertical-align: top;\n",
       "    }\n",
       "\n",
       "    .dataframe thead th {\n",
       "        text-align: right;\n",
       "    }\n",
       "</style>\n",
       "<table border=\"1\" class=\"dataframe\">\n",
       "  <thead>\n",
       "    <tr style=\"text-align: right;\">\n",
       "      <th></th>\n",
       "      <th>place_name</th>\n",
       "      <th>geonames_id</th>\n",
       "      <th>state_name</th>\n",
       "      <th>place_name_new</th>\n",
       "      <th>geonames_id_new</th>\n",
       "    </tr>\n",
       "  </thead>\n",
       "  <tbody>\n",
       "    <tr>\n",
       "      <th>6489</th>\n",
       "      <td>NaN</td>\n",
       "      <td>NaN</td>\n",
       "      <td>Bs.As. G.B.A. Zona Norte</td>\n",
       "      <td>Tigre (Barrio Cerrado)</td>\n",
       "      <td>342775300.0</td>\n",
       "    </tr>\n",
       "    <tr>\n",
       "      <th>10201</th>\n",
       "      <td>NaN</td>\n",
       "      <td>NaN</td>\n",
       "      <td>Bs.As. G.B.A. Zona Norte</td>\n",
       "      <td>Tigre (Barrio Cerrado)</td>\n",
       "      <td>342775300.0</td>\n",
       "    </tr>\n",
       "    <tr>\n",
       "      <th>11451</th>\n",
       "      <td>NaN</td>\n",
       "      <td>NaN</td>\n",
       "      <td>Bs.As. G.B.A. Zona Norte</td>\n",
       "      <td>Tigre (Barrio Cerrado)</td>\n",
       "      <td>342775300.0</td>\n",
       "    </tr>\n",
       "    <tr>\n",
       "      <th>14839</th>\n",
       "      <td>NaN</td>\n",
       "      <td>NaN</td>\n",
       "      <td>Bs.As. G.B.A. Zona Norte</td>\n",
       "      <td>Tigre (Barrio Cerrado)</td>\n",
       "      <td>342775300.0</td>\n",
       "    </tr>\n",
       "    <tr>\n",
       "      <th>18622</th>\n",
       "      <td>NaN</td>\n",
       "      <td>NaN</td>\n",
       "      <td>Bs.As. G.B.A. Zona Norte</td>\n",
       "      <td>Tigre (Barrio Cerrado)</td>\n",
       "      <td>342775300.0</td>\n",
       "    </tr>\n",
       "    <tr>\n",
       "      <th>21922</th>\n",
       "      <td>NaN</td>\n",
       "      <td>NaN</td>\n",
       "      <td>Bs.As. G.B.A. Zona Norte</td>\n",
       "      <td>Tigre (Barrio Cerrado)</td>\n",
       "      <td>342775300.0</td>\n",
       "    </tr>\n",
       "    <tr>\n",
       "      <th>23664</th>\n",
       "      <td>NaN</td>\n",
       "      <td>NaN</td>\n",
       "      <td>Bs.As. G.B.A. Zona Norte</td>\n",
       "      <td>Tigre (Barrio Cerrado)</td>\n",
       "      <td>342775300.0</td>\n",
       "    </tr>\n",
       "    <tr>\n",
       "      <th>24722</th>\n",
       "      <td>NaN</td>\n",
       "      <td>NaN</td>\n",
       "      <td>Bs.As. G.B.A. Zona Norte</td>\n",
       "      <td>Tigre (Barrio Cerrado)</td>\n",
       "      <td>342775300.0</td>\n",
       "    </tr>\n",
       "    <tr>\n",
       "      <th>38856</th>\n",
       "      <td>NaN</td>\n",
       "      <td>NaN</td>\n",
       "      <td>Bs.As. G.B.A. Zona Norte</td>\n",
       "      <td>Tigre (Barrio Cerrado)</td>\n",
       "      <td>342775300.0</td>\n",
       "    </tr>\n",
       "    <tr>\n",
       "      <th>45970</th>\n",
       "      <td>NaN</td>\n",
       "      <td>NaN</td>\n",
       "      <td>Bs.As. G.B.A. Zona Norte</td>\n",
       "      <td>Tigre (Barrio Cerrado)</td>\n",
       "      <td>342775300.0</td>\n",
       "    </tr>\n",
       "    <tr>\n",
       "      <th>46642</th>\n",
       "      <td>NaN</td>\n",
       "      <td>NaN</td>\n",
       "      <td>Bs.As. G.B.A. Zona Norte</td>\n",
       "      <td>Tigre (Barrio Cerrado)</td>\n",
       "      <td>342775300.0</td>\n",
       "    </tr>\n",
       "    <tr>\n",
       "      <th>53130</th>\n",
       "      <td>NaN</td>\n",
       "      <td>NaN</td>\n",
       "      <td>Bs.As. G.B.A. Zona Norte</td>\n",
       "      <td>Tigre (Barrio Cerrado)</td>\n",
       "      <td>342775300.0</td>\n",
       "    </tr>\n",
       "    <tr>\n",
       "      <th>55306</th>\n",
       "      <td>NaN</td>\n",
       "      <td>NaN</td>\n",
       "      <td>Bs.As. G.B.A. Zona Norte</td>\n",
       "      <td>Tigre (Barrio Cerrado)</td>\n",
       "      <td>342775300.0</td>\n",
       "    </tr>\n",
       "    <tr>\n",
       "      <th>57703</th>\n",
       "      <td>NaN</td>\n",
       "      <td>NaN</td>\n",
       "      <td>Bs.As. G.B.A. Zona Norte</td>\n",
       "      <td>Tigre (Barrio Cerrado)</td>\n",
       "      <td>342775300.0</td>\n",
       "    </tr>\n",
       "    <tr>\n",
       "      <th>57759</th>\n",
       "      <td>NaN</td>\n",
       "      <td>NaN</td>\n",
       "      <td>Bs.As. G.B.A. Zona Norte</td>\n",
       "      <td>Tigre (Barrio Cerrado)</td>\n",
       "      <td>342775300.0</td>\n",
       "    </tr>\n",
       "    <tr>\n",
       "      <th>57764</th>\n",
       "      <td>NaN</td>\n",
       "      <td>NaN</td>\n",
       "      <td>Bs.As. G.B.A. Zona Norte</td>\n",
       "      <td>Tigre (Barrio Cerrado)</td>\n",
       "      <td>342775300.0</td>\n",
       "    </tr>\n",
       "    <tr>\n",
       "      <th>57793</th>\n",
       "      <td>NaN</td>\n",
       "      <td>NaN</td>\n",
       "      <td>Bs.As. G.B.A. Zona Norte</td>\n",
       "      <td>Tigre (Barrio Cerrado)</td>\n",
       "      <td>342775300.0</td>\n",
       "    </tr>\n",
       "    <tr>\n",
       "      <th>58004</th>\n",
       "      <td>NaN</td>\n",
       "      <td>NaN</td>\n",
       "      <td>Bs.As. G.B.A. Zona Norte</td>\n",
       "      <td>Tigre (Barrio Cerrado)</td>\n",
       "      <td>342775300.0</td>\n",
       "    </tr>\n",
       "    <tr>\n",
       "      <th>58037</th>\n",
       "      <td>NaN</td>\n",
       "      <td>NaN</td>\n",
       "      <td>Bs.As. G.B.A. Zona Norte</td>\n",
       "      <td>Tigre (Barrio Cerrado)</td>\n",
       "      <td>342775300.0</td>\n",
       "    </tr>\n",
       "    <tr>\n",
       "      <th>59069</th>\n",
       "      <td>NaN</td>\n",
       "      <td>NaN</td>\n",
       "      <td>Bs.As. G.B.A. Zona Norte</td>\n",
       "      <td>Tigre (Barrio Cerrado)</td>\n",
       "      <td>342775300.0</td>\n",
       "    </tr>\n",
       "    <tr>\n",
       "      <th>62411</th>\n",
       "      <td>NaN</td>\n",
       "      <td>NaN</td>\n",
       "      <td>Bs.As. G.B.A. Zona Norte</td>\n",
       "      <td>Tigre (Barrio Cerrado)</td>\n",
       "      <td>342775300.0</td>\n",
       "    </tr>\n",
       "    <tr>\n",
       "      <th>62413</th>\n",
       "      <td>NaN</td>\n",
       "      <td>NaN</td>\n",
       "      <td>Bs.As. G.B.A. Zona Norte</td>\n",
       "      <td>Tigre (Barrio Cerrado)</td>\n",
       "      <td>342775300.0</td>\n",
       "    </tr>\n",
       "    <tr>\n",
       "      <th>63849</th>\n",
       "      <td>NaN</td>\n",
       "      <td>NaN</td>\n",
       "      <td>Bs.As. G.B.A. Zona Norte</td>\n",
       "      <td>Tigre (Barrio Cerrado)</td>\n",
       "      <td>342775300.0</td>\n",
       "    </tr>\n",
       "  </tbody>\n",
       "</table>\n",
       "</div>"
      ],
      "text/plain": [
       "      place_name  geonames_id                state_name  \\\n",
       "6489         NaN          NaN  Bs.As. G.B.A. Zona Norte   \n",
       "10201        NaN          NaN  Bs.As. G.B.A. Zona Norte   \n",
       "11451        NaN          NaN  Bs.As. G.B.A. Zona Norte   \n",
       "14839        NaN          NaN  Bs.As. G.B.A. Zona Norte   \n",
       "18622        NaN          NaN  Bs.As. G.B.A. Zona Norte   \n",
       "21922        NaN          NaN  Bs.As. G.B.A. Zona Norte   \n",
       "23664        NaN          NaN  Bs.As. G.B.A. Zona Norte   \n",
       "24722        NaN          NaN  Bs.As. G.B.A. Zona Norte   \n",
       "38856        NaN          NaN  Bs.As. G.B.A. Zona Norte   \n",
       "45970        NaN          NaN  Bs.As. G.B.A. Zona Norte   \n",
       "46642        NaN          NaN  Bs.As. G.B.A. Zona Norte   \n",
       "53130        NaN          NaN  Bs.As. G.B.A. Zona Norte   \n",
       "55306        NaN          NaN  Bs.As. G.B.A. Zona Norte   \n",
       "57703        NaN          NaN  Bs.As. G.B.A. Zona Norte   \n",
       "57759        NaN          NaN  Bs.As. G.B.A. Zona Norte   \n",
       "57764        NaN          NaN  Bs.As. G.B.A. Zona Norte   \n",
       "57793        NaN          NaN  Bs.As. G.B.A. Zona Norte   \n",
       "58004        NaN          NaN  Bs.As. G.B.A. Zona Norte   \n",
       "58037        NaN          NaN  Bs.As. G.B.A. Zona Norte   \n",
       "59069        NaN          NaN  Bs.As. G.B.A. Zona Norte   \n",
       "62411        NaN          NaN  Bs.As. G.B.A. Zona Norte   \n",
       "62413        NaN          NaN  Bs.As. G.B.A. Zona Norte   \n",
       "63849        NaN          NaN  Bs.As. G.B.A. Zona Norte   \n",
       "\n",
       "               place_name_new  geonames_id_new  \n",
       "6489   Tigre (Barrio Cerrado)      342775300.0  \n",
       "10201  Tigre (Barrio Cerrado)      342775300.0  \n",
       "11451  Tigre (Barrio Cerrado)      342775300.0  \n",
       "14839  Tigre (Barrio Cerrado)      342775300.0  \n",
       "18622  Tigre (Barrio Cerrado)      342775300.0  \n",
       "21922  Tigre (Barrio Cerrado)      342775300.0  \n",
       "23664  Tigre (Barrio Cerrado)      342775300.0  \n",
       "24722  Tigre (Barrio Cerrado)      342775300.0  \n",
       "38856  Tigre (Barrio Cerrado)      342775300.0  \n",
       "45970  Tigre (Barrio Cerrado)      342775300.0  \n",
       "46642  Tigre (Barrio Cerrado)      342775300.0  \n",
       "53130  Tigre (Barrio Cerrado)      342775300.0  \n",
       "55306  Tigre (Barrio Cerrado)      342775300.0  \n",
       "57703  Tigre (Barrio Cerrado)      342775300.0  \n",
       "57759  Tigre (Barrio Cerrado)      342775300.0  \n",
       "57764  Tigre (Barrio Cerrado)      342775300.0  \n",
       "57793  Tigre (Barrio Cerrado)      342775300.0  \n",
       "58004  Tigre (Barrio Cerrado)      342775300.0  \n",
       "58037  Tigre (Barrio Cerrado)      342775300.0  \n",
       "59069  Tigre (Barrio Cerrado)      342775300.0  \n",
       "62411  Tigre (Barrio Cerrado)      342775300.0  \n",
       "62413  Tigre (Barrio Cerrado)      342775300.0  \n",
       "63849  Tigre (Barrio Cerrado)      342775300.0  "
      ]
     },
     "execution_count": 57,
     "metadata": {},
     "output_type": "execute_result"
    }
   ],
   "source": [
    "#Le agregamos dos ceros al id original: 3427753.0\n",
    "\n",
    "data.loc[mask_tigrebc,\"geonames_id_new\"] = 342775300.0\n",
    "\n",
    "data.loc[mask_tigrebc, [\"place_name\",\"geonames_id\",\"state_name\"\n",
    "                            ,\"place_name_new\",\"geonames_id_new\"]]\n"
   ]
  },
  {
   "cell_type": "markdown",
   "metadata": {},
   "source": [
    "Por último, vemos que place_name tiene un valor erroneo, mediante un value_counts."
   ]
  },
  {
   "cell_type": "code",
   "execution_count": 58,
   "metadata": {},
   "outputs": [],
   "source": [
    "#data.place_name.value_counts().to_csv('place_name_analisis')"
   ]
  },
  {
   "cell_type": "markdown",
   "metadata": {},
   "source": [
    "Le asignamos el valor de geo id creado recientemente ya que según title, corresponde a un barrio cerrado en el partido de Tigre."
   ]
  },
  {
   "cell_type": "code",
   "execution_count": 59,
   "metadata": {},
   "outputs": [],
   "source": [
    "mask_coord_error = data[\"place_name_new\"] == \"coordenadas 34.255511\"\n",
    "data_coord_error = data.loc[mask_coord_error,[\"title\",\"description\",\"geonames_id\",\"place_name\",\"state_name\"]]\n",
    "data_coord_error\n",
    "\n",
    "\n",
    "data.loc[mask_coord_error,\"geonames_id\"] = 342775300.0"
   ]
  },
  {
   "cell_type": "markdown",
   "metadata": {},
   "source": [
    "---"
   ]
  },
  {
   "cell_type": "markdown",
   "metadata": {},
   "source": [
    "Como último paso, intentamos recuperar los nulos de *geonames_id_new*.\n",
    "\n",
    "Creamos un nuevo df con las dos variables que nos interesan, pero excluyendo los valores nulos."
   ]
  },
  {
   "cell_type": "code",
   "execution_count": 60,
   "metadata": {},
   "outputs": [
    {
     "data": {
      "text/html": [
       "<div>\n",
       "<style scoped>\n",
       "    .dataframe tbody tr th:only-of-type {\n",
       "        vertical-align: middle;\n",
       "    }\n",
       "\n",
       "    .dataframe tbody tr th {\n",
       "        vertical-align: top;\n",
       "    }\n",
       "\n",
       "    .dataframe thead th {\n",
       "        text-align: right;\n",
       "    }\n",
       "</style>\n",
       "<table border=\"1\" class=\"dataframe\">\n",
       "  <thead>\n",
       "    <tr style=\"text-align: right;\">\n",
       "      <th></th>\n",
       "      <th>geonames_id_new</th>\n",
       "      <th>place_name_new</th>\n",
       "      <th>state_name</th>\n",
       "    </tr>\n",
       "  </thead>\n",
       "  <tbody>\n",
       "    <tr>\n",
       "      <th>0</th>\n",
       "      <td>3430787.0</td>\n",
       "      <td>Mataderos</td>\n",
       "      <td>Capital Federal</td>\n",
       "    </tr>\n",
       "    <tr>\n",
       "      <th>1</th>\n",
       "      <td>3432039.0</td>\n",
       "      <td>La Plata</td>\n",
       "      <td>Bs.As. G.B.A. Zona Sur</td>\n",
       "    </tr>\n",
       "    <tr>\n",
       "      <th>2</th>\n",
       "      <td>3430787.0</td>\n",
       "      <td>Mataderos</td>\n",
       "      <td>Capital Federal</td>\n",
       "    </tr>\n",
       "    <tr>\n",
       "      <th>3</th>\n",
       "      <td>3431333.0</td>\n",
       "      <td>Liniers</td>\n",
       "      <td>Capital Federal</td>\n",
       "    </tr>\n",
       "    <tr>\n",
       "      <th>4</th>\n",
       "      <td>3435548.0</td>\n",
       "      <td>Centro</td>\n",
       "      <td>Buenos Aires Costa Atlántica</td>\n",
       "    </tr>\n",
       "    <tr>\n",
       "      <th>...</th>\n",
       "      <td>...</td>\n",
       "      <td>...</td>\n",
       "      <td>...</td>\n",
       "    </tr>\n",
       "    <tr>\n",
       "      <th>121214</th>\n",
       "      <td>3428983.0</td>\n",
       "      <td>San Isidro</td>\n",
       "      <td>Bs.As. G.B.A. Zona Norte</td>\n",
       "    </tr>\n",
       "    <tr>\n",
       "      <th>121215</th>\n",
       "      <td>3436077.0</td>\n",
       "      <td>Belgrano</td>\n",
       "      <td>Capital Federal</td>\n",
       "    </tr>\n",
       "    <tr>\n",
       "      <th>121216</th>\n",
       "      <td>3436080.0</td>\n",
       "      <td>Beccar</td>\n",
       "      <td>Bs.As. G.B.A. Zona Norte</td>\n",
       "    </tr>\n",
       "    <tr>\n",
       "      <th>121217</th>\n",
       "      <td>3433775.0</td>\n",
       "      <td>Villa Urquiza</td>\n",
       "      <td>Capital Federal</td>\n",
       "    </tr>\n",
       "    <tr>\n",
       "      <th>121219</th>\n",
       "      <td>3433955.0</td>\n",
       "      <td>Capital Federal</td>\n",
       "      <td>Capital Federal</td>\n",
       "    </tr>\n",
       "  </tbody>\n",
       "</table>\n",
       "<p>102526 rows × 3 columns</p>\n",
       "</div>"
      ],
      "text/plain": [
       "        geonames_id_new   place_name_new                    state_name\n",
       "0             3430787.0        Mataderos               Capital Federal\n",
       "1             3432039.0         La Plata        Bs.As. G.B.A. Zona Sur\n",
       "2             3430787.0        Mataderos               Capital Federal\n",
       "3             3431333.0          Liniers               Capital Federal\n",
       "4             3435548.0           Centro  Buenos Aires Costa Atlántica\n",
       "...                 ...              ...                           ...\n",
       "121214        3428983.0       San Isidro      Bs.As. G.B.A. Zona Norte\n",
       "121215        3436077.0         Belgrano               Capital Federal\n",
       "121216        3436080.0           Beccar      Bs.As. G.B.A. Zona Norte\n",
       "121217        3433775.0    Villa Urquiza               Capital Federal\n",
       "121219        3433955.0  Capital Federal               Capital Federal\n",
       "\n",
       "[102526 rows x 3 columns]"
      ]
     },
     "execution_count": 60,
     "metadata": {},
     "output_type": "execute_result"
    }
   ],
   "source": [
    "mask_geoid_notnull = data.geonames_id_new.notnull()\n",
    "df_geo_id = data.loc[mask_geoid_notnull,[\"geonames_id_new\",\"place_name_new\",\"state_name\"]]\n",
    "df_geo_id"
   ]
  },
  {
   "cell_type": "markdown",
   "metadata": {},
   "source": [
    "Ahora eliminamos todos los duplicados de id. Eso nos va a permitir quedarnos con un df que contiene una localidad para cada id. "
   ]
  },
  {
   "cell_type": "code",
   "execution_count": 61,
   "metadata": {},
   "outputs": [
    {
     "name": "stdout",
     "output_type": "stream",
     "text": [
      "(102526, 3)\n",
      "(646, 3)\n"
     ]
    },
    {
     "data": {
      "text/html": [
       "<div>\n",
       "<style scoped>\n",
       "    .dataframe tbody tr th:only-of-type {\n",
       "        vertical-align: middle;\n",
       "    }\n",
       "\n",
       "    .dataframe tbody tr th {\n",
       "        vertical-align: top;\n",
       "    }\n",
       "\n",
       "    .dataframe thead th {\n",
       "        text-align: right;\n",
       "    }\n",
       "</style>\n",
       "<table border=\"1\" class=\"dataframe\">\n",
       "  <thead>\n",
       "    <tr style=\"text-align: right;\">\n",
       "      <th></th>\n",
       "      <th>geonames_id_new</th>\n",
       "      <th>place_name_new</th>\n",
       "      <th>state_name</th>\n",
       "    </tr>\n",
       "  </thead>\n",
       "  <tbody>\n",
       "    <tr>\n",
       "      <th>0</th>\n",
       "      <td>3430787.0</td>\n",
       "      <td>Mataderos</td>\n",
       "      <td>Capital Federal</td>\n",
       "    </tr>\n",
       "    <tr>\n",
       "      <th>1</th>\n",
       "      <td>3432039.0</td>\n",
       "      <td>La Plata</td>\n",
       "      <td>Bs.As. G.B.A. Zona Sur</td>\n",
       "    </tr>\n",
       "    <tr>\n",
       "      <th>3</th>\n",
       "      <td>3431333.0</td>\n",
       "      <td>Liniers</td>\n",
       "      <td>Capital Federal</td>\n",
       "    </tr>\n",
       "    <tr>\n",
       "      <th>4</th>\n",
       "      <td>3435548.0</td>\n",
       "      <td>Centro</td>\n",
       "      <td>Buenos Aires Costa Atlántica</td>\n",
       "    </tr>\n",
       "    <tr>\n",
       "      <th>5</th>\n",
       "      <td>3433657.0</td>\n",
       "      <td>Gualeguaychú</td>\n",
       "      <td>Entre Ríos</td>\n",
       "    </tr>\n",
       "    <tr>\n",
       "      <th>...</th>\n",
       "      <td>...</td>\n",
       "      <td>...</td>\n",
       "      <td>...</td>\n",
       "    </tr>\n",
       "    <tr>\n",
       "      <th>116479</th>\n",
       "      <td>3861887.0</td>\n",
       "      <td>Chaco</td>\n",
       "      <td>Chaco</td>\n",
       "    </tr>\n",
       "    <tr>\n",
       "      <th>117229</th>\n",
       "      <td>3429610.0</td>\n",
       "      <td>Ranchos</td>\n",
       "      <td>Buenos Aires Interior</td>\n",
       "    </tr>\n",
       "    <tr>\n",
       "      <th>119567</th>\n",
       "      <td>3854153.0</td>\n",
       "      <td>Hoyo de Epuyén</td>\n",
       "      <td>Chubut</td>\n",
       "    </tr>\n",
       "    <tr>\n",
       "      <th>119657</th>\n",
       "      <td>3850920.0</td>\n",
       "      <td>Laguna Paiva</td>\n",
       "      <td>Santa Fe</td>\n",
       "    </tr>\n",
       "    <tr>\n",
       "      <th>119832</th>\n",
       "      <td>3430940.0</td>\n",
       "      <td>Malabrigo</td>\n",
       "      <td>Santa Fe</td>\n",
       "    </tr>\n",
       "  </tbody>\n",
       "</table>\n",
       "<p>646 rows × 3 columns</p>\n",
       "</div>"
      ],
      "text/plain": [
       "        geonames_id_new  place_name_new                    state_name\n",
       "0             3430787.0       Mataderos               Capital Federal\n",
       "1             3432039.0        La Plata        Bs.As. G.B.A. Zona Sur\n",
       "3             3431333.0         Liniers               Capital Federal\n",
       "4             3435548.0          Centro  Buenos Aires Costa Atlántica\n",
       "5             3433657.0    Gualeguaychú                    Entre Ríos\n",
       "...                 ...             ...                           ...\n",
       "116479        3861887.0           Chaco                         Chaco\n",
       "117229        3429610.0         Ranchos         Buenos Aires Interior\n",
       "119567        3854153.0  Hoyo de Epuyén                        Chubut\n",
       "119657        3850920.0    Laguna Paiva                      Santa Fe\n",
       "119832        3430940.0       Malabrigo                      Santa Fe\n",
       "\n",
       "[646 rows x 3 columns]"
      ]
     },
     "execution_count": 61,
     "metadata": {},
     "output_type": "execute_result"
    }
   ],
   "source": [
    "df_geo_id_dropdup = df_geo_id.drop_duplicates(subset=\"geonames_id_new\")\n",
    "print(df_geo_id.shape)\n",
    "print(df_geo_id_dropdup.shape)\n",
    "df_geo_id_dropdup"
   ]
  },
  {
   "cell_type": "code",
   "execution_count": 62,
   "metadata": {},
   "outputs": [],
   "source": [
    "mapeo = df_geo_id_dropdup.set_index('geonames_id_new')['place_name_new'].to_dict()\n",
    "#mapeo "
   ]
  },
  {
   "cell_type": "code",
   "execution_count": 63,
   "metadata": {},
   "outputs": [],
   "source": [
    "mask_geoidnew_nulls =  data.geonames_id_new.isnull()\n",
    "data.loc[mask_geoidnew_nulls,\"geonames_id_new\"] = data[\"place_name_new\"].map(mapeo)"
   ]
  },
  {
   "cell_type": "markdown",
   "metadata": {},
   "source": [
    "Sin embargo,al verificar la cantidad de nulos, vemos que no se modifica. Por lo que no habría informacion que recuperar, es decir, las localidades presentes en el diccionario ya tenían su geo id asociado:"
   ]
  },
  {
   "cell_type": "code",
   "execution_count": 64,
   "metadata": {},
   "outputs": [
    {
     "data": {
      "text/plain": [
       "18694"
      ]
     },
     "execution_count": 64,
     "metadata": {},
     "output_type": "execute_result"
    }
   ],
   "source": [
    "data.geonames_id_new.isnull().sum()\n",
    "#data.loc[mask_geoidnew_nulls,[\"geonames_id_new\",\"place_name_new\"]].groupby(\"place_name_new\").agg(list)"
   ]
  },
  {
   "cell_type": "markdown",
   "metadata": {},
   "source": [
    "#### CONCLUSIÓN 📌 \n",
    "\n",
    "Decidimos prescindir de *geonames_id_new*, ya que quedó un porcentaje grande de nulos y esa información podemos obtenerla de las combinaciones únicas de *place_name_new* y *state_name*."
   ]
  },
  {
   "cell_type": "markdown",
   "metadata": {},
   "source": [
    "## SECCIÓN 2 - INFORMACIÓN DESCRIPTIVA\n",
    "---\n",
    "\n",
    "1. floor\n",
    "2. rooms\n",
    "3. description\n",
    "4. title\n",
    "5. surface_total_in_m2\n",
    "6. surface_covered_in_m2\n",
    "7. property_type"
   ]
  },
  {
   "cell_type": "code",
   "execution_count": 65,
   "metadata": {},
   "outputs": [
    {
     "data": {
      "text/plain": [
       "floor          float64\n",
       "rooms          float64\n",
       "description     object\n",
       "title           object\n",
       "dtype: object"
      ]
     },
     "execution_count": 65,
     "metadata": {},
     "output_type": "execute_result"
    }
   ],
   "source": [
    "data[[\"floor\",\"rooms\",\"description\",\"title\"]].dtypes"
   ]
  },
  {
   "cell_type": "markdown",
   "metadata": {},
   "source": [
    "#### SECCIÓN 2. 1 - ROOMS"
   ]
  },
  {
   "cell_type": "markdown",
   "metadata": {},
   "source": [
    " #### ANÁLISIS 🔎"
   ]
  },
  {
   "cell_type": "markdown",
   "metadata": {},
   "source": [
    "Analizamos la distribución de los datos, los valores únicos y la cantidad de nulos en *rooms*:"
   ]
  },
  {
   "cell_type": "code",
   "execution_count": 66,
   "metadata": {},
   "outputs": [
    {
     "data": {
      "text/plain": [
       "count    47390.000000\n",
       "mean         3.080840\n",
       "std          1.860773\n",
       "min          1.000000\n",
       "25%          2.000000\n",
       "50%          3.000000\n",
       "75%          4.000000\n",
       "max         32.000000\n",
       "Name: rooms, dtype: float64"
      ]
     },
     "execution_count": 66,
     "metadata": {},
     "output_type": "execute_result"
    }
   ],
   "source": [
    "data.rooms.describe() #vemos que la media de habitaciones es cercana a 3 y el desvío, 1.8."
   ]
  },
  {
   "cell_type": "code",
   "execution_count": 67,
   "metadata": {},
   "outputs": [
    {
     "name": "stdout",
     "output_type": "stream",
     "text": [
      "Valores únicos en 'rooms': \n",
      "3.0     12567\n",
      "2.0     12433\n",
      "4.0      7937\n",
      "1.0      7377\n",
      "5.0      3782\n",
      "6.0      1403\n",
      "7.0       770\n",
      "8.0       409\n",
      "10.0      226\n",
      "9.0       184\n",
      "11.0       72\n",
      "12.0       65\n",
      "13.0       33\n",
      "14.0       27\n",
      "15.0       26\n",
      "17.0       16\n",
      "16.0       11\n",
      "20.0       11\n",
      "22.0        8\n",
      "18.0        6\n",
      "21.0        5\n",
      "30.0        4\n",
      "25.0        4\n",
      "19.0        4\n",
      "32.0        3\n",
      "23.0        2\n",
      "24.0        1\n",
      "27.0        1\n",
      "29.0        1\n",
      "31.0        1\n",
      "28.0        1\n",
      "Name: rooms, dtype: int64\n"
     ]
    }
   ],
   "source": [
    "print(\"Valores únicos en 'rooms': \")\n",
    "print(data.rooms.value_counts())"
   ]
  },
  {
   "cell_type": "code",
   "execution_count": 68,
   "metadata": {},
   "outputs": [
    {
     "name": "stdout",
     "output_type": "stream",
     "text": [
      "Cantidad de nulos en 'rooms':\n",
      "73830\n",
      "------------------------\n",
      "Porcentaje de nulos en 'rooms':\n",
      "60.91\n"
     ]
    }
   ],
   "source": [
    "print(\"Cantidad de nulos en 'rooms':\")\n",
    "print(data.rooms.isnull().sum())\n",
    "print(\"------------------------\")\n",
    "print(\"Porcentaje de nulos en 'rooms':\")\n",
    "porc_nulos = (data.rooms.isnull().sum() / data.rooms.shape[0] *100).round(2)\n",
    "print(porc_nulos) "
   ]
  },
  {
   "cell_type": "markdown",
   "metadata": {},
   "source": [
    "\n",
    "#### Limpieza de Datos 📝"
   ]
  },
  {
   "cell_type": "markdown",
   "metadata": {},
   "source": [
    "Si bien tenemos un alto porcentaje de nulos, queremos intentar recuperar datos a partir de la información cualitiva de las columnas *title* y description.\n",
    "\n",
    "Para ello comenzamos haciendo data wrangling sobre *description*.\n"
   ]
  },
  {
   "cell_type": "markdown",
   "metadata": {},
   "source": [
    "* **Creamos una nueva columna *description_new***"
   ]
  },
  {
   "cell_type": "code",
   "execution_count": 69,
   "metadata": {},
   "outputs": [],
   "source": [
    "#Convertimos todos los caracteres a minúsculas para poder aplicar mas fácilmente patrones de búsqueda.\n",
    "data['description_new'] = data['description'].str.lower()"
   ]
  },
  {
   "cell_type": "code",
   "execution_count": 70,
   "metadata": {},
   "outputs": [],
   "source": [
    "#En una lista se almacenan tuplas que contienen todas las posibles variantes de números escritos en palabras, junto con su versión en dígitos. \n",
    "#También se incluyen las vocales con y sin tilde.\n",
    "lista = [('uno', 1), ('dos', 2), ('tres', 3), ('cuatro', 4), ('cinco', 5), ('seis', 6), ('siete', 7), ('ocho', 8), ('nueve', 9), \n",
    "         ('monoambiente','1 amb'), ('1er', 1), ('2do', 2), ('3er', 3), ('4to', 4), ('5to', 5), ('6to', 6), ('7mo', 7), ('8vo', 8), ('9no', 9), ('10mo', 10), \n",
    "         ('primer', 1), ('primero', 1), ('segundo', 2), ('tercero', 3), ('tercer', 3), ('cuarto', 4), ('quinto', 5), ('sexto', 6), ('séptimo', 7), ('octavo', 8), ('noveno', 9), ('décimo', 10), \n",
    "         ('1º', 1), ('2º', 2), ('3º', 3), ('4º', 4), ('5º', 5), ('6º', 6), ('7º', 7), ('8º', 8), ('9º', 9), ('10º', 10),\n",
    "         ('á', 'a'), ('é', 'e'), ('í', 'i'), ('ó', 'o'), ('ú', 'u')]\n",
    "#Se define una función que en una columna \"key\", reemplaza el primer valor de la tupla por el segundo.\n",
    "def reemplazar_nros_words(df, lista, key):\n",
    "    for tupla in lista:\n",
    "        a, b = tupla\n",
    "        df[key] = df[key].str.replace(a, str(b)) #utilizamos el método .replace\n",
    "\n",
    "reemplazar_nros_words(data, lista, 'description_new')"
   ]
  },
  {
   "cell_type": "code",
   "execution_count": 71,
   "metadata": {},
   "outputs": [
    {
     "name": "stdout",
     "output_type": "stream",
     "text": [
      "0    2 ambientes tipo casa planta baja por pasillo,...\n",
      "1    venta de departamento en 10 piso al frente, a ...\n",
      "2    2 ambientes 3 piso lateral living comedor ampl...\n",
      "3    ph 3 ambientes con patio. hay 3 deptos en lote...\n",
      "4    departamento con fantastica iluminacion natura...\n",
      "5    casa en el perimetro del barrio 338, ubicada e...\n",
      "6    muy buen ph al frente con entrada independient...\n",
      "7    excelente 1 amb a estrenar amplio super lumino...\n",
      "8    excelente 2 ambientes  estrenar amplio super l...\n",
      "9    mednoza al 7600a una cuadra de calle mendozawh...\n",
      "Name: description_new, dtype: object\n"
     ]
    }
   ],
   "source": [
    "print(data.description_new.head(10)) #Vista rápida a description_new para comprobar el funcionamiento"
   ]
  },
  {
   "cell_type": "markdown",
   "metadata": {},
   "source": [
    "Una vez arreglada la columna *description*, intentamos extraer información.\n",
    "\n",
    "* **creamos una nueva columna rooms_new**.\n",
    "\n",
    "Luego diseñamos una regex para extraer todo lo que nos informe sobre cantidad de rooms."
   ]
  },
  {
   "cell_type": "code",
   "execution_count": 72,
   "metadata": {},
   "outputs": [],
   "source": [
    "data['rooms_new'] = data['rooms']"
   ]
  },
  {
   "cell_type": "code",
   "execution_count": 73,
   "metadata": {},
   "outputs": [],
   "source": [
    "#los patrones buscan dormitorios o ambientes, y el/los dígitos asociados.\n",
    "patron_dorm = \"(?P<dormitorios>\\d+)\\sdorm\"\n",
    "patron_amb = \"(?P<ambiente>\\d+)\\samb\"\n",
    "\n",
    "patron_dorm_compiled = re.compile(patron_dorm)\n",
    "patron_amb_compiled = re.compile(patron_amb)"
   ]
  },
  {
   "cell_type": "markdown",
   "metadata": {},
   "source": [
    "A continuación definimos 2 funciones que van a **complementar la aplicación de la regex**."
   ]
  },
  {
   "cell_type": "code",
   "execution_count": 74,
   "metadata": {},
   "outputs": [],
   "source": [
    "\n",
    "def string_to_float_list(lista):      #función que transforma una lista de strings a una lista de floats\n",
    "    return list(map(float, lista))\n",
    "\n",
    "\n",
    "def max_list(lista, max_value):       #función que selecciona el valor máximo de una lista, siempre que ese valor sea menor a un umbral definido como max_value\n",
    "    if not lista:\n",
    "        return np.NaN\n",
    "    else:\n",
    "        valores_permitidos = [x for x in lista if x < max_value]\n",
    "        return max(valores_permitidos, default = np.NaN)    "
   ]
  },
  {
   "cell_type": "markdown",
   "metadata": {},
   "source": [
    "A continuación aplicamos las regex. **Tomamos como máximo valor permitido un número de 10 habitaciones**. Todo valor mayor no se utiliza para la imputación."
   ]
  },
  {
   "cell_type": "code",
   "execution_count": 75,
   "metadata": {},
   "outputs": [],
   "source": [
    "lista_new = data.loc[data.rooms.isnull(),'description_new'].apply(lambda x: patron_dorm_compiled.findall(str(x)) #En todas las filas con valor nulo para rooms, se aplican ambas regex\n",
    "                                                         if patron_dorm_compiled.findall(str(x))                 #si una no obtiene resultado, se pasa a la otra.\n",
    "                                                         else patron_amb_compiled.findall(str(x)))               #el resultado se guarda en la variable lista_new\n",
    "\n",
    "data.loc[data.rooms.isnull(),'rooms_new'] = lista_new.apply(lambda x: max_list(string_to_float_list(x), 10)) #se convierte a string la lista obtenida,luego se elige el valor máximo, y se lo aplica a la fila correspondiente\n",
    "                                                                                                            #en la columna nueva."
   ]
  },
  {
   "cell_type": "markdown",
   "metadata": {},
   "source": [
    "✔️ Comparamos los resultados antes y después de aplicar las regex y comprobamos que **disminuyó notablemente la cantidad de nulos**:"
   ]
  },
  {
   "cell_type": "code",
   "execution_count": 76,
   "metadata": {},
   "outputs": [
    {
     "name": "stdout",
     "output_type": "stream",
     "text": [
      "Cantidad de nulos en 'rooms':\n",
      "73830\n",
      "Cantidad de nulos en 'rooms_new':\n",
      "20962\n",
      "------------------------\n",
      "Porcentaje de nulos en 'rooms':\n",
      "60.91 %\n",
      "Porcentaje de nulos en 'rooms_new':\n",
      "17.29 %\n"
     ]
    }
   ],
   "source": [
    "print(\"Cantidad de nulos en 'rooms':\")\n",
    "print(data.rooms.isnull().sum())\n",
    "print(\"Cantidad de nulos en 'rooms_new':\")\n",
    "print(data.rooms_new.isnull().sum())\n",
    "print(\"------------------------\")\n",
    "print(\"Porcentaje de nulos en 'rooms':\")\n",
    "porc_nulos = (data.rooms.isnull().sum() / data.rooms.shape[0] *100).round(2)\n",
    "print(porc_nulos,\"%\") \n",
    "print(\"Porcentaje de nulos en 'rooms_new':\")\n",
    "porc_nulos = (data.rooms_new.isnull().sum() / data.rooms_new.shape[0] *100).round(2)\n",
    "print(porc_nulos,\"%\") "
   ]
  },
  {
   "cell_type": "markdown",
   "metadata": {},
   "source": [
    "A continuación verificamos si hay filas que hayan obtenido el valor 0. "
   ]
  },
  {
   "cell_type": "code",
   "execution_count": 77,
   "metadata": {},
   "outputs": [
    {
     "name": "stdout",
     "output_type": "stream",
     "text": [
      "3\n"
     ]
    }
   ],
   "source": [
    "print(data.loc[data.rooms_new == 0.0, 'rooms_new'].size)"
   ]
  },
  {
   "cell_type": "markdown",
   "metadata": {},
   "source": [
    "Dado que son muy pocos valores, los normalizamos imputando la media de la variable:"
   ]
  },
  {
   "cell_type": "code",
   "execution_count": 78,
   "metadata": {},
   "outputs": [],
   "source": [
    "mask_valores_validos = data.rooms_new != 0 & data.rooms_new.notnull() #selecciono los valores distintos de 0 y los no nulos para calcular la media\n",
    "media_rooms_new = data.loc[mask_valores_validos,'rooms_new'].mean().round() #obtengo la media\n",
    "data.loc[data.rooms_new == 0.0, 'rooms_new'] = media_rooms_new #la imputo a los valores = 0"
   ]
  },
  {
   "cell_type": "code",
   "execution_count": 79,
   "metadata": {},
   "outputs": [
    {
     "name": "stdout",
     "output_type": "stream",
     "text": [
      "0.0\n"
     ]
    }
   ],
   "source": [
    "# verifico la cantidad de valores con 0 nuevamente\n",
    "print(data.loc[data.rooms_new == 0.0, 'rooms_new'].sum())"
   ]
  },
  {
   "cell_type": "code",
   "execution_count": 80,
   "metadata": {},
   "outputs": [
    {
     "name": "stdout",
     "output_type": "stream",
     "text": [
      "        rooms  rooms_new\n",
      "0         NaN        2.0\n",
      "1         NaN        2.0\n",
      "2         NaN        2.0\n",
      "3         NaN        3.0\n",
      "4         NaN        1.0\n",
      "...       ...        ...\n",
      "121215    NaN        2.0\n",
      "121216    NaN        3.0\n",
      "121217    NaN        1.0\n",
      "121218    NaN        2.0\n",
      "121219    NaN        NaN\n",
      "\n",
      "[73830 rows x 2 columns]\n"
     ]
    }
   ],
   "source": [
    "#Visualizamos rápidamente ambas columnas para verificar que realizó la imputación.\n",
    "print(data.loc[data.rooms.isnull(), ['rooms', 'rooms_new']])"
   ]
  },
  {
   "cell_type": "markdown",
   "metadata": {},
   "source": [
    "----"
   ]
  },
  {
   "cell_type": "markdown",
   "metadata": {},
   "source": [
    "Aún tenemos un 17% de nulos. Para recuperar aún mas información, seguimos los mismos pasos pero utilizando la columna *title*. Además, se completan los valores faltantes (2) de la columna 'description_new' con la columna 'title_new', ya que suelen presentar información similar. \n",
    "\n"
   ]
  },
  {
   "cell_type": "code",
   "execution_count": 81,
   "metadata": {},
   "outputs": [],
   "source": [
    "data['title_new'] = data['title'].str.lower()\n",
    "\n",
    "# Se termina la limpieza de la columna de 'description_new'\n",
    "data.loc[data.description_new.isnull(), 'description_new'] = data.title_new "
   ]
  },
  {
   "cell_type": "code",
   "execution_count": 82,
   "metadata": {},
   "outputs": [
    {
     "data": {
      "text/plain": [
       "0"
      ]
     },
     "execution_count": 82,
     "metadata": {},
     "output_type": "execute_result"
    }
   ],
   "source": [
    "data.description_new.isnull().sum() # se verifica que ya no se tengan mas valores nulos"
   ]
  },
  {
   "cell_type": "code",
   "execution_count": 83,
   "metadata": {},
   "outputs": [],
   "source": [
    "reemplazar_nros_words(data, lista, 'title_new') # aplicamos la funcion definida previamente"
   ]
  },
  {
   "cell_type": "code",
   "execution_count": 84,
   "metadata": {},
   "outputs": [],
   "source": [
    "lista_new = data.loc[data.rooms.isnull(),'title_new'].apply(lambda x: patron_dorm_compiled.findall(str(x)) \n",
    "                                                         if patron_dorm_compiled.findall(str(x)) \n",
    "                                                         else patron_amb_compiled.findall(str(x)))\n",
    "\n",
    "data.loc[data.rooms_new.isnull(),'rooms_new'] = lista_new.apply(lambda x: max_list(string_to_float_list(x), 4)) # Nuevamente usamos un max_value = 10 "
   ]
  },
  {
   "cell_type": "markdown",
   "metadata": {},
   "source": [
    "✔️ Vemos que los nulos disminuyeron un poco más, de 20.962 a 19.053:"
   ]
  },
  {
   "cell_type": "code",
   "execution_count": 85,
   "metadata": {},
   "outputs": [
    {
     "name": "stdout",
     "output_type": "stream",
     "text": [
      "73830\n",
      "19385\n"
     ]
    }
   ],
   "source": [
    "print(data.rooms.isnull().sum())\n",
    "print(data.rooms_new.isnull().sum())"
   ]
  },
  {
   "cell_type": "markdown",
   "metadata": {},
   "source": [
    "---\n"
   ]
  },
  {
   "cell_type": "markdown",
   "metadata": {},
   "source": [
    "📌 Para terminar de limpiar la columna, decidimos hacer una **imputación por la media de la variable**. Sin embargo, segmentamos la media agrupando por tipo de propiedad, para ser más precisos."
   ]
  },
  {
   "cell_type": "markdown",
   "metadata": {},
   "source": [
    "Creamos una nueva property_type_new, que aunque no es necesario utilizarla en este momento, se integrará al dataset final posteriormente."
   ]
  },
  {
   "cell_type": "code",
   "execution_count": 86,
   "metadata": {},
   "outputs": [],
   "source": [
    "data[\"property_type_new\"] = data[\"property_type\"]"
   ]
  },
  {
   "cell_type": "markdown",
   "metadata": {},
   "source": [
    "Usamos un group by para ver la cantidad media de habitaciones según propiedad:"
   ]
  },
  {
   "cell_type": "code",
   "execution_count": 87,
   "metadata": {},
   "outputs": [
    {
     "name": "stdout",
     "output_type": "stream",
     "text": [
      "               rooms_new\n",
      "property_type           \n",
      "PH                   3.0\n",
      "apartment            2.0\n",
      "house                3.0\n",
      "store                3.0\n"
     ]
    }
   ],
   "source": [
    "\n",
    "media_x_property_type = data.loc[:, ['property_type','rooms_new']].groupby(['property_type']).mean().round() #agrupamos por tipo de propiedados y aplicamos la media\n",
    "media_x_property_type = data.loc[:, ['property_type','rooms_new']].groupby(['property_type']).mean().round()\n",
    "print(media_x_property_type)\n"
   ]
  },
  {
   "cell_type": "code",
   "execution_count": 88,
   "metadata": {},
   "outputs": [
    {
     "name": "stdout",
     "output_type": "stream",
     "text": [
      "{'PH': 3.0, 'apartment': 2.0, 'house': 3.0, 'store': 3.0}\n"
     ]
    }
   ],
   "source": [
    "property_type_media_dict = media_x_property_type.to_dict()['rooms_new']  # convertimos el df resultante en un diccionario\n",
    "print(property_type_media_dict)\n",
    "\n",
    "for key in property_type_media_dict:  #definimos un ciclo para recorrer los valores nulos restantes, y aplicarles la media según su property type.\n",
    "    data.loc[data.rooms_new.isnull() & (data.property_type == key), 'rooms_new'] = property_type_media_dict[key]\n",
    "    "
   ]
  },
  {
   "cell_type": "markdown",
   "metadata": {},
   "source": [
    "✔️ Verificamos que la columna *rooms* **ya no tiene valos nulos**."
   ]
  },
  {
   "cell_type": "code",
   "execution_count": 89,
   "metadata": {},
   "outputs": [
    {
     "name": "stdout",
     "output_type": "stream",
     "text": [
      "Cantidad de nulos en 'rooms':\n",
      "73830\n",
      "Cantidad de nulos en 'rooms_new':\n",
      "0\n",
      "------------------------\n",
      "Porcentaje de nulos en 'rooms':\n",
      "60.91 %\n",
      "Porcentaje de nulos en 'rooms_new':\n",
      "0.0 %\n"
     ]
    }
   ],
   "source": [
    "print(\"Cantidad de nulos en 'rooms':\")\n",
    "print(data.rooms.isnull().sum())\n",
    "print(\"Cantidad de nulos en 'rooms_new':\")\n",
    "print(data.rooms_new.isnull().sum())\n",
    "print(\"------------------------\")\n",
    "print(\"Porcentaje de nulos en 'rooms':\")\n",
    "porc_nulos = (data.rooms.isnull().sum() / data.rooms.shape[0] *100).round(2)\n",
    "print(porc_nulos,\"%\") \n",
    "print(\"Porcentaje de nulos en 'rooms_new':\")\n",
    "porc_nulos = (data.rooms_new.isnull().sum() / data.rooms_new.shape[0] *100).round(2)\n",
    "print(porc_nulos,\"%\") "
   ]
  },
  {
   "cell_type": "code",
   "execution_count": 90,
   "metadata": {},
   "outputs": [
    {
     "data": {
      "text/plain": [
       "count    121220.000000\n",
       "mean          2.685011\n",
       "std           1.379612\n",
       "min           1.000000\n",
       "25%           2.000000\n",
       "50%           2.000000\n",
       "75%           3.000000\n",
       "max          32.000000\n",
       "Name: rooms_new, dtype: float64"
      ]
     },
     "execution_count": 90,
     "metadata": {},
     "output_type": "execute_result"
    }
   ],
   "source": [
    "data.rooms_new.describe()"
   ]
  },
  {
   "cell_type": "markdown",
   "metadata": {},
   "source": [
    "#### SECCIÓN 2. 2 - FLOOR"
   ]
  },
  {
   "cell_type": "markdown",
   "metadata": {},
   "source": [
    "#### ANÁLISIS 🔎\n"
   ]
  },
  {
   "cell_type": "markdown",
   "metadata": {},
   "source": [
    "Analizamos la distribución de los datos, los valores únicos y la cantidad de nulos en *floor*:"
   ]
  },
  {
   "cell_type": "code",
   "execution_count": 91,
   "metadata": {},
   "outputs": [
    {
     "data": {
      "text/plain": [
       "count    7899.000000\n",
       "mean       17.452336\n",
       "std       120.243621\n",
       "min         1.000000\n",
       "25%         1.000000\n",
       "50%         3.000000\n",
       "75%         6.000000\n",
       "max      3150.000000\n",
       "Name: floor, dtype: float64"
      ]
     },
     "execution_count": 91,
     "metadata": {},
     "output_type": "execute_result"
    }
   ],
   "source": [
    "data.floor.describe()"
   ]
  },
  {
   "cell_type": "code",
   "execution_count": 92,
   "metadata": {},
   "outputs": [
    {
     "name": "stdout",
     "output_type": "stream",
     "text": [
      "Valores únicos en 'floor': \n",
      "1.0      2080\n",
      "2.0      1542\n",
      "3.0       914\n",
      "4.0       658\n",
      "5.0       484\n",
      "         ... \n",
      "124.0       1\n",
      "691.0       1\n",
      "205.0       1\n",
      "302.0       1\n",
      "30.0        1\n",
      "Name: floor, Length: 182, dtype: int64\n"
     ]
    }
   ],
   "source": [
    "print(\"Valores únicos en 'floor': \")\n",
    "print(data.floor.value_counts())"
   ]
  },
  {
   "cell_type": "code",
   "execution_count": 93,
   "metadata": {},
   "outputs": [
    {
     "name": "stdout",
     "output_type": "stream",
     "text": [
      "Cantidad de nulos en 'floor':\n",
      "113321\n",
      "------------------------\n",
      "Porcentaje de nulos en 'floor':\n",
      "93.48\n"
     ]
    }
   ],
   "source": [
    "print(\"Cantidad de nulos en 'floor':\")\n",
    "print(data.floor.isnull().sum())\n",
    "print(\"------------------------\")\n",
    "print(\"Porcentaje de nulos en 'floor':\")\n",
    "porc_nulos = (data.floor.isnull().sum() / data.floor.shape[0] *100).round(2)\n",
    "print(porc_nulos) "
   ]
  },
  {
   "cell_type": "markdown",
   "metadata": {},
   "source": [
    "A pesar del muy alto porcentaje de nulos en *floor*, queremos ver si es posible recuperar información, con una estategia similar que para *rooms*, aunque con algunas modificaciones."
   ]
  },
  {
   "cell_type": "markdown",
   "metadata": {},
   "source": [
    "Creamos una pivot_table para visualizar la cantidad de valores de floor, la cantidad de nulos y la media de pisos (floor) para cada tipo de propiedad (PH, departamento, casa, tienda)."
   ]
  },
  {
   "cell_type": "code",
   "execution_count": 94,
   "metadata": {},
   "outputs": [
    {
     "name": "stdout",
     "output_type": "stream",
     "text": [
      "               floor  floor_null  floor_null_property\n",
      "property_type                                        \n",
      "PH               573        5178             0.900365\n",
      "apartment       6521       64544             0.908239\n",
      "house            765       39503             0.981002\n",
      "store             40        4096             0.990329\n"
     ]
    }
   ],
   "source": [
    "data['floor_null'] = data['floor'].isnull()\n",
    "data['floor_null_property'] = data['floor'].isnull()\n",
    "data['porc_nulos_x_property'] = (data.floor.isnull().sum() / data.shape[0] *100).round(2)\n",
    "\n",
    "resultado = data.groupby('property_type').agg({'floor': 'count', 'floor_null': 'sum', 'floor_null_property': 'mean'})\n",
    "print(resultado)"
   ]
  },
  {
   "cell_type": "markdown",
   "metadata": {},
   "source": [
    "Analizamos si la columna *description_new* tiene informacion acerca del piso (floor) con el método .contains, para ver si vale la pena utilizar la regex. \n",
    "\n",
    "Obtenemos 54376 valores que podrían recuperarse."
   ]
  },
  {
   "cell_type": "code",
   "execution_count": 95,
   "metadata": {},
   "outputs": [
    {
     "name": "stdout",
     "output_type": "stream",
     "text": [
      "1         venta de departamento en 10 piso al frente, a ...\n",
      "2         2 ambientes 3 piso lateral living comedor ampl...\n",
      "3         ph 3 ambientes con patio. hay 3 deptos en lote...\n",
      "5         casa en el perimetro del barrio 338, ubicada e...\n",
      "6         muy buen ph al frente con entrada independient...\n",
      "                                ...                        \n",
      "121212    espectacular casa estilo racionalista en calle...\n",
      "121213    excelente casa en martinez. inmejorable ubicai...\n",
      "121214     ***venta con renta***local en edificio lomas ...\n",
      "121216    excelente e impecable casa en venta en las lom...\n",
      "121218    2 amb al contrafrente,  luminoso. el departame...\n",
      "Name: description_new, Length: 54386, dtype: object\n",
      "------------------------------------------------------\n",
      "Cantidad de valores a recuperar:  54386\n"
     ]
    }
   ],
   "source": [
    "descrnotnull = data.description_new.notnull() #mascara para quitar los valores nulos, para poder aplicar .contain.\n",
    "description_clean = data.loc[descrnotnull]    #aplicamos la máscara\n",
    "contains_piso = description_clean.description_new.str.contains('piso')  #nueva mascara con el metodo .contain.\n",
    "print (description_clean.loc[contains_piso, \"description_new\"])  #aplicamos la mascara y visualizamos.\n",
    "print(\"------------------------------------------------------\")\n",
    "print(\"Cantidad de valores a recuperar: \", len(description_clean.loc[contains_piso, \"description_new\"]))"
   ]
  },
  {
   "cell_type": "markdown",
   "metadata": {},
   "source": [
    "Exportamos estos valores a un csv para poder analizar mejor el contenido:"
   ]
  },
  {
   "cell_type": "code",
   "execution_count": 96,
   "metadata": {},
   "outputs": [],
   "source": [
    "#description_clean.loc[contains_piso, \"description_new\"].to_csv('description_new_analisis')"
   ]
  },
  {
   "cell_type": "markdown",
   "metadata": {},
   "source": [
    "#### CONCLUSIÓN📌 \n",
    "\n",
    "A partir de este análisis se decide tomar como criterio que **los valores que encuentre la regex corresponden al número de piso en que se encuentra la propiedad**, y no la cantidad de plantas.\n",
    "\n",
    "Como paso previo, consideramos que todos los valores de property_type = house están ubicadas en el piso 1. "
   ]
  },
  {
   "cell_type": "markdown",
   "metadata": {},
   "source": [
    "#### Limpieza de Datos 📝"
   ]
  },
  {
   "cell_type": "markdown",
   "metadata": {},
   "source": [
    "* **Creamos una nueva columna floor_new**:"
   ]
  },
  {
   "cell_type": "code",
   "execution_count": 97,
   "metadata": {},
   "outputs": [],
   "source": [
    "data['floor_new'] = data['floor']"
   ]
  },
  {
   "cell_type": "code",
   "execution_count": 98,
   "metadata": {},
   "outputs": [],
   "source": [
    "data.loc[data.property_type == 'house', 'floor_new'] = 1 #se considera que las casas están en un piso 1"
   ]
  },
  {
   "cell_type": "markdown",
   "metadata": {},
   "source": [
    "Creamos la regex:"
   ]
  },
  {
   "cell_type": "code",
   "execution_count": 99,
   "metadata": {},
   "outputs": [],
   "source": [
    "patron_piso = \"(?P<pisos>\\d+)\\spiso\"  #patrón para extraer dígitos antes de la palabra \"piso\"\n",
    "patron_piso_compiled = re.compile(patron_piso)"
   ]
  },
  {
   "cell_type": "code",
   "execution_count": 100,
   "metadata": {},
   "outputs": [],
   "source": [
    "\n",
    "lista_floor_new = data.loc[data.floor_new.isnull(), 'description_new'].apply(lambda x: patron_piso_compiled.findall(str(x)))\n",
    "\n",
    "data.loc[data.floor_new.isnull(),'floor_new'] = lista_floor_new.apply(   #Utilizamos las funciones definidas previamente\n",
    "    lambda x: max_list(string_to_float_list(x), 53)      # se escoge como valor máximo a 52, ya que la torre más alta en BSAS es la torre YPF con 52 pisos.\n",
    ") \n",
    "                                                                                                  "
   ]
  },
  {
   "cell_type": "markdown",
   "metadata": {},
   "source": [
    "✔️ Comparamos los nulos y vemos que hubo cambios. (No son la misma cantidad que obtuvimos con el método contain, porque aplicamos el valor 1 a los nulos de \"House\")."
   ]
  },
  {
   "cell_type": "code",
   "execution_count": 101,
   "metadata": {},
   "outputs": [
    {
     "name": "stdout",
     "output_type": "stream",
     "text": [
      "Cantidad de nulos en 'floor':\n",
      "113321\n",
      "Cantidad de nulos en 'floor_new':\n",
      "59419\n",
      "------------------------\n",
      "Porcentaje de nulos en 'floor':\n",
      "93.48 %\n",
      "Porcentaje de nulos en 'floor_new':\n",
      "49.02 %\n"
     ]
    }
   ],
   "source": [
    "print(\"Cantidad de nulos en 'floor':\")\n",
    "print(data.floor.isnull().sum())\n",
    "print(\"Cantidad de nulos en 'floor_new':\")\n",
    "print(data.floor_new.isnull().sum())\n",
    "print(\"------------------------\")\n",
    "print(\"Porcentaje de nulos en 'floor':\")\n",
    "porc_nulos = (data.floor.isnull().sum() / data.floor.shape[0] *100).round(2)\n",
    "print(porc_nulos,\"%\") \n",
    "print(\"Porcentaje de nulos en 'floor_new':\")\n",
    "porc_nulos = (data.floor_new.isnull().sum() / data.floor_new.shape[0] *100).round(2)\n",
    "print(porc_nulos,\"%\") "
   ]
  },
  {
   "cell_type": "markdown",
   "metadata": {},
   "source": [
    "----------------------"
   ]
  },
  {
   "cell_type": "markdown",
   "metadata": {},
   "source": [
    "Analizamos si la columna *title_new* tiene informacion acerca del piso (floor) con el método .contains, para ver si vale la pena utilizar la regex. \n",
    "\n",
    "Obtenemos 3260 más que podrían recuperarse."
   ]
  },
  {
   "cell_type": "code",
   "execution_count": 102,
   "metadata": {},
   "outputs": [
    {
     "name": "stdout",
     "output_type": "stream",
     "text": [
      "2                    2 amb 3 piso con ascensor apto credito\n",
      "53                            semi-pisos de gran categoria.\n",
      "63                 casa , local y departamento en 1 piso!!!\n",
      "85        corrientes 1900 – 1 piso  1 dormitorio (semipi...\n",
      "145                    piso 5 ambientes vista a plaza mitre\n",
      "                                ...                        \n",
      "120935          santa fe 2700 semipiso 1  con patio jardin.\n",
      "121064    boca - av. almte.brown 800 - 2 amb  -. 2 piso ...\n",
      "121067    boca - av. almte.brown 800 - 2 amb  -. 2 piso ...\n",
      "121106    semipiso 3 amb con cochera! balcon aterrazado ...\n",
      "121146                    venta piso con cochera en palermo\n",
      "Name: title_new, Length: 3261, dtype: object\n",
      "------------------------------------------------------\n",
      "Cantidad de valores a recuperar:  3261\n"
     ]
    }
   ],
   "source": [
    "print(\n",
    "    data.loc[data.title_new.str.contains('piso'), 'title_new']\n",
    ")\n",
    "print(\"------------------------------------------------------\")\n",
    "print(\"Cantidad de valores a recuperar: \", len(data.loc[data.title_new.str.contains('piso'), 'title_new']))"
   ]
  },
  {
   "cell_type": "markdown",
   "metadata": {},
   "source": [
    "Exportamos estos valores a un csv para poder analizar mejor el contenido:"
   ]
  },
  {
   "cell_type": "code",
   "execution_count": 103,
   "metadata": {},
   "outputs": [],
   "source": [
    "#data.loc[data.title_new.str.contains('piso'), 'title_new'].to_csv('title_new_analisis')"
   ]
  },
  {
   "cell_type": "markdown",
   "metadata": {},
   "source": [
    "**Aplicamos la misma regex a *title*:**"
   ]
  },
  {
   "cell_type": "code",
   "execution_count": 104,
   "metadata": {},
   "outputs": [],
   "source": [
    "lista_floor_new = data.loc[data.floor_new.isnull(), 'title_new'].apply(lambda x: patron_piso_compiled.findall(str(x)))\n",
    "data.loc[data.floor_new.isnull(),'floor_new'] = lista_floor_new.apply(lambda x: max_list(string_to_float_list(x), 53))"
   ]
  },
  {
   "cell_type": "markdown",
   "metadata": {},
   "source": [
    "✔️ Verificamos que los nulos bajaron un poco más."
   ]
  },
  {
   "cell_type": "code",
   "execution_count": 105,
   "metadata": {},
   "outputs": [
    {
     "name": "stdout",
     "output_type": "stream",
     "text": [
      "Cantidad de nulos en 'floor':\n",
      "113321\n",
      "Cantidad de nulos en 'floor_new':\n",
      "59269\n",
      "------------------------\n",
      "Porcentaje de nulos en 'floor':\n",
      "93.48 %\n",
      "Porcentaje de nulos en 'floor_new':\n",
      "48.89 %\n"
     ]
    }
   ],
   "source": [
    "print(\"Cantidad de nulos en 'floor':\")\n",
    "print(data.floor.isnull().sum())\n",
    "print(\"Cantidad de nulos en 'floor_new':\")\n",
    "print(data.floor_new.isnull().sum())\n",
    "print(\"------------------------\")\n",
    "print(\"Porcentaje de nulos en 'floor':\")\n",
    "porc_nulos = (data.floor.isnull().sum() / data.floor.shape[0] *100).round(2)\n",
    "print(porc_nulos,\"%\") \n",
    "print(\"Porcentaje de nulos en 'floor_new':\")\n",
    "porc_nulos = (data.floor_new.isnull().sum() / data.floor_new.shape[0] *100).round(2)\n",
    "print(porc_nulos,\"%\") "
   ]
  },
  {
   "cell_type": "markdown",
   "metadata": {},
   "source": [
    " #### CONCLUSIÓN 📌\n",
    "\n",
    "**Se decide no seguir trabajando esta columna** ya que no hay otra estrategia razonable para eliminar nulos. Utilizar la media no sería de mucha utilidad, ya que existe una alta dispersión de valores en la variable.\n"
   ]
  },
  {
   "cell_type": "markdown",
   "metadata": {},
   "source": [
    "#### SECCION 2.3 - SURFACE_TOTAL_IN_M2 y SURFACE_COVERED_IN_M2 "
   ]
  },
  {
   "cell_type": "markdown",
   "metadata": {},
   "source": [
    "Vemos el tipo de las columnas:"
   ]
  },
  {
   "cell_type": "code",
   "execution_count": 106,
   "metadata": {},
   "outputs": [
    {
     "data": {
      "text/plain": [
       "surface_total_in_m2      float64\n",
       "surface_covered_in_m2    float64\n",
       "dtype: object"
      ]
     },
     "execution_count": 106,
     "metadata": {},
     "output_type": "execute_result"
    }
   ],
   "source": [
    "data[[\"surface_total_in_m2\",\"surface_covered_in_m2\"]].dtypes"
   ]
  },
  {
   "cell_type": "markdown",
   "metadata": {},
   "source": [
    "Recordamos la cantidad de nulos:"
   ]
  },
  {
   "cell_type": "code",
   "execution_count": 107,
   "metadata": {},
   "outputs": [
    {
     "data": {
      "text/plain": [
       "surface_total_in_m2      39328\n",
       "surface_covered_in_m2    19907\n",
       "dtype: int64"
      ]
     },
     "execution_count": 107,
     "metadata": {},
     "output_type": "execute_result"
    }
   ],
   "source": [
    "data[[\"surface_total_in_m2\",\"surface_covered_in_m2\"]].isnull().sum()"
   ]
  },
  {
   "cell_type": "code",
   "execution_count": 108,
   "metadata": {},
   "outputs": [
    {
     "data": {
      "text/html": [
       "<div>\n",
       "<style scoped>\n",
       "    .dataframe tbody tr th:only-of-type {\n",
       "        vertical-align: middle;\n",
       "    }\n",
       "\n",
       "    .dataframe tbody tr th {\n",
       "        vertical-align: top;\n",
       "    }\n",
       "\n",
       "    .dataframe thead th {\n",
       "        text-align: right;\n",
       "    }\n",
       "</style>\n",
       "<table border=\"1\" class=\"dataframe\">\n",
       "  <thead>\n",
       "    <tr style=\"text-align: right;\">\n",
       "      <th></th>\n",
       "      <th>surface_total_in_m2</th>\n",
       "      <th>surface_covered_in_m2</th>\n",
       "    </tr>\n",
       "  </thead>\n",
       "  <tbody>\n",
       "    <tr>\n",
       "      <th>count</th>\n",
       "      <td>81892.000000</td>\n",
       "      <td>101313.000000</td>\n",
       "    </tr>\n",
       "    <tr>\n",
       "      <th>mean</th>\n",
       "      <td>233.795328</td>\n",
       "      <td>133.050181</td>\n",
       "    </tr>\n",
       "    <tr>\n",
       "      <th>std</th>\n",
       "      <td>1782.222147</td>\n",
       "      <td>724.351479</td>\n",
       "    </tr>\n",
       "    <tr>\n",
       "      <th>min</th>\n",
       "      <td>0.000000</td>\n",
       "      <td>0.000000</td>\n",
       "    </tr>\n",
       "    <tr>\n",
       "      <th>25%</th>\n",
       "      <td>50.000000</td>\n",
       "      <td>45.000000</td>\n",
       "    </tr>\n",
       "    <tr>\n",
       "      <th>50%</th>\n",
       "      <td>84.000000</td>\n",
       "      <td>75.000000</td>\n",
       "    </tr>\n",
       "    <tr>\n",
       "      <th>75%</th>\n",
       "      <td>200.000000</td>\n",
       "      <td>150.000000</td>\n",
       "    </tr>\n",
       "    <tr>\n",
       "      <th>max</th>\n",
       "      <td>200000.000000</td>\n",
       "      <td>187000.000000</td>\n",
       "    </tr>\n",
       "  </tbody>\n",
       "</table>\n",
       "</div>"
      ],
      "text/plain": [
       "       surface_total_in_m2  surface_covered_in_m2\n",
       "count         81892.000000          101313.000000\n",
       "mean            233.795328             133.050181\n",
       "std            1782.222147             724.351479\n",
       "min               0.000000               0.000000\n",
       "25%              50.000000              45.000000\n",
       "50%              84.000000              75.000000\n",
       "75%             200.000000             150.000000\n",
       "max          200000.000000          187000.000000"
      ]
     },
     "execution_count": 108,
     "metadata": {},
     "output_type": "execute_result"
    }
   ],
   "source": [
    "data[[\"surface_total_in_m2\",\"surface_covered_in_m2\"]].describe()"
   ]
  },
  {
   "cell_type": "markdown",
   "metadata": {},
   "source": [
    "#### ANÁLISIS 🔎"
   ]
  },
  {
   "cell_type": "markdown",
   "metadata": {},
   "source": [
    "Analizamos estrategias para rellenar la **superficie total**.\n",
    "\n",
    "En primer lugar, queremos comprobar si la superficie total suele coincidir con la superficie cubierta, para ver si podemos reemplazar un valor por otro. \n",
    "\n",
    "Para ello, excluimos los valores nulos y planteamos un booleano:"
   ]
  },
  {
   "cell_type": "code",
   "execution_count": 109,
   "metadata": {},
   "outputs": [
    {
     "data": {
      "text/plain": [
       "apartment    14756\n",
       "house         6737\n",
       "store         1734\n",
       "PH             946\n",
       "Name: property_type, dtype: int64"
      ]
     },
     "execution_count": 109,
     "metadata": {},
     "output_type": "execute_result"
    }
   ],
   "source": [
    "data.loc[(data.surface_total_in_m2.notnull() & #que la sup. total no sea nula\n",
    "          data.surface_covered_in_m2.notnull()) & #que la sup. cubierta no sea nula\n",
    "         (data.surface_total_in_m2 == data.surface_covered_in_m2), #que ambos valores sean iguales\n",
    "         'property_type'].value_counts()"
   ]
  },
  {
   "cell_type": "markdown",
   "metadata": {},
   "source": [
    "Vemos que hay 24.173 valores que coinciden, sobre un total de 81.892 valores válidos. Es muy poco representativo como para tomar esta estrategia. \n",
    "\n",
    "Si lo hacemos específicamente sobre los departamentos (donde es más probable que las superficies coincidan), vemos que tampoco el número es representativo. Tenemos 14.756 casos en los que los valores coinciden, y 31.300 en que no coinciden (siempre cuando contamos con ambos valores):"
   ]
  },
  {
   "cell_type": "code",
   "execution_count": 110,
   "metadata": {},
   "outputs": [
    {
     "data": {
      "text/plain": [
       "apartment    31300\n",
       "Name: property_type, dtype: int64"
      ]
     },
     "execution_count": 110,
     "metadata": {},
     "output_type": "execute_result"
    }
   ],
   "source": [
    "data.loc[(data.surface_total_in_m2.notnull() & \n",
    "          data.surface_covered_in_m2.notnull()) & \n",
    "         (data.surface_total_in_m2 != data.surface_covered_in_m2) & \n",
    "         (data.property_type == 'apartment'), #agregamos una condición más al código anterior\n",
    "         'property_type'].value_counts()"
   ]
  },
  {
   "cell_type": "markdown",
   "metadata": {},
   "source": [
    "Es decir que sobre 46.056 casos en los que contamos con ambos valores, el porcentaje de los valores que coinciden es del 32% (14.756)\n",
    "\n",
    "📌 Por lo tanto decidimos **desestimar esta estrategia** para cualquier tipo de propiedad."
   ]
  },
  {
   "cell_type": "markdown",
   "metadata": {},
   "source": [
    "#### 📝 Limpieza de Datos "
   ]
  },
  {
   "cell_type": "markdown",
   "metadata": {},
   "source": [
    "Definimos barrer nuevamente las columnas *title_new* y *description_new* para extraer información."
   ]
  },
  {
   "cell_type": "markdown",
   "metadata": {},
   "source": [
    "* **Creamos una nueva columna **surface_total_in_m2_new**:"
   ]
  },
  {
   "cell_type": "code",
   "execution_count": 111,
   "metadata": {},
   "outputs": [],
   "source": [
    "data['surface_total_in_m2_new'] = data.surface_total_in_m2"
   ]
  },
  {
   "cell_type": "markdown",
   "metadata": {},
   "source": [
    "Aplicamos una regex sobre *description_new* con un nuevo patrón, reutilizando código anterior."
   ]
  },
  {
   "cell_type": "code",
   "execution_count": 112,
   "metadata": {},
   "outputs": [],
   "source": [
    "patron_superficie = \"(?P<superficie>\\d+)\\sm2\"\n",
    "patron_superficie_compiled = re.compile(patron_superficie)\n",
    "\n",
    "lista_superficie_new = data.loc[data.surface_total_in_m2.isnull(), 'description_new'].apply(lambda x: patron_superficie_compiled.findall(str(x)))\n",
    "\n",
    "data.loc[data.surface_total_in_m2.isnull(),'surface_total_in_m2_new'] = lista_superficie_new.apply(lambda x: max_list(string_to_float_list(x), 200))"
   ]
  },
  {
   "cell_type": "markdown",
   "metadata": {},
   "source": [
    "En este caso, planteamos un valor máximo de 200 m2. \n",
    "\n",
    "Vemos que los nulos disminuyen."
   ]
  },
  {
   "cell_type": "code",
   "execution_count": 113,
   "metadata": {},
   "outputs": [
    {
     "name": "stdout",
     "output_type": "stream",
     "text": [
      "Cantidad de nulos en 'surface_total_in_m2':\n",
      "39328\n",
      "Cantidad de nulos en 'surface_total_in_m2_new':\n",
      "34962\n",
      "------------------------\n",
      "Porcentaje de nulos en 'surface_total_in_m2':\n",
      "32.44 %\n",
      "Porcentaje de nulos en 'surface_total_in_m2_new':\n",
      "28.84 %\n"
     ]
    }
   ],
   "source": [
    "print(\"Cantidad de nulos en 'surface_total_in_m2':\")\n",
    "print(data.surface_total_in_m2.isnull().sum())\n",
    "print(\"Cantidad de nulos en 'surface_total_in_m2_new':\")\n",
    "print(data.surface_total_in_m2_new.isnull().sum())\n",
    "print(\"------------------------\")\n",
    "print(\"Porcentaje de nulos en 'surface_total_in_m2':\")\n",
    "porc_nulos = (data.surface_total_in_m2.isnull().sum() / data.surface_total_in_m2.shape[0] *100).round(2)\n",
    "print(porc_nulos,\"%\") \n",
    "print(\"Porcentaje de nulos en 'surface_total_in_m2_new':\")\n",
    "porc_nulos = (data.surface_total_in_m2_new.isnull().sum() / data.surface_total_in_m2_new.shape[0] *100).round(2)\n",
    "print(porc_nulos,\"%\") \n",
    "\n"
   ]
  },
  {
   "cell_type": "markdown",
   "metadata": {},
   "source": [
    "A continuación, repetimos el procedimiento para *title_new*"
   ]
  },
  {
   "cell_type": "code",
   "execution_count": 114,
   "metadata": {},
   "outputs": [],
   "source": [
    "patron_superficie = \"(?P<superficie>\\d+)\\s?m2\"\n",
    "patron_superficie_compiled = re.compile(patron_superficie)\n",
    "\n",
    "lista_superficie_new = data.loc[data.surface_total_in_m2_new.isnull(), 'title_new'].apply(lambda x: patron_superficie_compiled.findall(str(x)))\n",
    "\n",
    "data.loc[data.surface_total_in_m2_new.isnull(),'surface_total_in_m2_new'] = lista_superficie_new.apply(lambda x: max_list(string_to_float_list(x), 200))"
   ]
  },
  {
   "cell_type": "markdown",
   "metadata": {},
   "source": [
    "Verificamos nulos:"
   ]
  },
  {
   "cell_type": "code",
   "execution_count": 115,
   "metadata": {},
   "outputs": [
    {
     "name": "stdout",
     "output_type": "stream",
     "text": [
      "Cantidad de nulos en 'surface_total_in_m2':\n",
      "39328\n",
      "Cantidad de nulos en 'surface_total_in_m2_new':\n",
      "34694\n",
      "------------------------\n",
      "Porcentaje de nulos en 'surface_total_in_m2':\n",
      "32.44 %\n",
      "Porcentaje de nulos en 'surface_total_in_m2_new':\n",
      "28.62 %\n"
     ]
    }
   ],
   "source": [
    "print(\"Cantidad de nulos en 'surface_total_in_m2':\")\n",
    "print(data.surface_total_in_m2.isnull().sum())\n",
    "print(\"Cantidad de nulos en 'surface_total_in_m2_new':\")\n",
    "print(data.surface_total_in_m2_new.isnull().sum())\n",
    "print(\"------------------------\")\n",
    "print(\"Porcentaje de nulos en 'surface_total_in_m2':\")\n",
    "porc_nulos = (data.surface_total_in_m2.isnull().sum() / data.surface_total_in_m2.shape[0] *100).round(2)\n",
    "print(porc_nulos,\"%\") \n",
    "print(\"Porcentaje de nulos en 'surface_total_in_m2_new':\")\n",
    "porc_nulos = (data.surface_total_in_m2_new.isnull().sum() / data.surface_total_in_m2_new.shape[0] *100).round(2)\n",
    "print(porc_nulos,\"%\") \n"
   ]
  },
  {
   "cell_type": "markdown",
   "metadata": {},
   "source": [
    "Aún tenemos un buen % de nulos, por lo tanto intentamos una estrategia más. Vamos a imputar la media de manera segmentada, es decir, de acuerdo a otras variables.\n",
    "\n",
    "Pero antes, excluimos ciertos valores que afectan al calculo de la media por ser outliers, y que probablemente sean errores.\n",
    "\n",
    "Se extrajeron los valores de superficie total a un csv y se evaluó que estos aumentan progresivamente hasta 50.000, donde existe un salto hacia 93.000.\n",
    "\n",
    "A partir de esto se crea una máscara, y a los valores por encima de 50.000 se los reemplaza momentáneamente por nulos, para tener una media más representativa:"
   ]
  },
  {
   "cell_type": "code",
   "execution_count": 116,
   "metadata": {},
   "outputs": [],
   "source": [
    "mask_50000 = data.surface_total_in_m2_new > 50000\n",
    "data.loc[mask_50000,'surface_total_in_m2_new'] = np.NaN"
   ]
  },
  {
   "cell_type": "markdown",
   "metadata": {},
   "source": [
    "Luego calculamos las medias con una pivot_table y vemos que la pivot_table que surge de *surface_total_in_m2_new* efectivamente tiene valores más bajos. "
   ]
  },
  {
   "cell_type": "code",
   "execution_count": 117,
   "metadata": {},
   "outputs": [
    {
     "name": "stdout",
     "output_type": "stream",
     "text": [
      "               surface_total_in_m2\n",
      "property_type                     \n",
      "PH                      122.297417\n",
      "apartment                96.605873\n",
      "house                   507.438686\n",
      "store                   494.512403\n",
      "------------------VS---------------\n",
      "               surface_total_in_m2_new\n",
      "property_type                         \n",
      "PH                          119.389059\n",
      "apartment                    79.485108\n",
      "house                       462.511631\n",
      "store                       418.675917\n"
     ]
    }
   ],
   "source": [
    "print(data.pivot_table('surface_total_in_m2' , index = 'property_type'))\n",
    "print(\"------------------VS---------------\")\n",
    "print(data.pivot_table('surface_total_in_m2_new' , index = 'property_type'))"
   ]
  },
  {
   "cell_type": "markdown",
   "metadata": {},
   "source": [
    "Creamos una tabla_pivot que nos muestre la media de la superficie total, agrupando por cantidad de habitaciones y diferenciando por tipo de propiedad. La idea es obtener la media, para poder aplicarla segmentadamente, según estas variables."
   ]
  },
  {
   "cell_type": "code",
   "execution_count": 118,
   "metadata": {},
   "outputs": [
    {
     "name": "stdout",
     "output_type": "stream",
     "text": [
      "property_type           PH   apartment          house        store\n",
      "rooms_new                                                         \n",
      "1.0              70.845638   50.101389     438.904762   129.412371\n",
      "2.0              81.208401   86.640712     405.241827   376.272059\n",
      "3.0             137.729153  138.981530     472.098430   515.193092\n",
      "4.0             148.854167  123.438821     565.431481   490.558824\n",
      "5.0             190.400000  192.579782     655.512835   331.583333\n",
      "6.0             251.250000  237.704348     659.530562   326.000000\n",
      "7.0             306.133333  311.212389     994.328205  1358.000000\n",
      "8.0             259.875000  272.877551     917.250000   838.500000\n",
      "9.0                    NaN  351.909091     551.600000   502.000000\n",
      "10.0                   NaN  382.090909    1300.720588   225.333333\n",
      "11.0                   NaN  446.333333            NaN          NaN\n",
      "12.0            500.000000  327.500000    1133.000000          NaN\n",
      "13.0           1183.000000         NaN    1133.000000          NaN\n",
      "14.0                   NaN  400.000000            NaN          NaN\n",
      "15.0                   NaN  590.000000  110000.000000          NaN\n",
      "16.0                   NaN         NaN    1133.000000          NaN\n",
      "20.0            570.000000         NaN            NaN          NaN\n",
      "22.0                   NaN   55.000000            NaN          NaN\n",
      "32.0                   NaN   96.000000            NaN          NaN\n"
     ]
    }
   ],
   "source": [
    "data_pivot_1 = data.pivot_table('surface_total_in_m2' , index = 'rooms_new', columns='property_type')\n",
    "print(data_pivot_1)"
   ]
  },
  {
   "cell_type": "markdown",
   "metadata": {},
   "source": [
    "Luego, creamos un ciclo que recorre la tabla pivot, y siempre que el valor de superficie en el df original sea nulo, le aplica la media que le corresponde, según su cantidad de habitaciones y su tipo de propiedad."
   ]
  },
  {
   "cell_type": "code",
   "execution_count": 119,
   "metadata": {},
   "outputs": [],
   "source": [
    "for indice, row in data_pivot_1.iterrows():       \n",
    "    PH_mean = row['PH']\n",
    "    apartment_mean = row['apartment']\n",
    "    house_mean = row['house']\n",
    "    store_mean = row['store']    \n",
    "    \n",
    "    data.loc[(data.surface_total_in_m2_new.isnull()) & (data.rooms_new == indice) &  (data.property_type == 'PH') , 'surface_total_in_m2_new'] = PH_mean\n",
    "    data.loc[(data.surface_total_in_m2_new.isnull()) & (data.rooms_new == indice) &  (data.property_type == 'apartment'), 'surface_total_in_m2_new'] = apartment_mean\n",
    "    data.loc[(data.surface_total_in_m2_new.isnull()) & (data.rooms_new == indice) &  (data.property_type == 'house'), 'surface_total_in_m2_new'] = house_mean\n",
    "    data.loc[(data.surface_total_in_m2_new.isnull())& (data.rooms_new == indice) &  (data.property_type == 'store'), 'surface_total_in_m2_new'] = store_mean"
   ]
  },
  {
   "cell_type": "code",
   "execution_count": 120,
   "metadata": {},
   "outputs": [
    {
     "name": "stdout",
     "output_type": "stream",
     "text": [
      "Cantidad de nulos en 'surface_total_in_m2':\n",
      "39328\n",
      "Cantidad de nulos en 'surface_total_in_m2_new':\n",
      "140\n",
      "------------------------\n",
      "Porcentaje de nulos en 'surface_total_in_m2':\n",
      "32.44 %\n",
      "Porcentaje de nulos en 'surface_total_in_m2_new':\n",
      "0.12 %\n"
     ]
    }
   ],
   "source": [
    "print(\"Cantidad de nulos en 'surface_total_in_m2':\")\n",
    "print(data.surface_total_in_m2.isnull().sum())\n",
    "print(\"Cantidad de nulos en 'surface_total_in_m2_new':\")\n",
    "print(data.surface_total_in_m2_new.isnull().sum())\n",
    "print(\"------------------------\")\n",
    "print(\"Porcentaje de nulos en 'surface_total_in_m2':\")\n",
    "porc_nulos = (data.surface_total_in_m2.isnull().sum() / data.surface_total_in_m2.shape[0] *100).round(2)\n",
    "print(porc_nulos,\"%\") \n",
    "print(\"Porcentaje de nulos en 'surface_total_in_m2_new':\")\n",
    "porc_nulos = (data.surface_total_in_m2_new.isnull().sum() / data.surface_total_in_m2_new.shape[0] *100).round(2)\n",
    "print(porc_nulos,\"%\") "
   ]
  },
  {
   "cell_type": "markdown",
   "metadata": {},
   "source": [
    "✔️ Con esta estrategia dejamos la variable prácticamente libre de nulos. "
   ]
  },
  {
   "cell_type": "markdown",
   "metadata": {},
   "source": [
    "#### CONCLUSIÓN 📌\n",
    "\n",
    "Dado que *surface_covered_in_m2* es la superficie cubierta de las propiedades, y que estaría contenida en la superficie total, decidimos **obviar esta variable y trabajar solo con *surface_total_in_m2_new* a la hora de predecir el precio**"
   ]
  },
  {
   "cell_type": "markdown",
   "metadata": {},
   "source": [
    "----------"
   ]
  },
  {
   "cell_type": "markdown",
   "metadata": {},
   "source": [
    "## SECCIÓN 3 - VALORES\n",
    "\n",
    "\n",
    "1. currency   \n",
    "2. price\n",
    "3. price_aprox_local_currency    \n",
    "3. price_aprox_usd\n",
    "4. price_usd_per_m2             \n",
    "5. price_per_m2                \n",
    "\n"
   ]
  },
  {
   "cell_type": "code",
   "execution_count": 121,
   "metadata": {},
   "outputs": [
    {
     "data": {
      "text/plain": [
       "Index(['Unnamed: 0', 'operation', 'property_type', 'place_name',\n",
       "       'place_with_parent_names', 'country_name', 'state_name', 'geonames_id',\n",
       "       'lat-lon', 'lat', 'lon', 'price', 'currency',\n",
       "       'price_aprox_local_currency', 'price_aprox_usd', 'surface_total_in_m2',\n",
       "       'surface_covered_in_m2', 'price_usd_per_m2', 'price_per_m2', 'floor',\n",
       "       'rooms', 'expenses', 'properati_url', 'description', 'title',\n",
       "       'image_thumbnail', 'place_name_new', 'geonames_id_new',\n",
       "       'state_name_new', 'description_new', 'rooms_new', 'title_new',\n",
       "       'property_type_new', 'floor_null', 'floor_null_property',\n",
       "       'porc_nulos_x_property', 'floor_new', 'surface_total_in_m2_new'],\n",
       "      dtype='object')"
      ]
     },
     "execution_count": 121,
     "metadata": {},
     "output_type": "execute_result"
    }
   ],
   "source": [
    "data.columns"
   ]
  },
  {
   "cell_type": "code",
   "execution_count": 122,
   "metadata": {},
   "outputs": [
    {
     "data": {
      "text/html": [
       "<div>\n",
       "<style scoped>\n",
       "    .dataframe tbody tr th:only-of-type {\n",
       "        vertical-align: middle;\n",
       "    }\n",
       "\n",
       "    .dataframe tbody tr th {\n",
       "        vertical-align: top;\n",
       "    }\n",
       "\n",
       "    .dataframe thead th {\n",
       "        text-align: right;\n",
       "    }\n",
       "</style>\n",
       "<table border=\"1\" class=\"dataframe\">\n",
       "  <thead>\n",
       "    <tr style=\"text-align: right;\">\n",
       "      <th></th>\n",
       "      <th>price</th>\n",
       "      <th>currency</th>\n",
       "      <th>price_aprox_local_currency</th>\n",
       "      <th>price_aprox_usd</th>\n",
       "      <th>price_usd_per_m2</th>\n",
       "      <th>price_per_m2</th>\n",
       "    </tr>\n",
       "  </thead>\n",
       "  <tbody>\n",
       "    <tr>\n",
       "      <th>0</th>\n",
       "      <td>62000.0</td>\n",
       "      <td>USD</td>\n",
       "      <td>1093959.00</td>\n",
       "      <td>62000.00</td>\n",
       "      <td>1127.272727</td>\n",
       "      <td>1550.000000</td>\n",
       "    </tr>\n",
       "    <tr>\n",
       "      <th>1</th>\n",
       "      <td>150000.0</td>\n",
       "      <td>USD</td>\n",
       "      <td>2646675.00</td>\n",
       "      <td>150000.00</td>\n",
       "      <td>NaN</td>\n",
       "      <td>NaN</td>\n",
       "    </tr>\n",
       "    <tr>\n",
       "      <th>2</th>\n",
       "      <td>72000.0</td>\n",
       "      <td>USD</td>\n",
       "      <td>1270404.00</td>\n",
       "      <td>72000.00</td>\n",
       "      <td>1309.090909</td>\n",
       "      <td>1309.090909</td>\n",
       "    </tr>\n",
       "    <tr>\n",
       "      <th>3</th>\n",
       "      <td>95000.0</td>\n",
       "      <td>USD</td>\n",
       "      <td>1676227.50</td>\n",
       "      <td>95000.00</td>\n",
       "      <td>NaN</td>\n",
       "      <td>NaN</td>\n",
       "    </tr>\n",
       "    <tr>\n",
       "      <th>4</th>\n",
       "      <td>64000.0</td>\n",
       "      <td>USD</td>\n",
       "      <td>1129248.00</td>\n",
       "      <td>64000.00</td>\n",
       "      <td>1828.571429</td>\n",
       "      <td>1828.571429</td>\n",
       "    </tr>\n",
       "    <tr>\n",
       "      <th>5</th>\n",
       "      <td>NaN</td>\n",
       "      <td>NaN</td>\n",
       "      <td>NaN</td>\n",
       "      <td>NaN</td>\n",
       "      <td>NaN</td>\n",
       "      <td>NaN</td>\n",
       "    </tr>\n",
       "    <tr>\n",
       "      <th>6</th>\n",
       "      <td>130000.0</td>\n",
       "      <td>USD</td>\n",
       "      <td>2293785.00</td>\n",
       "      <td>130000.00</td>\n",
       "      <td>1226.415094</td>\n",
       "      <td>1666.666667</td>\n",
       "    </tr>\n",
       "    <tr>\n",
       "      <th>7</th>\n",
       "      <td>138000.0</td>\n",
       "      <td>USD</td>\n",
       "      <td>2434941.00</td>\n",
       "      <td>138000.00</td>\n",
       "      <td>3066.666667</td>\n",
       "      <td>3450.000000</td>\n",
       "    </tr>\n",
       "    <tr>\n",
       "      <th>8</th>\n",
       "      <td>195000.0</td>\n",
       "      <td>USD</td>\n",
       "      <td>3440677.50</td>\n",
       "      <td>195000.00</td>\n",
       "      <td>3000.000000</td>\n",
       "      <td>3250.000000</td>\n",
       "    </tr>\n",
       "    <tr>\n",
       "      <th>9</th>\n",
       "      <td>460000.0</td>\n",
       "      <td>ARS</td>\n",
       "      <td>455201.45</td>\n",
       "      <td>25798.49</td>\n",
       "      <td>NaN</td>\n",
       "      <td>NaN</td>\n",
       "    </tr>\n",
       "  </tbody>\n",
       "</table>\n",
       "</div>"
      ],
      "text/plain": [
       "      price currency  price_aprox_local_currency  price_aprox_usd  \\\n",
       "0   62000.0      USD                  1093959.00         62000.00   \n",
       "1  150000.0      USD                  2646675.00        150000.00   \n",
       "2   72000.0      USD                  1270404.00         72000.00   \n",
       "3   95000.0      USD                  1676227.50         95000.00   \n",
       "4   64000.0      USD                  1129248.00         64000.00   \n",
       "5       NaN      NaN                         NaN              NaN   \n",
       "6  130000.0      USD                  2293785.00        130000.00   \n",
       "7  138000.0      USD                  2434941.00        138000.00   \n",
       "8  195000.0      USD                  3440677.50        195000.00   \n",
       "9  460000.0      ARS                   455201.45         25798.49   \n",
       "\n",
       "   price_usd_per_m2  price_per_m2  \n",
       "0       1127.272727   1550.000000  \n",
       "1               NaN           NaN  \n",
       "2       1309.090909   1309.090909  \n",
       "3               NaN           NaN  \n",
       "4       1828.571429   1828.571429  \n",
       "5               NaN           NaN  \n",
       "6       1226.415094   1666.666667  \n",
       "7       3066.666667   3450.000000  \n",
       "8       3000.000000   3250.000000  \n",
       "9               NaN           NaN  "
      ]
     },
     "execution_count": 122,
     "metadata": {},
     "output_type": "execute_result"
    }
   ],
   "source": [
    "data_valores = data.iloc[:,[11,12,13,14,17,18]]   \n",
    "data_valores.head(10)"
   ]
  },
  {
   "cell_type": "markdown",
   "metadata": {},
   "source": [
    "#### SECCION 3.1 - CURRENCY (UNIFICACIÓN A DOLARES (USD))\n"
   ]
  },
  {
   "cell_type": "markdown",
   "metadata": {},
   "source": [
    "#### ANÁLISIS 🔎"
   ]
  },
  {
   "cell_type": "code",
   "execution_count": 123,
   "metadata": {},
   "outputs": [
    {
     "name": "stdout",
     "output_type": "stream",
     "text": [
      "Cantidad de nulos en currency:\n",
      "20411\n",
      "------------------------\n",
      "Porcentaje de nulos en currency:\n",
      "16.84\n"
     ]
    }
   ],
   "source": [
    "print(\"Cantidad de nulos en currency:\")\n",
    "print(data.currency.isnull().sum())\n",
    "print(\"------------------------\")\n",
    "print(\"Porcentaje de nulos en currency:\")\n",
    "porc_nulos = (data.currency.isnull().sum() / data_geo.shape[0] *100).round(2)\n",
    "print(porc_nulos)"
   ]
  },
  {
   "cell_type": "code",
   "execution_count": 124,
   "metadata": {},
   "outputs": [
    {
     "data": {
      "text/plain": [
       "USD    87587\n",
       "ARS    13219\n",
       "PEN        2\n",
       "UYU        1\n",
       "Name: currency, dtype: int64"
      ]
     },
     "execution_count": 124,
     "metadata": {},
     "output_type": "execute_result"
    }
   ],
   "source": [
    "data.currency.value_counts()"
   ]
  },
  {
   "cell_type": "markdown",
   "metadata": {},
   "source": [
    "Queremos comprobar que cuando *currency* es nulo, todas las columnas relativas a precio también son nulas y por lo tanto no podemos obtener información de ellas. \n",
    "Vemos que para todas las filas menos 1, no hay ningún valor relativo a precio."
   ]
  },
  {
   "cell_type": "code",
   "execution_count": 125,
   "metadata": {},
   "outputs": [
    {
     "name": "stdout",
     "output_type": "stream",
     "text": [
      "6    20410\n",
      "3        1\n",
      "dtype: int64\n"
     ]
    }
   ],
   "source": [
    "mask_cur_null = data.currency.isnull()\n",
    "comprobacion_nulos = data.loc[mask_cur_null,[\"currency\",\"price_aprox_usd\",\"price_aprox_local_currency\",\"price\",\"price_usd_per_m2\",\"price_per_m2\"]]\n",
    "\n",
    "#print(comprobacion_nulos)\n",
    "print(comprobacion_nulos.isnull().sum(axis=1).value_counts())"
   ]
  },
  {
   "cell_type": "markdown",
   "metadata": {},
   "source": [
    "#### 📝 Limpieza de Datos "
   ]
  },
  {
   "cell_type": "markdown",
   "metadata": {},
   "source": [
    "* **Creamos las columnas nuevas _new**"
   ]
  },
  {
   "cell_type": "code",
   "execution_count": 126,
   "metadata": {},
   "outputs": [],
   "source": [
    "data[\"currency_new\"] = data.currency\n",
    "data[\"price_new\"] = data.price\n",
    "data[\"price_aprox_usd_new\"] = data.price_aprox_usd"
   ]
  },
  {
   "cell_type": "markdown",
   "metadata": {},
   "source": [
    "Armamos un df reducido en donde extraemos los campos necesarios para el análisis de precios:"
   ]
  },
  {
   "cell_type": "code",
   "execution_count": 127,
   "metadata": {},
   "outputs": [
    {
     "data": {
      "text/html": [
       "<div>\n",
       "<style scoped>\n",
       "    .dataframe tbody tr th:only-of-type {\n",
       "        vertical-align: middle;\n",
       "    }\n",
       "\n",
       "    .dataframe tbody tr th {\n",
       "        vertical-align: top;\n",
       "    }\n",
       "\n",
       "    .dataframe thead th {\n",
       "        text-align: right;\n",
       "    }\n",
       "</style>\n",
       "<table border=\"1\" class=\"dataframe\">\n",
       "  <thead>\n",
       "    <tr style=\"text-align: right;\">\n",
       "      <th></th>\n",
       "      <th>property_type</th>\n",
       "      <th>price</th>\n",
       "      <th>currency</th>\n",
       "      <th>price_aprox_local_currency</th>\n",
       "      <th>price_aprox_usd</th>\n",
       "      <th>surface_total_in_m2</th>\n",
       "      <th>surface_total_in_m2_new</th>\n",
       "      <th>surface_covered_in_m2</th>\n",
       "      <th>price_usd_per_m2</th>\n",
       "      <th>price_per_m2</th>\n",
       "      <th>rooms</th>\n",
       "      <th>surface_total_in_m2_new</th>\n",
       "    </tr>\n",
       "  </thead>\n",
       "  <tbody>\n",
       "    <tr>\n",
       "      <th>0</th>\n",
       "      <td>PH</td>\n",
       "      <td>62000.0</td>\n",
       "      <td>USD</td>\n",
       "      <td>1093959.0</td>\n",
       "      <td>62000.0</td>\n",
       "      <td>55.0</td>\n",
       "      <td>55.000000</td>\n",
       "      <td>40.0</td>\n",
       "      <td>1127.272727</td>\n",
       "      <td>1550.000000</td>\n",
       "      <td>NaN</td>\n",
       "      <td>55.000000</td>\n",
       "    </tr>\n",
       "    <tr>\n",
       "      <th>1</th>\n",
       "      <td>apartment</td>\n",
       "      <td>150000.0</td>\n",
       "      <td>USD</td>\n",
       "      <td>2646675.0</td>\n",
       "      <td>150000.0</td>\n",
       "      <td>NaN</td>\n",
       "      <td>86.640712</td>\n",
       "      <td>NaN</td>\n",
       "      <td>NaN</td>\n",
       "      <td>NaN</td>\n",
       "      <td>NaN</td>\n",
       "      <td>86.640712</td>\n",
       "    </tr>\n",
       "    <tr>\n",
       "      <th>2</th>\n",
       "      <td>apartment</td>\n",
       "      <td>72000.0</td>\n",
       "      <td>USD</td>\n",
       "      <td>1270404.0</td>\n",
       "      <td>72000.0</td>\n",
       "      <td>55.0</td>\n",
       "      <td>55.000000</td>\n",
       "      <td>55.0</td>\n",
       "      <td>1309.090909</td>\n",
       "      <td>1309.090909</td>\n",
       "      <td>NaN</td>\n",
       "      <td>55.000000</td>\n",
       "    </tr>\n",
       "  </tbody>\n",
       "</table>\n",
       "</div>"
      ],
      "text/plain": [
       "  property_type     price currency  price_aprox_local_currency  \\\n",
       "0            PH   62000.0      USD                   1093959.0   \n",
       "1     apartment  150000.0      USD                   2646675.0   \n",
       "2     apartment   72000.0      USD                   1270404.0   \n",
       "\n",
       "   price_aprox_usd  surface_total_in_m2  surface_total_in_m2_new  \\\n",
       "0          62000.0                 55.0                55.000000   \n",
       "1         150000.0                  NaN                86.640712   \n",
       "2          72000.0                 55.0                55.000000   \n",
       "\n",
       "   surface_covered_in_m2  price_usd_per_m2  price_per_m2  rooms  \\\n",
       "0                   40.0       1127.272727   1550.000000    NaN   \n",
       "1                    NaN               NaN           NaN    NaN   \n",
       "2                   55.0       1309.090909   1309.090909    NaN   \n",
       "\n",
       "   surface_total_in_m2_new  \n",
       "0                55.000000  \n",
       "1                86.640712  \n",
       "2                55.000000  "
      ]
     },
     "execution_count": 127,
     "metadata": {},
     "output_type": "execute_result"
    }
   ],
   "source": [
    "dataframe_prices=data.loc[:, ['property_type','price', 'currency', 'price_aprox_local_currency','price_aprox_usd','surface_total_in_m2','surface_total_in_m2_new','surface_covered_in_m2','price_usd_per_m2','price_per_m2','rooms','surface_total_in_m2_new']]\n",
    "dataframe_prices.head(3)"
   ]
  },
  {
   "cell_type": "markdown",
   "metadata": {},
   "source": [
    "Creamos un dataframe con las columnas donde *currency* sea ARS y el precio no sea null"
   ]
  },
  {
   "cell_type": "code",
   "execution_count": 128,
   "metadata": {},
   "outputs": [
    {
     "data": {
      "text/html": [
       "<div>\n",
       "<style scoped>\n",
       "    .dataframe tbody tr th:only-of-type {\n",
       "        vertical-align: middle;\n",
       "    }\n",
       "\n",
       "    .dataframe tbody tr th {\n",
       "        vertical-align: top;\n",
       "    }\n",
       "\n",
       "    .dataframe thead th {\n",
       "        text-align: right;\n",
       "    }\n",
       "</style>\n",
       "<table border=\"1\" class=\"dataframe\">\n",
       "  <thead>\n",
       "    <tr style=\"text-align: right;\">\n",
       "      <th></th>\n",
       "      <th>property_type</th>\n",
       "      <th>price</th>\n",
       "      <th>currency</th>\n",
       "      <th>price_aprox_local_currency</th>\n",
       "      <th>price_aprox_usd</th>\n",
       "      <th>surface_total_in_m2</th>\n",
       "      <th>surface_total_in_m2_new</th>\n",
       "      <th>surface_covered_in_m2</th>\n",
       "      <th>price_usd_per_m2</th>\n",
       "      <th>price_per_m2</th>\n",
       "      <th>rooms</th>\n",
       "      <th>surface_total_in_m2_new</th>\n",
       "    </tr>\n",
       "  </thead>\n",
       "  <tbody>\n",
       "    <tr>\n",
       "      <th>9</th>\n",
       "      <td>house</td>\n",
       "      <td>460000.0</td>\n",
       "      <td>ARS</td>\n",
       "      <td>455201.45</td>\n",
       "      <td>25798.49</td>\n",
       "      <td>NaN</td>\n",
       "      <td>405.241827</td>\n",
       "      <td>NaN</td>\n",
       "      <td>NaN</td>\n",
       "      <td>NaN</td>\n",
       "      <td>NaN</td>\n",
       "      <td>405.241827</td>\n",
       "    </tr>\n",
       "    <tr>\n",
       "      <th>32</th>\n",
       "      <td>apartment</td>\n",
       "      <td>550000.0</td>\n",
       "      <td>ARS</td>\n",
       "      <td>544262.59</td>\n",
       "      <td>30846.02</td>\n",
       "      <td>50.0</td>\n",
       "      <td>50.000000</td>\n",
       "      <td>50.0</td>\n",
       "      <td>616.920400</td>\n",
       "      <td>11000.000000</td>\n",
       "      <td>3.0</td>\n",
       "      <td>50.000000</td>\n",
       "    </tr>\n",
       "    <tr>\n",
       "      <th>37</th>\n",
       "      <td>house</td>\n",
       "      <td>1250000.0</td>\n",
       "      <td>ARS</td>\n",
       "      <td>1236960.43</td>\n",
       "      <td>70104.59</td>\n",
       "      <td>75.0</td>\n",
       "      <td>75.000000</td>\n",
       "      <td>75.0</td>\n",
       "      <td>934.727867</td>\n",
       "      <td>16666.666667</td>\n",
       "      <td>NaN</td>\n",
       "      <td>75.000000</td>\n",
       "    </tr>\n",
       "  </tbody>\n",
       "</table>\n",
       "</div>"
      ],
      "text/plain": [
       "   property_type      price currency  price_aprox_local_currency  \\\n",
       "9          house   460000.0      ARS                   455201.45   \n",
       "32     apartment   550000.0      ARS                   544262.59   \n",
       "37         house  1250000.0      ARS                  1236960.43   \n",
       "\n",
       "    price_aprox_usd  surface_total_in_m2  surface_total_in_m2_new  \\\n",
       "9          25798.49                  NaN               405.241827   \n",
       "32         30846.02                 50.0                50.000000   \n",
       "37         70104.59                 75.0                75.000000   \n",
       "\n",
       "    surface_covered_in_m2  price_usd_per_m2  price_per_m2  rooms  \\\n",
       "9                     NaN               NaN           NaN    NaN   \n",
       "32                   50.0        616.920400  11000.000000    3.0   \n",
       "37                   75.0        934.727867  16666.666667    NaN   \n",
       "\n",
       "    surface_total_in_m2_new  \n",
       "9                405.241827  \n",
       "32                50.000000  \n",
       "37                75.000000  "
      ]
     },
     "execution_count": 128,
     "metadata": {},
     "output_type": "execute_result"
    }
   ],
   "source": [
    "data_ars_mask=(dataframe_prices.currency=='ARS')&(dataframe_prices.price.notnull())&(dataframe_prices.price_aprox_usd.notnull())\n",
    "data_ars=dataframe_prices[data_ars_mask]\n",
    "data_ars.head(3)"
   ]
  },
  {
   "cell_type": "markdown",
   "metadata": {},
   "source": [
    "Al dataframe auxiliar le creamos un campo price_new para asignar directamente el valor de price_aprox_usd. Y en *currency_new* asignamos \"USD\""
   ]
  },
  {
   "cell_type": "code",
   "execution_count": 129,
   "metadata": {},
   "outputs": [
    {
     "name": "stderr",
     "output_type": "stream",
     "text": [
      "C:\\Users\\Usuario\\AppData\\Local\\Temp\\ipykernel_13036\\3108145144.py:1: SettingWithCopyWarning: \n",
      "A value is trying to be set on a copy of a slice from a DataFrame.\n",
      "Try using .loc[row_indexer,col_indexer] = value instead\n",
      "\n",
      "See the caveats in the documentation: https://pandas.pydata.org/pandas-docs/stable/user_guide/indexing.html#returning-a-view-versus-a-copy\n",
      "  data_ars['price_new']=data_ars['price_aprox_usd'] # igualamos price_aprox_usd con price_new\n"
     ]
    }
   ],
   "source": [
    "data_ars['price_new']=data_ars['price_aprox_usd'] # igualamos price_aprox_usd con price_new"
   ]
  },
  {
   "cell_type": "code",
   "execution_count": 130,
   "metadata": {},
   "outputs": [
    {
     "name": "stderr",
     "output_type": "stream",
     "text": [
      "C:\\Users\\Usuario\\AppData\\Local\\Temp\\ipykernel_13036\\4123680837.py:1: SettingWithCopyWarning: \n",
      "A value is trying to be set on a copy of a slice from a DataFrame.\n",
      "Try using .loc[row_indexer,col_indexer] = value instead\n",
      "\n",
      "See the caveats in the documentation: https://pandas.pydata.org/pandas-docs/stable/user_guide/indexing.html#returning-a-view-versus-a-copy\n",
      "  data_ars['currency_new']='USD' # cambiamos la moneda a dolares\n"
     ]
    },
    {
     "data": {
      "text/html": [
       "<div>\n",
       "<style scoped>\n",
       "    .dataframe tbody tr th:only-of-type {\n",
       "        vertical-align: middle;\n",
       "    }\n",
       "\n",
       "    .dataframe tbody tr th {\n",
       "        vertical-align: top;\n",
       "    }\n",
       "\n",
       "    .dataframe thead th {\n",
       "        text-align: right;\n",
       "    }\n",
       "</style>\n",
       "<table border=\"1\" class=\"dataframe\">\n",
       "  <thead>\n",
       "    <tr style=\"text-align: right;\">\n",
       "      <th></th>\n",
       "      <th>property_type</th>\n",
       "      <th>price</th>\n",
       "      <th>currency</th>\n",
       "      <th>price_aprox_local_currency</th>\n",
       "      <th>price_aprox_usd</th>\n",
       "      <th>surface_total_in_m2</th>\n",
       "      <th>surface_total_in_m2_new</th>\n",
       "      <th>surface_covered_in_m2</th>\n",
       "      <th>price_usd_per_m2</th>\n",
       "      <th>price_per_m2</th>\n",
       "      <th>rooms</th>\n",
       "      <th>surface_total_in_m2_new</th>\n",
       "      <th>price_new</th>\n",
       "      <th>currency_new</th>\n",
       "    </tr>\n",
       "  </thead>\n",
       "  <tbody>\n",
       "    <tr>\n",
       "      <th>9</th>\n",
       "      <td>house</td>\n",
       "      <td>460000.0</td>\n",
       "      <td>ARS</td>\n",
       "      <td>455201.45</td>\n",
       "      <td>25798.49</td>\n",
       "      <td>NaN</td>\n",
       "      <td>405.241827</td>\n",
       "      <td>NaN</td>\n",
       "      <td>NaN</td>\n",
       "      <td>NaN</td>\n",
       "      <td>NaN</td>\n",
       "      <td>405.241827</td>\n",
       "      <td>25798.49</td>\n",
       "      <td>USD</td>\n",
       "    </tr>\n",
       "    <tr>\n",
       "      <th>32</th>\n",
       "      <td>apartment</td>\n",
       "      <td>550000.0</td>\n",
       "      <td>ARS</td>\n",
       "      <td>544262.59</td>\n",
       "      <td>30846.02</td>\n",
       "      <td>50.0</td>\n",
       "      <td>50.000000</td>\n",
       "      <td>50.0</td>\n",
       "      <td>616.920400</td>\n",
       "      <td>11000.000000</td>\n",
       "      <td>3.0</td>\n",
       "      <td>50.000000</td>\n",
       "      <td>30846.02</td>\n",
       "      <td>USD</td>\n",
       "    </tr>\n",
       "    <tr>\n",
       "      <th>37</th>\n",
       "      <td>house</td>\n",
       "      <td>1250000.0</td>\n",
       "      <td>ARS</td>\n",
       "      <td>1236960.43</td>\n",
       "      <td>70104.59</td>\n",
       "      <td>75.0</td>\n",
       "      <td>75.000000</td>\n",
       "      <td>75.0</td>\n",
       "      <td>934.727867</td>\n",
       "      <td>16666.666667</td>\n",
       "      <td>NaN</td>\n",
       "      <td>75.000000</td>\n",
       "      <td>70104.59</td>\n",
       "      <td>USD</td>\n",
       "    </tr>\n",
       "  </tbody>\n",
       "</table>\n",
       "</div>"
      ],
      "text/plain": [
       "   property_type      price currency  price_aprox_local_currency  \\\n",
       "9          house   460000.0      ARS                   455201.45   \n",
       "32     apartment   550000.0      ARS                   544262.59   \n",
       "37         house  1250000.0      ARS                  1236960.43   \n",
       "\n",
       "    price_aprox_usd  surface_total_in_m2  surface_total_in_m2_new  \\\n",
       "9          25798.49                  NaN               405.241827   \n",
       "32         30846.02                 50.0                50.000000   \n",
       "37         70104.59                 75.0                75.000000   \n",
       "\n",
       "    surface_covered_in_m2  price_usd_per_m2  price_per_m2  rooms  \\\n",
       "9                     NaN               NaN           NaN    NaN   \n",
       "32                   50.0        616.920400  11000.000000    3.0   \n",
       "37                   75.0        934.727867  16666.666667    NaN   \n",
       "\n",
       "    surface_total_in_m2_new  price_new currency_new  \n",
       "9                405.241827   25798.49          USD  \n",
       "32                50.000000   30846.02          USD  \n",
       "37                75.000000   70104.59          USD  "
      ]
     },
     "execution_count": 130,
     "metadata": {},
     "output_type": "execute_result"
    }
   ],
   "source": [
    "data_ars['currency_new']='USD' # cambiamos la moneda a dolares\n",
    "data_ars.head(3)"
   ]
  },
  {
   "cell_type": "code",
   "execution_count": 131,
   "metadata": {},
   "outputs": [
    {
     "data": {
      "text/html": [
       "<div>\n",
       "<style scoped>\n",
       "    .dataframe tbody tr th:only-of-type {\n",
       "        vertical-align: middle;\n",
       "    }\n",
       "\n",
       "    .dataframe tbody tr th {\n",
       "        vertical-align: top;\n",
       "    }\n",
       "\n",
       "    .dataframe thead th {\n",
       "        text-align: right;\n",
       "    }\n",
       "</style>\n",
       "<table border=\"1\" class=\"dataframe\">\n",
       "  <thead>\n",
       "    <tr style=\"text-align: right;\">\n",
       "      <th></th>\n",
       "      <th>place_name</th>\n",
       "      <th>price</th>\n",
       "      <th>currency</th>\n",
       "      <th>price_aprox_local_currency</th>\n",
       "      <th>price_aprox_usd</th>\n",
       "    </tr>\n",
       "  </thead>\n",
       "  <tbody>\n",
       "    <tr>\n",
       "      <th>65236</th>\n",
       "      <td>San Antonio De Padua</td>\n",
       "      <td>90000.0</td>\n",
       "      <td>USD</td>\n",
       "      <td>1588005.00</td>\n",
       "      <td>90000.0</td>\n",
       "    </tr>\n",
       "    <tr>\n",
       "      <th>73148</th>\n",
       "      <td>Olivos</td>\n",
       "      <td>130000.0</td>\n",
       "      <td>USD</td>\n",
       "      <td>2293785.00</td>\n",
       "      <td>130000.0</td>\n",
       "    </tr>\n",
       "    <tr>\n",
       "      <th>88115</th>\n",
       "      <td>Martínez</td>\n",
       "      <td>550000.0</td>\n",
       "      <td>USD</td>\n",
       "      <td>9704475.00</td>\n",
       "      <td>550000.0</td>\n",
       "    </tr>\n",
       "    <tr>\n",
       "      <th>111199</th>\n",
       "      <td>Tigre</td>\n",
       "      <td>116850.0</td>\n",
       "      <td>USD</td>\n",
       "      <td>2061759.82</td>\n",
       "      <td>116850.0</td>\n",
       "    </tr>\n",
       "    <tr>\n",
       "      <th>38344</th>\n",
       "      <td>Barrio Norte</td>\n",
       "      <td>175000.0</td>\n",
       "      <td>USD</td>\n",
       "      <td>3087787.50</td>\n",
       "      <td>175000.0</td>\n",
       "    </tr>\n",
       "  </tbody>\n",
       "</table>\n",
       "</div>"
      ],
      "text/plain": [
       "                  place_name     price currency  price_aprox_local_currency  \\\n",
       "65236   San Antonio De Padua   90000.0      USD                  1588005.00   \n",
       "73148                 Olivos  130000.0      USD                  2293785.00   \n",
       "88115               Martínez  550000.0      USD                  9704475.00   \n",
       "111199                 Tigre  116850.0      USD                  2061759.82   \n",
       "38344           Barrio Norte  175000.0      USD                  3087787.50   \n",
       "\n",
       "        price_aprox_usd  \n",
       "65236           90000.0  \n",
       "73148          130000.0  \n",
       "88115          550000.0  \n",
       "111199         116850.0  \n",
       "38344          175000.0  "
      ]
     },
     "execution_count": 131,
     "metadata": {},
     "output_type": "execute_result"
    }
   ],
   "source": [
    "#Creamos una máscara para extraer los registros con moneda en dólares y además los campos\n",
    "#que corresponden para el análisis\n",
    "mask_currency_usd = data['currency'] == 'USD'\n",
    "data_currency_usd = data.loc[mask_currency_usd, ['place_name', 'price', 'currency', 'price_aprox_local_currency', 'price_aprox_usd']]\n",
    "data_currency_usd.sample(5)"
   ]
  },
  {
   "cell_type": "markdown",
   "metadata": {},
   "source": [
    "* Encontramos con este proceso la relación que existe entre la columna price y price_aprox_local_currency\n"
   ]
  },
  {
   "cell_type": "code",
   "execution_count": 132,
   "metadata": {},
   "outputs": [],
   "source": [
    "#sumamos las columnas price y price_aprox_local_currency del dataset original\n",
    "sum_price = np.sum(data_currency_usd['price'])\n",
    "sum_price_aprox_local = np.sum(data_currency_usd['price_aprox_local_currency'])"
   ]
  },
  {
   "cell_type": "markdown",
   "metadata": {},
   "source": [
    "* Dividimos la sumatoria entre la sumatoria de price y price_aprox_local_currency"
   ]
  },
  {
   "cell_type": "code",
   "execution_count": 133,
   "metadata": {},
   "outputs": [],
   "source": [
    "proporcion_dolar_pesos =  np.round((sum_price_aprox_local / sum_price), 4)"
   ]
  },
  {
   "cell_type": "markdown",
   "metadata": {},
   "source": [
    "* Podemos verificar que existe el factor de proporcion 17.6445"
   ]
  },
  {
   "cell_type": "code",
   "execution_count": 134,
   "metadata": {},
   "outputs": [
    {
     "data": {
      "text/plain": [
       "17.6445"
      ]
     },
     "execution_count": 134,
     "metadata": {},
     "output_type": "execute_result"
    }
   ],
   "source": [
    "proporcion_dolar_pesos"
   ]
  },
  {
   "cell_type": "markdown",
   "metadata": {},
   "source": [
    "* Con este factor de proporción obtenido de 17.6445 podemos multiplicar la columna price proporcion_dolar_pesos y es igual a la columna price_aprox_local_currency, que será empleado cuando se haga el análisis de la columna price_aprox_local_currency más adelante."
   ]
  },
  {
   "cell_type": "markdown",
   "metadata": {},
   "source": [
    "Comprobamos que *price_aprox_local_currency* es equivalente a lo que se encuentra almacenado en esa columna actualmente. \n",
    "Con el nuevo precio que está guardado.\n",
    "En *price_new* se va a multiplicar por 17.6445 y obtenemos la columna *calculo_price_local_currency*"
   ]
  },
  {
   "cell_type": "code",
   "execution_count": 135,
   "metadata": {},
   "outputs": [
    {
     "data": {
      "text/html": [
       "<div>\n",
       "<style scoped>\n",
       "    .dataframe tbody tr th:only-of-type {\n",
       "        vertical-align: middle;\n",
       "    }\n",
       "\n",
       "    .dataframe tbody tr th {\n",
       "        vertical-align: top;\n",
       "    }\n",
       "\n",
       "    .dataframe thead th {\n",
       "        text-align: right;\n",
       "    }\n",
       "</style>\n",
       "<table border=\"1\" class=\"dataframe\">\n",
       "  <thead>\n",
       "    <tr style=\"text-align: right;\">\n",
       "      <th></th>\n",
       "      <th>property_type</th>\n",
       "      <th>price</th>\n",
       "      <th>currency</th>\n",
       "      <th>price_aprox_local_currency</th>\n",
       "      <th>price_aprox_usd</th>\n",
       "      <th>surface_total_in_m2</th>\n",
       "      <th>surface_total_in_m2_new</th>\n",
       "      <th>surface_covered_in_m2</th>\n",
       "      <th>price_usd_per_m2</th>\n",
       "      <th>price_per_m2</th>\n",
       "      <th>rooms</th>\n",
       "      <th>surface_total_in_m2_new</th>\n",
       "      <th>price_new</th>\n",
       "      <th>currency_new</th>\n",
       "      <th>calculo_price_local_currency</th>\n",
       "    </tr>\n",
       "  </thead>\n",
       "  <tbody>\n",
       "    <tr>\n",
       "      <th>9</th>\n",
       "      <td>house</td>\n",
       "      <td>460000.0</td>\n",
       "      <td>ARS</td>\n",
       "      <td>455201.45</td>\n",
       "      <td>25798.49</td>\n",
       "      <td>NaN</td>\n",
       "      <td>405.241827</td>\n",
       "      <td>NaN</td>\n",
       "      <td>NaN</td>\n",
       "      <td>NaN</td>\n",
       "      <td>NaN</td>\n",
       "      <td>405.241827</td>\n",
       "      <td>25798.49</td>\n",
       "      <td>USD</td>\n",
       "      <td>4.552015e+05</td>\n",
       "    </tr>\n",
       "    <tr>\n",
       "      <th>32</th>\n",
       "      <td>apartment</td>\n",
       "      <td>550000.0</td>\n",
       "      <td>ARS</td>\n",
       "      <td>544262.59</td>\n",
       "      <td>30846.02</td>\n",
       "      <td>50.0</td>\n",
       "      <td>50.000000</td>\n",
       "      <td>50.0</td>\n",
       "      <td>616.920400</td>\n",
       "      <td>11000.000000</td>\n",
       "      <td>3.0</td>\n",
       "      <td>50.000000</td>\n",
       "      <td>30846.02</td>\n",
       "      <td>USD</td>\n",
       "      <td>5.442626e+05</td>\n",
       "    </tr>\n",
       "    <tr>\n",
       "      <th>37</th>\n",
       "      <td>house</td>\n",
       "      <td>1250000.0</td>\n",
       "      <td>ARS</td>\n",
       "      <td>1236960.43</td>\n",
       "      <td>70104.59</td>\n",
       "      <td>75.0</td>\n",
       "      <td>75.000000</td>\n",
       "      <td>75.0</td>\n",
       "      <td>934.727867</td>\n",
       "      <td>16666.666667</td>\n",
       "      <td>NaN</td>\n",
       "      <td>75.000000</td>\n",
       "      <td>70104.59</td>\n",
       "      <td>USD</td>\n",
       "      <td>1.236960e+06</td>\n",
       "    </tr>\n",
       "  </tbody>\n",
       "</table>\n",
       "</div>"
      ],
      "text/plain": [
       "   property_type      price currency  price_aprox_local_currency  \\\n",
       "9          house   460000.0      ARS                   455201.45   \n",
       "32     apartment   550000.0      ARS                   544262.59   \n",
       "37         house  1250000.0      ARS                  1236960.43   \n",
       "\n",
       "    price_aprox_usd  surface_total_in_m2  surface_total_in_m2_new  \\\n",
       "9          25798.49                  NaN               405.241827   \n",
       "32         30846.02                 50.0                50.000000   \n",
       "37         70104.59                 75.0                75.000000   \n",
       "\n",
       "    surface_covered_in_m2  price_usd_per_m2  price_per_m2  rooms  \\\n",
       "9                     NaN               NaN           NaN    NaN   \n",
       "32                   50.0        616.920400  11000.000000    3.0   \n",
       "37                   75.0        934.727867  16666.666667    NaN   \n",
       "\n",
       "    surface_total_in_m2_new  price_new currency_new  \\\n",
       "9                405.241827   25798.49          USD   \n",
       "32                50.000000   30846.02          USD   \n",
       "37                75.000000   70104.59          USD   \n",
       "\n",
       "    calculo_price_local_currency  \n",
       "9                   4.552015e+05  \n",
       "32                  5.442626e+05  \n",
       "37                  1.236960e+06  "
      ]
     },
     "execution_count": 135,
     "metadata": {},
     "output_type": "execute_result"
    }
   ],
   "source": [
    "\n",
    "df_local_currency=data_ars.loc[(data_ars.price_new.notnull())&(data_ars.price_aprox_usd.notnull())]\n",
    "df_local_currency['calculo_price_local_currency']=df_local_currency.loc[:,'price_new']*proporcion_dolar_pesos\n",
    "df_local_currency.head(3)"
   ]
  },
  {
   "cell_type": "markdown",
   "metadata": {},
   "source": [
    "Filtramos para ver si hay alguna diferencia entre lo que calculamos y lo que tenemos almacenado en *price_aprox_local_currency* actualmente, y podemos observar que no hay ninguna diferencia, por lo tanto **podemos reemplazar *price* con el valor de *price_aprox_usd* y además cambiar la columna currency a USD:"
   ]
  },
  {
   "cell_type": "code",
   "execution_count": 136,
   "metadata": {},
   "outputs": [
    {
     "name": "stdout",
     "output_type": "stream",
     "text": [
      "Empty DataFrame\n",
      "Columns: [property_type, price, currency, price_aprox_local_currency, price_aprox_usd, surface_total_in_m2, surface_total_in_m2_new, surface_covered_in_m2, price_usd_per_m2, price_per_m2, rooms, surface_total_in_m2_new, price_new, currency_new, calculo_price_local_currency, diferencia_calculo]\n",
      "Index: []\n"
     ]
    }
   ],
   "source": [
    "\n",
    "df_local_currency['diferencia_calculo']=df_local_currency['price_aprox_local_currency']-df_local_currency['calculo_price_local_currency']\n",
    "print(df_local_currency[df_local_currency.diferencia_calculo>0])"
   ]
  },
  {
   "cell_type": "markdown",
   "metadata": {},
   "source": [
    "#### 📝 Limpieza de Datos "
   ]
  },
  {
   "cell_type": "markdown",
   "metadata": {},
   "source": [
    "Se extraen los registros en donde la moneda es ARS, el *price* no es null y el *price_aprox_usd* no es null"
   ]
  },
  {
   "cell_type": "code",
   "execution_count": 137,
   "metadata": {},
   "outputs": [
    {
     "data": {
      "text/html": [
       "<div>\n",
       "<style scoped>\n",
       "    .dataframe tbody tr th:only-of-type {\n",
       "        vertical-align: middle;\n",
       "    }\n",
       "\n",
       "    .dataframe tbody tr th {\n",
       "        vertical-align: top;\n",
       "    }\n",
       "\n",
       "    .dataframe thead th {\n",
       "        text-align: right;\n",
       "    }\n",
       "</style>\n",
       "<table border=\"1\" class=\"dataframe\">\n",
       "  <thead>\n",
       "    <tr style=\"text-align: right;\">\n",
       "      <th></th>\n",
       "      <th>Unnamed: 0</th>\n",
       "      <th>operation</th>\n",
       "      <th>property_type</th>\n",
       "      <th>place_name</th>\n",
       "      <th>place_with_parent_names</th>\n",
       "      <th>country_name</th>\n",
       "      <th>state_name</th>\n",
       "      <th>geonames_id</th>\n",
       "      <th>lat-lon</th>\n",
       "      <th>lat</th>\n",
       "      <th>...</th>\n",
       "      <th>title_new</th>\n",
       "      <th>property_type_new</th>\n",
       "      <th>floor_null</th>\n",
       "      <th>floor_null_property</th>\n",
       "      <th>porc_nulos_x_property</th>\n",
       "      <th>floor_new</th>\n",
       "      <th>surface_total_in_m2_new</th>\n",
       "      <th>currency_new</th>\n",
       "      <th>price_new</th>\n",
       "      <th>price_aprox_usd_new</th>\n",
       "    </tr>\n",
       "  </thead>\n",
       "  <tbody>\n",
       "    <tr>\n",
       "      <th>9</th>\n",
       "      <td>9</td>\n",
       "      <td>sell</td>\n",
       "      <td>house</td>\n",
       "      <td>Rosario</td>\n",
       "      <td>|Argentina|Santa Fe|Rosario|</td>\n",
       "      <td>Argentina</td>\n",
       "      <td>Santa Fe</td>\n",
       "      <td>3838574.0</td>\n",
       "      <td>-32.942031,-60.7259192</td>\n",
       "      <td>-32.942031</td>\n",
       "      <td>...</td>\n",
       "      <td>white 7637 - 2 dormitorios con patio</td>\n",
       "      <td>house</td>\n",
       "      <td>True</td>\n",
       "      <td>True</td>\n",
       "      <td>93.48</td>\n",
       "      <td>1.0</td>\n",
       "      <td>405.241827</td>\n",
       "      <td>ARS</td>\n",
       "      <td>460000.0</td>\n",
       "      <td>25798.49</td>\n",
       "    </tr>\n",
       "    <tr>\n",
       "      <th>32</th>\n",
       "      <td>32</td>\n",
       "      <td>sell</td>\n",
       "      <td>apartment</td>\n",
       "      <td>Córdoba</td>\n",
       "      <td>|Argentina|Córdoba|Córdoba|</td>\n",
       "      <td>Argentina</td>\n",
       "      <td>Córdoba</td>\n",
       "      <td>3860259.0</td>\n",
       "      <td>-31.4053736,-64.1562667</td>\n",
       "      <td>-31.405374</td>\n",
       "      <td>...</td>\n",
       "      <td>departamento apto credito! barrio pueyrredon</td>\n",
       "      <td>apartment</td>\n",
       "      <td>True</td>\n",
       "      <td>True</td>\n",
       "      <td>93.48</td>\n",
       "      <td>1.0</td>\n",
       "      <td>50.000000</td>\n",
       "      <td>ARS</td>\n",
       "      <td>550000.0</td>\n",
       "      <td>30846.02</td>\n",
       "    </tr>\n",
       "    <tr>\n",
       "      <th>37</th>\n",
       "      <td>37</td>\n",
       "      <td>sell</td>\n",
       "      <td>house</td>\n",
       "      <td>Malagueño</td>\n",
       "      <td>|Argentina|Córdoba|Malagueño|</td>\n",
       "      <td>Argentina</td>\n",
       "      <td>Córdoba</td>\n",
       "      <td>3845202.0</td>\n",
       "      <td>-31.4373176491,-64.4580057347</td>\n",
       "      <td>-31.437318</td>\n",
       "      <td>...</td>\n",
       "      <td>casa venta villa san nicolas</td>\n",
       "      <td>house</td>\n",
       "      <td>True</td>\n",
       "      <td>True</td>\n",
       "      <td>93.48</td>\n",
       "      <td>1.0</td>\n",
       "      <td>75.000000</td>\n",
       "      <td>ARS</td>\n",
       "      <td>1250000.0</td>\n",
       "      <td>70104.59</td>\n",
       "    </tr>\n",
       "  </tbody>\n",
       "</table>\n",
       "<p>3 rows × 41 columns</p>\n",
       "</div>"
      ],
      "text/plain": [
       "    Unnamed: 0 operation property_type place_name  \\\n",
       "9            9      sell         house    Rosario   \n",
       "32          32      sell     apartment    Córdoba   \n",
       "37          37      sell         house  Malagueño   \n",
       "\n",
       "          place_with_parent_names country_name state_name  geonames_id  \\\n",
       "9    |Argentina|Santa Fe|Rosario|    Argentina   Santa Fe    3838574.0   \n",
       "32    |Argentina|Córdoba|Córdoba|    Argentina    Córdoba    3860259.0   \n",
       "37  |Argentina|Córdoba|Malagueño|    Argentina    Córdoba    3845202.0   \n",
       "\n",
       "                          lat-lon        lat  ...  \\\n",
       "9          -32.942031,-60.7259192 -32.942031  ...   \n",
       "32        -31.4053736,-64.1562667 -31.405374  ...   \n",
       "37  -31.4373176491,-64.4580057347 -31.437318  ...   \n",
       "\n",
       "                                       title_new  property_type_new  \\\n",
       "9     white 7637 - 2 dormitorios con patio                    house   \n",
       "32  departamento apto credito! barrio pueyrredon          apartment   \n",
       "37                  casa venta villa san nicolas              house   \n",
       "\n",
       "   floor_null  floor_null_property  porc_nulos_x_property  floor_new  \\\n",
       "9        True                 True                  93.48        1.0   \n",
       "32       True                 True                  93.48        1.0   \n",
       "37       True                 True                  93.48        1.0   \n",
       "\n",
       "    surface_total_in_m2_new  currency_new  price_new  price_aprox_usd_new  \n",
       "9                405.241827           ARS   460000.0             25798.49  \n",
       "32                50.000000           ARS   550000.0             30846.02  \n",
       "37                75.000000           ARS  1250000.0             70104.59  \n",
       "\n",
       "[3 rows x 41 columns]"
      ]
     },
     "execution_count": 137,
     "metadata": {},
     "output_type": "execute_result"
    }
   ],
   "source": [
    "data_currency_ars_mask=(data.currency_new=='ARS')&(data.price_new.notnull())&(data.price_aprox_usd_new.notnull())\n",
    "data_currency_ars=data[data_currency_ars_mask]\n",
    "data_currency_ars.head(3)"
   ]
  },
  {
   "cell_type": "markdown",
   "metadata": {},
   "source": [
    "En base al análisis realizado, se cambia la columna currency_new de ARS a USD y el precio_new reemplazamos por lo que el valor que tenemos\n",
    "guardado en price_aprox_usd, con el objetivo de tener todo el dataset en una única moneda"
   ]
  },
  {
   "cell_type": "markdown",
   "metadata": {},
   "source": [
    "* A continuacion se eliminan los registros con currency 'PEN' Y 'UYU', los mismos suman la totalidad de 3 registros, son considerados outliers"
   ]
  },
  {
   "cell_type": "code",
   "execution_count": 138,
   "metadata": {},
   "outputs": [],
   "source": [
    "data.loc[data_currency_ars_mask,'price_new'] = data.loc[data_currency_ars_mask,'price_aprox_usd']\n",
    "data.loc[data_currency_ars_mask,'currency_new']='USD'"
   ]
  },
  {
   "cell_type": "code",
   "execution_count": 139,
   "metadata": {},
   "outputs": [],
   "source": [
    "indices_pen_uyu = data[(data.currency_new == 'PEN') | (data.currency_new == 'UYU')].index\n",
    "data.drop(indices_pen_uyu, inplace=True)"
   ]
  },
  {
   "cell_type": "markdown",
   "metadata": {},
   "source": [
    "------------------------------------------------"
   ]
  },
  {
   "cell_type": "markdown",
   "metadata": {},
   "source": [
    "#### SECCION 3.2 - COLUMNA PRICE"
   ]
  },
  {
   "cell_type": "markdown",
   "metadata": {},
   "source": [
    "#### 📝 Limpieza de Datos "
   ]
  },
  {
   "cell_type": "code",
   "execution_count": 140,
   "metadata": {},
   "outputs": [
    {
     "data": {
      "text/plain": [
       "count    1.008070e+05\n",
       "mean     2.394757e+05\n",
       "std      3.847189e+05\n",
       "min      0.000000e+00\n",
       "25%      8.973388e+04\n",
       "50%      1.450000e+05\n",
       "75%      2.650000e+05\n",
       "max      4.654544e+07\n",
       "Name: price_new, dtype: float64"
      ]
     },
     "execution_count": 140,
     "metadata": {},
     "output_type": "execute_result"
    }
   ],
   "source": [
    "data.price_new.describe()"
   ]
  },
  {
   "cell_type": "code",
   "execution_count": 141,
   "metadata": {},
   "outputs": [
    {
     "data": {
      "text/plain": [
       "20410"
      ]
     },
     "execution_count": 141,
     "metadata": {},
     "output_type": "execute_result"
    }
   ],
   "source": [
    "data.price_new.isnull().sum()"
   ]
  },
  {
   "cell_type": "markdown",
   "metadata": {},
   "source": [
    "#### 📝 Limpieza de Datos "
   ]
  },
  {
   "cell_type": "markdown",
   "metadata": {},
   "source": [
    "Para recuperar los nulos en *price*, se decide hacer una imputacion de la media del precio según la zona geográfica. "
   ]
  },
  {
   "cell_type": "code",
   "execution_count": 142,
   "metadata": {},
   "outputs": [
    {
     "data": {
      "text/html": [
       "<div>\n",
       "<style scoped>\n",
       "    .dataframe tbody tr th:only-of-type {\n",
       "        vertical-align: middle;\n",
       "    }\n",
       "\n",
       "    .dataframe tbody tr th {\n",
       "        vertical-align: top;\n",
       "    }\n",
       "\n",
       "    .dataframe thead th {\n",
       "        text-align: right;\n",
       "    }\n",
       "</style>\n",
       "<table border=\"1\" class=\"dataframe\">\n",
       "  <thead>\n",
       "    <tr style=\"text-align: right;\">\n",
       "      <th></th>\n",
       "      <th></th>\n",
       "      <th>price_new</th>\n",
       "    </tr>\n",
       "    <tr>\n",
       "      <th>state_name</th>\n",
       "      <th>place_name_new</th>\n",
       "      <th></th>\n",
       "    </tr>\n",
       "  </thead>\n",
       "  <tbody>\n",
       "    <tr>\n",
       "      <th rowspan=\"5\" valign=\"top\">Bs.As. G.B.A. Zona Norte</th>\n",
       "      <th>Country Maschwitz Club</th>\n",
       "      <td>311666.666667</td>\n",
       "    </tr>\n",
       "    <tr>\n",
       "      <th>los alamos</th>\n",
       "      <td>81600.000000</td>\n",
       "    </tr>\n",
       "    <tr>\n",
       "      <th>Acacias Blancas</th>\n",
       "      <td>249529.411765</td>\n",
       "    </tr>\n",
       "    <tr>\n",
       "      <th>Acassuso</th>\n",
       "      <td>691254.935622</td>\n",
       "    </tr>\n",
       "    <tr>\n",
       "      <th>Albanueva Barrio Cerrado</th>\n",
       "      <td>795136.363636</td>\n",
       "    </tr>\n",
       "    <tr>\n",
       "      <th>...</th>\n",
       "      <th>...</th>\n",
       "      <td>...</td>\n",
       "    </tr>\n",
       "    <tr>\n",
       "      <th rowspan=\"5\" valign=\"top\">Tucumán</th>\n",
       "      <th>San Miguel de Tucumán</th>\n",
       "      <td>168864.305846</td>\n",
       "    </tr>\n",
       "    <tr>\n",
       "      <th>Tafí Viejo</th>\n",
       "      <td>103754.796667</td>\n",
       "    </tr>\n",
       "    <tr>\n",
       "      <th>Tafí del Valle</th>\n",
       "      <td>74310.865000</td>\n",
       "    </tr>\n",
       "    <tr>\n",
       "      <th>Tucumán</th>\n",
       "      <td>90310.070625</td>\n",
       "    </tr>\n",
       "    <tr>\n",
       "      <th>Yerba Buena</th>\n",
       "      <td>248050.684643</td>\n",
       "    </tr>\n",
       "  </tbody>\n",
       "</table>\n",
       "<p>1000 rows × 1 columns</p>\n",
       "</div>"
      ],
      "text/plain": [
       "                                                       price_new\n",
       "state_name               place_name_new                         \n",
       "Bs.As. G.B.A. Zona Norte  Country Maschwitz Club   311666.666667\n",
       "                          los alamos                81600.000000\n",
       "                         Acacias Blancas           249529.411765\n",
       "                         Acassuso                  691254.935622\n",
       "                         Albanueva Barrio Cerrado  795136.363636\n",
       "...                                                          ...\n",
       "Tucumán                  San Miguel de Tucumán     168864.305846\n",
       "                         Tafí Viejo                103754.796667\n",
       "                         Tafí del Valle             74310.865000\n",
       "                         Tucumán                    90310.070625\n",
       "                         Yerba Buena               248050.684643\n",
       "\n",
       "[1000 rows x 1 columns]"
      ]
     },
     "execution_count": 142,
     "metadata": {},
     "output_type": "execute_result"
    }
   ],
   "source": [
    "pivot_table_prices_avg = data.pivot_table('price_new', index = ['state_name','place_name_new'])\n",
    "pivot_table_prices_avg"
   ]
  },
  {
   "cell_type": "code",
   "execution_count": 143,
   "metadata": {},
   "outputs": [],
   "source": [
    "# Se recorre la pivot table para poder asignar la media por provincia y por ciudad, se asgina la media a 'price_new', 'price_aprox_usd_new', y se pasa a dolares la currency_new cuando es nula\n",
    "for indice, row in pivot_table_prices_avg.iterrows():\n",
    "    provincia, ciudad = indice     \n",
    "    data.loc[(data.currency.isnull()) & (data.price.isnull()) & (data.state_name==provincia) & (data.place_name_new==ciudad), ['price_new', 'price_aprox_usd_new']] = row['price_new']    \n",
    "    data.loc[(data.currency.isnull()) & (data.price.isnull()) & (data.state_name==provincia) & (data.place_name_new==ciudad), 'currency_new'] =  'USD'"
   ]
  },
  {
   "cell_type": "markdown",
   "metadata": {},
   "source": [
    "A continuación vemos como se modificaron los nulos en las 3 columnas afectadas:"
   ]
  },
  {
   "cell_type": "code",
   "execution_count": 144,
   "metadata": {},
   "outputs": [
    {
     "name": "stdout",
     "output_type": "stream",
     "text": [
      "20411\n",
      "223\n"
     ]
    }
   ],
   "source": [
    "print(data.currency.isnull().sum())\n",
    "print(data.currency_new.isnull().sum())"
   ]
  },
  {
   "cell_type": "code",
   "execution_count": 145,
   "metadata": {},
   "outputs": [
    {
     "name": "stdout",
     "output_type": "stream",
     "text": [
      "20410\n",
      "222\n"
     ]
    }
   ],
   "source": [
    "print(data.price.isnull().sum())\n",
    "print(data.price_new.isnull().sum())"
   ]
  },
  {
   "cell_type": "code",
   "execution_count": 146,
   "metadata": {},
   "outputs": [
    {
     "name": "stdout",
     "output_type": "stream",
     "text": [
      "20410\n",
      "222\n"
     ]
    }
   ],
   "source": [
    "print(data.price_aprox_usd.isnull().sum())\n",
    "print(data.price_aprox_usd_new.isnull().sum())"
   ]
  },
  {
   "cell_type": "markdown",
   "metadata": {},
   "source": [
    "----------------------------------------------------------------------------------"
   ]
  },
  {
   "cell_type": "markdown",
   "metadata": {},
   "source": [
    "#### SECCION 3.3 - PRICE_APROX_LOCAL_CURRENCY"
   ]
  },
  {
   "cell_type": "markdown",
   "metadata": {},
   "source": [
    "Queremos verificar de donde sale el valor de esta variable, y si tiene relación con la variable price (price_new). Para esto vamos a crear un dataframe auxiliar:"
   ]
  },
  {
   "cell_type": "code",
   "execution_count": 147,
   "metadata": {},
   "outputs": [
    {
     "data": {
      "text/html": [
       "<div>\n",
       "<style scoped>\n",
       "    .dataframe tbody tr th:only-of-type {\n",
       "        vertical-align: middle;\n",
       "    }\n",
       "\n",
       "    .dataframe tbody tr th {\n",
       "        vertical-align: top;\n",
       "    }\n",
       "\n",
       "    .dataframe thead th {\n",
       "        text-align: right;\n",
       "    }\n",
       "</style>\n",
       "<table border=\"1\" class=\"dataframe\">\n",
       "  <thead>\n",
       "    <tr style=\"text-align: right;\">\n",
       "      <th></th>\n",
       "      <th>property_type</th>\n",
       "      <th>price</th>\n",
       "      <th>currency</th>\n",
       "      <th>price_aprox_local_currency</th>\n",
       "      <th>price_aprox_usd</th>\n",
       "      <th>surface_total_in_m2</th>\n",
       "      <th>surface_total_in_m2_new</th>\n",
       "      <th>surface_covered_in_m2</th>\n",
       "      <th>price_usd_per_m2</th>\n",
       "      <th>price_per_m2</th>\n",
       "      <th>rooms</th>\n",
       "      <th>surface_total_in_m2_new</th>\n",
       "    </tr>\n",
       "  </thead>\n",
       "  <tbody>\n",
       "    <tr>\n",
       "      <th>0</th>\n",
       "      <td>PH</td>\n",
       "      <td>62000.0</td>\n",
       "      <td>USD</td>\n",
       "      <td>1093959.0</td>\n",
       "      <td>62000.0</td>\n",
       "      <td>55.0</td>\n",
       "      <td>55.000000</td>\n",
       "      <td>40.0</td>\n",
       "      <td>1127.272727</td>\n",
       "      <td>1550.000000</td>\n",
       "      <td>NaN</td>\n",
       "      <td>55.000000</td>\n",
       "    </tr>\n",
       "    <tr>\n",
       "      <th>1</th>\n",
       "      <td>apartment</td>\n",
       "      <td>150000.0</td>\n",
       "      <td>USD</td>\n",
       "      <td>2646675.0</td>\n",
       "      <td>150000.0</td>\n",
       "      <td>NaN</td>\n",
       "      <td>86.640712</td>\n",
       "      <td>NaN</td>\n",
       "      <td>NaN</td>\n",
       "      <td>NaN</td>\n",
       "      <td>NaN</td>\n",
       "      <td>86.640712</td>\n",
       "    </tr>\n",
       "    <tr>\n",
       "      <th>2</th>\n",
       "      <td>apartment</td>\n",
       "      <td>72000.0</td>\n",
       "      <td>USD</td>\n",
       "      <td>1270404.0</td>\n",
       "      <td>72000.0</td>\n",
       "      <td>55.0</td>\n",
       "      <td>55.000000</td>\n",
       "      <td>55.0</td>\n",
       "      <td>1309.090909</td>\n",
       "      <td>1309.090909</td>\n",
       "      <td>NaN</td>\n",
       "      <td>55.000000</td>\n",
       "    </tr>\n",
       "  </tbody>\n",
       "</table>\n",
       "</div>"
      ],
      "text/plain": [
       "  property_type     price currency  price_aprox_local_currency  \\\n",
       "0            PH   62000.0      USD                   1093959.0   \n",
       "1     apartment  150000.0      USD                   2646675.0   \n",
       "2     apartment   72000.0      USD                   1270404.0   \n",
       "\n",
       "   price_aprox_usd  surface_total_in_m2  surface_total_in_m2_new  \\\n",
       "0          62000.0                 55.0                55.000000   \n",
       "1         150000.0                  NaN                86.640712   \n",
       "2          72000.0                 55.0                55.000000   \n",
       "\n",
       "   surface_covered_in_m2  price_usd_per_m2  price_per_m2  rooms  \\\n",
       "0                   40.0       1127.272727   1550.000000    NaN   \n",
       "1                    NaN               NaN           NaN    NaN   \n",
       "2                   55.0       1309.090909   1309.090909    NaN   \n",
       "\n",
       "   surface_total_in_m2_new  \n",
       "0                55.000000  \n",
       "1                86.640712  \n",
       "2                55.000000  "
      ]
     },
     "execution_count": 147,
     "metadata": {},
     "output_type": "execute_result"
    }
   ],
   "source": [
    "df_price_to_price_local_currency=dataframe_prices.loc[(dataframe_prices.price.notnull())&(dataframe_prices.price_aprox_usd.notnull())&(dataframe_prices.currency=='USD')]\n",
    "df_price_to_price_local_currency.head(3)"
   ]
  },
  {
   "cell_type": "markdown",
   "metadata": {},
   "source": [
    "Verificamos que multiplicando price*17,6445 nos da como resultado la columna *price_aprox_local_currency*"
   ]
  },
  {
   "cell_type": "code",
   "execution_count": 148,
   "metadata": {},
   "outputs": [
    {
     "name": "stderr",
     "output_type": "stream",
     "text": [
      "C:\\Users\\Usuario\\AppData\\Local\\Temp\\ipykernel_13036\\3334397107.py:1: SettingWithCopyWarning: \n",
      "A value is trying to be set on a copy of a slice from a DataFrame.\n",
      "Try using .loc[row_indexer,col_indexer] = value instead\n",
      "\n",
      "See the caveats in the documentation: https://pandas.pydata.org/pandas-docs/stable/user_guide/indexing.html#returning-a-view-versus-a-copy\n",
      "  df_price_to_price_local_currency['calculo_price_local_currency']=df_price_to_price_local_currency.loc[:,'price']*proporcion_dolar_pesos\n"
     ]
    },
    {
     "data": {
      "text/html": [
       "<div>\n",
       "<style scoped>\n",
       "    .dataframe tbody tr th:only-of-type {\n",
       "        vertical-align: middle;\n",
       "    }\n",
       "\n",
       "    .dataframe tbody tr th {\n",
       "        vertical-align: top;\n",
       "    }\n",
       "\n",
       "    .dataframe thead th {\n",
       "        text-align: right;\n",
       "    }\n",
       "</style>\n",
       "<table border=\"1\" class=\"dataframe\">\n",
       "  <thead>\n",
       "    <tr style=\"text-align: right;\">\n",
       "      <th></th>\n",
       "      <th>property_type</th>\n",
       "      <th>price</th>\n",
       "      <th>currency</th>\n",
       "      <th>price_aprox_local_currency</th>\n",
       "      <th>price_aprox_usd</th>\n",
       "      <th>surface_total_in_m2</th>\n",
       "      <th>surface_total_in_m2_new</th>\n",
       "      <th>surface_covered_in_m2</th>\n",
       "      <th>price_usd_per_m2</th>\n",
       "      <th>price_per_m2</th>\n",
       "      <th>rooms</th>\n",
       "      <th>surface_total_in_m2_new</th>\n",
       "      <th>calculo_price_local_currency</th>\n",
       "    </tr>\n",
       "  </thead>\n",
       "  <tbody>\n",
       "    <tr>\n",
       "      <th>0</th>\n",
       "      <td>PH</td>\n",
       "      <td>62000.0</td>\n",
       "      <td>USD</td>\n",
       "      <td>1093959.0</td>\n",
       "      <td>62000.0</td>\n",
       "      <td>55.0</td>\n",
       "      <td>55.000000</td>\n",
       "      <td>40.0</td>\n",
       "      <td>1127.272727</td>\n",
       "      <td>1550.000000</td>\n",
       "      <td>NaN</td>\n",
       "      <td>55.000000</td>\n",
       "      <td>1093959.0</td>\n",
       "    </tr>\n",
       "    <tr>\n",
       "      <th>1</th>\n",
       "      <td>apartment</td>\n",
       "      <td>150000.0</td>\n",
       "      <td>USD</td>\n",
       "      <td>2646675.0</td>\n",
       "      <td>150000.0</td>\n",
       "      <td>NaN</td>\n",
       "      <td>86.640712</td>\n",
       "      <td>NaN</td>\n",
       "      <td>NaN</td>\n",
       "      <td>NaN</td>\n",
       "      <td>NaN</td>\n",
       "      <td>86.640712</td>\n",
       "      <td>2646675.0</td>\n",
       "    </tr>\n",
       "    <tr>\n",
       "      <th>2</th>\n",
       "      <td>apartment</td>\n",
       "      <td>72000.0</td>\n",
       "      <td>USD</td>\n",
       "      <td>1270404.0</td>\n",
       "      <td>72000.0</td>\n",
       "      <td>55.0</td>\n",
       "      <td>55.000000</td>\n",
       "      <td>55.0</td>\n",
       "      <td>1309.090909</td>\n",
       "      <td>1309.090909</td>\n",
       "      <td>NaN</td>\n",
       "      <td>55.000000</td>\n",
       "      <td>1270404.0</td>\n",
       "    </tr>\n",
       "  </tbody>\n",
       "</table>\n",
       "</div>"
      ],
      "text/plain": [
       "  property_type     price currency  price_aprox_local_currency  \\\n",
       "0            PH   62000.0      USD                   1093959.0   \n",
       "1     apartment  150000.0      USD                   2646675.0   \n",
       "2     apartment   72000.0      USD                   1270404.0   \n",
       "\n",
       "   price_aprox_usd  surface_total_in_m2  surface_total_in_m2_new  \\\n",
       "0          62000.0                 55.0                55.000000   \n",
       "1         150000.0                  NaN                86.640712   \n",
       "2          72000.0                 55.0                55.000000   \n",
       "\n",
       "   surface_covered_in_m2  price_usd_per_m2  price_per_m2  rooms  \\\n",
       "0                   40.0       1127.272727   1550.000000    NaN   \n",
       "1                    NaN               NaN           NaN    NaN   \n",
       "2                   55.0       1309.090909   1309.090909    NaN   \n",
       "\n",
       "   surface_total_in_m2_new  calculo_price_local_currency  \n",
       "0                55.000000                     1093959.0  \n",
       "1                86.640712                     2646675.0  \n",
       "2                55.000000                     1270404.0  "
      ]
     },
     "execution_count": 148,
     "metadata": {},
     "output_type": "execute_result"
    }
   ],
   "source": [
    "df_price_to_price_local_currency['calculo_price_local_currency']=df_price_to_price_local_currency.loc[:,'price']*proporcion_dolar_pesos\n",
    "df_price_to_price_local_currency.head(3)"
   ]
  },
  {
   "cell_type": "markdown",
   "metadata": {},
   "source": [
    "✔️ A continuación, en la columna *diferencia_calculo* podemos observar que es 0 en todos los registros, por lo tanto se concluye que se puede aplicar la formula *price x proporcion_dolar_pesos* para poblar *price_aprox_local_currency*, cuando currency es USD:"
   ]
  },
  {
   "cell_type": "code",
   "execution_count": 149,
   "metadata": {},
   "outputs": [
    {
     "name": "stdout",
     "output_type": "stream",
     "text": [
      "Empty DataFrame\n",
      "Columns: [property_type, price, currency, price_aprox_local_currency, price_aprox_usd, surface_total_in_m2, surface_total_in_m2_new, surface_covered_in_m2, price_usd_per_m2, price_per_m2, rooms, surface_total_in_m2_new, calculo_price_local_currency, diferencia_calculo]\n",
      "Index: []\n"
     ]
    },
    {
     "name": "stderr",
     "output_type": "stream",
     "text": [
      "C:\\Users\\Usuario\\AppData\\Local\\Temp\\ipykernel_13036\\1565724181.py:1: SettingWithCopyWarning: \n",
      "A value is trying to be set on a copy of a slice from a DataFrame.\n",
      "Try using .loc[row_indexer,col_indexer] = value instead\n",
      "\n",
      "See the caveats in the documentation: https://pandas.pydata.org/pandas-docs/stable/user_guide/indexing.html#returning-a-view-versus-a-copy\n",
      "  df_price_to_price_local_currency['diferencia_calculo']=df_price_to_price_local_currency['price_aprox_local_currency']-df_price_to_price_local_currency['calculo_price_local_currency']\n"
     ]
    }
   ],
   "source": [
    "df_price_to_price_local_currency['diferencia_calculo']=df_price_to_price_local_currency['price_aprox_local_currency']-df_price_to_price_local_currency['calculo_price_local_currency']\n",
    "print(df_price_to_price_local_currency[df_price_to_price_local_currency.diferencia_calculo>0])"
   ]
  },
  {
   "cell_type": "markdown",
   "metadata": {},
   "source": [
    "#### 📝 Limpieza de Datos "
   ]
  },
  {
   "cell_type": "markdown",
   "metadata": {},
   "source": [
    "* **Creamos una variable *price_aprox_local_currency_new* para proceder a poblar con los nuevos datos**"
   ]
  },
  {
   "cell_type": "code",
   "execution_count": 150,
   "metadata": {},
   "outputs": [],
   "source": [
    "data['price_aprox_local_currency_new']=data.price_aprox_local_currency"
   ]
  },
  {
   "cell_type": "code",
   "execution_count": 151,
   "metadata": {},
   "outputs": [],
   "source": [
    "#Aqui se verifica que la columna price_new sea mayor a 0, que price_aprox_local_currency_new sea null y que la moneda sea igual a 'USD'\n",
    "\n",
    "price_local_currency_mask=(data.price_new.notnull())&(data.price_aprox_local_currency_new.isnull())&(data.currency_new=='USD')&(data.price_new>0)\n",
    "\n"
   ]
  },
  {
   "cell_type": "markdown",
   "metadata": {},
   "source": [
    "Aplicamos el calculo:"
   ]
  },
  {
   "cell_type": "code",
   "execution_count": 152,
   "metadata": {},
   "outputs": [],
   "source": [
    "#procedemos a poblar el campo price_aprox_local_currency con la siguiente formula: price x 17.644\n",
    "data.loc[price_local_currency_mask,'price_aprox_local_currency_new'] = data.loc[price_local_currency_mask,'price_new']*proporcion_dolar_pesos"
   ]
  },
  {
   "cell_type": "markdown",
   "metadata": {},
   "source": [
    "✔️ Y verificamos que la cantidad de nulos corresponde con la cantidad que teníamos en las variables previamente modificadas. "
   ]
  },
  {
   "cell_type": "code",
   "execution_count": 153,
   "metadata": {},
   "outputs": [
    {
     "data": {
      "text/plain": [
       "222"
      ]
     },
     "execution_count": 153,
     "metadata": {},
     "output_type": "execute_result"
    }
   ],
   "source": [
    "data.price_aprox_local_currency_new.isnull().sum()"
   ]
  },
  {
   "cell_type": "markdown",
   "metadata": {},
   "source": [
    "-----------------------------------------------------"
   ]
  },
  {
   "cell_type": "markdown",
   "metadata": {},
   "source": [
    "#### SECCION 3.4 - PRICE_APROX_USD"
   ]
  },
  {
   "cell_type": "markdown",
   "metadata": {},
   "source": [
    "#### ANÁLISIS 🔎"
   ]
  },
  {
   "cell_type": "markdown",
   "metadata": {},
   "source": [
    "A continuación, queremos verificar que si el campo *currency* es USD, la columna *price* y *price_aprox_usd* tienen el mismo valor."
   ]
  },
  {
   "cell_type": "code",
   "execution_count": 154,
   "metadata": {},
   "outputs": [],
   "source": [
    "series_prices=data.loc[:, ['property_type','price', 'currency', 'price_aprox_local_currency','price_aprox_usd','surface_total_in_m2','surface_total_in_m2_new','surface_covered_in_m2','price_usd_per_m2','price_per_m2','rooms','surface_total_in_m2_new']]"
   ]
  },
  {
   "cell_type": "markdown",
   "metadata": {},
   "source": [
    "Creamos una columna diferencia_price_aprox_usd con la diferencia entre la columna price y price_prox_usd "
   ]
  },
  {
   "cell_type": "code",
   "execution_count": 155,
   "metadata": {},
   "outputs": [
    {
     "name": "stderr",
     "output_type": "stream",
     "text": [
      "C:\\Users\\Usuario\\AppData\\Local\\Temp\\ipykernel_13036\\2497166567.py:3: SettingWithCopyWarning: \n",
      "A value is trying to be set on a copy of a slice from a DataFrame.\n",
      "Try using .loc[row_indexer,col_indexer] = value instead\n",
      "\n",
      "See the caveats in the documentation: https://pandas.pydata.org/pandas-docs/stable/user_guide/indexing.html#returning-a-view-versus-a-copy\n",
      "  serie_price_aprox_usd['diferencia_price_aprox_usd']=serie_price_aprox_usd['price']-serie_price_aprox_usd['price_aprox_usd']\n"
     ]
    }
   ],
   "source": [
    "price_aprox_usd_mask=(series_prices.price.notnull())&(series_prices.price_aprox_usd.notnull()&(series_prices.price>0)&(series_prices.currency=='USD'))\n",
    "serie_price_aprox_usd=series_prices.loc[price_aprox_usd_mask]\n",
    "serie_price_aprox_usd['diferencia_price_aprox_usd']=serie_price_aprox_usd['price']-serie_price_aprox_usd['price_aprox_usd']"
   ]
  },
  {
   "cell_type": "markdown",
   "metadata": {},
   "source": [
    "La diferencia en la columna *diferencia_price_aprox_usd* es 0, por lo tanto, cuando la moneda es USD la columna *price* y *price_aprox_usd* son iguales."
   ]
  },
  {
   "cell_type": "code",
   "execution_count": 156,
   "metadata": {},
   "outputs": [
    {
     "name": "stdout",
     "output_type": "stream",
     "text": [
      "<----------------------------------------------->\n",
      "Numero de registros que tienen diferencia mayor a 0:\n",
      "Empty DataFrame\n",
      "Columns: [property_type, price, currency, price_aprox_local_currency, price_aprox_usd, surface_total_in_m2, surface_total_in_m2_new, surface_covered_in_m2, price_usd_per_m2, price_per_m2, rooms, surface_total_in_m2_new, diferencia_price_aprox_usd]\n",
      "Index: []\n"
     ]
    }
   ],
   "source": [
    "print('<----------------------------------------------->')\n",
    "print(\"Numero de registros que tienen diferencia mayor a 0:\")\n",
    "print(serie_price_aprox_usd[serie_price_aprox_usd.diferencia_price_aprox_usd>0])"
   ]
  },
  {
   "cell_type": "markdown",
   "metadata": {},
   "source": [
    "#### 📝 Limpieza de Datos "
   ]
  },
  {
   "cell_type": "markdown",
   "metadata": {},
   "source": [
    "Procedemos a rellenar la variable según el criterio obtenido:"
   ]
  },
  {
   "cell_type": "code",
   "execution_count": 157,
   "metadata": {},
   "outputs": [],
   "source": [
    "#Aqui se verifica que la columna price_new sea mayor a 0, que price_aprox_usd_new sea null y que la currency_new sea igual a 'USD'\n",
    "price_aprox_usd_mask=(data.price_new.notnull())&(data.price_aprox_usd_new.isnull())&(data.currency_new=='USD')&(data.price_new>0)"
   ]
  },
  {
   "cell_type": "code",
   "execution_count": 158,
   "metadata": {},
   "outputs": [],
   "source": [
    "#Igualamos al campo price.\n",
    "data.loc[price_aprox_usd_mask,'price_aprox_usd_new'] = data.loc[price_aprox_usd_mask,'price_new']"
   ]
  },
  {
   "cell_type": "code",
   "execution_count": 159,
   "metadata": {},
   "outputs": [
    {
     "data": {
      "text/plain": [
       "222"
      ]
     },
     "execution_count": 159,
     "metadata": {},
     "output_type": "execute_result"
    }
   ],
   "source": [
    "data.price_aprox_usd_new.isnull().sum()"
   ]
  },
  {
   "cell_type": "markdown",
   "metadata": {},
   "source": [
    "-----------------------------------------------------"
   ]
  },
  {
   "cell_type": "markdown",
   "metadata": {},
   "source": [
    "#### SECCION 3.5 - PRICE_USD_PER_M2 y PRICE_PER_M2 "
   ]
  },
  {
   "cell_type": "markdown",
   "metadata": {},
   "source": [
    "#### ANÁLISIS 🔎"
   ]
  },
  {
   "cell_type": "code",
   "execution_count": 160,
   "metadata": {},
   "outputs": [
    {
     "data": {
      "text/plain": [
       "property_type                     0\n",
       "price                         20410\n",
       "currency                      20411\n",
       "price_aprox_local_currency    20410\n",
       "price_aprox_usd               20410\n",
       "surface_total_in_m2           39325\n",
       "surface_total_in_m2_new         140\n",
       "surface_covered_in_m2         19904\n",
       "price_usd_per_m2              52600\n",
       "price_per_m2                  33559\n",
       "rooms                         73827\n",
       "surface_total_in_m2_new         140\n",
       "dtype: int64"
      ]
     },
     "execution_count": 160,
     "metadata": {},
     "output_type": "execute_result"
    }
   ],
   "source": [
    "series_prices.isnull().sum()"
   ]
  },
  {
   "cell_type": "markdown",
   "metadata": {},
   "source": [
    "Queremos verificar la hipótesis de que*price_usd_per_m2* es la división *price_aprox_usd*/*surface_total_in_m2*. Para ello creamos una nueva columna con el resultado de esa división y la comparamos con la columna original."
   ]
  },
  {
   "cell_type": "code",
   "execution_count": 161,
   "metadata": {
    "tags": []
   },
   "outputs": [
    {
     "data": {
      "text/html": [
       "<div>\n",
       "<style scoped>\n",
       "    .dataframe tbody tr th:only-of-type {\n",
       "        vertical-align: middle;\n",
       "    }\n",
       "\n",
       "    .dataframe tbody tr th {\n",
       "        vertical-align: top;\n",
       "    }\n",
       "\n",
       "    .dataframe thead th {\n",
       "        text-align: right;\n",
       "    }\n",
       "</style>\n",
       "<table border=\"1\" class=\"dataframe\">\n",
       "  <thead>\n",
       "    <tr style=\"text-align: right;\">\n",
       "      <th></th>\n",
       "      <th>property_type</th>\n",
       "      <th>price</th>\n",
       "      <th>currency</th>\n",
       "      <th>price_aprox_local_currency</th>\n",
       "      <th>price_aprox_usd</th>\n",
       "      <th>surface_total_in_m2</th>\n",
       "      <th>surface_total_in_m2_new</th>\n",
       "      <th>surface_covered_in_m2</th>\n",
       "      <th>price_usd_per_m2</th>\n",
       "      <th>price_per_m2</th>\n",
       "      <th>rooms</th>\n",
       "      <th>surface_total_in_m2_new</th>\n",
       "    </tr>\n",
       "  </thead>\n",
       "  <tbody>\n",
       "    <tr>\n",
       "      <th>0</th>\n",
       "      <td>PH</td>\n",
       "      <td>62000.0</td>\n",
       "      <td>USD</td>\n",
       "      <td>1093959.00</td>\n",
       "      <td>62000.0</td>\n",
       "      <td>55.0</td>\n",
       "      <td>55.0</td>\n",
       "      <td>40.0</td>\n",
       "      <td>1127.272727</td>\n",
       "      <td>1550.000000</td>\n",
       "      <td>NaN</td>\n",
       "      <td>55.0</td>\n",
       "    </tr>\n",
       "    <tr>\n",
       "      <th>2</th>\n",
       "      <td>apartment</td>\n",
       "      <td>72000.0</td>\n",
       "      <td>USD</td>\n",
       "      <td>1270404.00</td>\n",
       "      <td>72000.0</td>\n",
       "      <td>55.0</td>\n",
       "      <td>55.0</td>\n",
       "      <td>55.0</td>\n",
       "      <td>1309.090909</td>\n",
       "      <td>1309.090909</td>\n",
       "      <td>NaN</td>\n",
       "      <td>55.0</td>\n",
       "    </tr>\n",
       "    <tr>\n",
       "      <th>4</th>\n",
       "      <td>apartment</td>\n",
       "      <td>64000.0</td>\n",
       "      <td>USD</td>\n",
       "      <td>1129248.00</td>\n",
       "      <td>64000.0</td>\n",
       "      <td>35.0</td>\n",
       "      <td>35.0</td>\n",
       "      <td>35.0</td>\n",
       "      <td>1828.571429</td>\n",
       "      <td>1828.571429</td>\n",
       "      <td>NaN</td>\n",
       "      <td>35.0</td>\n",
       "    </tr>\n",
       "    <tr>\n",
       "      <th>6</th>\n",
       "      <td>PH</td>\n",
       "      <td>130000.0</td>\n",
       "      <td>USD</td>\n",
       "      <td>2293785.00</td>\n",
       "      <td>130000.0</td>\n",
       "      <td>106.0</td>\n",
       "      <td>106.0</td>\n",
       "      <td>78.0</td>\n",
       "      <td>1226.415094</td>\n",
       "      <td>1666.666667</td>\n",
       "      <td>NaN</td>\n",
       "      <td>106.0</td>\n",
       "    </tr>\n",
       "    <tr>\n",
       "      <th>7</th>\n",
       "      <td>apartment</td>\n",
       "      <td>138000.0</td>\n",
       "      <td>USD</td>\n",
       "      <td>2434941.00</td>\n",
       "      <td>138000.0</td>\n",
       "      <td>45.0</td>\n",
       "      <td>45.0</td>\n",
       "      <td>40.0</td>\n",
       "      <td>3066.666667</td>\n",
       "      <td>3450.000000</td>\n",
       "      <td>NaN</td>\n",
       "      <td>45.0</td>\n",
       "    </tr>\n",
       "    <tr>\n",
       "      <th>8</th>\n",
       "      <td>apartment</td>\n",
       "      <td>195000.0</td>\n",
       "      <td>USD</td>\n",
       "      <td>3440677.50</td>\n",
       "      <td>195000.0</td>\n",
       "      <td>65.0</td>\n",
       "      <td>65.0</td>\n",
       "      <td>60.0</td>\n",
       "      <td>3000.000000</td>\n",
       "      <td>3250.000000</td>\n",
       "      <td>NaN</td>\n",
       "      <td>65.0</td>\n",
       "    </tr>\n",
       "    <tr>\n",
       "      <th>12</th>\n",
       "      <td>apartment</td>\n",
       "      <td>115000.0</td>\n",
       "      <td>USD</td>\n",
       "      <td>2029117.50</td>\n",
       "      <td>115000.0</td>\n",
       "      <td>39.0</td>\n",
       "      <td>39.0</td>\n",
       "      <td>36.0</td>\n",
       "      <td>2948.717949</td>\n",
       "      <td>3194.444444</td>\n",
       "      <td>NaN</td>\n",
       "      <td>39.0</td>\n",
       "    </tr>\n",
       "    <tr>\n",
       "      <th>13</th>\n",
       "      <td>apartment</td>\n",
       "      <td>111700.0</td>\n",
       "      <td>USD</td>\n",
       "      <td>1970890.65</td>\n",
       "      <td>111700.0</td>\n",
       "      <td>50.0</td>\n",
       "      <td>50.0</td>\n",
       "      <td>30.0</td>\n",
       "      <td>2234.000000</td>\n",
       "      <td>3723.333333</td>\n",
       "      <td>1.0</td>\n",
       "      <td>50.0</td>\n",
       "    </tr>\n",
       "    <tr>\n",
       "      <th>14</th>\n",
       "      <td>apartment</td>\n",
       "      <td>147900.0</td>\n",
       "      <td>USD</td>\n",
       "      <td>2609621.55</td>\n",
       "      <td>147900.0</td>\n",
       "      <td>42.0</td>\n",
       "      <td>42.0</td>\n",
       "      <td>31.0</td>\n",
       "      <td>3521.428571</td>\n",
       "      <td>4770.967742</td>\n",
       "      <td>1.0</td>\n",
       "      <td>42.0</td>\n",
       "    </tr>\n",
       "    <tr>\n",
       "      <th>16</th>\n",
       "      <td>PH</td>\n",
       "      <td>239000.0</td>\n",
       "      <td>USD</td>\n",
       "      <td>4217035.50</td>\n",
       "      <td>239000.0</td>\n",
       "      <td>140.0</td>\n",
       "      <td>140.0</td>\n",
       "      <td>98.0</td>\n",
       "      <td>1707.142857</td>\n",
       "      <td>2438.775510</td>\n",
       "      <td>4.0</td>\n",
       "      <td>140.0</td>\n",
       "    </tr>\n",
       "  </tbody>\n",
       "</table>\n",
       "</div>"
      ],
      "text/plain": [
       "   property_type     price currency  price_aprox_local_currency  \\\n",
       "0             PH   62000.0      USD                  1093959.00   \n",
       "2      apartment   72000.0      USD                  1270404.00   \n",
       "4      apartment   64000.0      USD                  1129248.00   \n",
       "6             PH  130000.0      USD                  2293785.00   \n",
       "7      apartment  138000.0      USD                  2434941.00   \n",
       "8      apartment  195000.0      USD                  3440677.50   \n",
       "12     apartment  115000.0      USD                  2029117.50   \n",
       "13     apartment  111700.0      USD                  1970890.65   \n",
       "14     apartment  147900.0      USD                  2609621.55   \n",
       "16            PH  239000.0      USD                  4217035.50   \n",
       "\n",
       "    price_aprox_usd  surface_total_in_m2  surface_total_in_m2_new  \\\n",
       "0           62000.0                 55.0                     55.0   \n",
       "2           72000.0                 55.0                     55.0   \n",
       "4           64000.0                 35.0                     35.0   \n",
       "6          130000.0                106.0                    106.0   \n",
       "7          138000.0                 45.0                     45.0   \n",
       "8          195000.0                 65.0                     65.0   \n",
       "12         115000.0                 39.0                     39.0   \n",
       "13         111700.0                 50.0                     50.0   \n",
       "14         147900.0                 42.0                     42.0   \n",
       "16         239000.0                140.0                    140.0   \n",
       "\n",
       "    surface_covered_in_m2  price_usd_per_m2  price_per_m2  rooms  \\\n",
       "0                    40.0       1127.272727   1550.000000    NaN   \n",
       "2                    55.0       1309.090909   1309.090909    NaN   \n",
       "4                    35.0       1828.571429   1828.571429    NaN   \n",
       "6                    78.0       1226.415094   1666.666667    NaN   \n",
       "7                    40.0       3066.666667   3450.000000    NaN   \n",
       "8                    60.0       3000.000000   3250.000000    NaN   \n",
       "12                   36.0       2948.717949   3194.444444    NaN   \n",
       "13                   30.0       2234.000000   3723.333333    1.0   \n",
       "14                   31.0       3521.428571   4770.967742    1.0   \n",
       "16                   98.0       1707.142857   2438.775510    4.0   \n",
       "\n",
       "    surface_total_in_m2_new  \n",
       "0                      55.0  \n",
       "2                      55.0  \n",
       "4                      35.0  \n",
       "6                     106.0  \n",
       "7                      45.0  \n",
       "8                      65.0  \n",
       "12                     39.0  \n",
       "13                     50.0  \n",
       "14                     42.0  \n",
       "16                    140.0  "
      ]
     },
     "execution_count": 161,
     "metadata": {},
     "output_type": "execute_result"
    }
   ],
   "source": [
    "#creamos un df excluyendo los nulos en ambos tipos de superficie y en price.\n",
    "series_prices_not_null=series_prices.loc[(series_prices.price_aprox_usd.notnull())\n",
    "                                         &(series_prices.surface_total_in_m2.notnull())\n",
    "                                         &(series_prices.surface_covered_in_m2.notnull())]\n",
    "series_prices_not_null.head(10)"
   ]
  },
  {
   "cell_type": "markdown",
   "metadata": {},
   "source": [
    "Creamos una columna adicional para verificar que price_aprox_usd/surface_total_in_m2 = price_usd_per_m2"
   ]
  },
  {
   "cell_type": "code",
   "execution_count": 162,
   "metadata": {},
   "outputs": [
    {
     "name": "stderr",
     "output_type": "stream",
     "text": [
      "C:\\Users\\Usuario\\AppData\\Local\\Temp\\ipykernel_13036\\2111800528.py:1: SettingWithCopyWarning: \n",
      "A value is trying to be set on a copy of a slice from a DataFrame.\n",
      "Try using .loc[row_indexer,col_indexer] = value instead\n",
      "\n",
      "See the caveats in the documentation: https://pandas.pydata.org/pandas-docs/stable/user_guide/indexing.html#returning-a-view-versus-a-copy\n",
      "  series_prices_not_null['calculo_price_usd_per_m2']=series_prices_not_null['price_aprox_usd']/series_prices_not_null['surface_total_in_m2']\n"
     ]
    },
    {
     "data": {
      "text/html": [
       "<div>\n",
       "<style scoped>\n",
       "    .dataframe tbody tr th:only-of-type {\n",
       "        vertical-align: middle;\n",
       "    }\n",
       "\n",
       "    .dataframe tbody tr th {\n",
       "        vertical-align: top;\n",
       "    }\n",
       "\n",
       "    .dataframe thead th {\n",
       "        text-align: right;\n",
       "    }\n",
       "</style>\n",
       "<table border=\"1\" class=\"dataframe\">\n",
       "  <thead>\n",
       "    <tr style=\"text-align: right;\">\n",
       "      <th></th>\n",
       "      <th>property_type</th>\n",
       "      <th>price</th>\n",
       "      <th>currency</th>\n",
       "      <th>price_aprox_local_currency</th>\n",
       "      <th>price_aprox_usd</th>\n",
       "      <th>surface_total_in_m2</th>\n",
       "      <th>surface_total_in_m2_new</th>\n",
       "      <th>surface_covered_in_m2</th>\n",
       "      <th>price_usd_per_m2</th>\n",
       "      <th>price_per_m2</th>\n",
       "      <th>rooms</th>\n",
       "      <th>surface_total_in_m2_new</th>\n",
       "      <th>calculo_price_usd_per_m2</th>\n",
       "    </tr>\n",
       "  </thead>\n",
       "  <tbody>\n",
       "    <tr>\n",
       "      <th>0</th>\n",
       "      <td>PH</td>\n",
       "      <td>62000.0</td>\n",
       "      <td>USD</td>\n",
       "      <td>1093959.00</td>\n",
       "      <td>62000.0</td>\n",
       "      <td>55.0</td>\n",
       "      <td>55.0</td>\n",
       "      <td>40.0</td>\n",
       "      <td>1127.272727</td>\n",
       "      <td>1550.000000</td>\n",
       "      <td>NaN</td>\n",
       "      <td>55.0</td>\n",
       "      <td>1127.272727</td>\n",
       "    </tr>\n",
       "    <tr>\n",
       "      <th>2</th>\n",
       "      <td>apartment</td>\n",
       "      <td>72000.0</td>\n",
       "      <td>USD</td>\n",
       "      <td>1270404.00</td>\n",
       "      <td>72000.0</td>\n",
       "      <td>55.0</td>\n",
       "      <td>55.0</td>\n",
       "      <td>55.0</td>\n",
       "      <td>1309.090909</td>\n",
       "      <td>1309.090909</td>\n",
       "      <td>NaN</td>\n",
       "      <td>55.0</td>\n",
       "      <td>1309.090909</td>\n",
       "    </tr>\n",
       "    <tr>\n",
       "      <th>4</th>\n",
       "      <td>apartment</td>\n",
       "      <td>64000.0</td>\n",
       "      <td>USD</td>\n",
       "      <td>1129248.00</td>\n",
       "      <td>64000.0</td>\n",
       "      <td>35.0</td>\n",
       "      <td>35.0</td>\n",
       "      <td>35.0</td>\n",
       "      <td>1828.571429</td>\n",
       "      <td>1828.571429</td>\n",
       "      <td>NaN</td>\n",
       "      <td>35.0</td>\n",
       "      <td>1828.571429</td>\n",
       "    </tr>\n",
       "    <tr>\n",
       "      <th>6</th>\n",
       "      <td>PH</td>\n",
       "      <td>130000.0</td>\n",
       "      <td>USD</td>\n",
       "      <td>2293785.00</td>\n",
       "      <td>130000.0</td>\n",
       "      <td>106.0</td>\n",
       "      <td>106.0</td>\n",
       "      <td>78.0</td>\n",
       "      <td>1226.415094</td>\n",
       "      <td>1666.666667</td>\n",
       "      <td>NaN</td>\n",
       "      <td>106.0</td>\n",
       "      <td>1226.415094</td>\n",
       "    </tr>\n",
       "    <tr>\n",
       "      <th>7</th>\n",
       "      <td>apartment</td>\n",
       "      <td>138000.0</td>\n",
       "      <td>USD</td>\n",
       "      <td>2434941.00</td>\n",
       "      <td>138000.0</td>\n",
       "      <td>45.0</td>\n",
       "      <td>45.0</td>\n",
       "      <td>40.0</td>\n",
       "      <td>3066.666667</td>\n",
       "      <td>3450.000000</td>\n",
       "      <td>NaN</td>\n",
       "      <td>45.0</td>\n",
       "      <td>3066.666667</td>\n",
       "    </tr>\n",
       "    <tr>\n",
       "      <th>...</th>\n",
       "      <td>...</td>\n",
       "      <td>...</td>\n",
       "      <td>...</td>\n",
       "      <td>...</td>\n",
       "      <td>...</td>\n",
       "      <td>...</td>\n",
       "      <td>...</td>\n",
       "      <td>...</td>\n",
       "      <td>...</td>\n",
       "      <td>...</td>\n",
       "      <td>...</td>\n",
       "      <td>...</td>\n",
       "      <td>...</td>\n",
       "    </tr>\n",
       "    <tr>\n",
       "      <th>121215</th>\n",
       "      <td>apartment</td>\n",
       "      <td>870000.0</td>\n",
       "      <td>USD</td>\n",
       "      <td>15350715.00</td>\n",
       "      <td>870000.0</td>\n",
       "      <td>113.0</td>\n",
       "      <td>113.0</td>\n",
       "      <td>93.0</td>\n",
       "      <td>7699.115044</td>\n",
       "      <td>9354.838710</td>\n",
       "      <td>NaN</td>\n",
       "      <td>113.0</td>\n",
       "      <td>7699.115044</td>\n",
       "    </tr>\n",
       "    <tr>\n",
       "      <th>121216</th>\n",
       "      <td>house</td>\n",
       "      <td>498000.0</td>\n",
       "      <td>USD</td>\n",
       "      <td>8786961.00</td>\n",
       "      <td>498000.0</td>\n",
       "      <td>360.0</td>\n",
       "      <td>360.0</td>\n",
       "      <td>360.0</td>\n",
       "      <td>1383.333333</td>\n",
       "      <td>1383.333333</td>\n",
       "      <td>NaN</td>\n",
       "      <td>360.0</td>\n",
       "      <td>1383.333333</td>\n",
       "    </tr>\n",
       "    <tr>\n",
       "      <th>121217</th>\n",
       "      <td>apartment</td>\n",
       "      <td>131500.0</td>\n",
       "      <td>USD</td>\n",
       "      <td>2320251.75</td>\n",
       "      <td>131500.0</td>\n",
       "      <td>46.0</td>\n",
       "      <td>46.0</td>\n",
       "      <td>39.0</td>\n",
       "      <td>2858.695652</td>\n",
       "      <td>3371.794872</td>\n",
       "      <td>NaN</td>\n",
       "      <td>46.0</td>\n",
       "      <td>2858.695652</td>\n",
       "    </tr>\n",
       "    <tr>\n",
       "      <th>121218</th>\n",
       "      <td>apartment</td>\n",
       "      <td>95900.0</td>\n",
       "      <td>USD</td>\n",
       "      <td>1692107.55</td>\n",
       "      <td>95900.0</td>\n",
       "      <td>48.0</td>\n",
       "      <td>48.0</td>\n",
       "      <td>48.0</td>\n",
       "      <td>1997.916667</td>\n",
       "      <td>1997.916667</td>\n",
       "      <td>NaN</td>\n",
       "      <td>48.0</td>\n",
       "      <td>1997.916667</td>\n",
       "    </tr>\n",
       "    <tr>\n",
       "      <th>121219</th>\n",
       "      <td>apartment</td>\n",
       "      <td>129000.0</td>\n",
       "      <td>USD</td>\n",
       "      <td>2276140.50</td>\n",
       "      <td>129000.0</td>\n",
       "      <td>77.0</td>\n",
       "      <td>77.0</td>\n",
       "      <td>77.0</td>\n",
       "      <td>1675.324675</td>\n",
       "      <td>1675.324675</td>\n",
       "      <td>NaN</td>\n",
       "      <td>77.0</td>\n",
       "      <td>1675.324675</td>\n",
       "    </tr>\n",
       "  </tbody>\n",
       "</table>\n",
       "<p>63352 rows × 13 columns</p>\n",
       "</div>"
      ],
      "text/plain": [
       "       property_type     price currency  price_aprox_local_currency  \\\n",
       "0                 PH   62000.0      USD                  1093959.00   \n",
       "2          apartment   72000.0      USD                  1270404.00   \n",
       "4          apartment   64000.0      USD                  1129248.00   \n",
       "6                 PH  130000.0      USD                  2293785.00   \n",
       "7          apartment  138000.0      USD                  2434941.00   \n",
       "...              ...       ...      ...                         ...   \n",
       "121215     apartment  870000.0      USD                 15350715.00   \n",
       "121216         house  498000.0      USD                  8786961.00   \n",
       "121217     apartment  131500.0      USD                  2320251.75   \n",
       "121218     apartment   95900.0      USD                  1692107.55   \n",
       "121219     apartment  129000.0      USD                  2276140.50   \n",
       "\n",
       "        price_aprox_usd  surface_total_in_m2  surface_total_in_m2_new  \\\n",
       "0               62000.0                 55.0                     55.0   \n",
       "2               72000.0                 55.0                     55.0   \n",
       "4               64000.0                 35.0                     35.0   \n",
       "6              130000.0                106.0                    106.0   \n",
       "7              138000.0                 45.0                     45.0   \n",
       "...                 ...                  ...                      ...   \n",
       "121215         870000.0                113.0                    113.0   \n",
       "121216         498000.0                360.0                    360.0   \n",
       "121217         131500.0                 46.0                     46.0   \n",
       "121218          95900.0                 48.0                     48.0   \n",
       "121219         129000.0                 77.0                     77.0   \n",
       "\n",
       "        surface_covered_in_m2  price_usd_per_m2  price_per_m2  rooms  \\\n",
       "0                        40.0       1127.272727   1550.000000    NaN   \n",
       "2                        55.0       1309.090909   1309.090909    NaN   \n",
       "4                        35.0       1828.571429   1828.571429    NaN   \n",
       "6                        78.0       1226.415094   1666.666667    NaN   \n",
       "7                        40.0       3066.666667   3450.000000    NaN   \n",
       "...                       ...               ...           ...    ...   \n",
       "121215                   93.0       7699.115044   9354.838710    NaN   \n",
       "121216                  360.0       1383.333333   1383.333333    NaN   \n",
       "121217                   39.0       2858.695652   3371.794872    NaN   \n",
       "121218                   48.0       1997.916667   1997.916667    NaN   \n",
       "121219                   77.0       1675.324675   1675.324675    NaN   \n",
       "\n",
       "        surface_total_in_m2_new  calculo_price_usd_per_m2  \n",
       "0                          55.0               1127.272727  \n",
       "2                          55.0               1309.090909  \n",
       "4                          35.0               1828.571429  \n",
       "6                         106.0               1226.415094  \n",
       "7                          45.0               3066.666667  \n",
       "...                         ...                       ...  \n",
       "121215                    113.0               7699.115044  \n",
       "121216                    360.0               1383.333333  \n",
       "121217                     46.0               2858.695652  \n",
       "121218                     48.0               1997.916667  \n",
       "121219                     77.0               1675.324675  \n",
       "\n",
       "[63352 rows x 13 columns]"
      ]
     },
     "execution_count": 162,
     "metadata": {},
     "output_type": "execute_result"
    }
   ],
   "source": [
    "\n",
    "series_prices_not_null['calculo_price_usd_per_m2']=series_prices_not_null['price_aprox_usd']/series_prices_not_null['surface_total_in_m2']\n",
    "series_prices_not_null"
   ]
  },
  {
   "cell_type": "markdown",
   "metadata": {},
   "source": [
    "✔️ A continuación, en la columna *diferencia_price_usd_per_m2* podemos observar que la misma es mínima, por lo tanto se concluye que se puede\n",
    "aplicar la formula anterior para poblar la *columna price_usd_per_m2*:"
   ]
  },
  {
   "cell_type": "code",
   "execution_count": 163,
   "metadata": {
    "tags": []
   },
   "outputs": [
    {
     "name": "stderr",
     "output_type": "stream",
     "text": [
      "C:\\Users\\Usuario\\AppData\\Local\\Temp\\ipykernel_13036\\2480558850.py:2: SettingWithCopyWarning: \n",
      "A value is trying to be set on a copy of a slice from a DataFrame.\n",
      "Try using .loc[row_indexer,col_indexer] = value instead\n",
      "\n",
      "See the caveats in the documentation: https://pandas.pydata.org/pandas-docs/stable/user_guide/indexing.html#returning-a-view-versus-a-copy\n",
      "  serie_dif['diferencia_price_usd_per_m2']=serie_dif['calculo_price_usd_per_m2'].astype(float)-serie_dif['price_usd_per_m2'].astype(float)\n"
     ]
    },
    {
     "data": {
      "text/html": [
       "<div>\n",
       "<style scoped>\n",
       "    .dataframe tbody tr th:only-of-type {\n",
       "        vertical-align: middle;\n",
       "    }\n",
       "\n",
       "    .dataframe tbody tr th {\n",
       "        vertical-align: top;\n",
       "    }\n",
       "\n",
       "    .dataframe thead th {\n",
       "        text-align: right;\n",
       "    }\n",
       "</style>\n",
       "<table border=\"1\" class=\"dataframe\">\n",
       "  <thead>\n",
       "    <tr style=\"text-align: right;\">\n",
       "      <th></th>\n",
       "      <th>property_type</th>\n",
       "      <th>price</th>\n",
       "      <th>currency</th>\n",
       "      <th>price_aprox_local_currency</th>\n",
       "      <th>price_aprox_usd</th>\n",
       "      <th>surface_total_in_m2</th>\n",
       "      <th>surface_total_in_m2_new</th>\n",
       "      <th>surface_covered_in_m2</th>\n",
       "      <th>price_usd_per_m2</th>\n",
       "      <th>price_per_m2</th>\n",
       "      <th>rooms</th>\n",
       "      <th>surface_total_in_m2_new</th>\n",
       "      <th>calculo_price_usd_per_m2</th>\n",
       "      <th>diferencia_price_usd_per_m2</th>\n",
       "    </tr>\n",
       "  </thead>\n",
       "  <tbody>\n",
       "    <tr>\n",
       "      <th>7</th>\n",
       "      <td>apartment</td>\n",
       "      <td>138000.0</td>\n",
       "      <td>USD</td>\n",
       "      <td>2434941.0</td>\n",
       "      <td>138000.0</td>\n",
       "      <td>45.0</td>\n",
       "      <td>45.0</td>\n",
       "      <td>40.0</td>\n",
       "      <td>3066.666667</td>\n",
       "      <td>3450.000000</td>\n",
       "      <td>NaN</td>\n",
       "      <td>45.0</td>\n",
       "      <td>3066.666667</td>\n",
       "      <td>4.547474e-13</td>\n",
       "    </tr>\n",
       "    <tr>\n",
       "      <th>19</th>\n",
       "      <td>apartment</td>\n",
       "      <td>350000.0</td>\n",
       "      <td>USD</td>\n",
       "      <td>6175575.0</td>\n",
       "      <td>350000.0</td>\n",
       "      <td>104.0</td>\n",
       "      <td>104.0</td>\n",
       "      <td>96.0</td>\n",
       "      <td>3365.384615</td>\n",
       "      <td>3645.833333</td>\n",
       "      <td>3.0</td>\n",
       "      <td>104.0</td>\n",
       "      <td>3365.384615</td>\n",
       "      <td>4.547474e-13</td>\n",
       "    </tr>\n",
       "    <tr>\n",
       "      <th>23</th>\n",
       "      <td>apartment</td>\n",
       "      <td>82000.0</td>\n",
       "      <td>USD</td>\n",
       "      <td>1446849.0</td>\n",
       "      <td>82000.0</td>\n",
       "      <td>48.0</td>\n",
       "      <td>48.0</td>\n",
       "      <td>42.0</td>\n",
       "      <td>1708.333333</td>\n",
       "      <td>1952.380952</td>\n",
       "      <td>2.0</td>\n",
       "      <td>48.0</td>\n",
       "      <td>1708.333333</td>\n",
       "      <td>2.273737e-13</td>\n",
       "    </tr>\n",
       "    <tr>\n",
       "      <th>34</th>\n",
       "      <td>PH</td>\n",
       "      <td>169000.0</td>\n",
       "      <td>USD</td>\n",
       "      <td>2981920.5</td>\n",
       "      <td>169000.0</td>\n",
       "      <td>172.0</td>\n",
       "      <td>172.0</td>\n",
       "      <td>160.0</td>\n",
       "      <td>982.558140</td>\n",
       "      <td>1056.250000</td>\n",
       "      <td>6.0</td>\n",
       "      <td>172.0</td>\n",
       "      <td>982.558140</td>\n",
       "      <td>1.136868e-13</td>\n",
       "    </tr>\n",
       "    <tr>\n",
       "      <th>73</th>\n",
       "      <td>house</td>\n",
       "      <td>200000.0</td>\n",
       "      <td>USD</td>\n",
       "      <td>3528900.0</td>\n",
       "      <td>200000.0</td>\n",
       "      <td>225.0</td>\n",
       "      <td>225.0</td>\n",
       "      <td>150.0</td>\n",
       "      <td>888.888889</td>\n",
       "      <td>1333.333333</td>\n",
       "      <td>5.0</td>\n",
       "      <td>225.0</td>\n",
       "      <td>888.888889</td>\n",
       "      <td>2.273737e-13</td>\n",
       "    </tr>\n",
       "    <tr>\n",
       "      <th>...</th>\n",
       "      <td>...</td>\n",
       "      <td>...</td>\n",
       "      <td>...</td>\n",
       "      <td>...</td>\n",
       "      <td>...</td>\n",
       "      <td>...</td>\n",
       "      <td>...</td>\n",
       "      <td>...</td>\n",
       "      <td>...</td>\n",
       "      <td>...</td>\n",
       "      <td>...</td>\n",
       "      <td>...</td>\n",
       "      <td>...</td>\n",
       "      <td>...</td>\n",
       "    </tr>\n",
       "    <tr>\n",
       "      <th>121143</th>\n",
       "      <td>apartment</td>\n",
       "      <td>305000.0</td>\n",
       "      <td>USD</td>\n",
       "      <td>5381572.5</td>\n",
       "      <td>305000.0</td>\n",
       "      <td>96.0</td>\n",
       "      <td>96.0</td>\n",
       "      <td>79.0</td>\n",
       "      <td>3177.083333</td>\n",
       "      <td>3860.759494</td>\n",
       "      <td>NaN</td>\n",
       "      <td>96.0</td>\n",
       "      <td>3177.083333</td>\n",
       "      <td>4.547474e-13</td>\n",
       "    </tr>\n",
       "    <tr>\n",
       "      <th>121145</th>\n",
       "      <td>house</td>\n",
       "      <td>290000.0</td>\n",
       "      <td>USD</td>\n",
       "      <td>5116905.0</td>\n",
       "      <td>290000.0</td>\n",
       "      <td>170.0</td>\n",
       "      <td>170.0</td>\n",
       "      <td>170.0</td>\n",
       "      <td>1705.882353</td>\n",
       "      <td>1705.882353</td>\n",
       "      <td>NaN</td>\n",
       "      <td>170.0</td>\n",
       "      <td>1705.882353</td>\n",
       "      <td>2.273737e-13</td>\n",
       "    </tr>\n",
       "    <tr>\n",
       "      <th>121153</th>\n",
       "      <td>apartment</td>\n",
       "      <td>165000.0</td>\n",
       "      <td>USD</td>\n",
       "      <td>2911342.5</td>\n",
       "      <td>165000.0</td>\n",
       "      <td>91.0</td>\n",
       "      <td>91.0</td>\n",
       "      <td>65.0</td>\n",
       "      <td>1813.186813</td>\n",
       "      <td>2538.461538</td>\n",
       "      <td>NaN</td>\n",
       "      <td>91.0</td>\n",
       "      <td>1813.186813</td>\n",
       "      <td>4.547474e-13</td>\n",
       "    </tr>\n",
       "    <tr>\n",
       "      <th>121215</th>\n",
       "      <td>apartment</td>\n",
       "      <td>870000.0</td>\n",
       "      <td>USD</td>\n",
       "      <td>15350715.0</td>\n",
       "      <td>870000.0</td>\n",
       "      <td>113.0</td>\n",
       "      <td>113.0</td>\n",
       "      <td>93.0</td>\n",
       "      <td>7699.115044</td>\n",
       "      <td>9354.838710</td>\n",
       "      <td>NaN</td>\n",
       "      <td>113.0</td>\n",
       "      <td>7699.115044</td>\n",
       "      <td>1.818989e-12</td>\n",
       "    </tr>\n",
       "    <tr>\n",
       "      <th>121216</th>\n",
       "      <td>house</td>\n",
       "      <td>498000.0</td>\n",
       "      <td>USD</td>\n",
       "      <td>8786961.0</td>\n",
       "      <td>498000.0</td>\n",
       "      <td>360.0</td>\n",
       "      <td>360.0</td>\n",
       "      <td>360.0</td>\n",
       "      <td>1383.333333</td>\n",
       "      <td>1383.333333</td>\n",
       "      <td>NaN</td>\n",
       "      <td>360.0</td>\n",
       "      <td>1383.333333</td>\n",
       "      <td>2.273737e-13</td>\n",
       "    </tr>\n",
       "  </tbody>\n",
       "</table>\n",
       "<p>9681 rows × 14 columns</p>\n",
       "</div>"
      ],
      "text/plain": [
       "       property_type     price currency  price_aprox_local_currency  \\\n",
       "7          apartment  138000.0      USD                   2434941.0   \n",
       "19         apartment  350000.0      USD                   6175575.0   \n",
       "23         apartment   82000.0      USD                   1446849.0   \n",
       "34                PH  169000.0      USD                   2981920.5   \n",
       "73             house  200000.0      USD                   3528900.0   \n",
       "...              ...       ...      ...                         ...   \n",
       "121143     apartment  305000.0      USD                   5381572.5   \n",
       "121145         house  290000.0      USD                   5116905.0   \n",
       "121153     apartment  165000.0      USD                   2911342.5   \n",
       "121215     apartment  870000.0      USD                  15350715.0   \n",
       "121216         house  498000.0      USD                   8786961.0   \n",
       "\n",
       "        price_aprox_usd  surface_total_in_m2  surface_total_in_m2_new  \\\n",
       "7              138000.0                 45.0                     45.0   \n",
       "19             350000.0                104.0                    104.0   \n",
       "23              82000.0                 48.0                     48.0   \n",
       "34             169000.0                172.0                    172.0   \n",
       "73             200000.0                225.0                    225.0   \n",
       "...                 ...                  ...                      ...   \n",
       "121143         305000.0                 96.0                     96.0   \n",
       "121145         290000.0                170.0                    170.0   \n",
       "121153         165000.0                 91.0                     91.0   \n",
       "121215         870000.0                113.0                    113.0   \n",
       "121216         498000.0                360.0                    360.0   \n",
       "\n",
       "        surface_covered_in_m2  price_usd_per_m2  price_per_m2  rooms  \\\n",
       "7                        40.0       3066.666667   3450.000000    NaN   \n",
       "19                       96.0       3365.384615   3645.833333    3.0   \n",
       "23                       42.0       1708.333333   1952.380952    2.0   \n",
       "34                      160.0        982.558140   1056.250000    6.0   \n",
       "73                      150.0        888.888889   1333.333333    5.0   \n",
       "...                       ...               ...           ...    ...   \n",
       "121143                   79.0       3177.083333   3860.759494    NaN   \n",
       "121145                  170.0       1705.882353   1705.882353    NaN   \n",
       "121153                   65.0       1813.186813   2538.461538    NaN   \n",
       "121215                   93.0       7699.115044   9354.838710    NaN   \n",
       "121216                  360.0       1383.333333   1383.333333    NaN   \n",
       "\n",
       "        surface_total_in_m2_new  calculo_price_usd_per_m2  \\\n",
       "7                          45.0               3066.666667   \n",
       "19                        104.0               3365.384615   \n",
       "23                         48.0               1708.333333   \n",
       "34                        172.0                982.558140   \n",
       "73                        225.0                888.888889   \n",
       "...                         ...                       ...   \n",
       "121143                     96.0               3177.083333   \n",
       "121145                    170.0               1705.882353   \n",
       "121153                     91.0               1813.186813   \n",
       "121215                    113.0               7699.115044   \n",
       "121216                    360.0               1383.333333   \n",
       "\n",
       "        diferencia_price_usd_per_m2  \n",
       "7                      4.547474e-13  \n",
       "19                     4.547474e-13  \n",
       "23                     2.273737e-13  \n",
       "34                     1.136868e-13  \n",
       "73                     2.273737e-13  \n",
       "...                             ...  \n",
       "121143                 4.547474e-13  \n",
       "121145                 2.273737e-13  \n",
       "121153                 4.547474e-13  \n",
       "121215                 1.818989e-12  \n",
       "121216                 2.273737e-13  \n",
       "\n",
       "[9681 rows x 14 columns]"
      ]
     },
     "execution_count": 163,
     "metadata": {},
     "output_type": "execute_result"
    }
   ],
   "source": [
    "serie_dif=series_prices_not_null[(series_prices_not_null['calculo_price_usd_per_m2']-series_prices_not_null['price_usd_per_m2'])>0]\n",
    "serie_dif['diferencia_price_usd_per_m2']=serie_dif['calculo_price_usd_per_m2'].astype(float)-serie_dif['price_usd_per_m2'].astype(float)\n",
    "serie_dif"
   ]
  },
  {
   "cell_type": "markdown",
   "metadata": {},
   "source": [
    "--------------------------------------"
   ]
  },
  {
   "cell_type": "markdown",
   "metadata": {},
   "source": [
    "De forma análoga, También verificamos si  *price_per_m2* es igual a la división *price_aprox_usd/surface_covered_in_m2*"
   ]
  },
  {
   "cell_type": "code",
   "execution_count": 164,
   "metadata": {},
   "outputs": [
    {
     "name": "stderr",
     "output_type": "stream",
     "text": [
      "C:\\Users\\Usuario\\AppData\\Local\\Temp\\ipykernel_13036\\146760549.py:1: SettingWithCopyWarning: \n",
      "A value is trying to be set on a copy of a slice from a DataFrame.\n",
      "Try using .loc[row_indexer,col_indexer] = value instead\n",
      "\n",
      "See the caveats in the documentation: https://pandas.pydata.org/pandas-docs/stable/user_guide/indexing.html#returning-a-view-versus-a-copy\n",
      "  series_prices_not_null['calculo_price_per_m2']=series_prices_not_null['price_aprox_usd']/series_prices_not_null['surface_covered_in_m2']\n"
     ]
    }
   ],
   "source": [
    "series_prices_not_null['calculo_price_per_m2']=series_prices_not_null['price_aprox_usd']/series_prices_not_null['surface_covered_in_m2']"
   ]
  },
  {
   "cell_type": "code",
   "execution_count": 165,
   "metadata": {
    "tags": []
   },
   "outputs": [
    {
     "name": "stderr",
     "output_type": "stream",
     "text": [
      "C:\\Users\\Usuario\\AppData\\Local\\Temp\\ipykernel_13036\\2595443700.py:2: SettingWithCopyWarning: \n",
      "A value is trying to be set on a copy of a slice from a DataFrame.\n",
      "Try using .loc[row_indexer,col_indexer] = value instead\n",
      "\n",
      "See the caveats in the documentation: https://pandas.pydata.org/pandas-docs/stable/user_guide/indexing.html#returning-a-view-versus-a-copy\n",
      "  serie_dif_price_m2['diferencia_price_m2']=serie_dif_price_m2['calculo_price_per_m2'].astype(float)-serie_dif_price_m2['price_per_m2'].astype(float)\n"
     ]
    },
    {
     "data": {
      "text/html": [
       "<div>\n",
       "<style scoped>\n",
       "    .dataframe tbody tr th:only-of-type {\n",
       "        vertical-align: middle;\n",
       "    }\n",
       "\n",
       "    .dataframe tbody tr th {\n",
       "        vertical-align: top;\n",
       "    }\n",
       "\n",
       "    .dataframe thead th {\n",
       "        text-align: right;\n",
       "    }\n",
       "</style>\n",
       "<table border=\"1\" class=\"dataframe\">\n",
       "  <thead>\n",
       "    <tr style=\"text-align: right;\">\n",
       "      <th></th>\n",
       "      <th>property_type</th>\n",
       "      <th>price</th>\n",
       "      <th>currency</th>\n",
       "      <th>price_aprox_local_currency</th>\n",
       "      <th>price_aprox_usd</th>\n",
       "      <th>surface_total_in_m2</th>\n",
       "      <th>surface_total_in_m2_new</th>\n",
       "      <th>surface_covered_in_m2</th>\n",
       "      <th>price_usd_per_m2</th>\n",
       "      <th>price_per_m2</th>\n",
       "      <th>rooms</th>\n",
       "      <th>surface_total_in_m2_new</th>\n",
       "      <th>calculo_price_usd_per_m2</th>\n",
       "      <th>calculo_price_per_m2</th>\n",
       "      <th>diferencia_price_m2</th>\n",
       "    </tr>\n",
       "  </thead>\n",
       "  <tbody>\n",
       "    <tr>\n",
       "      <th>16</th>\n",
       "      <td>PH</td>\n",
       "      <td>239000.0</td>\n",
       "      <td>USD</td>\n",
       "      <td>4217035.50</td>\n",
       "      <td>239000.0</td>\n",
       "      <td>140.0</td>\n",
       "      <td>140.0</td>\n",
       "      <td>98.0</td>\n",
       "      <td>1707.142857</td>\n",
       "      <td>2438.775510</td>\n",
       "      <td>4.0</td>\n",
       "      <td>140.0</td>\n",
       "      <td>1707.142857</td>\n",
       "      <td>2438.775510</td>\n",
       "      <td>4.547474e-13</td>\n",
       "    </tr>\n",
       "    <tr>\n",
       "      <th>21</th>\n",
       "      <td>apartment</td>\n",
       "      <td>270500.0</td>\n",
       "      <td>USD</td>\n",
       "      <td>4772837.25</td>\n",
       "      <td>270500.0</td>\n",
       "      <td>118.0</td>\n",
       "      <td>118.0</td>\n",
       "      <td>73.0</td>\n",
       "      <td>2292.372881</td>\n",
       "      <td>3705.479452</td>\n",
       "      <td>4.0</td>\n",
       "      <td>118.0</td>\n",
       "      <td>2292.372881</td>\n",
       "      <td>3705.479452</td>\n",
       "      <td>4.547474e-13</td>\n",
       "    </tr>\n",
       "    <tr>\n",
       "      <th>40</th>\n",
       "      <td>apartment</td>\n",
       "      <td>120000.0</td>\n",
       "      <td>USD</td>\n",
       "      <td>2117340.00</td>\n",
       "      <td>120000.0</td>\n",
       "      <td>138.0</td>\n",
       "      <td>138.0</td>\n",
       "      <td>74.0</td>\n",
       "      <td>869.565217</td>\n",
       "      <td>1621.621622</td>\n",
       "      <td>3.0</td>\n",
       "      <td>138.0</td>\n",
       "      <td>869.565217</td>\n",
       "      <td>1621.621622</td>\n",
       "      <td>2.273737e-13</td>\n",
       "    </tr>\n",
       "    <tr>\n",
       "      <th>56</th>\n",
       "      <td>house</td>\n",
       "      <td>440000.0</td>\n",
       "      <td>USD</td>\n",
       "      <td>7763580.00</td>\n",
       "      <td>440000.0</td>\n",
       "      <td>720.0</td>\n",
       "      <td>720.0</td>\n",
       "      <td>261.0</td>\n",
       "      <td>611.111111</td>\n",
       "      <td>1685.823755</td>\n",
       "      <td>NaN</td>\n",
       "      <td>720.0</td>\n",
       "      <td>611.111111</td>\n",
       "      <td>1685.823755</td>\n",
       "      <td>2.273737e-13</td>\n",
       "    </tr>\n",
       "    <tr>\n",
       "      <th>69</th>\n",
       "      <td>house</td>\n",
       "      <td>350000.0</td>\n",
       "      <td>USD</td>\n",
       "      <td>6175575.00</td>\n",
       "      <td>350000.0</td>\n",
       "      <td>332.0</td>\n",
       "      <td>332.0</td>\n",
       "      <td>207.0</td>\n",
       "      <td>1054.216867</td>\n",
       "      <td>1690.821256</td>\n",
       "      <td>6.0</td>\n",
       "      <td>332.0</td>\n",
       "      <td>1054.216867</td>\n",
       "      <td>1690.821256</td>\n",
       "      <td>4.547474e-13</td>\n",
       "    </tr>\n",
       "    <tr>\n",
       "      <th>...</th>\n",
       "      <td>...</td>\n",
       "      <td>...</td>\n",
       "      <td>...</td>\n",
       "      <td>...</td>\n",
       "      <td>...</td>\n",
       "      <td>...</td>\n",
       "      <td>...</td>\n",
       "      <td>...</td>\n",
       "      <td>...</td>\n",
       "      <td>...</td>\n",
       "      <td>...</td>\n",
       "      <td>...</td>\n",
       "      <td>...</td>\n",
       "      <td>...</td>\n",
       "      <td>...</td>\n",
       "    </tr>\n",
       "    <tr>\n",
       "      <th>121131</th>\n",
       "      <td>apartment</td>\n",
       "      <td>325000.0</td>\n",
       "      <td>USD</td>\n",
       "      <td>5734462.50</td>\n",
       "      <td>325000.0</td>\n",
       "      <td>113.0</td>\n",
       "      <td>113.0</td>\n",
       "      <td>113.0</td>\n",
       "      <td>2876.106195</td>\n",
       "      <td>2876.106195</td>\n",
       "      <td>NaN</td>\n",
       "      <td>113.0</td>\n",
       "      <td>2876.106195</td>\n",
       "      <td>2876.106195</td>\n",
       "      <td>4.547474e-13</td>\n",
       "    </tr>\n",
       "    <tr>\n",
       "      <th>121138</th>\n",
       "      <td>apartment</td>\n",
       "      <td>208000.0</td>\n",
       "      <td>USD</td>\n",
       "      <td>3670056.00</td>\n",
       "      <td>208000.0</td>\n",
       "      <td>69.0</td>\n",
       "      <td>69.0</td>\n",
       "      <td>60.0</td>\n",
       "      <td>3014.492754</td>\n",
       "      <td>3466.666667</td>\n",
       "      <td>NaN</td>\n",
       "      <td>69.0</td>\n",
       "      <td>3014.492754</td>\n",
       "      <td>3466.666667</td>\n",
       "      <td>4.547474e-13</td>\n",
       "    </tr>\n",
       "    <tr>\n",
       "      <th>121145</th>\n",
       "      <td>house</td>\n",
       "      <td>290000.0</td>\n",
       "      <td>USD</td>\n",
       "      <td>5116905.00</td>\n",
       "      <td>290000.0</td>\n",
       "      <td>170.0</td>\n",
       "      <td>170.0</td>\n",
       "      <td>170.0</td>\n",
       "      <td>1705.882353</td>\n",
       "      <td>1705.882353</td>\n",
       "      <td>NaN</td>\n",
       "      <td>170.0</td>\n",
       "      <td>1705.882353</td>\n",
       "      <td>1705.882353</td>\n",
       "      <td>2.273737e-13</td>\n",
       "    </tr>\n",
       "    <tr>\n",
       "      <th>121157</th>\n",
       "      <td>apartment</td>\n",
       "      <td>128000.0</td>\n",
       "      <td>USD</td>\n",
       "      <td>2258496.00</td>\n",
       "      <td>128000.0</td>\n",
       "      <td>38.0</td>\n",
       "      <td>38.0</td>\n",
       "      <td>35.0</td>\n",
       "      <td>3368.421053</td>\n",
       "      <td>3657.142857</td>\n",
       "      <td>NaN</td>\n",
       "      <td>38.0</td>\n",
       "      <td>3368.421053</td>\n",
       "      <td>3657.142857</td>\n",
       "      <td>4.547474e-13</td>\n",
       "    </tr>\n",
       "    <tr>\n",
       "      <th>121216</th>\n",
       "      <td>house</td>\n",
       "      <td>498000.0</td>\n",
       "      <td>USD</td>\n",
       "      <td>8786961.00</td>\n",
       "      <td>498000.0</td>\n",
       "      <td>360.0</td>\n",
       "      <td>360.0</td>\n",
       "      <td>360.0</td>\n",
       "      <td>1383.333333</td>\n",
       "      <td>1383.333333</td>\n",
       "      <td>NaN</td>\n",
       "      <td>360.0</td>\n",
       "      <td>1383.333333</td>\n",
       "      <td>1383.333333</td>\n",
       "      <td>2.273737e-13</td>\n",
       "    </tr>\n",
       "  </tbody>\n",
       "</table>\n",
       "<p>8285 rows × 15 columns</p>\n",
       "</div>"
      ],
      "text/plain": [
       "       property_type     price currency  price_aprox_local_currency  \\\n",
       "16                PH  239000.0      USD                  4217035.50   \n",
       "21         apartment  270500.0      USD                  4772837.25   \n",
       "40         apartment  120000.0      USD                  2117340.00   \n",
       "56             house  440000.0      USD                  7763580.00   \n",
       "69             house  350000.0      USD                  6175575.00   \n",
       "...              ...       ...      ...                         ...   \n",
       "121131     apartment  325000.0      USD                  5734462.50   \n",
       "121138     apartment  208000.0      USD                  3670056.00   \n",
       "121145         house  290000.0      USD                  5116905.00   \n",
       "121157     apartment  128000.0      USD                  2258496.00   \n",
       "121216         house  498000.0      USD                  8786961.00   \n",
       "\n",
       "        price_aprox_usd  surface_total_in_m2  surface_total_in_m2_new  \\\n",
       "16             239000.0                140.0                    140.0   \n",
       "21             270500.0                118.0                    118.0   \n",
       "40             120000.0                138.0                    138.0   \n",
       "56             440000.0                720.0                    720.0   \n",
       "69             350000.0                332.0                    332.0   \n",
       "...                 ...                  ...                      ...   \n",
       "121131         325000.0                113.0                    113.0   \n",
       "121138         208000.0                 69.0                     69.0   \n",
       "121145         290000.0                170.0                    170.0   \n",
       "121157         128000.0                 38.0                     38.0   \n",
       "121216         498000.0                360.0                    360.0   \n",
       "\n",
       "        surface_covered_in_m2  price_usd_per_m2  price_per_m2  rooms  \\\n",
       "16                       98.0       1707.142857   2438.775510    4.0   \n",
       "21                       73.0       2292.372881   3705.479452    4.0   \n",
       "40                       74.0        869.565217   1621.621622    3.0   \n",
       "56                      261.0        611.111111   1685.823755    NaN   \n",
       "69                      207.0       1054.216867   1690.821256    6.0   \n",
       "...                       ...               ...           ...    ...   \n",
       "121131                  113.0       2876.106195   2876.106195    NaN   \n",
       "121138                   60.0       3014.492754   3466.666667    NaN   \n",
       "121145                  170.0       1705.882353   1705.882353    NaN   \n",
       "121157                   35.0       3368.421053   3657.142857    NaN   \n",
       "121216                  360.0       1383.333333   1383.333333    NaN   \n",
       "\n",
       "        surface_total_in_m2_new  calculo_price_usd_per_m2  \\\n",
       "16                        140.0               1707.142857   \n",
       "21                        118.0               2292.372881   \n",
       "40                        138.0                869.565217   \n",
       "56                        720.0                611.111111   \n",
       "69                        332.0               1054.216867   \n",
       "...                         ...                       ...   \n",
       "121131                    113.0               2876.106195   \n",
       "121138                     69.0               3014.492754   \n",
       "121145                    170.0               1705.882353   \n",
       "121157                     38.0               3368.421053   \n",
       "121216                    360.0               1383.333333   \n",
       "\n",
       "        calculo_price_per_m2  diferencia_price_m2  \n",
       "16               2438.775510         4.547474e-13  \n",
       "21               3705.479452         4.547474e-13  \n",
       "40               1621.621622         2.273737e-13  \n",
       "56               1685.823755         2.273737e-13  \n",
       "69               1690.821256         4.547474e-13  \n",
       "...                      ...                  ...  \n",
       "121131           2876.106195         4.547474e-13  \n",
       "121138           3466.666667         4.547474e-13  \n",
       "121145           1705.882353         2.273737e-13  \n",
       "121157           3657.142857         4.547474e-13  \n",
       "121216           1383.333333         2.273737e-13  \n",
       "\n",
       "[8285 rows x 15 columns]"
      ]
     },
     "execution_count": 165,
     "metadata": {},
     "output_type": "execute_result"
    }
   ],
   "source": [
    "serie_dif_price_m2=series_prices_not_null[(series_prices_not_null['calculo_price_per_m2']-series_prices_not_null['price_per_m2'])>0]\n",
    "serie_dif_price_m2['diferencia_price_m2']=serie_dif_price_m2['calculo_price_per_m2'].astype(float)-serie_dif_price_m2['price_per_m2'].astype(float)\n",
    "serie_dif_price_m2"
   ]
  },
  {
   "cell_type": "markdown",
   "metadata": {},
   "source": [
    "En la columna diferencia_price_m2 podemos observar nuevamente que la diferencia es mínima, por lo tanto se concluye que se puede\n",
    "aplicar la formula price_aprox_usd/surface_covered_in_m2 para poblar la columna price_per_m2"
   ]
  },
  {
   "cell_type": "markdown",
   "metadata": {},
   "source": [
    "A continuación, verificamos cuántos registros son nulos en *price_usd_per_m2*, pero que tengan datos en *price_aprox_usd* y en *surface_total_in_m2_new* (y que esta ultima sea > 0). De acuerdo a ello vemos que podríamos recuperar 31788 nulos:"
   ]
  },
  {
   "cell_type": "code",
   "execution_count": 166,
   "metadata": {},
   "outputs": [
    {
     "name": "stdout",
     "output_type": "stream",
     "text": [
      "31783\n"
     ]
    },
    {
     "data": {
      "text/html": [
       "<div>\n",
       "<style scoped>\n",
       "    .dataframe tbody tr th:only-of-type {\n",
       "        vertical-align: middle;\n",
       "    }\n",
       "\n",
       "    .dataframe tbody tr th {\n",
       "        vertical-align: top;\n",
       "    }\n",
       "\n",
       "    .dataframe thead th {\n",
       "        text-align: right;\n",
       "    }\n",
       "</style>\n",
       "<table border=\"1\" class=\"dataframe\">\n",
       "  <thead>\n",
       "    <tr style=\"text-align: right;\">\n",
       "      <th></th>\n",
       "      <th>price_usd_per_m2</th>\n",
       "      <th>price</th>\n",
       "      <th>price_aprox_usd</th>\n",
       "      <th>surface_total_in_m2_new</th>\n",
       "    </tr>\n",
       "  </thead>\n",
       "  <tbody>\n",
       "    <tr>\n",
       "      <th>1</th>\n",
       "      <td>NaN</td>\n",
       "      <td>150000.0</td>\n",
       "      <td>150000.00</td>\n",
       "      <td>86.640712</td>\n",
       "    </tr>\n",
       "    <tr>\n",
       "      <th>3</th>\n",
       "      <td>NaN</td>\n",
       "      <td>95000.0</td>\n",
       "      <td>95000.00</td>\n",
       "      <td>137.729153</td>\n",
       "    </tr>\n",
       "    <tr>\n",
       "      <th>9</th>\n",
       "      <td>NaN</td>\n",
       "      <td>460000.0</td>\n",
       "      <td>25798.49</td>\n",
       "      <td>405.241827</td>\n",
       "    </tr>\n",
       "    <tr>\n",
       "      <th>11</th>\n",
       "      <td>NaN</td>\n",
       "      <td>150000.0</td>\n",
       "      <td>150000.00</td>\n",
       "      <td>405.241827</td>\n",
       "    </tr>\n",
       "    <tr>\n",
       "      <th>65</th>\n",
       "      <td>NaN</td>\n",
       "      <td>50000.0</td>\n",
       "      <td>50000.00</td>\n",
       "      <td>515.193092</td>\n",
       "    </tr>\n",
       "    <tr>\n",
       "      <th>...</th>\n",
       "      <td>...</td>\n",
       "      <td>...</td>\n",
       "      <td>...</td>\n",
       "      <td>...</td>\n",
       "    </tr>\n",
       "    <tr>\n",
       "      <th>121150</th>\n",
       "      <td>NaN</td>\n",
       "      <td>95000.0</td>\n",
       "      <td>95000.00</td>\n",
       "      <td>86.640712</td>\n",
       "    </tr>\n",
       "    <tr>\n",
       "      <th>121151</th>\n",
       "      <td>NaN</td>\n",
       "      <td>120000.0</td>\n",
       "      <td>120000.00</td>\n",
       "      <td>86.640712</td>\n",
       "    </tr>\n",
       "    <tr>\n",
       "      <th>121152</th>\n",
       "      <td>NaN</td>\n",
       "      <td>74500.0</td>\n",
       "      <td>74500.00</td>\n",
       "      <td>50.101389</td>\n",
       "    </tr>\n",
       "    <tr>\n",
       "      <th>121155</th>\n",
       "      <td>NaN</td>\n",
       "      <td>170000.0</td>\n",
       "      <td>170000.00</td>\n",
       "      <td>130.000000</td>\n",
       "    </tr>\n",
       "    <tr>\n",
       "      <th>121156</th>\n",
       "      <td>NaN</td>\n",
       "      <td>170000.0</td>\n",
       "      <td>170000.00</td>\n",
       "      <td>130.000000</td>\n",
       "    </tr>\n",
       "  </tbody>\n",
       "</table>\n",
       "<p>31783 rows × 4 columns</p>\n",
       "</div>"
      ],
      "text/plain": [
       "        price_usd_per_m2     price  price_aprox_usd  surface_total_in_m2_new\n",
       "1                    NaN  150000.0        150000.00                86.640712\n",
       "3                    NaN   95000.0         95000.00               137.729153\n",
       "9                    NaN  460000.0         25798.49               405.241827\n",
       "11                   NaN  150000.0        150000.00               405.241827\n",
       "65                   NaN   50000.0         50000.00               515.193092\n",
       "...                  ...       ...              ...                      ...\n",
       "121150               NaN   95000.0         95000.00                86.640712\n",
       "121151               NaN  120000.0        120000.00                86.640712\n",
       "121152               NaN   74500.0         74500.00                50.101389\n",
       "121155               NaN  170000.0        170000.00               130.000000\n",
       "121156               NaN  170000.0        170000.00               130.000000\n",
       "\n",
       "[31783 rows x 4 columns]"
      ]
     },
     "execution_count": 166,
     "metadata": {},
     "output_type": "execute_result"
    }
   ],
   "source": [
    "\n",
    "resultado=data[(data.price_aprox_usd.notnull())&(data.surface_total_in_m2_new.notnull())&(data.surface_total_in_m2_new>0)&(data.price_usd_per_m2.isnull())]\n",
    "resultado_prices=resultado.loc[:, ['price_usd_per_m2','price','price_aprox_usd','surface_total_in_m2_new']]\n",
    "print(resultado_prices.shape[0])\n",
    "resultado_prices\n"
   ]
  },
  {
   "cell_type": "markdown",
   "metadata": {},
   "source": [
    "#### 📝 Limpieza de Datos "
   ]
  },
  {
   "cell_type": "markdown",
   "metadata": {},
   "source": [
    "A partir de lo verificado previamente, procedemos a llenar los nulos."
   ]
  },
  {
   "cell_type": "markdown",
   "metadata": {},
   "source": [
    "* **Creamos una copia exacta de las variables:**"
   ]
  },
  {
   "cell_type": "code",
   "execution_count": 167,
   "metadata": {
    "tags": []
   },
   "outputs": [],
   "source": [
    "data['price_usd_per_m2_new']=data.price_usd_per_m2"
   ]
  },
  {
   "cell_type": "code",
   "execution_count": 168,
   "metadata": {},
   "outputs": [],
   "source": [
    "data['price_per_m2_new']=data.price_per_m2"
   ]
  },
  {
   "cell_type": "code",
   "execution_count": 169,
   "metadata": {
    "tags": []
   },
   "outputs": [],
   "source": [
    "#Aqui se verifica que price_aprox_usd no sea null y que surface_total_in_m2_new sea mayor que 0,\n",
    "\n",
    "price_usd_per_m2_mask=(data.price_aprox_usd_new.notnull())&(data.surface_total_in_m2_new.notnull())&(data.surface_total_in_m2_new>0)&(data.price_usd_per_m2_new.isnull())\n",
    "lista_price_usd_per_m2_new=data[price_usd_per_m2_mask]\n",
    "lista_price_usd_per_m2_new.head(3)\n",
    "\n",
    "#procedemos a poblar el campo price_usd_per_m2_new con la siguiente formula: price_aprox_usd/surface_total_in_m2_new\n",
    "data.loc[price_usd_per_m2_mask,'price_usd_per_m2_new'] = data.loc[price_usd_per_m2_mask,'price_aprox_usd_new']/ data.loc[price_usd_per_m2_mask,'surface_total_in_m2_new']\n"
   ]
  },
  {
   "cell_type": "markdown",
   "metadata": {},
   "source": [
    "Verificamos la cantidad de nulos y bajaron exactamente la cantidad que podíamos recuperar."
   ]
  },
  {
   "cell_type": "code",
   "execution_count": 170,
   "metadata": {},
   "outputs": [
    {
     "name": "stdout",
     "output_type": "stream",
     "text": [
      "Cantidad de nulos en price_usd_per_m2:\n",
      "52600\n",
      "Porcentaje de nulos enprice_usd_per_m2:\n",
      "43.39\n",
      "------------------------VS----------------------------\n",
      "Cantidad de nulos en price_usd_per_m2_new:\n",
      "835\n",
      "Porcentaje de nulos en price_usd_per_m2_new:\n",
      "0.69\n"
     ]
    }
   ],
   "source": [
    "print(\"Cantidad de nulos en price_usd_per_m2:\")\n",
    "print(data.price_usd_per_m2.isnull().sum())\n",
    "\n",
    "print(\"Porcentaje de nulos enprice_usd_per_m2:\")\n",
    "porc_nulos = (data.price_usd_per_m2.isnull().sum() / data.shape[0] *100).round(2)\n",
    "print(porc_nulos)\n",
    "print(\"------------------------VS----------------------------\")\n",
    "print(\"Cantidad de nulos en price_usd_per_m2_new:\")\n",
    "print(data.price_usd_per_m2_new.isnull().sum())\n",
    "\n",
    "print(\"Porcentaje de nulos en price_usd_per_m2_new:\")\n",
    "porc_nulos = (data.price_usd_per_m2_new.isnull().sum() / data.shape[0] *100).round(2)\n",
    "print(porc_nulos)\n"
   ]
  },
  {
   "cell_type": "markdown",
   "metadata": {},
   "source": [
    "Y a continuación repetimos el procedimiento para *PRICE_PER_M2*.\n",
    "\n",
    "Creamos una copia exacta para proceder a poblar con los nuevos datos:"
   ]
  },
  {
   "cell_type": "code",
   "execution_count": 171,
   "metadata": {},
   "outputs": [],
   "source": [
    "#Aquí se verifica que price_aprox_usd no sea null y que surface_covered_in_m2_new sea mayor que 0,\n",
    "\n",
    "price_per_m2_mask=(data.price_aprox_usd_new.notnull())&(data.surface_covered_in_m2.notnull())&(data.surface_covered_in_m2>0)&(data.price_per_m2.isnull())\n",
    "\n",
    "lista_price_per_m2_new=data[price_per_m2_mask]\n",
    "lista_price_per_m2_new.head(3)\n",
    "\n",
    "#procedemos a poblar el campo price_per_m2_new con la siguiente formula: price_aprox_usd/surface_covered_in_m2\n",
    "data.loc[price_per_m2_mask,'price_per_m2_new'] = data.loc[price_per_m2_mask,'price_aprox_usd_new']/ data.loc[price_per_m2_mask,'surface_covered_in_m2']"
   ]
  },
  {
   "cell_type": "markdown",
   "metadata": {},
   "source": [
    "Y verificamos nulos:"
   ]
  },
  {
   "cell_type": "code",
   "execution_count": 172,
   "metadata": {},
   "outputs": [
    {
     "name": "stdout",
     "output_type": "stream",
     "text": [
      "Cantidad de nulos en price_per_m2:\n",
      "33559\n",
      "Porcentaje de nulos en price_per_m2:\n",
      "27.69\n",
      "------------------------VS----------------------------\n",
      "Cantidad de nulos en price_per_m2_new:\n",
      "20028\n",
      "Porcentaje de nulos en price_per_m2_new:\n",
      "16.52\n"
     ]
    }
   ],
   "source": [
    "print(\"Cantidad de nulos en price_per_m2:\")\n",
    "print(data.price_per_m2.isnull().sum())\n",
    "\n",
    "print(\"Porcentaje de nulos en price_per_m2:\")\n",
    "porc_nulos = (data.price_per_m2.isnull().sum() / data.shape[0] *100).round(2)\n",
    "print(porc_nulos)\n",
    "print(\"------------------------VS----------------------------\")\n",
    "print(\"Cantidad de nulos en price_per_m2_new:\")\n",
    "print(data.price_per_m2_new.isnull().sum())\n",
    "\n",
    "print(\"Porcentaje de nulos en price_per_m2_new:\")\n",
    "porc_nulos = (data.price_per_m2_new.isnull().sum() / data.shape[0] *100).round(2)\n",
    "print(porc_nulos)\n"
   ]
  },
  {
   "cell_type": "markdown",
   "metadata": {},
   "source": [
    "## SECCIÓN 4 - DATASET FINAL"
   ]
  },
  {
   "cell_type": "markdown",
   "metadata": {},
   "source": [
    "Visualizamos como quedaron la cantidad de nulos en el dataset original, que incluye todas las nuevas columnas creadas en la limpieza."
   ]
  },
  {
   "cell_type": "code",
   "execution_count": 173,
   "metadata": {},
   "outputs": [
    {
     "name": "stdout",
     "output_type": "stream",
     "text": [
      "Unnamed: 0                             0\n",
      "operation                              0\n",
      "property_type                          0\n",
      "place_name                            23\n",
      "place_with_parent_names                0\n",
      "country_name                           0\n",
      "state_name                             0\n",
      "geonames_id                        18716\n",
      "lat-lon                            51547\n",
      "lat                                51547\n",
      "lon                                51547\n",
      "price                              20410\n",
      "currency                           20411\n",
      "price_aprox_local_currency         20410\n",
      "price_aprox_usd                    20410\n",
      "surface_total_in_m2                39325\n",
      "surface_covered_in_m2              19904\n",
      "price_usd_per_m2                   52600\n",
      "price_per_m2                       33559\n",
      "floor                             113318\n",
      "rooms                              73827\n",
      "expenses                          106955\n",
      "properati_url                          0\n",
      "description                            2\n",
      "title                                  0\n",
      "image_thumbnail                     3112\n",
      "place_name_new                         0\n",
      "geonames_id_new                    18694\n",
      "state_name_new                         0\n",
      "description_new                        0\n",
      "rooms_new                              0\n",
      "title_new                              0\n",
      "property_type_new                      0\n",
      "floor_null                             0\n",
      "floor_null_property                    0\n",
      "porc_nulos_x_property                  0\n",
      "floor_new                          59267\n",
      "surface_total_in_m2_new              140\n",
      "currency_new                         223\n",
      "price_new                            222\n",
      "price_aprox_usd_new                  222\n",
      "price_aprox_local_currency_new       222\n",
      "price_usd_per_m2_new                 835\n",
      "price_per_m2_new                   20028\n",
      "dtype: int64\n"
     ]
    }
   ],
   "source": [
    "print(data.isnull().sum())"
   ]
  },
  {
   "cell_type": "markdown",
   "metadata": {},
   "source": [
    "**A continuación creamos un nuevo df llamado *data_model* que incluye solo las columnas trabajadas.**\n",
    "De esta manera ya prescindimos de las 7 columnas mencionadas en el análisis preliminar (Unnamed: 0, Operation, place_with_parent_names, country_name, properati_url, image_thumbnail, expenses) y las 4 columnas que no fueron trabajadas (lat-lon, lat, lon y surface_covered_in_m2)."
   ]
  },
  {
   "cell_type": "code",
   "execution_count": 174,
   "metadata": {},
   "outputs": [],
   "source": [
    "data_model = data.filter(like='_new', axis=1)"
   ]
  },
  {
   "cell_type": "code",
   "execution_count": 175,
   "metadata": {},
   "outputs": [
    {
     "name": "stdout",
     "output_type": "stream",
     "text": [
      "(121217, 15)\n"
     ]
    },
    {
     "data": {
      "text/plain": [
       "place_name_new                        0\n",
       "geonames_id_new                   18694\n",
       "state_name_new                        0\n",
       "description_new                       0\n",
       "rooms_new                             0\n",
       "title_new                             0\n",
       "property_type_new                     0\n",
       "floor_new                         59267\n",
       "surface_total_in_m2_new             140\n",
       "currency_new                        223\n",
       "price_new                           222\n",
       "price_aprox_usd_new                 222\n",
       "price_aprox_local_currency_new      222\n",
       "price_usd_per_m2_new                835\n",
       "price_per_m2_new                  20028\n",
       "dtype: int64"
      ]
     },
     "execution_count": 175,
     "metadata": {},
     "output_type": "execute_result"
    }
   ],
   "source": [
    "print(data_model.shape) #26 columnas - 7 - 4 = 15\n",
    "data_model .isnull().sum()"
   ]
  },
  {
   "cell_type": "markdown",
   "metadata": {},
   "source": [
    "#### SECCION 4.1 - ELIMINACIÓN DE COLUMNAS"
   ]
  },
  {
   "cell_type": "markdown",
   "metadata": {},
   "source": [
    "A continuación prescindimos de aquellas columnas que luego de la limpieza aún tengan gran porcentaje de nulos, o que luego del análisis concluimos que no son importantes para entrenar el modelo. "
   ]
  },
  {
   "cell_type": "markdown",
   "metadata": {},
   "source": [
    "1. **'price_per_m2_new' y 'floor_new'**. Aunque se hicieron esfuerzos por llenar los nulos, no pudieron cubrirse todos, y para el analisis dichas columna no influyen significativamente.\n",
    "2. **'geonames_id_new'**. A pesar del análisis, no se pudieron recuperar todos los nulos. Por otra parte, esa información puede recuperarse de otras columnas ('place_name_new, state_name_new')\n",
    "3. **'price_aprox_usd_new'** no se toma en cuenta porque es igual a 'price_new', ya que se pasaron todos los valores a dólares"
   ]
  },
  {
   "cell_type": "code",
   "execution_count": 176,
   "metadata": {},
   "outputs": [
    {
     "data": {
      "text/plain": [
       "(121217, 11)"
      ]
     },
     "execution_count": 176,
     "metadata": {},
     "output_type": "execute_result"
    }
   ],
   "source": [
    "columnas_a_eliminar = [\"price_per_m2_new\",\"floor_new\", \"geonames_id_new\", \"price_aprox_usd_new\"]\n",
    "data_model = data_model.drop(columnas_a_eliminar, axis=1)\n",
    "data_model.shape"
   ]
  },
  {
   "cell_type": "markdown",
   "metadata": {},
   "source": [
    "#### SECCION 4.2 - ELIMINACIÓN DE REGISTROS"
   ]
  },
  {
   "cell_type": "markdown",
   "metadata": {},
   "source": [
    "A continuación procedemos a limpiar definititamente los registros que aún tienen nulos en determinadas variables, para poder hacer la martriz de correlación posteriormente. "
   ]
  },
  {
   "cell_type": "markdown",
   "metadata": {},
   "source": [
    "1. Registros con nulos en *currency_new*, ya que cuando esta es nula, son nulas todas las columnas referenciales al precio."
   ]
  },
  {
   "cell_type": "code",
   "execution_count": 177,
   "metadata": {},
   "outputs": [],
   "source": [
    "data_model.dropna(subset=['currency_new'], axis=0, inplace=True)"
   ]
  },
  {
   "cell_type": "code",
   "execution_count": 178,
   "metadata": {},
   "outputs": [
    {
     "name": "stdout",
     "output_type": "stream",
     "text": [
      "(120994, 11)\n"
     ]
    }
   ],
   "source": [
    "data_model.isnull().sum()\n",
    "print(data_model.shape)"
   ]
  },
  {
   "cell_type": "markdown",
   "metadata": {},
   "source": [
    "2. Registros con nulos en *price_new*. Sin el precio, no se puede realizar correctamente el análisis."
   ]
  },
  {
   "cell_type": "code",
   "execution_count": 179,
   "metadata": {},
   "outputs": [
    {
     "name": "stdout",
     "output_type": "stream",
     "text": [
      "(120994, 11)\n"
     ]
    }
   ],
   "source": [
    "data_model.dropna(subset=['price_new'], axis=0, inplace=True)\n",
    "print(data_model.shape)"
   ]
  },
  {
   "cell_type": "markdown",
   "metadata": {},
   "source": [
    "3. Registros con nulos en la columna 'price_usd_per_m2_new', ya que sin ellos no se puede realizar correctamente el análisis"
   ]
  },
  {
   "cell_type": "code",
   "execution_count": 180,
   "metadata": {},
   "outputs": [
    {
     "name": "stdout",
     "output_type": "stream",
     "text": [
      "(120381, 11)\n"
     ]
    }
   ],
   "source": [
    "data_model.dropna(subset=['price_usd_per_m2_new'], axis=0, inplace=True)\n",
    "print(data_model.shape)"
   ]
  },
  {
   "cell_type": "markdown",
   "metadata": {},
   "source": [
    "Verificamos que ahora ninguna columna contiene nulos:"
   ]
  },
  {
   "cell_type": "code",
   "execution_count": 181,
   "metadata": {},
   "outputs": [
    {
     "data": {
      "text/plain": [
       "place_name_new                    0\n",
       "state_name_new                    0\n",
       "description_new                   0\n",
       "rooms_new                         0\n",
       "title_new                         0\n",
       "property_type_new                 0\n",
       "surface_total_in_m2_new           0\n",
       "currency_new                      0\n",
       "price_new                         0\n",
       "price_aprox_local_currency_new    0\n",
       "price_usd_per_m2_new              0\n",
       "dtype: int64"
      ]
     },
     "execution_count": 181,
     "metadata": {},
     "output_type": "execute_result"
    }
   ],
   "source": [
    "data_model.isnull().sum()"
   ]
  },
  {
   "cell_type": "markdown",
   "metadata": {},
   "source": [
    "Y a continuación verificamos cuántos registros pudimos retener del dataset original."
   ]
  },
  {
   "cell_type": "code",
   "execution_count": 182,
   "metadata": {},
   "outputs": [
    {
     "name": "stdout",
     "output_type": "stream",
     "text": [
      "(121217, 44)\n",
      "(120381, 11)\n"
     ]
    }
   ],
   "source": [
    "print(data.shape)\n",
    "print(data_model.shape)"
   ]
  },
  {
   "cell_type": "code",
   "execution_count": 183,
   "metadata": {},
   "outputs": [
    {
     "name": "stdout",
     "output_type": "stream",
     "text": [
      "Porcentaje de registros válidos del modelo actual respecto al anterior:\n",
      "99.31 %\n"
     ]
    }
   ],
   "source": [
    "print(\"Porcentaje de registros válidos del modelo actual respecto al anterior:\")\n",
    "print(f\"{np.round((data_model.shape[0] / data.shape[0] * 100), 2)} %\")"
   ]
  },
  {
   "cell_type": "markdown",
   "metadata": {},
   "source": [
    "## SECCIÓN 5 - ANÁLISIS DE CORRELACIÓN"
   ]
  },
  {
   "cell_type": "markdown",
   "metadata": {},
   "source": [
    "En este caso no podemos usar la covarianza para estimar la relación entre variables, ya que tenemos diferentes unidaeddes de medida (m2, dolares, cantidad de rooms, etc). \n",
    "\n",
    "Con lo cual estimamos una matriz de correlación."
   ]
  },
  {
   "cell_type": "markdown",
   "metadata": {},
   "source": [
    "Para cacular correlaciones no puede haber nulos en las columnas. Seleccionamos solamente las columnas numéricas."
   ]
  },
  {
   "cell_type": "code",
   "execution_count": 184,
   "metadata": {},
   "outputs": [
    {
     "data": {
      "text/html": [
       "<div>\n",
       "<style scoped>\n",
       "    .dataframe tbody tr th:only-of-type {\n",
       "        vertical-align: middle;\n",
       "    }\n",
       "\n",
       "    .dataframe tbody tr th {\n",
       "        vertical-align: top;\n",
       "    }\n",
       "\n",
       "    .dataframe thead th {\n",
       "        text-align: right;\n",
       "    }\n",
       "</style>\n",
       "<table border=\"1\" class=\"dataframe\">\n",
       "  <thead>\n",
       "    <tr style=\"text-align: right;\">\n",
       "      <th></th>\n",
       "      <th>rooms_new</th>\n",
       "      <th>price_new</th>\n",
       "      <th>surface_total_in_m2_new</th>\n",
       "      <th>price_usd_per_m2_new</th>\n",
       "    </tr>\n",
       "  </thead>\n",
       "  <tbody>\n",
       "    <tr>\n",
       "      <th>rooms_new</th>\n",
       "      <td>1.000</td>\n",
       "      <td>0.173</td>\n",
       "      <td>0.194</td>\n",
       "      <td>-0.094</td>\n",
       "    </tr>\n",
       "    <tr>\n",
       "      <th>price_new</th>\n",
       "      <td>0.173</td>\n",
       "      <td>1.000</td>\n",
       "      <td>0.070</td>\n",
       "      <td>0.251</td>\n",
       "    </tr>\n",
       "    <tr>\n",
       "      <th>surface_total_in_m2_new</th>\n",
       "      <td>0.194</td>\n",
       "      <td>0.070</td>\n",
       "      <td>1.000</td>\n",
       "      <td>-0.042</td>\n",
       "    </tr>\n",
       "    <tr>\n",
       "      <th>price_usd_per_m2_new</th>\n",
       "      <td>-0.094</td>\n",
       "      <td>0.251</td>\n",
       "      <td>-0.042</td>\n",
       "      <td>1.000</td>\n",
       "    </tr>\n",
       "  </tbody>\n",
       "</table>\n",
       "</div>"
      ],
      "text/plain": [
       "                         rooms_new  price_new  surface_total_in_m2_new  \\\n",
       "rooms_new                    1.000      0.173                    0.194   \n",
       "price_new                    0.173      1.000                    0.070   \n",
       "surface_total_in_m2_new      0.194      0.070                    1.000   \n",
       "price_usd_per_m2_new        -0.094      0.251                   -0.042   \n",
       "\n",
       "                         price_usd_per_m2_new  \n",
       "rooms_new                              -0.094  \n",
       "price_new                               0.251  \n",
       "surface_total_in_m2_new                -0.042  \n",
       "price_usd_per_m2_new                    1.000  "
      ]
     },
     "execution_count": 184,
     "metadata": {},
     "output_type": "execute_result"
    }
   ],
   "source": [
    "matrix_corr = data_model[['rooms_new','price_new','surface_total_in_m2_new','price_usd_per_m2_new']].corr().round(3)\n",
    "matrix_corr"
   ]
  },
  {
   "cell_type": "markdown",
   "metadata": {},
   "source": [
    "Vemos que hay una correlaciones bajas por lo general, la correlacion mas alta obtenidad se da entre 'rooms_new' y 'surface_total_in_m2_new'"
   ]
  },
  {
   "cell_type": "markdown",
   "metadata": {},
   "source": [
    "* Se realiza un grafico para poder verlo con mayor claridad"
   ]
  },
  {
   "cell_type": "code",
   "execution_count": 185,
   "metadata": {},
   "outputs": [
    {
     "data": {
      "image/png": "[encoded data removed]",
      "text/plain": [
       "<Figure size 1000x800 with 2 Axes>"
      ]
     },
     "metadata": {},
     "output_type": "display_data"
    }
   ],
   "source": [
    "plt.figure(figsize=(10, 8))\n",
    "sns.heatmap(matrix_corr, annot=True, cmap='coolwarm', fmt='.2f', linewidths=.5)\n",
    "plt.title('Correlación entre columnas categóricas')\n",
    "plt.show()"
   ]
  },
  {
   "cell_type": "code",
   "execution_count": null,
   "metadata": {},
   "outputs": [],
   "source": []
  },
  {
   "cell_type": "code",
   "execution_count": 186,
   "metadata": {},
   "outputs": [],
   "source": [
    "# Se migra el modelo de datos\n",
    "\n",
    "data_model.to_csv('properatti_model_data')\n"
   ]
  },
  {
   "cell_type": "code",
   "execution_count": 187,
   "metadata": {},
   "outputs": [
    {
     "data": {
      "text/plain": [
       "Index(['place_name_new', 'state_name_new', 'description_new', 'rooms_new',\n",
       "       'title_new', 'property_type_new', 'surface_total_in_m2_new',\n",
       "       'currency_new', 'price_new', 'price_aprox_local_currency_new',\n",
       "       'price_usd_per_m2_new'],\n",
       "      dtype='object')"
      ]
     },
     "execution_count": 187,
     "metadata": {},
     "output_type": "execute_result"
    }
   ],
   "source": [
    "data_model.columns"
   ]
  },
  {
   "cell_type": "code",
   "execution_count": 188,
   "metadata": {},
   "outputs": [
    {
     "data": {
      "text/plain": [
       "place_name_new                     object\n",
       "state_name_new                     object\n",
       "description_new                    object\n",
       "rooms_new                         float64\n",
       "title_new                          object\n",
       "property_type_new                  object\n",
       "surface_total_in_m2_new           float64\n",
       "currency_new                       object\n",
       "price_new                         float64\n",
       "price_aprox_local_currency_new    float64\n",
       "price_usd_per_m2_new              float64\n",
       "dtype: object"
      ]
     },
     "execution_count": 188,
     "metadata": {},
     "output_type": "execute_result"
    }
   ],
   "source": [
    "data_model.dtypes"
   ]
  },
  {
   "cell_type": "code",
   "execution_count": 189,
   "metadata": {},
   "outputs": [
    {
     "data": {
      "text/html": [
       "<div>\n",
       "<style scoped>\n",
       "    .dataframe tbody tr th:only-of-type {\n",
       "        vertical-align: middle;\n",
       "    }\n",
       "\n",
       "    .dataframe tbody tr th {\n",
       "        vertical-align: top;\n",
       "    }\n",
       "\n",
       "    .dataframe thead th {\n",
       "        text-align: right;\n",
       "    }\n",
       "</style>\n",
       "<table border=\"1\" class=\"dataframe\">\n",
       "  <thead>\n",
       "    <tr style=\"text-align: right;\">\n",
       "      <th>property_type_new</th>\n",
       "      <th>PH</th>\n",
       "      <th>apartment</th>\n",
       "      <th>house</th>\n",
       "      <th>store</th>\n",
       "    </tr>\n",
       "    <tr>\n",
       "      <th>state_name_new</th>\n",
       "      <th></th>\n",
       "      <th></th>\n",
       "      <th></th>\n",
       "      <th></th>\n",
       "    </tr>\n",
       "  </thead>\n",
       "  <tbody>\n",
       "    <tr>\n",
       "      <th>Bs.As. G.B.A. Zona Norte</th>\n",
       "      <td>1405.829753</td>\n",
       "      <td>2808.091465</td>\n",
       "      <td>1307.196582</td>\n",
       "      <td>2136.347633</td>\n",
       "    </tr>\n",
       "    <tr>\n",
       "      <th>Bs.As. G.B.A. Zona Oeste</th>\n",
       "      <td>1227.907084</td>\n",
       "      <td>2054.301620</td>\n",
       "      <td>1064.527722</td>\n",
       "      <td>1645.811672</td>\n",
       "    </tr>\n",
       "    <tr>\n",
       "      <th>Bs.As. G.B.A. Zona Sur</th>\n",
       "      <td>1200.371609</td>\n",
       "      <td>1805.250167</td>\n",
       "      <td>1031.397724</td>\n",
       "      <td>2457.680678</td>\n",
       "    </tr>\n",
       "    <tr>\n",
       "      <th>Buenos Aires Costa Atlántica</th>\n",
       "      <td>1035.919957</td>\n",
       "      <td>1745.593526</td>\n",
       "      <td>672.935131</td>\n",
       "      <td>1177.694940</td>\n",
       "    </tr>\n",
       "    <tr>\n",
       "      <th>Buenos Aires Interior</th>\n",
       "      <td>1041.532877</td>\n",
       "      <td>1960.823905</td>\n",
       "      <td>693.650554</td>\n",
       "      <td>1127.729968</td>\n",
       "    </tr>\n",
       "    <tr>\n",
       "      <th>Capital Federal</th>\n",
       "      <td>1750.142726</td>\n",
       "      <td>3379.864925</td>\n",
       "      <td>1683.520110</td>\n",
       "      <td>2775.467511</td>\n",
       "    </tr>\n",
       "    <tr>\n",
       "      <th>Catamarca</th>\n",
       "      <td>NaN</td>\n",
       "      <td>15221.165000</td>\n",
       "      <td>789.810550</td>\n",
       "      <td>NaN</td>\n",
       "    </tr>\n",
       "    <tr>\n",
       "      <th>Chaco</th>\n",
       "      <td>NaN</td>\n",
       "      <td>1946.843030</td>\n",
       "      <td>524.351889</td>\n",
       "      <td>1219.879544</td>\n",
       "    </tr>\n",
       "    <tr>\n",
       "      <th>Chubut</th>\n",
       "      <td>1302.351938</td>\n",
       "      <td>1864.658705</td>\n",
       "      <td>1368.358974</td>\n",
       "      <td>2046.679164</td>\n",
       "    </tr>\n",
       "    <tr>\n",
       "      <th>Corrientes</th>\n",
       "      <td>1339.552994</td>\n",
       "      <td>1990.563889</td>\n",
       "      <td>780.373565</td>\n",
       "      <td>1688.778774</td>\n",
       "    </tr>\n",
       "    <tr>\n",
       "      <th>Córdoba</th>\n",
       "      <td>3096.054438</td>\n",
       "      <td>2154.173185</td>\n",
       "      <td>726.359580</td>\n",
       "      <td>1415.952349</td>\n",
       "    </tr>\n",
       "    <tr>\n",
       "      <th>Entre Ríos</th>\n",
       "      <td>1243.163664</td>\n",
       "      <td>2117.650237</td>\n",
       "      <td>765.738023</td>\n",
       "      <td>1607.544941</td>\n",
       "    </tr>\n",
       "    <tr>\n",
       "      <th>Formosa</th>\n",
       "      <td>NaN</td>\n",
       "      <td>1449.325723</td>\n",
       "      <td>1028.073081</td>\n",
       "      <td>NaN</td>\n",
       "    </tr>\n",
       "    <tr>\n",
       "      <th>Jujuy</th>\n",
       "      <td>NaN</td>\n",
       "      <td>5281.363010</td>\n",
       "      <td>541.527700</td>\n",
       "      <td>551.465789</td>\n",
       "    </tr>\n",
       "    <tr>\n",
       "      <th>La Pampa</th>\n",
       "      <td>NaN</td>\n",
       "      <td>1903.792582</td>\n",
       "      <td>1638.236246</td>\n",
       "      <td>722.166265</td>\n",
       "    </tr>\n",
       "    <tr>\n",
       "      <th>La Rioja</th>\n",
       "      <td>NaN</td>\n",
       "      <td>703.530520</td>\n",
       "      <td>140.350330</td>\n",
       "      <td>NaN</td>\n",
       "    </tr>\n",
       "    <tr>\n",
       "      <th>Mendoza</th>\n",
       "      <td>1107.874963</td>\n",
       "      <td>1698.830339</td>\n",
       "      <td>983.843866</td>\n",
       "      <td>1254.429701</td>\n",
       "    </tr>\n",
       "    <tr>\n",
       "      <th>Misiones</th>\n",
       "      <td>733.805820</td>\n",
       "      <td>1435.308114</td>\n",
       "      <td>404.686514</td>\n",
       "      <td>348.372941</td>\n",
       "    </tr>\n",
       "    <tr>\n",
       "      <th>Neuquén</th>\n",
       "      <td>1996.872245</td>\n",
       "      <td>3254.510323</td>\n",
       "      <td>1170.699444</td>\n",
       "      <td>3088.304281</td>\n",
       "    </tr>\n",
       "    <tr>\n",
       "      <th>Río Negro</th>\n",
       "      <td>2699.135334</td>\n",
       "      <td>2876.391345</td>\n",
       "      <td>1539.559373</td>\n",
       "      <td>1603.576135</td>\n",
       "    </tr>\n",
       "    <tr>\n",
       "      <th>Salta</th>\n",
       "      <td>2756.534612</td>\n",
       "      <td>4514.099349</td>\n",
       "      <td>1351.645275</td>\n",
       "      <td>1367.081394</td>\n",
       "    </tr>\n",
       "    <tr>\n",
       "      <th>San Juan</th>\n",
       "      <td>NaN</td>\n",
       "      <td>2206.227608</td>\n",
       "      <td>700.554708</td>\n",
       "      <td>185.061196</td>\n",
       "    </tr>\n",
       "    <tr>\n",
       "      <th>San Luis</th>\n",
       "      <td>779.172280</td>\n",
       "      <td>1603.717404</td>\n",
       "      <td>1365.401371</td>\n",
       "      <td>1105.258284</td>\n",
       "    </tr>\n",
       "    <tr>\n",
       "      <th>Santa Cruz</th>\n",
       "      <td>NaN</td>\n",
       "      <td>1035.701094</td>\n",
       "      <td>616.601217</td>\n",
       "      <td>420.627542</td>\n",
       "    </tr>\n",
       "    <tr>\n",
       "      <th>Santa Fe</th>\n",
       "      <td>1644.646003</td>\n",
       "      <td>2074.250656</td>\n",
       "      <td>640.190548</td>\n",
       "      <td>1961.938586</td>\n",
       "    </tr>\n",
       "    <tr>\n",
       "      <th>Santiago Del Estero</th>\n",
       "      <td>NaN</td>\n",
       "      <td>513.308136</td>\n",
       "      <td>344.924746</td>\n",
       "      <td>NaN</td>\n",
       "    </tr>\n",
       "    <tr>\n",
       "      <th>Tierra Del Fuego</th>\n",
       "      <td>NaN</td>\n",
       "      <td>1610.485724</td>\n",
       "      <td>769.871670</td>\n",
       "      <td>788.261165</td>\n",
       "    </tr>\n",
       "    <tr>\n",
       "      <th>Tucumán</th>\n",
       "      <td>953.334900</td>\n",
       "      <td>2306.140788</td>\n",
       "      <td>702.523771</td>\n",
       "      <td>1747.932918</td>\n",
       "    </tr>\n",
       "  </tbody>\n",
       "</table>\n",
       "</div>"
      ],
      "text/plain": [
       "property_type_new                      PH     apartment        house  \\\n",
       "state_name_new                                                         \n",
       "Bs.As. G.B.A. Zona Norte      1405.829753   2808.091465  1307.196582   \n",
       "Bs.As. G.B.A. Zona Oeste      1227.907084   2054.301620  1064.527722   \n",
       "Bs.As. G.B.A. Zona Sur        1200.371609   1805.250167  1031.397724   \n",
       "Buenos Aires Costa Atlántica  1035.919957   1745.593526   672.935131   \n",
       "Buenos Aires Interior         1041.532877   1960.823905   693.650554   \n",
       "Capital Federal               1750.142726   3379.864925  1683.520110   \n",
       "Catamarca                             NaN  15221.165000   789.810550   \n",
       "Chaco                                 NaN   1946.843030   524.351889   \n",
       "Chubut                        1302.351938   1864.658705  1368.358974   \n",
       "Corrientes                    1339.552994   1990.563889   780.373565   \n",
       "Córdoba                       3096.054438   2154.173185   726.359580   \n",
       "Entre Ríos                    1243.163664   2117.650237   765.738023   \n",
       "Formosa                               NaN   1449.325723  1028.073081   \n",
       "Jujuy                                 NaN   5281.363010   541.527700   \n",
       "La Pampa                              NaN   1903.792582  1638.236246   \n",
       "La Rioja                              NaN    703.530520   140.350330   \n",
       "Mendoza                       1107.874963   1698.830339   983.843866   \n",
       "Misiones                       733.805820   1435.308114   404.686514   \n",
       "Neuquén                       1996.872245   3254.510323  1170.699444   \n",
       "Río Negro                     2699.135334   2876.391345  1539.559373   \n",
       "Salta                         2756.534612   4514.099349  1351.645275   \n",
       "San Juan                              NaN   2206.227608   700.554708   \n",
       "San Luis                       779.172280   1603.717404  1365.401371   \n",
       "Santa Cruz                            NaN   1035.701094   616.601217   \n",
       "Santa Fe                      1644.646003   2074.250656   640.190548   \n",
       "Santiago Del Estero                   NaN    513.308136   344.924746   \n",
       "Tierra Del Fuego                      NaN   1610.485724   769.871670   \n",
       "Tucumán                        953.334900   2306.140788   702.523771   \n",
       "\n",
       "property_type_new                   store  \n",
       "state_name_new                             \n",
       "Bs.As. G.B.A. Zona Norte      2136.347633  \n",
       "Bs.As. G.B.A. Zona Oeste      1645.811672  \n",
       "Bs.As. G.B.A. Zona Sur        2457.680678  \n",
       "Buenos Aires Costa Atlántica  1177.694940  \n",
       "Buenos Aires Interior         1127.729968  \n",
       "Capital Federal               2775.467511  \n",
       "Catamarca                             NaN  \n",
       "Chaco                         1219.879544  \n",
       "Chubut                        2046.679164  \n",
       "Corrientes                    1688.778774  \n",
       "Córdoba                       1415.952349  \n",
       "Entre Ríos                    1607.544941  \n",
       "Formosa                               NaN  \n",
       "Jujuy                          551.465789  \n",
       "La Pampa                       722.166265  \n",
       "La Rioja                              NaN  \n",
       "Mendoza                       1254.429701  \n",
       "Misiones                       348.372941  \n",
       "Neuquén                       3088.304281  \n",
       "Río Negro                     1603.576135  \n",
       "Salta                         1367.081394  \n",
       "San Juan                       185.061196  \n",
       "San Luis                      1105.258284  \n",
       "Santa Cruz                     420.627542  \n",
       "Santa Fe                      1961.938586  \n",
       "Santiago Del Estero                   NaN  \n",
       "Tierra Del Fuego               788.261165  \n",
       "Tucumán                       1747.932918  "
      ]
     },
     "execution_count": 189,
     "metadata": {},
     "output_type": "execute_result"
    }
   ],
   "source": [
    "#pivot_analisis_model = data.pivot_table('price_usd_per_m2_new' , index = ['state_name_new', 'place_name_new', 'property_type']).sort_values(by=['state_name_new','place_name_new','property_type'\t], ascending=False)\n",
    "\n",
    "pivot_analisis_model = data_model.pivot_table('price_usd_per_m2_new' , index = ['state_name_new'], columns='property_type_new')\n",
    "pivot_analisis_model"
   ]
  },
  {
   "cell_type": "code",
   "execution_count": 190,
   "metadata": {},
   "outputs": [
    {
     "name": "stdout",
     "output_type": "stream",
     "text": [
      "838.7096774193549\n",
      "2360.0\n",
      "4641.935483870968\n",
      "-1443.225806451613\n"
     ]
    }
   ],
   "source": [
    "# ver de hacer con el resto de outliers, para rooms, surface_total_in_m2\n",
    "df=data_model\n",
    "\n",
    "precio_usd=df[\"price_usd_per_m2_new\"]\n",
    "precio_usd\n",
    "\n",
    "q1 = precio_usd.quantile(0.25)\n",
    "print(q1)\n",
    "\n",
    "q3 = precio_usd.quantile(0.75)\n",
    "print(q3)\n",
    "\n",
    "iqr = (q3 - q1) * 1.5\n",
    "\n",
    "limite_sup = q3 + iqr\n",
    "limite_inf = q1 - iqr\n",
    "print(limite_sup)\n",
    "print(limite_inf)\n",
    "outlier_mask_up= precio_usd > limite_sup\n",
    "outlier_mask_down = precio_usd < limite_inf\n",
    "outlier_mask = np.logical_or(outlier_mask_up, outlier_mask_down)"
   ]
  },
  {
   "cell_type": "code",
   "execution_count": 193,
   "metadata": {},
   "outputs": [
    {
     "data": {
      "text/plain": [
       "Index(['place_name_new', 'state_name_new', 'description_new', 'rooms_new',\n",
       "       'title_new', 'property_type_new', 'surface_total_in_m2_new',\n",
       "       'currency_new', 'price_new', 'price_aprox_local_currency_new',\n",
       "       'price_usd_per_m2_new'],\n",
       "      dtype='object')"
      ]
     },
     "execution_count": 193,
     "metadata": {},
     "output_type": "execute_result"
    }
   ],
   "source": [
    "data_model.columns"
   ]
  },
  {
   "cell_type": "code",
   "execution_count": 194,
   "metadata": {},
   "outputs": [
    {
     "data": {
      "text/plain": [
       "Index(['Unnamed: 0', 'operation', 'property_type', 'place_name',\n",
       "       'place_with_parent_names', 'country_name', 'state_name', 'geonames_id',\n",
       "       'lat-lon', 'lat', 'lon', 'price', 'currency',\n",
       "       'price_aprox_local_currency', 'price_aprox_usd', 'surface_total_in_m2',\n",
       "       'surface_covered_in_m2', 'price_usd_per_m2', 'price_per_m2', 'floor',\n",
       "       'rooms', 'expenses', 'properati_url', 'description', 'title',\n",
       "       'image_thumbnail', 'place_name_new', 'geonames_id_new',\n",
       "       'state_name_new', 'description_new', 'rooms_new', 'title_new',\n",
       "       'property_type_new', 'floor_null', 'floor_null_property',\n",
       "       'porc_nulos_x_property', 'floor_new', 'surface_total_in_m2_new',\n",
       "       'currency_new', 'price_new', 'price_aprox_usd_new',\n",
       "       'price_aprox_local_currency_new', 'price_usd_per_m2_new',\n",
       "       'price_per_m2_new'],\n",
       "      dtype='object')"
      ]
     },
     "execution_count": 194,
     "metadata": {},
     "output_type": "execute_result"
    }
   ],
   "source": [
    "data.columns"
   ]
  },
  {
   "cell_type": "code",
   "execution_count": 197,
   "metadata": {},
   "outputs": [
    {
     "data": {
      "text/plain": [
       "19904"
      ]
     },
     "execution_count": 197,
     "metadata": {},
     "output_type": "execute_result"
    }
   ],
   "source": [
    "data.surface_covered_in_m2.isnull().sum()"
   ]
  },
  {
   "cell_type": "code",
   "execution_count": 191,
   "metadata": {},
   "outputs": [
    {
     "ename": "SyntaxError",
     "evalue": "invalid syntax (3426393674.py, line 5)",
     "output_type": "error",
     "traceback": [
      "\u001b[1;36m  Cell \u001b[1;32mIn[191], line 5\u001b[1;36m\u001b[0m\n\u001b[1;33m    X = data[]\u001b[0m\n\u001b[1;37m             ^\u001b[0m\n\u001b[1;31mSyntaxError\u001b[0m\u001b[1;31m:\u001b[0m invalid syntax\n"
     ]
    }
   ],
   "source": [
    "# modelo\n",
    "data_model.head(10)\n",
    "\n",
    "features = []\n",
    "X = data[]\n",
    "y = data_model.price_usd_per_m2_new\n",
    "\n"
   ]
  },
  {
   "cell_type": "code",
   "execution_count": 199,
   "metadata": {},
   "outputs": [
    {
     "data": {
      "text/plain": [
       "Index(['Unnamed: 0', 'operation', 'property_type', 'place_name',\n",
       "       'place_with_parent_names', 'country_name', 'state_name', 'geonames_id',\n",
       "       'lat-lon', 'lat', 'lon', 'price', 'currency',\n",
       "       'price_aprox_local_currency', 'price_aprox_usd', 'surface_total_in_m2',\n",
       "       'surface_covered_in_m2', 'price_usd_per_m2', 'price_per_m2', 'floor',\n",
       "       'rooms', 'expenses', 'properati_url', 'description', 'title',\n",
       "       'image_thumbnail', 'place_name_new', 'geonames_id_new',\n",
       "       'state_name_new', 'description_new', 'rooms_new', 'title_new',\n",
       "       'property_type_new', 'floor_null', 'floor_null_property',\n",
       "       'porc_nulos_x_property', 'floor_new', 'surface_total_in_m2_new',\n",
       "       'currency_new', 'price_new', 'price_aprox_usd_new',\n",
       "       'price_aprox_local_currency_new', 'price_usd_per_m2_new',\n",
       "       'price_per_m2_new'],\n",
       "      dtype='object')"
      ]
     },
     "execution_count": 199,
     "metadata": {},
     "output_type": "execute_result"
    }
   ],
   "source": [
    "data.columns"
   ]
  },
  {
   "cell_type": "code",
   "execution_count": 206,
   "metadata": {},
   "outputs": [],
   "source": [
    "data['surface_covered_in_m2_new'] = data['surface_covered_in_m2']"
   ]
  },
  {
   "cell_type": "code",
   "execution_count": 209,
   "metadata": {},
   "outputs": [],
   "source": [
    "# Crear un nuevo DataFrame para almacenar los valores sin outliers\n",
    "df_no_outliers_surface = pd.DataFrame()\n",
    "\n",
    "# Iterar sobre cada tipo de propiedad\n",
    "for property_type, group in data.groupby('property_type_new'):\n",
    "    # Calcular los límites para detectar outliers en surface_covered_in_m2\n",
    "    q1_covered = group['surface_covered_in_m2_new'].quantile(0.25)\n",
    "    q3_covered = group['surface_covered_in_m2_new'].quantile(0.75)\n",
    "    iqr_covered = q3_covered - q1_covered\n",
    "    lower_bound_covered = q1_covered - 1.5 * iqr_covered\n",
    "    upper_bound_covered = q3_covered + 1.5 * iqr_covered\n",
    "\n",
    "    # Calcular los límites para detectar outliers en surface_total_in_m2\n",
    "    q1_total = group['surface_total_in_m2_new'].quantile(0.25)\n",
    "    q3_total = group['surface_total_in_m2_new'].quantile(0.75)\n",
    "    iqr_total = q3_total - q1_total\n",
    "    lower_bound_total = q1_total - 1.5 * iqr_total\n",
    "    upper_bound_total = q3_total + 1.5 * iqr_total\n",
    "\n",
    "    # Filtrar los datos dentro de los límites para surface_covered_in_m2 y surface_total_in_m2\n",
    "    filtered_data_covered = group[(group['surface_covered_in_m2_new'] >= lower_bound_covered) & (group['surface_covered_in_m2_new'] <= upper_bound_covered)]\n",
    "    filtered_data_total = group[(group['surface_total_in_m2_new'] >= lower_bound_total) & (group['surface_total_in_m2_new'] <= upper_bound_total)]\n",
    "\n",
    "    # Agregar los datos filtrados al nuevo DataFrame\n",
    "    df_no_outliers_surface = pd.concat([df_no_outliers_surface, filtered_data_covered, filtered_data_total])\n",
    "\n",
    "# En versiones anteriores este código nos generaba valores duplicados, así que procedemos a dropearlos\n",
    "df_no_outliers_surface= df_no_outliers_surface.drop_duplicates()\n",
    "\n",
    "# Reemplazar el DataFrame original con el DataFrame limpio\n",
    "data = df_no_outliers_surface\n"
   ]
  },
  {
   "cell_type": "code",
   "execution_count": 211,
   "metadata": {},
   "outputs": [
    {
     "data": {
      "text/plain": [
       "18990"
      ]
     },
     "execution_count": 211,
     "metadata": {},
     "output_type": "execute_result"
    }
   ],
   "source": [
    "data.surface_covered_in_m2.isnull().sum()"
   ]
  },
  {
   "cell_type": "code",
   "execution_count": 210,
   "metadata": {},
   "outputs": [
    {
     "data": {
      "text/plain": [
       "18990"
      ]
     },
     "execution_count": 210,
     "metadata": {},
     "output_type": "execute_result"
    }
   ],
   "source": [
    "data.surface_covered_in_m2_new.isnull().sum()"
   ]
  },
  {
   "cell_type": "code",
   "execution_count": 215,
   "metadata": {},
   "outputs": [],
   "source": [
    "# Calculamos las diferencias por tipo de propiedad\n",
    "data['difference_by_property'] = data.groupby('property_type_new')['surface_total_in_m2_new'].transform('mean') - data.groupby('property_type_new')['surface_covered_in_m2_new'].transform('mean')\n",
    "\n",
    "# Imputamos los valores faltantes en 'surface_covered_in_m2' usando la diferencia por propiedad\n",
    "data['surface_covered_in_m2_new'].fillna(data['surface_total_in_m2_new'] - data['difference_by_property'], inplace=True)\n",
    "\n",
    "# Imputamos los valores faltantes en 'surface_total_in_m2' usando la diferencia por propiedad\n",
    "data['surface_total_in_m2'].fillna(data['surface_covered_in_m2'] + data['difference_by_property'], inplace=True)\n",
    "\n",
    "# Elimina la columna intermedia utilizada para la imputación\n",
    "data.drop('difference_by_property', axis=1, inplace=True)\n",
    "\n",
    "# Ahora, 'surface_covered_in_m2' y 'surface_total_in_m2' contienen los valores imputados considerando la diferencia por tipo de propiedad"
   ]
  },
  {
   "cell_type": "code",
   "execution_count": 216,
   "metadata": {},
   "outputs": [
    {
     "data": {
      "text/plain": [
       "18990"
      ]
     },
     "execution_count": 216,
     "metadata": {},
     "output_type": "execute_result"
    }
   ],
   "source": [
    "data.surface_covered_in_m2.isnull().sum()"
   ]
  },
  {
   "cell_type": "code",
   "execution_count": 217,
   "metadata": {},
   "outputs": [
    {
     "data": {
      "text/plain": [
       "0"
      ]
     },
     "execution_count": 217,
     "metadata": {},
     "output_type": "execute_result"
    }
   ],
   "source": [
    "data.surface_covered_in_m2_new.isnull().sum()"
   ]
  },
  {
   "cell_type": "code",
   "execution_count": 218,
   "metadata": {},
   "outputs": [
    {
     "data": {
      "text/plain": [
       "11873"
      ]
     },
     "execution_count": 218,
     "metadata": {},
     "output_type": "execute_result"
    }
   ],
   "source": [
    "data.surface_total_in_m2.isnull().sum()"
   ]
  },
  {
   "cell_type": "code",
   "execution_count": 219,
   "metadata": {},
   "outputs": [
    {
     "data": {
      "text/plain": [
       "91"
      ]
     },
     "execution_count": 219,
     "metadata": {},
     "output_type": "execute_result"
    }
   ],
   "source": [
    "data.surface_total_in_m2_new.isnull().sum()"
   ]
  },
  {
   "cell_type": "code",
   "execution_count": 220,
   "metadata": {},
   "outputs": [
    {
     "data": {
      "text/plain": [
       "Unnamed: 0                             0\n",
       "operation                              0\n",
       "property_type                          0\n",
       "place_name                            23\n",
       "place_with_parent_names                0\n",
       "country_name                           0\n",
       "state_name                             0\n",
       "geonames_id                        18133\n",
       "lat-lon                            50129\n",
       "lat                                50129\n",
       "lon                                50129\n",
       "price                              19506\n",
       "currency                           19507\n",
       "price_aprox_local_currency         19506\n",
       "price_aprox_usd                    19506\n",
       "surface_total_in_m2                11873\n",
       "surface_covered_in_m2              18990\n",
       "price_usd_per_m2                   51257\n",
       "price_per_m2                       32166\n",
       "floor                             109145\n",
       "rooms                              71754\n",
       "expenses                          103342\n",
       "properati_url                          0\n",
       "description                            2\n",
       "title                                  0\n",
       "image_thumbnail                     3068\n",
       "place_name_new                         0\n",
       "geonames_id_new                    18111\n",
       "state_name_new                         0\n",
       "description_new                        0\n",
       "rooms_new                              0\n",
       "title_new                              0\n",
       "property_type_new                      0\n",
       "floor_null                             0\n",
       "floor_null_property                    0\n",
       "porc_nulos_x_property                  0\n",
       "floor_new                          56429\n",
       "surface_total_in_m2_new               91\n",
       "currency_new                         204\n",
       "price_new                            203\n",
       "price_aprox_usd_new                  203\n",
       "price_aprox_local_currency_new       203\n",
       "price_usd_per_m2_new                 769\n",
       "price_per_m2_new                   19106\n",
       "surface_covered_in_m2_new              0\n",
       "dtype: int64"
      ]
     },
     "execution_count": 220,
     "metadata": {},
     "output_type": "execute_result"
    }
   ],
   "source": [
    "data.isnull().sum()"
   ]
  },
  {
   "cell_type": "code",
   "execution_count": null,
   "metadata": {},
   "outputs": [],
   "source": []
  }
 ],
 "metadata": {
  "kernelspec": {
   "display_name": "Python 3 (ipykernel)",
   "language": "python",
   "name": "python3"
  },
  "language_info": {
   "codemirror_mode": {
    "name": "ipython",
    "version": 3
   },
   "file_extension": ".py",
   "mimetype": "text/x-python",
   "name": "python",
   "nbconvert_exporter": "python",
   "pygments_lexer": "ipython3",
   "version": "3.8.12"
  }
 },
 "nbformat": 4,
 "nbformat_minor": 4
}
